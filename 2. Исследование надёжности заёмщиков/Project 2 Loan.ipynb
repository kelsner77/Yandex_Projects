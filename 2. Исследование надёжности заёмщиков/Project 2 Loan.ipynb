{
 "cells": [
  {
   "cell_type": "markdown",
   "metadata": {},
   "source": [
    "# Исследование надёжности заёмщиков — анализ банковских данных\n",
    "\n",
    "Заказчик — кредитный отдел банка. Нужно разобраться, влияет ли семейное положение и количество детей клиента на факт погашения кредита в срок. Входные данные от банка — статистика о платёжеспособности клиентов.\n",
    "\n",
    "Результаты исследования будут учтены при построении модели **кредитного скоринга** — специальной системы, которая оценивает способность потенциального заёмщика вернуть кредит банку."
   ]
  },
  {
   "cell_type": "markdown",
   "metadata": {},
   "source": [
    "## Шаг 1. Изучение общей информации"
   ]
  },
  {
   "cell_type": "code",
   "execution_count": 1,
   "metadata": {},
   "outputs": [],
   "source": [
    "# импорт библиотеки pandas\n",
    "import pandas as pd"
   ]
  },
  {
   "cell_type": "code",
   "execution_count": 2,
   "metadata": {},
   "outputs": [],
   "source": [
    "# чтение файла с данными и сохранение в df\n",
    "df = pd.read_csv('/datasets/data.csv')"
   ]
  },
  {
   "cell_type": "code",
   "execution_count": 3,
   "metadata": {},
   "outputs": [
    {
     "data": {
      "text/html": [
       "<div>\n",
       "<style scoped>\n",
       "    .dataframe tbody tr th:only-of-type {\n",
       "        vertical-align: middle;\n",
       "    }\n",
       "\n",
       "    .dataframe tbody tr th {\n",
       "        vertical-align: top;\n",
       "    }\n",
       "\n",
       "    .dataframe thead th {\n",
       "        text-align: right;\n",
       "    }\n",
       "</style>\n",
       "<table border=\"1\" class=\"dataframe\">\n",
       "  <thead>\n",
       "    <tr style=\"text-align: right;\">\n",
       "      <th></th>\n",
       "      <th>children</th>\n",
       "      <th>days_employed</th>\n",
       "      <th>dob_years</th>\n",
       "      <th>education</th>\n",
       "      <th>education_id</th>\n",
       "      <th>family_status</th>\n",
       "      <th>family_status_id</th>\n",
       "      <th>gender</th>\n",
       "      <th>income_type</th>\n",
       "      <th>debt</th>\n",
       "      <th>total_income</th>\n",
       "      <th>purpose</th>\n",
       "    </tr>\n",
       "  </thead>\n",
       "  <tbody>\n",
       "    <tr>\n",
       "      <td>0</td>\n",
       "      <td>1</td>\n",
       "      <td>-8437.673028</td>\n",
       "      <td>42</td>\n",
       "      <td>высшее</td>\n",
       "      <td>0</td>\n",
       "      <td>женат / замужем</td>\n",
       "      <td>0</td>\n",
       "      <td>F</td>\n",
       "      <td>сотрудник</td>\n",
       "      <td>0</td>\n",
       "      <td>253875.639453</td>\n",
       "      <td>покупка жилья</td>\n",
       "    </tr>\n",
       "    <tr>\n",
       "      <td>1</td>\n",
       "      <td>1</td>\n",
       "      <td>-4024.803754</td>\n",
       "      <td>36</td>\n",
       "      <td>среднее</td>\n",
       "      <td>1</td>\n",
       "      <td>женат / замужем</td>\n",
       "      <td>0</td>\n",
       "      <td>F</td>\n",
       "      <td>сотрудник</td>\n",
       "      <td>0</td>\n",
       "      <td>112080.014102</td>\n",
       "      <td>приобретение автомобиля</td>\n",
       "    </tr>\n",
       "    <tr>\n",
       "      <td>2</td>\n",
       "      <td>0</td>\n",
       "      <td>-5623.422610</td>\n",
       "      <td>33</td>\n",
       "      <td>Среднее</td>\n",
       "      <td>1</td>\n",
       "      <td>женат / замужем</td>\n",
       "      <td>0</td>\n",
       "      <td>M</td>\n",
       "      <td>сотрудник</td>\n",
       "      <td>0</td>\n",
       "      <td>145885.952297</td>\n",
       "      <td>покупка жилья</td>\n",
       "    </tr>\n",
       "    <tr>\n",
       "      <td>3</td>\n",
       "      <td>3</td>\n",
       "      <td>-4124.747207</td>\n",
       "      <td>32</td>\n",
       "      <td>среднее</td>\n",
       "      <td>1</td>\n",
       "      <td>женат / замужем</td>\n",
       "      <td>0</td>\n",
       "      <td>M</td>\n",
       "      <td>сотрудник</td>\n",
       "      <td>0</td>\n",
       "      <td>267628.550329</td>\n",
       "      <td>дополнительное образование</td>\n",
       "    </tr>\n",
       "    <tr>\n",
       "      <td>4</td>\n",
       "      <td>0</td>\n",
       "      <td>340266.072047</td>\n",
       "      <td>53</td>\n",
       "      <td>среднее</td>\n",
       "      <td>1</td>\n",
       "      <td>гражданский брак</td>\n",
       "      <td>1</td>\n",
       "      <td>F</td>\n",
       "      <td>пенсионер</td>\n",
       "      <td>0</td>\n",
       "      <td>158616.077870</td>\n",
       "      <td>сыграть свадьбу</td>\n",
       "    </tr>\n",
       "    <tr>\n",
       "      <td>5</td>\n",
       "      <td>0</td>\n",
       "      <td>-926.185831</td>\n",
       "      <td>27</td>\n",
       "      <td>высшее</td>\n",
       "      <td>0</td>\n",
       "      <td>гражданский брак</td>\n",
       "      <td>1</td>\n",
       "      <td>M</td>\n",
       "      <td>компаньон</td>\n",
       "      <td>0</td>\n",
       "      <td>255763.565419</td>\n",
       "      <td>покупка жилья</td>\n",
       "    </tr>\n",
       "    <tr>\n",
       "      <td>6</td>\n",
       "      <td>0</td>\n",
       "      <td>-2879.202052</td>\n",
       "      <td>43</td>\n",
       "      <td>высшее</td>\n",
       "      <td>0</td>\n",
       "      <td>женат / замужем</td>\n",
       "      <td>0</td>\n",
       "      <td>F</td>\n",
       "      <td>компаньон</td>\n",
       "      <td>0</td>\n",
       "      <td>240525.971920</td>\n",
       "      <td>операции с жильем</td>\n",
       "    </tr>\n",
       "    <tr>\n",
       "      <td>7</td>\n",
       "      <td>0</td>\n",
       "      <td>-152.779569</td>\n",
       "      <td>50</td>\n",
       "      <td>СРЕДНЕЕ</td>\n",
       "      <td>1</td>\n",
       "      <td>женат / замужем</td>\n",
       "      <td>0</td>\n",
       "      <td>M</td>\n",
       "      <td>сотрудник</td>\n",
       "      <td>0</td>\n",
       "      <td>135823.934197</td>\n",
       "      <td>образование</td>\n",
       "    </tr>\n",
       "    <tr>\n",
       "      <td>8</td>\n",
       "      <td>2</td>\n",
       "      <td>-6929.865299</td>\n",
       "      <td>35</td>\n",
       "      <td>ВЫСШЕЕ</td>\n",
       "      <td>0</td>\n",
       "      <td>гражданский брак</td>\n",
       "      <td>1</td>\n",
       "      <td>F</td>\n",
       "      <td>сотрудник</td>\n",
       "      <td>0</td>\n",
       "      <td>95856.832424</td>\n",
       "      <td>на проведение свадьбы</td>\n",
       "    </tr>\n",
       "    <tr>\n",
       "      <td>9</td>\n",
       "      <td>0</td>\n",
       "      <td>-2188.756445</td>\n",
       "      <td>41</td>\n",
       "      <td>среднее</td>\n",
       "      <td>1</td>\n",
       "      <td>женат / замужем</td>\n",
       "      <td>0</td>\n",
       "      <td>M</td>\n",
       "      <td>сотрудник</td>\n",
       "      <td>0</td>\n",
       "      <td>144425.938277</td>\n",
       "      <td>покупка жилья для семьи</td>\n",
       "    </tr>\n",
       "  </tbody>\n",
       "</table>\n",
       "</div>"
      ],
      "text/plain": [
       "   children  days_employed  dob_years education  education_id  \\\n",
       "0         1   -8437.673028         42    высшее             0   \n",
       "1         1   -4024.803754         36   среднее             1   \n",
       "2         0   -5623.422610         33   Среднее             1   \n",
       "3         3   -4124.747207         32   среднее             1   \n",
       "4         0  340266.072047         53   среднее             1   \n",
       "5         0    -926.185831         27    высшее             0   \n",
       "6         0   -2879.202052         43    высшее             0   \n",
       "7         0    -152.779569         50   СРЕДНЕЕ             1   \n",
       "8         2   -6929.865299         35    ВЫСШЕЕ             0   \n",
       "9         0   -2188.756445         41   среднее             1   \n",
       "\n",
       "      family_status  family_status_id gender income_type  debt   total_income  \\\n",
       "0   женат / замужем                 0      F   сотрудник     0  253875.639453   \n",
       "1   женат / замужем                 0      F   сотрудник     0  112080.014102   \n",
       "2   женат / замужем                 0      M   сотрудник     0  145885.952297   \n",
       "3   женат / замужем                 0      M   сотрудник     0  267628.550329   \n",
       "4  гражданский брак                 1      F   пенсионер     0  158616.077870   \n",
       "5  гражданский брак                 1      M   компаньон     0  255763.565419   \n",
       "6   женат / замужем                 0      F   компаньон     0  240525.971920   \n",
       "7   женат / замужем                 0      M   сотрудник     0  135823.934197   \n",
       "8  гражданский брак                 1      F   сотрудник     0   95856.832424   \n",
       "9   женат / замужем                 0      M   сотрудник     0  144425.938277   \n",
       "\n",
       "                      purpose  \n",
       "0               покупка жилья  \n",
       "1     приобретение автомобиля  \n",
       "2               покупка жилья  \n",
       "3  дополнительное образование  \n",
       "4             сыграть свадьбу  \n",
       "5               покупка жилья  \n",
       "6           операции с жильем  \n",
       "7                 образование  \n",
       "8       на проведение свадьбы  \n",
       "9     покупка жилья для семьи  "
      ]
     },
     "metadata": {},
     "output_type": "display_data"
    }
   ],
   "source": [
    "# получение первых 10 строк таблицы df\n",
    "display(df.head(10))"
   ]
  },
  {
   "cell_type": "code",
   "execution_count": 4,
   "metadata": {},
   "outputs": [
    {
     "name": "stdout",
     "output_type": "stream",
     "text": [
      "<class 'pandas.core.frame.DataFrame'>\n",
      "RangeIndex: 21525 entries, 0 to 21524\n",
      "Data columns (total 12 columns):\n",
      "children            21525 non-null int64\n",
      "days_employed       19351 non-null float64\n",
      "dob_years           21525 non-null int64\n",
      "education           21525 non-null object\n",
      "education_id        21525 non-null int64\n",
      "family_status       21525 non-null object\n",
      "family_status_id    21525 non-null int64\n",
      "gender              21525 non-null object\n",
      "income_type         21525 non-null object\n",
      "debt                21525 non-null int64\n",
      "total_income        19351 non-null float64\n",
      "purpose             21525 non-null object\n",
      "dtypes: float64(2), int64(5), object(5)\n",
      "memory usage: 2.0+ MB\n"
     ]
    }
   ],
   "source": [
    "# получение общей информации о данных в таблице df\n",
    "df.info()"
   ]
  },
  {
   "cell_type": "code",
   "execution_count": 5,
   "metadata": {},
   "outputs": [
    {
     "data": {
      "text/html": [
       "<div>\n",
       "<style scoped>\n",
       "    .dataframe tbody tr th:only-of-type {\n",
       "        vertical-align: middle;\n",
       "    }\n",
       "\n",
       "    .dataframe tbody tr th {\n",
       "        vertical-align: top;\n",
       "    }\n",
       "\n",
       "    .dataframe thead th {\n",
       "        text-align: right;\n",
       "    }\n",
       "</style>\n",
       "<table border=\"1\" class=\"dataframe\">\n",
       "  <thead>\n",
       "    <tr style=\"text-align: right;\">\n",
       "      <th></th>\n",
       "      <th>children</th>\n",
       "      <th>days_employed</th>\n",
       "      <th>dob_years</th>\n",
       "      <th>education_id</th>\n",
       "      <th>family_status_id</th>\n",
       "      <th>debt</th>\n",
       "      <th>total_income</th>\n",
       "    </tr>\n",
       "  </thead>\n",
       "  <tbody>\n",
       "    <tr>\n",
       "      <td>count</td>\n",
       "      <td>21525.000000</td>\n",
       "      <td>19351.000000</td>\n",
       "      <td>21525.000000</td>\n",
       "      <td>21525.000000</td>\n",
       "      <td>21525.000000</td>\n",
       "      <td>21525.000000</td>\n",
       "      <td>1.935100e+04</td>\n",
       "    </tr>\n",
       "    <tr>\n",
       "      <td>mean</td>\n",
       "      <td>0.538908</td>\n",
       "      <td>63046.497661</td>\n",
       "      <td>43.293380</td>\n",
       "      <td>0.817236</td>\n",
       "      <td>0.972544</td>\n",
       "      <td>0.080883</td>\n",
       "      <td>1.674223e+05</td>\n",
       "    </tr>\n",
       "    <tr>\n",
       "      <td>std</td>\n",
       "      <td>1.381587</td>\n",
       "      <td>140827.311974</td>\n",
       "      <td>12.574584</td>\n",
       "      <td>0.548138</td>\n",
       "      <td>1.420324</td>\n",
       "      <td>0.272661</td>\n",
       "      <td>1.029716e+05</td>\n",
       "    </tr>\n",
       "    <tr>\n",
       "      <td>min</td>\n",
       "      <td>-1.000000</td>\n",
       "      <td>-18388.949901</td>\n",
       "      <td>0.000000</td>\n",
       "      <td>0.000000</td>\n",
       "      <td>0.000000</td>\n",
       "      <td>0.000000</td>\n",
       "      <td>2.066726e+04</td>\n",
       "    </tr>\n",
       "    <tr>\n",
       "      <td>25%</td>\n",
       "      <td>0.000000</td>\n",
       "      <td>-2747.423625</td>\n",
       "      <td>33.000000</td>\n",
       "      <td>1.000000</td>\n",
       "      <td>0.000000</td>\n",
       "      <td>0.000000</td>\n",
       "      <td>1.030532e+05</td>\n",
       "    </tr>\n",
       "    <tr>\n",
       "      <td>50%</td>\n",
       "      <td>0.000000</td>\n",
       "      <td>-1203.369529</td>\n",
       "      <td>42.000000</td>\n",
       "      <td>1.000000</td>\n",
       "      <td>0.000000</td>\n",
       "      <td>0.000000</td>\n",
       "      <td>1.450179e+05</td>\n",
       "    </tr>\n",
       "    <tr>\n",
       "      <td>75%</td>\n",
       "      <td>1.000000</td>\n",
       "      <td>-291.095954</td>\n",
       "      <td>53.000000</td>\n",
       "      <td>1.000000</td>\n",
       "      <td>1.000000</td>\n",
       "      <td>0.000000</td>\n",
       "      <td>2.034351e+05</td>\n",
       "    </tr>\n",
       "    <tr>\n",
       "      <td>max</td>\n",
       "      <td>20.000000</td>\n",
       "      <td>401755.400475</td>\n",
       "      <td>75.000000</td>\n",
       "      <td>4.000000</td>\n",
       "      <td>4.000000</td>\n",
       "      <td>1.000000</td>\n",
       "      <td>2.265604e+06</td>\n",
       "    </tr>\n",
       "  </tbody>\n",
       "</table>\n",
       "</div>"
      ],
      "text/plain": [
       "           children  days_employed     dob_years  education_id  \\\n",
       "count  21525.000000   19351.000000  21525.000000  21525.000000   \n",
       "mean       0.538908   63046.497661     43.293380      0.817236   \n",
       "std        1.381587  140827.311974     12.574584      0.548138   \n",
       "min       -1.000000  -18388.949901      0.000000      0.000000   \n",
       "25%        0.000000   -2747.423625     33.000000      1.000000   \n",
       "50%        0.000000   -1203.369529     42.000000      1.000000   \n",
       "75%        1.000000    -291.095954     53.000000      1.000000   \n",
       "max       20.000000  401755.400475     75.000000      4.000000   \n",
       "\n",
       "       family_status_id          debt  total_income  \n",
       "count      21525.000000  21525.000000  1.935100e+04  \n",
       "mean           0.972544      0.080883  1.674223e+05  \n",
       "std            1.420324      0.272661  1.029716e+05  \n",
       "min            0.000000      0.000000  2.066726e+04  \n",
       "25%            0.000000      0.000000  1.030532e+05  \n",
       "50%            0.000000      0.000000  1.450179e+05  \n",
       "75%            1.000000      0.000000  2.034351e+05  \n",
       "max            4.000000      1.000000  2.265604e+06  "
      ]
     },
     "execution_count": 5,
     "metadata": {},
     "output_type": "execute_result"
    }
   ],
   "source": [
    "# общие показатели таблицы\n",
    "df.describe()"
   ]
  },
  {
   "cell_type": "markdown",
   "metadata": {},
   "source": [
    "Итак, в таблице 12 столбцов. Встречаются такие типы данных, как object, float64 и int64.\n",
    "\n",
    "Согласно документации к данным:\n",
    "\n",
    "* 'children' — количество детей в семье\n",
    "* 'days_employed' — общий трудовой стаж в днях\n",
    "* 'dob_years' — возраст клиента в годах\n",
    "* 'education' — уровень образования клиента\n",
    "* 'education_id' — идентификатор уровня образования\n",
    "* 'family_status' — семейное положение\n",
    "* 'family_status_id' — идентификатор семейного положения\n",
    "* 'gender' — пол клиента\n",
    "* 'income_type' — тип занятости\n",
    "* 'debt' — имел ли задолженность по возврату кредитов\n",
    "* 'total_income' — ежемесячный доход\n",
    "* 'purpose' — цель получения кредита\n"
   ]
  },
  {
   "cell_type": "markdown",
   "metadata": {},
   "source": [
    "**Вывод**"
   ]
  },
  {
   "cell_type": "raw",
   "metadata": {},
   "source": [
    "В каждой строке таблицы — данные о клиенте банка, заинтересованного в получении кредита. Это информация о количестве детей в семье, семейном положении, возрасте, уровне образования, поле. Также содержатся сведения об общем трудовом стаже и типе занятости. В таблице указано, имел ли клиент задолженность по возврату кредитов, какой у него ежемесячный доход и цель получения кредита. Таблица содержит данные о 21 525 клиентах.\n",
    "\n",
    "Предварительно можно утверждать, что встречаются пропуски в данных. В колонках о наличии детей и стаже работы есть отрицательные числа.\n",
    "\n",
    "Для начала нужно устранить проблемы в данных."
   ]
  },
  {
   "cell_type": "markdown",
   "metadata": {},
   "source": [
    "## Шаг 2. Предобработка данных"
   ]
  },
  {
   "cell_type": "markdown",
   "metadata": {},
   "source": [
    "### Обработка пропусков"
   ]
  },
  {
   "cell_type": "code",
   "execution_count": 6,
   "metadata": {},
   "outputs": [
    {
     "data": {
      "text/plain": [
       "children               0\n",
       "days_employed       2174\n",
       "dob_years              0\n",
       "education              0\n",
       "education_id           0\n",
       "family_status          0\n",
       "family_status_id       0\n",
       "gender                 0\n",
       "income_type            0\n",
       "debt                   0\n",
       "total_income        2174\n",
       "purpose                0\n",
       "dtype: int64"
      ]
     },
     "execution_count": 6,
     "metadata": {},
     "output_type": "execute_result"
    }
   ],
   "source": [
    "# подсчёт пропусков\n",
    "df.isna().sum()"
   ]
  },
  {
   "cell_type": "code",
   "execution_count": 7,
   "metadata": {},
   "outputs": [
    {
     "data": {
      "text/html": [
       "<div>\n",
       "<style scoped>\n",
       "    .dataframe tbody tr th:only-of-type {\n",
       "        vertical-align: middle;\n",
       "    }\n",
       "\n",
       "    .dataframe tbody tr th {\n",
       "        vertical-align: top;\n",
       "    }\n",
       "\n",
       "    .dataframe thead th {\n",
       "        text-align: right;\n",
       "    }\n",
       "</style>\n",
       "<table border=\"1\" class=\"dataframe\">\n",
       "  <thead>\n",
       "    <tr style=\"text-align: right;\">\n",
       "      <th></th>\n",
       "      <th>income_type</th>\n",
       "      <th>education</th>\n",
       "      <th>total_income</th>\n",
       "      <th>median_total_income</th>\n",
       "    </tr>\n",
       "  </thead>\n",
       "  <tbody>\n",
       "    <tr>\n",
       "      <td>11</td>\n",
       "      <td>сотрудник</td>\n",
       "      <td>высшее</td>\n",
       "      <td>NaN</td>\n",
       "      <td>166164.078024</td>\n",
       "    </tr>\n",
       "    <tr>\n",
       "      <td>12</td>\n",
       "      <td>сотрудник</td>\n",
       "      <td>высшее</td>\n",
       "      <td>NaN</td>\n",
       "      <td>166164.078024</td>\n",
       "    </tr>\n",
       "    <tr>\n",
       "      <td>15</td>\n",
       "      <td>сотрудник</td>\n",
       "      <td>высшее</td>\n",
       "      <td>NaN</td>\n",
       "      <td>166164.078024</td>\n",
       "    </tr>\n",
       "    <tr>\n",
       "      <td>26</td>\n",
       "      <td>сотрудник</td>\n",
       "      <td>высшее</td>\n",
       "      <td>NaN</td>\n",
       "      <td>166164.078024</td>\n",
       "    </tr>\n",
       "    <tr>\n",
       "      <td>32</td>\n",
       "      <td>сотрудник</td>\n",
       "      <td>высшее</td>\n",
       "      <td>NaN</td>\n",
       "      <td>166164.078024</td>\n",
       "    </tr>\n",
       "  </tbody>\n",
       "</table>\n",
       "</div>"
      ],
      "text/plain": [
       "   income_type education  total_income  median_total_income\n",
       "11   сотрудник    высшее           NaN        166164.078024\n",
       "12   сотрудник    высшее           NaN        166164.078024\n",
       "15   сотрудник    высшее           NaN        166164.078024\n",
       "26   сотрудник    высшее           NaN        166164.078024\n",
       "32   сотрудник    высшее           NaN        166164.078024"
      ]
     },
     "execution_count": 7,
     "metadata": {},
     "output_type": "execute_result"
    }
   ],
   "source": [
    "# группировка значений\n",
    "medians = (df.groupby(['income_type', 'education'])\n",
    "            .agg({'total_income': 'median'}).rename(columns = {'total_income': 'median_total_income'}))\n",
    "\n",
    "# объединение и образование дополнительной колонки\n",
    "df = df.merge(medians, on = ['income_type', 'education'])\n",
    "df[['income_type', 'education', 'total_income', 'median_total_income']][df['total_income'].isna()].head()"
   ]
  },
  {
   "cell_type": "code",
   "execution_count": 8,
   "metadata": {},
   "outputs": [],
   "source": [
    "# заполнение пустых значений в колонке доходов из колонки 'median_total_income'\n",
    "df.loc[df['total_income'].isna(), 'total_income'] = df.loc[df['total_income'].isna(), 'median_total_income']"
   ]
  },
  {
   "cell_type": "code",
   "execution_count": 9,
   "metadata": {},
   "outputs": [],
   "source": [
    "# замена пропущенных значений столбца стажа на медиану\n",
    "med = df['days_employed'].median()\n",
    "df['days_employed'] = df['days_employed'].fillna(med)"
   ]
  },
  {
   "cell_type": "code",
   "execution_count": 10,
   "metadata": {},
   "outputs": [
    {
     "data": {
      "text/plain": [
       "children               0\n",
       "days_employed          0\n",
       "dob_years              0\n",
       "education              0\n",
       "education_id           0\n",
       "family_status          0\n",
       "family_status_id       0\n",
       "gender                 0\n",
       "income_type            0\n",
       "debt                   0\n",
       "total_income           0\n",
       "purpose                0\n",
       "median_total_income    0\n",
       "dtype: int64"
      ]
     },
     "execution_count": 10,
     "metadata": {},
     "output_type": "execute_result"
    }
   ],
   "source": [
    "# подсчёт пропусков\n",
    "df.isna().sum()"
   ]
  },
  {
   "cell_type": "markdown",
   "metadata": {},
   "source": [
    "**Вывод**"
   ]
  },
  {
   "cell_type": "markdown",
   "metadata": {},
   "source": [
    "В двух колонках было выявлено по 2174 пропущенных значений. Стаж работы и доход клиента являются важными факторами при принятии решения банком о выдаче кредита. Отсутствие данных может свидетельствовать о том, что клиент клиент мог отказаться от предоставления данных о трудовом стаже и общем доходе, или он не имел официального источника заработка и ни разу не работал по трудовому договору или договору ГПХ (гражданско-правового характера). Не исключается техническая ошибка. Пропущенные значения в столбцах days_employed и total_income были заменены на медиану."
   ]
  },
  {
   "cell_type": "markdown",
   "metadata": {},
   "source": [
    "### Замена типа данных"
   ]
  },
  {
   "cell_type": "code",
   "execution_count": 11,
   "metadata": {},
   "outputs": [
    {
     "data": {
      "text/plain": [
       "children                 int64\n",
       "days_employed          float64\n",
       "dob_years                int64\n",
       "education               object\n",
       "education_id             int64\n",
       "family_status           object\n",
       "family_status_id         int64\n",
       "gender                  object\n",
       "income_type             object\n",
       "debt                     int64\n",
       "total_income           float64\n",
       "purpose                 object\n",
       "median_total_income    float64\n",
       "dtype: object"
      ]
     },
     "execution_count": 11,
     "metadata": {},
     "output_type": "execute_result"
    }
   ],
   "source": [
    "# получение информации о типах данных в таблице\n",
    "df.dtypes"
   ]
  },
  {
   "cell_type": "code",
   "execution_count": 12,
   "metadata": {},
   "outputs": [],
   "source": [
    "# перевод значений столбца в тип данных 'int64'\n",
    "df['total_income'] = df['total_income'].astype('int64')"
   ]
  },
  {
   "cell_type": "code",
   "execution_count": 13,
   "metadata": {},
   "outputs": [],
   "source": [
    "# перевод отрицательных значений в абсолютные\n",
    "df['days_employed'] = abs(df.days_employed)"
   ]
  },
  {
   "cell_type": "code",
   "execution_count": 14,
   "metadata": {},
   "outputs": [],
   "source": [
    "# перевод отрицательных значений в абсолютные\n",
    "df['children'] = abs(df.children)"
   ]
  },
  {
   "cell_type": "code",
   "execution_count": 15,
   "metadata": {
    "scrolled": true
   },
   "outputs": [],
   "source": [
    "# перевод дней в года\n",
    "df['days_employed'] = df['days_employed'] / 365"
   ]
  },
  {
   "cell_type": "code",
   "execution_count": 16,
   "metadata": {},
   "outputs": [
    {
     "data": {
      "text/html": [
       "<div>\n",
       "<style scoped>\n",
       "    .dataframe tbody tr th:only-of-type {\n",
       "        vertical-align: middle;\n",
       "    }\n",
       "\n",
       "    .dataframe tbody tr th {\n",
       "        vertical-align: top;\n",
       "    }\n",
       "\n",
       "    .dataframe thead th {\n",
       "        text-align: right;\n",
       "    }\n",
       "</style>\n",
       "<table border=\"1\" class=\"dataframe\">\n",
       "  <thead>\n",
       "    <tr style=\"text-align: right;\">\n",
       "      <th></th>\n",
       "      <th>children</th>\n",
       "      <th>years_employed</th>\n",
       "      <th>dob_years</th>\n",
       "      <th>education</th>\n",
       "      <th>education_id</th>\n",
       "      <th>family_status</th>\n",
       "      <th>family_status_id</th>\n",
       "      <th>gender</th>\n",
       "      <th>income_type</th>\n",
       "      <th>debt</th>\n",
       "      <th>total_income</th>\n",
       "      <th>purpose</th>\n",
       "      <th>median_total_income</th>\n",
       "    </tr>\n",
       "  </thead>\n",
       "  <tbody>\n",
       "    <tr>\n",
       "      <td>0</td>\n",
       "      <td>1</td>\n",
       "      <td>23.116912</td>\n",
       "      <td>42</td>\n",
       "      <td>высшее</td>\n",
       "      <td>0</td>\n",
       "      <td>женат / замужем</td>\n",
       "      <td>0</td>\n",
       "      <td>F</td>\n",
       "      <td>сотрудник</td>\n",
       "      <td>0</td>\n",
       "      <td>253875</td>\n",
       "      <td>покупка жилья</td>\n",
       "      <td>166164.078024</td>\n",
       "    </tr>\n",
       "    <tr>\n",
       "      <td>1</td>\n",
       "      <td>0</td>\n",
       "      <td>6.493150</td>\n",
       "      <td>33</td>\n",
       "      <td>высшее</td>\n",
       "      <td>0</td>\n",
       "      <td>гражданский брак</td>\n",
       "      <td>1</td>\n",
       "      <td>M</td>\n",
       "      <td>сотрудник</td>\n",
       "      <td>0</td>\n",
       "      <td>90410</td>\n",
       "      <td>строительство недвижимости</td>\n",
       "      <td>166164.078024</td>\n",
       "    </tr>\n",
       "    <tr>\n",
       "      <td>2</td>\n",
       "      <td>0</td>\n",
       "      <td>0.747894</td>\n",
       "      <td>21</td>\n",
       "      <td>высшее</td>\n",
       "      <td>0</td>\n",
       "      <td>гражданский брак</td>\n",
       "      <td>1</td>\n",
       "      <td>M</td>\n",
       "      <td>сотрудник</td>\n",
       "      <td>0</td>\n",
       "      <td>128265</td>\n",
       "      <td>сыграть свадьбу</td>\n",
       "      <td>166164.078024</td>\n",
       "    </tr>\n",
       "    <tr>\n",
       "      <td>3</td>\n",
       "      <td>0</td>\n",
       "      <td>1.449840</td>\n",
       "      <td>28</td>\n",
       "      <td>высшее</td>\n",
       "      <td>0</td>\n",
       "      <td>женат / замужем</td>\n",
       "      <td>0</td>\n",
       "      <td>M</td>\n",
       "      <td>сотрудник</td>\n",
       "      <td>0</td>\n",
       "      <td>308848</td>\n",
       "      <td>строительство собственной недвижимости</td>\n",
       "      <td>166164.078024</td>\n",
       "    </tr>\n",
       "    <tr>\n",
       "      <td>4</td>\n",
       "      <td>1</td>\n",
       "      <td>1.965135</td>\n",
       "      <td>26</td>\n",
       "      <td>высшее</td>\n",
       "      <td>0</td>\n",
       "      <td>женат / замужем</td>\n",
       "      <td>0</td>\n",
       "      <td>F</td>\n",
       "      <td>сотрудник</td>\n",
       "      <td>0</td>\n",
       "      <td>187863</td>\n",
       "      <td>строительство собственной недвижимости</td>\n",
       "      <td>166164.078024</td>\n",
       "    </tr>\n",
       "    <tr>\n",
       "      <td>...</td>\n",
       "      <td>...</td>\n",
       "      <td>...</td>\n",
       "      <td>...</td>\n",
       "      <td>...</td>\n",
       "      <td>...</td>\n",
       "      <td>...</td>\n",
       "      <td>...</td>\n",
       "      <td>...</td>\n",
       "      <td>...</td>\n",
       "      <td>...</td>\n",
       "      <td>...</td>\n",
       "      <td>...</td>\n",
       "      <td>...</td>\n",
       "    </tr>\n",
       "    <tr>\n",
       "      <td>21520</td>\n",
       "      <td>0</td>\n",
       "      <td>1092.054984</td>\n",
       "      <td>60</td>\n",
       "      <td>Неоконченное высшее</td>\n",
       "      <td>2</td>\n",
       "      <td>женат / замужем</td>\n",
       "      <td>0</td>\n",
       "      <td>F</td>\n",
       "      <td>пенсионер</td>\n",
       "      <td>0</td>\n",
       "      <td>83625</td>\n",
       "      <td>заняться высшим образованием</td>\n",
       "      <td>83625.583859</td>\n",
       "    </tr>\n",
       "    <tr>\n",
       "      <td>21521</td>\n",
       "      <td>3</td>\n",
       "      <td>16.350893</td>\n",
       "      <td>36</td>\n",
       "      <td>ученая степень</td>\n",
       "      <td>4</td>\n",
       "      <td>женат / замужем</td>\n",
       "      <td>0</td>\n",
       "      <td>F</td>\n",
       "      <td>госслужащий</td>\n",
       "      <td>0</td>\n",
       "      <td>111392</td>\n",
       "      <td>покупка жилья</td>\n",
       "      <td>111392.231107</td>\n",
       "    </tr>\n",
       "    <tr>\n",
       "      <td>21522</td>\n",
       "      <td>0</td>\n",
       "      <td>1030.893752</td>\n",
       "      <td>62</td>\n",
       "      <td>ученая степень</td>\n",
       "      <td>4</td>\n",
       "      <td>женат / замужем</td>\n",
       "      <td>0</td>\n",
       "      <td>F</td>\n",
       "      <td>пенсионер</td>\n",
       "      <td>0</td>\n",
       "      <td>255425</td>\n",
       "      <td>покупка жилой недвижимости</td>\n",
       "      <td>255425.196556</td>\n",
       "    </tr>\n",
       "    <tr>\n",
       "      <td>21523</td>\n",
       "      <td>0</td>\n",
       "      <td>1083.021476</td>\n",
       "      <td>45</td>\n",
       "      <td>Высшее</td>\n",
       "      <td>0</td>\n",
       "      <td>гражданский брак</td>\n",
       "      <td>1</td>\n",
       "      <td>F</td>\n",
       "      <td>безработный</td>\n",
       "      <td>0</td>\n",
       "      <td>202722</td>\n",
       "      <td>ремонт жилью</td>\n",
       "      <td>202722.511368</td>\n",
       "    </tr>\n",
       "    <tr>\n",
       "      <td>21524</td>\n",
       "      <td>2</td>\n",
       "      <td>9.032219</td>\n",
       "      <td>39</td>\n",
       "      <td>СРЕДНЕЕ</td>\n",
       "      <td>1</td>\n",
       "      <td>женат / замужем</td>\n",
       "      <td>0</td>\n",
       "      <td>F</td>\n",
       "      <td>в декрете</td>\n",
       "      <td>1</td>\n",
       "      <td>53829</td>\n",
       "      <td>автомобиль</td>\n",
       "      <td>53829.130729</td>\n",
       "    </tr>\n",
       "  </tbody>\n",
       "</table>\n",
       "<p>21525 rows × 13 columns</p>\n",
       "</div>"
      ],
      "text/plain": [
       "       children  years_employed  dob_years            education  education_id  \\\n",
       "0             1       23.116912         42               высшее             0   \n",
       "1             0        6.493150         33               высшее             0   \n",
       "2             0        0.747894         21               высшее             0   \n",
       "3             0        1.449840         28               высшее             0   \n",
       "4             1        1.965135         26               высшее             0   \n",
       "...         ...             ...        ...                  ...           ...   \n",
       "21520         0     1092.054984         60  Неоконченное высшее             2   \n",
       "21521         3       16.350893         36       ученая степень             4   \n",
       "21522         0     1030.893752         62       ученая степень             4   \n",
       "21523         0     1083.021476         45               Высшее             0   \n",
       "21524         2        9.032219         39              СРЕДНЕЕ             1   \n",
       "\n",
       "          family_status  family_status_id gender  income_type  debt  \\\n",
       "0       женат / замужем                 0      F    сотрудник     0   \n",
       "1      гражданский брак                 1      M    сотрудник     0   \n",
       "2      гражданский брак                 1      M    сотрудник     0   \n",
       "3       женат / замужем                 0      M    сотрудник     0   \n",
       "4       женат / замужем                 0      F    сотрудник     0   \n",
       "...                 ...               ...    ...          ...   ...   \n",
       "21520   женат / замужем                 0      F    пенсионер     0   \n",
       "21521   женат / замужем                 0      F  госслужащий     0   \n",
       "21522   женат / замужем                 0      F    пенсионер     0   \n",
       "21523  гражданский брак                 1      F  безработный     0   \n",
       "21524   женат / замужем                 0      F    в декрете     1   \n",
       "\n",
       "       total_income                                 purpose  \\\n",
       "0            253875                           покупка жилья   \n",
       "1             90410              строительство недвижимости   \n",
       "2            128265                         сыграть свадьбу   \n",
       "3            308848  строительство собственной недвижимости   \n",
       "4            187863  строительство собственной недвижимости   \n",
       "...             ...                                     ...   \n",
       "21520         83625            заняться высшим образованием   \n",
       "21521        111392                           покупка жилья   \n",
       "21522        255425              покупка жилой недвижимости   \n",
       "21523        202722                            ремонт жилью   \n",
       "21524         53829                              автомобиль   \n",
       "\n",
       "       median_total_income  \n",
       "0            166164.078024  \n",
       "1            166164.078024  \n",
       "2            166164.078024  \n",
       "3            166164.078024  \n",
       "4            166164.078024  \n",
       "...                    ...  \n",
       "21520         83625.583859  \n",
       "21521        111392.231107  \n",
       "21522        255425.196556  \n",
       "21523        202722.511368  \n",
       "21524         53829.130729  \n",
       "\n",
       "[21525 rows x 13 columns]"
      ]
     },
     "execution_count": 16,
     "metadata": {},
     "output_type": "execute_result"
    }
   ],
   "source": [
    "# переименование колонки с днями в 'years_employed'\n",
    "df.rename(columns={\"days_employed\": \"years_employed\"}, inplace=True)\n",
    "df"
   ]
  },
  {
   "cell_type": "code",
   "execution_count": 17,
   "metadata": {},
   "outputs": [
    {
     "data": {
      "text/plain": [
       "75"
      ]
     },
     "execution_count": 17,
     "metadata": {},
     "output_type": "execute_result"
    }
   ],
   "source": [
    "# максимальный возраст клиента\n",
    "df.dob_years.max()"
   ]
  },
  {
   "cell_type": "code",
   "execution_count": 18,
   "metadata": {},
   "outputs": [
    {
     "data": {
      "text/plain": [
       "3445"
      ]
     },
     "execution_count": 18,
     "metadata": {},
     "output_type": "execute_result"
    }
   ],
   "source": [
    "# количество строчек, в которых стаж превышает разумные значения (больше максимального возраста клиента)\n",
    "df.query('years_employed > 75')['dob_years'].count()"
   ]
  },
  {
   "cell_type": "code",
   "execution_count": 19,
   "metadata": {},
   "outputs": [],
   "source": [
    "def into_years(row):\n",
    "    years_employed = row['years_employed']\n",
    "    dob_years = row['dob_years']\n",
    "\n",
    "    if years_employed > 75:\n",
    "         return years_employed / 24\n",
    "    else:\n",
    "        return years_employed\n",
    "\n",
    "df['years_employed'] = df.apply(into_years, axis=1)"
   ]
  },
  {
   "cell_type": "code",
   "execution_count": 20,
   "metadata": {},
   "outputs": [],
   "source": [
    "# перевод значений столбца в тип данных 'int64'\n",
    "df['years_employed'] = df['years_employed'].astype('int64')"
   ]
  },
  {
   "cell_type": "code",
   "execution_count": 21,
   "metadata": {},
   "outputs": [
    {
     "data": {
      "text/plain": [
       "50"
      ]
     },
     "execution_count": 21,
     "metadata": {},
     "output_type": "execute_result"
    }
   ],
   "source": [
    "# максимальное значение столбца \"years_employed\" с целью проверки проведенных изменений\n",
    "df.years_employed.max()"
   ]
  },
  {
   "cell_type": "markdown",
   "metadata": {},
   "source": [
    "**Вывод**"
   ]
  },
  {
   "cell_type": "markdown",
   "metadata": {},
   "source": [
    "Для удобства восприятия данных таблицы колонки с доходами и стажем работы были переведены из вещественного типа данных на целочисленный. Использовался метод astype(), также в эту же колонку были перезаписаны значения с новым типом, чтобы не создавать новую.\n",
    "\n",
    "После перевода значений в колонке со стажем в абсолютные, а затем с дней на года, обнаружилось, что в ряде случаев стаж клиентов составлял более 900 лет. Сравнивая возраст клиентов и возможный стаж, можно было предположить, что данные были приведены в часах. Разделив аномальные значения, мы получили более приближенные к действительности данным. Теперь максимальный стаж не превышает 50 лет."
   ]
  },
  {
   "cell_type": "markdown",
   "metadata": {},
   "source": [
    "### Обработка дубликатов"
   ]
  },
  {
   "cell_type": "code",
   "execution_count": 22,
   "metadata": {},
   "outputs": [
    {
     "data": {
      "text/plain": [
       "54"
      ]
     },
     "execution_count": 22,
     "metadata": {},
     "output_type": "execute_result"
    }
   ],
   "source": [
    "# подсчёт явных дубликатов\n",
    "df.duplicated().sum()"
   ]
  },
  {
   "cell_type": "code",
   "execution_count": 23,
   "metadata": {},
   "outputs": [
    {
     "data": {
      "text/plain": [
       "array(['ВЫСШЕЕ', 'Высшее', 'НАЧАЛЬНОЕ', 'НЕОКОНЧЕННОЕ ВЫСШЕЕ',\n",
       "       'Начальное', 'Неоконченное высшее', 'СРЕДНЕЕ', 'Среднее',\n",
       "       'УЧЕНАЯ СТЕПЕНЬ', 'Ученая степень', 'высшее', 'начальное',\n",
       "       'неоконченное высшее', 'среднее', 'ученая степень'], dtype=object)"
      ]
     },
     "execution_count": 23,
     "metadata": {},
     "output_type": "execute_result"
    }
   ],
   "source": [
    "# просмотр уникальных значений об уровне образования\n",
    "df['education'].sort_values().unique()"
   ]
  },
  {
   "cell_type": "code",
   "execution_count": 24,
   "metadata": {},
   "outputs": [],
   "source": [
    "# приведение строк в колонке 'education' к нижнему регистру\n",
    "df['education'] = df['education'].str.lower()"
   ]
  },
  {
   "cell_type": "code",
   "execution_count": 25,
   "metadata": {},
   "outputs": [],
   "source": [
    "# удаление явных дубликатов (с удалением старых индексов и формированием новых)\n",
    "df = df.drop_duplicates().reset_index(drop=True)"
   ]
  },
  {
   "cell_type": "code",
   "execution_count": 26,
   "metadata": {},
   "outputs": [
    {
     "data": {
      "text/plain": [
       "0"
      ]
     },
     "execution_count": 26,
     "metadata": {},
     "output_type": "execute_result"
    }
   ],
   "source": [
    "# проверка на отсутствие дубликатов\n",
    "df.duplicated().sum()"
   ]
  },
  {
   "cell_type": "code",
   "execution_count": 27,
   "metadata": {},
   "outputs": [
    {
     "data": {
      "text/plain": [
       "array(['высшее', 'начальное', 'неоконченное высшее', 'среднее',\n",
       "       'ученая степень'], dtype=object)"
      ]
     },
     "execution_count": 27,
     "metadata": {},
     "output_type": "execute_result"
    }
   ],
   "source": [
    "# проверка на отсутствие дубликатов\n",
    "df['education'].sort_values().unique()"
   ]
  },
  {
   "cell_type": "markdown",
   "metadata": {},
   "source": [
    "**Вывод**"
   ]
  },
  {
   "cell_type": "markdown",
   "metadata": {},
   "source": [
    "В процессе предобработки выявлены явные и неявные дубликаты в таблице. Явных дубликатов было обнаружено 54. Это может быть обусловлено технической ошибкой или повторной заявкой со стороны клиентов. \n",
    "\n",
    "Неявные дубликаты оказались в колонке со значениями об уровне образования. Были использованы как строчные, так и заглавные буквы. Метод string lower() позволил решить данную задачу и привести значения в колонке в единую форму.\n",
    "\n",
    "Метод drop_duplicates() удалил лишние строки в таблице."
   ]
  },
  {
   "cell_type": "markdown",
   "metadata": {},
   "source": [
    "### Лемматизация"
   ]
  },
  {
   "cell_type": "code",
   "execution_count": 28,
   "metadata": {},
   "outputs": [
    {
     "data": {
      "text/plain": [
       "array(['автомобили', 'автомобиль', 'высшее образование',\n",
       "       'дополнительное образование', 'жилье',\n",
       "       'заняться высшим образованием', 'заняться образованием',\n",
       "       'на покупку автомобиля', 'на покупку подержанного автомобиля',\n",
       "       'на покупку своего автомобиля', 'на проведение свадьбы',\n",
       "       'недвижимость', 'образование', 'операции с жильем',\n",
       "       'операции с коммерческой недвижимостью',\n",
       "       'операции с недвижимостью', 'операции со своей недвижимостью',\n",
       "       'покупка жилой недвижимости', 'покупка жилья',\n",
       "       'покупка жилья для сдачи', 'покупка жилья для семьи',\n",
       "       'покупка коммерческой недвижимости', 'покупка недвижимости',\n",
       "       'покупка своего жилья', 'получение высшего образования',\n",
       "       'получение дополнительного образования', 'получение образования',\n",
       "       'приобретение автомобиля', 'профильное образование',\n",
       "       'ремонт жилью', 'свадьба', 'свой автомобиль',\n",
       "       'сделка с автомобилем', 'сделка с подержанным автомобилем',\n",
       "       'строительство жилой недвижимости', 'строительство недвижимости',\n",
       "       'строительство собственной недвижимости', 'сыграть свадьбу'],\n",
       "      dtype=object)"
      ]
     },
     "execution_count": 28,
     "metadata": {},
     "output_type": "execute_result"
    }
   ],
   "source": [
    "# просмотр уникальных названий жанров\n",
    "df['purpose'].sort_values().unique()"
   ]
  },
  {
   "cell_type": "code",
   "execution_count": 29,
   "metadata": {},
   "outputs": [],
   "source": [
    "# получение лемматизатора для слов на русском\n",
    "from pymystem3 import Mystem\n",
    "m = Mystem()"
   ]
  },
  {
   "cell_type": "code",
   "execution_count": 30,
   "metadata": {},
   "outputs": [
    {
     "data": {
      "text/html": [
       "<div>\n",
       "<style scoped>\n",
       "    .dataframe tbody tr th:only-of-type {\n",
       "        vertical-align: middle;\n",
       "    }\n",
       "\n",
       "    .dataframe tbody tr th {\n",
       "        vertical-align: top;\n",
       "    }\n",
       "\n",
       "    .dataframe thead th {\n",
       "        text-align: right;\n",
       "    }\n",
       "</style>\n",
       "<table border=\"1\" class=\"dataframe\">\n",
       "  <thead>\n",
       "    <tr style=\"text-align: right;\">\n",
       "      <th></th>\n",
       "      <th>children</th>\n",
       "      <th>years_employed</th>\n",
       "      <th>dob_years</th>\n",
       "      <th>education</th>\n",
       "      <th>education_id</th>\n",
       "      <th>family_status</th>\n",
       "      <th>family_status_id</th>\n",
       "      <th>gender</th>\n",
       "      <th>income_type</th>\n",
       "      <th>debt</th>\n",
       "      <th>total_income</th>\n",
       "      <th>purpose</th>\n",
       "      <th>median_total_income</th>\n",
       "      <th>purpose_category</th>\n",
       "    </tr>\n",
       "  </thead>\n",
       "  <tbody>\n",
       "    <tr>\n",
       "      <td>0</td>\n",
       "      <td>1</td>\n",
       "      <td>23</td>\n",
       "      <td>42</td>\n",
       "      <td>высшее</td>\n",
       "      <td>0</td>\n",
       "      <td>женат / замужем</td>\n",
       "      <td>0</td>\n",
       "      <td>F</td>\n",
       "      <td>сотрудник</td>\n",
       "      <td>0</td>\n",
       "      <td>253875</td>\n",
       "      <td>покупка жилья</td>\n",
       "      <td>166164.078024</td>\n",
       "      <td>нежвижимость</td>\n",
       "    </tr>\n",
       "    <tr>\n",
       "      <td>1</td>\n",
       "      <td>0</td>\n",
       "      <td>6</td>\n",
       "      <td>33</td>\n",
       "      <td>высшее</td>\n",
       "      <td>0</td>\n",
       "      <td>гражданский брак</td>\n",
       "      <td>1</td>\n",
       "      <td>M</td>\n",
       "      <td>сотрудник</td>\n",
       "      <td>0</td>\n",
       "      <td>90410</td>\n",
       "      <td>строительство недвижимости</td>\n",
       "      <td>166164.078024</td>\n",
       "      <td>нежвижимость</td>\n",
       "    </tr>\n",
       "    <tr>\n",
       "      <td>2</td>\n",
       "      <td>0</td>\n",
       "      <td>0</td>\n",
       "      <td>21</td>\n",
       "      <td>высшее</td>\n",
       "      <td>0</td>\n",
       "      <td>гражданский брак</td>\n",
       "      <td>1</td>\n",
       "      <td>M</td>\n",
       "      <td>сотрудник</td>\n",
       "      <td>0</td>\n",
       "      <td>128265</td>\n",
       "      <td>сыграть свадьбу</td>\n",
       "      <td>166164.078024</td>\n",
       "      <td>свадьба</td>\n",
       "    </tr>\n",
       "    <tr>\n",
       "      <td>3</td>\n",
       "      <td>0</td>\n",
       "      <td>1</td>\n",
       "      <td>28</td>\n",
       "      <td>высшее</td>\n",
       "      <td>0</td>\n",
       "      <td>женат / замужем</td>\n",
       "      <td>0</td>\n",
       "      <td>M</td>\n",
       "      <td>сотрудник</td>\n",
       "      <td>0</td>\n",
       "      <td>308848</td>\n",
       "      <td>строительство собственной недвижимости</td>\n",
       "      <td>166164.078024</td>\n",
       "      <td>нежвижимость</td>\n",
       "    </tr>\n",
       "    <tr>\n",
       "      <td>4</td>\n",
       "      <td>1</td>\n",
       "      <td>1</td>\n",
       "      <td>26</td>\n",
       "      <td>высшее</td>\n",
       "      <td>0</td>\n",
       "      <td>женат / замужем</td>\n",
       "      <td>0</td>\n",
       "      <td>F</td>\n",
       "      <td>сотрудник</td>\n",
       "      <td>0</td>\n",
       "      <td>187863</td>\n",
       "      <td>строительство собственной недвижимости</td>\n",
       "      <td>166164.078024</td>\n",
       "      <td>нежвижимость</td>\n",
       "    </tr>\n",
       "  </tbody>\n",
       "</table>\n",
       "</div>"
      ],
      "text/plain": [
       "   children  years_employed  dob_years education  education_id  \\\n",
       "0         1              23         42    высшее             0   \n",
       "1         0               6         33    высшее             0   \n",
       "2         0               0         21    высшее             0   \n",
       "3         0               1         28    высшее             0   \n",
       "4         1               1         26    высшее             0   \n",
       "\n",
       "      family_status  family_status_id gender income_type  debt  total_income  \\\n",
       "0   женат / замужем                 0      F   сотрудник     0        253875   \n",
       "1  гражданский брак                 1      M   сотрудник     0         90410   \n",
       "2  гражданский брак                 1      M   сотрудник     0        128265   \n",
       "3   женат / замужем                 0      M   сотрудник     0        308848   \n",
       "4   женат / замужем                 0      F   сотрудник     0        187863   \n",
       "\n",
       "                                  purpose  median_total_income  \\\n",
       "0                           покупка жилья        166164.078024   \n",
       "1              строительство недвижимости        166164.078024   \n",
       "2                         сыграть свадьбу        166164.078024   \n",
       "3  строительство собственной недвижимости        166164.078024   \n",
       "4  строительство собственной недвижимости        166164.078024   \n",
       "\n",
       "  purpose_category  \n",
       "0     нежвижимость  \n",
       "1     нежвижимость  \n",
       "2          свадьба  \n",
       "3     нежвижимость  \n",
       "4     нежвижимость  "
      ]
     },
     "execution_count": 30,
     "metadata": {},
     "output_type": "execute_result"
    }
   ],
   "source": [
    "# функция лемматизации по столбцу 'purpose'\n",
    "def purpose_category(purpose):\n",
    "    lem_row = m.lemmatize(purpose)\n",
    "    for value in lem_row:\n",
    "        if 'образован' in value:\n",
    "            return 'образование'\n",
    "        if 'авто' in value:\n",
    "            return 'автомобиль'\n",
    "        if 'жил' in value or 'недвиж' in value:\n",
    "            return 'нежвижимость'\n",
    "        if 'свадьб' in value:\n",
    "            return 'свадьба'\n",
    " \n",
    "df['purpose_category'] = df['purpose'].apply(purpose_category)\n",
    "df.head()"
   ]
  },
  {
   "cell_type": "code",
   "execution_count": 31,
   "metadata": {},
   "outputs": [
    {
     "data": {
      "text/plain": [
       "нежвижимость    10814\n",
       "автомобиль       4308\n",
       "образование      4014\n",
       "свадьба          2335\n",
       "Name: purpose_category, dtype: int64"
      ]
     },
     "execution_count": 31,
     "metadata": {},
     "output_type": "execute_result"
    }
   ],
   "source": [
    "# подсчет частоты встречаемости целей получения кредита\n",
    "df['purpose_category'].value_counts()"
   ]
  },
  {
   "cell_type": "markdown",
   "metadata": {},
   "source": [
    "**Вывод**"
   ]
  },
  {
   "cell_type": "markdown",
   "metadata": {},
   "source": [
    "При просмотре уникальных значений столбца с целями получения кредита обнаружилось, что есть повторяющиеся значения, которые по-разному сформулированы. На основании анализа данных, полученных с помощью метода unique(), можно выделить 4 основные цели клиентов, обратившихся в банк, а именно покупка недвижимости, автомобиля, оплата образования и свадьбы.\n",
    "\n",
    "С помощью функции лемматизации по столбцу мы образовали 4 группы целей и сохранили в колонке с категориями целей. Метод value_counts() показал, что чаще всего клиенты заинтересованы в получении финансирования на покупку недвижимости. Кредиты на свадебные цели - наименее востребованные. "
   ]
  },
  {
   "cell_type": "markdown",
   "metadata": {},
   "source": [
    "### Категоризация данных"
   ]
  },
  {
   "cell_type": "code",
   "execution_count": 32,
   "metadata": {},
   "outputs": [
    {
     "data": {
      "text/plain": [
       "count      21471\n",
       "mean      165448\n",
       "std        98271\n",
       "min        20667\n",
       "25%       107520\n",
       "50%       143206\n",
       "75%       198251\n",
       "max      2265604\n",
       "Name: total_income, dtype: int64"
      ]
     },
     "execution_count": 32,
     "metadata": {},
     "output_type": "execute_result"
    }
   ],
   "source": [
    "# определение процентилей доходов клиентов\n",
    "df.total_income.describe().astype(int)"
   ]
  },
  {
   "cell_type": "code",
   "execution_count": 33,
   "metadata": {},
   "outputs": [
    {
     "data": {
      "text/plain": [
       "ниже среднего    5369\n",
       "низкий           5368\n",
       "высокий          5368\n",
       "выше среднего    5366\n",
       "Name: income_group, dtype: int64"
      ]
     },
     "execution_count": 33,
     "metadata": {},
     "output_type": "execute_result"
    }
   ],
   "source": [
    "# функция для определения категории доходов\n",
    "def income_group(income):\n",
    "    if income <= 107520: \n",
    "        return \"низкий\"\n",
    "    elif income <= 143206: \n",
    "        return \"ниже среднего\"\n",
    "    elif income <= 198251: \n",
    "        return \"выше среднего\"\n",
    "    else: \n",
    "        return \"высокий\"\n",
    "\n",
    "# создание нового столбца с категориями доходов\n",
    "df['income_group'] = df['total_income'].apply(income_group)\n",
    "df.income_group.value_counts()"
   ]
  },
  {
   "cell_type": "markdown",
   "metadata": {},
   "source": [
    "**Вывод**"
   ]
  },
  {
   "cell_type": "markdown",
   "metadata": {},
   "source": [
    "В рамках данного исследования необходимо разделить клиентов по уровню доходов. С помощью метода describe() мы выявили процентили доходов клиентов, что позволило определить значения для распределения клиентов на 4 группы: с доходом до 107520, до 143206, до 198251 и выше. Так, в группу с низкими доходами включено 5369 клиентов, ниже среднего - 5369, выше среднего - 5366, высокими доходами - 5368."
   ]
  },
  {
   "cell_type": "markdown",
   "metadata": {},
   "source": [
    "## Шаг 3. Анализ данных"
   ]
  },
  {
   "cell_type": "markdown",
   "metadata": {},
   "source": [
    "- Наличие зависимости между наличием детей и возвратом кредита в срок"
   ]
  },
  {
   "cell_type": "code",
   "execution_count": 34,
   "metadata": {},
   "outputs": [],
   "source": [
    "# функция для распределения клиентов по группам в зависимости от наличия детей\n",
    "def number_children(children):\n",
    "    if children > 0: \n",
    "        return 1\n",
    "    else: \n",
    "        return 0"
   ]
  },
  {
   "cell_type": "code",
   "execution_count": 35,
   "metadata": {},
   "outputs": [
    {
     "data": {
      "text/html": [
       "<div>\n",
       "<style scoped>\n",
       "    .dataframe tbody tr th:only-of-type {\n",
       "        vertical-align: middle;\n",
       "    }\n",
       "\n",
       "    .dataframe tbody tr th {\n",
       "        vertical-align: top;\n",
       "    }\n",
       "\n",
       "    .dataframe thead th {\n",
       "        text-align: right;\n",
       "    }\n",
       "</style>\n",
       "<table border=\"1\" class=\"dataframe\">\n",
       "  <thead>\n",
       "    <tr style=\"text-align: right;\">\n",
       "      <th></th>\n",
       "      <th>debt</th>\n",
       "    </tr>\n",
       "    <tr>\n",
       "      <th>child_exist</th>\n",
       "      <th></th>\n",
       "    </tr>\n",
       "  </thead>\n",
       "  <tbody>\n",
       "    <tr>\n",
       "      <td>0</td>\n",
       "      <td>0.075</td>\n",
       "    </tr>\n",
       "    <tr>\n",
       "      <td>1</td>\n",
       "      <td>0.092</td>\n",
       "    </tr>\n",
       "  </tbody>\n",
       "</table>\n",
       "</div>"
      ],
      "text/plain": [
       "              debt\n",
       "child_exist       \n",
       "0            0.075\n",
       "1            0.092"
      ]
     },
     "execution_count": 35,
     "metadata": {},
     "output_type": "execute_result"
    }
   ],
   "source": [
    "# создание новой колонки и сводной таблицы о наличии детей и задолженности\n",
    "df['child_exist'] = df['children'].apply(number_children)\n",
    "\n",
    "df_pivot = df.pivot_table(index = ['child_exist'], values = 'debt').round(3)\n",
    "df_pivot"
   ]
  },
  {
   "cell_type": "code",
   "execution_count": 37,
   "metadata": {},
   "outputs": [
    {
     "data": {
      "text/html": [
       "<div>\n",
       "<style scoped>\n",
       "    .dataframe tbody tr th:only-of-type {\n",
       "        vertical-align: middle;\n",
       "    }\n",
       "\n",
       "    .dataframe tbody tr th {\n",
       "        vertical-align: top;\n",
       "    }\n",
       "\n",
       "    .dataframe thead th {\n",
       "        text-align: right;\n",
       "    }\n",
       "</style>\n",
       "<table border=\"1\" class=\"dataframe\">\n",
       "  <thead>\n",
       "    <tr style=\"text-align: right;\">\n",
       "      <th></th>\n",
       "      <th>count</th>\n",
       "      <th>sum</th>\n",
       "      <th>&lt;lambda_0&gt;</th>\n",
       "    </tr>\n",
       "    <tr>\n",
       "      <th>children</th>\n",
       "      <th></th>\n",
       "      <th></th>\n",
       "      <th></th>\n",
       "    </tr>\n",
       "  </thead>\n",
       "  <tbody>\n",
       "    <tr>\n",
       "      <td>0</td>\n",
       "      <td>14107</td>\n",
       "      <td>1063</td>\n",
       "      <td>7.54%</td>\n",
       "    </tr>\n",
       "    <tr>\n",
       "      <td>1</td>\n",
       "      <td>4856</td>\n",
       "      <td>445</td>\n",
       "      <td>9.16%</td>\n",
       "    </tr>\n",
       "    <tr>\n",
       "      <td>2</td>\n",
       "      <td>2052</td>\n",
       "      <td>194</td>\n",
       "      <td>9.45%</td>\n",
       "    </tr>\n",
       "    <tr>\n",
       "      <td>3</td>\n",
       "      <td>330</td>\n",
       "      <td>27</td>\n",
       "      <td>8.18%</td>\n",
       "    </tr>\n",
       "    <tr>\n",
       "      <td>4</td>\n",
       "      <td>41</td>\n",
       "      <td>4</td>\n",
       "      <td>9.76%</td>\n",
       "    </tr>\n",
       "    <tr>\n",
       "      <td>5</td>\n",
       "      <td>9</td>\n",
       "      <td>0</td>\n",
       "      <td>0.00%</td>\n",
       "    </tr>\n",
       "    <tr>\n",
       "      <td>20</td>\n",
       "      <td>76</td>\n",
       "      <td>8</td>\n",
       "      <td>10.53%</td>\n",
       "    </tr>\n",
       "  </tbody>\n",
       "</table>\n",
       "</div>"
      ],
      "text/plain": [
       "          count   sum <lambda_0>\n",
       "children                        \n",
       "0         14107  1063     7.54% \n",
       "1          4856   445     9.16% \n",
       "2          2052   194     9.45% \n",
       "3           330    27     8.18% \n",
       "4            41     4     9.76% \n",
       "5             9     0     0.00% \n",
       "20           76     8    10.53% "
      ]
     },
     "execution_count": 37,
     "metadata": {},
     "output_type": "execute_result"
    }
   ],
   "source": [
    "# создание таблицы о количестве семей с детьми и задолженности\n",
    "df.groupby('children')['debt'].agg(['count', 'sum', lambda x: '{:.2%} '.format(x.mean())])"
   ]
  },
  {
   "cell_type": "code",
   "execution_count": 38,
   "metadata": {},
   "outputs": [
    {
     "data": {
      "text/plain": [
       "0.35"
      ]
     },
     "execution_count": 38,
     "metadata": {},
     "output_type": "execute_result"
    }
   ],
   "source": [
    "# доля клиентов с 20 детьми от общего количества клиентов\n",
    "round(df[df['children'] == 20]['debt'].count() / df.shape[0] * 100, 2)"
   ]
  },
  {
   "cell_type": "markdown",
   "metadata": {},
   "source": [
    "**Вывод**"
   ]
  },
  {
   "cell_type": "markdown",
   "metadata": {},
   "source": [
    "Анализ данных показал, что между наличием детей и возвратом кредита в срок существует зависимость, если сравниваем по такому критерию, как наличие или отсутствие детей. Клиенты с детьми более склонны к невыплатам кредитов, чем без детей: 9,2% и 7,5% соответственно. Сравнение показателей в зависимости от количества детей также подтверждает, что клиенты без детей лучше погашают кредиты (7,54%). Но в таблице также отражено, что клиенты с 5 детьми ни разу не пропускали сроки погашения. Учитывая их небольшое количество среди всех клиентов, можно воспринять это, как недостаточная выборка. Наличие детей предполагает бОльшие расходы и, соответственно, более высокие риски невозврата.\n",
    "\n",
    "Также в данных присутствуют клиенты с 20 детьми, что является достаточно аномальным, т.к. у всех остальных клиентов не больше 5 детей. Это может быть обусловлено ошибкой при заполнении данных или предварительной фильтрацией клиентов от 6 до 19 детей перед сохранением файла с данными. Поскольку их доля составляет всего лишь 0,35% от общего количества, они не оказывают существенного влияния на результаты исследования."
   ]
  },
  {
   "cell_type": "markdown",
   "metadata": {},
   "source": [
    "- Наличие зависимости между семейным положением и возвратом кредита в срок"
   ]
  },
  {
   "cell_type": "code",
   "execution_count": 39,
   "metadata": {},
   "outputs": [
    {
     "data": {
      "text/html": [
       "<div>\n",
       "<style scoped>\n",
       "    .dataframe tbody tr th:only-of-type {\n",
       "        vertical-align: middle;\n",
       "    }\n",
       "\n",
       "    .dataframe tbody tr th {\n",
       "        vertical-align: top;\n",
       "    }\n",
       "\n",
       "    .dataframe thead th {\n",
       "        text-align: right;\n",
       "    }\n",
       "</style>\n",
       "<table border=\"1\" class=\"dataframe\">\n",
       "  <thead>\n",
       "    <tr style=\"text-align: right;\">\n",
       "      <th></th>\n",
       "      <th>count_family</th>\n",
       "      <th>have_debt</th>\n",
       "      <th>share_of_debt</th>\n",
       "    </tr>\n",
       "    <tr>\n",
       "      <th>family_status</th>\n",
       "      <th></th>\n",
       "      <th></th>\n",
       "      <th></th>\n",
       "    </tr>\n",
       "  </thead>\n",
       "  <tbody>\n",
       "    <tr>\n",
       "      <td>Не женат / не замужем</td>\n",
       "      <td>2810</td>\n",
       "      <td>274</td>\n",
       "      <td>9.75</td>\n",
       "    </tr>\n",
       "    <tr>\n",
       "      <td>в разводе</td>\n",
       "      <td>1195</td>\n",
       "      <td>85</td>\n",
       "      <td>7.11</td>\n",
       "    </tr>\n",
       "    <tr>\n",
       "      <td>вдовец / вдова</td>\n",
       "      <td>959</td>\n",
       "      <td>63</td>\n",
       "      <td>6.57</td>\n",
       "    </tr>\n",
       "    <tr>\n",
       "      <td>гражданский брак</td>\n",
       "      <td>4163</td>\n",
       "      <td>388</td>\n",
       "      <td>9.32</td>\n",
       "    </tr>\n",
       "    <tr>\n",
       "      <td>женат / замужем</td>\n",
       "      <td>12344</td>\n",
       "      <td>931</td>\n",
       "      <td>7.54</td>\n",
       "    </tr>\n",
       "  </tbody>\n",
       "</table>\n",
       "</div>"
      ],
      "text/plain": [
       "                       count_family  have_debt  share_of_debt\n",
       "family_status                                                \n",
       "Не женат / не замужем          2810        274           9.75\n",
       "в разводе                      1195         85           7.11\n",
       "вдовец / вдова                  959         63           6.57\n",
       "гражданский брак               4163        388           9.32\n",
       "женат / замужем               12344        931           7.54"
      ]
     },
     "execution_count": 39,
     "metadata": {},
     "output_type": "execute_result"
    }
   ],
   "source": [
    "# создание таблицы о семейном положении и задолженности\n",
    "debt_and_family = pd.DataFrame()\n",
    "debt_and_family['count_family'] = df.groupby('family_status')['debt'].count()\n",
    "debt_and_family['have_debt'] = df.groupby('family_status')['debt'].sum()\n",
    "debt_and_family['share_of_debt'] = round(debt_and_family['have_debt'] / debt_and_family['count_family'] * 100, 2)\n",
    "debt_and_family"
   ]
  },
  {
   "cell_type": "markdown",
   "metadata": {},
   "source": [
    "**Вывод**"
   ]
  },
  {
   "cell_type": "markdown",
   "metadata": {},
   "source": [
    "Семейное положение зависит на сроки возврата кредита, исходя из жизненного опыта клиента. Если он никогда не состоял в официальных отношениях, вероятность невозврата выше. Доля тех, кто не был женат или замужем и при этом имели задолженность, составляют 9,75%, в гражданском браке - 9,32%. Наименьшие долги имеют те клиенты, которые раньше состояли в браке, вдовы и вдовцы - 6,57% и разведенные - 7,11%. Состоящие в официальном браке клиенты не платят вовремя кредит в 7,54% случаев от общего количества зарегистрировавших брак."
   ]
  },
  {
   "cell_type": "markdown",
   "metadata": {},
   "source": [
    "- Наличие зависимости между уровнем дохода и возвратом кредита в срок"
   ]
  },
  {
   "cell_type": "code",
   "execution_count": 40,
   "metadata": {},
   "outputs": [
    {
     "data": {
      "text/html": [
       "<div>\n",
       "<style scoped>\n",
       "    .dataframe tbody tr th:only-of-type {\n",
       "        vertical-align: middle;\n",
       "    }\n",
       "\n",
       "    .dataframe tbody tr th {\n",
       "        vertical-align: top;\n",
       "    }\n",
       "\n",
       "    .dataframe thead th {\n",
       "        text-align: right;\n",
       "    }\n",
       "</style>\n",
       "<table border=\"1\" class=\"dataframe\">\n",
       "  <thead>\n",
       "    <tr style=\"text-align: right;\">\n",
       "      <th></th>\n",
       "      <th>count_children</th>\n",
       "      <th>have_debt</th>\n",
       "      <th>share_of_debt</th>\n",
       "    </tr>\n",
       "    <tr>\n",
       "      <th>income_group</th>\n",
       "      <th></th>\n",
       "      <th></th>\n",
       "      <th></th>\n",
       "    </tr>\n",
       "  </thead>\n",
       "  <tbody>\n",
       "    <tr>\n",
       "      <td>высокий</td>\n",
       "      <td>5368</td>\n",
       "      <td>374</td>\n",
       "      <td>6.97</td>\n",
       "    </tr>\n",
       "    <tr>\n",
       "      <td>выше среднего</td>\n",
       "      <td>5366</td>\n",
       "      <td>459</td>\n",
       "      <td>8.55</td>\n",
       "    </tr>\n",
       "    <tr>\n",
       "      <td>ниже среднего</td>\n",
       "      <td>5369</td>\n",
       "      <td>481</td>\n",
       "      <td>8.96</td>\n",
       "    </tr>\n",
       "    <tr>\n",
       "      <td>низкий</td>\n",
       "      <td>5368</td>\n",
       "      <td>427</td>\n",
       "      <td>7.95</td>\n",
       "    </tr>\n",
       "  </tbody>\n",
       "</table>\n",
       "</div>"
      ],
      "text/plain": [
       "               count_children  have_debt  share_of_debt\n",
       "income_group                                           \n",
       "высокий                  5368        374           6.97\n",
       "выше среднего            5366        459           8.55\n",
       "ниже среднего            5369        481           8.96\n",
       "низкий                   5368        427           7.95"
      ]
     },
     "execution_count": 40,
     "metadata": {},
     "output_type": "execute_result"
    }
   ],
   "source": [
    "# создание таблицы о доходах и задолженности\n",
    "debt_and_income = pd.DataFrame()\n",
    "debt_and_income['count_children'] = df.groupby('income_group')['debt'].count()\n",
    "debt_and_income['have_debt'] = df.groupby('income_group')['debt'].sum()\n",
    "debt_and_income['share_of_debt'] = round(debt_and_income['have_debt'] / debt_and_income['count_children'] * 100, 2)\n",
    "debt_and_income"
   ]
  },
  {
   "cell_type": "markdown",
   "metadata": {},
   "source": [
    "**Вывод**"
   ]
  },
  {
   "cell_type": "markdown",
   "metadata": {},
   "source": [
    "Из 4 групп клиентов, ранжированных по доходам, больше всего долгов имеют клиенты с доходами ниже среднего и выше среднего, 8,96% и 8,55% соответственно. Доля клиентов с высокими доходами - 6,97%, меньше, чем в остальных группах. Доля клиентов с низкими доходами составляет 7,95%, ниже, чем у клиентов со средними доходами, что предположительно обусловлено более осознанным отношением к деньгам, которых может не хватать при нерациональном их использовании. Вместе с тем, именно граждане со средним доходом являются наиболее многочисленной группой, в которой наибольшее количество потенциальных клиентов. Разница с гражданами с низкими доходами не является существенной, а значит, данный показатель зависимости не может являться достаточным основанием для выбора клиентов с низкими доходами вместо клиентов со средними доходами."
   ]
  },
  {
   "cell_type": "markdown",
   "metadata": {},
   "source": [
    "- Влияние разных целей кредита на его возврат в срок"
   ]
  },
  {
   "cell_type": "code",
   "execution_count": 41,
   "metadata": {
    "scrolled": true
   },
   "outputs": [
    {
     "data": {
      "text/html": [
       "<div>\n",
       "<style scoped>\n",
       "    .dataframe tbody tr th:only-of-type {\n",
       "        vertical-align: middle;\n",
       "    }\n",
       "\n",
       "    .dataframe tbody tr th {\n",
       "        vertical-align: top;\n",
       "    }\n",
       "\n",
       "    .dataframe thead th {\n",
       "        text-align: right;\n",
       "    }\n",
       "</style>\n",
       "<table border=\"1\" class=\"dataframe\">\n",
       "  <thead>\n",
       "    <tr style=\"text-align: right;\">\n",
       "      <th></th>\n",
       "      <th>count_children</th>\n",
       "      <th>have_debt</th>\n",
       "      <th>share_of_debt</th>\n",
       "    </tr>\n",
       "    <tr>\n",
       "      <th>purpose_category</th>\n",
       "      <th></th>\n",
       "      <th></th>\n",
       "      <th></th>\n",
       "    </tr>\n",
       "  </thead>\n",
       "  <tbody>\n",
       "    <tr>\n",
       "      <td>автомобиль</td>\n",
       "      <td>4308</td>\n",
       "      <td>403</td>\n",
       "      <td>9.35</td>\n",
       "    </tr>\n",
       "    <tr>\n",
       "      <td>нежвижимость</td>\n",
       "      <td>10814</td>\n",
       "      <td>782</td>\n",
       "      <td>7.23</td>\n",
       "    </tr>\n",
       "    <tr>\n",
       "      <td>образование</td>\n",
       "      <td>4014</td>\n",
       "      <td>370</td>\n",
       "      <td>9.22</td>\n",
       "    </tr>\n",
       "    <tr>\n",
       "      <td>свадьба</td>\n",
       "      <td>2335</td>\n",
       "      <td>186</td>\n",
       "      <td>7.97</td>\n",
       "    </tr>\n",
       "  </tbody>\n",
       "</table>\n",
       "</div>"
      ],
      "text/plain": [
       "                  count_children  have_debt  share_of_debt\n",
       "purpose_category                                          \n",
       "автомобиль                  4308        403           9.35\n",
       "нежвижимость               10814        782           7.23\n",
       "образование                 4014        370           9.22\n",
       "свадьба                     2335        186           7.97"
      ]
     },
     "execution_count": 41,
     "metadata": {},
     "output_type": "execute_result"
    }
   ],
   "source": [
    "# создание таблицы о целях кредита и задолженности\n",
    "debt_and_purpose = pd.DataFrame()\n",
    "debt_and_purpose['count_children'] = df.groupby('purpose_category')['debt'].count()\n",
    "debt_and_purpose['have_debt'] = df.groupby('purpose_category')['debt'].sum()\n",
    "debt_and_purpose['share_of_debt'] = round(debt_and_purpose['have_debt'] / debt_and_purpose['count_children'] * 100, 2)\n",
    "debt_and_purpose"
   ]
  },
  {
   "cell_type": "markdown",
   "metadata": {},
   "source": [
    "**Вывод**"
   ]
  },
  {
   "cell_type": "markdown",
   "metadata": {},
   "source": [
    "Из 4 категорий целей кредита наиболее надежными заемщиками являются клиенты, которые покупают недвижимость - 7,23%. Наименее надежные те, которые приобретают автомобиль (9,35%) или вложились в образование (9,22%). Доля клиентов, взявших средства на свадьбу и просрочивших выплату кредита, составляет 7,97%."
   ]
  },
  {
   "cell_type": "markdown",
   "metadata": {},
   "source": [
    "## Шаг 4. Общий вывод"
   ]
  },
  {
   "cell_type": "markdown",
   "metadata": {},
   "source": [
    "Таким образом, в ходе данного исследования было выявлено, что существует зависимость между возвратом кредита в срок и рядом факторов. Во-первых, клиенты без детей являются более платежеспособными и в меньшей степени склонны к просрочке погашения кредитов. Доля невыплативших своевременно кредит составляет 7,5%, в отличие от клиентов с детьми, доля которых - 9,2%.\n",
    "\n",
    "Во-вторых, на кредитоспособность клиента влияет семейное положение, в особенности то, насколько негативным был опыт клиента. Потерявшие супруга или супругу и разведенные менее склонны к неоплатам кредита, доля непогасивших кредит вовремя - 6,57% и 7,5% соответственно. При этом доля тех, кто не был в официальных отношениях или проживал в гражданском браке, составляет 9,75% в 9,32% соответственно.\n",
    "\n",
    "В-третьих, граждане с высокими доходами, как правило, реже пропускают сроки погашения кредита. Доля непогасивших вовремя составляет 6,97%. А вот разница невыплат между гражданами с низкими и средними доходами незначительна и находится в пределах примерно 1%.\n",
    "\n",
    "В-четвертых, ипотечные заемщики являются более надежными клиентами, чем покупатели автомобилей или взявшие образовательный кредит. 7,23% ипотечных заемщиков не платят вовремя кредит. Также более надежными являются клиенты, целями кредита которых - финансирование свадьбы. Их доля невыплат составляет 7.97%."
   ]
  }
 ],
 "metadata": {
  "ExecuteTimeLog": [
   {
    "duration": 813,
    "start_time": "2021-12-16T15:00:36.906Z"
   },
   {
    "duration": 70,
    "start_time": "2021-12-16T15:01:25.233Z"
   },
   {
    "duration": 4,
    "start_time": "2021-12-16T15:03:46.612Z"
   },
   {
    "duration": 61,
    "start_time": "2021-12-16T15:03:48.640Z"
   },
   {
    "duration": 780,
    "start_time": "2021-12-16T15:04:01.507Z"
   },
   {
    "duration": 64,
    "start_time": "2021-12-16T15:04:04.633Z"
   },
   {
    "duration": 30,
    "start_time": "2021-12-16T15:05:06.345Z"
   },
   {
    "duration": 15,
    "start_time": "2021-12-16T15:05:10.940Z"
   },
   {
    "duration": 32,
    "start_time": "2021-12-16T16:00:00.282Z"
   },
   {
    "duration": 62,
    "start_time": "2021-12-16T16:00:12.505Z"
   },
   {
    "duration": 718,
    "start_time": "2021-12-17T17:34:57.131Z"
   },
   {
    "duration": 1624,
    "start_time": "2021-12-17T17:35:11.184Z"
   },
   {
    "duration": 54,
    "start_time": "2021-12-17T17:35:12.810Z"
   },
   {
    "duration": 19,
    "start_time": "2021-12-17T17:35:12.865Z"
   },
   {
    "duration": 11,
    "start_time": "2021-12-17T17:35:16.228Z"
   },
   {
    "duration": 10,
    "start_time": "2021-12-17T17:35:24.438Z"
   },
   {
    "duration": 8214,
    "start_time": "2021-12-17T17:37:08.428Z"
   },
   {
    "duration": 9,
    "start_time": "2021-12-17T17:37:31.531Z"
   },
   {
    "duration": 13,
    "start_time": "2021-12-17T17:37:50.978Z"
   },
   {
    "duration": 8,
    "start_time": "2021-12-17T17:54:58.950Z"
   },
   {
    "duration": 1071,
    "start_time": "2021-12-17T17:55:14.523Z"
   },
   {
    "duration": 5,
    "start_time": "2021-12-17T17:55:26.999Z"
   },
   {
    "duration": 6,
    "start_time": "2021-12-17T17:56:49.545Z"
   },
   {
    "duration": 5,
    "start_time": "2021-12-17T17:57:01.760Z"
   },
   {
    "duration": 604,
    "start_time": "2021-12-17T17:57:19.401Z"
   },
   {
    "duration": 52,
    "start_time": "2021-12-17T17:57:20.675Z"
   },
   {
    "duration": 19,
    "start_time": "2021-12-17T17:57:21.985Z"
   },
   {
    "duration": 5,
    "start_time": "2021-12-17T17:57:24.888Z"
   },
   {
    "duration": 6,
    "start_time": "2021-12-17T17:57:29.296Z"
   },
   {
    "duration": 387,
    "start_time": "2021-12-17T17:58:03.889Z"
   },
   {
    "duration": 289,
    "start_time": "2021-12-17T17:58:13.204Z"
   },
   {
    "duration": 11,
    "start_time": "2021-12-17T17:58:23.468Z"
   },
   {
    "duration": 5,
    "start_time": "2021-12-17T17:58:42.399Z"
   },
   {
    "duration": 5,
    "start_time": "2021-12-17T17:59:00.517Z"
   },
   {
    "duration": 5,
    "start_time": "2021-12-17T17:59:03.444Z"
   },
   {
    "duration": 5,
    "start_time": "2021-12-17T17:59:14.369Z"
   },
   {
    "duration": 4,
    "start_time": "2021-12-17T17:59:30.913Z"
   },
   {
    "duration": 7,
    "start_time": "2021-12-17T18:00:55.277Z"
   },
   {
    "duration": 6,
    "start_time": "2021-12-17T18:01:02.941Z"
   },
   {
    "duration": 7,
    "start_time": "2021-12-17T18:01:05.432Z"
   },
   {
    "duration": 278,
    "start_time": "2021-12-17T18:01:15.667Z"
   },
   {
    "duration": 8,
    "start_time": "2021-12-17T18:01:19.751Z"
   },
   {
    "duration": 8,
    "start_time": "2021-12-17T18:01:30.743Z"
   },
   {
    "duration": 10,
    "start_time": "2021-12-17T18:01:36.976Z"
   },
   {
    "duration": 12,
    "start_time": "2021-12-17T18:02:21.620Z"
   },
   {
    "duration": 9,
    "start_time": "2021-12-17T18:02:28.862Z"
   },
   {
    "duration": 313,
    "start_time": "2021-12-17T18:04:56.253Z"
   },
   {
    "duration": 297,
    "start_time": "2021-12-17T18:05:02.118Z"
   },
   {
    "duration": 23,
    "start_time": "2021-12-17T18:07:22.802Z"
   },
   {
    "duration": 10,
    "start_time": "2021-12-17T18:07:59.089Z"
   },
   {
    "duration": 24,
    "start_time": "2021-12-17T18:08:03.358Z"
   },
   {
    "duration": 26,
    "start_time": "2021-12-17T18:08:24.050Z"
   },
   {
    "duration": 22,
    "start_time": "2021-12-17T18:08:42.047Z"
   },
   {
    "duration": 4,
    "start_time": "2021-12-17T18:10:20.679Z"
   },
   {
    "duration": 10,
    "start_time": "2021-12-17T18:10:23.830Z"
   },
   {
    "duration": 9,
    "start_time": "2021-12-17T18:10:28.176Z"
   },
   {
    "duration": 583,
    "start_time": "2021-12-17T18:10:37.221Z"
   },
   {
    "duration": 53,
    "start_time": "2021-12-17T18:10:37.806Z"
   },
   {
    "duration": 20,
    "start_time": "2021-12-17T18:10:37.862Z"
   },
   {
    "duration": 32,
    "start_time": "2021-12-17T18:10:37.885Z"
   },
   {
    "duration": 12,
    "start_time": "2021-12-17T18:10:37.919Z"
   },
   {
    "duration": 11,
    "start_time": "2021-12-17T18:10:37.933Z"
   },
   {
    "duration": 4,
    "start_time": "2021-12-17T18:10:37.946Z"
   },
   {
    "duration": 12,
    "start_time": "2021-12-17T18:10:37.952Z"
   },
   {
    "duration": 383,
    "start_time": "2021-12-17T18:13:07.648Z"
   },
   {
    "duration": 318,
    "start_time": "2021-12-17T18:13:11.414Z"
   },
   {
    "duration": 314,
    "start_time": "2021-12-17T18:13:35.281Z"
   },
   {
    "duration": 5,
    "start_time": "2021-12-17T18:13:38.344Z"
   },
   {
    "duration": 5,
    "start_time": "2021-12-17T18:15:40.423Z"
   },
   {
    "duration": 5,
    "start_time": "2021-12-17T18:15:44.088Z"
   },
   {
    "duration": 5,
    "start_time": "2021-12-17T18:16:01.465Z"
   },
   {
    "duration": 10,
    "start_time": "2021-12-17T18:16:09.475Z"
   },
   {
    "duration": 591,
    "start_time": "2021-12-17T18:16:20.334Z"
   },
   {
    "duration": 54,
    "start_time": "2021-12-17T18:16:20.927Z"
   },
   {
    "duration": 19,
    "start_time": "2021-12-17T18:16:20.983Z"
   },
   {
    "duration": 22,
    "start_time": "2021-12-17T18:16:21.004Z"
   },
   {
    "duration": 11,
    "start_time": "2021-12-17T18:16:21.028Z"
   },
   {
    "duration": 9,
    "start_time": "2021-12-17T18:16:21.041Z"
   },
   {
    "duration": 9,
    "start_time": "2021-12-17T18:16:21.052Z"
   },
   {
    "duration": 49,
    "start_time": "2021-12-17T18:16:21.063Z"
   },
   {
    "duration": 5,
    "start_time": "2021-12-17T18:16:21.114Z"
   },
   {
    "duration": 1229,
    "start_time": "2021-12-17T18:17:42.482Z"
   },
   {
    "duration": 1992,
    "start_time": "2021-12-17T18:18:28.884Z"
   },
   {
    "duration": 6,
    "start_time": "2021-12-17T18:18:43.707Z"
   },
   {
    "duration": 5,
    "start_time": "2021-12-17T18:18:47.267Z"
   },
   {
    "duration": 6,
    "start_time": "2021-12-17T18:18:57.250Z"
   },
   {
    "duration": 6,
    "start_time": "2021-12-17T18:18:59.866Z"
   },
   {
    "duration": 5,
    "start_time": "2021-12-17T18:19:58.811Z"
   },
   {
    "duration": 721,
    "start_time": "2021-12-17T18:20:12.018Z"
   },
   {
    "duration": 54,
    "start_time": "2021-12-17T18:20:12.741Z"
   },
   {
    "duration": 19,
    "start_time": "2021-12-17T18:20:12.799Z"
   },
   {
    "duration": 21,
    "start_time": "2021-12-17T18:20:12.820Z"
   },
   {
    "duration": 11,
    "start_time": "2021-12-17T18:20:12.843Z"
   },
   {
    "duration": 9,
    "start_time": "2021-12-17T18:20:12.855Z"
   },
   {
    "duration": 4,
    "start_time": "2021-12-17T18:20:12.867Z"
   },
   {
    "duration": 39,
    "start_time": "2021-12-17T18:20:12.873Z"
   },
   {
    "duration": 5,
    "start_time": "2021-12-17T18:20:12.913Z"
   },
   {
    "duration": 5,
    "start_time": "2021-12-17T18:20:12.919Z"
   },
   {
    "duration": 3,
    "start_time": "2021-12-17T18:20:28.603Z"
   },
   {
    "duration": 14,
    "start_time": "2021-12-17T18:20:38.544Z"
   },
   {
    "duration": 6,
    "start_time": "2021-12-17T18:21:51.594Z"
   },
   {
    "duration": 5,
    "start_time": "2021-12-17T18:21:56.933Z"
   },
   {
    "duration": 5,
    "start_time": "2021-12-17T18:22:11.962Z"
   },
   {
    "duration": 11,
    "start_time": "2021-12-17T18:22:19.682Z"
   },
   {
    "duration": 5,
    "start_time": "2021-12-17T18:22:27.202Z"
   },
   {
    "duration": 5,
    "start_time": "2021-12-17T18:22:54.127Z"
   },
   {
    "duration": 5,
    "start_time": "2021-12-17T18:23:01.841Z"
   },
   {
    "duration": 6,
    "start_time": "2021-12-17T18:29:16.598Z"
   },
   {
    "duration": 4,
    "start_time": "2021-12-17T18:29:41.293Z"
   },
   {
    "duration": 6,
    "start_time": "2021-12-17T18:29:48.017Z"
   },
   {
    "duration": 4,
    "start_time": "2021-12-17T18:29:52.829Z"
   },
   {
    "duration": 4,
    "start_time": "2021-12-17T18:30:04.867Z"
   },
   {
    "duration": 4,
    "start_time": "2021-12-17T18:30:24.341Z"
   },
   {
    "duration": 6,
    "start_time": "2021-12-17T18:30:26.569Z"
   },
   {
    "duration": 20,
    "start_time": "2021-12-17T18:30:34.276Z"
   },
   {
    "duration": 616,
    "start_time": "2021-12-17T18:31:38.491Z"
   },
   {
    "duration": 52,
    "start_time": "2021-12-17T18:31:39.109Z"
   },
   {
    "duration": 20,
    "start_time": "2021-12-17T18:31:39.163Z"
   },
   {
    "duration": 35,
    "start_time": "2021-12-17T18:31:39.186Z"
   },
   {
    "duration": 10,
    "start_time": "2021-12-17T18:31:39.223Z"
   },
   {
    "duration": 9,
    "start_time": "2021-12-17T18:31:39.234Z"
   },
   {
    "duration": 5,
    "start_time": "2021-12-17T18:31:39.244Z"
   },
   {
    "duration": 11,
    "start_time": "2021-12-17T18:31:39.251Z"
   },
   {
    "duration": 5,
    "start_time": "2021-12-17T18:31:39.264Z"
   },
   {
    "duration": 41,
    "start_time": "2021-12-17T18:31:39.270Z"
   },
   {
    "duration": 5,
    "start_time": "2021-12-17T18:31:39.313Z"
   },
   {
    "duration": 23,
    "start_time": "2021-12-17T18:41:44.306Z"
   },
   {
    "duration": 19,
    "start_time": "2021-12-17T18:42:13.873Z"
   },
   {
    "duration": 17,
    "start_time": "2021-12-17T18:42:28.529Z"
   },
   {
    "duration": 15,
    "start_time": "2021-12-17T18:44:09.506Z"
   },
   {
    "duration": 15,
    "start_time": "2021-12-17T18:44:56.833Z"
   },
   {
    "duration": 16,
    "start_time": "2021-12-17T18:45:12.202Z"
   },
   {
    "duration": 18,
    "start_time": "2021-12-17T18:45:33.588Z"
   },
   {
    "duration": 15,
    "start_time": "2021-12-17T18:46:46.492Z"
   },
   {
    "duration": 17,
    "start_time": "2021-12-17T18:47:03.385Z"
   },
   {
    "duration": 16,
    "start_time": "2021-12-17T18:47:21.311Z"
   },
   {
    "duration": 20,
    "start_time": "2021-12-17T18:47:43.370Z"
   },
   {
    "duration": 14,
    "start_time": "2021-12-17T18:59:50.756Z"
   },
   {
    "duration": 16,
    "start_time": "2021-12-17T19:00:51.497Z"
   },
   {
    "duration": 10,
    "start_time": "2021-12-17T19:02:12.121Z"
   },
   {
    "duration": 25,
    "start_time": "2021-12-17T19:02:14.978Z"
   },
   {
    "duration": 4,
    "start_time": "2021-12-17T19:16:42.884Z"
   },
   {
    "duration": 6,
    "start_time": "2021-12-17T19:16:47.408Z"
   },
   {
    "duration": 353,
    "start_time": "2021-12-17T19:16:59.543Z"
   },
   {
    "duration": 8,
    "start_time": "2021-12-17T19:17:05.417Z"
   },
   {
    "duration": 305,
    "start_time": "2021-12-17T19:17:06.298Z"
   },
   {
    "duration": 319,
    "start_time": "2021-12-17T19:19:10.737Z"
   },
   {
    "duration": 309,
    "start_time": "2021-12-17T19:19:18.146Z"
   },
   {
    "duration": 296,
    "start_time": "2021-12-17T19:19:24.155Z"
   },
   {
    "duration": 545,
    "start_time": "2021-12-17T19:19:44.874Z"
   },
   {
    "duration": 169,
    "start_time": "2021-12-17T19:19:50.030Z"
   },
   {
    "duration": 400,
    "start_time": "2021-12-17T19:19:52.089Z"
   },
   {
    "duration": 93,
    "start_time": "2021-12-17T19:23:05.930Z"
   },
   {
    "duration": 332,
    "start_time": "2021-12-17T19:23:16.058Z"
   },
   {
    "duration": 646,
    "start_time": "2021-12-17T19:23:46.804Z"
   },
   {
    "duration": 5,
    "start_time": "2021-12-17T19:23:51.091Z"
   },
   {
    "duration": 6,
    "start_time": "2021-12-17T19:24:00.379Z"
   },
   {
    "duration": 80,
    "start_time": "2021-12-17T19:40:01.987Z"
   },
   {
    "duration": 27,
    "start_time": "2021-12-17T19:40:07.318Z"
   },
   {
    "duration": 4,
    "start_time": "2021-12-17T19:42:11.918Z"
   },
   {
    "duration": 24,
    "start_time": "2021-12-17T19:42:21.115Z"
   },
   {
    "duration": 1039,
    "start_time": "2021-12-17T19:45:33.611Z"
   },
   {
    "duration": 328,
    "start_time": "2021-12-17T19:45:47.471Z"
   },
   {
    "duration": 291,
    "start_time": "2021-12-17T19:48:14.757Z"
   },
   {
    "duration": 1529,
    "start_time": "2021-12-17T19:50:57.116Z"
   },
   {
    "duration": 306,
    "start_time": "2021-12-17T19:51:10.993Z"
   },
   {
    "duration": 111,
    "start_time": "2021-12-17T19:52:09.678Z"
   },
   {
    "duration": 12,
    "start_time": "2021-12-17T19:52:13.990Z"
   },
   {
    "duration": 10,
    "start_time": "2021-12-17T19:52:30.308Z"
   },
   {
    "duration": 12,
    "start_time": "2021-12-17T19:52:37.920Z"
   },
   {
    "duration": 8,
    "start_time": "2021-12-17T19:52:49.033Z"
   },
   {
    "duration": 318,
    "start_time": "2021-12-17T19:52:56.439Z"
   },
   {
    "duration": 10,
    "start_time": "2021-12-17T19:53:03.926Z"
   },
   {
    "duration": 12,
    "start_time": "2021-12-17T19:53:30.068Z"
   },
   {
    "duration": 10,
    "start_time": "2021-12-17T19:53:51.819Z"
   },
   {
    "duration": 13,
    "start_time": "2021-12-17T19:54:05.411Z"
   },
   {
    "duration": 9,
    "start_time": "2021-12-17T19:57:41.466Z"
   },
   {
    "duration": 9,
    "start_time": "2021-12-17T19:59:30.912Z"
   },
   {
    "duration": 8,
    "start_time": "2021-12-17T19:59:45.329Z"
   },
   {
    "duration": 9,
    "start_time": "2021-12-17T19:59:46.541Z"
   },
   {
    "duration": 9,
    "start_time": "2021-12-17T19:59:48.860Z"
   },
   {
    "duration": 8,
    "start_time": "2021-12-17T20:00:54.348Z"
   },
   {
    "duration": 7,
    "start_time": "2021-12-17T20:00:59.067Z"
   },
   {
    "duration": 9,
    "start_time": "2021-12-17T20:01:12.491Z"
   },
   {
    "duration": 5,
    "start_time": "2021-12-17T20:02:11.156Z"
   },
   {
    "duration": 7,
    "start_time": "2021-12-17T20:02:14.942Z"
   },
   {
    "duration": 8,
    "start_time": "2021-12-17T20:02:29.890Z"
   },
   {
    "duration": 582,
    "start_time": "2021-12-17T20:04:13.664Z"
   },
   {
    "duration": 51,
    "start_time": "2021-12-17T20:04:14.248Z"
   },
   {
    "duration": 25,
    "start_time": "2021-12-17T20:04:14.302Z"
   },
   {
    "duration": 22,
    "start_time": "2021-12-17T20:04:14.328Z"
   },
   {
    "duration": 10,
    "start_time": "2021-12-17T20:04:14.351Z"
   },
   {
    "duration": 9,
    "start_time": "2021-12-17T20:04:14.362Z"
   },
   {
    "duration": 34,
    "start_time": "2021-12-17T20:04:14.372Z"
   },
   {
    "duration": 9,
    "start_time": "2021-12-17T20:04:14.409Z"
   },
   {
    "duration": 5,
    "start_time": "2021-12-17T20:04:14.419Z"
   },
   {
    "duration": 5,
    "start_time": "2021-12-17T20:04:14.425Z"
   },
   {
    "duration": 6,
    "start_time": "2021-12-17T20:04:14.431Z"
   },
   {
    "duration": 17,
    "start_time": "2021-12-17T20:04:14.438Z"
   },
   {
    "duration": 52,
    "start_time": "2021-12-17T20:04:14.457Z"
   },
   {
    "duration": 16,
    "start_time": "2021-12-17T20:04:14.510Z"
   },
   {
    "duration": 16,
    "start_time": "2021-12-17T20:04:14.527Z"
   },
   {
    "duration": 11,
    "start_time": "2021-12-17T20:04:14.545Z"
   },
   {
    "duration": 25,
    "start_time": "2021-12-17T20:04:14.558Z"
   },
   {
    "duration": 39,
    "start_time": "2021-12-17T20:04:14.585Z"
   },
   {
    "duration": 4,
    "start_time": "2021-12-17T20:04:14.625Z"
   },
   {
    "duration": 634,
    "start_time": "2021-12-17T20:04:14.631Z"
   },
   {
    "duration": 353,
    "start_time": "2021-12-17T20:04:15.267Z"
   },
   {
    "duration": -404,
    "start_time": "2021-12-17T20:04:16.026Z"
   },
   {
    "duration": -405,
    "start_time": "2021-12-17T20:04:16.028Z"
   },
   {
    "duration": -416,
    "start_time": "2021-12-17T20:04:16.040Z"
   },
   {
    "duration": -418,
    "start_time": "2021-12-17T20:04:16.043Z"
   },
   {
    "duration": -419,
    "start_time": "2021-12-17T20:04:16.045Z"
   },
   {
    "duration": -421,
    "start_time": "2021-12-17T20:04:16.048Z"
   },
   {
    "duration": 13,
    "start_time": "2021-12-17T20:04:28.159Z"
   },
   {
    "duration": 10,
    "start_time": "2021-12-17T20:04:30.127Z"
   },
   {
    "duration": 8,
    "start_time": "2021-12-17T20:04:33.779Z"
   },
   {
    "duration": 8,
    "start_time": "2021-12-17T20:04:35.567Z"
   },
   {
    "duration": 8,
    "start_time": "2021-12-17T20:04:36.926Z"
   },
   {
    "duration": 8,
    "start_time": "2021-12-17T20:04:38.818Z"
   },
   {
    "duration": 500,
    "start_time": "2021-12-17T20:09:09.660Z"
   },
   {
    "duration": 8,
    "start_time": "2021-12-17T20:09:16.920Z"
   },
   {
    "duration": 9,
    "start_time": "2021-12-17T20:09:17.875Z"
   },
   {
    "duration": 9,
    "start_time": "2021-12-17T20:09:52.345Z"
   },
   {
    "duration": 9,
    "start_time": "2021-12-17T20:10:07.099Z"
   },
   {
    "duration": 8,
    "start_time": "2021-12-17T20:10:08.697Z"
   },
   {
    "duration": 8,
    "start_time": "2021-12-17T20:10:28.028Z"
   },
   {
    "duration": 9,
    "start_time": "2021-12-17T20:10:30.034Z"
   },
   {
    "duration": 8,
    "start_time": "2021-12-17T20:10:37.466Z"
   },
   {
    "duration": 8,
    "start_time": "2021-12-17T20:12:08.125Z"
   },
   {
    "duration": 8,
    "start_time": "2021-12-17T20:12:14.943Z"
   },
   {
    "duration": 8,
    "start_time": "2021-12-17T20:12:16.931Z"
   },
   {
    "duration": 8,
    "start_time": "2021-12-17T20:15:25.903Z"
   },
   {
    "duration": 9,
    "start_time": "2021-12-17T20:17:13.672Z"
   },
   {
    "duration": 8,
    "start_time": "2021-12-17T20:17:14.873Z"
   },
   {
    "duration": 8,
    "start_time": "2021-12-17T20:17:56.294Z"
   },
   {
    "duration": 7,
    "start_time": "2021-12-17T20:18:48.210Z"
   },
   {
    "duration": 8,
    "start_time": "2021-12-17T20:18:49.057Z"
   },
   {
    "duration": 8,
    "start_time": "2021-12-17T20:18:50.034Z"
   },
   {
    "duration": 3,
    "start_time": "2021-12-17T20:20:45.323Z"
   },
   {
    "duration": 4,
    "start_time": "2021-12-17T20:21:00.417Z"
   },
   {
    "duration": 865,
    "start_time": "2021-12-17T20:21:25.400Z"
   },
   {
    "duration": 5,
    "start_time": "2021-12-17T20:22:16.933Z"
   },
   {
    "duration": 603,
    "start_time": "2021-12-17T20:22:18.784Z"
   },
   {
    "duration": 3,
    "start_time": "2021-12-17T20:23:48.894Z"
   },
   {
    "duration": 600,
    "start_time": "2021-12-17T20:23:50.269Z"
   },
   {
    "duration": 3,
    "start_time": "2021-12-17T20:24:03.106Z"
   },
   {
    "duration": 633,
    "start_time": "2021-12-17T20:24:05.325Z"
   },
   {
    "duration": 4,
    "start_time": "2021-12-17T20:32:37.431Z"
   },
   {
    "duration": 19,
    "start_time": "2021-12-17T20:32:40.913Z"
   },
   {
    "duration": 3,
    "start_time": "2021-12-17T20:32:48.410Z"
   },
   {
    "duration": 135,
    "start_time": "2021-12-17T21:47:37.596Z"
   },
   {
    "duration": 279,
    "start_time": "2021-12-17T21:47:43.019Z"
   },
   {
    "duration": 314,
    "start_time": "2021-12-17T21:48:14.749Z"
   },
   {
    "duration": 22,
    "start_time": "2021-12-17T21:48:24.671Z"
   },
   {
    "duration": 20,
    "start_time": "2021-12-17T21:48:32.043Z"
   },
   {
    "duration": 20,
    "start_time": "2021-12-17T21:48:44.786Z"
   },
   {
    "duration": 9,
    "start_time": "2021-12-17T21:49:27.052Z"
   },
   {
    "duration": 18,
    "start_time": "2021-12-17T21:49:31.159Z"
   },
   {
    "duration": 30,
    "start_time": "2021-12-17T22:11:16.353Z"
   },
   {
    "duration": 3,
    "start_time": "2021-12-17T22:12:41.287Z"
   },
   {
    "duration": 4,
    "start_time": "2021-12-17T22:12:43.610Z"
   },
   {
    "duration": 22,
    "start_time": "2021-12-17T22:12:48.069Z"
   },
   {
    "duration": 10,
    "start_time": "2021-12-17T22:13:50.327Z"
   },
   {
    "duration": 21,
    "start_time": "2021-12-17T22:14:10.326Z"
   },
   {
    "duration": 21,
    "start_time": "2021-12-17T22:14:53.072Z"
   },
   {
    "duration": 19,
    "start_time": "2021-12-17T22:15:35.061Z"
   },
   {
    "duration": 12,
    "start_time": "2021-12-17T22:16:36.371Z"
   },
   {
    "duration": 20,
    "start_time": "2021-12-17T22:16:43.419Z"
   },
   {
    "duration": 281,
    "start_time": "2021-12-17T22:16:59.671Z"
   },
   {
    "duration": 1591,
    "start_time": "2021-12-17T22:17:15.096Z"
   },
   {
    "duration": 1488,
    "start_time": "2021-12-17T22:17:26.943Z"
   },
   {
    "duration": 20,
    "start_time": "2021-12-17T22:17:35.758Z"
   },
   {
    "duration": 20,
    "start_time": "2021-12-17T22:17:46.947Z"
   },
   {
    "duration": 7,
    "start_time": "2021-12-17T22:19:17.561Z"
   },
   {
    "duration": 22,
    "start_time": "2021-12-17T22:19:21.908Z"
   },
   {
    "duration": 40,
    "start_time": "2021-12-17T22:20:11.128Z"
   },
   {
    "duration": 8,
    "start_time": "2021-12-17T22:21:40.959Z"
   },
   {
    "duration": 8,
    "start_time": "2021-12-17T22:21:48.696Z"
   },
   {
    "duration": 9,
    "start_time": "2021-12-17T22:21:59.003Z"
   },
   {
    "duration": 7,
    "start_time": "2021-12-17T22:22:07.274Z"
   },
   {
    "duration": 8,
    "start_time": "2021-12-17T22:22:09.790Z"
   },
   {
    "duration": 31,
    "start_time": "2021-12-17T22:22:16.043Z"
   },
   {
    "duration": 9,
    "start_time": "2021-12-17T22:22:44.591Z"
   },
   {
    "duration": 33,
    "start_time": "2021-12-17T22:23:20.087Z"
   },
   {
    "duration": 31,
    "start_time": "2021-12-17T22:23:52.348Z"
   },
   {
    "duration": 108,
    "start_time": "2021-12-19T21:35:57.766Z"
   },
   {
    "duration": 1054,
    "start_time": "2021-12-19T21:36:01.733Z"
   },
   {
    "duration": 68,
    "start_time": "2021-12-19T21:36:02.789Z"
   },
   {
    "duration": 28,
    "start_time": "2021-12-19T21:36:02.860Z"
   },
   {
    "duration": 22,
    "start_time": "2021-12-19T21:36:02.890Z"
   },
   {
    "duration": 14,
    "start_time": "2021-12-19T21:36:02.914Z"
   },
   {
    "duration": 12,
    "start_time": "2021-12-19T21:36:02.960Z"
   },
   {
    "duration": 6,
    "start_time": "2021-12-19T21:36:02.975Z"
   },
   {
    "duration": 14,
    "start_time": "2021-12-19T21:36:02.986Z"
   },
   {
    "duration": 6,
    "start_time": "2021-12-19T21:36:03.003Z"
   },
   {
    "duration": 51,
    "start_time": "2021-12-19T21:36:03.011Z"
   },
   {
    "duration": 7,
    "start_time": "2021-12-19T21:36:03.065Z"
   },
   {
    "duration": 5,
    "start_time": "2021-12-19T21:36:03.074Z"
   },
   {
    "duration": 78,
    "start_time": "2021-12-19T21:36:03.081Z"
   },
   {
    "duration": 26,
    "start_time": "2021-12-19T21:36:03.161Z"
   },
   {
    "duration": 29,
    "start_time": "2021-12-19T21:36:03.189Z"
   },
   {
    "duration": 53,
    "start_time": "2021-12-19T21:36:03.220Z"
   },
   {
    "duration": 20,
    "start_time": "2021-12-19T21:36:03.275Z"
   },
   {
    "duration": 16,
    "start_time": "2021-12-19T21:36:03.297Z"
   },
   {
    "duration": 61,
    "start_time": "2021-12-19T21:36:03.315Z"
   },
   {
    "duration": 24,
    "start_time": "2021-12-19T21:36:03.378Z"
   },
   {
    "duration": 5,
    "start_time": "2021-12-19T21:36:03.405Z"
   },
   {
    "duration": 948,
    "start_time": "2021-12-19T21:36:03.413Z"
   },
   {
    "duration": 886,
    "start_time": "2021-12-19T21:36:04.367Z"
   },
   {
    "duration": -27,
    "start_time": "2021-12-19T21:36:05.283Z"
   },
   {
    "duration": -33,
    "start_time": "2021-12-19T21:36:05.291Z"
   },
   {
    "duration": -39,
    "start_time": "2021-12-19T21:36:05.298Z"
   },
   {
    "duration": -50,
    "start_time": "2021-12-19T21:36:05.310Z"
   },
   {
    "duration": -51,
    "start_time": "2021-12-19T21:36:05.313Z"
   },
   {
    "duration": -58,
    "start_time": "2021-12-19T21:36:05.321Z"
   },
   {
    "duration": -58,
    "start_time": "2021-12-19T21:36:05.323Z"
   },
   {
    "duration": -59,
    "start_time": "2021-12-19T21:36:05.326Z"
   },
   {
    "duration": -59,
    "start_time": "2021-12-19T21:36:05.328Z"
   },
   {
    "duration": -60,
    "start_time": "2021-12-19T21:36:05.330Z"
   },
   {
    "duration": -66,
    "start_time": "2021-12-19T21:36:05.337Z"
   },
   {
    "duration": -66,
    "start_time": "2021-12-19T21:36:05.339Z"
   },
   {
    "duration": -68,
    "start_time": "2021-12-19T21:36:05.342Z"
   },
   {
    "duration": -69,
    "start_time": "2021-12-19T21:36:05.344Z"
   },
   {
    "duration": -69,
    "start_time": "2021-12-19T21:36:05.346Z"
   },
   {
    "duration": -75,
    "start_time": "2021-12-19T21:36:05.353Z"
   },
   {
    "duration": -75,
    "start_time": "2021-12-19T21:36:05.355Z"
   },
   {
    "duration": -76,
    "start_time": "2021-12-19T21:36:05.357Z"
   },
   {
    "duration": -75,
    "start_time": "2021-12-19T21:36:05.358Z"
   },
   {
    "duration": -76,
    "start_time": "2021-12-19T21:36:05.360Z"
   },
   {
    "duration": 416,
    "start_time": "2021-12-19T21:37:02.109Z"
   },
   {
    "duration": 13,
    "start_time": "2021-12-19T21:37:07.284Z"
   },
   {
    "duration": 441,
    "start_time": "2021-12-19T21:37:33.269Z"
   },
   {
    "duration": 12,
    "start_time": "2021-12-19T21:37:49.316Z"
   },
   {
    "duration": 11,
    "start_time": "2021-12-19T21:38:13.802Z"
   },
   {
    "duration": 13,
    "start_time": "2021-12-19T21:38:16.736Z"
   },
   {
    "duration": 10,
    "start_time": "2021-12-19T21:38:22.644Z"
   },
   {
    "duration": 11,
    "start_time": "2021-12-19T21:38:54.623Z"
   },
   {
    "duration": 11,
    "start_time": "2021-12-19T21:38:57.759Z"
   },
   {
    "duration": 801,
    "start_time": "2021-12-20T15:37:47.840Z"
   },
   {
    "duration": 65,
    "start_time": "2021-12-20T15:37:48.643Z"
   },
   {
    "duration": 28,
    "start_time": "2021-12-20T15:37:48.711Z"
   },
   {
    "duration": 37,
    "start_time": "2021-12-20T15:37:48.742Z"
   },
   {
    "duration": 16,
    "start_time": "2021-12-20T15:37:48.782Z"
   },
   {
    "duration": 12,
    "start_time": "2021-12-20T15:37:48.800Z"
   },
   {
    "duration": 5,
    "start_time": "2021-12-20T15:37:48.814Z"
   },
   {
    "duration": 12,
    "start_time": "2021-12-20T15:37:48.860Z"
   },
   {
    "duration": 6,
    "start_time": "2021-12-20T15:37:48.876Z"
   },
   {
    "duration": 6,
    "start_time": "2021-12-20T15:37:48.885Z"
   },
   {
    "duration": 10,
    "start_time": "2021-12-20T15:37:48.893Z"
   },
   {
    "duration": 12,
    "start_time": "2021-12-20T15:37:48.906Z"
   },
   {
    "duration": 84,
    "start_time": "2021-12-20T15:37:48.920Z"
   },
   {
    "duration": 24,
    "start_time": "2021-12-20T15:37:49.007Z"
   },
   {
    "duration": 48,
    "start_time": "2021-12-20T15:37:49.034Z"
   },
   {
    "duration": 25,
    "start_time": "2021-12-20T15:37:49.085Z"
   },
   {
    "duration": 20,
    "start_time": "2021-12-20T15:37:49.113Z"
   },
   {
    "duration": 16,
    "start_time": "2021-12-20T15:37:49.159Z"
   },
   {
    "duration": 38,
    "start_time": "2021-12-20T15:37:49.178Z"
   },
   {
    "duration": 47,
    "start_time": "2021-12-20T15:37:49.219Z"
   },
   {
    "duration": 7,
    "start_time": "2021-12-20T15:37:49.269Z"
   },
   {
    "duration": 965,
    "start_time": "2021-12-20T15:37:49.279Z"
   },
   {
    "duration": 1098,
    "start_time": "2021-12-20T15:37:50.259Z"
   },
   {
    "duration": -435,
    "start_time": "2021-12-20T15:37:51.796Z"
   },
   {
    "duration": -438,
    "start_time": "2021-12-20T15:37:51.801Z"
   },
   {
    "duration": -446,
    "start_time": "2021-12-20T15:37:51.810Z"
   },
   {
    "duration": -462,
    "start_time": "2021-12-20T15:37:51.828Z"
   },
   {
    "duration": -470,
    "start_time": "2021-12-20T15:37:51.838Z"
   },
   {
    "duration": -476,
    "start_time": "2021-12-20T15:37:51.845Z"
   },
   {
    "duration": -482,
    "start_time": "2021-12-20T15:37:51.854Z"
   },
   {
    "duration": -483,
    "start_time": "2021-12-20T15:37:51.857Z"
   },
   {
    "duration": -488,
    "start_time": "2021-12-20T15:37:51.864Z"
   },
   {
    "duration": -489,
    "start_time": "2021-12-20T15:37:51.867Z"
   },
   {
    "duration": -490,
    "start_time": "2021-12-20T15:37:51.870Z"
   },
   {
    "duration": -492,
    "start_time": "2021-12-20T15:37:51.873Z"
   },
   {
    "duration": -497,
    "start_time": "2021-12-20T15:37:51.879Z"
   },
   {
    "duration": -498,
    "start_time": "2021-12-20T15:37:51.882Z"
   },
   {
    "duration": -500,
    "start_time": "2021-12-20T15:37:51.885Z"
   },
   {
    "duration": -502,
    "start_time": "2021-12-20T15:37:51.888Z"
   },
   {
    "duration": -503,
    "start_time": "2021-12-20T15:37:51.891Z"
   },
   {
    "duration": -510,
    "start_time": "2021-12-20T15:37:51.899Z"
   },
   {
    "duration": -513,
    "start_time": "2021-12-20T15:37:51.904Z"
   },
   {
    "duration": -514,
    "start_time": "2021-12-20T15:37:51.906Z"
   },
   {
    "duration": 782,
    "start_time": "2021-12-20T15:37:59.973Z"
   },
   {
    "duration": 73,
    "start_time": "2021-12-20T15:38:00.758Z"
   },
   {
    "duration": 54,
    "start_time": "2021-12-20T15:38:00.838Z"
   },
   {
    "duration": 33,
    "start_time": "2021-12-20T15:38:00.894Z"
   },
   {
    "duration": 31,
    "start_time": "2021-12-20T15:38:00.929Z"
   },
   {
    "duration": 17,
    "start_time": "2021-12-20T15:38:00.962Z"
   },
   {
    "duration": 10,
    "start_time": "2021-12-20T15:38:00.985Z"
   },
   {
    "duration": 29,
    "start_time": "2021-12-20T15:38:00.999Z"
   },
   {
    "duration": 28,
    "start_time": "2021-12-20T15:38:01.031Z"
   },
   {
    "duration": 9,
    "start_time": "2021-12-20T15:38:01.061Z"
   },
   {
    "duration": 11,
    "start_time": "2021-12-20T15:38:01.073Z"
   },
   {
    "duration": 17,
    "start_time": "2021-12-20T15:38:01.087Z"
   },
   {
    "duration": 77,
    "start_time": "2021-12-20T15:38:01.107Z"
   },
   {
    "duration": 36,
    "start_time": "2021-12-20T15:38:01.186Z"
   },
   {
    "duration": 52,
    "start_time": "2021-12-20T15:38:01.224Z"
   },
   {
    "duration": 28,
    "start_time": "2021-12-20T15:38:01.279Z"
   },
   {
    "duration": 51,
    "start_time": "2021-12-20T15:38:01.310Z"
   },
   {
    "duration": 19,
    "start_time": "2021-12-20T15:38:01.364Z"
   },
   {
    "duration": 68,
    "start_time": "2021-12-20T15:38:01.385Z"
   },
   {
    "duration": 30,
    "start_time": "2021-12-20T15:38:01.456Z"
   },
   {
    "duration": 22,
    "start_time": "2021-12-20T15:38:01.489Z"
   },
   {
    "duration": 1011,
    "start_time": "2021-12-20T15:38:01.514Z"
   },
   {
    "duration": 2029,
    "start_time": "2021-12-20T15:38:02.528Z"
   },
   {
    "duration": -542,
    "start_time": "2021-12-20T15:38:05.103Z"
   },
   {
    "duration": -547,
    "start_time": "2021-12-20T15:38:05.109Z"
   },
   {
    "duration": -552,
    "start_time": "2021-12-20T15:38:05.116Z"
   },
   {
    "duration": -552,
    "start_time": "2021-12-20T15:38:05.118Z"
   },
   {
    "duration": -554,
    "start_time": "2021-12-20T15:38:05.121Z"
   },
   {
    "duration": -556,
    "start_time": "2021-12-20T15:38:05.125Z"
   },
   {
    "duration": -560,
    "start_time": "2021-12-20T15:38:05.130Z"
   },
   {
    "duration": -561,
    "start_time": "2021-12-20T15:38:05.132Z"
   },
   {
    "duration": -564,
    "start_time": "2021-12-20T15:38:05.136Z"
   },
   {
    "duration": -565,
    "start_time": "2021-12-20T15:38:05.139Z"
   },
   {
    "duration": -569,
    "start_time": "2021-12-20T15:38:05.144Z"
   },
   {
    "duration": -570,
    "start_time": "2021-12-20T15:38:05.147Z"
   },
   {
    "duration": -570,
    "start_time": "2021-12-20T15:38:05.149Z"
   },
   {
    "duration": -573,
    "start_time": "2021-12-20T15:38:05.153Z"
   },
   {
    "duration": -573,
    "start_time": "2021-12-20T15:38:05.155Z"
   },
   {
    "duration": -577,
    "start_time": "2021-12-20T15:38:05.160Z"
   },
   {
    "duration": -579,
    "start_time": "2021-12-20T15:38:05.164Z"
   },
   {
    "duration": -581,
    "start_time": "2021-12-20T15:38:05.167Z"
   },
   {
    "duration": -582,
    "start_time": "2021-12-20T15:38:05.170Z"
   },
   {
    "duration": -584,
    "start_time": "2021-12-20T15:38:05.173Z"
   },
   {
    "duration": 5,
    "start_time": "2021-12-20T15:52:31.841Z"
   },
   {
    "duration": 4,
    "start_time": "2021-12-20T15:52:33.370Z"
   },
   {
    "duration": 4,
    "start_time": "2021-12-20T15:52:34.388Z"
   },
   {
    "duration": 53,
    "start_time": "2021-12-20T15:52:35.976Z"
   },
   {
    "duration": 51,
    "start_time": "2021-12-20T15:52:43.154Z"
   },
   {
    "duration": 30,
    "start_time": "2021-12-20T15:52:54.253Z"
   },
   {
    "duration": 335,
    "start_time": "2021-12-20T15:58:32.396Z"
   },
   {
    "duration": 8,
    "start_time": "2021-12-20T15:58:45.535Z"
   },
   {
    "duration": 30,
    "start_time": "2021-12-20T15:58:52.558Z"
   },
   {
    "duration": 8,
    "start_time": "2021-12-20T16:06:52.831Z"
   },
   {
    "duration": 12,
    "start_time": "2021-12-20T16:06:56.525Z"
   },
   {
    "duration": 31,
    "start_time": "2021-12-20T16:07:08.458Z"
   },
   {
    "duration": 318,
    "start_time": "2021-12-20T16:21:10.598Z"
   },
   {
    "duration": 308,
    "start_time": "2021-12-20T16:21:35.343Z"
   },
   {
    "duration": 377,
    "start_time": "2021-12-20T16:21:48.515Z"
   },
   {
    "duration": 2448,
    "start_time": "2021-12-20T16:22:05.206Z"
   },
   {
    "duration": 334,
    "start_time": "2021-12-20T17:03:24.326Z"
   },
   {
    "duration": 708,
    "start_time": "2021-12-20T17:03:36.121Z"
   },
   {
    "duration": 649,
    "start_time": "2021-12-20T17:04:30.242Z"
   },
   {
    "duration": 630,
    "start_time": "2021-12-20T17:05:07.369Z"
   },
   {
    "duration": 339,
    "start_time": "2021-12-20T17:06:29.299Z"
   },
   {
    "duration": 642,
    "start_time": "2021-12-20T17:06:34.152Z"
   },
   {
    "duration": 634,
    "start_time": "2021-12-20T17:07:03.716Z"
   },
   {
    "duration": 640,
    "start_time": "2021-12-20T17:08:12.120Z"
   },
   {
    "duration": 648,
    "start_time": "2021-12-20T17:08:23.860Z"
   },
   {
    "duration": 634,
    "start_time": "2021-12-20T17:08:44.790Z"
   },
   {
    "duration": 722,
    "start_time": "2021-12-20T17:09:27.100Z"
   },
   {
    "duration": 1121,
    "start_time": "2021-12-20T17:09:30.002Z"
   },
   {
    "duration": 689,
    "start_time": "2021-12-20T17:09:52.977Z"
   },
   {
    "duration": 631,
    "start_time": "2021-12-20T17:10:13.049Z"
   },
   {
    "duration": 629,
    "start_time": "2021-12-20T17:10:23.698Z"
   },
   {
    "duration": 4,
    "start_time": "2021-12-20T17:10:39.963Z"
   },
   {
    "duration": 33,
    "start_time": "2021-12-20T17:10:44.747Z"
   },
   {
    "duration": 890,
    "start_time": "2021-12-20T17:11:00.268Z"
   },
   {
    "duration": 72,
    "start_time": "2021-12-20T17:11:01.162Z"
   },
   {
    "duration": 31,
    "start_time": "2021-12-20T17:11:01.237Z"
   },
   {
    "duration": 28,
    "start_time": "2021-12-20T17:11:01.271Z"
   },
   {
    "duration": 15,
    "start_time": "2021-12-20T17:11:01.302Z"
   },
   {
    "duration": 42,
    "start_time": "2021-12-20T17:11:01.319Z"
   },
   {
    "duration": 2316,
    "start_time": "2021-12-20T17:11:01.364Z"
   },
   {
    "duration": 13,
    "start_time": "2021-12-20T17:11:03.684Z"
   },
   {
    "duration": 15,
    "start_time": "2021-12-20T17:11:03.700Z"
   },
   {
    "duration": 798,
    "start_time": "2021-12-20T17:11:03.717Z"
   },
   {
    "duration": -421,
    "start_time": "2021-12-20T17:11:04.940Z"
   },
   {
    "duration": -425,
    "start_time": "2021-12-20T17:11:04.945Z"
   },
   {
    "duration": -426,
    "start_time": "2021-12-20T17:11:04.948Z"
   },
   {
    "duration": -429,
    "start_time": "2021-12-20T17:11:04.953Z"
   },
   {
    "duration": -434,
    "start_time": "2021-12-20T17:11:04.959Z"
   },
   {
    "duration": -436,
    "start_time": "2021-12-20T17:11:04.962Z"
   },
   {
    "duration": -436,
    "start_time": "2021-12-20T17:11:04.964Z"
   },
   {
    "duration": -439,
    "start_time": "2021-12-20T17:11:04.968Z"
   },
   {
    "duration": -444,
    "start_time": "2021-12-20T17:11:04.974Z"
   },
   {
    "duration": -444,
    "start_time": "2021-12-20T17:11:04.976Z"
   },
   {
    "duration": -446,
    "start_time": "2021-12-20T17:11:04.980Z"
   },
   {
    "duration": -447,
    "start_time": "2021-12-20T17:11:04.982Z"
   },
   {
    "duration": -453,
    "start_time": "2021-12-20T17:11:04.990Z"
   },
   {
    "duration": -455,
    "start_time": "2021-12-20T17:11:04.993Z"
   },
   {
    "duration": -456,
    "start_time": "2021-12-20T17:11:04.996Z"
   },
   {
    "duration": -458,
    "start_time": "2021-12-20T17:11:04.999Z"
   },
   {
    "duration": -460,
    "start_time": "2021-12-20T17:11:05.003Z"
   },
   {
    "duration": -466,
    "start_time": "2021-12-20T17:11:05.011Z"
   },
   {
    "duration": -468,
    "start_time": "2021-12-20T17:11:05.014Z"
   },
   {
    "duration": -469,
    "start_time": "2021-12-20T17:11:05.017Z"
   },
   {
    "duration": -474,
    "start_time": "2021-12-20T17:11:05.023Z"
   },
   {
    "duration": -475,
    "start_time": "2021-12-20T17:11:05.026Z"
   },
   {
    "duration": -475,
    "start_time": "2021-12-20T17:11:05.028Z"
   },
   {
    "duration": -477,
    "start_time": "2021-12-20T17:11:05.031Z"
   },
   {
    "duration": -475,
    "start_time": "2021-12-20T17:11:05.034Z"
   },
   {
    "duration": -478,
    "start_time": "2021-12-20T17:11:05.039Z"
   },
   {
    "duration": -481,
    "start_time": "2021-12-20T17:11:05.043Z"
   },
   {
    "duration": -481,
    "start_time": "2021-12-20T17:11:05.045Z"
   },
   {
    "duration": -482,
    "start_time": "2021-12-20T17:11:05.048Z"
   },
   {
    "duration": -483,
    "start_time": "2021-12-20T17:11:05.050Z"
   },
   {
    "duration": -487,
    "start_time": "2021-12-20T17:11:05.056Z"
   },
   {
    "duration": -488,
    "start_time": "2021-12-20T17:11:05.059Z"
   },
   {
    "duration": -489,
    "start_time": "2021-12-20T17:11:05.061Z"
   },
   {
    "duration": 322,
    "start_time": "2021-12-20T17:11:16.598Z"
   },
   {
    "duration": 2278,
    "start_time": "2021-12-20T17:11:34.941Z"
   },
   {
    "duration": 15,
    "start_time": "2021-12-20T17:11:37.221Z"
   },
   {
    "duration": 3,
    "start_time": "2021-12-20T17:11:46.194Z"
   },
   {
    "duration": 718,
    "start_time": "2021-12-20T17:11:53.805Z"
   },
   {
    "duration": 70,
    "start_time": "2021-12-20T17:11:55.170Z"
   },
   {
    "duration": 29,
    "start_time": "2021-12-20T17:11:55.905Z"
   },
   {
    "duration": 24,
    "start_time": "2021-12-20T17:11:59.114Z"
   },
   {
    "duration": 15,
    "start_time": "2021-12-20T17:12:07.139Z"
   },
   {
    "duration": 13,
    "start_time": "2021-12-20T17:12:10.729Z"
   },
   {
    "duration": 2334,
    "start_time": "2021-12-20T17:12:11.913Z"
   },
   {
    "duration": 12,
    "start_time": "2021-12-20T17:12:18.687Z"
   },
   {
    "duration": 680,
    "start_time": "2021-12-20T17:12:30.133Z"
   },
   {
    "duration": 2377,
    "start_time": "2021-12-20T17:12:43.565Z"
   },
   {
    "duration": 14,
    "start_time": "2021-12-20T17:12:49.459Z"
   },
   {
    "duration": 2711,
    "start_time": "2021-12-20T17:13:42.670Z"
   },
   {
    "duration": 475,
    "start_time": "2021-12-20T17:14:02.906Z"
   },
   {
    "duration": 334,
    "start_time": "2021-12-20T17:14:16.340Z"
   },
   {
    "duration": 2471,
    "start_time": "2021-12-20T17:14:24.316Z"
   },
   {
    "duration": 356,
    "start_time": "2021-12-20T17:14:50.579Z"
   },
   {
    "duration": 21,
    "start_time": "2021-12-20T17:15:15.462Z"
   },
   {
    "duration": 452,
    "start_time": "2021-12-20T17:15:21.132Z"
   },
   {
    "duration": 15,
    "start_time": "2021-12-20T17:15:24.774Z"
   },
   {
    "duration": 1317,
    "start_time": "2021-12-20T17:15:33.200Z"
   },
   {
    "duration": 67,
    "start_time": "2021-12-20T17:15:34.520Z"
   },
   {
    "duration": 31,
    "start_time": "2021-12-20T17:15:34.590Z"
   },
   {
    "duration": 35,
    "start_time": "2021-12-20T17:15:34.624Z"
   },
   {
    "duration": 13,
    "start_time": "2021-12-20T17:15:34.662Z"
   },
   {
    "duration": 463,
    "start_time": "2021-12-20T17:15:34.678Z"
   },
   {
    "duration": -430,
    "start_time": "2021-12-20T17:15:35.576Z"
   },
   {
    "duration": -436,
    "start_time": "2021-12-20T17:15:35.583Z"
   },
   {
    "duration": -441,
    "start_time": "2021-12-20T17:15:35.590Z"
   },
   {
    "duration": -444,
    "start_time": "2021-12-20T17:15:35.594Z"
   },
   {
    "duration": -449,
    "start_time": "2021-12-20T17:15:35.600Z"
   },
   {
    "duration": -455,
    "start_time": "2021-12-20T17:15:35.608Z"
   },
   {
    "duration": -457,
    "start_time": "2021-12-20T17:15:35.611Z"
   },
   {
    "duration": -467,
    "start_time": "2021-12-20T17:15:35.622Z"
   },
   {
    "duration": -468,
    "start_time": "2021-12-20T17:15:35.625Z"
   },
   {
    "duration": -470,
    "start_time": "2021-12-20T17:15:35.628Z"
   },
   {
    "duration": -474,
    "start_time": "2021-12-20T17:15:35.633Z"
   },
   {
    "duration": -477,
    "start_time": "2021-12-20T17:15:35.638Z"
   },
   {
    "duration": -480,
    "start_time": "2021-12-20T17:15:35.642Z"
   },
   {
    "duration": -482,
    "start_time": "2021-12-20T17:15:35.645Z"
   },
   {
    "duration": -482,
    "start_time": "2021-12-20T17:15:35.647Z"
   },
   {
    "duration": -486,
    "start_time": "2021-12-20T17:15:35.653Z"
   },
   {
    "duration": -487,
    "start_time": "2021-12-20T17:15:35.656Z"
   },
   {
    "duration": -489,
    "start_time": "2021-12-20T17:15:35.660Z"
   },
   {
    "duration": -491,
    "start_time": "2021-12-20T17:15:35.664Z"
   },
   {
    "duration": -494,
    "start_time": "2021-12-20T17:15:35.669Z"
   },
   {
    "duration": -496,
    "start_time": "2021-12-20T17:15:35.673Z"
   },
   {
    "duration": -497,
    "start_time": "2021-12-20T17:15:35.676Z"
   },
   {
    "duration": -498,
    "start_time": "2021-12-20T17:15:35.679Z"
   },
   {
    "duration": -503,
    "start_time": "2021-12-20T17:15:35.686Z"
   },
   {
    "duration": -505,
    "start_time": "2021-12-20T17:15:35.690Z"
   },
   {
    "duration": -504,
    "start_time": "2021-12-20T17:15:35.692Z"
   },
   {
    "duration": -505,
    "start_time": "2021-12-20T17:15:35.695Z"
   },
   {
    "duration": -529,
    "start_time": "2021-12-20T17:15:35.721Z"
   },
   {
    "duration": -530,
    "start_time": "2021-12-20T17:15:35.724Z"
   },
   {
    "duration": -530,
    "start_time": "2021-12-20T17:15:35.726Z"
   },
   {
    "duration": -531,
    "start_time": "2021-12-20T17:15:35.730Z"
   },
   {
    "duration": -478,
    "start_time": "2021-12-20T17:15:35.737Z"
   },
   {
    "duration": -478,
    "start_time": "2021-12-20T17:15:35.740Z"
   },
   {
    "duration": -478,
    "start_time": "2021-12-20T17:15:35.742Z"
   },
   {
    "duration": -479,
    "start_time": "2021-12-20T17:15:35.745Z"
   },
   {
    "duration": -484,
    "start_time": "2021-12-20T17:15:35.753Z"
   },
   {
    "duration": 13,
    "start_time": "2021-12-20T17:15:51.331Z"
   },
   {
    "duration": 9,
    "start_time": "2021-12-20T17:16:25.493Z"
   },
   {
    "duration": 13,
    "start_time": "2021-12-20T17:16:29.852Z"
   },
   {
    "duration": 788,
    "start_time": "2021-12-20T17:16:36.719Z"
   },
   {
    "duration": 66,
    "start_time": "2021-12-20T17:16:37.509Z"
   },
   {
    "duration": 29,
    "start_time": "2021-12-20T17:16:37.578Z"
   },
   {
    "duration": 16,
    "start_time": "2021-12-20T17:16:37.611Z"
   },
   {
    "duration": 13,
    "start_time": "2021-12-20T17:16:37.658Z"
   },
   {
    "duration": 10,
    "start_time": "2021-12-20T17:16:37.675Z"
   },
   {
    "duration": 15,
    "start_time": "2021-12-20T17:16:37.687Z"
   },
   {
    "duration": 6,
    "start_time": "2021-12-20T17:16:37.708Z"
   },
   {
    "duration": 6,
    "start_time": "2021-12-20T17:16:37.761Z"
   },
   {
    "duration": 5,
    "start_time": "2021-12-20T17:16:37.770Z"
   },
   {
    "duration": 7,
    "start_time": "2021-12-20T17:16:37.777Z"
   },
   {
    "duration": 51,
    "start_time": "2021-12-20T17:16:37.787Z"
   },
   {
    "duration": 24,
    "start_time": "2021-12-20T17:16:37.860Z"
   },
   {
    "duration": 25,
    "start_time": "2021-12-20T17:16:37.886Z"
   },
   {
    "duration": 47,
    "start_time": "2021-12-20T17:16:37.913Z"
   },
   {
    "duration": 20,
    "start_time": "2021-12-20T17:16:37.963Z"
   },
   {
    "duration": 15,
    "start_time": "2021-12-20T17:16:37.986Z"
   },
   {
    "duration": 62,
    "start_time": "2021-12-20T17:16:38.004Z"
   },
   {
    "duration": 27,
    "start_time": "2021-12-20T17:16:38.069Z"
   },
   {
    "duration": 5,
    "start_time": "2021-12-20T17:16:38.098Z"
   },
   {
    "duration": 960,
    "start_time": "2021-12-20T17:16:38.105Z"
   },
   {
    "duration": 414,
    "start_time": "2021-12-20T17:16:39.068Z"
   },
   {
    "duration": -435,
    "start_time": "2021-12-20T17:16:39.921Z"
   },
   {
    "duration": -443,
    "start_time": "2021-12-20T17:16:39.930Z"
   },
   {
    "duration": -453,
    "start_time": "2021-12-20T17:16:39.942Z"
   },
   {
    "duration": -464,
    "start_time": "2021-12-20T17:16:39.954Z"
   },
   {
    "duration": -471,
    "start_time": "2021-12-20T17:16:39.962Z"
   },
   {
    "duration": -478,
    "start_time": "2021-12-20T17:16:39.971Z"
   },
   {
    "duration": -483,
    "start_time": "2021-12-20T17:16:39.977Z"
   },
   {
    "duration": -489,
    "start_time": "2021-12-20T17:16:39.985Z"
   },
   {
    "duration": -490,
    "start_time": "2021-12-20T17:16:39.987Z"
   },
   {
    "duration": -492,
    "start_time": "2021-12-20T17:16:39.990Z"
   },
   {
    "duration": -495,
    "start_time": "2021-12-20T17:16:39.995Z"
   },
   {
    "duration": -497,
    "start_time": "2021-12-20T17:16:39.998Z"
   },
   {
    "duration": -500,
    "start_time": "2021-12-20T17:16:40.002Z"
   },
   {
    "duration": -502,
    "start_time": "2021-12-20T17:16:40.005Z"
   },
   {
    "duration": -502,
    "start_time": "2021-12-20T17:16:40.007Z"
   },
   {
    "duration": -507,
    "start_time": "2021-12-20T17:16:40.013Z"
   },
   {
    "duration": -509,
    "start_time": "2021-12-20T17:16:40.016Z"
   },
   {
    "duration": -510,
    "start_time": "2021-12-20T17:16:40.019Z"
   },
   {
    "duration": -512,
    "start_time": "2021-12-20T17:16:40.022Z"
   },
   {
    "duration": -515,
    "start_time": "2021-12-20T17:16:40.027Z"
   },
   {
    "duration": 8,
    "start_time": "2021-12-20T17:17:56.060Z"
   },
   {
    "duration": 941,
    "start_time": "2021-12-20T17:18:04.252Z"
   },
   {
    "duration": 38,
    "start_time": "2021-12-20T17:21:00.332Z"
   },
   {
    "duration": 5,
    "start_time": "2021-12-20T17:21:17.334Z"
   },
   {
    "duration": 33,
    "start_time": "2021-12-20T17:21:21.589Z"
   },
   {
    "duration": 9,
    "start_time": "2021-12-20T17:21:32.579Z"
   },
   {
    "duration": 37,
    "start_time": "2021-12-20T17:21:37.467Z"
   },
   {
    "duration": 823,
    "start_time": "2021-12-20T17:22:03.134Z"
   },
   {
    "duration": 67,
    "start_time": "2021-12-20T17:22:03.959Z"
   },
   {
    "duration": 32,
    "start_time": "2021-12-20T17:22:04.029Z"
   },
   {
    "duration": 18,
    "start_time": "2021-12-20T17:22:04.065Z"
   },
   {
    "duration": 12,
    "start_time": "2021-12-20T17:22:04.085Z"
   },
   {
    "duration": 8,
    "start_time": "2021-12-20T17:22:04.100Z"
   },
   {
    "duration": 51,
    "start_time": "2021-12-20T17:22:04.111Z"
   },
   {
    "duration": 7,
    "start_time": "2021-12-20T17:22:04.165Z"
   },
   {
    "duration": 4,
    "start_time": "2021-12-20T17:22:04.176Z"
   },
   {
    "duration": 8,
    "start_time": "2021-12-20T17:22:04.183Z"
   },
   {
    "duration": 6,
    "start_time": "2021-12-20T17:22:04.194Z"
   },
   {
    "duration": 73,
    "start_time": "2021-12-20T17:22:04.203Z"
   },
   {
    "duration": 25,
    "start_time": "2021-12-20T17:22:04.279Z"
   },
   {
    "duration": 52,
    "start_time": "2021-12-20T17:22:04.307Z"
   },
   {
    "duration": 24,
    "start_time": "2021-12-20T17:22:04.362Z"
   },
   {
    "duration": 22,
    "start_time": "2021-12-20T17:22:04.388Z"
   },
   {
    "duration": 49,
    "start_time": "2021-12-20T17:22:04.412Z"
   },
   {
    "duration": 38,
    "start_time": "2021-12-20T17:22:04.463Z"
   },
   {
    "duration": 26,
    "start_time": "2021-12-20T17:22:04.504Z"
   },
   {
    "duration": 30,
    "start_time": "2021-12-20T17:22:04.533Z"
   },
   {
    "duration": 1025,
    "start_time": "2021-12-20T17:22:04.565Z"
   },
   {
    "duration": 887,
    "start_time": "2021-12-20T17:22:05.593Z"
   },
   {
    "duration": -844,
    "start_time": "2021-12-20T17:22:07.327Z"
   },
   {
    "duration": -847,
    "start_time": "2021-12-20T17:22:07.331Z"
   },
   {
    "duration": -856,
    "start_time": "2021-12-20T17:22:07.342Z"
   },
   {
    "duration": -859,
    "start_time": "2021-12-20T17:22:07.346Z"
   },
   {
    "duration": -862,
    "start_time": "2021-12-20T17:22:07.350Z"
   },
   {
    "duration": -869,
    "start_time": "2021-12-20T17:22:07.358Z"
   },
   {
    "duration": -871,
    "start_time": "2021-12-20T17:22:07.362Z"
   },
   {
    "duration": -873,
    "start_time": "2021-12-20T17:22:07.365Z"
   },
   {
    "duration": -877,
    "start_time": "2021-12-20T17:22:07.370Z"
   },
   {
    "duration": -881,
    "start_time": "2021-12-20T17:22:07.375Z"
   },
   {
    "duration": -882,
    "start_time": "2021-12-20T17:22:07.378Z"
   },
   {
    "duration": -884,
    "start_time": "2021-12-20T17:22:07.382Z"
   },
   {
    "duration": -888,
    "start_time": "2021-12-20T17:22:07.388Z"
   },
   {
    "duration": -890,
    "start_time": "2021-12-20T17:22:07.391Z"
   },
   {
    "duration": -891,
    "start_time": "2021-12-20T17:22:07.394Z"
   },
   {
    "duration": -894,
    "start_time": "2021-12-20T17:22:07.398Z"
   },
   {
    "duration": -896,
    "start_time": "2021-12-20T17:22:07.402Z"
   },
   {
    "duration": -899,
    "start_time": "2021-12-20T17:22:07.407Z"
   },
   {
    "duration": -902,
    "start_time": "2021-12-20T17:22:07.411Z"
   },
   {
    "duration": -902,
    "start_time": "2021-12-20T17:22:07.413Z"
   },
   {
    "duration": 41,
    "start_time": "2021-12-20T17:22:19.371Z"
   },
   {
    "duration": 37,
    "start_time": "2021-12-20T17:22:24.052Z"
   },
   {
    "duration": 38,
    "start_time": "2021-12-20T17:22:26.722Z"
   },
   {
    "duration": 485,
    "start_time": "2021-12-20T17:22:57.010Z"
   },
   {
    "duration": 840,
    "start_time": "2021-12-20T17:23:00.969Z"
   },
   {
    "duration": 71,
    "start_time": "2021-12-20T17:23:01.812Z"
   },
   {
    "duration": 34,
    "start_time": "2021-12-20T17:23:01.887Z"
   },
   {
    "duration": 36,
    "start_time": "2021-12-20T17:23:01.925Z"
   },
   {
    "duration": 14,
    "start_time": "2021-12-20T17:23:01.964Z"
   },
   {
    "duration": 9,
    "start_time": "2021-12-20T17:23:01.980Z"
   },
   {
    "duration": 13,
    "start_time": "2021-12-20T17:23:01.991Z"
   },
   {
    "duration": 52,
    "start_time": "2021-12-20T17:23:02.009Z"
   },
   {
    "duration": 16,
    "start_time": "2021-12-20T17:23:02.065Z"
   },
   {
    "duration": 12,
    "start_time": "2021-12-20T17:23:02.083Z"
   },
   {
    "duration": 6,
    "start_time": "2021-12-20T17:23:02.097Z"
   },
   {
    "duration": 56,
    "start_time": "2021-12-20T17:23:02.106Z"
   },
   {
    "duration": 24,
    "start_time": "2021-12-20T17:23:02.165Z"
   },
   {
    "duration": 26,
    "start_time": "2021-12-20T17:23:02.192Z"
   },
   {
    "duration": 60,
    "start_time": "2021-12-20T17:23:02.220Z"
   },
   {
    "duration": 22,
    "start_time": "2021-12-20T17:23:02.282Z"
   },
   {
    "duration": 31,
    "start_time": "2021-12-20T17:23:02.307Z"
   },
   {
    "duration": 54,
    "start_time": "2021-12-20T17:23:02.340Z"
   },
   {
    "duration": 29,
    "start_time": "2021-12-20T17:23:02.397Z"
   },
   {
    "duration": 6,
    "start_time": "2021-12-20T17:23:02.429Z"
   },
   {
    "duration": 981,
    "start_time": "2021-12-20T17:23:02.460Z"
   },
   {
    "duration": 447,
    "start_time": "2021-12-20T17:23:03.444Z"
   },
   {
    "duration": -411,
    "start_time": "2021-12-20T17:23:04.305Z"
   },
   {
    "duration": -414,
    "start_time": "2021-12-20T17:23:04.310Z"
   },
   {
    "duration": -418,
    "start_time": "2021-12-20T17:23:04.315Z"
   },
   {
    "duration": -423,
    "start_time": "2021-12-20T17:23:04.321Z"
   },
   {
    "duration": -424,
    "start_time": "2021-12-20T17:23:04.324Z"
   },
   {
    "duration": -425,
    "start_time": "2021-12-20T17:23:04.327Z"
   },
   {
    "duration": -425,
    "start_time": "2021-12-20T17:23:04.330Z"
   },
   {
    "duration": -428,
    "start_time": "2021-12-20T17:23:04.335Z"
   },
   {
    "duration": -429,
    "start_time": "2021-12-20T17:23:04.338Z"
   },
   {
    "duration": -429,
    "start_time": "2021-12-20T17:23:04.340Z"
   },
   {
    "duration": -430,
    "start_time": "2021-12-20T17:23:04.343Z"
   },
   {
    "duration": -441,
    "start_time": "2021-12-20T17:23:04.356Z"
   },
   {
    "duration": -442,
    "start_time": "2021-12-20T17:23:04.359Z"
   },
   {
    "duration": -442,
    "start_time": "2021-12-20T17:23:04.362Z"
   },
   {
    "duration": -446,
    "start_time": "2021-12-20T17:23:04.368Z"
   },
   {
    "duration": -446,
    "start_time": "2021-12-20T17:23:04.370Z"
   },
   {
    "duration": -447,
    "start_time": "2021-12-20T17:23:04.373Z"
   },
   {
    "duration": -447,
    "start_time": "2021-12-20T17:23:04.376Z"
   },
   {
    "duration": -449,
    "start_time": "2021-12-20T17:23:04.380Z"
   },
   {
    "duration": -454,
    "start_time": "2021-12-20T17:23:04.386Z"
   },
   {
    "duration": 40,
    "start_time": "2021-12-20T17:24:13.411Z"
   },
   {
    "duration": 786,
    "start_time": "2021-12-20T17:24:22.027Z"
   },
   {
    "duration": 65,
    "start_time": "2021-12-20T17:24:22.816Z"
   },
   {
    "duration": 28,
    "start_time": "2021-12-20T17:24:22.883Z"
   },
   {
    "duration": 16,
    "start_time": "2021-12-20T17:24:22.913Z"
   },
   {
    "duration": 32,
    "start_time": "2021-12-20T17:24:22.932Z"
   },
   {
    "duration": 10,
    "start_time": "2021-12-20T17:24:22.966Z"
   },
   {
    "duration": 15,
    "start_time": "2021-12-20T17:24:22.979Z"
   },
   {
    "duration": 7,
    "start_time": "2021-12-20T17:24:23.001Z"
   },
   {
    "duration": 52,
    "start_time": "2021-12-20T17:24:23.011Z"
   },
   {
    "duration": 7,
    "start_time": "2021-12-20T17:24:23.065Z"
   },
   {
    "duration": 6,
    "start_time": "2021-12-20T17:24:23.074Z"
   },
   {
    "duration": 40,
    "start_time": "2021-12-20T17:24:23.082Z"
   },
   {
    "duration": 49,
    "start_time": "2021-12-20T17:24:23.125Z"
   },
   {
    "duration": 24,
    "start_time": "2021-12-20T17:24:23.176Z"
   },
   {
    "duration": 21,
    "start_time": "2021-12-20T17:24:23.203Z"
   },
   {
    "duration": 46,
    "start_time": "2021-12-20T17:24:23.226Z"
   },
   {
    "duration": 16,
    "start_time": "2021-12-20T17:24:23.275Z"
   },
   {
    "duration": 33,
    "start_time": "2021-12-20T17:24:23.294Z"
   },
   {
    "duration": 50,
    "start_time": "2021-12-20T17:24:23.330Z"
   },
   {
    "duration": 5,
    "start_time": "2021-12-20T17:24:23.383Z"
   },
   {
    "duration": 941,
    "start_time": "2021-12-20T17:24:23.391Z"
   },
   {
    "duration": 433,
    "start_time": "2021-12-20T17:24:24.335Z"
   },
   {
    "duration": -446,
    "start_time": "2021-12-20T17:24:25.217Z"
   },
   {
    "duration": -456,
    "start_time": "2021-12-20T17:24:25.229Z"
   },
   {
    "duration": -466,
    "start_time": "2021-12-20T17:24:25.240Z"
   },
   {
    "duration": -473,
    "start_time": "2021-12-20T17:24:25.249Z"
   },
   {
    "duration": -476,
    "start_time": "2021-12-20T17:24:25.253Z"
   },
   {
    "duration": -479,
    "start_time": "2021-12-20T17:24:25.258Z"
   },
   {
    "duration": -484,
    "start_time": "2021-12-20T17:24:25.265Z"
   },
   {
    "duration": -486,
    "start_time": "2021-12-20T17:24:25.268Z"
   },
   {
    "duration": -489,
    "start_time": "2021-12-20T17:24:25.272Z"
   },
   {
    "duration": -496,
    "start_time": "2021-12-20T17:24:25.281Z"
   },
   {
    "duration": -499,
    "start_time": "2021-12-20T17:24:25.285Z"
   },
   {
    "duration": -500,
    "start_time": "2021-12-20T17:24:25.288Z"
   },
   {
    "duration": -507,
    "start_time": "2021-12-20T17:24:25.296Z"
   },
   {
    "duration": -509,
    "start_time": "2021-12-20T17:24:25.299Z"
   },
   {
    "duration": -510,
    "start_time": "2021-12-20T17:24:25.302Z"
   },
   {
    "duration": -512,
    "start_time": "2021-12-20T17:24:25.305Z"
   },
   {
    "duration": -520,
    "start_time": "2021-12-20T17:24:25.314Z"
   },
   {
    "duration": -521,
    "start_time": "2021-12-20T17:24:25.317Z"
   },
   {
    "duration": -524,
    "start_time": "2021-12-20T17:24:25.321Z"
   },
   {
    "duration": -533,
    "start_time": "2021-12-20T17:24:25.331Z"
   },
   {
    "duration": 797,
    "start_time": "2021-12-20T17:26:39.636Z"
   },
   {
    "duration": 70,
    "start_time": "2021-12-20T17:26:40.436Z"
   },
   {
    "duration": 29,
    "start_time": "2021-12-20T17:26:40.510Z"
   },
   {
    "duration": 29,
    "start_time": "2021-12-20T17:26:40.543Z"
   },
   {
    "duration": 12,
    "start_time": "2021-12-20T17:26:40.575Z"
   },
   {
    "duration": 9,
    "start_time": "2021-12-20T17:26:40.590Z"
   },
   {
    "duration": 59,
    "start_time": "2021-12-20T17:26:40.602Z"
   },
   {
    "duration": 7,
    "start_time": "2021-12-20T17:26:40.666Z"
   },
   {
    "duration": 9,
    "start_time": "2021-12-20T17:26:40.678Z"
   },
   {
    "duration": 12,
    "start_time": "2021-12-20T17:26:40.690Z"
   },
   {
    "duration": 6,
    "start_time": "2021-12-20T17:26:40.705Z"
   },
   {
    "duration": 74,
    "start_time": "2021-12-20T17:26:40.714Z"
   },
   {
    "duration": 3,
    "start_time": "2021-12-20T17:26:40.792Z"
   },
   {
    "duration": 26,
    "start_time": "2021-12-20T17:26:40.798Z"
   },
   {
    "duration": 53,
    "start_time": "2021-12-20T17:26:40.826Z"
   },
   {
    "duration": 22,
    "start_time": "2021-12-20T17:26:40.882Z"
   },
   {
    "duration": 21,
    "start_time": "2021-12-20T17:26:40.906Z"
   },
   {
    "duration": 42,
    "start_time": "2021-12-20T17:26:40.930Z"
   },
   {
    "duration": 33,
    "start_time": "2021-12-20T17:26:40.975Z"
   },
   {
    "duration": 54,
    "start_time": "2021-12-20T17:26:41.010Z"
   },
   {
    "duration": 6,
    "start_time": "2021-12-20T17:26:41.066Z"
   },
   {
    "duration": 964,
    "start_time": "2021-12-20T17:26:41.074Z"
   },
   {
    "duration": 514,
    "start_time": "2021-12-20T17:26:42.045Z"
   },
   {
    "duration": -397,
    "start_time": "2021-12-20T17:26:42.960Z"
   },
   {
    "duration": -401,
    "start_time": "2021-12-20T17:26:42.966Z"
   },
   {
    "duration": -403,
    "start_time": "2021-12-20T17:26:42.970Z"
   },
   {
    "duration": -403,
    "start_time": "2021-12-20T17:26:42.973Z"
   },
   {
    "duration": -404,
    "start_time": "2021-12-20T17:26:42.976Z"
   },
   {
    "duration": -405,
    "start_time": "2021-12-20T17:26:42.980Z"
   },
   {
    "duration": -410,
    "start_time": "2021-12-20T17:26:42.987Z"
   },
   {
    "duration": -412,
    "start_time": "2021-12-20T17:26:42.991Z"
   },
   {
    "duration": -411,
    "start_time": "2021-12-20T17:26:42.993Z"
   },
   {
    "duration": -416,
    "start_time": "2021-12-20T17:26:43.000Z"
   },
   {
    "duration": -416,
    "start_time": "2021-12-20T17:26:43.003Z"
   },
   {
    "duration": -416,
    "start_time": "2021-12-20T17:26:43.005Z"
   },
   {
    "duration": -416,
    "start_time": "2021-12-20T17:26:43.008Z"
   },
   {
    "duration": -458,
    "start_time": "2021-12-20T17:26:43.052Z"
   },
   {
    "duration": -461,
    "start_time": "2021-12-20T17:26:43.057Z"
   },
   {
    "duration": -461,
    "start_time": "2021-12-20T17:26:43.060Z"
   },
   {
    "duration": -463,
    "start_time": "2021-12-20T17:26:43.064Z"
   },
   {
    "duration": -408,
    "start_time": "2021-12-20T17:26:43.068Z"
   },
   {
    "duration": -412,
    "start_time": "2021-12-20T17:26:43.074Z"
   },
   {
    "duration": -412,
    "start_time": "2021-12-20T17:26:43.076Z"
   },
   {
    "duration": 40,
    "start_time": "2021-12-20T17:27:12.440Z"
   },
   {
    "duration": 4,
    "start_time": "2021-12-20T17:27:25.833Z"
   },
   {
    "duration": 36,
    "start_time": "2021-12-20T17:27:27.256Z"
   },
   {
    "duration": 34,
    "start_time": "2021-12-20T17:28:38.858Z"
   },
   {
    "duration": 766,
    "start_time": "2021-12-20T17:28:57.181Z"
   },
   {
    "duration": 68,
    "start_time": "2021-12-20T17:28:57.950Z"
   },
   {
    "duration": 28,
    "start_time": "2021-12-20T17:28:58.021Z"
   },
   {
    "duration": 15,
    "start_time": "2021-12-20T17:28:58.060Z"
   },
   {
    "duration": 12,
    "start_time": "2021-12-20T17:28:58.077Z"
   },
   {
    "duration": 7,
    "start_time": "2021-12-20T17:28:58.091Z"
   },
   {
    "duration": 14,
    "start_time": "2021-12-20T17:28:58.100Z"
   },
   {
    "duration": 43,
    "start_time": "2021-12-20T17:28:58.117Z"
   },
   {
    "duration": 4,
    "start_time": "2021-12-20T17:28:58.163Z"
   },
   {
    "duration": 7,
    "start_time": "2021-12-20T17:28:58.170Z"
   },
   {
    "duration": 6,
    "start_time": "2021-12-20T17:28:58.180Z"
   },
   {
    "duration": 5,
    "start_time": "2021-12-20T17:28:58.189Z"
   },
   {
    "duration": 68,
    "start_time": "2021-12-20T17:28:58.196Z"
   },
   {
    "duration": 3,
    "start_time": "2021-12-20T17:28:58.267Z"
   },
   {
    "duration": 28,
    "start_time": "2021-12-20T17:28:58.272Z"
   },
   {
    "duration": 24,
    "start_time": "2021-12-20T17:28:58.302Z"
   },
   {
    "duration": 46,
    "start_time": "2021-12-20T17:28:58.329Z"
   },
   {
    "duration": 20,
    "start_time": "2021-12-20T17:28:58.377Z"
   },
   {
    "duration": 17,
    "start_time": "2021-12-20T17:28:58.399Z"
   },
   {
    "duration": 68,
    "start_time": "2021-12-20T17:28:58.418Z"
   },
   {
    "duration": 26,
    "start_time": "2021-12-20T17:28:58.488Z"
   },
   {
    "duration": 5,
    "start_time": "2021-12-20T17:28:58.517Z"
   },
   {
    "duration": 961,
    "start_time": "2021-12-20T17:28:58.527Z"
   },
   {
    "duration": 416,
    "start_time": "2021-12-20T17:28:59.492Z"
   },
   {
    "duration": -438,
    "start_time": "2021-12-20T17:29:00.348Z"
   },
   {
    "duration": -445,
    "start_time": "2021-12-20T17:29:00.357Z"
   },
   {
    "duration": -461,
    "start_time": "2021-12-20T17:29:00.374Z"
   },
   {
    "duration": -473,
    "start_time": "2021-12-20T17:29:00.388Z"
   },
   {
    "duration": -483,
    "start_time": "2021-12-20T17:29:00.399Z"
   },
   {
    "duration": -484,
    "start_time": "2021-12-20T17:29:00.402Z"
   },
   {
    "duration": -488,
    "start_time": "2021-12-20T17:29:00.407Z"
   },
   {
    "duration": -490,
    "start_time": "2021-12-20T17:29:00.411Z"
   },
   {
    "duration": -492,
    "start_time": "2021-12-20T17:29:00.414Z"
   },
   {
    "duration": -492,
    "start_time": "2021-12-20T17:29:00.416Z"
   },
   {
    "duration": -493,
    "start_time": "2021-12-20T17:29:00.419Z"
   },
   {
    "duration": -497,
    "start_time": "2021-12-20T17:29:00.424Z"
   },
   {
    "duration": -498,
    "start_time": "2021-12-20T17:29:00.427Z"
   },
   {
    "duration": -500,
    "start_time": "2021-12-20T17:29:00.430Z"
   },
   {
    "duration": -501,
    "start_time": "2021-12-20T17:29:00.433Z"
   },
   {
    "duration": -503,
    "start_time": "2021-12-20T17:29:00.436Z"
   },
   {
    "duration": -507,
    "start_time": "2021-12-20T17:29:00.441Z"
   },
   {
    "duration": -508,
    "start_time": "2021-12-20T17:29:00.444Z"
   },
   {
    "duration": -509,
    "start_time": "2021-12-20T17:29:00.446Z"
   },
   {
    "duration": -509,
    "start_time": "2021-12-20T17:29:00.448Z"
   },
   {
    "duration": 17,
    "start_time": "2021-12-20T17:29:32.873Z"
   },
   {
    "duration": 13,
    "start_time": "2021-12-20T17:29:41.218Z"
   },
   {
    "duration": 15,
    "start_time": "2021-12-20T17:29:45.793Z"
   },
   {
    "duration": 13,
    "start_time": "2021-12-20T17:29:49.409Z"
   },
   {
    "duration": 15,
    "start_time": "2021-12-20T17:29:54.307Z"
   },
   {
    "duration": 15,
    "start_time": "2021-12-20T17:29:57.938Z"
   },
   {
    "duration": 14,
    "start_time": "2021-12-20T17:30:01.489Z"
   },
   {
    "duration": 13,
    "start_time": "2021-12-20T17:30:04.737Z"
   },
   {
    "duration": 15,
    "start_time": "2021-12-20T17:30:06.523Z"
   },
   {
    "duration": 13,
    "start_time": "2021-12-20T17:30:10.985Z"
   },
   {
    "duration": 13,
    "start_time": "2021-12-20T17:30:14.689Z"
   },
   {
    "duration": 14,
    "start_time": "2021-12-20T17:30:17.887Z"
   },
   {
    "duration": 15,
    "start_time": "2021-12-20T17:30:21.272Z"
   },
   {
    "duration": 16,
    "start_time": "2021-12-20T17:30:25.008Z"
   },
   {
    "duration": 18,
    "start_time": "2021-12-20T17:30:28.073Z"
   },
   {
    "duration": 10,
    "start_time": "2021-12-20T17:30:46.176Z"
   },
   {
    "duration": 497,
    "start_time": "2021-12-20T17:33:54.047Z"
   },
   {
    "duration": 317,
    "start_time": "2021-12-20T17:34:03.633Z"
   },
   {
    "duration": 369,
    "start_time": "2021-12-20T17:34:35.033Z"
   },
   {
    "duration": 2502,
    "start_time": "2021-12-20T17:35:11.368Z"
   },
   {
    "duration": 338,
    "start_time": "2021-12-20T17:35:33.220Z"
   },
   {
    "duration": 599,
    "start_time": "2021-12-20T17:35:36.578Z"
   },
   {
    "duration": 808,
    "start_time": "2021-12-20T17:42:18.215Z"
   },
   {
    "duration": 315,
    "start_time": "2021-12-20T17:42:31.773Z"
   },
   {
    "duration": 7,
    "start_time": "2021-12-20T17:43:49.985Z"
   },
   {
    "duration": 11,
    "start_time": "2021-12-20T17:44:48.834Z"
   },
   {
    "duration": 33,
    "start_time": "2021-12-20T17:54:52.349Z"
   },
   {
    "duration": 31,
    "start_time": "2021-12-20T17:55:09.126Z"
   },
   {
    "duration": 546,
    "start_time": "2021-12-20T17:56:33.836Z"
   },
   {
    "duration": 580,
    "start_time": "2021-12-20T17:59:47.262Z"
   },
   {
    "duration": 637,
    "start_time": "2021-12-20T17:59:53.312Z"
   },
   {
    "duration": 8676,
    "start_time": "2021-12-20T18:00:04.908Z"
   },
   {
    "duration": -518,
    "start_time": "2021-12-20T18:00:14.105Z"
   },
   {
    "duration": 801,
    "start_time": "2021-12-20T18:00:45.929Z"
   },
   {
    "duration": 87,
    "start_time": "2021-12-20T18:00:46.733Z"
   },
   {
    "duration": 47,
    "start_time": "2021-12-20T18:00:46.824Z"
   },
   {
    "duration": 15,
    "start_time": "2021-12-20T18:00:46.874Z"
   },
   {
    "duration": 12,
    "start_time": "2021-12-20T18:00:46.892Z"
   },
   {
    "duration": 10,
    "start_time": "2021-12-20T18:00:46.908Z"
   },
   {
    "duration": 14,
    "start_time": "2021-12-20T18:00:46.959Z"
   },
   {
    "duration": 7,
    "start_time": "2021-12-20T18:00:46.977Z"
   },
   {
    "duration": 5,
    "start_time": "2021-12-20T18:00:46.988Z"
   },
   {
    "duration": 7,
    "start_time": "2021-12-20T18:00:46.995Z"
   },
   {
    "duration": 7,
    "start_time": "2021-12-20T18:00:47.005Z"
   },
   {
    "duration": 77,
    "start_time": "2021-12-20T18:00:47.014Z"
   },
   {
    "duration": 4,
    "start_time": "2021-12-20T18:00:47.094Z"
   },
   {
    "duration": 11,
    "start_time": "2021-12-20T18:00:47.101Z"
   },
   {
    "duration": 46,
    "start_time": "2021-12-20T18:00:47.115Z"
   },
   {
    "duration": 774,
    "start_time": "2021-12-20T18:00:47.164Z"
   },
   {
    "duration": 43,
    "start_time": "2021-12-20T18:00:47.941Z"
   },
   {
    "duration": 25,
    "start_time": "2021-12-20T18:00:47.987Z"
   },
   {
    "duration": 54,
    "start_time": "2021-12-20T18:00:48.014Z"
   },
   {
    "duration": 31,
    "start_time": "2021-12-20T18:00:48.072Z"
   },
   {
    "duration": 16,
    "start_time": "2021-12-20T18:00:48.106Z"
   },
   {
    "duration": 56,
    "start_time": "2021-12-20T18:00:48.125Z"
   },
   {
    "duration": 25,
    "start_time": "2021-12-20T18:00:48.189Z"
   },
   {
    "duration": 11,
    "start_time": "2021-12-20T18:00:48.217Z"
   },
   {
    "duration": 1080,
    "start_time": "2021-12-20T18:00:48.259Z"
   },
   {
    "duration": 474,
    "start_time": "2021-12-20T18:00:49.342Z"
   },
   {
    "duration": -422,
    "start_time": "2021-12-20T18:00:50.241Z"
   },
   {
    "duration": -437,
    "start_time": "2021-12-20T18:00:50.258Z"
   },
   {
    "duration": -442,
    "start_time": "2021-12-20T18:00:50.265Z"
   },
   {
    "duration": -444,
    "start_time": "2021-12-20T18:00:50.268Z"
   },
   {
    "duration": -445,
    "start_time": "2021-12-20T18:00:50.271Z"
   },
   {
    "duration": -451,
    "start_time": "2021-12-20T18:00:50.278Z"
   },
   {
    "duration": -452,
    "start_time": "2021-12-20T18:00:50.281Z"
   },
   {
    "duration": -454,
    "start_time": "2021-12-20T18:00:50.285Z"
   },
   {
    "duration": -455,
    "start_time": "2021-12-20T18:00:50.287Z"
   },
   {
    "duration": -458,
    "start_time": "2021-12-20T18:00:50.291Z"
   },
   {
    "duration": -462,
    "start_time": "2021-12-20T18:00:50.297Z"
   },
   {
    "duration": -463,
    "start_time": "2021-12-20T18:00:50.299Z"
   },
   {
    "duration": -465,
    "start_time": "2021-12-20T18:00:50.302Z"
   },
   {
    "duration": -466,
    "start_time": "2021-12-20T18:00:50.304Z"
   },
   {
    "duration": -468,
    "start_time": "2021-12-20T18:00:50.308Z"
   },
   {
    "duration": -474,
    "start_time": "2021-12-20T18:00:50.315Z"
   },
   {
    "duration": -475,
    "start_time": "2021-12-20T18:00:50.318Z"
   },
   {
    "duration": -476,
    "start_time": "2021-12-20T18:00:50.320Z"
   },
   {
    "duration": -479,
    "start_time": "2021-12-20T18:00:50.325Z"
   },
   {
    "duration": -484,
    "start_time": "2021-12-20T18:00:50.331Z"
   },
   {
    "duration": 33,
    "start_time": "2021-12-20T18:01:32.685Z"
   },
   {
    "duration": 8,
    "start_time": "2021-12-20T18:01:44.792Z"
   },
   {
    "duration": 31,
    "start_time": "2021-12-20T18:01:49.627Z"
   },
   {
    "duration": 6,
    "start_time": "2021-12-20T18:03:13.748Z"
   },
   {
    "duration": 513,
    "start_time": "2021-12-20T18:17:08.215Z"
   },
   {
    "duration": 158,
    "start_time": "2021-12-20T18:23:28.281Z"
   },
   {
    "duration": 5,
    "start_time": "2021-12-20T18:23:41.745Z"
   },
   {
    "duration": 3968,
    "start_time": "2021-12-20T18:26:57.873Z"
   },
   {
    "duration": 4306,
    "start_time": "2021-12-20T18:27:05.945Z"
   },
   {
    "duration": 4430,
    "start_time": "2021-12-20T18:55:18.591Z"
   },
   {
    "duration": 9413,
    "start_time": "2021-12-20T18:55:42.579Z"
   },
   {
    "duration": 8644,
    "start_time": "2021-12-20T18:56:18.436Z"
   },
   {
    "duration": 5753,
    "start_time": "2021-12-20T18:57:04.340Z"
   },
   {
    "duration": 466477,
    "start_time": "2021-12-20T18:57:44.068Z"
   },
   {
    "duration": -431,
    "start_time": "2021-12-20T19:05:30.979Z"
   },
   {
    "duration": 567,
    "start_time": "2021-12-20T19:05:36.098Z"
   },
   {
    "duration": 5,
    "start_time": "2021-12-20T19:29:37.831Z"
   },
   {
    "duration": 5,
    "start_time": "2021-12-20T19:30:21.445Z"
   },
   {
    "duration": 697,
    "start_time": "2021-12-20T19:33:02.906Z"
   },
   {
    "duration": 327,
    "start_time": "2021-12-20T19:33:38.800Z"
   },
   {
    "duration": 1831,
    "start_time": "2021-12-20T19:33:54.629Z"
   },
   {
    "duration": 1423,
    "start_time": "2021-12-20T19:34:13.437Z"
   },
   {
    "duration": 103,
    "start_time": "2021-12-20T19:34:43.920Z"
   },
   {
    "duration": 2504,
    "start_time": "2021-12-20T19:34:51.150Z"
   },
   {
    "duration": 5768,
    "start_time": "2021-12-20T19:35:15.229Z"
   },
   {
    "duration": 2976,
    "start_time": "2021-12-20T19:35:26.401Z"
   },
   {
    "duration": 1366,
    "start_time": "2021-12-20T19:35:48.926Z"
   },
   {
    "duration": 734,
    "start_time": "2021-12-20T19:36:02.601Z"
   },
   {
    "duration": 68,
    "start_time": "2021-12-20T19:36:03.338Z"
   },
   {
    "duration": 28,
    "start_time": "2021-12-20T19:36:03.409Z"
   },
   {
    "duration": 31,
    "start_time": "2021-12-20T19:36:03.440Z"
   },
   {
    "duration": 13,
    "start_time": "2021-12-20T19:36:03.473Z"
   },
   {
    "duration": 10,
    "start_time": "2021-12-20T19:36:03.488Z"
   },
   {
    "duration": 13,
    "start_time": "2021-12-20T19:36:03.500Z"
   },
   {
    "duration": 42,
    "start_time": "2021-12-20T19:36:03.517Z"
   },
   {
    "duration": 5,
    "start_time": "2021-12-20T19:36:03.562Z"
   },
   {
    "duration": 5,
    "start_time": "2021-12-20T19:36:03.569Z"
   },
   {
    "duration": 8,
    "start_time": "2021-12-20T19:36:03.577Z"
   },
   {
    "duration": 32,
    "start_time": "2021-12-20T19:36:03.587Z"
   },
   {
    "duration": 38,
    "start_time": "2021-12-20T19:36:03.621Z"
   },
   {
    "duration": 19,
    "start_time": "2021-12-20T19:36:03.662Z"
   },
   {
    "duration": 732,
    "start_time": "2021-12-20T19:36:03.683Z"
   },
   {
    "duration": 5,
    "start_time": "2021-12-20T19:36:04.418Z"
   },
   {
    "duration": 8,
    "start_time": "2021-12-20T19:36:04.425Z"
   },
   {
    "duration": 39,
    "start_time": "2021-12-20T19:36:04.435Z"
   },
   {
    "duration": 25,
    "start_time": "2021-12-20T19:36:04.476Z"
   },
   {
    "duration": 21,
    "start_time": "2021-12-20T19:36:04.505Z"
   },
   {
    "duration": 49,
    "start_time": "2021-12-20T19:36:04.529Z"
   },
   {
    "duration": 18,
    "start_time": "2021-12-20T19:36:04.580Z"
   },
   {
    "duration": 61,
    "start_time": "2021-12-20T19:36:04.605Z"
   },
   {
    "duration": 25,
    "start_time": "2021-12-20T19:36:04.669Z"
   },
   {
    "duration": 10,
    "start_time": "2021-12-20T19:36:04.697Z"
   },
   {
    "duration": 5199,
    "start_time": "2021-12-20T19:36:04.709Z"
   },
   {
    "duration": 436,
    "start_time": "2021-12-20T19:36:09.911Z"
   },
   {
    "duration": -384,
    "start_time": "2021-12-20T19:36:10.733Z"
   },
   {
    "duration": -385,
    "start_time": "2021-12-20T19:36:10.736Z"
   },
   {
    "duration": -389,
    "start_time": "2021-12-20T19:36:10.741Z"
   },
   {
    "duration": -397,
    "start_time": "2021-12-20T19:36:10.750Z"
   },
   {
    "duration": -398,
    "start_time": "2021-12-20T19:36:10.753Z"
   },
   {
    "duration": -402,
    "start_time": "2021-12-20T19:36:10.758Z"
   },
   {
    "duration": -409,
    "start_time": "2021-12-20T19:36:10.766Z"
   },
   {
    "duration": -410,
    "start_time": "2021-12-20T19:36:10.769Z"
   },
   {
    "duration": -412,
    "start_time": "2021-12-20T19:36:10.772Z"
   },
   {
    "duration": -417,
    "start_time": "2021-12-20T19:36:10.779Z"
   },
   {
    "duration": -419,
    "start_time": "2021-12-20T19:36:10.782Z"
   },
   {
    "duration": -421,
    "start_time": "2021-12-20T19:36:10.786Z"
   },
   {
    "duration": -426,
    "start_time": "2021-12-20T19:36:10.792Z"
   },
   {
    "duration": -429,
    "start_time": "2021-12-20T19:36:10.797Z"
   },
   {
    "duration": -430,
    "start_time": "2021-12-20T19:36:10.800Z"
   },
   {
    "duration": -432,
    "start_time": "2021-12-20T19:36:10.803Z"
   },
   {
    "duration": -433,
    "start_time": "2021-12-20T19:36:10.806Z"
   },
   {
    "duration": -438,
    "start_time": "2021-12-20T19:36:10.812Z"
   },
   {
    "duration": -440,
    "start_time": "2021-12-20T19:36:10.815Z"
   },
   {
    "duration": -440,
    "start_time": "2021-12-20T19:36:10.817Z"
   },
   {
    "duration": -443,
    "start_time": "2021-12-20T19:36:10.821Z"
   },
   {
    "duration": -447,
    "start_time": "2021-12-20T19:36:10.826Z"
   },
   {
    "duration": 4161,
    "start_time": "2021-12-20T19:36:35.613Z"
   },
   {
    "duration": 4709,
    "start_time": "2021-12-20T19:37:07.710Z"
   },
   {
    "duration": 374,
    "start_time": "2021-12-20T19:37:34.479Z"
   },
   {
    "duration": 770,
    "start_time": "2021-12-20T19:37:56.860Z"
   },
   {
    "duration": 66,
    "start_time": "2021-12-20T19:37:57.632Z"
   },
   {
    "duration": 29,
    "start_time": "2021-12-20T19:37:57.701Z"
   },
   {
    "duration": 29,
    "start_time": "2021-12-20T19:37:57.733Z"
   },
   {
    "duration": 12,
    "start_time": "2021-12-20T19:37:57.764Z"
   },
   {
    "duration": 8,
    "start_time": "2021-12-20T19:37:57.779Z"
   },
   {
    "duration": 15,
    "start_time": "2021-12-20T19:37:57.789Z"
   },
   {
    "duration": 7,
    "start_time": "2021-12-20T19:37:57.808Z"
   },
   {
    "duration": 42,
    "start_time": "2021-12-20T19:37:57.819Z"
   },
   {
    "duration": 4,
    "start_time": "2021-12-20T19:37:57.863Z"
   },
   {
    "duration": 11,
    "start_time": "2021-12-20T19:37:57.870Z"
   },
   {
    "duration": 31,
    "start_time": "2021-12-20T19:37:57.883Z"
   },
   {
    "duration": 5,
    "start_time": "2021-12-20T19:37:57.916Z"
   },
   {
    "duration": 45,
    "start_time": "2021-12-20T19:37:57.923Z"
   },
   {
    "duration": 619,
    "start_time": "2021-12-20T19:37:57.970Z"
   },
   {
    "duration": 5,
    "start_time": "2021-12-20T19:37:58.592Z"
   },
   {
    "duration": 7,
    "start_time": "2021-12-20T19:37:58.600Z"
   },
   {
    "duration": 22,
    "start_time": "2021-12-20T19:37:58.609Z"
   },
   {
    "duration": 25,
    "start_time": "2021-12-20T19:37:58.660Z"
   },
   {
    "duration": 21,
    "start_time": "2021-12-20T19:37:58.687Z"
   },
   {
    "duration": 21,
    "start_time": "2021-12-20T19:37:58.710Z"
   },
   {
    "duration": 16,
    "start_time": "2021-12-20T19:37:58.759Z"
   },
   {
    "duration": 33,
    "start_time": "2021-12-20T19:37:58.780Z"
   },
   {
    "duration": 51,
    "start_time": "2021-12-20T19:37:58.816Z"
   },
   {
    "duration": 5,
    "start_time": "2021-12-20T19:37:58.870Z"
   },
   {
    "duration": 422,
    "start_time": "2021-12-20T19:37:58.877Z"
   },
   {
    "duration": -390,
    "start_time": "2021-12-20T19:37:59.692Z"
   },
   {
    "duration": -391,
    "start_time": "2021-12-20T19:37:59.695Z"
   },
   {
    "duration": -394,
    "start_time": "2021-12-20T19:37:59.699Z"
   },
   {
    "duration": -400,
    "start_time": "2021-12-20T19:37:59.706Z"
   },
   {
    "duration": -401,
    "start_time": "2021-12-20T19:37:59.709Z"
   },
   {
    "duration": -403,
    "start_time": "2021-12-20T19:37:59.712Z"
   },
   {
    "duration": -406,
    "start_time": "2021-12-20T19:37:59.716Z"
   },
   {
    "duration": -410,
    "start_time": "2021-12-20T19:37:59.722Z"
   },
   {
    "duration": -412,
    "start_time": "2021-12-20T19:37:59.725Z"
   },
   {
    "duration": -413,
    "start_time": "2021-12-20T19:37:59.727Z"
   },
   {
    "duration": -417,
    "start_time": "2021-12-20T19:37:59.732Z"
   },
   {
    "duration": -421,
    "start_time": "2021-12-20T19:37:59.738Z"
   },
   {
    "duration": -423,
    "start_time": "2021-12-20T19:37:59.741Z"
   },
   {
    "duration": -424,
    "start_time": "2021-12-20T19:37:59.744Z"
   },
   {
    "duration": -427,
    "start_time": "2021-12-20T19:37:59.748Z"
   },
   {
    "duration": -433,
    "start_time": "2021-12-20T19:37:59.755Z"
   },
   {
    "duration": -435,
    "start_time": "2021-12-20T19:37:59.758Z"
   },
   {
    "duration": -437,
    "start_time": "2021-12-20T19:37:59.762Z"
   },
   {
    "duration": -439,
    "start_time": "2021-12-20T19:37:59.765Z"
   },
   {
    "duration": -445,
    "start_time": "2021-12-20T19:37:59.773Z"
   },
   {
    "duration": -447,
    "start_time": "2021-12-20T19:37:59.776Z"
   },
   {
    "duration": -449,
    "start_time": "2021-12-20T19:37:59.779Z"
   },
   {
    "duration": 497,
    "start_time": "2021-12-20T19:38:24.839Z"
   },
   {
    "duration": 345,
    "start_time": "2021-12-20T19:38:32.064Z"
   },
   {
    "duration": 934,
    "start_time": "2021-12-20T19:39:00.931Z"
   },
   {
    "duration": 68,
    "start_time": "2021-12-20T19:39:01.868Z"
   },
   {
    "duration": 28,
    "start_time": "2021-12-20T19:39:01.939Z"
   },
   {
    "duration": 16,
    "start_time": "2021-12-20T19:39:01.970Z"
   },
   {
    "duration": 12,
    "start_time": "2021-12-20T19:39:01.988Z"
   },
   {
    "duration": 9,
    "start_time": "2021-12-20T19:39:02.002Z"
   },
   {
    "duration": 51,
    "start_time": "2021-12-20T19:39:02.014Z"
   },
   {
    "duration": 8,
    "start_time": "2021-12-20T19:39:02.071Z"
   },
   {
    "duration": 6,
    "start_time": "2021-12-20T19:39:02.083Z"
   },
   {
    "duration": 5,
    "start_time": "2021-12-20T19:39:02.092Z"
   },
   {
    "duration": 14,
    "start_time": "2021-12-20T19:39:02.100Z"
   },
   {
    "duration": 74,
    "start_time": "2021-12-20T19:39:02.117Z"
   },
   {
    "duration": 7,
    "start_time": "2021-12-20T19:39:02.194Z"
   },
   {
    "duration": 12,
    "start_time": "2021-12-20T19:39:02.204Z"
   },
   {
    "duration": 779,
    "start_time": "2021-12-20T19:39:02.219Z"
   },
   {
    "duration": 5,
    "start_time": "2021-12-20T19:39:03.001Z"
   },
   {
    "duration": 7,
    "start_time": "2021-12-20T19:39:03.009Z"
   },
   {
    "duration": 47,
    "start_time": "2021-12-20T19:39:03.019Z"
   },
   {
    "duration": 25,
    "start_time": "2021-12-20T19:39:03.068Z"
   },
   {
    "duration": 21,
    "start_time": "2021-12-20T19:39:03.095Z"
   },
   {
    "duration": 53,
    "start_time": "2021-12-20T19:39:03.119Z"
   },
   {
    "duration": 16,
    "start_time": "2021-12-20T19:39:03.175Z"
   },
   {
    "duration": 62,
    "start_time": "2021-12-20T19:39:03.199Z"
   },
   {
    "duration": 35,
    "start_time": "2021-12-20T19:39:03.265Z"
   },
   {
    "duration": 28,
    "start_time": "2021-12-20T19:39:03.302Z"
   },
   {
    "duration": 646,
    "start_time": "2021-12-20T19:39:03.333Z"
   },
   {
    "duration": -390,
    "start_time": "2021-12-20T19:39:04.372Z"
   },
   {
    "duration": -392,
    "start_time": "2021-12-20T19:39:04.375Z"
   },
   {
    "duration": -400,
    "start_time": "2021-12-20T19:39:04.385Z"
   },
   {
    "duration": -403,
    "start_time": "2021-12-20T19:39:04.390Z"
   },
   {
    "duration": -406,
    "start_time": "2021-12-20T19:39:04.394Z"
   },
   {
    "duration": -409,
    "start_time": "2021-12-20T19:39:04.399Z"
   },
   {
    "duration": -412,
    "start_time": "2021-12-20T19:39:04.403Z"
   },
   {
    "duration": -413,
    "start_time": "2021-12-20T19:39:04.406Z"
   },
   {
    "duration": -416,
    "start_time": "2021-12-20T19:39:04.411Z"
   },
   {
    "duration": -421,
    "start_time": "2021-12-20T19:39:04.417Z"
   },
   {
    "duration": -422,
    "start_time": "2021-12-20T19:39:04.420Z"
   },
   {
    "duration": -424,
    "start_time": "2021-12-20T19:39:04.423Z"
   },
   {
    "duration": -426,
    "start_time": "2021-12-20T19:39:04.427Z"
   },
   {
    "duration": -431,
    "start_time": "2021-12-20T19:39:04.433Z"
   },
   {
    "duration": -434,
    "start_time": "2021-12-20T19:39:04.438Z"
   },
   {
    "duration": -434,
    "start_time": "2021-12-20T19:39:04.440Z"
   },
   {
    "duration": -437,
    "start_time": "2021-12-20T19:39:04.445Z"
   },
   {
    "duration": -443,
    "start_time": "2021-12-20T19:39:04.452Z"
   },
   {
    "duration": -444,
    "start_time": "2021-12-20T19:39:04.455Z"
   },
   {
    "duration": -446,
    "start_time": "2021-12-20T19:39:04.458Z"
   },
   {
    "duration": -454,
    "start_time": "2021-12-20T19:39:04.467Z"
   },
   {
    "duration": 40,
    "start_time": "2021-12-20T19:39:22.807Z"
   },
   {
    "duration": 5309,
    "start_time": "2021-12-20T19:41:59.780Z"
   },
   {
    "duration": 4164,
    "start_time": "2021-12-20T19:42:41.050Z"
   },
   {
    "duration": 4128,
    "start_time": "2021-12-20T19:46:11.420Z"
   },
   {
    "duration": 4096,
    "start_time": "2021-12-20T19:51:04.669Z"
   },
   {
    "duration": 9,
    "start_time": "2021-12-20T19:51:11.643Z"
   },
   {
    "duration": 107,
    "start_time": "2021-12-20T20:16:22.004Z"
   },
   {
    "duration": 125,
    "start_time": "2021-12-20T20:16:45.967Z"
   },
   {
    "duration": 4086,
    "start_time": "2021-12-20T20:17:14.116Z"
   },
   {
    "duration": 113,
    "start_time": "2021-12-20T20:18:00.735Z"
   },
   {
    "duration": 1120,
    "start_time": "2021-12-20T20:21:55.820Z"
   },
   {
    "duration": 35794,
    "start_time": "2021-12-20T20:22:02.811Z"
   },
   {
    "duration": 351,
    "start_time": "2021-12-20T20:23:39.996Z"
   },
   {
    "duration": 1445,
    "start_time": "2021-12-20T20:24:57.948Z"
   },
   {
    "duration": 2157,
    "start_time": "2021-12-20T20:25:09.069Z"
   },
   {
    "duration": 324,
    "start_time": "2021-12-20T20:25:59.696Z"
   },
   {
    "duration": 15,
    "start_time": "2021-12-20T20:26:07.268Z"
   },
   {
    "duration": 746,
    "start_time": "2021-12-20T20:28:09.505Z"
   },
   {
    "duration": 68,
    "start_time": "2021-12-20T20:28:10.254Z"
   },
   {
    "duration": 32,
    "start_time": "2021-12-20T20:28:10.325Z"
   },
   {
    "duration": 17,
    "start_time": "2021-12-20T20:28:10.360Z"
   },
   {
    "duration": 12,
    "start_time": "2021-12-20T20:28:10.379Z"
   },
   {
    "duration": 9,
    "start_time": "2021-12-20T20:28:10.393Z"
   },
   {
    "duration": 54,
    "start_time": "2021-12-20T20:28:10.405Z"
   },
   {
    "duration": 7,
    "start_time": "2021-12-20T20:28:10.461Z"
   },
   {
    "duration": 4,
    "start_time": "2021-12-20T20:28:10.473Z"
   },
   {
    "duration": 5,
    "start_time": "2021-12-20T20:28:10.481Z"
   },
   {
    "duration": 6,
    "start_time": "2021-12-20T20:28:10.488Z"
   },
   {
    "duration": 74,
    "start_time": "2021-12-20T20:28:10.496Z"
   },
   {
    "duration": 6,
    "start_time": "2021-12-20T20:28:10.572Z"
   },
   {
    "duration": 13,
    "start_time": "2021-12-20T20:28:10.580Z"
   },
   {
    "duration": 637,
    "start_time": "2021-12-20T20:28:10.596Z"
   },
   {
    "duration": 4,
    "start_time": "2021-12-20T20:28:11.236Z"
   },
   {
    "duration": 18,
    "start_time": "2021-12-20T20:28:11.243Z"
   },
   {
    "duration": 23,
    "start_time": "2021-12-20T20:28:11.263Z"
   },
   {
    "duration": 24,
    "start_time": "2021-12-20T20:28:11.288Z"
   },
   {
    "duration": 49,
    "start_time": "2021-12-20T20:28:11.315Z"
   },
   {
    "duration": 21,
    "start_time": "2021-12-20T20:28:11.367Z"
   },
   {
    "duration": 15,
    "start_time": "2021-12-20T20:28:11.391Z"
   },
   {
    "duration": 58,
    "start_time": "2021-12-20T20:28:11.408Z"
   },
   {
    "duration": 25,
    "start_time": "2021-12-20T20:28:11.468Z"
   },
   {
    "duration": 10,
    "start_time": "2021-12-20T20:28:11.495Z"
   },
   {
    "duration": 4901,
    "start_time": "2021-12-20T20:28:11.507Z"
   },
   {
    "duration": 10,
    "start_time": "2021-12-20T20:28:16.414Z"
   },
   {
    "duration": 107,
    "start_time": "2021-12-20T20:28:16.427Z"
   },
   {
    "duration": -387,
    "start_time": "2021-12-20T20:28:16.924Z"
   },
   {
    "duration": -390,
    "start_time": "2021-12-20T20:28:16.928Z"
   },
   {
    "duration": -391,
    "start_time": "2021-12-20T20:28:16.931Z"
   },
   {
    "duration": -394,
    "start_time": "2021-12-20T20:28:16.936Z"
   },
   {
    "duration": -401,
    "start_time": "2021-12-20T20:28:16.944Z"
   },
   {
    "duration": -401,
    "start_time": "2021-12-20T20:28:16.946Z"
   },
   {
    "duration": -403,
    "start_time": "2021-12-20T20:28:16.950Z"
   },
   {
    "duration": -410,
    "start_time": "2021-12-20T20:28:16.958Z"
   },
   {
    "duration": -413,
    "start_time": "2021-12-20T20:28:16.962Z"
   },
   {
    "duration": -414,
    "start_time": "2021-12-20T20:28:16.965Z"
   },
   {
    "duration": -418,
    "start_time": "2021-12-20T20:28:16.970Z"
   },
   {
    "duration": -426,
    "start_time": "2021-12-20T20:28:16.979Z"
   },
   {
    "duration": -428,
    "start_time": "2021-12-20T20:28:16.983Z"
   },
   {
    "duration": -434,
    "start_time": "2021-12-20T20:28:16.991Z"
   },
   {
    "duration": -436,
    "start_time": "2021-12-20T20:28:16.994Z"
   },
   {
    "duration": -437,
    "start_time": "2021-12-20T20:28:16.997Z"
   },
   {
    "duration": -439,
    "start_time": "2021-12-20T20:28:17.000Z"
   },
   {
    "duration": -447,
    "start_time": "2021-12-20T20:28:17.009Z"
   },
   {
    "duration": -449,
    "start_time": "2021-12-20T20:28:17.012Z"
   },
   {
    "duration": -450,
    "start_time": "2021-12-20T20:28:17.015Z"
   },
   {
    "duration": -454,
    "start_time": "2021-12-20T20:28:17.020Z"
   },
   {
    "duration": -458,
    "start_time": "2021-12-20T20:28:17.026Z"
   },
   {
    "duration": -460,
    "start_time": "2021-12-20T20:28:17.029Z"
   },
   {
    "duration": -462,
    "start_time": "2021-12-20T20:28:17.032Z"
   },
   {
    "duration": -463,
    "start_time": "2021-12-20T20:28:17.035Z"
   },
   {
    "duration": 413,
    "start_time": "2021-12-20T20:28:36.581Z"
   },
   {
    "duration": 1749,
    "start_time": "2021-12-20T20:29:42.997Z"
   },
   {
    "duration": 12,
    "start_time": "2021-12-20T20:30:02.393Z"
   },
   {
    "duration": 3375,
    "start_time": "2021-12-20T20:30:51.304Z"
   },
   {
    "duration": 16,
    "start_time": "2021-12-20T20:31:16.445Z"
   },
   {
    "duration": 908,
    "start_time": "2021-12-20T20:33:26.903Z"
   },
   {
    "duration": 1526,
    "start_time": "2021-12-20T20:33:53.955Z"
   },
   {
    "duration": 18,
    "start_time": "2021-12-20T21:57:02.397Z"
   },
   {
    "duration": 118,
    "start_time": "2021-12-20T22:00:57.332Z"
   },
   {
    "duration": 114,
    "start_time": "2021-12-20T22:01:05.524Z"
   },
   {
    "duration": 339,
    "start_time": "2021-12-20T22:01:14.626Z"
   },
   {
    "duration": 38,
    "start_time": "2021-12-20T22:01:53.574Z"
   },
   {
    "duration": 31,
    "start_time": "2021-12-20T22:02:25.664Z"
   },
   {
    "duration": 352,
    "start_time": "2021-12-20T22:03:02.468Z"
   },
   {
    "duration": 346,
    "start_time": "2021-12-20T22:03:14.230Z"
   },
   {
    "duration": 347,
    "start_time": "2021-12-20T22:04:05.341Z"
   },
   {
    "duration": 351,
    "start_time": "2021-12-20T22:04:11.020Z"
   },
   {
    "duration": 338,
    "start_time": "2021-12-20T22:04:27.380Z"
   },
   {
    "duration": 979,
    "start_time": "2021-12-20T22:04:36.786Z"
   },
   {
    "duration": 96,
    "start_time": "2021-12-20T22:04:37.769Z"
   },
   {
    "duration": 32,
    "start_time": "2021-12-20T22:04:37.869Z"
   },
   {
    "duration": 15,
    "start_time": "2021-12-20T22:04:37.904Z"
   },
   {
    "duration": 50,
    "start_time": "2021-12-20T22:04:37.921Z"
   },
   {
    "duration": 11,
    "start_time": "2021-12-20T22:04:37.973Z"
   },
   {
    "duration": 15,
    "start_time": "2021-12-20T22:04:37.987Z"
   },
   {
    "duration": 8,
    "start_time": "2021-12-20T22:04:38.004Z"
   },
   {
    "duration": 6,
    "start_time": "2021-12-20T22:04:38.016Z"
   },
   {
    "duration": 4,
    "start_time": "2021-12-20T22:04:38.061Z"
   },
   {
    "duration": 15,
    "start_time": "2021-12-20T22:04:38.068Z"
   },
   {
    "duration": 36,
    "start_time": "2021-12-20T22:04:38.090Z"
   },
   {
    "duration": 5,
    "start_time": "2021-12-20T22:04:38.129Z"
   },
   {
    "duration": 15,
    "start_time": "2021-12-20T22:04:38.162Z"
   },
   {
    "duration": 949,
    "start_time": "2021-12-20T22:04:38.182Z"
   },
   {
    "duration": 23,
    "start_time": "2021-12-20T22:04:39.140Z"
   },
   {
    "duration": 152,
    "start_time": "2021-12-20T22:04:39.176Z"
   },
   {
    "duration": 53,
    "start_time": "2021-12-20T22:04:39.331Z"
   },
   {
    "duration": 24,
    "start_time": "2021-12-20T22:04:39.387Z"
   },
   {
    "duration": 52,
    "start_time": "2021-12-20T22:04:39.414Z"
   },
   {
    "duration": 36,
    "start_time": "2021-12-20T22:04:39.468Z"
   },
   {
    "duration": 17,
    "start_time": "2021-12-20T22:04:39.507Z"
   },
   {
    "duration": 71,
    "start_time": "2021-12-20T22:04:39.527Z"
   },
   {
    "duration": 60,
    "start_time": "2021-12-20T22:04:39.601Z"
   },
   {
    "duration": 9,
    "start_time": "2021-12-20T22:04:39.664Z"
   },
   {
    "duration": 5095,
    "start_time": "2021-12-20T22:04:39.676Z"
   },
   {
    "duration": 13,
    "start_time": "2021-12-20T22:04:44.780Z"
   },
   {
    "duration": 5,
    "start_time": "2021-12-20T22:04:44.797Z"
   },
   {
    "duration": 584,
    "start_time": "2021-12-20T22:04:44.806Z"
   },
   {
    "duration": -385,
    "start_time": "2021-12-20T22:04:45.778Z"
   },
   {
    "duration": -392,
    "start_time": "2021-12-20T22:04:45.786Z"
   },
   {
    "duration": -394,
    "start_time": "2021-12-20T22:04:45.791Z"
   },
   {
    "duration": -397,
    "start_time": "2021-12-20T22:04:45.795Z"
   },
   {
    "duration": -398,
    "start_time": "2021-12-20T22:04:45.798Z"
   },
   {
    "duration": -399,
    "start_time": "2021-12-20T22:04:45.801Z"
   },
   {
    "duration": -405,
    "start_time": "2021-12-20T22:04:45.808Z"
   },
   {
    "duration": -406,
    "start_time": "2021-12-20T22:04:45.811Z"
   },
   {
    "duration": -408,
    "start_time": "2021-12-20T22:04:45.814Z"
   },
   {
    "duration": -408,
    "start_time": "2021-12-20T22:04:45.816Z"
   },
   {
    "duration": -414,
    "start_time": "2021-12-20T22:04:45.823Z"
   },
   {
    "duration": -415,
    "start_time": "2021-12-20T22:04:45.826Z"
   },
   {
    "duration": -418,
    "start_time": "2021-12-20T22:04:45.830Z"
   },
   {
    "duration": -419,
    "start_time": "2021-12-20T22:04:45.833Z"
   },
   {
    "duration": -422,
    "start_time": "2021-12-20T22:04:45.837Z"
   },
   {
    "duration": -426,
    "start_time": "2021-12-20T22:04:45.843Z"
   },
   {
    "duration": -430,
    "start_time": "2021-12-20T22:04:45.848Z"
   },
   {
    "duration": -431,
    "start_time": "2021-12-20T22:04:45.851Z"
   },
   {
    "duration": -436,
    "start_time": "2021-12-20T22:04:45.857Z"
   },
   {
    "duration": -438,
    "start_time": "2021-12-20T22:04:45.860Z"
   },
   {
    "duration": -441,
    "start_time": "2021-12-20T22:04:45.865Z"
   },
   {
    "duration": -442,
    "start_time": "2021-12-20T22:04:45.868Z"
   },
   {
    "duration": -447,
    "start_time": "2021-12-20T22:04:45.875Z"
   },
   {
    "duration": -449,
    "start_time": "2021-12-20T22:04:45.878Z"
   },
   {
    "duration": -451,
    "start_time": "2021-12-20T22:04:45.881Z"
   },
   {
    "duration": -420,
    "start_time": "2021-12-20T22:04:45.883Z"
   },
   {
    "duration": 375,
    "start_time": "2021-12-20T22:04:53.923Z"
   },
   {
    "duration": 353,
    "start_time": "2021-12-20T22:05:09.456Z"
   },
   {
    "duration": 2164,
    "start_time": "2021-12-20T22:05:19.009Z"
   },
   {
    "duration": 378,
    "start_time": "2021-12-20T22:05:33.508Z"
   },
   {
    "duration": 356,
    "start_time": "2021-12-20T22:05:38.852Z"
   },
   {
    "duration": 433,
    "start_time": "2021-12-20T22:05:52.948Z"
   },
   {
    "duration": 47,
    "start_time": "2021-12-20T22:06:00.988Z"
   },
   {
    "duration": 11,
    "start_time": "2021-12-20T22:07:22.898Z"
   },
   {
    "duration": 13,
    "start_time": "2021-12-20T22:07:24.090Z"
   },
   {
    "duration": 4,
    "start_time": "2021-12-20T22:07:26.660Z"
   },
   {
    "duration": 340,
    "start_time": "2021-12-20T22:07:27.940Z"
   },
   {
    "duration": 11,
    "start_time": "2021-12-20T22:07:43.276Z"
   },
   {
    "duration": 46,
    "start_time": "2021-12-20T22:08:40.052Z"
   },
   {
    "duration": 7,
    "start_time": "2021-12-20T22:09:13.340Z"
   },
   {
    "duration": 326,
    "start_time": "2021-12-20T22:10:54.597Z"
   },
   {
    "duration": 392,
    "start_time": "2021-12-20T22:11:00.716Z"
   },
   {
    "duration": 379,
    "start_time": "2021-12-20T22:11:07.292Z"
   },
   {
    "duration": 9,
    "start_time": "2021-12-20T22:11:19.365Z"
   },
   {
    "duration": 787,
    "start_time": "2021-12-20T22:11:28.412Z"
   },
   {
    "duration": 10,
    "start_time": "2021-12-20T22:11:36.957Z"
   },
   {
    "duration": 36,
    "start_time": "2021-12-20T22:11:50.036Z"
   },
   {
    "duration": 568,
    "start_time": "2021-12-20T22:14:01.157Z"
   },
   {
    "duration": 12,
    "start_time": "2021-12-20T22:14:14.389Z"
   },
   {
    "duration": 13,
    "start_time": "2021-12-20T22:14:22.836Z"
   },
   {
    "duration": 12,
    "start_time": "2021-12-20T22:14:24.815Z"
   },
   {
    "duration": 12,
    "start_time": "2021-12-20T22:14:40.060Z"
   },
   {
    "duration": 12,
    "start_time": "2021-12-20T22:14:40.901Z"
   },
   {
    "duration": 48,
    "start_time": "2021-12-20T22:15:46.709Z"
   },
   {
    "duration": 48,
    "start_time": "2021-12-20T22:16:19.998Z"
   },
   {
    "duration": 874,
    "start_time": "2021-12-20T22:17:00.044Z"
   },
   {
    "duration": 71,
    "start_time": "2021-12-20T22:17:00.921Z"
   },
   {
    "duration": 32,
    "start_time": "2021-12-20T22:17:00.995Z"
   },
   {
    "duration": 37,
    "start_time": "2021-12-20T22:17:01.030Z"
   },
   {
    "duration": 55,
    "start_time": "2021-12-20T22:17:01.069Z"
   },
   {
    "duration": 13,
    "start_time": "2021-12-20T22:17:01.126Z"
   },
   {
    "duration": 9,
    "start_time": "2021-12-20T22:17:01.160Z"
   },
   {
    "duration": 19,
    "start_time": "2021-12-20T22:17:01.174Z"
   },
   {
    "duration": 22,
    "start_time": "2021-12-20T22:17:01.196Z"
   },
   {
    "duration": 25,
    "start_time": "2021-12-20T22:17:01.220Z"
   },
   {
    "duration": 23,
    "start_time": "2021-12-20T22:17:01.248Z"
   },
   {
    "duration": 38,
    "start_time": "2021-12-20T22:17:01.273Z"
   },
   {
    "duration": 69,
    "start_time": "2021-12-20T22:17:01.314Z"
   },
   {
    "duration": 6,
    "start_time": "2021-12-20T22:17:01.385Z"
   },
   {
    "duration": 32,
    "start_time": "2021-12-20T22:17:01.393Z"
   },
   {
    "duration": 1041,
    "start_time": "2021-12-20T22:17:01.428Z"
   },
   {
    "duration": 6,
    "start_time": "2021-12-20T22:17:02.472Z"
   },
   {
    "duration": 14,
    "start_time": "2021-12-20T22:17:02.481Z"
   },
   {
    "duration": 26,
    "start_time": "2021-12-20T22:17:02.497Z"
   },
   {
    "duration": 50,
    "start_time": "2021-12-20T22:17:02.525Z"
   },
   {
    "duration": 22,
    "start_time": "2021-12-20T22:17:02.578Z"
   },
   {
    "duration": 24,
    "start_time": "2021-12-20T22:17:02.602Z"
   },
   {
    "duration": 16,
    "start_time": "2021-12-20T22:17:02.660Z"
   },
   {
    "duration": 38,
    "start_time": "2021-12-20T22:17:02.679Z"
   },
   {
    "duration": 45,
    "start_time": "2021-12-20T22:17:02.719Z"
   },
   {
    "duration": 10,
    "start_time": "2021-12-20T22:17:02.766Z"
   },
   {
    "duration": 5346,
    "start_time": "2021-12-20T22:17:02.779Z"
   },
   {
    "duration": 9,
    "start_time": "2021-12-20T22:17:08.128Z"
   },
   {
    "duration": 3,
    "start_time": "2021-12-20T22:17:08.160Z"
   },
   {
    "duration": 415,
    "start_time": "2021-12-20T22:17:08.165Z"
   },
   {
    "duration": -363,
    "start_time": "2021-12-20T22:17:08.946Z"
   },
   {
    "duration": -371,
    "start_time": "2021-12-20T22:17:08.955Z"
   },
   {
    "duration": -373,
    "start_time": "2021-12-20T22:17:08.959Z"
   },
   {
    "duration": -375,
    "start_time": "2021-12-20T22:17:08.962Z"
   },
   {
    "duration": -377,
    "start_time": "2021-12-20T22:17:08.966Z"
   },
   {
    "duration": -382,
    "start_time": "2021-12-20T22:17:08.972Z"
   },
   {
    "duration": -383,
    "start_time": "2021-12-20T22:17:08.975Z"
   },
   {
    "duration": -385,
    "start_time": "2021-12-20T22:17:08.978Z"
   },
   {
    "duration": -388,
    "start_time": "2021-12-20T22:17:08.983Z"
   },
   {
    "duration": -425,
    "start_time": "2021-12-20T22:17:09.021Z"
   },
   {
    "duration": -429,
    "start_time": "2021-12-20T22:17:09.026Z"
   },
   {
    "duration": -431,
    "start_time": "2021-12-20T22:17:09.030Z"
   },
   {
    "duration": -442,
    "start_time": "2021-12-20T22:17:09.042Z"
   },
   {
    "duration": -445,
    "start_time": "2021-12-20T22:17:09.046Z"
   },
   {
    "duration": -447,
    "start_time": "2021-12-20T22:17:09.050Z"
   },
   {
    "duration": -451,
    "start_time": "2021-12-20T22:17:09.055Z"
   },
   {
    "duration": -452,
    "start_time": "2021-12-20T22:17:09.058Z"
   },
   {
    "duration": -453,
    "start_time": "2021-12-20T22:17:09.061Z"
   },
   {
    "duration": -457,
    "start_time": "2021-12-20T22:17:09.066Z"
   },
   {
    "duration": -460,
    "start_time": "2021-12-20T22:17:09.071Z"
   },
   {
    "duration": -462,
    "start_time": "2021-12-20T22:17:09.074Z"
   },
   {
    "duration": -464,
    "start_time": "2021-12-20T22:17:09.077Z"
   },
   {
    "duration": -465,
    "start_time": "2021-12-20T22:17:09.080Z"
   },
   {
    "duration": -471,
    "start_time": "2021-12-20T22:17:09.087Z"
   },
   {
    "duration": -471,
    "start_time": "2021-12-20T22:17:09.089Z"
   },
   {
    "duration": -477,
    "start_time": "2021-12-20T22:17:09.096Z"
   },
   {
    "duration": -481,
    "start_time": "2021-12-20T22:17:09.102Z"
   },
   {
    "duration": 38,
    "start_time": "2021-12-20T22:20:54.689Z"
   },
   {
    "duration": 6,
    "start_time": "2021-12-20T22:21:03.459Z"
   },
   {
    "duration": 36,
    "start_time": "2021-12-20T22:21:09.187Z"
   },
   {
    "duration": 31,
    "start_time": "2021-12-20T22:21:18.631Z"
   },
   {
    "duration": 11,
    "start_time": "2021-12-20T22:21:27.659Z"
   },
   {
    "duration": 13,
    "start_time": "2021-12-20T22:21:28.764Z"
   },
   {
    "duration": 5,
    "start_time": "2021-12-20T22:21:30.084Z"
   },
   {
    "duration": 11,
    "start_time": "2021-12-20T22:21:31.629Z"
   },
   {
    "duration": 11,
    "start_time": "2021-12-20T22:21:33.106Z"
   },
   {
    "duration": 10,
    "start_time": "2021-12-20T22:21:34.732Z"
   },
   {
    "duration": 14,
    "start_time": "2021-12-20T22:21:36.300Z"
   },
   {
    "duration": 711,
    "start_time": "2021-12-20T22:22:49.850Z"
   },
   {
    "duration": 5,
    "start_time": "2021-12-20T22:26:48.819Z"
   },
   {
    "duration": 708,
    "start_time": "2021-12-20T22:27:00.132Z"
   },
   {
    "duration": 677,
    "start_time": "2021-12-20T22:29:40.338Z"
   },
   {
    "duration": 764,
    "start_time": "2021-12-20T22:30:13.060Z"
   },
   {
    "duration": 67,
    "start_time": "2021-12-20T22:30:13.826Z"
   },
   {
    "duration": 29,
    "start_time": "2021-12-20T22:30:13.896Z"
   },
   {
    "duration": 17,
    "start_time": "2021-12-20T22:30:13.928Z"
   },
   {
    "duration": 49,
    "start_time": "2021-12-20T22:30:13.959Z"
   },
   {
    "duration": 14,
    "start_time": "2021-12-20T22:30:14.011Z"
   },
   {
    "duration": 34,
    "start_time": "2021-12-20T22:30:14.028Z"
   },
   {
    "duration": 15,
    "start_time": "2021-12-20T22:30:14.066Z"
   },
   {
    "duration": 6,
    "start_time": "2021-12-20T22:30:14.085Z"
   },
   {
    "duration": 6,
    "start_time": "2021-12-20T22:30:14.094Z"
   },
   {
    "duration": 13,
    "start_time": "2021-12-20T22:30:14.102Z"
   },
   {
    "duration": 42,
    "start_time": "2021-12-20T22:30:14.117Z"
   },
   {
    "duration": 12,
    "start_time": "2021-12-20T22:30:14.162Z"
   },
   {
    "duration": 32,
    "start_time": "2021-12-20T22:30:14.176Z"
   },
   {
    "duration": 5,
    "start_time": "2021-12-20T22:30:14.210Z"
   },
   {
    "duration": 42,
    "start_time": "2021-12-20T22:30:14.217Z"
   },
   {
    "duration": 601,
    "start_time": "2021-12-20T22:30:14.262Z"
   },
   {
    "duration": 4,
    "start_time": "2021-12-20T22:30:14.866Z"
   },
   {
    "duration": 11,
    "start_time": "2021-12-20T22:30:14.872Z"
   },
   {
    "duration": 25,
    "start_time": "2021-12-20T22:30:14.885Z"
   },
   {
    "duration": 52,
    "start_time": "2021-12-20T22:30:14.913Z"
   },
   {
    "duration": 23,
    "start_time": "2021-12-20T22:30:14.968Z"
   },
   {
    "duration": 21,
    "start_time": "2021-12-20T22:30:14.993Z"
   },
   {
    "duration": 45,
    "start_time": "2021-12-20T22:30:15.016Z"
   },
   {
    "duration": 33,
    "start_time": "2021-12-20T22:30:15.063Z"
   },
   {
    "duration": 25,
    "start_time": "2021-12-20T22:30:15.099Z"
   },
   {
    "duration": 30,
    "start_time": "2021-12-20T22:30:15.130Z"
   },
   {
    "duration": 4927,
    "start_time": "2021-12-20T22:30:15.162Z"
   },
   {
    "duration": 11,
    "start_time": "2021-12-20T22:30:20.092Z"
   },
   {
    "duration": 4,
    "start_time": "2021-12-20T22:30:20.106Z"
   },
   {
    "duration": 563,
    "start_time": "2021-12-20T22:30:20.112Z"
   },
   {
    "duration": -352,
    "start_time": "2021-12-20T22:30:21.030Z"
   },
   {
    "duration": -354,
    "start_time": "2021-12-20T22:30:21.033Z"
   },
   {
    "duration": -355,
    "start_time": "2021-12-20T22:30:21.036Z"
   },
   {
    "duration": -357,
    "start_time": "2021-12-20T22:30:21.039Z"
   },
   {
    "duration": -361,
    "start_time": "2021-12-20T22:30:21.045Z"
   },
   {
    "duration": -362,
    "start_time": "2021-12-20T22:30:21.047Z"
   },
   {
    "duration": -365,
    "start_time": "2021-12-20T22:30:21.051Z"
   },
   {
    "duration": -366,
    "start_time": "2021-12-20T22:30:21.053Z"
   },
   {
    "duration": -367,
    "start_time": "2021-12-20T22:30:21.056Z"
   },
   {
    "duration": -372,
    "start_time": "2021-12-20T22:30:21.062Z"
   },
   {
    "duration": -373,
    "start_time": "2021-12-20T22:30:21.064Z"
   },
   {
    "duration": -373,
    "start_time": "2021-12-20T22:30:21.066Z"
   },
   {
    "duration": -374,
    "start_time": "2021-12-20T22:30:21.069Z"
   },
   {
    "duration": -375,
    "start_time": "2021-12-20T22:30:21.071Z"
   },
   {
    "duration": -381,
    "start_time": "2021-12-20T22:30:21.078Z"
   },
   {
    "duration": -383,
    "start_time": "2021-12-20T22:30:21.081Z"
   },
   {
    "duration": -384,
    "start_time": "2021-12-20T22:30:21.084Z"
   },
   {
    "duration": -385,
    "start_time": "2021-12-20T22:30:21.086Z"
   },
   {
    "duration": -386,
    "start_time": "2021-12-20T22:30:21.089Z"
   },
   {
    "duration": 38,
    "start_time": "2021-12-20T22:30:39.288Z"
   },
   {
    "duration": 10,
    "start_time": "2021-12-20T22:30:40.800Z"
   },
   {
    "duration": 12,
    "start_time": "2021-12-20T22:30:41.704Z"
   },
   {
    "duration": 4,
    "start_time": "2021-12-20T22:30:47.338Z"
   },
   {
    "duration": 14,
    "start_time": "2021-12-20T22:30:47.345Z"
   },
   {
    "duration": 12,
    "start_time": "2021-12-20T22:30:47.363Z"
   },
   {
    "duration": 12,
    "start_time": "2021-12-20T22:30:47.378Z"
   },
   {
    "duration": 13,
    "start_time": "2021-12-20T22:30:47.393Z"
   },
   {
    "duration": 5,
    "start_time": "2021-12-20T22:30:47.409Z"
   },
   {
    "duration": 13,
    "start_time": "2021-12-20T22:30:47.460Z"
   },
   {
    "duration": 695,
    "start_time": "2021-12-20T22:30:47.477Z"
   },
   {
    "duration": -438,
    "start_time": "2021-12-20T22:30:48.614Z"
   },
   {
    "duration": -440,
    "start_time": "2021-12-20T22:30:48.618Z"
   },
   {
    "duration": -439,
    "start_time": "2021-12-20T22:30:48.620Z"
   },
   {
    "duration": -450,
    "start_time": "2021-12-20T22:30:48.633Z"
   },
   {
    "duration": 3,
    "start_time": "2021-12-20T22:31:29.092Z"
   },
   {
    "duration": 726,
    "start_time": "2021-12-20T22:31:39.081Z"
   },
   {
    "duration": 67,
    "start_time": "2021-12-20T22:31:39.810Z"
   },
   {
    "duration": 29,
    "start_time": "2021-12-20T22:31:39.880Z"
   },
   {
    "duration": 15,
    "start_time": "2021-12-20T22:31:39.912Z"
   },
   {
    "duration": 72,
    "start_time": "2021-12-20T22:31:39.929Z"
   },
   {
    "duration": 13,
    "start_time": "2021-12-20T22:31:40.003Z"
   },
   {
    "duration": 9,
    "start_time": "2021-12-20T22:31:40.018Z"
   },
   {
    "duration": 42,
    "start_time": "2021-12-20T22:31:40.029Z"
   },
   {
    "duration": 6,
    "start_time": "2021-12-20T22:31:40.075Z"
   },
   {
    "duration": 4,
    "start_time": "2021-12-20T22:31:40.085Z"
   },
   {
    "duration": 6,
    "start_time": "2021-12-20T22:31:40.092Z"
   },
   {
    "duration": 6,
    "start_time": "2021-12-20T22:31:40.100Z"
   },
   {
    "duration": 12,
    "start_time": "2021-12-20T22:31:40.108Z"
   },
   {
    "duration": 32,
    "start_time": "2021-12-20T22:31:40.159Z"
   },
   {
    "duration": 6,
    "start_time": "2021-12-20T22:31:40.193Z"
   },
   {
    "duration": 11,
    "start_time": "2021-12-20T22:31:40.201Z"
   },
   {
    "duration": 709,
    "start_time": "2021-12-20T22:31:40.214Z"
   },
   {
    "duration": 5,
    "start_time": "2021-12-20T22:31:40.926Z"
   },
   {
    "duration": 8,
    "start_time": "2021-12-20T22:31:40.933Z"
   },
   {
    "duration": 23,
    "start_time": "2021-12-20T22:31:40.960Z"
   },
   {
    "duration": 25,
    "start_time": "2021-12-20T22:31:40.986Z"
   },
   {
    "duration": 52,
    "start_time": "2021-12-20T22:31:41.013Z"
   },
   {
    "duration": 24,
    "start_time": "2021-12-20T22:31:41.067Z"
   },
   {
    "duration": 15,
    "start_time": "2021-12-20T22:31:41.094Z"
   },
   {
    "duration": 60,
    "start_time": "2021-12-20T22:31:41.112Z"
   },
   {
    "duration": 25,
    "start_time": "2021-12-20T22:31:41.174Z"
   },
   {
    "duration": 10,
    "start_time": "2021-12-20T22:31:41.204Z"
   },
   {
    "duration": 5116,
    "start_time": "2021-12-20T22:31:41.217Z"
   },
   {
    "duration": 24,
    "start_time": "2021-12-20T22:31:46.335Z"
   },
   {
    "duration": 3,
    "start_time": "2021-12-20T22:31:46.362Z"
   },
   {
    "duration": 433,
    "start_time": "2021-12-20T22:31:46.368Z"
   },
   {
    "duration": -366,
    "start_time": "2021-12-20T22:31:47.169Z"
   },
   {
    "duration": -370,
    "start_time": "2021-12-20T22:31:47.175Z"
   },
   {
    "duration": -372,
    "start_time": "2021-12-20T22:31:47.179Z"
   },
   {
    "duration": -373,
    "start_time": "2021-12-20T22:31:47.181Z"
   },
   {
    "duration": -376,
    "start_time": "2021-12-20T22:31:47.185Z"
   },
   {
    "duration": -379,
    "start_time": "2021-12-20T22:31:47.190Z"
   },
   {
    "duration": -380,
    "start_time": "2021-12-20T22:31:47.192Z"
   },
   {
    "duration": -381,
    "start_time": "2021-12-20T22:31:47.195Z"
   },
   {
    "duration": -382,
    "start_time": "2021-12-20T22:31:47.197Z"
   },
   {
    "duration": -383,
    "start_time": "2021-12-20T22:31:47.200Z"
   },
   {
    "duration": -387,
    "start_time": "2021-12-20T22:31:47.205Z"
   },
   {
    "duration": -388,
    "start_time": "2021-12-20T22:31:47.208Z"
   },
   {
    "duration": -389,
    "start_time": "2021-12-20T22:31:47.210Z"
   },
   {
    "duration": -389,
    "start_time": "2021-12-20T22:31:47.212Z"
   },
   {
    "duration": -390,
    "start_time": "2021-12-20T22:31:47.214Z"
   },
   {
    "duration": -393,
    "start_time": "2021-12-20T22:31:47.218Z"
   },
   {
    "duration": -396,
    "start_time": "2021-12-20T22:31:47.223Z"
   },
   {
    "duration": -398,
    "start_time": "2021-12-20T22:31:47.226Z"
   },
   {
    "duration": -400,
    "start_time": "2021-12-20T22:31:47.229Z"
   },
   {
    "duration": 38,
    "start_time": "2021-12-20T22:32:02.763Z"
   },
   {
    "duration": 10,
    "start_time": "2021-12-20T22:32:02.804Z"
   },
   {
    "duration": 45,
    "start_time": "2021-12-20T22:32:02.817Z"
   },
   {
    "duration": 3,
    "start_time": "2021-12-20T22:32:02.865Z"
   },
   {
    "duration": 12,
    "start_time": "2021-12-20T22:32:02.870Z"
   },
   {
    "duration": 10,
    "start_time": "2021-12-20T22:32:02.884Z"
   },
   {
    "duration": 10,
    "start_time": "2021-12-20T22:32:02.897Z"
   },
   {
    "duration": 51,
    "start_time": "2021-12-20T22:32:02.910Z"
   },
   {
    "duration": 3,
    "start_time": "2021-12-20T22:32:02.964Z"
   },
   {
    "duration": 15,
    "start_time": "2021-12-20T22:32:02.970Z"
   },
   {
    "duration": 12,
    "start_time": "2021-12-20T22:32:02.987Z"
   },
   {
    "duration": 10,
    "start_time": "2021-12-20T22:32:03.001Z"
   },
   {
    "duration": 52,
    "start_time": "2021-12-20T22:32:03.013Z"
   },
   {
    "duration": 11,
    "start_time": "2021-12-20T22:32:03.067Z"
   },
   {
    "duration": 9,
    "start_time": "2021-12-20T22:32:03.080Z"
   },
   {
    "duration": 11,
    "start_time": "2021-12-20T22:36:12.451Z"
   },
   {
    "duration": 11,
    "start_time": "2021-12-20T22:38:15.768Z"
   },
   {
    "duration": 10,
    "start_time": "2021-12-20T22:38:31.563Z"
   },
   {
    "duration": 13,
    "start_time": "2021-12-20T22:40:39.478Z"
   },
   {
    "duration": 10,
    "start_time": "2021-12-20T22:41:30.787Z"
   },
   {
    "duration": 10,
    "start_time": "2021-12-20T22:41:35.442Z"
   },
   {
    "duration": 318,
    "start_time": "2021-12-20T22:48:02.955Z"
   },
   {
    "duration": 8,
    "start_time": "2021-12-20T22:48:42.906Z"
   },
   {
    "duration": 13,
    "start_time": "2021-12-20T22:48:57.681Z"
   },
   {
    "duration": 14,
    "start_time": "2021-12-20T22:56:07.697Z"
   },
   {
    "duration": 10,
    "start_time": "2021-12-20T22:56:37.794Z"
   },
   {
    "duration": 30,
    "start_time": "2021-12-20T23:01:01.892Z"
   },
   {
    "duration": 28,
    "start_time": "2021-12-20T23:01:44.532Z"
   },
   {
    "duration": 20,
    "start_time": "2021-12-20T23:03:43.206Z"
   },
   {
    "duration": 21,
    "start_time": "2021-12-20T23:04:12.816Z"
   },
   {
    "duration": 1496,
    "start_time": "2021-12-20T23:08:04.643Z"
   },
   {
    "duration": 31,
    "start_time": "2021-12-20T23:08:56.632Z"
   },
   {
    "duration": 20,
    "start_time": "2021-12-20T23:09:03.284Z"
   },
   {
    "duration": 20,
    "start_time": "2021-12-20T23:09:56.236Z"
   },
   {
    "duration": 384,
    "start_time": "2021-12-21T08:32:19.074Z"
   },
   {
    "duration": 686,
    "start_time": "2021-12-21T08:32:25.672Z"
   },
   {
    "duration": 50,
    "start_time": "2021-12-21T08:32:26.360Z"
   },
   {
    "duration": 19,
    "start_time": "2021-12-21T08:32:26.412Z"
   },
   {
    "duration": 12,
    "start_time": "2021-12-21T08:32:26.433Z"
   },
   {
    "duration": 30,
    "start_time": "2021-12-21T08:32:26.446Z"
   },
   {
    "duration": 9,
    "start_time": "2021-12-21T08:32:26.477Z"
   },
   {
    "duration": 6,
    "start_time": "2021-12-21T08:32:26.507Z"
   },
   {
    "duration": 17,
    "start_time": "2021-12-21T08:32:26.515Z"
   },
   {
    "duration": 5,
    "start_time": "2021-12-21T08:32:26.535Z"
   },
   {
    "duration": 11,
    "start_time": "2021-12-21T08:32:26.541Z"
   },
   {
    "duration": 9,
    "start_time": "2021-12-21T08:32:26.553Z"
   },
   {
    "duration": 7,
    "start_time": "2021-12-21T08:32:26.563Z"
   },
   {
    "duration": 7,
    "start_time": "2021-12-21T08:32:26.571Z"
   },
   {
    "duration": 35,
    "start_time": "2021-12-21T08:32:26.580Z"
   },
   {
    "duration": 4,
    "start_time": "2021-12-21T08:32:26.617Z"
   },
   {
    "duration": 11,
    "start_time": "2021-12-21T08:32:26.622Z"
   },
   {
    "duration": 360,
    "start_time": "2021-12-21T08:32:26.635Z"
   },
   {
    "duration": 4,
    "start_time": "2021-12-21T08:32:26.997Z"
   },
   {
    "duration": 9,
    "start_time": "2021-12-21T08:32:27.002Z"
   },
   {
    "duration": 17,
    "start_time": "2021-12-21T08:32:27.013Z"
   },
   {
    "duration": 16,
    "start_time": "2021-12-21T08:32:27.032Z"
   },
   {
    "duration": 15,
    "start_time": "2021-12-21T08:32:27.049Z"
   },
   {
    "duration": 15,
    "start_time": "2021-12-21T08:32:27.065Z"
   },
   {
    "duration": 10,
    "start_time": "2021-12-21T08:32:27.107Z"
   },
   {
    "duration": 27,
    "start_time": "2021-12-21T08:32:27.118Z"
   },
   {
    "duration": 20,
    "start_time": "2021-12-21T08:32:27.147Z"
   },
   {
    "duration": 7,
    "start_time": "2021-12-21T08:32:27.171Z"
   },
   {
    "duration": 3801,
    "start_time": "2021-12-21T08:32:27.180Z"
   },
   {
    "duration": 7,
    "start_time": "2021-12-21T08:32:30.983Z"
   },
   {
    "duration": 15,
    "start_time": "2021-12-21T08:32:30.992Z"
   },
   {
    "duration": 415,
    "start_time": "2021-12-21T08:32:31.009Z"
   },
   {
    "duration": -40,
    "start_time": "2021-12-21T08:32:31.466Z"
   },
   {
    "duration": -50,
    "start_time": "2021-12-21T08:32:31.476Z"
   },
   {
    "duration": -58,
    "start_time": "2021-12-21T08:32:31.485Z"
   },
   {
    "duration": -63,
    "start_time": "2021-12-21T08:32:31.491Z"
   },
   {
    "duration": -66,
    "start_time": "2021-12-21T08:32:31.495Z"
   },
   {
    "duration": -67,
    "start_time": "2021-12-21T08:32:31.497Z"
   },
   {
    "duration": -70,
    "start_time": "2021-12-21T08:32:31.501Z"
   },
   {
    "duration": -73,
    "start_time": "2021-12-21T08:32:31.505Z"
   },
   {
    "duration": -74,
    "start_time": "2021-12-21T08:32:31.507Z"
   },
   {
    "duration": -75,
    "start_time": "2021-12-21T08:32:31.509Z"
   },
   {
    "duration": -77,
    "start_time": "2021-12-21T08:32:31.512Z"
   },
   {
    "duration": -78,
    "start_time": "2021-12-21T08:32:31.514Z"
   },
   {
    "duration": -79,
    "start_time": "2021-12-21T08:32:31.516Z"
   },
   {
    "duration": -83,
    "start_time": "2021-12-21T08:32:31.521Z"
   },
   {
    "duration": -85,
    "start_time": "2021-12-21T08:32:31.524Z"
   },
   {
    "duration": -86,
    "start_time": "2021-12-21T08:32:31.526Z"
   },
   {
    "duration": -87,
    "start_time": "2021-12-21T08:32:31.528Z"
   },
   {
    "duration": -88,
    "start_time": "2021-12-21T08:32:31.530Z"
   },
   {
    "duration": -89,
    "start_time": "2021-12-21T08:32:31.532Z"
   },
   {
    "duration": -92,
    "start_time": "2021-12-21T08:32:31.536Z"
   },
   {
    "duration": -94,
    "start_time": "2021-12-21T08:32:31.539Z"
   },
   {
    "duration": 23,
    "start_time": "2021-12-21T08:32:39.867Z"
   },
   {
    "duration": 8,
    "start_time": "2021-12-21T08:32:41.752Z"
   },
   {
    "duration": 9,
    "start_time": "2021-12-21T08:32:42.521Z"
   },
   {
    "duration": 7,
    "start_time": "2021-12-21T08:32:43.305Z"
   },
   {
    "duration": 3,
    "start_time": "2021-12-21T08:32:44.151Z"
   },
   {
    "duration": 8,
    "start_time": "2021-12-21T08:32:45.633Z"
   },
   {
    "duration": 9,
    "start_time": "2021-12-21T08:33:10.793Z"
   },
   {
    "duration": 10,
    "start_time": "2021-12-21T08:33:39.411Z"
   },
   {
    "duration": 2,
    "start_time": "2021-12-21T08:33:50.434Z"
   },
   {
    "duration": 57,
    "start_time": "2021-12-21T08:33:50.438Z"
   },
   {
    "duration": 13,
    "start_time": "2021-12-21T08:33:50.497Z"
   },
   {
    "duration": 17,
    "start_time": "2021-12-21T08:33:50.512Z"
   },
   {
    "duration": 37,
    "start_time": "2021-12-21T08:33:50.530Z"
   },
   {
    "duration": 10,
    "start_time": "2021-12-21T08:33:50.568Z"
   },
   {
    "duration": 32,
    "start_time": "2021-12-21T08:33:50.580Z"
   },
   {
    "duration": 12,
    "start_time": "2021-12-21T08:33:50.615Z"
   },
   {
    "duration": 5,
    "start_time": "2021-12-21T08:33:50.629Z"
   },
   {
    "duration": 5,
    "start_time": "2021-12-21T08:33:50.635Z"
   },
   {
    "duration": 8,
    "start_time": "2021-12-21T08:33:50.641Z"
   },
   {
    "duration": 5,
    "start_time": "2021-12-21T08:33:50.651Z"
   },
   {
    "duration": 6,
    "start_time": "2021-12-21T08:33:50.657Z"
   },
   {
    "duration": 47,
    "start_time": "2021-12-21T08:33:50.665Z"
   },
   {
    "duration": 4,
    "start_time": "2021-12-21T08:33:50.714Z"
   },
   {
    "duration": 9,
    "start_time": "2021-12-21T08:33:50.720Z"
   },
   {
    "duration": 405,
    "start_time": "2021-12-21T08:33:50.731Z"
   },
   {
    "duration": 5,
    "start_time": "2021-12-21T08:33:51.138Z"
   },
   {
    "duration": 4,
    "start_time": "2021-12-21T08:33:51.146Z"
   },
   {
    "duration": 17,
    "start_time": "2021-12-21T08:33:51.152Z"
   },
   {
    "duration": 43,
    "start_time": "2021-12-21T08:33:51.170Z"
   },
   {
    "duration": 15,
    "start_time": "2021-12-21T08:33:51.215Z"
   },
   {
    "duration": 17,
    "start_time": "2021-12-21T08:33:51.232Z"
   },
   {
    "duration": 11,
    "start_time": "2021-12-21T08:33:51.251Z"
   },
   {
    "duration": 55,
    "start_time": "2021-12-21T08:33:51.264Z"
   },
   {
    "duration": 19,
    "start_time": "2021-12-21T08:33:51.321Z"
   },
   {
    "duration": 19,
    "start_time": "2021-12-21T08:33:51.342Z"
   },
   {
    "duration": 3712,
    "start_time": "2021-12-21T08:33:51.362Z"
   },
   {
    "duration": 7,
    "start_time": "2021-12-21T08:33:55.076Z"
   },
   {
    "duration": 5,
    "start_time": "2021-12-21T08:33:55.085Z"
   },
   {
    "duration": 1506,
    "start_time": "2021-12-21T08:33:55.106Z"
   },
   {
    "duration": -45,
    "start_time": "2021-12-21T08:33:56.659Z"
   },
   {
    "duration": -53,
    "start_time": "2021-12-21T08:33:56.668Z"
   },
   {
    "duration": -57,
    "start_time": "2021-12-21T08:33:56.672Z"
   },
   {
    "duration": -61,
    "start_time": "2021-12-21T08:33:56.677Z"
   },
   {
    "duration": -70,
    "start_time": "2021-12-21T08:33:56.687Z"
   },
   {
    "duration": -71,
    "start_time": "2021-12-21T08:33:56.689Z"
   },
   {
    "duration": -73,
    "start_time": "2021-12-21T08:33:56.692Z"
   },
   {
    "duration": -80,
    "start_time": "2021-12-21T08:33:56.700Z"
   },
   {
    "duration": -82,
    "start_time": "2021-12-21T08:33:56.703Z"
   },
   {
    "duration": -83,
    "start_time": "2021-12-21T08:33:56.705Z"
   },
   {
    "duration": -86,
    "start_time": "2021-12-21T08:33:56.709Z"
   },
   {
    "duration": -88,
    "start_time": "2021-12-21T08:33:56.712Z"
   },
   {
    "duration": -93,
    "start_time": "2021-12-21T08:33:56.718Z"
   },
   {
    "duration": -95,
    "start_time": "2021-12-21T08:33:56.721Z"
   },
   {
    "duration": -97,
    "start_time": "2021-12-21T08:33:56.723Z"
   },
   {
    "duration": -99,
    "start_time": "2021-12-21T08:33:56.726Z"
   },
   {
    "duration": -101,
    "start_time": "2021-12-21T08:33:56.729Z"
   },
   {
    "duration": -107,
    "start_time": "2021-12-21T08:33:56.736Z"
   },
   {
    "duration": -109,
    "start_time": "2021-12-21T08:33:56.739Z"
   },
   {
    "duration": -111,
    "start_time": "2021-12-21T08:33:56.742Z"
   },
   {
    "duration": -114,
    "start_time": "2021-12-21T08:33:56.746Z"
   },
   {
    "duration": 23,
    "start_time": "2021-12-21T08:34:08.146Z"
   },
   {
    "duration": 8,
    "start_time": "2021-12-21T08:34:09.204Z"
   },
   {
    "duration": 10,
    "start_time": "2021-12-21T08:34:10.561Z"
   },
   {
    "duration": 7,
    "start_time": "2021-12-21T08:34:11.319Z"
   },
   {
    "duration": 2,
    "start_time": "2021-12-21T08:34:12.402Z"
   },
   {
    "duration": 8,
    "start_time": "2021-12-21T08:34:14.261Z"
   },
   {
    "duration": 8,
    "start_time": "2021-12-21T08:35:06.322Z"
   },
   {
    "duration": 12,
    "start_time": "2021-12-21T08:35:38.790Z"
   },
   {
    "duration": 12,
    "start_time": "2021-12-21T08:35:59.498Z"
   },
   {
    "duration": 14,
    "start_time": "2021-12-21T08:36:58.236Z"
   },
   {
    "duration": 128,
    "start_time": "2021-12-21T08:38:07.367Z"
   },
   {
    "duration": 148,
    "start_time": "2021-12-21T08:39:12.203Z"
   },
   {
    "duration": 14,
    "start_time": "2021-12-21T08:39:21.070Z"
   },
   {
    "duration": 2862,
    "start_time": "2021-12-21T09:22:31.277Z"
   },
   {
    "duration": 22,
    "start_time": "2021-12-21T09:22:41.245Z"
   },
   {
    "duration": 19,
    "start_time": "2021-12-21T09:24:43.099Z"
   },
   {
    "duration": 9,
    "start_time": "2021-12-21T09:25:18.742Z"
   },
   {
    "duration": 10,
    "start_time": "2021-12-21T09:26:09.011Z"
   },
   {
    "duration": 18,
    "start_time": "2021-12-21T09:28:37.482Z"
   },
   {
    "duration": 15,
    "start_time": "2021-12-21T09:39:29.439Z"
   },
   {
    "duration": 112,
    "start_time": "2021-12-21T13:18:36.439Z"
   },
   {
    "duration": 101,
    "start_time": "2021-12-21T13:18:41.274Z"
   },
   {
    "duration": 118,
    "start_time": "2021-12-21T13:18:46.278Z"
   },
   {
    "duration": 858,
    "start_time": "2021-12-21T13:18:49.609Z"
   },
   {
    "duration": 5,
    "start_time": "2021-12-21T13:19:00.816Z"
   },
   {
    "duration": 524,
    "start_time": "2021-12-21T13:21:33.640Z"
   },
   {
    "duration": 1877,
    "start_time": "2021-12-21T13:21:44.969Z"
   },
   {
    "duration": 298,
    "start_time": "2021-12-21T13:21:46.849Z"
   },
   {
    "duration": 34,
    "start_time": "2021-12-21T13:21:47.151Z"
   },
   {
    "duration": 46,
    "start_time": "2021-12-21T13:21:47.189Z"
   },
   {
    "duration": 61,
    "start_time": "2021-12-21T13:21:47.239Z"
   },
   {
    "duration": 27,
    "start_time": "2021-12-21T13:21:47.303Z"
   },
   {
    "duration": 22,
    "start_time": "2021-12-21T13:21:47.333Z"
   },
   {
    "duration": 38,
    "start_time": "2021-12-21T13:21:47.359Z"
   },
   {
    "duration": 23,
    "start_time": "2021-12-21T13:21:47.400Z"
   },
   {
    "duration": 17,
    "start_time": "2021-12-21T13:21:47.426Z"
   },
   {
    "duration": 25,
    "start_time": "2021-12-21T13:21:47.446Z"
   },
   {
    "duration": 14,
    "start_time": "2021-12-21T13:21:47.474Z"
   },
   {
    "duration": 25,
    "start_time": "2021-12-21T13:21:47.491Z"
   },
   {
    "duration": 73,
    "start_time": "2021-12-21T13:21:47.519Z"
   },
   {
    "duration": 8,
    "start_time": "2021-12-21T13:21:47.595Z"
   },
   {
    "duration": 21,
    "start_time": "2021-12-21T13:21:47.605Z"
   },
   {
    "duration": 719,
    "start_time": "2021-12-21T13:21:47.628Z"
   },
   {
    "duration": 4,
    "start_time": "2021-12-21T13:21:48.349Z"
   },
   {
    "duration": 45,
    "start_time": "2021-12-21T13:21:48.356Z"
   },
   {
    "duration": 41,
    "start_time": "2021-12-21T13:21:48.404Z"
   },
   {
    "duration": 24,
    "start_time": "2021-12-21T13:21:48.448Z"
   },
   {
    "duration": 20,
    "start_time": "2021-12-21T13:21:48.474Z"
   },
   {
    "duration": 41,
    "start_time": "2021-12-21T13:21:48.499Z"
   },
   {
    "duration": 22,
    "start_time": "2021-12-21T13:21:48.545Z"
   },
   {
    "duration": 35,
    "start_time": "2021-12-21T13:21:48.570Z"
   },
   {
    "duration": 38,
    "start_time": "2021-12-21T13:21:48.608Z"
   },
   {
    "duration": 17,
    "start_time": "2021-12-21T13:21:48.648Z"
   },
   {
    "duration": 5864,
    "start_time": "2021-12-21T13:21:48.668Z"
   },
   {
    "duration": 14,
    "start_time": "2021-12-21T13:21:54.536Z"
   },
   {
    "duration": 30,
    "start_time": "2021-12-21T13:21:54.553Z"
   },
   {
    "duration": 20,
    "start_time": "2021-12-21T13:21:54.586Z"
   },
   {
    "duration": 27,
    "start_time": "2021-12-21T13:21:54.609Z"
   },
   {
    "duration": 31,
    "start_time": "2021-12-21T13:21:54.639Z"
   },
   {
    "duration": 5,
    "start_time": "2021-12-21T13:21:54.673Z"
   },
   {
    "duration": 47,
    "start_time": "2021-12-21T13:21:54.681Z"
   },
   {
    "duration": 20,
    "start_time": "2021-12-21T13:21:54.733Z"
   },
   {
    "duration": 55,
    "start_time": "2021-12-21T13:21:54.755Z"
   },
   {
    "duration": 32,
    "start_time": "2021-12-21T13:21:54.812Z"
   },
   {
    "duration": 3,
    "start_time": "2021-12-21T13:21:54.846Z"
   },
   {
    "duration": 13,
    "start_time": "2021-12-21T13:21:54.852Z"
   },
   {
    "duration": 13,
    "start_time": "2021-12-21T13:21:54.868Z"
   },
   {
    "duration": 48,
    "start_time": "2021-12-21T13:21:54.884Z"
   },
   {
    "duration": 10,
    "start_time": "2021-12-21T13:21:54.935Z"
   },
   {
    "duration": 12,
    "start_time": "2021-12-21T13:21:54.949Z"
   },
   {
    "duration": 62,
    "start_time": "2021-12-21T13:21:54.964Z"
   },
   {
    "duration": 35,
    "start_time": "2021-12-21T13:27:20.752Z"
   },
   {
    "duration": 33,
    "start_time": "2021-12-21T13:27:26.089Z"
   },
   {
    "duration": 8985,
    "start_time": "2021-12-21T13:27:51.200Z"
   },
   {
    "duration": 33,
    "start_time": "2021-12-21T13:28:09.281Z"
   },
   {
    "duration": 34,
    "start_time": "2021-12-21T13:37:12.657Z"
   },
   {
    "duration": 34,
    "start_time": "2021-12-21T13:39:34.152Z"
   },
   {
    "duration": 7,
    "start_time": "2021-12-21T13:40:47.122Z"
   },
   {
    "duration": 31,
    "start_time": "2021-12-21T13:41:13.058Z"
   },
   {
    "duration": 31,
    "start_time": "2021-12-21T13:42:24.842Z"
   },
   {
    "duration": -205,
    "start_time": "2021-12-21T13:43:50.692Z"
   },
   {
    "duration": 10952,
    "start_time": "2021-12-21T13:43:54.592Z"
   },
   {
    "duration": 13,
    "start_time": "2021-12-21T13:44:55.791Z"
   },
   {
    "duration": 18,
    "start_time": "2021-12-21T13:45:03.514Z"
   },
   {
    "duration": 23,
    "start_time": "2021-12-21T13:45:38.106Z"
   },
   {
    "duration": 21,
    "start_time": "2021-12-21T13:48:26.570Z"
   },
   {
    "duration": 22,
    "start_time": "2021-12-21T14:10:31.197Z"
   },
   {
    "duration": 16,
    "start_time": "2021-12-21T14:31:57.635Z"
   },
   {
    "duration": 13,
    "start_time": "2021-12-21T14:32:08.179Z"
   },
   {
    "duration": 7,
    "start_time": "2021-12-21T14:32:21.531Z"
   },
   {
    "duration": 6,
    "start_time": "2021-12-21T14:32:59.171Z"
   },
   {
    "duration": 6,
    "start_time": "2021-12-21T14:33:07.075Z"
   },
   {
    "duration": 5,
    "start_time": "2021-12-21T14:33:11.467Z"
   },
   {
    "duration": 352,
    "start_time": "2021-12-21T14:33:17.887Z"
   },
   {
    "duration": 6,
    "start_time": "2021-12-21T14:33:22.070Z"
   },
   {
    "duration": 7,
    "start_time": "2021-12-21T14:33:45.852Z"
   },
   {
    "duration": 10,
    "start_time": "2021-12-21T14:33:51.730Z"
   },
   {
    "duration": 5,
    "start_time": "2021-12-21T14:34:16.267Z"
   },
   {
    "duration": 5,
    "start_time": "2021-12-21T14:34:22.948Z"
   },
   {
    "duration": 8,
    "start_time": "2021-12-21T14:35:12.081Z"
   },
   {
    "duration": 8,
    "start_time": "2021-12-21T14:35:22.577Z"
   },
   {
    "duration": 5,
    "start_time": "2021-12-21T14:35:31.315Z"
   },
   {
    "duration": 5,
    "start_time": "2021-12-21T14:35:39.163Z"
   },
   {
    "duration": 9,
    "start_time": "2021-12-21T14:35:53.467Z"
   },
   {
    "duration": 9,
    "start_time": "2021-12-21T14:35:59.686Z"
   },
   {
    "duration": 8,
    "start_time": "2021-12-21T14:36:34.493Z"
   },
   {
    "duration": 8,
    "start_time": "2021-12-21T14:36:37.716Z"
   },
   {
    "duration": 10,
    "start_time": "2021-12-21T14:36:41.157Z"
   },
   {
    "duration": 32,
    "start_time": "2021-12-21T14:37:58.245Z"
   },
   {
    "duration": 27,
    "start_time": "2021-12-21T14:38:46.244Z"
   },
   {
    "duration": 30,
    "start_time": "2021-12-21T14:42:03.005Z"
   },
   {
    "duration": 29,
    "start_time": "2021-12-21T14:42:32.764Z"
   },
   {
    "duration": 10,
    "start_time": "2021-12-21T14:43:28.508Z"
   },
   {
    "duration": 320,
    "start_time": "2021-12-21T14:43:55.676Z"
   },
   {
    "duration": 13,
    "start_time": "2021-12-21T14:44:31.709Z"
   },
   {
    "duration": 662,
    "start_time": "2021-12-21T14:44:45.091Z"
   },
   {
    "duration": 7,
    "start_time": "2021-12-21T14:44:52.389Z"
   },
   {
    "duration": 10,
    "start_time": "2021-12-21T14:45:00.404Z"
   },
   {
    "duration": 11,
    "start_time": "2021-12-21T14:45:07.206Z"
   },
   {
    "duration": 10,
    "start_time": "2021-12-21T14:45:17.127Z"
   },
   {
    "duration": 26,
    "start_time": "2021-12-21T14:56:56.037Z"
   },
   {
    "duration": 878,
    "start_time": "2021-12-21T20:33:17.917Z"
   },
   {
    "duration": 49,
    "start_time": "2021-12-21T20:33:18.797Z"
   },
   {
    "duration": 18,
    "start_time": "2021-12-21T20:33:18.849Z"
   },
   {
    "duration": 11,
    "start_time": "2021-12-21T20:33:18.869Z"
   },
   {
    "duration": 32,
    "start_time": "2021-12-21T20:33:18.881Z"
   },
   {
    "duration": 9,
    "start_time": "2021-12-21T20:33:18.915Z"
   },
   {
    "duration": 34,
    "start_time": "2021-12-21T20:33:18.926Z"
   },
   {
    "duration": 10,
    "start_time": "2021-12-21T20:33:18.962Z"
   },
   {
    "duration": 7,
    "start_time": "2021-12-21T20:33:18.974Z"
   },
   {
    "duration": 4,
    "start_time": "2021-12-21T20:33:18.983Z"
   },
   {
    "duration": 5,
    "start_time": "2021-12-21T20:33:18.989Z"
   },
   {
    "duration": 6,
    "start_time": "2021-12-21T20:33:18.996Z"
   },
   {
    "duration": 10,
    "start_time": "2021-12-21T20:33:19.004Z"
   },
   {
    "duration": 21,
    "start_time": "2021-12-21T20:33:19.016Z"
   },
   {
    "duration": 24,
    "start_time": "2021-12-21T20:33:19.039Z"
   },
   {
    "duration": 10,
    "start_time": "2021-12-21T20:33:19.065Z"
   },
   {
    "duration": 363,
    "start_time": "2021-12-21T20:33:19.076Z"
   },
   {
    "duration": 3,
    "start_time": "2021-12-21T20:33:19.441Z"
   },
   {
    "duration": 18,
    "start_time": "2021-12-21T20:33:19.446Z"
   },
   {
    "duration": 19,
    "start_time": "2021-12-21T20:33:19.466Z"
   },
   {
    "duration": 19,
    "start_time": "2021-12-21T20:33:19.488Z"
   },
   {
    "duration": 15,
    "start_time": "2021-12-21T20:33:19.509Z"
   },
   {
    "duration": 39,
    "start_time": "2021-12-21T20:33:19.526Z"
   },
   {
    "duration": 10,
    "start_time": "2021-12-21T20:33:19.567Z"
   },
   {
    "duration": 26,
    "start_time": "2021-12-21T20:33:19.579Z"
   },
   {
    "duration": 17,
    "start_time": "2021-12-21T20:33:19.607Z"
   },
   {
    "duration": 3,
    "start_time": "2021-12-21T20:33:19.628Z"
   },
   {
    "duration": 3918,
    "start_time": "2021-12-21T20:33:19.633Z"
   },
   {
    "duration": 11,
    "start_time": "2021-12-21T20:33:23.553Z"
   },
   {
    "duration": 20,
    "start_time": "2021-12-21T20:33:23.565Z"
   },
   {
    "duration": 19,
    "start_time": "2021-12-21T20:33:23.587Z"
   },
   {
    "duration": 10,
    "start_time": "2021-12-21T20:33:23.608Z"
   },
   {
    "duration": 35,
    "start_time": "2021-12-21T20:33:23.620Z"
   },
   {
    "duration": 12,
    "start_time": "2021-12-21T20:33:23.657Z"
   },
   {
    "duration": 8,
    "start_time": "2021-12-21T20:33:23.670Z"
   },
   {
    "duration": 31,
    "start_time": "2021-12-21T20:33:23.680Z"
   },
   {
    "duration": 14,
    "start_time": "2021-12-21T20:33:23.713Z"
   },
   {
    "duration": 19,
    "start_time": "2021-12-21T20:33:23.729Z"
   },
   {
    "duration": 587,
    "start_time": "2021-12-21T20:47:14.371Z"
   },
   {
    "duration": 51,
    "start_time": "2021-12-21T20:47:14.961Z"
   },
   {
    "duration": 20,
    "start_time": "2021-12-21T20:47:15.014Z"
   },
   {
    "duration": 18,
    "start_time": "2021-12-21T20:47:15.036Z"
   },
   {
    "duration": 30,
    "start_time": "2021-12-21T20:47:15.055Z"
   },
   {
    "duration": 9,
    "start_time": "2021-12-21T20:47:15.087Z"
   },
   {
    "duration": 6,
    "start_time": "2021-12-21T20:47:15.097Z"
   },
   {
    "duration": 10,
    "start_time": "2021-12-21T20:47:15.105Z"
   },
   {
    "duration": 4,
    "start_time": "2021-12-21T20:47:15.116Z"
   },
   {
    "duration": 5,
    "start_time": "2021-12-21T20:47:15.122Z"
   },
   {
    "duration": 34,
    "start_time": "2021-12-21T20:47:15.128Z"
   },
   {
    "duration": 4,
    "start_time": "2021-12-21T20:47:15.164Z"
   },
   {
    "duration": 6,
    "start_time": "2021-12-21T20:47:15.170Z"
   },
   {
    "duration": 20,
    "start_time": "2021-12-21T20:47:15.177Z"
   },
   {
    "duration": 4,
    "start_time": "2021-12-21T20:47:15.198Z"
   },
   {
    "duration": 7,
    "start_time": "2021-12-21T20:47:15.204Z"
   },
   {
    "duration": 376,
    "start_time": "2021-12-21T20:47:15.212Z"
   },
   {
    "duration": 3,
    "start_time": "2021-12-21T20:47:15.590Z"
   },
   {
    "duration": 37,
    "start_time": "2021-12-21T20:47:15.594Z"
   },
   {
    "duration": 46,
    "start_time": "2021-12-21T20:47:15.632Z"
   },
   {
    "duration": 15,
    "start_time": "2021-12-21T20:47:15.680Z"
   },
   {
    "duration": 16,
    "start_time": "2021-12-21T20:47:15.697Z"
   },
   {
    "duration": 14,
    "start_time": "2021-12-21T20:47:15.716Z"
   },
   {
    "duration": 28,
    "start_time": "2021-12-21T20:47:15.731Z"
   },
   {
    "duration": 24,
    "start_time": "2021-12-21T20:47:15.761Z"
   },
   {
    "duration": 18,
    "start_time": "2021-12-21T20:47:15.786Z"
   },
   {
    "duration": 14,
    "start_time": "2021-12-21T20:47:15.806Z"
   },
   {
    "duration": 3400,
    "start_time": "2021-12-21T20:47:15.822Z"
   },
   {
    "duration": 7,
    "start_time": "2021-12-21T20:47:19.224Z"
   },
   {
    "duration": 10,
    "start_time": "2021-12-21T20:47:19.232Z"
   },
   {
    "duration": 27,
    "start_time": "2021-12-21T20:47:19.243Z"
   },
   {
    "duration": 4,
    "start_time": "2021-12-21T20:47:19.272Z"
   },
   {
    "duration": 27,
    "start_time": "2021-12-21T20:47:19.278Z"
   },
   {
    "duration": 13,
    "start_time": "2021-12-21T20:47:19.307Z"
   },
   {
    "duration": 5,
    "start_time": "2021-12-21T20:47:19.322Z"
   },
   {
    "duration": 16,
    "start_time": "2021-12-21T20:47:19.360Z"
   },
   {
    "duration": 14,
    "start_time": "2021-12-21T20:47:19.377Z"
   },
   {
    "duration": 13,
    "start_time": "2021-12-21T20:47:19.393Z"
   },
   {
    "duration": 598,
    "start_time": "2021-12-21T21:36:02.319Z"
   },
   {
    "duration": 52,
    "start_time": "2021-12-21T21:36:02.919Z"
   },
   {
    "duration": 19,
    "start_time": "2021-12-21T21:36:02.973Z"
   },
   {
    "duration": 16,
    "start_time": "2021-12-21T21:36:02.994Z"
   },
   {
    "duration": 35,
    "start_time": "2021-12-21T21:36:03.012Z"
   },
   {
    "duration": 20,
    "start_time": "2021-12-21T21:36:03.049Z"
   },
   {
    "duration": 11,
    "start_time": "2021-12-21T21:36:03.070Z"
   },
   {
    "duration": 11,
    "start_time": "2021-12-21T21:36:03.083Z"
   },
   {
    "duration": 9,
    "start_time": "2021-12-21T21:36:03.097Z"
   },
   {
    "duration": 6,
    "start_time": "2021-12-21T21:36:03.108Z"
   },
   {
    "duration": 12,
    "start_time": "2021-12-21T21:36:03.116Z"
   },
   {
    "duration": 7,
    "start_time": "2021-12-21T21:36:03.129Z"
   },
   {
    "duration": 24,
    "start_time": "2021-12-21T21:36:03.137Z"
   },
   {
    "duration": 22,
    "start_time": "2021-12-21T21:36:03.162Z"
   },
   {
    "duration": 4,
    "start_time": "2021-12-21T21:36:03.186Z"
   },
   {
    "duration": 9,
    "start_time": "2021-12-21T21:36:03.192Z"
   },
   {
    "duration": 373,
    "start_time": "2021-12-21T21:36:03.203Z"
   },
   {
    "duration": 4,
    "start_time": "2021-12-21T21:36:03.578Z"
   },
   {
    "duration": 7,
    "start_time": "2021-12-21T21:36:03.584Z"
   },
   {
    "duration": 23,
    "start_time": "2021-12-21T21:36:03.592Z"
   },
   {
    "duration": 17,
    "start_time": "2021-12-21T21:36:03.617Z"
   },
   {
    "duration": 36,
    "start_time": "2021-12-21T21:36:03.636Z"
   },
   {
    "duration": 16,
    "start_time": "2021-12-21T21:36:03.675Z"
   },
   {
    "duration": 10,
    "start_time": "2021-12-21T21:36:03.693Z"
   },
   {
    "duration": 26,
    "start_time": "2021-12-21T21:36:03.705Z"
   },
   {
    "duration": 46,
    "start_time": "2021-12-21T21:36:03.733Z"
   },
   {
    "duration": 14,
    "start_time": "2021-12-21T21:36:03.781Z"
   },
   {
    "duration": 3706,
    "start_time": "2021-12-21T21:36:03.796Z"
   },
   {
    "duration": 8,
    "start_time": "2021-12-21T21:36:07.504Z"
   },
   {
    "duration": 9,
    "start_time": "2021-12-21T21:36:07.514Z"
   },
   {
    "duration": 13,
    "start_time": "2021-12-21T21:36:07.525Z"
   },
   {
    "duration": 3,
    "start_time": "2021-12-21T21:36:07.561Z"
   },
   {
    "duration": 27,
    "start_time": "2021-12-21T21:36:07.565Z"
   },
   {
    "duration": 13,
    "start_time": "2021-12-21T21:36:07.594Z"
   },
   {
    "duration": 5,
    "start_time": "2021-12-21T21:36:07.609Z"
   },
   {
    "duration": 16,
    "start_time": "2021-12-21T21:36:07.615Z"
   },
   {
    "duration": 15,
    "start_time": "2021-12-21T21:36:07.661Z"
   },
   {
    "duration": 13,
    "start_time": "2021-12-21T21:36:07.678Z"
   },
   {
    "duration": 637,
    "start_time": "2021-12-22T10:10:30.013Z"
   },
   {
    "duration": 52,
    "start_time": "2021-12-22T10:10:30.652Z"
   },
   {
    "duration": 19,
    "start_time": "2021-12-22T10:10:30.707Z"
   },
   {
    "duration": 32,
    "start_time": "2021-12-22T10:10:30.729Z"
   },
   {
    "duration": 52,
    "start_time": "2021-12-22T10:10:30.763Z"
   },
   {
    "duration": 9,
    "start_time": "2021-12-22T10:10:30.818Z"
   },
   {
    "duration": 34,
    "start_time": "2021-12-22T10:10:30.829Z"
   },
   {
    "duration": 18,
    "start_time": "2021-12-22T10:10:30.865Z"
   },
   {
    "duration": 12,
    "start_time": "2021-12-22T10:10:30.887Z"
   },
   {
    "duration": 26,
    "start_time": "2021-12-22T10:10:30.903Z"
   },
   {
    "duration": 56,
    "start_time": "2021-12-22T10:10:30.931Z"
   },
   {
    "duration": 13,
    "start_time": "2021-12-22T10:10:30.989Z"
   },
   {
    "duration": 12,
    "start_time": "2021-12-22T10:10:31.004Z"
   },
   {
    "duration": 42,
    "start_time": "2021-12-22T10:10:31.019Z"
   },
   {
    "duration": 5,
    "start_time": "2021-12-22T10:10:31.062Z"
   },
   {
    "duration": 14,
    "start_time": "2021-12-22T10:10:31.069Z"
   },
   {
    "duration": 635,
    "start_time": "2021-12-22T10:10:31.085Z"
   },
   {
    "duration": 6,
    "start_time": "2021-12-22T10:10:31.723Z"
   },
   {
    "duration": 23,
    "start_time": "2021-12-22T10:10:31.731Z"
   },
   {
    "duration": 30,
    "start_time": "2021-12-22T10:10:31.756Z"
   },
   {
    "duration": 19,
    "start_time": "2021-12-22T10:10:31.789Z"
   },
   {
    "duration": 24,
    "start_time": "2021-12-22T10:10:31.810Z"
   },
   {
    "duration": 30,
    "start_time": "2021-12-22T10:10:31.837Z"
   },
   {
    "duration": 14,
    "start_time": "2021-12-22T10:10:31.870Z"
   },
   {
    "duration": 51,
    "start_time": "2021-12-22T10:10:31.886Z"
   },
   {
    "duration": 27,
    "start_time": "2021-12-22T10:10:31.939Z"
   },
   {
    "duration": 9,
    "start_time": "2021-12-22T10:10:31.971Z"
   },
   {
    "duration": 4388,
    "start_time": "2021-12-22T10:10:31.983Z"
   },
   {
    "duration": 21,
    "start_time": "2021-12-22T10:10:36.373Z"
   },
   {
    "duration": 12,
    "start_time": "2021-12-22T10:10:36.396Z"
   },
   {
    "duration": 15,
    "start_time": "2021-12-22T10:10:36.410Z"
   },
   {
    "duration": 4,
    "start_time": "2021-12-22T10:10:36.427Z"
   },
   {
    "duration": 53,
    "start_time": "2021-12-22T10:10:36.433Z"
   },
   {
    "duration": 14,
    "start_time": "2021-12-22T10:10:36.488Z"
   },
   {
    "duration": 6,
    "start_time": "2021-12-22T10:10:36.503Z"
   },
   {
    "duration": 16,
    "start_time": "2021-12-22T10:10:36.511Z"
   },
   {
    "duration": 21,
    "start_time": "2021-12-22T10:10:36.561Z"
   },
   {
    "duration": 22,
    "start_time": "2021-12-22T10:10:36.584Z"
   },
   {
    "duration": 14,
    "start_time": "2021-12-22T10:13:23.336Z"
   },
   {
    "duration": 335,
    "start_time": "2021-12-22T18:39:21.171Z"
   },
   {
    "duration": 252,
    "start_time": "2021-12-22T18:39:46.202Z"
   },
   {
    "duration": 247,
    "start_time": "2021-12-22T18:40:02.018Z"
   },
   {
    "duration": 268,
    "start_time": "2021-12-22T18:40:16.630Z"
   },
   {
    "duration": 34,
    "start_time": "2021-12-22T18:40:37.066Z"
   },
   {
    "duration": 246,
    "start_time": "2021-12-22T18:42:02.448Z"
   },
   {
    "duration": 258,
    "start_time": "2021-12-22T18:42:12.322Z"
   },
   {
    "duration": 823,
    "start_time": "2021-12-22T18:42:36.952Z"
   },
   {
    "duration": 88,
    "start_time": "2021-12-22T18:42:37.779Z"
   },
   {
    "duration": 36,
    "start_time": "2021-12-22T18:42:37.871Z"
   },
   {
    "duration": 20,
    "start_time": "2021-12-22T18:42:37.910Z"
   },
   {
    "duration": 72,
    "start_time": "2021-12-22T18:42:37.933Z"
   },
   {
    "duration": 12,
    "start_time": "2021-12-22T18:42:38.008Z"
   },
   {
    "duration": 403,
    "start_time": "2021-12-22T18:42:38.023Z"
   },
   {
    "duration": -375,
    "start_time": "2021-12-22T18:42:38.805Z"
   },
   {
    "duration": -379,
    "start_time": "2021-12-22T18:42:38.810Z"
   },
   {
    "duration": -385,
    "start_time": "2021-12-22T18:42:38.817Z"
   },
   {
    "duration": -386,
    "start_time": "2021-12-22T18:42:38.820Z"
   },
   {
    "duration": -387,
    "start_time": "2021-12-22T18:42:38.823Z"
   },
   {
    "duration": -391,
    "start_time": "2021-12-22T18:42:38.828Z"
   },
   {
    "duration": -396,
    "start_time": "2021-12-22T18:42:38.835Z"
   },
   {
    "duration": -397,
    "start_time": "2021-12-22T18:42:38.838Z"
   },
   {
    "duration": -398,
    "start_time": "2021-12-22T18:42:38.841Z"
   },
   {
    "duration": -403,
    "start_time": "2021-12-22T18:42:38.848Z"
   },
   {
    "duration": -406,
    "start_time": "2021-12-22T18:42:38.853Z"
   },
   {
    "duration": -408,
    "start_time": "2021-12-22T18:42:38.856Z"
   },
   {
    "duration": -409,
    "start_time": "2021-12-22T18:42:38.859Z"
   },
   {
    "duration": -414,
    "start_time": "2021-12-22T18:42:38.866Z"
   },
   {
    "duration": -416,
    "start_time": "2021-12-22T18:42:38.869Z"
   },
   {
    "duration": -416,
    "start_time": "2021-12-22T18:42:38.873Z"
   },
   {
    "duration": -417,
    "start_time": "2021-12-22T18:42:38.876Z"
   },
   {
    "duration": -424,
    "start_time": "2021-12-22T18:42:38.884Z"
   },
   {
    "duration": -426,
    "start_time": "2021-12-22T18:42:38.888Z"
   },
   {
    "duration": -428,
    "start_time": "2021-12-22T18:42:38.892Z"
   },
   {
    "duration": -436,
    "start_time": "2021-12-22T18:42:38.901Z"
   },
   {
    "duration": -437,
    "start_time": "2021-12-22T18:42:38.904Z"
   },
   {
    "duration": -439,
    "start_time": "2021-12-22T18:42:38.908Z"
   },
   {
    "duration": -446,
    "start_time": "2021-12-22T18:42:38.916Z"
   },
   {
    "duration": -448,
    "start_time": "2021-12-22T18:42:38.920Z"
   },
   {
    "duration": -449,
    "start_time": "2021-12-22T18:42:38.923Z"
   },
   {
    "duration": -450,
    "start_time": "2021-12-22T18:42:38.925Z"
   },
   {
    "duration": -458,
    "start_time": "2021-12-22T18:42:38.935Z"
   },
   {
    "duration": -460,
    "start_time": "2021-12-22T18:42:38.939Z"
   },
   {
    "duration": -462,
    "start_time": "2021-12-22T18:42:38.942Z"
   },
   {
    "duration": -469,
    "start_time": "2021-12-22T18:42:38.951Z"
   },
   {
    "duration": -470,
    "start_time": "2021-12-22T18:42:38.954Z"
   },
   {
    "duration": -471,
    "start_time": "2021-12-22T18:42:38.957Z"
   },
   {
    "duration": 240,
    "start_time": "2021-12-22T18:43:11.207Z"
   },
   {
    "duration": 259,
    "start_time": "2021-12-22T18:43:56.166Z"
   },
   {
    "duration": 350,
    "start_time": "2021-12-22T18:44:07.383Z"
   },
   {
    "duration": 33,
    "start_time": "2021-12-22T18:44:17.281Z"
   },
   {
    "duration": 61,
    "start_time": "2021-12-22T18:44:23.310Z"
   },
   {
    "duration": 698,
    "start_time": "2021-12-22T18:44:45.412Z"
   },
   {
    "duration": 66,
    "start_time": "2021-12-22T18:44:46.112Z"
   },
   {
    "duration": 31,
    "start_time": "2021-12-22T18:44:46.181Z"
   },
   {
    "duration": 14,
    "start_time": "2021-12-22T18:44:46.216Z"
   },
   {
    "duration": 71,
    "start_time": "2021-12-22T18:44:46.232Z"
   },
   {
    "duration": 12,
    "start_time": "2021-12-22T18:44:46.306Z"
   },
   {
    "duration": 90,
    "start_time": "2021-12-22T18:44:46.321Z"
   },
   {
    "duration": 3,
    "start_time": "2021-12-22T18:44:46.416Z"
   },
   {
    "duration": 44,
    "start_time": "2021-12-22T18:44:46.423Z"
   },
   {
    "duration": 7,
    "start_time": "2021-12-22T18:44:46.470Z"
   },
   {
    "duration": 6,
    "start_time": "2021-12-22T18:44:46.480Z"
   },
   {
    "duration": 6,
    "start_time": "2021-12-22T18:44:46.489Z"
   },
   {
    "duration": 7,
    "start_time": "2021-12-22T18:44:46.497Z"
   },
   {
    "duration": 57,
    "start_time": "2021-12-22T18:44:46.507Z"
   },
   {
    "duration": 35,
    "start_time": "2021-12-22T18:44:46.567Z"
   },
   {
    "duration": 6,
    "start_time": "2021-12-22T18:44:46.605Z"
   },
   {
    "duration": 54,
    "start_time": "2021-12-22T18:44:46.614Z"
   },
   {
    "duration": 632,
    "start_time": "2021-12-22T18:44:46.671Z"
   },
   {
    "duration": 344,
    "start_time": "2021-12-22T18:44:47.305Z"
   },
   {
    "duration": -391,
    "start_time": "2021-12-22T18:44:48.044Z"
   },
   {
    "duration": -394,
    "start_time": "2021-12-22T18:44:48.048Z"
   },
   {
    "duration": -399,
    "start_time": "2021-12-22T18:44:48.054Z"
   },
   {
    "duration": -405,
    "start_time": "2021-12-22T18:44:48.061Z"
   },
   {
    "duration": -407,
    "start_time": "2021-12-22T18:44:48.065Z"
   },
   {
    "duration": -412,
    "start_time": "2021-12-22T18:44:48.071Z"
   },
   {
    "duration": -420,
    "start_time": "2021-12-22T18:44:48.080Z"
   },
   {
    "duration": -426,
    "start_time": "2021-12-22T18:44:48.087Z"
   },
   {
    "duration": -433,
    "start_time": "2021-12-22T18:44:48.096Z"
   },
   {
    "duration": -436,
    "start_time": "2021-12-22T18:44:48.100Z"
   },
   {
    "duration": -445,
    "start_time": "2021-12-22T18:44:48.111Z"
   },
   {
    "duration": -449,
    "start_time": "2021-12-22T18:44:48.116Z"
   },
   {
    "duration": -454,
    "start_time": "2021-12-22T18:44:48.123Z"
   },
   {
    "duration": -453,
    "start_time": "2021-12-22T18:44:48.126Z"
   },
   {
    "duration": -455,
    "start_time": "2021-12-22T18:44:48.130Z"
   },
   {
    "duration": -458,
    "start_time": "2021-12-22T18:44:48.134Z"
   },
   {
    "duration": -464,
    "start_time": "2021-12-22T18:44:48.141Z"
   },
   {
    "duration": -466,
    "start_time": "2021-12-22T18:44:48.145Z"
   },
   {
    "duration": -472,
    "start_time": "2021-12-22T18:44:48.152Z"
   },
   {
    "duration": -478,
    "start_time": "2021-12-22T18:44:48.160Z"
   },
   {
    "duration": -480,
    "start_time": "2021-12-22T18:44:48.163Z"
   },
   {
    "duration": 75,
    "start_time": "2021-12-22T18:46:26.153Z"
   },
   {
    "duration": 718,
    "start_time": "2021-12-22T18:46:52.305Z"
   },
   {
    "duration": 65,
    "start_time": "2021-12-22T18:46:53.026Z"
   },
   {
    "duration": 32,
    "start_time": "2021-12-22T18:46:53.094Z"
   },
   {
    "duration": 15,
    "start_time": "2021-12-22T18:46:53.128Z"
   },
   {
    "duration": 46,
    "start_time": "2021-12-22T18:46:53.163Z"
   },
   {
    "duration": 12,
    "start_time": "2021-12-22T18:46:53.212Z"
   },
   {
    "duration": 85,
    "start_time": "2021-12-22T18:46:53.226Z"
   },
   {
    "duration": 3,
    "start_time": "2021-12-22T18:46:53.315Z"
   },
   {
    "duration": 16,
    "start_time": "2021-12-22T18:46:53.321Z"
   },
   {
    "duration": 8,
    "start_time": "2021-12-22T18:46:53.363Z"
   },
   {
    "duration": 6,
    "start_time": "2021-12-22T18:46:53.374Z"
   },
   {
    "duration": 5,
    "start_time": "2021-12-22T18:46:53.383Z"
   },
   {
    "duration": 5,
    "start_time": "2021-12-22T18:46:53.390Z"
   },
   {
    "duration": 11,
    "start_time": "2021-12-22T18:46:53.398Z"
   },
   {
    "duration": 85,
    "start_time": "2021-12-22T18:46:53.411Z"
   },
   {
    "duration": 5,
    "start_time": "2021-12-22T18:46:53.498Z"
   },
   {
    "duration": 10,
    "start_time": "2021-12-22T18:46:53.506Z"
   },
   {
    "duration": 642,
    "start_time": "2021-12-22T18:46:53.519Z"
   },
   {
    "duration": 149,
    "start_time": "2021-12-22T18:46:54.166Z"
   },
   {
    "duration": -367,
    "start_time": "2021-12-22T18:46:54.687Z"
   },
   {
    "duration": -388,
    "start_time": "2021-12-22T18:46:54.710Z"
   },
   {
    "duration": -400,
    "start_time": "2021-12-22T18:46:54.724Z"
   },
   {
    "duration": -405,
    "start_time": "2021-12-22T18:46:54.732Z"
   },
   {
    "duration": -407,
    "start_time": "2021-12-22T18:46:54.736Z"
   },
   {
    "duration": -408,
    "start_time": "2021-12-22T18:46:54.739Z"
   },
   {
    "duration": -410,
    "start_time": "2021-12-22T18:46:54.744Z"
   },
   {
    "duration": -413,
    "start_time": "2021-12-22T18:46:54.749Z"
   },
   {
    "duration": -414,
    "start_time": "2021-12-22T18:46:54.752Z"
   },
   {
    "duration": -415,
    "start_time": "2021-12-22T18:46:54.755Z"
   },
   {
    "duration": -417,
    "start_time": "2021-12-22T18:46:54.759Z"
   },
   {
    "duration": -420,
    "start_time": "2021-12-22T18:46:54.765Z"
   },
   {
    "duration": -422,
    "start_time": "2021-12-22T18:46:54.769Z"
   },
   {
    "duration": -422,
    "start_time": "2021-12-22T18:46:54.772Z"
   },
   {
    "duration": -423,
    "start_time": "2021-12-22T18:46:54.775Z"
   },
   {
    "duration": -429,
    "start_time": "2021-12-22T18:46:54.783Z"
   },
   {
    "duration": -431,
    "start_time": "2021-12-22T18:46:54.787Z"
   },
   {
    "duration": -431,
    "start_time": "2021-12-22T18:46:54.790Z"
   },
   {
    "duration": -434,
    "start_time": "2021-12-22T18:46:54.797Z"
   },
   {
    "duration": -436,
    "start_time": "2021-12-22T18:46:54.801Z"
   },
   {
    "duration": -437,
    "start_time": "2021-12-22T18:46:54.804Z"
   },
   {
    "duration": -439,
    "start_time": "2021-12-22T18:46:54.808Z"
   },
   {
    "duration": 750,
    "start_time": "2021-12-22T18:47:17.755Z"
   },
   {
    "duration": 66,
    "start_time": "2021-12-22T18:47:18.508Z"
   },
   {
    "duration": 31,
    "start_time": "2021-12-22T18:47:18.580Z"
   },
   {
    "duration": 15,
    "start_time": "2021-12-22T18:47:18.613Z"
   },
   {
    "duration": 75,
    "start_time": "2021-12-22T18:47:18.631Z"
   },
   {
    "duration": 12,
    "start_time": "2021-12-22T18:47:18.708Z"
   },
   {
    "duration": 86,
    "start_time": "2021-12-22T18:47:18.723Z"
   },
   {
    "duration": 2,
    "start_time": "2021-12-22T18:47:18.812Z"
   },
   {
    "duration": 13,
    "start_time": "2021-12-22T18:47:18.817Z"
   },
   {
    "duration": 30,
    "start_time": "2021-12-22T18:47:18.832Z"
   },
   {
    "duration": 5,
    "start_time": "2021-12-22T18:47:18.865Z"
   },
   {
    "duration": 4,
    "start_time": "2021-12-22T18:47:18.873Z"
   },
   {
    "duration": 5,
    "start_time": "2021-12-22T18:47:18.879Z"
   },
   {
    "duration": 11,
    "start_time": "2021-12-22T18:47:18.887Z"
   },
   {
    "duration": 70,
    "start_time": "2021-12-22T18:47:18.900Z"
   },
   {
    "duration": 5,
    "start_time": "2021-12-22T18:47:18.973Z"
   },
   {
    "duration": 9,
    "start_time": "2021-12-22T18:47:18.981Z"
   },
   {
    "duration": 637,
    "start_time": "2021-12-22T18:47:18.992Z"
   },
   {
    "duration": 3,
    "start_time": "2021-12-22T18:47:19.631Z"
   },
   {
    "duration": 9,
    "start_time": "2021-12-22T18:47:19.636Z"
   },
   {
    "duration": 38,
    "start_time": "2021-12-22T18:47:19.647Z"
   },
   {
    "duration": 20,
    "start_time": "2021-12-22T18:47:19.690Z"
   },
   {
    "duration": 16,
    "start_time": "2021-12-22T18:47:19.713Z"
   },
   {
    "duration": 29,
    "start_time": "2021-12-22T18:47:19.763Z"
   },
   {
    "duration": 23,
    "start_time": "2021-12-22T18:47:19.794Z"
   },
   {
    "duration": 55,
    "start_time": "2021-12-22T18:47:19.820Z"
   },
   {
    "duration": 26,
    "start_time": "2021-12-22T18:47:19.877Z"
   },
   {
    "duration": 10,
    "start_time": "2021-12-22T18:47:19.905Z"
   },
   {
    "duration": 4737,
    "start_time": "2021-12-22T18:47:19.917Z"
   },
   {
    "duration": 10,
    "start_time": "2021-12-22T18:47:24.663Z"
   },
   {
    "duration": 11,
    "start_time": "2021-12-22T18:47:24.675Z"
   },
   {
    "duration": 18,
    "start_time": "2021-12-22T18:47:24.688Z"
   },
   {
    "duration": 9,
    "start_time": "2021-12-22T18:47:24.708Z"
   },
   {
    "duration": 73,
    "start_time": "2021-12-22T18:47:24.719Z"
   },
   {
    "duration": 19,
    "start_time": "2021-12-22T18:47:24.794Z"
   },
   {
    "duration": 46,
    "start_time": "2021-12-22T18:47:24.816Z"
   },
   {
    "duration": 8,
    "start_time": "2021-12-22T18:47:24.865Z"
   },
   {
    "duration": 27,
    "start_time": "2021-12-22T18:47:24.875Z"
   },
   {
    "duration": 21,
    "start_time": "2021-12-22T18:47:24.904Z"
   },
   {
    "duration": 53,
    "start_time": "2021-12-22T18:47:24.928Z"
   },
   {
    "duration": 766,
    "start_time": "2021-12-22T18:49:55.346Z"
   },
   {
    "duration": 65,
    "start_time": "2021-12-22T18:49:56.115Z"
   },
   {
    "duration": 31,
    "start_time": "2021-12-22T18:49:56.187Z"
   },
   {
    "duration": 42,
    "start_time": "2021-12-22T18:49:56.221Z"
   },
   {
    "duration": 47,
    "start_time": "2021-12-22T18:49:56.265Z"
   },
   {
    "duration": 13,
    "start_time": "2021-12-22T18:49:56.315Z"
   },
   {
    "duration": 85,
    "start_time": "2021-12-22T18:49:56.332Z"
   },
   {
    "duration": 3,
    "start_time": "2021-12-22T18:49:56.420Z"
   },
   {
    "duration": 16,
    "start_time": "2021-12-22T18:49:56.425Z"
   },
   {
    "duration": 6,
    "start_time": "2021-12-22T18:49:56.464Z"
   },
   {
    "duration": 5,
    "start_time": "2021-12-22T18:49:56.472Z"
   },
   {
    "duration": 4,
    "start_time": "2021-12-22T18:49:56.480Z"
   },
   {
    "duration": 5,
    "start_time": "2021-12-22T18:49:56.486Z"
   },
   {
    "duration": 10,
    "start_time": "2021-12-22T18:49:56.494Z"
   },
   {
    "duration": 75,
    "start_time": "2021-12-22T18:49:56.506Z"
   },
   {
    "duration": 5,
    "start_time": "2021-12-22T18:49:56.583Z"
   },
   {
    "duration": 12,
    "start_time": "2021-12-22T18:49:56.590Z"
   },
   {
    "duration": 746,
    "start_time": "2021-12-22T18:49:56.604Z"
   },
   {
    "duration": 424,
    "start_time": "2021-12-22T18:49:57.360Z"
   },
   {
    "duration": -382,
    "start_time": "2021-12-22T18:49:58.171Z"
   },
   {
    "duration": -383,
    "start_time": "2021-12-22T18:49:58.174Z"
   },
   {
    "duration": -386,
    "start_time": "2021-12-22T18:49:58.179Z"
   },
   {
    "duration": -392,
    "start_time": "2021-12-22T18:49:58.187Z"
   },
   {
    "duration": -395,
    "start_time": "2021-12-22T18:49:58.191Z"
   },
   {
    "duration": -396,
    "start_time": "2021-12-22T18:49:58.193Z"
   },
   {
    "duration": -404,
    "start_time": "2021-12-22T18:49:58.202Z"
   },
   {
    "duration": -406,
    "start_time": "2021-12-22T18:49:58.205Z"
   },
   {
    "duration": -408,
    "start_time": "2021-12-22T18:49:58.208Z"
   },
   {
    "duration": -410,
    "start_time": "2021-12-22T18:49:58.212Z"
   },
   {
    "duration": -414,
    "start_time": "2021-12-22T18:49:58.217Z"
   },
   {
    "duration": -417,
    "start_time": "2021-12-22T18:49:58.221Z"
   },
   {
    "duration": -419,
    "start_time": "2021-12-22T18:49:58.225Z"
   },
   {
    "duration": -421,
    "start_time": "2021-12-22T18:49:58.229Z"
   },
   {
    "duration": -427,
    "start_time": "2021-12-22T18:49:58.236Z"
   },
   {
    "duration": -429,
    "start_time": "2021-12-22T18:49:58.239Z"
   },
   {
    "duration": -430,
    "start_time": "2021-12-22T18:49:58.242Z"
   },
   {
    "duration": -435,
    "start_time": "2021-12-22T18:49:58.248Z"
   },
   {
    "duration": -439,
    "start_time": "2021-12-22T18:49:58.254Z"
   },
   {
    "duration": -441,
    "start_time": "2021-12-22T18:49:58.257Z"
   },
   {
    "duration": -446,
    "start_time": "2021-12-22T18:49:58.263Z"
   },
   {
    "duration": 769,
    "start_time": "2021-12-22T18:50:25.625Z"
   },
   {
    "duration": 65,
    "start_time": "2021-12-22T18:50:26.397Z"
   },
   {
    "duration": 30,
    "start_time": "2021-12-22T18:50:26.465Z"
   },
   {
    "duration": 19,
    "start_time": "2021-12-22T18:50:26.497Z"
   },
   {
    "duration": 72,
    "start_time": "2021-12-22T18:50:26.518Z"
   },
   {
    "duration": 12,
    "start_time": "2021-12-22T18:50:26.593Z"
   },
   {
    "duration": 93,
    "start_time": "2021-12-22T18:50:26.608Z"
   },
   {
    "duration": 7,
    "start_time": "2021-12-22T18:50:26.705Z"
   },
   {
    "duration": 12,
    "start_time": "2021-12-22T18:50:26.715Z"
   },
   {
    "duration": 6,
    "start_time": "2021-12-22T18:50:26.730Z"
   },
   {
    "duration": 5,
    "start_time": "2021-12-22T18:50:26.764Z"
   },
   {
    "duration": 9,
    "start_time": "2021-12-22T18:50:26.772Z"
   },
   {
    "duration": 5,
    "start_time": "2021-12-22T18:50:26.784Z"
   },
   {
    "duration": 20,
    "start_time": "2021-12-22T18:50:26.792Z"
   },
   {
    "duration": 59,
    "start_time": "2021-12-22T18:50:26.815Z"
   },
   {
    "duration": 5,
    "start_time": "2021-12-22T18:50:26.877Z"
   },
   {
    "duration": 11,
    "start_time": "2021-12-22T18:50:26.884Z"
   },
   {
    "duration": 665,
    "start_time": "2021-12-22T18:50:26.898Z"
   },
   {
    "duration": 4,
    "start_time": "2021-12-22T18:50:27.565Z"
   },
   {
    "duration": 6,
    "start_time": "2021-12-22T18:50:27.572Z"
   },
   {
    "duration": 28,
    "start_time": "2021-12-22T18:50:27.581Z"
   },
   {
    "duration": 54,
    "start_time": "2021-12-22T18:50:27.611Z"
   },
   {
    "duration": 17,
    "start_time": "2021-12-22T18:50:27.670Z"
   },
   {
    "duration": 31,
    "start_time": "2021-12-22T18:50:27.691Z"
   },
   {
    "duration": 57,
    "start_time": "2021-12-22T18:50:27.724Z"
   },
   {
    "duration": 31,
    "start_time": "2021-12-22T18:50:27.784Z"
   },
   {
    "duration": 49,
    "start_time": "2021-12-22T18:50:27.818Z"
   },
   {
    "duration": 10,
    "start_time": "2021-12-22T18:50:27.869Z"
   },
   {
    "duration": 5087,
    "start_time": "2021-12-22T18:50:27.881Z"
   },
   {
    "duration": 10,
    "start_time": "2021-12-22T18:50:32.970Z"
   },
   {
    "duration": 13,
    "start_time": "2021-12-22T18:50:32.982Z"
   },
   {
    "duration": 22,
    "start_time": "2021-12-22T18:50:32.998Z"
   },
   {
    "duration": 39,
    "start_time": "2021-12-22T18:50:33.023Z"
   },
   {
    "duration": 66,
    "start_time": "2021-12-22T18:50:33.066Z"
   },
   {
    "duration": 45,
    "start_time": "2021-12-22T18:50:33.136Z"
   },
   {
    "duration": 20,
    "start_time": "2021-12-22T18:50:33.184Z"
   },
   {
    "duration": 9,
    "start_time": "2021-12-22T18:50:33.207Z"
   },
   {
    "duration": 60,
    "start_time": "2021-12-22T18:50:33.219Z"
   },
   {
    "duration": 22,
    "start_time": "2021-12-22T18:50:33.282Z"
   },
   {
    "duration": 57,
    "start_time": "2021-12-22T18:50:33.306Z"
   },
   {
    "duration": 38,
    "start_time": "2021-12-22T18:52:41.283Z"
   },
   {
    "duration": 98,
    "start_time": "2021-12-22T19:10:36.607Z"
   },
   {
    "duration": 298,
    "start_time": "2021-12-22T19:11:06.261Z"
   },
   {
    "duration": 808,
    "start_time": "2021-12-22T19:11:44.873Z"
   },
   {
    "duration": 67,
    "start_time": "2021-12-22T19:11:45.685Z"
   },
   {
    "duration": 45,
    "start_time": "2021-12-22T19:11:45.755Z"
   },
   {
    "duration": 16,
    "start_time": "2021-12-22T19:11:45.804Z"
   },
   {
    "duration": 82,
    "start_time": "2021-12-22T19:11:45.823Z"
   },
   {
    "duration": 14,
    "start_time": "2021-12-22T19:11:45.908Z"
   },
   {
    "duration": 69,
    "start_time": "2021-12-22T19:11:45.925Z"
   },
   {
    "duration": 67,
    "start_time": "2021-12-22T19:11:45.996Z"
   },
   {
    "duration": 6,
    "start_time": "2021-12-22T19:11:46.067Z"
   },
   {
    "duration": 12,
    "start_time": "2021-12-22T19:11:46.076Z"
   },
   {
    "duration": 16,
    "start_time": "2021-12-22T19:11:46.091Z"
   },
   {
    "duration": 5,
    "start_time": "2021-12-22T19:11:46.110Z"
   },
   {
    "duration": 6,
    "start_time": "2021-12-22T19:11:46.117Z"
   },
   {
    "duration": 38,
    "start_time": "2021-12-22T19:11:46.125Z"
   },
   {
    "duration": 11,
    "start_time": "2021-12-22T19:11:46.165Z"
   },
   {
    "duration": 35,
    "start_time": "2021-12-22T19:11:46.178Z"
   },
   {
    "duration": 5,
    "start_time": "2021-12-22T19:11:46.216Z"
   },
   {
    "duration": 43,
    "start_time": "2021-12-22T19:11:46.223Z"
   },
   {
    "duration": 655,
    "start_time": "2021-12-22T19:11:46.268Z"
   },
   {
    "duration": 5,
    "start_time": "2021-12-22T19:11:46.925Z"
   },
   {
    "duration": 11,
    "start_time": "2021-12-22T19:11:46.933Z"
   },
   {
    "duration": 47,
    "start_time": "2021-12-22T19:11:46.946Z"
   },
   {
    "duration": 22,
    "start_time": "2021-12-22T19:11:46.995Z"
   },
   {
    "duration": 16,
    "start_time": "2021-12-22T19:11:47.019Z"
   },
   {
    "duration": 56,
    "start_time": "2021-12-22T19:11:47.037Z"
   },
   {
    "duration": 26,
    "start_time": "2021-12-22T19:11:47.096Z"
   },
   {
    "duration": 56,
    "start_time": "2021-12-22T19:11:47.127Z"
   },
   {
    "duration": 25,
    "start_time": "2021-12-22T19:11:47.187Z"
   },
   {
    "duration": 10,
    "start_time": "2021-12-22T19:11:47.214Z"
   },
   {
    "duration": 4620,
    "start_time": "2021-12-22T19:11:47.227Z"
   },
   {
    "duration": 18,
    "start_time": "2021-12-22T19:11:51.849Z"
   },
   {
    "duration": 15,
    "start_time": "2021-12-22T19:11:51.869Z"
   },
   {
    "duration": 20,
    "start_time": "2021-12-22T19:11:51.886Z"
   },
   {
    "duration": 4,
    "start_time": "2021-12-22T19:11:51.908Z"
   },
   {
    "duration": 81,
    "start_time": "2021-12-22T19:11:51.914Z"
   },
   {
    "duration": 20,
    "start_time": "2021-12-22T19:11:51.997Z"
   },
   {
    "duration": 44,
    "start_time": "2021-12-22T19:11:52.020Z"
   },
   {
    "duration": 7,
    "start_time": "2021-12-22T19:11:52.066Z"
   },
   {
    "duration": 22,
    "start_time": "2021-12-22T19:11:52.076Z"
   },
   {
    "duration": 21,
    "start_time": "2021-12-22T19:11:52.100Z"
   },
   {
    "duration": 55,
    "start_time": "2021-12-22T19:11:52.123Z"
   },
   {
    "duration": 79,
    "start_time": "2021-12-22T19:13:34.372Z"
   },
   {
    "duration": 6096,
    "start_time": "2021-12-22T19:13:49.020Z"
   },
   {
    "duration": 6854,
    "start_time": "2021-12-22T19:15:04.263Z"
   },
   {
    "duration": 771,
    "start_time": "2021-12-22T19:15:13.853Z"
   },
   {
    "duration": 65,
    "start_time": "2021-12-22T19:15:14.626Z"
   },
   {
    "duration": 27,
    "start_time": "2021-12-22T19:15:14.694Z"
   },
   {
    "duration": 15,
    "start_time": "2021-12-22T19:15:14.724Z"
   },
   {
    "duration": 47,
    "start_time": "2021-12-22T19:15:14.762Z"
   },
   {
    "duration": 11,
    "start_time": "2021-12-22T19:15:14.812Z"
   },
   {
    "duration": 3,
    "start_time": "2021-12-22T19:15:14.826Z"
   },
   {
    "duration": 74,
    "start_time": "2021-12-22T19:15:14.831Z"
   },
   {
    "duration": 6,
    "start_time": "2021-12-22T19:15:14.909Z"
   },
   {
    "duration": 12,
    "start_time": "2021-12-22T19:15:14.918Z"
   },
   {
    "duration": 35,
    "start_time": "2021-12-22T19:15:14.933Z"
   },
   {
    "duration": 351,
    "start_time": "2021-12-22T19:15:14.970Z"
   },
   {
    "duration": -411,
    "start_time": "2021-12-22T19:15:15.736Z"
   },
   {
    "duration": -420,
    "start_time": "2021-12-22T19:15:15.747Z"
   },
   {
    "duration": -424,
    "start_time": "2021-12-22T19:15:15.752Z"
   },
   {
    "duration": -432,
    "start_time": "2021-12-22T19:15:15.762Z"
   },
   {
    "duration": -440,
    "start_time": "2021-12-22T19:15:15.771Z"
   },
   {
    "duration": -446,
    "start_time": "2021-12-22T19:15:15.779Z"
   },
   {
    "duration": -450,
    "start_time": "2021-12-22T19:15:15.784Z"
   },
   {
    "duration": -455,
    "start_time": "2021-12-22T19:15:15.791Z"
   },
   {
    "duration": -457,
    "start_time": "2021-12-22T19:15:15.794Z"
   },
   {
    "duration": -460,
    "start_time": "2021-12-22T19:15:15.798Z"
   },
   {
    "duration": -461,
    "start_time": "2021-12-22T19:15:15.801Z"
   },
   {
    "duration": -464,
    "start_time": "2021-12-22T19:15:15.805Z"
   },
   {
    "duration": -465,
    "start_time": "2021-12-22T19:15:15.808Z"
   },
   {
    "duration": -467,
    "start_time": "2021-12-22T19:15:15.811Z"
   },
   {
    "duration": -469,
    "start_time": "2021-12-22T19:15:15.814Z"
   },
   {
    "duration": -470,
    "start_time": "2021-12-22T19:15:15.817Z"
   },
   {
    "duration": -471,
    "start_time": "2021-12-22T19:15:15.819Z"
   },
   {
    "duration": -473,
    "start_time": "2021-12-22T19:15:15.823Z"
   },
   {
    "duration": -475,
    "start_time": "2021-12-22T19:15:15.826Z"
   },
   {
    "duration": -477,
    "start_time": "2021-12-22T19:15:15.829Z"
   },
   {
    "duration": -479,
    "start_time": "2021-12-22T19:15:15.832Z"
   },
   {
    "duration": -481,
    "start_time": "2021-12-22T19:15:15.836Z"
   },
   {
    "duration": -484,
    "start_time": "2021-12-22T19:15:15.840Z"
   },
   {
    "duration": -491,
    "start_time": "2021-12-22T19:15:15.848Z"
   },
   {
    "duration": -492,
    "start_time": "2021-12-22T19:15:15.851Z"
   },
   {
    "duration": -496,
    "start_time": "2021-12-22T19:15:15.856Z"
   },
   {
    "duration": -497,
    "start_time": "2021-12-22T19:15:15.858Z"
   },
   {
    "duration": -499,
    "start_time": "2021-12-22T19:15:15.861Z"
   },
   {
    "duration": -500,
    "start_time": "2021-12-22T19:15:15.864Z"
   },
   {
    "duration": 302,
    "start_time": "2021-12-22T19:19:56.989Z"
   },
   {
    "duration": 7,
    "start_time": "2021-12-22T19:20:10.765Z"
   },
   {
    "duration": 323,
    "start_time": "2021-12-22T19:20:21.798Z"
   },
   {
    "duration": 234,
    "start_time": "2021-12-23T12:46:29.323Z"
   },
   {
    "duration": 568,
    "start_time": "2021-12-23T12:46:36.078Z"
   },
   {
    "duration": 51,
    "start_time": "2021-12-23T12:46:36.648Z"
   },
   {
    "duration": 19,
    "start_time": "2021-12-23T12:46:36.702Z"
   },
   {
    "duration": 12,
    "start_time": "2021-12-23T12:46:36.723Z"
   },
   {
    "duration": 51,
    "start_time": "2021-12-23T12:46:36.737Z"
   },
   {
    "duration": 10,
    "start_time": "2021-12-23T12:46:36.789Z"
   },
   {
    "duration": 2,
    "start_time": "2021-12-23T12:46:36.801Z"
   },
   {
    "duration": 34,
    "start_time": "2021-12-23T12:46:36.805Z"
   },
   {
    "duration": 5,
    "start_time": "2021-12-23T12:46:36.862Z"
   },
   {
    "duration": 12,
    "start_time": "2021-12-23T12:46:36.869Z"
   },
   {
    "duration": 6,
    "start_time": "2021-12-23T12:46:36.883Z"
   },
   {
    "duration": 304,
    "start_time": "2021-12-23T12:46:36.891Z"
   },
   {
    "duration": 47,
    "start_time": "2021-12-23T12:46:37.151Z"
   },
   {
    "duration": 35,
    "start_time": "2021-12-23T12:46:37.165Z"
   },
   {
    "duration": 30,
    "start_time": "2021-12-23T12:46:37.171Z"
   },
   {
    "duration": 27,
    "start_time": "2021-12-23T12:46:37.175Z"
   },
   {
    "duration": 25,
    "start_time": "2021-12-23T12:46:37.179Z"
   },
   {
    "duration": 24,
    "start_time": "2021-12-23T12:46:37.181Z"
   },
   {
    "duration": 21,
    "start_time": "2021-12-23T12:46:37.186Z"
   },
   {
    "duration": 19,
    "start_time": "2021-12-23T12:46:37.189Z"
   },
   {
    "duration": 18,
    "start_time": "2021-12-23T12:46:37.192Z"
   },
   {
    "duration": 18,
    "start_time": "2021-12-23T12:46:37.193Z"
   },
   {
    "duration": 16,
    "start_time": "2021-12-23T12:46:37.196Z"
   },
   {
    "duration": 11,
    "start_time": "2021-12-23T12:46:37.202Z"
   },
   {
    "duration": 11,
    "start_time": "2021-12-23T12:46:37.204Z"
   },
   {
    "duration": 9,
    "start_time": "2021-12-23T12:46:37.207Z"
   },
   {
    "duration": 9,
    "start_time": "2021-12-23T12:46:37.209Z"
   },
   {
    "duration": 8,
    "start_time": "2021-12-23T12:46:37.211Z"
   },
   {
    "duration": 6,
    "start_time": "2021-12-23T12:46:37.214Z"
   },
   {
    "duration": 2,
    "start_time": "2021-12-23T12:46:37.220Z"
   },
   {
    "duration": 1,
    "start_time": "2021-12-23T12:46:37.223Z"
   },
   {
    "duration": 0,
    "start_time": "2021-12-23T12:46:37.225Z"
   },
   {
    "duration": -2,
    "start_time": "2021-12-23T12:46:37.228Z"
   },
   {
    "duration": -3,
    "start_time": "2021-12-23T12:46:37.231Z"
   },
   {
    "duration": -8,
    "start_time": "2021-12-23T12:46:37.237Z"
   },
   {
    "duration": -10,
    "start_time": "2021-12-23T12:46:37.240Z"
   },
   {
    "duration": -10,
    "start_time": "2021-12-23T12:46:37.242Z"
   },
   {
    "duration": -12,
    "start_time": "2021-12-23T12:46:37.245Z"
   },
   {
    "duration": -14,
    "start_time": "2021-12-23T12:46:37.248Z"
   },
   {
    "duration": 7,
    "start_time": "2021-12-23T12:46:37.253Z"
   },
   {
    "duration": 6,
    "start_time": "2021-12-23T12:46:37.255Z"
   },
   {
    "duration": 641,
    "start_time": "2021-12-23T12:47:19.948Z"
   },
   {
    "duration": 49,
    "start_time": "2021-12-23T12:47:20.592Z"
   },
   {
    "duration": 18,
    "start_time": "2021-12-23T12:47:20.643Z"
   },
   {
    "duration": 31,
    "start_time": "2021-12-23T12:47:20.663Z"
   },
   {
    "duration": 31,
    "start_time": "2021-12-23T12:47:20.696Z"
   },
   {
    "duration": 9,
    "start_time": "2021-12-23T12:47:20.729Z"
   },
   {
    "duration": 3,
    "start_time": "2021-12-23T12:47:20.739Z"
   },
   {
    "duration": 43,
    "start_time": "2021-12-23T12:47:20.744Z"
   },
   {
    "duration": 4,
    "start_time": "2021-12-23T12:47:20.789Z"
   },
   {
    "duration": 15,
    "start_time": "2021-12-23T12:47:20.794Z"
   },
   {
    "duration": 4,
    "start_time": "2021-12-23T12:47:20.811Z"
   },
   {
    "duration": 320,
    "start_time": "2021-12-23T12:47:20.817Z"
   },
   {
    "duration": 72,
    "start_time": "2021-12-23T12:47:21.068Z"
   },
   {
    "duration": 70,
    "start_time": "2021-12-23T12:47:21.071Z"
   },
   {
    "duration": 68,
    "start_time": "2021-12-23T12:47:21.074Z"
   },
   {
    "duration": 65,
    "start_time": "2021-12-23T12:47:21.078Z"
   },
   {
    "duration": 60,
    "start_time": "2021-12-23T12:47:21.084Z"
   },
   {
    "duration": 57,
    "start_time": "2021-12-23T12:47:21.088Z"
   },
   {
    "duration": 55,
    "start_time": "2021-12-23T12:47:21.091Z"
   },
   {
    "duration": 53,
    "start_time": "2021-12-23T12:47:21.094Z"
   },
   {
    "duration": 50,
    "start_time": "2021-12-23T12:47:21.098Z"
   },
   {
    "duration": 47,
    "start_time": "2021-12-23T12:47:21.102Z"
   },
   {
    "duration": 45,
    "start_time": "2021-12-23T12:47:21.105Z"
   },
   {
    "duration": 44,
    "start_time": "2021-12-23T12:47:21.107Z"
   },
   {
    "duration": 42,
    "start_time": "2021-12-23T12:47:21.110Z"
   },
   {
    "duration": 37,
    "start_time": "2021-12-23T12:47:21.115Z"
   },
   {
    "duration": 34,
    "start_time": "2021-12-23T12:47:21.119Z"
   },
   {
    "duration": 32,
    "start_time": "2021-12-23T12:47:21.122Z"
   },
   {
    "duration": 31,
    "start_time": "2021-12-23T12:47:21.124Z"
   },
   {
    "duration": 29,
    "start_time": "2021-12-23T12:47:21.127Z"
   },
   {
    "duration": 26,
    "start_time": "2021-12-23T12:47:21.132Z"
   },
   {
    "duration": 24,
    "start_time": "2021-12-23T12:47:21.135Z"
   },
   {
    "duration": 23,
    "start_time": "2021-12-23T12:47:21.137Z"
   },
   {
    "duration": 21,
    "start_time": "2021-12-23T12:47:21.140Z"
   },
   {
    "duration": 20,
    "start_time": "2021-12-23T12:47:21.142Z"
   },
   {
    "duration": 16,
    "start_time": "2021-12-23T12:47:21.146Z"
   },
   {
    "duration": 13,
    "start_time": "2021-12-23T12:47:21.150Z"
   },
   {
    "duration": 11,
    "start_time": "2021-12-23T12:47:21.153Z"
   },
   {
    "duration": 10,
    "start_time": "2021-12-23T12:47:21.155Z"
   },
   {
    "duration": 8,
    "start_time": "2021-12-23T12:47:21.159Z"
   },
   {
    "duration": 6,
    "start_time": "2021-12-23T12:47:21.162Z"
   },
   {
    "duration": 234,
    "start_time": "2021-12-23T13:00:12.531Z"
   },
   {
    "duration": 802,
    "start_time": "2021-12-23T13:00:37.428Z"
   },
   {
    "duration": 54,
    "start_time": "2021-12-23T13:00:38.233Z"
   },
   {
    "duration": 19,
    "start_time": "2021-12-23T13:00:38.289Z"
   },
   {
    "duration": 14,
    "start_time": "2021-12-23T13:00:38.309Z"
   },
   {
    "duration": 46,
    "start_time": "2021-12-23T13:00:38.325Z"
   },
   {
    "duration": 9,
    "start_time": "2021-12-23T13:00:38.373Z"
   },
   {
    "duration": 2,
    "start_time": "2021-12-23T13:00:38.384Z"
   },
   {
    "duration": 296,
    "start_time": "2021-12-23T13:00:38.388Z"
   },
   {
    "duration": 38,
    "start_time": "2021-12-23T13:00:38.649Z"
   },
   {
    "duration": 26,
    "start_time": "2021-12-23T13:00:38.662Z"
   },
   {
    "duration": 21,
    "start_time": "2021-12-23T13:00:38.668Z"
   },
   {
    "duration": 16,
    "start_time": "2021-12-23T13:00:38.674Z"
   },
   {
    "duration": 13,
    "start_time": "2021-12-23T13:00:38.678Z"
   },
   {
    "duration": 10,
    "start_time": "2021-12-23T13:00:38.682Z"
   },
   {
    "duration": 4,
    "start_time": "2021-12-23T13:00:38.689Z"
   },
   {
    "duration": 2,
    "start_time": "2021-12-23T13:00:38.693Z"
   },
   {
    "duration": 1,
    "start_time": "2021-12-23T13:00:38.695Z"
   },
   {
    "duration": -1,
    "start_time": "2021-12-23T13:00:38.698Z"
   },
   {
    "duration": -6,
    "start_time": "2021-12-23T13:00:38.704Z"
   },
   {
    "duration": -8,
    "start_time": "2021-12-23T13:00:38.707Z"
   },
   {
    "duration": -9,
    "start_time": "2021-12-23T13:00:38.709Z"
   },
   {
    "duration": -11,
    "start_time": "2021-12-23T13:00:38.712Z"
   },
   {
    "duration": -12,
    "start_time": "2021-12-23T13:00:38.714Z"
   },
   {
    "duration": -15,
    "start_time": "2021-12-23T13:00:38.718Z"
   },
   {
    "duration": -19,
    "start_time": "2021-12-23T13:00:38.723Z"
   },
   {
    "duration": -21,
    "start_time": "2021-12-23T13:00:38.726Z"
   },
   {
    "duration": -23,
    "start_time": "2021-12-23T13:00:38.728Z"
   },
   {
    "duration": -24,
    "start_time": "2021-12-23T13:00:38.730Z"
   },
   {
    "duration": -26,
    "start_time": "2021-12-23T13:00:38.733Z"
   },
   {
    "duration": -29,
    "start_time": "2021-12-23T13:00:38.737Z"
   },
   {
    "duration": -31,
    "start_time": "2021-12-23T13:00:38.740Z"
   },
   {
    "duration": -33,
    "start_time": "2021-12-23T13:00:38.743Z"
   },
   {
    "duration": -34,
    "start_time": "2021-12-23T13:00:38.745Z"
   },
   {
    "duration": -36,
    "start_time": "2021-12-23T13:00:38.748Z"
   },
   {
    "duration": -38,
    "start_time": "2021-12-23T13:00:38.751Z"
   },
   {
    "duration": -43,
    "start_time": "2021-12-23T13:00:38.756Z"
   },
   {
    "duration": -46,
    "start_time": "2021-12-23T13:00:38.760Z"
   },
   {
    "duration": -47,
    "start_time": "2021-12-23T13:00:38.762Z"
   },
   {
    "duration": -48,
    "start_time": "2021-12-23T13:00:38.764Z"
   },
   {
    "duration": -52,
    "start_time": "2021-12-23T13:00:38.768Z"
   },
   {
    "duration": -58,
    "start_time": "2021-12-23T13:00:38.775Z"
   },
   {
    "duration": 30,
    "start_time": "2021-12-23T13:00:53.847Z"
   },
   {
    "duration": 10,
    "start_time": "2021-12-23T13:01:03.545Z"
   },
   {
    "duration": 5,
    "start_time": "2021-12-23T13:01:11.982Z"
   },
   {
    "duration": 10,
    "start_time": "2021-12-23T13:01:13.550Z"
   },
   {
    "duration": 583,
    "start_time": "2021-12-23T13:01:21.953Z"
   },
   {
    "duration": 52,
    "start_time": "2021-12-23T13:01:22.539Z"
   },
   {
    "duration": 19,
    "start_time": "2021-12-23T13:01:22.594Z"
   },
   {
    "duration": 12,
    "start_time": "2021-12-23T13:01:22.616Z"
   },
   {
    "duration": 49,
    "start_time": "2021-12-23T13:01:22.630Z"
   },
   {
    "duration": 11,
    "start_time": "2021-12-23T13:01:22.681Z"
   },
   {
    "duration": 7,
    "start_time": "2021-12-23T13:01:22.694Z"
   },
   {
    "duration": 34,
    "start_time": "2021-12-23T13:01:22.704Z"
   },
   {
    "duration": 22,
    "start_time": "2021-12-23T13:01:22.741Z"
   },
   {
    "duration": 12,
    "start_time": "2021-12-23T13:01:22.765Z"
   },
   {
    "duration": 10,
    "start_time": "2021-12-23T13:01:22.779Z"
   },
   {
    "duration": 12,
    "start_time": "2021-12-23T13:01:22.790Z"
   },
   {
    "duration": 7,
    "start_time": "2021-12-23T13:01:22.803Z"
   },
   {
    "duration": 13,
    "start_time": "2021-12-23T13:01:22.812Z"
   },
   {
    "duration": 13,
    "start_time": "2021-12-23T13:01:22.827Z"
   },
   {
    "duration": 33,
    "start_time": "2021-12-23T13:01:22.842Z"
   },
   {
    "duration": 4,
    "start_time": "2021-12-23T13:01:22.877Z"
   },
   {
    "duration": 12,
    "start_time": "2021-12-23T13:01:22.882Z"
   },
   {
    "duration": 352,
    "start_time": "2021-12-23T13:01:22.895Z"
   },
   {
    "duration": 11,
    "start_time": "2021-12-23T13:01:23.249Z"
   },
   {
    "duration": 5,
    "start_time": "2021-12-23T13:01:23.262Z"
   },
   {
    "duration": 17,
    "start_time": "2021-12-23T13:01:23.269Z"
   },
   {
    "duration": 16,
    "start_time": "2021-12-23T13:01:23.291Z"
   },
   {
    "duration": 12,
    "start_time": "2021-12-23T13:01:23.310Z"
   },
   {
    "duration": 55,
    "start_time": "2021-12-23T13:01:23.323Z"
   },
   {
    "duration": 18,
    "start_time": "2021-12-23T13:01:23.380Z"
   },
   {
    "duration": 25,
    "start_time": "2021-12-23T13:01:23.400Z"
   },
   {
    "duration": 44,
    "start_time": "2021-12-23T13:01:23.427Z"
   },
   {
    "duration": 24,
    "start_time": "2021-12-23T13:01:23.473Z"
   },
   {
    "duration": 3891,
    "start_time": "2021-12-23T13:01:23.499Z"
   },
   {
    "duration": 7,
    "start_time": "2021-12-23T13:01:27.392Z"
   },
   {
    "duration": 27,
    "start_time": "2021-12-23T13:01:27.401Z"
   },
   {
    "duration": 38,
    "start_time": "2021-12-23T13:01:27.430Z"
   },
   {
    "duration": 14,
    "start_time": "2021-12-23T13:01:27.469Z"
   },
   {
    "duration": 57,
    "start_time": "2021-12-23T13:01:27.485Z"
   },
   {
    "duration": 12,
    "start_time": "2021-12-23T13:01:27.543Z"
   },
   {
    "duration": 27,
    "start_time": "2021-12-23T13:01:27.556Z"
   },
   {
    "duration": 22,
    "start_time": "2021-12-23T13:01:27.585Z"
   },
   {
    "duration": 42,
    "start_time": "2021-12-23T13:01:27.608Z"
   },
   {
    "duration": 23,
    "start_time": "2021-12-23T13:01:27.651Z"
   },
   {
    "duration": 24,
    "start_time": "2021-12-23T13:01:27.676Z"
   },
   {
    "duration": 587,
    "start_time": "2021-12-23T13:03:09.339Z"
   },
   {
    "duration": 50,
    "start_time": "2021-12-23T13:03:09.927Z"
   },
   {
    "duration": 20,
    "start_time": "2021-12-23T13:03:09.981Z"
   },
   {
    "duration": 20,
    "start_time": "2021-12-23T13:03:10.002Z"
   },
   {
    "duration": 43,
    "start_time": "2021-12-23T13:03:10.023Z"
   },
   {
    "duration": 8,
    "start_time": "2021-12-23T13:03:10.068Z"
   },
   {
    "duration": 5,
    "start_time": "2021-12-23T13:03:10.079Z"
   },
   {
    "duration": 33,
    "start_time": "2021-12-23T13:03:10.086Z"
   },
   {
    "duration": 4,
    "start_time": "2021-12-23T13:03:10.120Z"
   },
   {
    "duration": 10,
    "start_time": "2021-12-23T13:03:10.126Z"
   },
   {
    "duration": 26,
    "start_time": "2021-12-23T13:03:10.138Z"
   },
   {
    "duration": 5,
    "start_time": "2021-12-23T13:03:10.165Z"
   },
   {
    "duration": 18,
    "start_time": "2021-12-23T13:03:10.172Z"
   },
   {
    "duration": 7,
    "start_time": "2021-12-23T13:03:10.192Z"
   },
   {
    "duration": 6,
    "start_time": "2021-12-23T13:03:10.200Z"
   },
   {
    "duration": 24,
    "start_time": "2021-12-23T13:03:10.208Z"
   },
   {
    "duration": 4,
    "start_time": "2021-12-23T13:03:10.233Z"
   },
   {
    "duration": 24,
    "start_time": "2021-12-23T13:03:10.238Z"
   },
   {
    "duration": 365,
    "start_time": "2021-12-23T13:03:10.264Z"
   },
   {
    "duration": 4,
    "start_time": "2021-12-23T13:03:10.632Z"
   },
   {
    "duration": 7,
    "start_time": "2021-12-23T13:03:10.638Z"
   },
   {
    "duration": 20,
    "start_time": "2021-12-23T13:03:10.659Z"
   },
   {
    "duration": 14,
    "start_time": "2021-12-23T13:03:10.681Z"
   },
   {
    "duration": 15,
    "start_time": "2021-12-23T13:03:10.697Z"
   },
   {
    "duration": 11,
    "start_time": "2021-12-23T13:03:10.713Z"
   },
   {
    "duration": 51,
    "start_time": "2021-12-23T13:03:10.725Z"
   },
   {
    "duration": 14,
    "start_time": "2021-12-23T13:03:10.778Z"
   },
   {
    "duration": 36,
    "start_time": "2021-12-23T13:03:10.793Z"
   },
   {
    "duration": 18,
    "start_time": "2021-12-23T13:03:10.831Z"
   },
   {
    "duration": 11,
    "start_time": "2021-12-23T13:03:10.850Z"
   },
   {
    "duration": 3599,
    "start_time": "2021-12-23T13:03:10.863Z"
   },
   {
    "duration": 7,
    "start_time": "2021-12-23T13:03:14.464Z"
   },
   {
    "duration": 17,
    "start_time": "2021-12-23T13:03:14.473Z"
   },
   {
    "duration": 13,
    "start_time": "2021-12-23T13:03:14.492Z"
   },
   {
    "duration": 5,
    "start_time": "2021-12-23T13:03:14.506Z"
   },
   {
    "duration": 29,
    "start_time": "2021-12-23T13:03:14.513Z"
   },
   {
    "duration": 25,
    "start_time": "2021-12-23T13:03:14.544Z"
   },
   {
    "duration": 13,
    "start_time": "2021-12-23T13:03:14.571Z"
   },
   {
    "duration": 6,
    "start_time": "2021-12-23T13:03:14.585Z"
   },
   {
    "duration": 15,
    "start_time": "2021-12-23T13:03:14.592Z"
   },
   {
    "duration": 13,
    "start_time": "2021-12-23T13:03:14.609Z"
   },
   {
    "duration": 48,
    "start_time": "2021-12-23T13:03:14.623Z"
   },
   {
    "duration": 95,
    "start_time": "2021-12-23T13:04:23.832Z"
   },
   {
    "duration": 13,
    "start_time": "2021-12-23T13:16:12.057Z"
   },
   {
    "duration": 37,
    "start_time": "2021-12-23T13:29:53.413Z"
   },
   {
    "duration": 586,
    "start_time": "2021-12-23T13:32:20.625Z"
   },
   {
    "duration": 50,
    "start_time": "2021-12-23T13:32:21.213Z"
   },
   {
    "duration": 19,
    "start_time": "2021-12-23T13:32:21.265Z"
   },
   {
    "duration": 16,
    "start_time": "2021-12-23T13:32:21.285Z"
   },
   {
    "duration": 36,
    "start_time": "2021-12-23T13:32:21.303Z"
   },
   {
    "duration": 20,
    "start_time": "2021-12-23T13:32:21.341Z"
   },
   {
    "duration": 31,
    "start_time": "2021-12-23T13:32:21.363Z"
   },
   {
    "duration": 5,
    "start_time": "2021-12-23T13:32:21.397Z"
   },
   {
    "duration": 14,
    "start_time": "2021-12-23T13:32:21.405Z"
   },
   {
    "duration": 9,
    "start_time": "2021-12-23T13:32:21.420Z"
   },
   {
    "duration": 13,
    "start_time": "2021-12-23T13:32:21.430Z"
   },
   {
    "duration": 4,
    "start_time": "2021-12-23T13:32:21.461Z"
   },
   {
    "duration": 9,
    "start_time": "2021-12-23T13:32:21.467Z"
   },
   {
    "duration": 6,
    "start_time": "2021-12-23T13:32:21.478Z"
   },
   {
    "duration": 25,
    "start_time": "2021-12-23T13:32:21.486Z"
   },
   {
    "duration": 5,
    "start_time": "2021-12-23T13:32:21.513Z"
   },
   {
    "duration": 9,
    "start_time": "2021-12-23T13:32:21.520Z"
   },
   {
    "duration": 385,
    "start_time": "2021-12-23T13:32:21.530Z"
   },
   {
    "duration": 3,
    "start_time": "2021-12-23T13:32:21.917Z"
   },
   {
    "duration": 11,
    "start_time": "2021-12-23T13:32:21.922Z"
   },
   {
    "duration": 29,
    "start_time": "2021-12-23T13:32:21.934Z"
   },
   {
    "duration": 16,
    "start_time": "2021-12-23T13:32:21.965Z"
   },
   {
    "duration": 14,
    "start_time": "2021-12-23T13:32:21.984Z"
   },
   {
    "duration": 38,
    "start_time": "2021-12-23T13:32:22.000Z"
   },
   {
    "duration": 22,
    "start_time": "2021-12-23T13:32:22.040Z"
   },
   {
    "duration": 25,
    "start_time": "2021-12-23T13:32:22.063Z"
   },
   {
    "duration": 19,
    "start_time": "2021-12-23T13:32:22.090Z"
   },
   {
    "duration": 7,
    "start_time": "2021-12-23T13:32:22.111Z"
   },
   {
    "duration": 3524,
    "start_time": "2021-12-23T13:32:22.120Z"
   },
   {
    "duration": 17,
    "start_time": "2021-12-23T13:32:25.647Z"
   },
   {
    "duration": 10,
    "start_time": "2021-12-23T13:32:25.666Z"
   },
   {
    "duration": 15,
    "start_time": "2021-12-23T13:32:25.678Z"
   },
   {
    "duration": 7,
    "start_time": "2021-12-23T13:32:25.695Z"
   },
   {
    "duration": 59,
    "start_time": "2021-12-23T13:32:25.703Z"
   },
   {
    "duration": 13,
    "start_time": "2021-12-23T13:32:25.764Z"
   },
   {
    "duration": 15,
    "start_time": "2021-12-23T13:32:25.779Z"
   },
   {
    "duration": 6,
    "start_time": "2021-12-23T13:32:25.795Z"
   },
   {
    "duration": 16,
    "start_time": "2021-12-23T13:32:25.802Z"
   },
   {
    "duration": 41,
    "start_time": "2021-12-23T13:32:25.820Z"
   },
   {
    "duration": 13,
    "start_time": "2021-12-23T13:32:25.863Z"
   },
   {
    "duration": 404,
    "start_time": "2021-12-23T13:32:50.816Z"
   },
   {
    "duration": 602,
    "start_time": "2021-12-23T13:32:58.946Z"
   },
   {
    "duration": 51,
    "start_time": "2021-12-23T13:32:59.550Z"
   },
   {
    "duration": 19,
    "start_time": "2021-12-23T13:32:59.605Z"
   },
   {
    "duration": 16,
    "start_time": "2021-12-23T13:32:59.625Z"
   },
   {
    "duration": 56,
    "start_time": "2021-12-23T13:32:59.643Z"
   },
   {
    "duration": 9,
    "start_time": "2021-12-23T13:32:59.700Z"
   },
   {
    "duration": 30,
    "start_time": "2021-12-23T13:32:59.711Z"
   },
   {
    "duration": 4,
    "start_time": "2021-12-23T13:32:59.743Z"
   },
   {
    "duration": 20,
    "start_time": "2021-12-23T13:32:59.748Z"
   },
   {
    "duration": 7,
    "start_time": "2021-12-23T13:32:59.770Z"
   },
   {
    "duration": 10,
    "start_time": "2021-12-23T13:32:59.778Z"
   },
   {
    "duration": 4,
    "start_time": "2021-12-23T13:32:59.790Z"
   },
   {
    "duration": 6,
    "start_time": "2021-12-23T13:32:59.795Z"
   },
   {
    "duration": 11,
    "start_time": "2021-12-23T13:32:59.803Z"
   },
   {
    "duration": 26,
    "start_time": "2021-12-23T13:32:59.815Z"
   },
   {
    "duration": 3,
    "start_time": "2021-12-23T13:32:59.843Z"
   },
   {
    "duration": 21,
    "start_time": "2021-12-23T13:32:59.848Z"
   },
   {
    "duration": 352,
    "start_time": "2021-12-23T13:32:59.871Z"
   },
   {
    "duration": 4,
    "start_time": "2021-12-23T13:33:00.225Z"
   },
   {
    "duration": 18,
    "start_time": "2021-12-23T13:33:00.230Z"
   },
   {
    "duration": 29,
    "start_time": "2021-12-23T13:33:00.250Z"
   },
   {
    "duration": 14,
    "start_time": "2021-12-23T13:33:00.283Z"
   },
   {
    "duration": 22,
    "start_time": "2021-12-23T13:33:00.299Z"
   },
   {
    "duration": 32,
    "start_time": "2021-12-23T13:33:00.323Z"
   },
   {
    "duration": 15,
    "start_time": "2021-12-23T13:33:00.357Z"
   },
   {
    "duration": 25,
    "start_time": "2021-12-23T13:33:00.374Z"
   },
   {
    "duration": 24,
    "start_time": "2021-12-23T13:33:00.400Z"
   },
   {
    "duration": 15,
    "start_time": "2021-12-23T13:33:00.425Z"
   },
   {
    "duration": 3621,
    "start_time": "2021-12-23T13:33:00.442Z"
   },
   {
    "duration": 7,
    "start_time": "2021-12-23T13:33:04.065Z"
   },
   {
    "duration": 25,
    "start_time": "2021-12-23T13:33:04.074Z"
   },
   {
    "duration": 15,
    "start_time": "2021-12-23T13:33:04.101Z"
   },
   {
    "duration": 13,
    "start_time": "2021-12-23T13:33:04.118Z"
   },
   {
    "duration": 44,
    "start_time": "2021-12-23T13:33:04.132Z"
   },
   {
    "duration": 12,
    "start_time": "2021-12-23T13:33:04.178Z"
   },
   {
    "duration": 27,
    "start_time": "2021-12-23T13:33:04.192Z"
   },
   {
    "duration": 6,
    "start_time": "2021-12-23T13:33:04.221Z"
   },
   {
    "duration": 17,
    "start_time": "2021-12-23T13:33:04.228Z"
   },
   {
    "duration": 21,
    "start_time": "2021-12-23T13:33:04.246Z"
   },
   {
    "duration": 12,
    "start_time": "2021-12-23T13:33:04.269Z"
   },
   {
    "duration": 300,
    "start_time": "2021-12-23T13:33:41.923Z"
   },
   {
    "duration": 632,
    "start_time": "2021-12-23T13:33:51.776Z"
   },
   {
    "duration": 50,
    "start_time": "2021-12-23T13:33:52.410Z"
   },
   {
    "duration": 18,
    "start_time": "2021-12-23T13:33:52.462Z"
   },
   {
    "duration": 12,
    "start_time": "2021-12-23T13:33:52.482Z"
   },
   {
    "duration": 29,
    "start_time": "2021-12-23T13:33:52.496Z"
   },
   {
    "duration": 8,
    "start_time": "2021-12-23T13:33:52.526Z"
   },
   {
    "duration": 53,
    "start_time": "2021-12-23T13:33:52.536Z"
   },
   {
    "duration": 6,
    "start_time": "2021-12-23T13:33:52.591Z"
   },
   {
    "duration": 9,
    "start_time": "2021-12-23T13:33:52.599Z"
   },
   {
    "duration": 11,
    "start_time": "2021-12-23T13:33:52.610Z"
   },
   {
    "duration": 4,
    "start_time": "2021-12-23T13:33:52.623Z"
   },
   {
    "duration": 31,
    "start_time": "2021-12-23T13:33:52.629Z"
   },
   {
    "duration": 5,
    "start_time": "2021-12-23T13:33:52.662Z"
   },
   {
    "duration": 5,
    "start_time": "2021-12-23T13:33:52.669Z"
   },
   {
    "duration": 6,
    "start_time": "2021-12-23T13:33:52.676Z"
   },
   {
    "duration": 23,
    "start_time": "2021-12-23T13:33:52.683Z"
   },
   {
    "duration": 4,
    "start_time": "2021-12-23T13:33:52.708Z"
   },
   {
    "duration": 8,
    "start_time": "2021-12-23T13:33:52.714Z"
   },
   {
    "duration": 374,
    "start_time": "2021-12-23T13:33:52.724Z"
   },
   {
    "duration": 3,
    "start_time": "2021-12-23T13:33:53.100Z"
   },
   {
    "duration": 10,
    "start_time": "2021-12-23T13:33:53.104Z"
   },
   {
    "duration": 21,
    "start_time": "2021-12-23T13:33:53.116Z"
   },
   {
    "duration": 22,
    "start_time": "2021-12-23T13:33:53.140Z"
   },
   {
    "duration": 9,
    "start_time": "2021-12-23T13:33:53.164Z"
   },
   {
    "duration": 23,
    "start_time": "2021-12-23T13:33:53.175Z"
   },
   {
    "duration": 15,
    "start_time": "2021-12-23T13:33:53.199Z"
   },
   {
    "duration": 45,
    "start_time": "2021-12-23T13:33:53.215Z"
   },
   {
    "duration": 17,
    "start_time": "2021-12-23T13:33:53.262Z"
   },
   {
    "duration": 7,
    "start_time": "2021-12-23T13:33:53.281Z"
   },
   {
    "duration": 3418,
    "start_time": "2021-12-23T13:33:53.289Z"
   },
   {
    "duration": 8,
    "start_time": "2021-12-23T13:33:56.709Z"
   },
   {
    "duration": 14,
    "start_time": "2021-12-23T13:33:56.718Z"
   },
   {
    "duration": 28,
    "start_time": "2021-12-23T13:33:56.734Z"
   },
   {
    "duration": 4,
    "start_time": "2021-12-23T13:33:56.764Z"
   },
   {
    "duration": 30,
    "start_time": "2021-12-23T13:33:56.769Z"
   },
   {
    "duration": 13,
    "start_time": "2021-12-23T13:33:56.800Z"
   },
   {
    "duration": 12,
    "start_time": "2021-12-23T13:33:56.815Z"
   },
   {
    "duration": 33,
    "start_time": "2021-12-23T13:33:56.829Z"
   },
   {
    "duration": 16,
    "start_time": "2021-12-23T13:33:56.864Z"
   },
   {
    "duration": 15,
    "start_time": "2021-12-23T13:33:56.882Z"
   },
   {
    "duration": 14,
    "start_time": "2021-12-23T13:33:56.898Z"
   },
   {
    "duration": 11,
    "start_time": "2021-12-23T13:34:39.702Z"
   },
   {
    "duration": 252,
    "start_time": "2021-12-23T13:35:47.893Z"
   },
   {
    "duration": 596,
    "start_time": "2021-12-23T13:35:52.833Z"
   },
   {
    "duration": 52,
    "start_time": "2021-12-23T13:35:53.433Z"
   },
   {
    "duration": 18,
    "start_time": "2021-12-23T13:35:53.487Z"
   },
   {
    "duration": 12,
    "start_time": "2021-12-23T13:35:53.507Z"
   },
   {
    "duration": 47,
    "start_time": "2021-12-23T13:35:53.521Z"
   },
   {
    "duration": 8,
    "start_time": "2021-12-23T13:35:53.570Z"
   },
   {
    "duration": 257,
    "start_time": "2021-12-23T13:35:53.580Z"
   },
   {
    "duration": 68,
    "start_time": "2021-12-23T13:35:53.772Z"
   },
   {
    "duration": 61,
    "start_time": "2021-12-23T13:35:53.780Z"
   },
   {
    "duration": 56,
    "start_time": "2021-12-23T13:35:53.786Z"
   },
   {
    "duration": 53,
    "start_time": "2021-12-23T13:35:53.790Z"
   },
   {
    "duration": 51,
    "start_time": "2021-12-23T13:35:53.794Z"
   },
   {
    "duration": 49,
    "start_time": "2021-12-23T13:35:53.797Z"
   },
   {
    "duration": 44,
    "start_time": "2021-12-23T13:35:53.802Z"
   },
   {
    "duration": 42,
    "start_time": "2021-12-23T13:35:53.805Z"
   },
   {
    "duration": 41,
    "start_time": "2021-12-23T13:35:53.807Z"
   },
   {
    "duration": 39,
    "start_time": "2021-12-23T13:35:53.810Z"
   },
   {
    "duration": 33,
    "start_time": "2021-12-23T13:35:53.817Z"
   },
   {
    "duration": 30,
    "start_time": "2021-12-23T13:35:53.821Z"
   },
   {
    "duration": 28,
    "start_time": "2021-12-23T13:35:53.824Z"
   },
   {
    "duration": 26,
    "start_time": "2021-12-23T13:35:53.827Z"
   },
   {
    "duration": 23,
    "start_time": "2021-12-23T13:35:53.831Z"
   },
   {
    "duration": 20,
    "start_time": "2021-12-23T13:35:53.835Z"
   },
   {
    "duration": 18,
    "start_time": "2021-12-23T13:35:53.838Z"
   },
   {
    "duration": 16,
    "start_time": "2021-12-23T13:35:53.841Z"
   },
   {
    "duration": 11,
    "start_time": "2021-12-23T13:35:53.847Z"
   },
   {
    "duration": 2,
    "start_time": "2021-12-23T13:35:53.857Z"
   },
   {
    "duration": -4,
    "start_time": "2021-12-23T13:35:53.865Z"
   },
   {
    "duration": -11,
    "start_time": "2021-12-23T13:35:53.873Z"
   },
   {
    "duration": -16,
    "start_time": "2021-12-23T13:35:53.879Z"
   },
   {
    "duration": -21,
    "start_time": "2021-12-23T13:35:53.885Z"
   },
   {
    "duration": -31,
    "start_time": "2021-12-23T13:35:53.896Z"
   },
   {
    "duration": -39,
    "start_time": "2021-12-23T13:35:53.905Z"
   },
   {
    "duration": -42,
    "start_time": "2021-12-23T13:35:53.909Z"
   },
   {
    "duration": -45,
    "start_time": "2021-12-23T13:35:53.913Z"
   },
   {
    "duration": -52,
    "start_time": "2021-12-23T13:35:53.921Z"
   },
   {
    "duration": -56,
    "start_time": "2021-12-23T13:35:53.926Z"
   },
   {
    "duration": -60,
    "start_time": "2021-12-23T13:35:53.931Z"
   },
   {
    "duration": -65,
    "start_time": "2021-12-23T13:35:53.937Z"
   },
   {
    "duration": -71,
    "start_time": "2021-12-23T13:35:53.944Z"
   },
   {
    "duration": -77,
    "start_time": "2021-12-23T13:35:53.951Z"
   },
   {
    "duration": 71,
    "start_time": "2021-12-23T13:36:16.599Z"
   },
   {
    "duration": 33,
    "start_time": "2021-12-23T13:36:29.005Z"
   },
   {
    "duration": 604,
    "start_time": "2021-12-23T13:36:34.595Z"
   },
   {
    "duration": 51,
    "start_time": "2021-12-23T13:36:35.201Z"
   },
   {
    "duration": 19,
    "start_time": "2021-12-23T13:36:35.254Z"
   },
   {
    "duration": 11,
    "start_time": "2021-12-23T13:36:35.276Z"
   },
   {
    "duration": 42,
    "start_time": "2021-12-23T13:36:35.289Z"
   },
   {
    "duration": 30,
    "start_time": "2021-12-23T13:36:35.333Z"
   },
   {
    "duration": 32,
    "start_time": "2021-12-23T13:36:35.365Z"
   },
   {
    "duration": 5,
    "start_time": "2021-12-23T13:36:35.400Z"
   },
   {
    "duration": 14,
    "start_time": "2021-12-23T13:36:35.408Z"
   },
   {
    "duration": 11,
    "start_time": "2021-12-23T13:36:35.423Z"
   },
   {
    "duration": 25,
    "start_time": "2021-12-23T13:36:35.436Z"
   },
   {
    "duration": 4,
    "start_time": "2021-12-23T13:36:35.462Z"
   },
   {
    "duration": 8,
    "start_time": "2021-12-23T13:36:35.467Z"
   },
   {
    "duration": 6,
    "start_time": "2021-12-23T13:36:35.476Z"
   },
   {
    "duration": 8,
    "start_time": "2021-12-23T13:36:35.483Z"
   },
   {
    "duration": 25,
    "start_time": "2021-12-23T13:36:35.493Z"
   },
   {
    "duration": 3,
    "start_time": "2021-12-23T13:36:35.520Z"
   },
   {
    "duration": 8,
    "start_time": "2021-12-23T13:36:35.525Z"
   },
   {
    "duration": 355,
    "start_time": "2021-12-23T13:36:35.534Z"
   },
   {
    "duration": 4,
    "start_time": "2021-12-23T13:36:35.890Z"
   },
   {
    "duration": 9,
    "start_time": "2021-12-23T13:36:35.895Z"
   },
   {
    "duration": 19,
    "start_time": "2021-12-23T13:36:35.905Z"
   },
   {
    "duration": 13,
    "start_time": "2021-12-23T13:36:35.928Z"
   },
   {
    "duration": 24,
    "start_time": "2021-12-23T13:36:35.944Z"
   },
   {
    "duration": 25,
    "start_time": "2021-12-23T13:36:35.970Z"
   },
   {
    "duration": 14,
    "start_time": "2021-12-23T13:36:35.997Z"
   },
   {
    "duration": 23,
    "start_time": "2021-12-23T13:36:36.013Z"
   },
   {
    "duration": 29,
    "start_time": "2021-12-23T13:36:36.037Z"
   },
   {
    "duration": 7,
    "start_time": "2021-12-23T13:36:36.068Z"
   },
   {
    "duration": 3724,
    "start_time": "2021-12-23T13:36:36.077Z"
   },
   {
    "duration": 7,
    "start_time": "2021-12-23T13:36:39.803Z"
   },
   {
    "duration": 11,
    "start_time": "2021-12-23T13:36:39.812Z"
   },
   {
    "duration": 13,
    "start_time": "2021-12-23T13:36:39.825Z"
   },
   {
    "duration": 3,
    "start_time": "2021-12-23T13:36:39.861Z"
   },
   {
    "duration": 30,
    "start_time": "2021-12-23T13:36:39.866Z"
   },
   {
    "duration": 13,
    "start_time": "2021-12-23T13:36:39.897Z"
   },
   {
    "duration": 12,
    "start_time": "2021-12-23T13:36:39.912Z"
   },
   {
    "duration": 5,
    "start_time": "2021-12-23T13:36:39.925Z"
   },
   {
    "duration": 14,
    "start_time": "2021-12-23T13:36:39.961Z"
   },
   {
    "duration": 13,
    "start_time": "2021-12-23T13:36:39.977Z"
   },
   {
    "duration": 15,
    "start_time": "2021-12-23T13:36:39.991Z"
   },
   {
    "duration": 599,
    "start_time": "2021-12-23T13:40:26.152Z"
   },
   {
    "duration": 54,
    "start_time": "2021-12-23T13:40:26.753Z"
   },
   {
    "duration": 19,
    "start_time": "2021-12-23T13:40:26.812Z"
   },
   {
    "duration": 13,
    "start_time": "2021-12-23T13:40:26.833Z"
   },
   {
    "duration": 43,
    "start_time": "2021-12-23T13:40:26.848Z"
   },
   {
    "duration": 9,
    "start_time": "2021-12-23T13:40:26.893Z"
   },
   {
    "duration": 59,
    "start_time": "2021-12-23T13:40:26.905Z"
   },
   {
    "duration": 6,
    "start_time": "2021-12-23T13:40:26.966Z"
   },
   {
    "duration": 6,
    "start_time": "2021-12-23T13:40:26.973Z"
   },
   {
    "duration": 10,
    "start_time": "2021-12-23T13:40:26.980Z"
   },
   {
    "duration": 5,
    "start_time": "2021-12-23T13:40:26.992Z"
   },
   {
    "duration": 5,
    "start_time": "2021-12-23T13:40:26.998Z"
   },
   {
    "duration": 4,
    "start_time": "2021-12-23T13:40:27.005Z"
   },
   {
    "duration": 5,
    "start_time": "2021-12-23T13:40:27.010Z"
   },
   {
    "duration": 6,
    "start_time": "2021-12-23T13:40:27.016Z"
   },
   {
    "duration": 56,
    "start_time": "2021-12-23T13:40:27.023Z"
   },
   {
    "duration": 4,
    "start_time": "2021-12-23T13:40:27.080Z"
   },
   {
    "duration": 15,
    "start_time": "2021-12-23T13:40:27.086Z"
   },
   {
    "duration": 357,
    "start_time": "2021-12-23T13:40:27.103Z"
   },
   {
    "duration": 4,
    "start_time": "2021-12-23T13:40:27.462Z"
   },
   {
    "duration": 7,
    "start_time": "2021-12-23T13:40:27.467Z"
   },
   {
    "duration": 17,
    "start_time": "2021-12-23T13:40:27.477Z"
   },
   {
    "duration": 14,
    "start_time": "2021-12-23T13:40:27.496Z"
   },
   {
    "duration": 11,
    "start_time": "2021-12-23T13:40:27.512Z"
   },
   {
    "duration": 51,
    "start_time": "2021-12-23T13:40:27.525Z"
   },
   {
    "duration": 15,
    "start_time": "2021-12-23T13:40:27.578Z"
   },
   {
    "duration": 24,
    "start_time": "2021-12-23T13:40:27.595Z"
   },
   {
    "duration": 19,
    "start_time": "2021-12-23T13:40:27.621Z"
   },
   {
    "duration": 7,
    "start_time": "2021-12-23T13:40:27.661Z"
   },
   {
    "duration": 3671,
    "start_time": "2021-12-23T13:40:27.670Z"
   },
   {
    "duration": 21,
    "start_time": "2021-12-23T13:40:31.343Z"
   },
   {
    "duration": 20,
    "start_time": "2021-12-23T13:40:31.365Z"
   },
   {
    "duration": 13,
    "start_time": "2021-12-23T13:40:31.387Z"
   },
   {
    "duration": 5,
    "start_time": "2021-12-23T13:40:31.402Z"
   },
   {
    "duration": 33,
    "start_time": "2021-12-23T13:40:31.408Z"
   },
   {
    "duration": 25,
    "start_time": "2021-12-23T13:40:31.442Z"
   },
   {
    "duration": 13,
    "start_time": "2021-12-23T13:40:31.469Z"
   },
   {
    "duration": 6,
    "start_time": "2021-12-23T13:40:31.483Z"
   },
   {
    "duration": 26,
    "start_time": "2021-12-23T13:40:31.490Z"
   },
   {
    "duration": 13,
    "start_time": "2021-12-23T13:40:31.518Z"
   },
   {
    "duration": 35,
    "start_time": "2021-12-23T13:40:31.533Z"
   }
  ],
  "kernelspec": {
   "display_name": "Python 3",
   "language": "python",
   "name": "python3"
  },
  "language_info": {
   "codemirror_mode": {
    "name": "ipython",
    "version": 3
   },
   "file_extension": ".py",
   "mimetype": "text/x-python",
   "name": "python",
   "nbconvert_exporter": "python",
   "pygments_lexer": "ipython3",
   "version": "3.8.8"
  },
  "toc": {
   "base_numbering": 1,
   "nav_menu": {},
   "number_sections": true,
   "sideBar": true,
   "skip_h1_title": true,
   "title_cell": "Table of Contents",
   "title_sidebar": "Contents",
   "toc_cell": false,
   "toc_position": {},
   "toc_section_display": true,
   "toc_window_display": true
  }
 },
 "nbformat": 4,
 "nbformat_minor": 2
}
