{
 "cells": [
  {
   "cell_type": "markdown",
   "metadata": {
    "id": "VUC88oWjTJw2"
   },
   "source": [
    "# Исследование данных сервиса “Яндекс.Музыка” — сравнение пользователей двух городов\n",
    "\n",
    "На данных Яндекс.Музыки необходимо сравнить поведение пользователей двух столиц.\n",
    "\n",
    "**Цель исследования** — проверьте три гипотезы:\n",
    "1. Активность пользователей зависит от дня недели. Причём в Москве и Петербурге это проявляется по-разному.\n",
    "2. В понедельник утром в Москве преобладают одни жанры, а в Петербурге — другие. Так же и вечером пятницы преобладают разные жанры — в зависимости от города. \n",
    "3. Москва и Петербург предпочитают разные жанры музыки. В Москве чаще слушают поп-музыку, в Петербурге — русский рэп."
   ]
  },
  {
   "cell_type": "markdown",
   "metadata": {
    "id": "Ml1hmfXC_Zcs"
   },
   "source": [
    "## Обзор данных"
   ]
  },
  {
   "cell_type": "code",
   "execution_count": 2,
   "metadata": {
    "id": "AXN7PHPN_Zcs"
   },
   "outputs": [],
   "source": [
    "# импорт библиотеки pandas\n",
    "import pandas as pd"
   ]
  },
  {
   "cell_type": "code",
   "execution_count": 3,
   "metadata": {
    "id": "fFVu7vqh_Zct"
   },
   "outputs": [],
   "source": [
    "# чтение файла с данными и сохранение в df\n",
    "df = pd.read_csv('/datasets/yandex_music_project.csv')"
   ]
  },
  {
   "cell_type": "code",
   "execution_count": 4,
   "metadata": {
    "id": "oWTVX3gW_Zct"
   },
   "outputs": [
    {
     "data": {
      "text/html": [
       "<div>\n",
       "<style scoped>\n",
       "    .dataframe tbody tr th:only-of-type {\n",
       "        vertical-align: middle;\n",
       "    }\n",
       "\n",
       "    .dataframe tbody tr th {\n",
       "        vertical-align: top;\n",
       "    }\n",
       "\n",
       "    .dataframe thead th {\n",
       "        text-align: right;\n",
       "    }\n",
       "</style>\n",
       "<table border=\"1\" class=\"dataframe\">\n",
       "  <thead>\n",
       "    <tr style=\"text-align: right;\">\n",
       "      <th></th>\n",
       "      <th>userID</th>\n",
       "      <th>Track</th>\n",
       "      <th>artist</th>\n",
       "      <th>genre</th>\n",
       "      <th>City</th>\n",
       "      <th>time</th>\n",
       "      <th>Day</th>\n",
       "    </tr>\n",
       "  </thead>\n",
       "  <tbody>\n",
       "    <tr>\n",
       "      <td>0</td>\n",
       "      <td>FFB692EC</td>\n",
       "      <td>Kamigata To Boots</td>\n",
       "      <td>The Mass Missile</td>\n",
       "      <td>rock</td>\n",
       "      <td>Saint-Petersburg</td>\n",
       "      <td>20:28:33</td>\n",
       "      <td>Wednesday</td>\n",
       "    </tr>\n",
       "    <tr>\n",
       "      <td>1</td>\n",
       "      <td>55204538</td>\n",
       "      <td>Delayed Because of Accident</td>\n",
       "      <td>Andreas Rönnberg</td>\n",
       "      <td>rock</td>\n",
       "      <td>Moscow</td>\n",
       "      <td>14:07:09</td>\n",
       "      <td>Friday</td>\n",
       "    </tr>\n",
       "    <tr>\n",
       "      <td>2</td>\n",
       "      <td>20EC38</td>\n",
       "      <td>Funiculì funiculà</td>\n",
       "      <td>Mario Lanza</td>\n",
       "      <td>pop</td>\n",
       "      <td>Saint-Petersburg</td>\n",
       "      <td>20:58:07</td>\n",
       "      <td>Wednesday</td>\n",
       "    </tr>\n",
       "    <tr>\n",
       "      <td>3</td>\n",
       "      <td>A3DD03C9</td>\n",
       "      <td>Dragons in the Sunset</td>\n",
       "      <td>Fire + Ice</td>\n",
       "      <td>folk</td>\n",
       "      <td>Saint-Petersburg</td>\n",
       "      <td>08:37:09</td>\n",
       "      <td>Monday</td>\n",
       "    </tr>\n",
       "    <tr>\n",
       "      <td>4</td>\n",
       "      <td>E2DC1FAE</td>\n",
       "      <td>Soul People</td>\n",
       "      <td>Space Echo</td>\n",
       "      <td>dance</td>\n",
       "      <td>Moscow</td>\n",
       "      <td>08:34:34</td>\n",
       "      <td>Monday</td>\n",
       "    </tr>\n",
       "    <tr>\n",
       "      <td>5</td>\n",
       "      <td>842029A1</td>\n",
       "      <td>Преданная</td>\n",
       "      <td>IMPERVTOR</td>\n",
       "      <td>rusrap</td>\n",
       "      <td>Saint-Petersburg</td>\n",
       "      <td>13:09:41</td>\n",
       "      <td>Friday</td>\n",
       "    </tr>\n",
       "    <tr>\n",
       "      <td>6</td>\n",
       "      <td>4CB90AA5</td>\n",
       "      <td>True</td>\n",
       "      <td>Roman Messer</td>\n",
       "      <td>dance</td>\n",
       "      <td>Moscow</td>\n",
       "      <td>13:00:07</td>\n",
       "      <td>Wednesday</td>\n",
       "    </tr>\n",
       "    <tr>\n",
       "      <td>7</td>\n",
       "      <td>F03E1C1F</td>\n",
       "      <td>Feeling This Way</td>\n",
       "      <td>Polina Griffith</td>\n",
       "      <td>dance</td>\n",
       "      <td>Moscow</td>\n",
       "      <td>20:47:49</td>\n",
       "      <td>Wednesday</td>\n",
       "    </tr>\n",
       "    <tr>\n",
       "      <td>8</td>\n",
       "      <td>8FA1D3BE</td>\n",
       "      <td>И вновь продолжается бой</td>\n",
       "      <td>NaN</td>\n",
       "      <td>ruspop</td>\n",
       "      <td>Moscow</td>\n",
       "      <td>09:17:40</td>\n",
       "      <td>Friday</td>\n",
       "    </tr>\n",
       "    <tr>\n",
       "      <td>9</td>\n",
       "      <td>E772D5C0</td>\n",
       "      <td>Pessimist</td>\n",
       "      <td>NaN</td>\n",
       "      <td>dance</td>\n",
       "      <td>Saint-Petersburg</td>\n",
       "      <td>21:20:49</td>\n",
       "      <td>Wednesday</td>\n",
       "    </tr>\n",
       "  </tbody>\n",
       "</table>\n",
       "</div>"
      ],
      "text/plain": [
       "     userID                        Track            artist   genre  \\\n",
       "0  FFB692EC            Kamigata To Boots  The Mass Missile    rock   \n",
       "1  55204538  Delayed Because of Accident  Andreas Rönnberg    rock   \n",
       "2    20EC38            Funiculì funiculà       Mario Lanza     pop   \n",
       "3  A3DD03C9        Dragons in the Sunset        Fire + Ice    folk   \n",
       "4  E2DC1FAE                  Soul People        Space Echo   dance   \n",
       "5  842029A1                    Преданная         IMPERVTOR  rusrap   \n",
       "6  4CB90AA5                         True      Roman Messer   dance   \n",
       "7  F03E1C1F             Feeling This Way   Polina Griffith   dance   \n",
       "8  8FA1D3BE     И вновь продолжается бой               NaN  ruspop   \n",
       "9  E772D5C0                    Pessimist               NaN   dance   \n",
       "\n",
       "             City        time        Day  \n",
       "0  Saint-Petersburg  20:28:33  Wednesday  \n",
       "1            Moscow  14:07:09     Friday  \n",
       "2  Saint-Petersburg  20:58:07  Wednesday  \n",
       "3  Saint-Petersburg  08:37:09     Monday  \n",
       "4            Moscow  08:34:34     Monday  \n",
       "5  Saint-Petersburg  13:09:41     Friday  \n",
       "6            Moscow  13:00:07  Wednesday  \n",
       "7            Moscow  20:47:49  Wednesday  \n",
       "8            Moscow  09:17:40     Friday  \n",
       "9  Saint-Petersburg  21:20:49  Wednesday  "
      ]
     },
     "metadata": {},
     "output_type": "display_data"
    }
   ],
   "source": [
    "# получение первых 10 строк таблицы df\n",
    "display(df.head(10))"
   ]
  },
  {
   "cell_type": "code",
   "execution_count": 5,
   "metadata": {
    "id": "DSf2kIb-_Zct"
   },
   "outputs": [
    {
     "name": "stdout",
     "output_type": "stream",
     "text": [
      "<class 'pandas.core.frame.DataFrame'>\n",
      "RangeIndex: 65079 entries, 0 to 65078\n",
      "Data columns (total 7 columns):\n",
      "  userID    65079 non-null object\n",
      "Track       63848 non-null object\n",
      "artist      57876 non-null object\n",
      "genre       63881 non-null object\n",
      "  City      65079 non-null object\n",
      "time        65079 non-null object\n",
      "Day         65079 non-null object\n",
      "dtypes: object(7)\n",
      "memory usage: 3.5+ MB\n"
     ]
    }
   ],
   "source": [
    "# получение общей информации о данных в таблице df\n",
    "df.info()"
   ]
  },
  {
   "cell_type": "markdown",
   "metadata": {
    "id": "TaQ2Iwbr_Zct"
   },
   "source": [
    "Итак, в таблице семь столбцов. Тип данных во всех столбцах — `object`.\n",
    "\n",
    "Согласно документации к данным:\n",
    "* `userID` — идентификатор пользователя;\n",
    "* `Track` — название трека;  \n",
    "* `artist` — имя исполнителя;\n",
    "* `genre` — название жанра;\n",
    "* `City` — город пользователя;\n",
    "* `time` — время начала прослушивания;\n",
    "* `Day` — день недели.\n",
    "\n",
    "В названиях колонок видны три нарушения стиля:\n",
    "1. Строчные буквы сочетаются с прописными.\n",
    "2. Встречаются пробелы.\n",
    "3. Используется \"верблюжий регистр\" вместо \"змеиного\" (нет подчеркивания). *(Найдите ещё одну проблему в названии колонок и опишите её в этом пункте)*\n",
    "\n",
    "\n",
    "Количество значений в столбцах различается. Значит, в данных есть пропущенные значения."
   ]
  },
  {
   "cell_type": "markdown",
   "metadata": {
    "id": "MCB6-dXG_Zct"
   },
   "source": [
    "**Выводы**\n",
    "\n",
    "В каждой строке таблицы — данные о прослушанном треке. Часть колонок описывает саму композицию: название, исполнителя и жанр. Остальные данные рассказывают о пользователе: из какого он города, когда он слушал музыку. \n",
    "\n",
    "Предварительно можно утверждать, что, данных достаточно для проверки гипотез. Но встречаются пропуски в данных, а в названиях колонок — расхождения с хорошим стилем.\n",
    "\n",
    "Чтобы двигаться дальше, нужно устранить проблемы в данных."
   ]
  },
  {
   "cell_type": "markdown",
   "metadata": {
    "id": "SjYF6Ub9_Zct"
   },
   "source": [
    "## Предобработка данных"
   ]
  },
  {
   "cell_type": "markdown",
   "metadata": {
    "id": "dIaKXr29_Zct"
   },
   "source": [
    "### Стиль заголовков"
   ]
  },
  {
   "cell_type": "code",
   "execution_count": 6,
   "metadata": {
    "id": "oKOTdF_Q_Zct"
   },
   "outputs": [
    {
     "data": {
      "text/plain": [
       "Index(['  userID', 'Track', 'artist', 'genre', '  City  ', 'time', 'Day'], dtype='object')"
      ]
     },
     "execution_count": 6,
     "metadata": {},
     "output_type": "execute_result"
    }
   ],
   "source": [
    "# перечень названий столбцов таблицы df\n",
    "df.columns"
   ]
  },
  {
   "cell_type": "markdown",
   "metadata": {
    "id": "zj5534cv_Zct"
   },
   "source": [
    "Приведите названия в соответствие с хорошим стилем:\n",
    "* несколько слов в названии запишите в «змеином_регистре»,\n",
    "* все символы сделайте строчными,\n",
    "* устраните пробелы.\n",
    "\n",
    "Для этого переименуйте колонки так:\n",
    "* `'  userID'` → `'user_id'`;\n",
    "* `'Track'` → `'track'`;\n",
    "* `'  City  '` → `'city'`;\n",
    "* `'Day'` → `'day'`."
   ]
  },
  {
   "cell_type": "code",
   "execution_count": 7,
   "metadata": {
    "id": "ISlFqs5y_Zct"
   },
   "outputs": [],
   "source": [
    "# переименование столбцов\n",
    "df = df.rename(columns={'  userID': 'user_id',\n",
    "                  'Track': 'track',\n",
    "                  '  City  ': 'city',\n",
    "                  'Day': 'day'})"
   ]
  },
  {
   "cell_type": "code",
   "execution_count": 8,
   "metadata": {
    "id": "d4NOAmTW_Zct"
   },
   "outputs": [
    {
     "data": {
      "text/plain": [
       "Index(['user_id', 'track', 'artist', 'genre', 'city', 'time', 'day'], dtype='object')"
      ]
     },
     "execution_count": 8,
     "metadata": {},
     "output_type": "execute_result"
    }
   ],
   "source": [
    "# проверка результатов - перечень названий столбцов\n",
    "df.columns"
   ]
  },
  {
   "cell_type": "markdown",
   "metadata": {
    "id": "5ISfbcfY_Zct"
   },
   "source": [
    "### Пропуски значений"
   ]
  },
  {
   "cell_type": "code",
   "execution_count": 9,
   "metadata": {
    "id": "RskX29qr_Zct"
   },
   "outputs": [
    {
     "data": {
      "text/plain": [
       "user_id       0\n",
       "track      1231\n",
       "artist     7203\n",
       "genre      1198\n",
       "city          0\n",
       "time          0\n",
       "day           0\n",
       "dtype: int64"
      ]
     },
     "execution_count": 9,
     "metadata": {},
     "output_type": "execute_result"
    }
   ],
   "source": [
    "# подсчёт пропусков\n",
    "df.isna().sum()"
   ]
  },
  {
   "cell_type": "markdown",
   "metadata": {
    "id": "qubhgnlO_Zct"
   },
   "source": [
    "Не все пропущенные значения влияют на исследование. Так в `track` и `artist` пропуски не важны для вашей работы. Достаточно заменить их явными обозначениями.\n",
    "\n",
    "Но пропуски в `genre` могут помешать сравнению музыкальных вкусов в Москве и Санкт-Петербурге. На практике было бы правильно установить причину пропусков и восстановить данные. Такой возможности нет в учебном проекте. Придётся:\n",
    "* заполнить и эти пропуски явными обозначениями,\n",
    "* оценить, насколько они повредят расчётам. "
   ]
  },
  {
   "cell_type": "code",
   "execution_count": 10,
   "metadata": {
    "id": "KplB5qWs_Zct"
   },
   "outputs": [],
   "source": [
    "# перебор названий столбцов в цикле и замена пропущенных значений на 'unknown'\n",
    "columns_to_replace = ['track', 'artist', 'genre']\n",
    "\n",
    "for column in columns_to_replace:\n",
    "    df[column] = df[column].fillna('unknown')"
   ]
  },
  {
   "cell_type": "code",
   "execution_count": 11,
   "metadata": {
    "id": "Tq4nYRX4_Zct"
   },
   "outputs": [
    {
     "data": {
      "text/plain": [
       "user_id    0\n",
       "track      0\n",
       "artist     0\n",
       "genre      0\n",
       "city       0\n",
       "time       0\n",
       "day        0\n",
       "dtype: int64"
      ]
     },
     "execution_count": 11,
     "metadata": {},
     "output_type": "execute_result"
    }
   ],
   "source": [
    "# подсчёт пропусков\n",
    "df.isna().sum()"
   ]
  },
  {
   "cell_type": "markdown",
   "metadata": {
    "id": "BWKRtBJ3_Zct"
   },
   "source": [
    "### Дубликаты"
   ]
  },
  {
   "cell_type": "code",
   "execution_count": 12,
   "metadata": {
    "id": "36eES_S0_Zct"
   },
   "outputs": [
    {
     "data": {
      "text/plain": [
       "3826"
      ]
     },
     "execution_count": 12,
     "metadata": {},
     "output_type": "execute_result"
    }
   ],
   "source": [
    "# подсчёт явных дубликатов\n",
    "df.duplicated().sum()"
   ]
  },
  {
   "cell_type": "code",
   "execution_count": 13,
   "metadata": {
    "id": "exFHq6tt_Zct"
   },
   "outputs": [],
   "source": [
    "# удаление явных дубликатов (с удалением старых индексов и формированием новых)\n",
    "df = df.drop_duplicates().reset_index(drop=True)"
   ]
  },
  {
   "cell_type": "code",
   "execution_count": 14,
   "metadata": {
    "id": "-8PuNWQ0_Zct"
   },
   "outputs": [
    {
     "data": {
      "text/plain": [
       "0"
      ]
     },
     "execution_count": 14,
     "metadata": {},
     "output_type": "execute_result"
    }
   ],
   "source": [
    "# проверка на отсутствие дубликатов\n",
    "df.duplicated().sum()"
   ]
  },
  {
   "cell_type": "code",
   "execution_count": 15,
   "metadata": {
    "id": "JIUcqzZN_Zct"
   },
   "outputs": [
    {
     "data": {
      "text/plain": [
       "array(['acid', 'acoustic', 'action', 'adult', 'africa', 'afrikaans',\n",
       "       'alternative', 'alternativepunk', 'ambient', 'americana',\n",
       "       'animated', 'anime', 'arabesk', 'arabic', 'arena',\n",
       "       'argentinetango', 'art', 'audiobook', 'author', 'avantgarde',\n",
       "       'axé', 'baile', 'balkan', 'beats', 'bigroom', 'black', 'bluegrass',\n",
       "       'blues', 'bollywood', 'bossa', 'brazilian', 'breakbeat', 'breaks',\n",
       "       'broadway', 'cantautori', 'cantopop', 'canzone', 'caribbean',\n",
       "       'caucasian', 'celtic', 'chamber', 'chanson', 'children', 'chill',\n",
       "       'chinese', 'choral', 'christian', 'christmas', 'classical',\n",
       "       'classicmetal', 'club', 'colombian', 'comedy', 'conjazz',\n",
       "       'contemporary', 'country', 'cuban', 'dance', 'dancehall',\n",
       "       'dancepop', 'dark', 'death', 'deep', 'deutschrock', 'deutschspr',\n",
       "       'dirty', 'disco', 'dnb', 'documentary', 'downbeat', 'downtempo',\n",
       "       'drum', 'dub', 'dubstep', 'eastern', 'easy', 'electronic',\n",
       "       'electropop', 'emo', 'entehno', 'epicmetal', 'estrada', 'ethnic',\n",
       "       'eurofolk', 'european', 'experimental', 'extrememetal', 'fado',\n",
       "       'fairytail', 'film', 'fitness', 'flamenco', 'folk', 'folklore',\n",
       "       'folkmetal', 'folkrock', 'folktronica', 'forró', 'frankreich',\n",
       "       'französisch', 'french', 'funk', 'future', 'gangsta', 'garage',\n",
       "       'german', 'ghazal', 'gitarre', 'glitch', 'gospel', 'gothic',\n",
       "       'grime', 'grunge', 'gypsy', 'handsup', \"hard'n'heavy\", 'hardcore',\n",
       "       'hardstyle', 'hardtechno', 'hip', 'hip-hop', 'hiphop',\n",
       "       'historisch', 'holiday', 'hop', 'horror', 'house', 'hymn', 'idm',\n",
       "       'independent', 'indian', 'indie', 'indipop', 'industrial',\n",
       "       'inspirational', 'instrumental', 'international', 'irish', 'jam',\n",
       "       'japanese', 'jazz', 'jewish', 'jpop', 'jungle', 'k-pop',\n",
       "       'karadeniz', 'karaoke', 'kayokyoku', 'korean', 'laiko', 'latin',\n",
       "       'latino', 'leftfield', 'local', 'lounge', 'loungeelectronic',\n",
       "       'lovers', 'malaysian', 'mandopop', 'marschmusik', 'meditative',\n",
       "       'mediterranean', 'melodic', 'metal', 'metalcore', 'mexican',\n",
       "       'middle', 'minimal', 'miscellaneous', 'modern', 'mood', 'mpb',\n",
       "       'muslim', 'native', 'neoklassik', 'neue', 'new', 'newage',\n",
       "       'newwave', 'nu', 'nujazz', 'numetal', 'oceania', 'old', 'opera',\n",
       "       'orchestral', 'other', 'piano', 'podcasts', 'pop', 'popdance',\n",
       "       'popelectronic', 'popeurodance', 'poprussian', 'post',\n",
       "       'posthardcore', 'postrock', 'power', 'progmetal', 'progressive',\n",
       "       'psychedelic', 'punjabi', 'punk', 'quebecois', 'ragga', 'ram',\n",
       "       'rancheras', 'rap', 'rave', 'reggae', 'reggaeton', 'regional',\n",
       "       'relax', 'religious', 'retro', 'rhythm', 'rnb', 'rnr', 'rock',\n",
       "       'rockabilly', 'rockalternative', 'rockindie', 'rockother',\n",
       "       'romance', 'roots', 'ruspop', 'rusrap', 'rusrock', 'russian',\n",
       "       'salsa', 'samba', 'scenic', 'schlager', 'self', 'sertanejo',\n",
       "       'shanson', 'shoegazing', 'showtunes', 'singer', 'ska', 'skarock',\n",
       "       'slow', 'smooth', 'soft', 'soul', 'soulful', 'sound', 'soundtrack',\n",
       "       'southern', 'specialty', 'speech', 'spiritual', 'sport',\n",
       "       'stonerrock', 'surf', 'swing', 'synthpop', 'synthrock',\n",
       "       'sängerportrait', 'tango', 'tanzorchester', 'taraftar', 'tatar',\n",
       "       'tech', 'techno', 'teen', 'thrash', 'top', 'traditional',\n",
       "       'tradjazz', 'trance', 'tribal', 'trip', 'triphop', 'tropical',\n",
       "       'türk', 'türkçe', 'ukrrock', 'unknown', 'urban', 'uzbek',\n",
       "       'variété', 'vi', 'videogame', 'vocal', 'western', 'world',\n",
       "       'worldbeat', 'ïîï', 'электроника'], dtype=object)"
      ]
     },
     "execution_count": 15,
     "metadata": {},
     "output_type": "execute_result"
    }
   ],
   "source": [
    "# просмотр уникальных названий жанров\n",
    "df['genre'].sort_values().unique()"
   ]
  },
  {
   "cell_type": "code",
   "execution_count": 16,
   "metadata": {
    "id": "ErNDkmns_Zct"
   },
   "outputs": [],
   "source": [
    "# функция для замены неявных дубликатов\n",
    "def replace_wrong_genres(wrong_genres, correct_genre):\n",
    "    for wrong_genre in wrong_genres:\n",
    "        df['genre'] = df['genre'].replace(wrong_genre, correct_genre)"
   ]
  },
  {
   "cell_type": "code",
   "execution_count": 17,
   "metadata": {
    "id": "YN5i2hpmSo09"
   },
   "outputs": [],
   "source": [
    "# устранение неявных дубликатов\n",
    "duplicates = ['hip', 'hop', 'hip-hop']\n",
    "\n",
    "genre = 'hiphop'\n",
    "\n",
    "replace_wrong_genres(duplicates, genre)"
   ]
  },
  {
   "cell_type": "code",
   "execution_count": 18,
   "metadata": {
    "id": "wvixALnFG15m"
   },
   "outputs": [
    {
     "data": {
      "text/plain": [
       "array(['acid', 'acoustic', 'action', 'adult', 'africa', 'afrikaans',\n",
       "       'alternative', 'alternativepunk', 'ambient', 'americana',\n",
       "       'animated', 'anime', 'arabesk', 'arabic', 'arena',\n",
       "       'argentinetango', 'art', 'audiobook', 'author', 'avantgarde',\n",
       "       'axé', 'baile', 'balkan', 'beats', 'bigroom', 'black', 'bluegrass',\n",
       "       'blues', 'bollywood', 'bossa', 'brazilian', 'breakbeat', 'breaks',\n",
       "       'broadway', 'cantautori', 'cantopop', 'canzone', 'caribbean',\n",
       "       'caucasian', 'celtic', 'chamber', 'chanson', 'children', 'chill',\n",
       "       'chinese', 'choral', 'christian', 'christmas', 'classical',\n",
       "       'classicmetal', 'club', 'colombian', 'comedy', 'conjazz',\n",
       "       'contemporary', 'country', 'cuban', 'dance', 'dancehall',\n",
       "       'dancepop', 'dark', 'death', 'deep', 'deutschrock', 'deutschspr',\n",
       "       'dirty', 'disco', 'dnb', 'documentary', 'downbeat', 'downtempo',\n",
       "       'drum', 'dub', 'dubstep', 'eastern', 'easy', 'electronic',\n",
       "       'electropop', 'emo', 'entehno', 'epicmetal', 'estrada', 'ethnic',\n",
       "       'eurofolk', 'european', 'experimental', 'extrememetal', 'fado',\n",
       "       'fairytail', 'film', 'fitness', 'flamenco', 'folk', 'folklore',\n",
       "       'folkmetal', 'folkrock', 'folktronica', 'forró', 'frankreich',\n",
       "       'französisch', 'french', 'funk', 'future', 'gangsta', 'garage',\n",
       "       'german', 'ghazal', 'gitarre', 'glitch', 'gospel', 'gothic',\n",
       "       'grime', 'grunge', 'gypsy', 'handsup', \"hard'n'heavy\", 'hardcore',\n",
       "       'hardstyle', 'hardtechno', 'hiphop', 'historisch', 'holiday',\n",
       "       'horror', 'house', 'hymn', 'idm', 'independent', 'indian', 'indie',\n",
       "       'indipop', 'industrial', 'inspirational', 'instrumental',\n",
       "       'international', 'irish', 'jam', 'japanese', 'jazz', 'jewish',\n",
       "       'jpop', 'jungle', 'k-pop', 'karadeniz', 'karaoke', 'kayokyoku',\n",
       "       'korean', 'laiko', 'latin', 'latino', 'leftfield', 'local',\n",
       "       'lounge', 'loungeelectronic', 'lovers', 'malaysian', 'mandopop',\n",
       "       'marschmusik', 'meditative', 'mediterranean', 'melodic', 'metal',\n",
       "       'metalcore', 'mexican', 'middle', 'minimal', 'miscellaneous',\n",
       "       'modern', 'mood', 'mpb', 'muslim', 'native', 'neoklassik', 'neue',\n",
       "       'new', 'newage', 'newwave', 'nu', 'nujazz', 'numetal', 'oceania',\n",
       "       'old', 'opera', 'orchestral', 'other', 'piano', 'podcasts', 'pop',\n",
       "       'popdance', 'popelectronic', 'popeurodance', 'poprussian', 'post',\n",
       "       'posthardcore', 'postrock', 'power', 'progmetal', 'progressive',\n",
       "       'psychedelic', 'punjabi', 'punk', 'quebecois', 'ragga', 'ram',\n",
       "       'rancheras', 'rap', 'rave', 'reggae', 'reggaeton', 'regional',\n",
       "       'relax', 'religious', 'retro', 'rhythm', 'rnb', 'rnr', 'rock',\n",
       "       'rockabilly', 'rockalternative', 'rockindie', 'rockother',\n",
       "       'romance', 'roots', 'ruspop', 'rusrap', 'rusrock', 'russian',\n",
       "       'salsa', 'samba', 'scenic', 'schlager', 'self', 'sertanejo',\n",
       "       'shanson', 'shoegazing', 'showtunes', 'singer', 'ska', 'skarock',\n",
       "       'slow', 'smooth', 'soft', 'soul', 'soulful', 'sound', 'soundtrack',\n",
       "       'southern', 'specialty', 'speech', 'spiritual', 'sport',\n",
       "       'stonerrock', 'surf', 'swing', 'synthpop', 'synthrock',\n",
       "       'sängerportrait', 'tango', 'tanzorchester', 'taraftar', 'tatar',\n",
       "       'tech', 'techno', 'teen', 'thrash', 'top', 'traditional',\n",
       "       'tradjazz', 'trance', 'tribal', 'trip', 'triphop', 'tropical',\n",
       "       'türk', 'türkçe', 'ukrrock', 'unknown', 'urban', 'uzbek',\n",
       "       'variété', 'vi', 'videogame', 'vocal', 'western', 'world',\n",
       "       'worldbeat', 'ïîï', 'электроника'], dtype=object)"
      ]
     },
     "execution_count": 18,
     "metadata": {},
     "output_type": "execute_result"
    }
   ],
   "source": [
    "# проверка на неявные дубликаты\n",
    "df['genre'].sort_values().unique()"
   ]
  },
  {
   "cell_type": "markdown",
   "metadata": {
    "id": "jz6a9-7HQUDd"
   },
   "source": [
    "**Выводы**\n",
    "\n",
    "Предобработка обнаружила три проблемы в данных:\n",
    "\n",
    "- нарушения в стиле заголовков,\n",
    "- пропущенные значения,\n",
    "- дубликаты — явные и неявные.\n",
    "\n",
    "Мы исправили заголовки, чтобы упростить работу с таблицей. Без дубликатов исследование станет более точным.\n",
    "\n",
    "Пропущенные значения мы заменили на `'unknown'`. Ещё предстоит увидеть, не повредят ли исследованию пропуски в колонке `genre`.\n",
    "\n",
    "Теперь можно перейти к проверке гипотез. "
   ]
  },
  {
   "cell_type": "markdown",
   "metadata": {
    "id": "WttZHXH0SqKk"
   },
   "source": [
    "## Проверка гипотез"
   ]
  },
  {
   "cell_type": "markdown",
   "metadata": {
    "id": "Im936VVi_Zcu"
   },
   "source": [
    "### Сравнение поведения пользователей двух столиц"
   ]
  },
  {
   "cell_type": "markdown",
   "metadata": {
    "id": "nwt_MuaL_Zcu"
   },
   "source": [
    "Первая гипотеза утверждает, что пользователи по-разному слушают музыку в Москве и Санкт-Петербурге. Нужно проверить это предположение по данным о трёх днях недели — понедельнике, среде и пятнице. Для этого нужно:\n",
    "\n",
    "* разделить пользователей Москвы и Санкт-Петербурга\n",
    "* сравнить, сколько треков послушала каждая группа пользователей в понедельник, среду и пятницу.\n"
   ]
  },
  {
   "cell_type": "code",
   "execution_count": 19,
   "metadata": {
    "id": "0_Qs96oh_Zcu"
   },
   "outputs": [
    {
     "data": {
      "text/plain": [
       "city\n",
       "Moscow              42741\n",
       "Saint-Petersburg    18512\n",
       "Name: genre, dtype: int64"
      ]
     },
     "execution_count": 19,
     "metadata": {},
     "output_type": "execute_result"
    }
   ],
   "source": [
    "# подсчёт прослушиваний в каждом городе\n",
    "df.groupby('city')['genre'].count()"
   ]
  },
  {
   "cell_type": "markdown",
   "metadata": {
    "id": "dzli3w8o_Zcu"
   },
   "source": [
    "В Москве прослушиваний больше, чем в Петербурге. Из этого не следует, что московские пользователи чаще слушают музыку. Просто самих пользователей в Москве больше.\n",
    "\n",
    "Теперь сгруппируйте данные по дню недели и подсчитайте прослушивания в понедельник, среду и пятницу. Учтите, что в данных есть информация только о прослушиваниях только за эти дни."
   ]
  },
  {
   "cell_type": "code",
   "execution_count": 20,
   "metadata": {
    "id": "uZMKjiJz_Zcu"
   },
   "outputs": [
    {
     "data": {
      "text/plain": [
       "day\n",
       "Friday       21840\n",
       "Monday       21354\n",
       "Wednesday    18059\n",
       "Name: genre, dtype: int64"
      ]
     },
     "execution_count": 20,
     "metadata": {},
     "output_type": "execute_result"
    }
   ],
   "source": [
    "# подсчёт прослушиваний в каждый из трёх дней\n",
    "df.groupby('day')['genre'].count()"
   ]
  },
  {
   "cell_type": "markdown",
   "metadata": {
    "id": "cC2tNrlL_Zcu"
   },
   "source": [
    "В среднем пользователи из двух городов менее активны по средам. Но картина может измениться, если рассмотреть каждый город в отдельности."
   ]
  },
  {
   "cell_type": "code",
   "execution_count": 21,
   "metadata": {
    "id": "Nz3GdQB1_Zcu"
   },
   "outputs": [],
   "source": [
    "# создание функции number_tracks()\n",
    "def number_tracks(day, city):\n",
    "    track_list = df[df['day'] == day]\n",
    "    track_list = track_list[track_list['city'] == city]\n",
    "    track_list_count = track_list.groupby('user_id')['user_id'].count().sum()\n",
    "    return track_list_count"
   ]
  },
  {
   "cell_type": "code",
   "execution_count": 22,
   "metadata": {
    "id": "rJcRATNQ_Zcu"
   },
   "outputs": [
    {
     "data": {
      "text/plain": [
       "15740"
      ]
     },
     "execution_count": 22,
     "metadata": {},
     "output_type": "execute_result"
    }
   ],
   "source": [
    "# количество прослушиваний в Москве по понедельникам\n",
    "\n",
    "day = 'Monday'\n",
    "city = 'Moscow'\n",
    "number_tracks(day, city)"
   ]
  },
  {
   "cell_type": "code",
   "execution_count": 23,
   "metadata": {
    "id": "hq_ncZ5T_Zcu"
   },
   "outputs": [
    {
     "data": {
      "text/plain": [
       "5614"
      ]
     },
     "execution_count": 23,
     "metadata": {},
     "output_type": "execute_result"
    }
   ],
   "source": [
    "# количество прослушиваний в Санкт-Петербурге по понедельникам\n",
    "\n",
    "day = 'Monday'\n",
    "city = 'Saint-Petersburg'\n",
    "number_tracks(day, city)"
   ]
  },
  {
   "cell_type": "code",
   "execution_count": 24,
   "metadata": {
    "id": "_NTy2VPU_Zcu"
   },
   "outputs": [
    {
     "data": {
      "text/plain": [
       "11056"
      ]
     },
     "execution_count": 24,
     "metadata": {},
     "output_type": "execute_result"
    }
   ],
   "source": [
    "# количество прослушиваний в Москве по средам\n",
    "\n",
    "day = 'Wednesday'\n",
    "city = 'Moscow'\n",
    "number_tracks(day, city)"
   ]
  },
  {
   "cell_type": "code",
   "execution_count": 25,
   "metadata": {
    "id": "j2y3TAwo_Zcu"
   },
   "outputs": [
    {
     "data": {
      "text/plain": [
       "7003"
      ]
     },
     "execution_count": 25,
     "metadata": {},
     "output_type": "execute_result"
    }
   ],
   "source": [
    "# количество прослушиваний в Санкт-Петербурге по средам\n",
    "\n",
    "day = 'Wednesday'\n",
    "city = 'Saint-Petersburg'\n",
    "number_tracks(day, city)"
   ]
  },
  {
   "cell_type": "code",
   "execution_count": 26,
   "metadata": {
    "id": "vYDw5u_K_Zcu"
   },
   "outputs": [
    {
     "data": {
      "text/plain": [
       "15945"
      ]
     },
     "execution_count": 26,
     "metadata": {},
     "output_type": "execute_result"
    }
   ],
   "source": [
    "# количество прослушиваний в Москве по пятницам\n",
    "\n",
    "day = 'Friday'\n",
    "city = 'Moscow'\n",
    "number_tracks(day, city)"
   ]
  },
  {
   "cell_type": "code",
   "execution_count": 27,
   "metadata": {
    "id": "8_yzFtW3_Zcu"
   },
   "outputs": [
    {
     "data": {
      "text/plain": [
       "5895"
      ]
     },
     "execution_count": 27,
     "metadata": {},
     "output_type": "execute_result"
    }
   ],
   "source": [
    "# количество прослушиваний в Санкт-Петербурге по пятницам\n",
    "\n",
    "day = 'Friday'\n",
    "city = 'Saint-Petersburg'\n",
    "number_tracks(day, city)"
   ]
  },
  {
   "cell_type": "code",
   "execution_count": 28,
   "metadata": {
    "id": "APAcLpOr_Zcu"
   },
   "outputs": [
    {
     "data": {
      "text/html": [
       "<div>\n",
       "<style scoped>\n",
       "    .dataframe tbody tr th:only-of-type {\n",
       "        vertical-align: middle;\n",
       "    }\n",
       "\n",
       "    .dataframe tbody tr th {\n",
       "        vertical-align: top;\n",
       "    }\n",
       "\n",
       "    .dataframe thead th {\n",
       "        text-align: right;\n",
       "    }\n",
       "</style>\n",
       "<table border=\"1\" class=\"dataframe\">\n",
       "  <thead>\n",
       "    <tr style=\"text-align: right;\">\n",
       "      <th></th>\n",
       "      <th>city</th>\n",
       "      <th>monday</th>\n",
       "      <th>wednesday</th>\n",
       "      <th>friday</th>\n",
       "    </tr>\n",
       "  </thead>\n",
       "  <tbody>\n",
       "    <tr>\n",
       "      <td>0</td>\n",
       "      <td>Moscow</td>\n",
       "      <td>15740</td>\n",
       "      <td>11056</td>\n",
       "      <td>15945</td>\n",
       "    </tr>\n",
       "    <tr>\n",
       "      <td>1</td>\n",
       "      <td>Saint-Petersburg</td>\n",
       "      <td>5614</td>\n",
       "      <td>7003</td>\n",
       "      <td>5895</td>\n",
       "    </tr>\n",
       "  </tbody>\n",
       "</table>\n",
       "</div>"
      ],
      "text/plain": [
       "               city  monday  wednesday  friday\n",
       "0            Moscow   15740      11056   15945\n",
       "1  Saint-Petersburg    5614       7003    5895"
      ]
     },
     "execution_count": 28,
     "metadata": {},
     "output_type": "execute_result"
    }
   ],
   "source": [
    "# таблица с результатами\n",
    "columns = ['city', 'monday', 'wednesday', 'friday']\n",
    "data = [['Moscow', 15740, 11056, 15945],\n",
    "       ['Saint-Petersburg', 5614, 7003, 5895]]\n",
    "pd.DataFrame(data = data, columns = columns)"
   ]
  },
  {
   "cell_type": "markdown",
   "metadata": {
    "id": "-EgPIHYu_Zcu"
   },
   "source": [
    " **Выводы**\n",
    "\n",
    "Данные показывают разницу поведения пользователей:\n",
    "\n",
    "- В Москве пик прослушиваний приходится на понедельник и пятницу, а в среду заметен спад.\n",
    "- В Петербурге, наоборот, больше слушают музыку по средам. Активность в понедельник и пятницу здесь почти в равной мере уступает среде.\n",
    "\n",
    "Значит, данные говорят в пользу первой гипотезы."
   ]
  },
  {
   "cell_type": "markdown",
   "metadata": {
    "id": "atZAxtq4_Zcu"
   },
   "source": [
    "### Музыка в начале и в конце недели"
   ]
  },
  {
   "cell_type": "markdown",
   "metadata": {
    "id": "eXrQqXFH_Zcu"
   },
   "source": [
    "Согласно второй гипотезе, утром в понедельник в Москве преобладают одни жанры, а в Петербурге — другие. Так же и вечером пятницы преобладают разные жанры — в зависимости от города."
   ]
  },
  {
   "cell_type": "code",
   "execution_count": 126,
   "metadata": {
    "id": "qeaFfM_P_Zcu"
   },
   "outputs": [],
   "source": [
    "# получение таблицы moscow_general из тех строк таблицы df, \n",
    "# для которых значение в столбце 'city' равно 'Moscow'\n",
    "\n",
    "moscow_general = df[df['city'] == 'Moscow']"
   ]
  },
  {
   "cell_type": "code",
   "execution_count": 76,
   "metadata": {
    "id": "ORaVRKto_Zcu"
   },
   "outputs": [],
   "source": [
    "# получение таблицы spb_general из тех строк таблицы df,\n",
    "# для которых значение в столбце 'city' равно 'Saint-Petersburg'\n",
    "\n",
    "spb_general = df[df['city'] == 'Saint-Petersburg']"
   ]
  },
  {
   "cell_type": "code",
   "execution_count": 132,
   "metadata": {
    "id": "laJT9BYl_Zcu"
   },
   "outputs": [],
   "source": [
    "# объявление функции genre_weekday() с параметрами table, day, time1, time2\n",
    "\n",
    "def genre_weekday(table, day, time1, time2):\n",
    "    genre_df = table[table['day'] == day]\n",
    "    genre_df = genre_df[genre_df['time'] > time1]\n",
    "    genre_df = genre_df[genre_df['time'] < time2]\n",
    "    \n",
    "    genre_df_count = genre_df.groupby('genre')['user_id'].count()\n",
    "    \n",
    "    genre_df_sorted = genre_df_count.sort_values(ascending=False)\n",
    "    \n",
    "    return genre_df_sorted.head(10)"
   ]
  },
  {
   "cell_type": "markdown",
   "metadata": {
    "id": "la2s2_PF_Zcu"
   },
   "source": [
    "Cравним результаты функции `genre_weekday()` для Москвы и Санкт-Петербурга в понедельник утром (с 7:00 до 11:00) и в пятницу вечером (с 17:00 до 23:00):"
   ]
  },
  {
   "cell_type": "code",
   "execution_count": 133,
   "metadata": {
    "id": "yz7itPUQ_Zcu"
   },
   "outputs": [
    {
     "data": {
      "text/plain": [
       "genre\n",
       "pop            781\n",
       "dance          549\n",
       "electronic     480\n",
       "rock           474\n",
       "hiphop         286\n",
       "ruspop         186\n",
       "world          181\n",
       "rusrap         175\n",
       "alternative    164\n",
       "unknown        161\n",
       "Name: user_id, dtype: int64"
      ]
     },
     "execution_count": 133,
     "metadata": {},
     "output_type": "execute_result"
    }
   ],
   "source": [
    "# вызов функции для утра понедельника в Москве (вместо df — таблица moscow_general)\n",
    "\n",
    "genre_weekday(moscow_general, 'Monday', '07:00', '11:00')"
   ]
  },
  {
   "cell_type": "code",
   "execution_count": 134,
   "metadata": {
    "id": "kwUcHPdy_Zcu"
   },
   "outputs": [
    {
     "data": {
      "text/plain": [
       "genre\n",
       "pop            218\n",
       "dance          182\n",
       "rock           162\n",
       "electronic     147\n",
       "hiphop          80\n",
       "ruspop          64\n",
       "alternative     58\n",
       "rusrap          55\n",
       "jazz            44\n",
       "classical       40\n",
       "Name: user_id, dtype: int64"
      ]
     },
     "execution_count": 134,
     "metadata": {},
     "output_type": "execute_result"
    }
   ],
   "source": [
    "# вызов функции для утра понедельника в Петербурге (вместо df — таблица spb_general)\n",
    "\n",
    "genre_weekday(spb_general, 'Monday', '07:00', '11:00')"
   ]
  },
  {
   "cell_type": "code",
   "execution_count": 135,
   "metadata": {
    "id": "EzXVRE1o_Zcu"
   },
   "outputs": [
    {
     "data": {
      "text/plain": [
       "genre\n",
       "pop            713\n",
       "rock           517\n",
       "dance          495\n",
       "electronic     482\n",
       "hiphop         273\n",
       "world          208\n",
       "ruspop         170\n",
       "alternative    163\n",
       "classical      163\n",
       "rusrap         142\n",
       "Name: user_id, dtype: int64"
      ]
     },
     "execution_count": 135,
     "metadata": {},
     "output_type": "execute_result"
    }
   ],
   "source": [
    "# вызов функции для вечера пятницы в Москве\n",
    "\n",
    "genre_weekday(moscow_general, 'Friday', '17:00', '23:00')"
   ]
  },
  {
   "cell_type": "code",
   "execution_count": 136,
   "metadata": {
    "id": "JZaEKu5v_Zcu"
   },
   "outputs": [
    {
     "data": {
      "text/plain": [
       "genre\n",
       "pop            256\n",
       "rock           216\n",
       "electronic     216\n",
       "dance          210\n",
       "hiphop          97\n",
       "alternative     63\n",
       "jazz            61\n",
       "classical       60\n",
       "rusrap          59\n",
       "world           54\n",
       "Name: user_id, dtype: int64"
      ]
     },
     "execution_count": 136,
     "metadata": {},
     "output_type": "execute_result"
    }
   ],
   "source": [
    "# вызов функции для вечера пятницы в Петербурге\n",
    "\n",
    "genre_weekday(spb_general, 'Friday', '17:00', '23:00')"
   ]
  },
  {
   "cell_type": "markdown",
   "metadata": {
    "id": "wrCe4MNX_Zcu"
   },
   "source": [
    " **Выводы**\n",
    "\n",
    "Если сравнить топ-10 жанров в понедельник утром, можно сделать такие выводы:\n",
    "\n",
    "1. В Москве и Петербурге слушают похожую музыку. Единственное отличие — в московский рейтинг вошёл жанр “world”, а в петербургский — джаз и классика.\n",
    "\n",
    "2. В Москве пропущенных значений оказалось так много, что значение `'unknown'` заняло десятое место среди самых популярных жанров. Значит, пропущенные значения занимают существенную долю в данных и угрожают достоверности исследования.\n",
    "\n",
    "Вечер пятницы не меняет эту картину. Некоторые жанры поднимаются немного выше, другие спускаются, но в целом топ-10 остаётся тем же самым.\n",
    "\n",
    "Таким образом, вторая гипотеза подтвердилась лишь частично:\n",
    "* Пользователи слушают похожую музыку в начале недели и в конце.\n",
    "* Разница между Москвой и Петербургом не слишком выражена. В Москве чаще слушают русскую популярную музыку, в Петербурге — джаз.\n",
    "\n",
    "Однако пропуски в данных ставят под сомнение этот результат. В Москве их так много, что рейтинг топ-10 мог бы выглядеть иначе, если бы не утерянные  данные о жанрах."
   ]
  },
  {
   "cell_type": "markdown",
   "metadata": {
    "id": "JolODAqr_Zcu"
   },
   "source": [
    "### Жанровые предпочтения в Москве и Петербурге\n",
    "\n",
    "Гипотеза: Петербург — столица рэпа, музыку этого жанра там слушают чаще, чем в Москве.  А Москва — город контрастов, в котором, тем не менее, преобладает поп-музыка."
   ]
  },
  {
   "cell_type": "code",
   "execution_count": 32,
   "metadata": {
    "id": "r19lIPke_Zcu"
   },
   "outputs": [],
   "source": [
    "# одной строкой: группировка таблицы moscow_general по столбцу 'genre', \n",
    "# подсчёт числа значений 'genre' в этой группировке методом count(), \n",
    "# сортировка получившегося Series в порядке убывания и сохранение в moscow_genres\n",
    "\n",
    "moscow_genres = moscow_general.groupby('genre')['user_id'].count().sort_values(ascending=False)"
   ]
  },
  {
   "cell_type": "code",
   "execution_count": 34,
   "metadata": {
    "id": "WhCSooF8_Zcv"
   },
   "outputs": [
    {
     "data": {
      "text/plain": [
       "genre\n",
       "pop            5892\n",
       "dance          4435\n",
       "rock           3965\n",
       "electronic     3786\n",
       "hiphop         2096\n",
       "classical      1616\n",
       "world          1432\n",
       "alternative    1379\n",
       "ruspop         1372\n",
       "rusrap         1161\n",
       "Name: user_id, dtype: int64"
      ]
     },
     "metadata": {},
     "output_type": "display_data"
    }
   ],
   "source": [
    "# просмотр первых 10 строк moscow_genres\n",
    "display(moscow_genres.head(10))"
   ]
  },
  {
   "cell_type": "markdown",
   "metadata": {
    "id": "cnPG2vnN_Zcv"
   },
   "source": [
    "Теперь повторим то же и для Петербурга."
   ]
  },
  {
   "cell_type": "code",
   "execution_count": 35,
   "metadata": {
    "id": "gluLIpE7_Zcv"
   },
   "outputs": [],
   "source": [
    "# одной строкой: группировка таблицы spb_general по столбцу 'genre', \n",
    "# подсчёт числа значений 'genre' в этой группировке методом count(), \n",
    "# сортировка получившегося Series в порядке убывания и сохранение в spb_genres\n",
    "\n",
    "spb_genres = spb_general.groupby('genre')['user_id'].count().sort_values(ascending=False)"
   ]
  },
  {
   "cell_type": "code",
   "execution_count": 36,
   "metadata": {
    "id": "uaGJHjVU_Zcv"
   },
   "outputs": [
    {
     "data": {
      "text/plain": [
       "genre\n",
       "pop            2431\n",
       "dance          1932\n",
       "rock           1879\n",
       "electronic     1736\n",
       "hiphop          960\n",
       "alternative     649\n",
       "classical       646\n",
       "rusrap          564\n",
       "ruspop          538\n",
       "world           515\n",
       "Name: user_id, dtype: int64"
      ]
     },
     "metadata": {},
     "output_type": "display_data"
    }
   ],
   "source": [
    "# просмотр первых 10 строк spb_genres\n",
    "display(spb_genres.head(10))"
   ]
  },
  {
   "cell_type": "markdown",
   "metadata": {
    "id": "RY51YJYu_Zcv"
   },
   "source": [
    "**Выводы**"
   ]
  },
  {
   "cell_type": "markdown",
   "metadata": {
    "id": "nVhnJEm__Zcv"
   },
   "source": [
    "Гипотеза частично подтвердилась:\n",
    "* Поп-музыка — самый популярный жанр в Москве, как и предполагала гипотеза. Более того, в топ-10 жанров встречается близкий жанр — русская популярная музыка.\n",
    "* Вопреки ожиданиям, рэп одинаково популярен в Москве и Петербурге. \n"
   ]
  },
  {
   "cell_type": "markdown",
   "metadata": {
    "id": "ykKQ0N65_Zcv"
   },
   "source": [
    "## Итоги исследования"
   ]
  },
  {
   "cell_type": "markdown",
   "metadata": {
    "id": "tjUwbHb3_Zcv"
   },
   "source": [
    "Мы проверили три гипотезы и установили:\n",
    "\n",
    "1. День недели по-разному влияет на активность пользователей в Москве и Петербурге. \n",
    "\n",
    "Первая гипотеза полностью подтвердилась.\n",
    "\n",
    "2. Музыкальные предпочтения не сильно меняются в течение недели — будь то Москва или Петербург. Небольшие различия заметны в начале недели, по понедельникам:\n",
    "* в Москве слушают музыку жанра “world”,\n",
    "* в Петербурге — джаз и классику.\n",
    "\n",
    "Таким образом, вторая гипотеза подтвердилась лишь отчасти. Этот результат мог оказаться иным, если бы не пропуски в данных.\n",
    "\n",
    "3. Во вкусах пользователей Москвы и Петербурга больше общего чем различий. Вопреки ожиданиям, предпочтения жанров в Петербурге напоминают московские.\n",
    "\n",
    "Третья гипотеза не подтвердилась. Если различия в предпочтениях и существуют, на основной массе пользователей они незаметны."
   ]
  },
  {
   "cell_type": "code",
   "execution_count": null,
   "metadata": {},
   "outputs": [],
   "source": []
  }
 ],
 "metadata": {
  "ExecuteTimeLog": [
   {
    "duration": 769,
    "start_time": "2021-12-05T14:28:52.981Z"
   },
   {
    "duration": 208,
    "start_time": "2021-12-05T14:28:55.107Z"
   },
   {
    "duration": 26,
    "start_time": "2021-12-05T14:29:07.899Z"
   },
   {
    "duration": 33,
    "start_time": "2021-12-05T14:40:30.236Z"
   },
   {
    "duration": 32,
    "start_time": "2021-12-05T14:40:34.412Z"
   },
   {
    "duration": 6,
    "start_time": "2021-12-05T14:51:49.901Z"
   },
   {
    "duration": 42,
    "start_time": "2021-12-05T14:54:03.981Z"
   },
   {
    "duration": 6,
    "start_time": "2021-12-05T14:54:21.786Z"
   },
   {
    "duration": 26,
    "start_time": "2021-12-05T14:54:35.452Z"
   },
   {
    "duration": 5,
    "start_time": "2021-12-05T14:54:39.547Z"
   },
   {
    "duration": 31,
    "start_time": "2021-12-05T14:55:16.827Z"
   },
   {
    "duration": 377,
    "start_time": "2021-12-05T14:57:49.750Z"
   },
   {
    "duration": 22,
    "start_time": "2021-12-05T14:58:52.690Z"
   },
   {
    "duration": 32,
    "start_time": "2021-12-05T14:59:08.109Z"
   },
   {
    "duration": 34,
    "start_time": "2021-12-05T14:59:43.956Z"
   },
   {
    "duration": 47,
    "start_time": "2021-12-05T14:59:56.523Z"
   },
   {
    "duration": 61,
    "start_time": "2021-12-05T15:00:08.085Z"
   },
   {
    "duration": 60,
    "start_time": "2021-12-05T15:00:38.650Z"
   },
   {
    "duration": 52,
    "start_time": "2021-12-05T15:00:44.106Z"
   },
   {
    "duration": 30,
    "start_time": "2021-12-05T15:00:47.689Z"
   },
   {
    "duration": 21,
    "start_time": "2021-12-05T15:00:52.225Z"
   },
   {
    "duration": 30,
    "start_time": "2021-12-05T15:00:54.401Z"
   },
   {
    "duration": 293,
    "start_time": "2021-12-05T15:03:52.180Z"
   },
   {
    "duration": 83,
    "start_time": "2021-12-05T15:03:55.891Z"
   },
   {
    "duration": 84,
    "start_time": "2021-12-05T15:04:10.307Z"
   },
   {
    "duration": 82,
    "start_time": "2021-12-05T15:04:14.411Z"
   },
   {
    "duration": 84,
    "start_time": "2021-12-05T15:04:20.394Z"
   },
   {
    "duration": 92,
    "start_time": "2021-12-05T15:04:24.995Z"
   },
   {
    "duration": 113,
    "start_time": "2021-12-05T15:05:41.565Z"
   },
   {
    "duration": 84,
    "start_time": "2021-12-05T15:05:58.134Z"
   },
   {
    "duration": 78,
    "start_time": "2021-12-05T15:06:02.371Z"
   },
   {
    "duration": 89,
    "start_time": "2021-12-05T15:06:07.683Z"
   },
   {
    "duration": 76,
    "start_time": "2021-12-05T15:06:10.067Z"
   },
   {
    "duration": 56,
    "start_time": "2021-12-05T15:07:35.851Z"
   },
   {
    "duration": 58,
    "start_time": "2021-12-05T15:07:50.082Z"
   },
   {
    "duration": 4,
    "start_time": "2021-12-05T15:17:52.260Z"
   },
   {
    "duration": 107,
    "start_time": "2021-12-05T15:19:39.540Z"
   },
   {
    "duration": 14,
    "start_time": "2021-12-05T15:20:03.452Z"
   },
   {
    "duration": 59,
    "start_time": "2021-12-05T15:20:37.899Z"
   },
   {
    "duration": 45,
    "start_time": "2021-12-05T15:24:51.660Z"
   },
   {
    "duration": 14,
    "start_time": "2021-12-05T15:26:08.246Z"
   },
   {
    "duration": 68,
    "start_time": "2021-12-05T15:26:57.820Z"
   },
   {
    "duration": 16,
    "start_time": "2021-12-05T15:27:19.758Z"
   },
   {
    "duration": 5,
    "start_time": "2021-12-05T15:37:32.013Z"
   },
   {
    "duration": 5,
    "start_time": "2021-12-05T15:39:21.453Z"
   },
   {
    "duration": 981,
    "start_time": "2021-12-05T15:39:55.086Z"
   },
   {
    "duration": 309,
    "start_time": "2021-12-05T15:40:28.252Z"
   },
   {
    "duration": 755,
    "start_time": "2021-12-05T15:40:53.167Z"
   },
   {
    "duration": 16,
    "start_time": "2021-12-05T15:44:20.966Z"
   },
   {
    "duration": 16,
    "start_time": "2021-12-05T15:44:28.121Z"
   },
   {
    "duration": 22,
    "start_time": "2021-12-05T15:44:37.782Z"
   },
   {
    "duration": 15,
    "start_time": "2021-12-05T15:47:31.704Z"
   },
   {
    "duration": 33,
    "start_time": "2021-12-05T15:47:37.445Z"
   },
   {
    "duration": 325,
    "start_time": "2021-12-05T15:47:51.231Z"
   },
   {
    "duration": 303,
    "start_time": "2021-12-05T15:47:56.118Z"
   },
   {
    "duration": 35,
    "start_time": "2021-12-05T15:48:00.599Z"
   },
   {
    "duration": 17,
    "start_time": "2021-12-05T15:48:28.084Z"
   },
   {
    "duration": 13,
    "start_time": "2021-12-05T15:48:47.958Z"
   },
   {
    "duration": 325,
    "start_time": "2021-12-06T15:25:32.177Z"
   },
   {
    "duration": 750,
    "start_time": "2021-12-06T15:25:39.511Z"
   },
   {
    "duration": 186,
    "start_time": "2021-12-06T15:25:40.264Z"
   },
   {
    "duration": 31,
    "start_time": "2021-12-06T15:25:40.454Z"
   },
   {
    "duration": 34,
    "start_time": "2021-12-06T15:25:40.488Z"
   },
   {
    "duration": 12,
    "start_time": "2021-12-06T15:25:40.524Z"
   },
   {
    "duration": 51,
    "start_time": "2021-12-06T15:25:40.538Z"
   },
   {
    "duration": 13,
    "start_time": "2021-12-06T15:25:40.592Z"
   },
   {
    "duration": 34,
    "start_time": "2021-12-06T15:25:40.608Z"
   },
   {
    "duration": 23,
    "start_time": "2021-12-06T15:25:40.666Z"
   },
   {
    "duration": 35,
    "start_time": "2021-12-06T15:25:40.693Z"
   },
   {
    "duration": 112,
    "start_time": "2021-12-06T15:25:40.730Z"
   },
   {
    "duration": 118,
    "start_time": "2021-12-06T15:25:40.844Z"
   },
   {
    "duration": 79,
    "start_time": "2021-12-06T15:25:40.965Z"
   },
   {
    "duration": 75,
    "start_time": "2021-12-06T15:25:41.047Z"
   },
   {
    "duration": 4,
    "start_time": "2021-12-06T15:25:41.124Z"
   },
   {
    "duration": 36,
    "start_time": "2021-12-06T15:25:41.131Z"
   },
   {
    "duration": 62,
    "start_time": "2021-12-06T15:25:41.170Z"
   },
   {
    "duration": 33,
    "start_time": "2021-12-06T15:25:41.235Z"
   },
   {
    "duration": 14,
    "start_time": "2021-12-06T15:25:41.270Z"
   },
   {
    "duration": 7,
    "start_time": "2021-12-06T15:25:41.287Z"
   },
   {
    "duration": 627,
    "start_time": "2021-12-06T15:25:41.297Z"
   },
   {
    "duration": 311,
    "start_time": "2021-12-06T15:25:41.616Z"
   },
   {
    "duration": 305,
    "start_time": "2021-12-06T15:25:41.624Z"
   },
   {
    "duration": 303,
    "start_time": "2021-12-06T15:25:41.628Z"
   },
   {
    "duration": 301,
    "start_time": "2021-12-06T15:25:41.631Z"
   },
   {
    "duration": 300,
    "start_time": "2021-12-06T15:25:41.634Z"
   },
   {
    "duration": 295,
    "start_time": "2021-12-06T15:25:41.640Z"
   },
   {
    "duration": 294,
    "start_time": "2021-12-06T15:25:41.643Z"
   },
   {
    "duration": 292,
    "start_time": "2021-12-06T15:25:41.646Z"
   },
   {
    "duration": 290,
    "start_time": "2021-12-06T15:25:41.650Z"
   },
   {
    "duration": 286,
    "start_time": "2021-12-06T15:25:41.656Z"
   },
   {
    "duration": 282,
    "start_time": "2021-12-06T15:25:41.661Z"
   },
   {
    "duration": 281,
    "start_time": "2021-12-06T15:25:41.664Z"
   },
   {
    "duration": 279,
    "start_time": "2021-12-06T15:25:41.667Z"
   },
   {
    "duration": 274,
    "start_time": "2021-12-06T15:25:41.673Z"
   },
   {
    "duration": 272,
    "start_time": "2021-12-06T15:25:41.677Z"
   },
   {
    "duration": 270,
    "start_time": "2021-12-06T15:25:41.681Z"
   },
   {
    "duration": 265,
    "start_time": "2021-12-06T15:25:41.687Z"
   },
   {
    "duration": 5,
    "start_time": "2021-12-06T15:25:54.590Z"
   },
   {
    "duration": 5,
    "start_time": "2021-12-06T15:25:57.640Z"
   },
   {
    "duration": 550,
    "start_time": "2021-12-06T15:26:06.167Z"
   },
   {
    "duration": 20,
    "start_time": "2021-12-06T15:27:01.265Z"
   },
   {
    "duration": 21,
    "start_time": "2021-12-06T15:27:18.338Z"
   },
   {
    "duration": 18,
    "start_time": "2021-12-06T15:27:24.097Z"
   },
   {
    "duration": 14,
    "start_time": "2021-12-06T15:27:31.995Z"
   },
   {
    "duration": 5,
    "start_time": "2021-12-06T15:31:47.181Z"
   },
   {
    "duration": 621,
    "start_time": "2021-12-06T15:31:50.434Z"
   },
   {
    "duration": 27,
    "start_time": "2021-12-06T15:32:34.969Z"
   },
   {
    "duration": 35,
    "start_time": "2021-12-06T15:33:01.414Z"
   },
   {
    "duration": 51,
    "start_time": "2021-12-06T15:33:15.158Z"
   },
   {
    "duration": 39,
    "start_time": "2021-12-06T15:33:26.926Z"
   },
   {
    "duration": 33,
    "start_time": "2021-12-06T15:33:34.041Z"
   },
   {
    "duration": 5,
    "start_time": "2021-12-06T15:33:44.045Z"
   },
   {
    "duration": 2488,
    "start_time": "2021-12-06T15:33:52.722Z"
   },
   {
    "duration": 303,
    "start_time": "2021-12-06T15:34:53.771Z"
   },
   {
    "duration": 36,
    "start_time": "2021-12-06T15:37:54.593Z"
   },
   {
    "duration": 47,
    "start_time": "2021-12-06T15:38:00.168Z"
   },
   {
    "duration": 7,
    "start_time": "2021-12-06T15:38:23.969Z"
   },
   {
    "duration": 35,
    "start_time": "2021-12-06T15:38:27.975Z"
   },
   {
    "duration": 6,
    "start_time": "2021-12-06T15:39:51.207Z"
   },
   {
    "duration": 31,
    "start_time": "2021-12-06T15:39:54.518Z"
   },
   {
    "duration": 40,
    "start_time": "2021-12-06T15:41:26.153Z"
   },
   {
    "duration": 34,
    "start_time": "2021-12-06T15:41:27.702Z"
   },
   {
    "duration": 32,
    "start_time": "2021-12-06T15:41:28.708Z"
   },
   {
    "duration": 27,
    "start_time": "2021-12-06T15:41:30.233Z"
   },
   {
    "duration": 45,
    "start_time": "2021-12-06T15:41:32.972Z"
   },
   {
    "duration": 37,
    "start_time": "2021-12-06T15:41:34.530Z"
   },
   {
    "duration": 275,
    "start_time": "2021-12-06T15:41:40.033Z"
   },
   {
    "duration": 330,
    "start_time": "2021-12-06T15:44:43.787Z"
   },
   {
    "duration": 16,
    "start_time": "2021-12-06T15:46:34.782Z"
   },
   {
    "duration": 16,
    "start_time": "2021-12-06T15:46:36.965Z"
   },
   {
    "duration": 276,
    "start_time": "2021-12-06T15:49:01.678Z"
   },
   {
    "duration": 361,
    "start_time": "2021-12-06T15:49:18.493Z"
   },
   {
    "duration": 276,
    "start_time": "2021-12-06T15:57:28.520Z"
   },
   {
    "duration": 293,
    "start_time": "2021-12-06T15:57:54.157Z"
   },
   {
    "duration": 13,
    "start_time": "2021-12-06T15:58:10.284Z"
   },
   {
    "duration": 12,
    "start_time": "2021-12-06T16:01:48.664Z"
   },
   {
    "duration": 810,
    "start_time": "2021-12-06T16:03:11.763Z"
   },
   {
    "duration": 17,
    "start_time": "2021-12-06T16:04:03.979Z"
   },
   {
    "duration": 15,
    "start_time": "2021-12-06T16:04:06.172Z"
   },
   {
    "duration": 303,
    "start_time": "2021-12-06T16:04:18.660Z"
   },
   {
    "duration": 32,
    "start_time": "2021-12-06T16:04:33.253Z"
   },
   {
    "duration": 14,
    "start_time": "2021-12-06T16:04:41.232Z"
   },
   {
    "duration": 4,
    "start_time": "2021-12-06T16:08:12.096Z"
   },
   {
    "duration": 6,
    "start_time": "2021-12-06T16:08:18.403Z"
   },
   {
    "duration": 42,
    "start_time": "2021-12-06T16:08:34.200Z"
   },
   {
    "duration": 15,
    "start_time": "2021-12-06T16:10:37.048Z"
   },
   {
    "duration": 15,
    "start_time": "2021-12-06T16:10:50.920Z"
   },
   {
    "duration": 6,
    "start_time": "2021-12-06T16:11:03.193Z"
   },
   {
    "duration": 9,
    "start_time": "2021-12-06T16:11:24.582Z"
   },
   {
    "duration": 6,
    "start_time": "2021-12-06T16:11:28.750Z"
   },
   {
    "duration": 13,
    "start_time": "2021-12-06T16:11:38.926Z"
   },
   {
    "duration": 270,
    "start_time": "2021-12-06T20:47:08.586Z"
   },
   {
    "duration": 544,
    "start_time": "2021-12-06T20:47:20.104Z"
   },
   {
    "duration": 116,
    "start_time": "2021-12-06T20:47:20.650Z"
   },
   {
    "duration": 15,
    "start_time": "2021-12-06T20:47:20.767Z"
   },
   {
    "duration": 20,
    "start_time": "2021-12-06T20:47:20.788Z"
   },
   {
    "duration": 4,
    "start_time": "2021-12-06T20:47:20.810Z"
   },
   {
    "duration": 19,
    "start_time": "2021-12-06T20:47:20.815Z"
   },
   {
    "duration": 4,
    "start_time": "2021-12-06T20:47:20.835Z"
   },
   {
    "duration": 21,
    "start_time": "2021-12-06T20:47:20.841Z"
   },
   {
    "duration": 15,
    "start_time": "2021-12-06T20:47:20.888Z"
   },
   {
    "duration": 20,
    "start_time": "2021-12-06T20:47:20.904Z"
   },
   {
    "duration": 63,
    "start_time": "2021-12-06T20:47:20.926Z"
   },
   {
    "duration": 58,
    "start_time": "2021-12-06T20:47:20.990Z"
   },
   {
    "duration": 57,
    "start_time": "2021-12-06T20:47:21.049Z"
   },
   {
    "duration": 37,
    "start_time": "2021-12-06T20:47:21.107Z"
   },
   {
    "duration": 2,
    "start_time": "2021-12-06T20:47:21.146Z"
   },
   {
    "duration": 14,
    "start_time": "2021-12-06T20:47:21.150Z"
   },
   {
    "duration": 52,
    "start_time": "2021-12-06T20:47:21.166Z"
   },
   {
    "duration": 8,
    "start_time": "2021-12-06T20:47:21.220Z"
   },
   {
    "duration": 9,
    "start_time": "2021-12-06T20:47:21.229Z"
   },
   {
    "duration": 3,
    "start_time": "2021-12-06T20:47:21.239Z"
   },
   {
    "duration": 44,
    "start_time": "2021-12-06T20:47:21.244Z"
   },
   {
    "duration": 15,
    "start_time": "2021-12-06T20:47:21.290Z"
   },
   {
    "duration": 18,
    "start_time": "2021-12-06T20:47:21.308Z"
   },
   {
    "duration": 15,
    "start_time": "2021-12-06T20:47:21.328Z"
   },
   {
    "duration": 49,
    "start_time": "2021-12-06T20:47:21.345Z"
   },
   {
    "duration": 17,
    "start_time": "2021-12-06T20:47:21.395Z"
   },
   {
    "duration": 6,
    "start_time": "2021-12-06T20:47:21.413Z"
   },
   {
    "duration": 10,
    "start_time": "2021-12-06T20:47:21.421Z"
   },
   {
    "duration": 7,
    "start_time": "2021-12-06T20:47:21.433Z"
   },
   {
    "duration": 413,
    "start_time": "2021-12-06T20:47:21.441Z"
   },
   {
    "duration": 417,
    "start_time": "2021-12-06T20:47:21.439Z"
   },
   {
    "duration": 409,
    "start_time": "2021-12-06T20:47:21.447Z"
   },
   {
    "duration": 404,
    "start_time": "2021-12-06T20:47:21.453Z"
   },
   {
    "duration": 393,
    "start_time": "2021-12-06T20:47:21.465Z"
   },
   {
    "duration": 389,
    "start_time": "2021-12-06T20:47:21.470Z"
   },
   {
    "duration": 384,
    "start_time": "2021-12-06T20:47:21.476Z"
   },
   {
    "duration": 380,
    "start_time": "2021-12-06T20:47:21.481Z"
   },
   {
    "duration": 378,
    "start_time": "2021-12-06T20:47:21.484Z"
   },
   {
    "duration": 8,
    "start_time": "2021-12-06T20:47:45.932Z"
   },
   {
    "duration": 4,
    "start_time": "2021-12-06T20:47:48.979Z"
   },
   {
    "duration": 4,
    "start_time": "2021-12-06T20:48:17.253Z"
   },
   {
    "duration": 6,
    "start_time": "2021-12-06T20:48:23.325Z"
   },
   {
    "duration": 5,
    "start_time": "2021-12-06T20:48:24.587Z"
   },
   {
    "duration": 4,
    "start_time": "2021-12-06T21:08:48.343Z"
   },
   {
    "duration": 709,
    "start_time": "2021-12-06T21:08:53.205Z"
   },
   {
    "duration": 4,
    "start_time": "2021-12-06T21:09:03.047Z"
   },
   {
    "duration": 468,
    "start_time": "2021-12-06T21:09:06.358Z"
   },
   {
    "duration": 5,
    "start_time": "2021-12-06T21:09:54.203Z"
   },
   {
    "duration": 465,
    "start_time": "2021-12-06T21:09:57.086Z"
   },
   {
    "duration": 3,
    "start_time": "2021-12-06T21:10:32.781Z"
   },
   {
    "duration": 3,
    "start_time": "2021-12-06T21:10:42.568Z"
   },
   {
    "duration": 237,
    "start_time": "2021-12-06T21:11:31.131Z"
   },
   {
    "duration": 3,
    "start_time": "2021-12-06T21:12:01.056Z"
   },
   {
    "duration": 4,
    "start_time": "2021-12-06T21:12:13.406Z"
   },
   {
    "duration": 459,
    "start_time": "2021-12-06T21:12:15.935Z"
   },
   {
    "duration": 2,
    "start_time": "2021-12-06T21:12:51.878Z"
   },
   {
    "duration": 227,
    "start_time": "2021-12-06T21:12:58.334Z"
   },
   {
    "duration": 505,
    "start_time": "2021-12-06T21:13:40.115Z"
   },
   {
    "duration": 3,
    "start_time": "2021-12-06T21:14:07.309Z"
   },
   {
    "duration": 218,
    "start_time": "2021-12-06T21:14:09.806Z"
   },
   {
    "duration": 461,
    "start_time": "2021-12-06T21:14:21.736Z"
   },
   {
    "duration": 4,
    "start_time": "2021-12-06T21:14:32.287Z"
   },
   {
    "duration": 22,
    "start_time": "2021-12-06T21:14:34.407Z"
   },
   {
    "duration": 7,
    "start_time": "2021-12-06T21:14:56.677Z"
   },
   {
    "duration": 471,
    "start_time": "2021-12-06T21:14:58.743Z"
   },
   {
    "duration": 4,
    "start_time": "2021-12-06T21:15:08.752Z"
   },
   {
    "duration": 23,
    "start_time": "2021-12-06T21:15:10.967Z"
   },
   {
    "duration": 14,
    "start_time": "2021-12-06T21:15:45.815Z"
   },
   {
    "duration": 27,
    "start_time": "2021-12-06T21:16:33.442Z"
   },
   {
    "duration": 16,
    "start_time": "2021-12-06T21:16:36.238Z"
   },
   {
    "duration": 4,
    "start_time": "2021-12-06T21:18:24.593Z"
   },
   {
    "duration": 24,
    "start_time": "2021-12-06T21:18:27.807Z"
   },
   {
    "duration": 4,
    "start_time": "2021-12-06T21:18:50.204Z"
   },
   {
    "duration": 33,
    "start_time": "2021-12-06T21:18:52.251Z"
   },
   {
    "duration": 4,
    "start_time": "2021-12-06T21:18:58.913Z"
   },
   {
    "duration": 26,
    "start_time": "2021-12-06T21:19:00.141Z"
   },
   {
    "duration": 16,
    "start_time": "2021-12-06T21:19:05.487Z"
   },
   {
    "duration": 26,
    "start_time": "2021-12-06T21:19:08.694Z"
   },
   {
    "duration": 18,
    "start_time": "2021-12-06T21:19:10.519Z"
   },
   {
    "duration": 19,
    "start_time": "2021-12-06T21:24:20.419Z"
   },
   {
    "duration": 230,
    "start_time": "2021-12-06T21:24:52.990Z"
   },
   {
    "duration": 237,
    "start_time": "2021-12-06T21:25:05.504Z"
   },
   {
    "duration": 10,
    "start_time": "2021-12-06T21:25:24.575Z"
   },
   {
    "duration": 4,
    "start_time": "2021-12-06T21:26:14.538Z"
   },
   {
    "duration": 13,
    "start_time": "2021-12-06T21:29:07.823Z"
   },
   {
    "duration": 21,
    "start_time": "2021-12-06T21:30:21.849Z"
   },
   {
    "duration": 254,
    "start_time": "2021-12-06T21:30:39.048Z"
   },
   {
    "duration": 235,
    "start_time": "2021-12-06T21:30:43.487Z"
   },
   {
    "duration": 14,
    "start_time": "2021-12-06T21:31:02.244Z"
   },
   {
    "duration": 21,
    "start_time": "2021-12-06T21:32:43.600Z"
   },
   {
    "duration": 4,
    "start_time": "2021-12-06T21:32:58.024Z"
   },
   {
    "duration": 25,
    "start_time": "2021-12-06T21:33:00.785Z"
   },
   {
    "duration": 26,
    "start_time": "2021-12-06T21:33:14.094Z"
   },
   {
    "duration": 23,
    "start_time": "2021-12-06T21:33:20.347Z"
   },
   {
    "duration": 35,
    "start_time": "2021-12-06T21:33:24.635Z"
   },
   {
    "duration": 24,
    "start_time": "2021-12-06T21:33:38.082Z"
   },
   {
    "duration": 26,
    "start_time": "2021-12-06T21:33:46.976Z"
   },
   {
    "duration": 19,
    "start_time": "2021-12-06T21:33:52.545Z"
   },
   {
    "duration": 22,
    "start_time": "2021-12-06T21:34:00.122Z"
   },
   {
    "duration": 22,
    "start_time": "2021-12-06T21:34:07.826Z"
   },
   {
    "duration": 23,
    "start_time": "2021-12-06T21:34:17.441Z"
   },
   {
    "duration": 26,
    "start_time": "2021-12-06T21:34:21.169Z"
   },
   {
    "duration": 22,
    "start_time": "2021-12-06T21:34:24.281Z"
   },
   {
    "duration": 4,
    "start_time": "2021-12-06T21:35:27.930Z"
   },
   {
    "duration": 24,
    "start_time": "2021-12-06T21:35:30.360Z"
   },
   {
    "duration": 16,
    "start_time": "2021-12-06T21:35:34.378Z"
   },
   {
    "duration": 25,
    "start_time": "2021-12-06T21:36:02.848Z"
   },
   {
    "duration": 25,
    "start_time": "2021-12-06T21:37:00.625Z"
   },
   {
    "duration": 24,
    "start_time": "2021-12-06T21:37:10.233Z"
   },
   {
    "duration": 25,
    "start_time": "2021-12-06T21:38:15.480Z"
   },
   {
    "duration": 16,
    "start_time": "2021-12-06T21:39:03.698Z"
   },
   {
    "duration": 27,
    "start_time": "2021-12-06T21:40:37.817Z"
   },
   {
    "duration": 3,
    "start_time": "2021-12-06T21:43:01.193Z"
   },
   {
    "duration": 572,
    "start_time": "2021-12-06T21:43:03.738Z"
   },
   {
    "duration": 3,
    "start_time": "2021-12-06T21:43:17.321Z"
   },
   {
    "duration": 24,
    "start_time": "2021-12-06T21:43:19.258Z"
   },
   {
    "duration": 4,
    "start_time": "2021-12-06T21:43:35.000Z"
   },
   {
    "duration": 23,
    "start_time": "2021-12-06T21:43:36.857Z"
   },
   {
    "duration": 23,
    "start_time": "2021-12-06T21:43:41.730Z"
   },
   {
    "duration": 4,
    "start_time": "2021-12-06T21:44:57.648Z"
   },
   {
    "duration": 25,
    "start_time": "2021-12-06T21:44:59.505Z"
   },
   {
    "duration": 4,
    "start_time": "2021-12-06T21:48:29.185Z"
   },
   {
    "duration": 24,
    "start_time": "2021-12-06T21:48:31.522Z"
   },
   {
    "duration": 4,
    "start_time": "2021-12-06T21:48:45.888Z"
   },
   {
    "duration": 23,
    "start_time": "2021-12-06T21:48:47.936Z"
   },
   {
    "duration": 22,
    "start_time": "2021-12-06T21:48:54.544Z"
   },
   {
    "duration": 22,
    "start_time": "2021-12-06T21:48:57.224Z"
   },
   {
    "duration": 4,
    "start_time": "2021-12-06T21:49:24.726Z"
   },
   {
    "duration": 23,
    "start_time": "2021-12-06T21:49:27.895Z"
   },
   {
    "duration": 16,
    "start_time": "2021-12-06T21:49:54.087Z"
   },
   {
    "duration": 25,
    "start_time": "2021-12-06T21:51:22.615Z"
   },
   {
    "duration": 17,
    "start_time": "2021-12-06T21:51:25.688Z"
   },
   {
    "duration": 10,
    "start_time": "2021-12-06T21:52:54.762Z"
   },
   {
    "duration": 3,
    "start_time": "2021-12-06T21:53:02.033Z"
   },
   {
    "duration": 24,
    "start_time": "2021-12-06T21:53:07.085Z"
   },
   {
    "duration": 15,
    "start_time": "2021-12-06T21:53:11.761Z"
   },
   {
    "duration": 41,
    "start_time": "2021-12-06T21:53:29.392Z"
   },
   {
    "duration": 18,
    "start_time": "2021-12-06T21:53:30.994Z"
   },
   {
    "duration": 4,
    "start_time": "2021-12-06T21:57:09.481Z"
   },
   {
    "duration": 16,
    "start_time": "2021-12-06T21:57:11.425Z"
   },
   {
    "duration": 11,
    "start_time": "2021-12-06T21:57:15.193Z"
   },
   {
    "duration": 15,
    "start_time": "2021-12-06T21:57:17.274Z"
   },
   {
    "duration": 11,
    "start_time": "2021-12-06T21:57:19.218Z"
   }
  ],
  "colab": {
   "collapsed_sections": [
    "E0vqbgi9ay0H",
    "VUC88oWjTJw2"
   ],
   "name": "yandex_music_project_2021.2.ipynb",
   "provenance": []
  },
  "kernelspec": {
   "display_name": "Python 3",
   "language": "python",
   "name": "python3"
  },
  "language_info": {
   "codemirror_mode": {
    "name": "ipython",
    "version": 3
   },
   "file_extension": ".py",
   "mimetype": "text/x-python",
   "name": "python",
   "nbconvert_exporter": "python",
   "pygments_lexer": "ipython3",
   "version": "3.8.8"
  },
  "toc": {
   "base_numbering": 1,
   "nav_menu": {},
   "number_sections": true,
   "sideBar": true,
   "skip_h1_title": true,
   "title_cell": "Table of Contents",
   "title_sidebar": "Contents",
   "toc_cell": false,
   "toc_position": {
    "height": "calc(100% - 180px)",
    "left": "10px",
    "top": "150px",
    "width": "236.067px"
   },
   "toc_section_display": true,
   "toc_window_display": true
  }
 },
 "nbformat": 4,
 "nbformat_minor": 1
}
