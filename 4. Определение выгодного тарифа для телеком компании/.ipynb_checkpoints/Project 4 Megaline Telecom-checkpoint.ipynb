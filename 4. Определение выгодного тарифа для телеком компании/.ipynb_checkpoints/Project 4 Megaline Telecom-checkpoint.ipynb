{
 "cells": [
  {
   "cell_type": "markdown",
   "metadata": {},
   "source": [
    "# Определение выгодного тарифа для телеком компании\n",
    "\n",
    "Описание проекта:\n",
    "\n",
    "На основе данных клиентов оператора сотовой связи проанализировать поведение клиентов и поиск оптимального тарифа. Название федерального оператора сотовой связи - «Мегалайн». Клиентам предлагают два тарифных плана: «Смарт» и «Ультра». Чтобы скорректировать рекламный бюджет, коммерческий департамент хочет понять, какой тариф приносит больше денег. В распоряжении данные 500 пользователей «Мегалайна». Нужно проанализировать поведение клиентов и сделать вывод — какой тариф лучше.\n",
    "\n",
    "Описание тарифов:\n",
    "\n",
    "Тариф «Смарт»\n",
    "\n",
    "*    Ежемесячная плата: 550 рублей\n",
    "*    Включено 500 минут разговора, 50 сообщений и 15 Гб интернет-трафика\n",
    "*    Стоимость услуг сверх тарифного пакета: 1. минута разговора: 3 рубля («Мегалайн» всегда округляет вверх значения минут и мегабайтов. Если пользователь проговорил всего 1 секунду, в тарифе засчитывается целая минута); 2. сообщение: 3 рубля; 3. 1 Гб интернет-трафика: 200 рублей.\n",
    "\n",
    "Тариф «Ультра»\n",
    "\n",
    "*    Ежемесячная плата: 1950 рублей\n",
    "*    Включено 3000 минут разговора, 1000 сообщений и 30 Гб интернет-трафика\n",
    "*    Стоимость услуг сверх тарифного пакета: 1. минута разговора: 1 рубль; 2. сообщение: 1 рубль; 3. 1 Гб интернет-трафика: 150 рублей."
   ]
  },
  {
   "cell_type": "markdown",
   "metadata": {},
   "source": [
    "## Изучение данных из файлов"
   ]
  },
  {
   "cell_type": "code",
   "execution_count": 1,
   "metadata": {},
   "outputs": [],
   "source": [
    "# импорт библиотек\n",
    "import pandas as pd\n",
    "import numpy as np\n",
    "from scipy import stats as st\n",
    "\n",
    "import warnings\n",
    "warnings.filterwarnings(action='ignore')\n",
    "\n",
    "from matplotlib import pyplot as plt\n",
    "import seaborn as sns\n",
    "%matplotlib inline\n",
    "\n",
    "from pylab import rcParams"
   ]
  },
  {
   "cell_type": "code",
   "execution_count": 2,
   "metadata": {},
   "outputs": [],
   "source": [
    "# улучшение визуализации кода\n",
    "rcParams['figure.figsize'] = 14,6"
   ]
  },
  {
   "cell_type": "code",
   "execution_count": 3,
   "metadata": {},
   "outputs": [
    {
     "data": {
      "text/html": [
       "<div>\n",
       "<style scoped>\n",
       "    .dataframe tbody tr th:only-of-type {\n",
       "        vertical-align: middle;\n",
       "    }\n",
       "\n",
       "    .dataframe tbody tr th {\n",
       "        vertical-align: top;\n",
       "    }\n",
       "\n",
       "    .dataframe thead th {\n",
       "        text-align: right;\n",
       "    }\n",
       "</style>\n",
       "<table border=\"1\" class=\"dataframe\">\n",
       "  <thead>\n",
       "    <tr style=\"text-align: right;\">\n",
       "      <th></th>\n",
       "      <th>id</th>\n",
       "      <th>call_date</th>\n",
       "      <th>duration</th>\n",
       "      <th>user_id</th>\n",
       "    </tr>\n",
       "  </thead>\n",
       "  <tbody>\n",
       "    <tr>\n",
       "      <td>0</td>\n",
       "      <td>1000_0</td>\n",
       "      <td>2018-07-25</td>\n",
       "      <td>0.00</td>\n",
       "      <td>1000</td>\n",
       "    </tr>\n",
       "    <tr>\n",
       "      <td>1</td>\n",
       "      <td>1000_1</td>\n",
       "      <td>2018-08-17</td>\n",
       "      <td>0.00</td>\n",
       "      <td>1000</td>\n",
       "    </tr>\n",
       "    <tr>\n",
       "      <td>2</td>\n",
       "      <td>1000_2</td>\n",
       "      <td>2018-06-11</td>\n",
       "      <td>2.85</td>\n",
       "      <td>1000</td>\n",
       "    </tr>\n",
       "    <tr>\n",
       "      <td>3</td>\n",
       "      <td>1000_3</td>\n",
       "      <td>2018-09-21</td>\n",
       "      <td>13.80</td>\n",
       "      <td>1000</td>\n",
       "    </tr>\n",
       "    <tr>\n",
       "      <td>4</td>\n",
       "      <td>1000_4</td>\n",
       "      <td>2018-12-15</td>\n",
       "      <td>5.18</td>\n",
       "      <td>1000</td>\n",
       "    </tr>\n",
       "  </tbody>\n",
       "</table>\n",
       "</div>"
      ],
      "text/plain": [
       "       id   call_date  duration  user_id\n",
       "0  1000_0  2018-07-25      0.00     1000\n",
       "1  1000_1  2018-08-17      0.00     1000\n",
       "2  1000_2  2018-06-11      2.85     1000\n",
       "3  1000_3  2018-09-21     13.80     1000\n",
       "4  1000_4  2018-12-15      5.18     1000"
      ]
     },
     "metadata": {},
     "output_type": "display_data"
    },
    {
     "name": "stdout",
     "output_type": "stream",
     "text": [
      "<class 'pandas.core.frame.DataFrame'>\n",
      "RangeIndex: 202607 entries, 0 to 202606\n",
      "Data columns (total 4 columns):\n",
      "id           202607 non-null object\n",
      "call_date    202607 non-null object\n",
      "duration     202607 non-null float64\n",
      "user_id      202607 non-null int64\n",
      "dtypes: float64(1), int64(1), object(2)\n",
      "memory usage: 6.2+ MB\n"
     ]
    }
   ],
   "source": [
    "# чтение файла с данными\n",
    "calls = pd.read_csv('https://code.s3.yandex.net/datasets/calls.csv')\n",
    "display(calls.head())\n",
    "calls.info()"
   ]
  },
  {
   "cell_type": "code",
   "execution_count": 4,
   "metadata": {},
   "outputs": [
    {
     "data": {
      "text/html": [
       "<div>\n",
       "<style scoped>\n",
       "    .dataframe tbody tr th:only-of-type {\n",
       "        vertical-align: middle;\n",
       "    }\n",
       "\n",
       "    .dataframe tbody tr th {\n",
       "        vertical-align: top;\n",
       "    }\n",
       "\n",
       "    .dataframe thead th {\n",
       "        text-align: right;\n",
       "    }\n",
       "</style>\n",
       "<table border=\"1\" class=\"dataframe\">\n",
       "  <thead>\n",
       "    <tr style=\"text-align: right;\">\n",
       "      <th></th>\n",
       "      <th>Unnamed: 0</th>\n",
       "      <th>id</th>\n",
       "      <th>mb_used</th>\n",
       "      <th>session_date</th>\n",
       "      <th>user_id</th>\n",
       "    </tr>\n",
       "  </thead>\n",
       "  <tbody>\n",
       "    <tr>\n",
       "      <td>0</td>\n",
       "      <td>0</td>\n",
       "      <td>1000_0</td>\n",
       "      <td>112.95</td>\n",
       "      <td>2018-11-25</td>\n",
       "      <td>1000</td>\n",
       "    </tr>\n",
       "    <tr>\n",
       "      <td>1</td>\n",
       "      <td>1</td>\n",
       "      <td>1000_1</td>\n",
       "      <td>1052.81</td>\n",
       "      <td>2018-09-07</td>\n",
       "      <td>1000</td>\n",
       "    </tr>\n",
       "    <tr>\n",
       "      <td>2</td>\n",
       "      <td>2</td>\n",
       "      <td>1000_2</td>\n",
       "      <td>1197.26</td>\n",
       "      <td>2018-06-25</td>\n",
       "      <td>1000</td>\n",
       "    </tr>\n",
       "    <tr>\n",
       "      <td>3</td>\n",
       "      <td>3</td>\n",
       "      <td>1000_3</td>\n",
       "      <td>550.27</td>\n",
       "      <td>2018-08-22</td>\n",
       "      <td>1000</td>\n",
       "    </tr>\n",
       "    <tr>\n",
       "      <td>4</td>\n",
       "      <td>4</td>\n",
       "      <td>1000_4</td>\n",
       "      <td>302.56</td>\n",
       "      <td>2018-09-24</td>\n",
       "      <td>1000</td>\n",
       "    </tr>\n",
       "  </tbody>\n",
       "</table>\n",
       "</div>"
      ],
      "text/plain": [
       "   Unnamed: 0      id  mb_used session_date  user_id\n",
       "0           0  1000_0   112.95   2018-11-25     1000\n",
       "1           1  1000_1  1052.81   2018-09-07     1000\n",
       "2           2  1000_2  1197.26   2018-06-25     1000\n",
       "3           3  1000_3   550.27   2018-08-22     1000\n",
       "4           4  1000_4   302.56   2018-09-24     1000"
      ]
     },
     "metadata": {},
     "output_type": "display_data"
    },
    {
     "name": "stdout",
     "output_type": "stream",
     "text": [
      "<class 'pandas.core.frame.DataFrame'>\n",
      "RangeIndex: 149396 entries, 0 to 149395\n",
      "Data columns (total 5 columns):\n",
      "Unnamed: 0      149396 non-null int64\n",
      "id              149396 non-null object\n",
      "mb_used         149396 non-null float64\n",
      "session_date    149396 non-null object\n",
      "user_id         149396 non-null int64\n",
      "dtypes: float64(1), int64(2), object(2)\n",
      "memory usage: 5.7+ MB\n"
     ]
    }
   ],
   "source": [
    "# чтение файла с данными\n",
    "internet = pd.read_csv('https://code.s3.yandex.net/datasets/internet.csv')\n",
    "display(internet.head())\n",
    "internet.info()"
   ]
  },
  {
   "cell_type": "code",
   "execution_count": 5,
   "metadata": {},
   "outputs": [
    {
     "data": {
      "text/html": [
       "<div>\n",
       "<style scoped>\n",
       "    .dataframe tbody tr th:only-of-type {\n",
       "        vertical-align: middle;\n",
       "    }\n",
       "\n",
       "    .dataframe tbody tr th {\n",
       "        vertical-align: top;\n",
       "    }\n",
       "\n",
       "    .dataframe thead th {\n",
       "        text-align: right;\n",
       "    }\n",
       "</style>\n",
       "<table border=\"1\" class=\"dataframe\">\n",
       "  <thead>\n",
       "    <tr style=\"text-align: right;\">\n",
       "      <th></th>\n",
       "      <th>id</th>\n",
       "      <th>message_date</th>\n",
       "      <th>user_id</th>\n",
       "    </tr>\n",
       "  </thead>\n",
       "  <tbody>\n",
       "    <tr>\n",
       "      <td>0</td>\n",
       "      <td>1000_0</td>\n",
       "      <td>2018-06-27</td>\n",
       "      <td>1000</td>\n",
       "    </tr>\n",
       "    <tr>\n",
       "      <td>1</td>\n",
       "      <td>1000_1</td>\n",
       "      <td>2018-10-08</td>\n",
       "      <td>1000</td>\n",
       "    </tr>\n",
       "    <tr>\n",
       "      <td>2</td>\n",
       "      <td>1000_2</td>\n",
       "      <td>2018-08-04</td>\n",
       "      <td>1000</td>\n",
       "    </tr>\n",
       "    <tr>\n",
       "      <td>3</td>\n",
       "      <td>1000_3</td>\n",
       "      <td>2018-06-16</td>\n",
       "      <td>1000</td>\n",
       "    </tr>\n",
       "    <tr>\n",
       "      <td>4</td>\n",
       "      <td>1000_4</td>\n",
       "      <td>2018-12-05</td>\n",
       "      <td>1000</td>\n",
       "    </tr>\n",
       "  </tbody>\n",
       "</table>\n",
       "</div>"
      ],
      "text/plain": [
       "       id message_date  user_id\n",
       "0  1000_0   2018-06-27     1000\n",
       "1  1000_1   2018-10-08     1000\n",
       "2  1000_2   2018-08-04     1000\n",
       "3  1000_3   2018-06-16     1000\n",
       "4  1000_4   2018-12-05     1000"
      ]
     },
     "metadata": {},
     "output_type": "display_data"
    },
    {
     "name": "stdout",
     "output_type": "stream",
     "text": [
      "<class 'pandas.core.frame.DataFrame'>\n",
      "RangeIndex: 123036 entries, 0 to 123035\n",
      "Data columns (total 3 columns):\n",
      "id              123036 non-null object\n",
      "message_date    123036 non-null object\n",
      "user_id         123036 non-null int64\n",
      "dtypes: int64(1), object(2)\n",
      "memory usage: 2.8+ MB\n"
     ]
    }
   ],
   "source": [
    "# чтение файла с данными\n",
    "messages = pd.read_csv('https://code.s3.yandex.net/datasets/messages.csv')\n",
    "display(messages.head())\n",
    "messages.info()"
   ]
  },
  {
   "cell_type": "code",
   "execution_count": 6,
   "metadata": {},
   "outputs": [
    {
     "data": {
      "text/html": [
       "<div>\n",
       "<style scoped>\n",
       "    .dataframe tbody tr th:only-of-type {\n",
       "        vertical-align: middle;\n",
       "    }\n",
       "\n",
       "    .dataframe tbody tr th {\n",
       "        vertical-align: top;\n",
       "    }\n",
       "\n",
       "    .dataframe thead th {\n",
       "        text-align: right;\n",
       "    }\n",
       "</style>\n",
       "<table border=\"1\" class=\"dataframe\">\n",
       "  <thead>\n",
       "    <tr style=\"text-align: right;\">\n",
       "      <th></th>\n",
       "      <th>messages_included</th>\n",
       "      <th>mb_per_month_included</th>\n",
       "      <th>minutes_included</th>\n",
       "      <th>rub_monthly_fee</th>\n",
       "      <th>rub_per_gb</th>\n",
       "      <th>rub_per_message</th>\n",
       "      <th>rub_per_minute</th>\n",
       "      <th>tariff_name</th>\n",
       "    </tr>\n",
       "  </thead>\n",
       "  <tbody>\n",
       "    <tr>\n",
       "      <td>0</td>\n",
       "      <td>50</td>\n",
       "      <td>15360</td>\n",
       "      <td>500</td>\n",
       "      <td>550</td>\n",
       "      <td>200</td>\n",
       "      <td>3</td>\n",
       "      <td>3</td>\n",
       "      <td>smart</td>\n",
       "    </tr>\n",
       "    <tr>\n",
       "      <td>1</td>\n",
       "      <td>1000</td>\n",
       "      <td>30720</td>\n",
       "      <td>3000</td>\n",
       "      <td>1950</td>\n",
       "      <td>150</td>\n",
       "      <td>1</td>\n",
       "      <td>1</td>\n",
       "      <td>ultra</td>\n",
       "    </tr>\n",
       "  </tbody>\n",
       "</table>\n",
       "</div>"
      ],
      "text/plain": [
       "   messages_included  mb_per_month_included  minutes_included  \\\n",
       "0                 50                  15360               500   \n",
       "1               1000                  30720              3000   \n",
       "\n",
       "   rub_monthly_fee  rub_per_gb  rub_per_message  rub_per_minute tariff_name  \n",
       "0              550         200                3               3       smart  \n",
       "1             1950         150                1               1       ultra  "
      ]
     },
     "metadata": {},
     "output_type": "display_data"
    },
    {
     "name": "stdout",
     "output_type": "stream",
     "text": [
      "<class 'pandas.core.frame.DataFrame'>\n",
      "RangeIndex: 2 entries, 0 to 1\n",
      "Data columns (total 8 columns):\n",
      "messages_included        2 non-null int64\n",
      "mb_per_month_included    2 non-null int64\n",
      "minutes_included         2 non-null int64\n",
      "rub_monthly_fee          2 non-null int64\n",
      "rub_per_gb               2 non-null int64\n",
      "rub_per_message          2 non-null int64\n",
      "rub_per_minute           2 non-null int64\n",
      "tariff_name              2 non-null object\n",
      "dtypes: int64(7), object(1)\n",
      "memory usage: 256.0+ bytes\n"
     ]
    }
   ],
   "source": [
    "# чтение файла с данными\n",
    "tariffs = pd.read_csv('https://code.s3.yandex.net/datasets/tariffs.csv')\n",
    "display(tariffs.head())\n",
    "tariffs.info()"
   ]
  },
  {
   "cell_type": "code",
   "execution_count": 7,
   "metadata": {},
   "outputs": [
    {
     "data": {
      "text/html": [
       "<div>\n",
       "<style scoped>\n",
       "    .dataframe tbody tr th:only-of-type {\n",
       "        vertical-align: middle;\n",
       "    }\n",
       "\n",
       "    .dataframe tbody tr th {\n",
       "        vertical-align: top;\n",
       "    }\n",
       "\n",
       "    .dataframe thead th {\n",
       "        text-align: right;\n",
       "    }\n",
       "</style>\n",
       "<table border=\"1\" class=\"dataframe\">\n",
       "  <thead>\n",
       "    <tr style=\"text-align: right;\">\n",
       "      <th></th>\n",
       "      <th>messages_included</th>\n",
       "      <th>mb_per_month_included</th>\n",
       "      <th>minutes_included</th>\n",
       "      <th>rub_monthly_fee</th>\n",
       "      <th>rub_per_gb</th>\n",
       "      <th>rub_per_message</th>\n",
       "      <th>rub_per_minute</th>\n",
       "      <th>tariff_name</th>\n",
       "      <th>gb_per_month_included</th>\n",
       "    </tr>\n",
       "  </thead>\n",
       "  <tbody>\n",
       "    <tr>\n",
       "      <td>0</td>\n",
       "      <td>50</td>\n",
       "      <td>15360</td>\n",
       "      <td>500</td>\n",
       "      <td>550</td>\n",
       "      <td>200</td>\n",
       "      <td>3</td>\n",
       "      <td>3</td>\n",
       "      <td>smart</td>\n",
       "      <td>15.0</td>\n",
       "    </tr>\n",
       "    <tr>\n",
       "      <td>1</td>\n",
       "      <td>1000</td>\n",
       "      <td>30720</td>\n",
       "      <td>3000</td>\n",
       "      <td>1950</td>\n",
       "      <td>150</td>\n",
       "      <td>1</td>\n",
       "      <td>1</td>\n",
       "      <td>ultra</td>\n",
       "      <td>30.0</td>\n",
       "    </tr>\n",
       "  </tbody>\n",
       "</table>\n",
       "</div>"
      ],
      "text/plain": [
       "   messages_included  mb_per_month_included  minutes_included  \\\n",
       "0                 50                  15360               500   \n",
       "1               1000                  30720              3000   \n",
       "\n",
       "   rub_monthly_fee  rub_per_gb  rub_per_message  rub_per_minute tariff_name  \\\n",
       "0              550         200                3               3       smart   \n",
       "1             1950         150                1               1       ultra   \n",
       "\n",
       "   gb_per_month_included  \n",
       "0                   15.0  \n",
       "1                   30.0  "
      ]
     },
     "execution_count": 7,
     "metadata": {},
     "output_type": "execute_result"
    }
   ],
   "source": [
    "# добавление столбца с гигабайтами\n",
    "tariffs['gb_per_month_included'] = tariffs.mb_per_month_included / 1024\n",
    "tariffs"
   ]
  },
  {
   "cell_type": "code",
   "execution_count": 8,
   "metadata": {},
   "outputs": [
    {
     "data": {
      "text/html": [
       "<div>\n",
       "<style scoped>\n",
       "    .dataframe tbody tr th:only-of-type {\n",
       "        vertical-align: middle;\n",
       "    }\n",
       "\n",
       "    .dataframe tbody tr th {\n",
       "        vertical-align: top;\n",
       "    }\n",
       "\n",
       "    .dataframe thead th {\n",
       "        text-align: right;\n",
       "    }\n",
       "</style>\n",
       "<table border=\"1\" class=\"dataframe\">\n",
       "  <thead>\n",
       "    <tr style=\"text-align: right;\">\n",
       "      <th></th>\n",
       "      <th>user_id</th>\n",
       "      <th>age</th>\n",
       "      <th>churn_date</th>\n",
       "      <th>city</th>\n",
       "      <th>first_name</th>\n",
       "      <th>last_name</th>\n",
       "      <th>reg_date</th>\n",
       "      <th>tariff</th>\n",
       "    </tr>\n",
       "  </thead>\n",
       "  <tbody>\n",
       "    <tr>\n",
       "      <td>0</td>\n",
       "      <td>1000</td>\n",
       "      <td>52</td>\n",
       "      <td>NaN</td>\n",
       "      <td>Краснодар</td>\n",
       "      <td>Рафаил</td>\n",
       "      <td>Верещагин</td>\n",
       "      <td>2018-05-25</td>\n",
       "      <td>ultra</td>\n",
       "    </tr>\n",
       "    <tr>\n",
       "      <td>1</td>\n",
       "      <td>1001</td>\n",
       "      <td>41</td>\n",
       "      <td>NaN</td>\n",
       "      <td>Москва</td>\n",
       "      <td>Иван</td>\n",
       "      <td>Ежов</td>\n",
       "      <td>2018-11-01</td>\n",
       "      <td>smart</td>\n",
       "    </tr>\n",
       "    <tr>\n",
       "      <td>2</td>\n",
       "      <td>1002</td>\n",
       "      <td>59</td>\n",
       "      <td>NaN</td>\n",
       "      <td>Стерлитамак</td>\n",
       "      <td>Евгений</td>\n",
       "      <td>Абрамович</td>\n",
       "      <td>2018-06-17</td>\n",
       "      <td>smart</td>\n",
       "    </tr>\n",
       "    <tr>\n",
       "      <td>3</td>\n",
       "      <td>1003</td>\n",
       "      <td>23</td>\n",
       "      <td>NaN</td>\n",
       "      <td>Москва</td>\n",
       "      <td>Белла</td>\n",
       "      <td>Белякова</td>\n",
       "      <td>2018-08-17</td>\n",
       "      <td>ultra</td>\n",
       "    </tr>\n",
       "    <tr>\n",
       "      <td>4</td>\n",
       "      <td>1004</td>\n",
       "      <td>68</td>\n",
       "      <td>NaN</td>\n",
       "      <td>Новокузнецк</td>\n",
       "      <td>Татьяна</td>\n",
       "      <td>Авдеенко</td>\n",
       "      <td>2018-05-14</td>\n",
       "      <td>ultra</td>\n",
       "    </tr>\n",
       "  </tbody>\n",
       "</table>\n",
       "</div>"
      ],
      "text/plain": [
       "   user_id  age churn_date         city first_name  last_name    reg_date  \\\n",
       "0     1000   52        NaN    Краснодар     Рафаил  Верещагин  2018-05-25   \n",
       "1     1001   41        NaN       Москва       Иван       Ежов  2018-11-01   \n",
       "2     1002   59        NaN  Стерлитамак    Евгений  Абрамович  2018-06-17   \n",
       "3     1003   23        NaN       Москва      Белла   Белякова  2018-08-17   \n",
       "4     1004   68        NaN  Новокузнецк    Татьяна   Авдеенко  2018-05-14   \n",
       "\n",
       "  tariff  \n",
       "0  ultra  \n",
       "1  smart  \n",
       "2  smart  \n",
       "3  ultra  \n",
       "4  ultra  "
      ]
     },
     "metadata": {},
     "output_type": "display_data"
    },
    {
     "name": "stdout",
     "output_type": "stream",
     "text": [
      "<class 'pandas.core.frame.DataFrame'>\n",
      "RangeIndex: 500 entries, 0 to 499\n",
      "Data columns (total 8 columns):\n",
      "user_id       500 non-null int64\n",
      "age           500 non-null int64\n",
      "churn_date    38 non-null object\n",
      "city          500 non-null object\n",
      "first_name    500 non-null object\n",
      "last_name     500 non-null object\n",
      "reg_date      500 non-null object\n",
      "tariff        500 non-null object\n",
      "dtypes: int64(2), object(6)\n",
      "memory usage: 31.4+ KB\n"
     ]
    }
   ],
   "source": [
    "# чтение файла с данными\n",
    "users = pd.read_csv('https://code.s3.yandex.net/datasets/users.csv')\n",
    "display(users.head())\n",
    "users.info()"
   ]
  },
  {
   "cell_type": "code",
   "execution_count": 9,
   "metadata": {},
   "outputs": [
    {
     "data": {
      "text/plain": [
       "user_id         0\n",
       "age             0\n",
       "churn_date    462\n",
       "city            0\n",
       "first_name      0\n",
       "last_name       0\n",
       "reg_date        0\n",
       "tariff          0\n",
       "dtype: int64"
      ]
     },
     "metadata": {},
     "output_type": "display_data"
    }
   ],
   "source": [
    "# подсчёт пропусков\n",
    "display(users.isna().sum())"
   ]
  },
  {
   "cell_type": "code",
   "execution_count": 10,
   "metadata": {},
   "outputs": [
    {
     "data": {
      "text/plain": [
       "0"
      ]
     },
     "metadata": {},
     "output_type": "display_data"
    },
    {
     "data": {
      "text/plain": [
       "0"
      ]
     },
     "metadata": {},
     "output_type": "display_data"
    },
    {
     "data": {
      "text/plain": [
       "0"
      ]
     },
     "metadata": {},
     "output_type": "display_data"
    },
    {
     "data": {
      "text/plain": [
       "0"
      ]
     },
     "metadata": {},
     "output_type": "display_data"
    }
   ],
   "source": [
    "# наличие дубликатов в таблице\n",
    "display(users.duplicated().sum())\n",
    "display(calls.duplicated().sum())\n",
    "display(messages.duplicated().sum())\n",
    "display(internet.duplicated().sum())"
   ]
  },
  {
   "cell_type": "markdown",
   "metadata": {},
   "source": [
    "### Вывод"
   ]
  },
  {
   "cell_type": "markdown",
   "metadata": {},
   "source": [
    "В данном проекте имеются 5 датасетов, в которых содержится следующая информация:\n",
    "\n",
    "Таблица users (информация о пользователях):\n",
    "\n",
    "*    user_id — уникальный идентификатор пользователя\n",
    "*    first_name — имя пользователя\n",
    "*   last_name — фамилия пользователя\n",
    "*    age — возраст пользователя (годы)\n",
    "*    reg_date — дата подключения тарифа (день, месяц, год)\n",
    "*    churn_date — дата прекращения пользования тарифом (если значение пропущено, то тариф ещё действовал на момент выгрузки данных)\n",
    "*    city — город проживания пользователя\n",
    "*    tarif — название тарифного плана\n",
    "\n",
    "Таблица calls (информация о звонках):\n",
    "\n",
    "*    id — уникальный номер звонка\n",
    "*    call_date — дата звонка\n",
    "*    duration — длительность звонка в минутах\n",
    "*    user_id — идентификатор пользователя, сделавшего звонок\n",
    "\n",
    "Таблица messages (информация о сообщениях):\n",
    "\n",
    "*    id — уникальный номер сообщения\n",
    "*    message_date — дата сообщения\n",
    "*    user_id — идентификатор пользователя, отправившего сообщение\n",
    "\n",
    "Таблица internet (информация об интернет-сессиях):\n",
    "\n",
    "*    id — уникальный номер сессии\n",
    "*    mb_used — объём потраченного за сессию интернет-трафика (в мегабайтах)\n",
    "*    session_date — дата интернет-сессии\n",
    "*    user_id — идентификатор пользователя\n",
    "\n",
    "Таблица tariffs (информация о тарифах):\n",
    "\n",
    "*    tariff_name — название тарифа\n",
    "*    rub_monthly_fee — ежемесячная абонентская плата в рублях\n",
    "*    minutes_included — количество минут разговора в месяц, включённых в абонентскую плату\n",
    "*    messages_included — количество сообщений в месяц, включённых в абонентскую плату\n",
    "*    mb_per_month_included — объём интернет-трафика, включённого в абонентскую плату (в мегабайтах)\n",
    "*    rub_per_minute — стоимость минуты разговора сверх тарифного пакета (например, если в тарифе 100 минут разговора в месяц, то со 101 минуты будет взиматься плата)\n",
    "*    rub_per_message — стоимость отправки сообщения сверх тарифного пакета\n",
    "*    rub_per_gb — стоимость дополнительного гигабайта интернет-трафика сверх тарифного пакета (1 гигабайт = 1024 мегабайта)\n",
    "\n",
    "В таблице с информацией о пользователях есть большое количество (462) пропущенных значений с датой прекращения пользования тарифом. Это обусловлено тем, что клиенты по-прежнему пользуются услугами мобильной связи, поэтому значения столбца не требуют заполнения. Во всех остальных столбцах все значения заполнены. Типы данных - 'object', 'float64' и 'int64'.\n",
    "\n",
    "Дубликаты в таблицах не были обнаружены. \n"
   ]
  },
  {
   "cell_type": "markdown",
   "metadata": {},
   "source": [
    "## Предобработка данных"
   ]
  },
  {
   "cell_type": "markdown",
   "metadata": {},
   "source": [
    "*    Приведите данные к нужным типам;\n",
    "*    Найдите и исправьте ошибки в данных, если они есть."
   ]
  },
  {
   "cell_type": "markdown",
   "metadata": {},
   "source": [
    "### Наличие ошибок в данных"
   ]
  },
  {
   "cell_type": "code",
   "execution_count": 13,
   "metadata": {},
   "outputs": [
    {
     "data": {
      "text/html": [
       "<div>\n",
       "<style scoped>\n",
       "    .dataframe tbody tr th:only-of-type {\n",
       "        vertical-align: middle;\n",
       "    }\n",
       "\n",
       "    .dataframe tbody tr th {\n",
       "        vertical-align: top;\n",
       "    }\n",
       "\n",
       "    .dataframe thead th {\n",
       "        text-align: right;\n",
       "    }\n",
       "</style>\n",
       "<table border=\"1\" class=\"dataframe\">\n",
       "  <thead>\n",
       "    <tr style=\"text-align: right;\">\n",
       "      <th></th>\n",
       "      <th>id</th>\n",
       "      <th>call_date</th>\n",
       "      <th>duration</th>\n",
       "      <th>user_id</th>\n",
       "    </tr>\n",
       "  </thead>\n",
       "  <tbody>\n",
       "    <tr>\n",
       "      <td>count</td>\n",
       "      <td>202607</td>\n",
       "      <td>202607</td>\n",
       "      <td>202607.000000</td>\n",
       "      <td>202607.000000</td>\n",
       "    </tr>\n",
       "    <tr>\n",
       "      <td>unique</td>\n",
       "      <td>202607</td>\n",
       "      <td>365</td>\n",
       "      <td>NaN</td>\n",
       "      <td>NaN</td>\n",
       "    </tr>\n",
       "    <tr>\n",
       "      <td>top</td>\n",
       "      <td>1100_285</td>\n",
       "      <td>2018-12-31</td>\n",
       "      <td>NaN</td>\n",
       "      <td>NaN</td>\n",
       "    </tr>\n",
       "    <tr>\n",
       "      <td>freq</td>\n",
       "      <td>1</td>\n",
       "      <td>1435</td>\n",
       "      <td>NaN</td>\n",
       "      <td>NaN</td>\n",
       "    </tr>\n",
       "    <tr>\n",
       "      <td>mean</td>\n",
       "      <td>NaN</td>\n",
       "      <td>NaN</td>\n",
       "      <td>6.755887</td>\n",
       "      <td>1253.940619</td>\n",
       "    </tr>\n",
       "    <tr>\n",
       "      <td>std</td>\n",
       "      <td>NaN</td>\n",
       "      <td>NaN</td>\n",
       "      <td>5.843365</td>\n",
       "      <td>144.722751</td>\n",
       "    </tr>\n",
       "    <tr>\n",
       "      <td>min</td>\n",
       "      <td>NaN</td>\n",
       "      <td>NaN</td>\n",
       "      <td>0.000000</td>\n",
       "      <td>1000.000000</td>\n",
       "    </tr>\n",
       "    <tr>\n",
       "      <td>25%</td>\n",
       "      <td>NaN</td>\n",
       "      <td>NaN</td>\n",
       "      <td>1.300000</td>\n",
       "      <td>1126.000000</td>\n",
       "    </tr>\n",
       "    <tr>\n",
       "      <td>50%</td>\n",
       "      <td>NaN</td>\n",
       "      <td>NaN</td>\n",
       "      <td>6.000000</td>\n",
       "      <td>1260.000000</td>\n",
       "    </tr>\n",
       "    <tr>\n",
       "      <td>75%</td>\n",
       "      <td>NaN</td>\n",
       "      <td>NaN</td>\n",
       "      <td>10.700000</td>\n",
       "      <td>1379.000000</td>\n",
       "    </tr>\n",
       "    <tr>\n",
       "      <td>max</td>\n",
       "      <td>NaN</td>\n",
       "      <td>NaN</td>\n",
       "      <td>38.000000</td>\n",
       "      <td>1499.000000</td>\n",
       "    </tr>\n",
       "  </tbody>\n",
       "</table>\n",
       "</div>"
      ],
      "text/plain": [
       "              id   call_date       duration        user_id\n",
       "count     202607      202607  202607.000000  202607.000000\n",
       "unique    202607         365            NaN            NaN\n",
       "top     1100_285  2018-12-31            NaN            NaN\n",
       "freq           1        1435            NaN            NaN\n",
       "mean         NaN         NaN       6.755887    1253.940619\n",
       "std          NaN         NaN       5.843365     144.722751\n",
       "min          NaN         NaN       0.000000    1000.000000\n",
       "25%          NaN         NaN       1.300000    1126.000000\n",
       "50%          NaN         NaN       6.000000    1260.000000\n",
       "75%          NaN         NaN      10.700000    1379.000000\n",
       "max          NaN         NaN      38.000000    1499.000000"
      ]
     },
     "execution_count": 13,
     "metadata": {},
     "output_type": "execute_result"
    }
   ],
   "source": [
    "# статистические показатели таблицы\n",
    "calls.describe(include='all')"
   ]
  },
  {
   "cell_type": "code",
   "execution_count": 14,
   "metadata": {},
   "outputs": [
    {
     "data": {
      "text/html": [
       "<div>\n",
       "<style scoped>\n",
       "    .dataframe tbody tr th:only-of-type {\n",
       "        vertical-align: middle;\n",
       "    }\n",
       "\n",
       "    .dataframe tbody tr th {\n",
       "        vertical-align: top;\n",
       "    }\n",
       "\n",
       "    .dataframe thead th {\n",
       "        text-align: right;\n",
       "    }\n",
       "</style>\n",
       "<table border=\"1\" class=\"dataframe\">\n",
       "  <thead>\n",
       "    <tr style=\"text-align: right;\">\n",
       "      <th></th>\n",
       "      <th>Unnamed: 0</th>\n",
       "      <th>id</th>\n",
       "      <th>mb_used</th>\n",
       "      <th>session_date</th>\n",
       "      <th>user_id</th>\n",
       "    </tr>\n",
       "  </thead>\n",
       "  <tbody>\n",
       "    <tr>\n",
       "      <td>count</td>\n",
       "      <td>149396.000000</td>\n",
       "      <td>149396</td>\n",
       "      <td>149396.000000</td>\n",
       "      <td>149396</td>\n",
       "      <td>149396.000000</td>\n",
       "    </tr>\n",
       "    <tr>\n",
       "      <td>unique</td>\n",
       "      <td>NaN</td>\n",
       "      <td>149396</td>\n",
       "      <td>NaN</td>\n",
       "      <td>365</td>\n",
       "      <td>NaN</td>\n",
       "    </tr>\n",
       "    <tr>\n",
       "      <td>top</td>\n",
       "      <td>NaN</td>\n",
       "      <td>1189_292</td>\n",
       "      <td>NaN</td>\n",
       "      <td>2018-12-31</td>\n",
       "      <td>NaN</td>\n",
       "    </tr>\n",
       "    <tr>\n",
       "      <td>freq</td>\n",
       "      <td>NaN</td>\n",
       "      <td>1</td>\n",
       "      <td>NaN</td>\n",
       "      <td>1057</td>\n",
       "      <td>NaN</td>\n",
       "    </tr>\n",
       "    <tr>\n",
       "      <td>mean</td>\n",
       "      <td>74697.500000</td>\n",
       "      <td>NaN</td>\n",
       "      <td>370.192426</td>\n",
       "      <td>NaN</td>\n",
       "      <td>1252.099842</td>\n",
       "    </tr>\n",
       "    <tr>\n",
       "      <td>std</td>\n",
       "      <td>43127.054745</td>\n",
       "      <td>NaN</td>\n",
       "      <td>278.300951</td>\n",
       "      <td>NaN</td>\n",
       "      <td>144.050823</td>\n",
       "    </tr>\n",
       "    <tr>\n",
       "      <td>min</td>\n",
       "      <td>0.000000</td>\n",
       "      <td>NaN</td>\n",
       "      <td>0.000000</td>\n",
       "      <td>NaN</td>\n",
       "      <td>1000.000000</td>\n",
       "    </tr>\n",
       "    <tr>\n",
       "      <td>25%</td>\n",
       "      <td>37348.750000</td>\n",
       "      <td>NaN</td>\n",
       "      <td>138.187500</td>\n",
       "      <td>NaN</td>\n",
       "      <td>1130.000000</td>\n",
       "    </tr>\n",
       "    <tr>\n",
       "      <td>50%</td>\n",
       "      <td>74697.500000</td>\n",
       "      <td>NaN</td>\n",
       "      <td>348.015000</td>\n",
       "      <td>NaN</td>\n",
       "      <td>1251.000000</td>\n",
       "    </tr>\n",
       "    <tr>\n",
       "      <td>75%</td>\n",
       "      <td>112046.250000</td>\n",
       "      <td>NaN</td>\n",
       "      <td>559.552500</td>\n",
       "      <td>NaN</td>\n",
       "      <td>1380.000000</td>\n",
       "    </tr>\n",
       "    <tr>\n",
       "      <td>max</td>\n",
       "      <td>149395.000000</td>\n",
       "      <td>NaN</td>\n",
       "      <td>1724.830000</td>\n",
       "      <td>NaN</td>\n",
       "      <td>1499.000000</td>\n",
       "    </tr>\n",
       "  </tbody>\n",
       "</table>\n",
       "</div>"
      ],
      "text/plain": [
       "           Unnamed: 0        id        mb_used session_date        user_id\n",
       "count   149396.000000    149396  149396.000000       149396  149396.000000\n",
       "unique            NaN    149396            NaN          365            NaN\n",
       "top               NaN  1189_292            NaN   2018-12-31            NaN\n",
       "freq              NaN         1            NaN         1057            NaN\n",
       "mean     74697.500000       NaN     370.192426          NaN    1252.099842\n",
       "std      43127.054745       NaN     278.300951          NaN     144.050823\n",
       "min          0.000000       NaN       0.000000          NaN    1000.000000\n",
       "25%      37348.750000       NaN     138.187500          NaN    1130.000000\n",
       "50%      74697.500000       NaN     348.015000          NaN    1251.000000\n",
       "75%     112046.250000       NaN     559.552500          NaN    1380.000000\n",
       "max     149395.000000       NaN    1724.830000          NaN    1499.000000"
      ]
     },
     "execution_count": 14,
     "metadata": {},
     "output_type": "execute_result"
    }
   ],
   "source": [
    "# статистические показатели таблицы\n",
    "internet.describe(include='all')"
   ]
  },
  {
   "cell_type": "code",
   "execution_count": 15,
   "metadata": {},
   "outputs": [
    {
     "data": {
      "text/html": [
       "<div>\n",
       "<style scoped>\n",
       "    .dataframe tbody tr th:only-of-type {\n",
       "        vertical-align: middle;\n",
       "    }\n",
       "\n",
       "    .dataframe tbody tr th {\n",
       "        vertical-align: top;\n",
       "    }\n",
       "\n",
       "    .dataframe thead th {\n",
       "        text-align: right;\n",
       "    }\n",
       "</style>\n",
       "<table border=\"1\" class=\"dataframe\">\n",
       "  <thead>\n",
       "    <tr style=\"text-align: right;\">\n",
       "      <th></th>\n",
       "      <th>id</th>\n",
       "      <th>message_date</th>\n",
       "      <th>user_id</th>\n",
       "    </tr>\n",
       "  </thead>\n",
       "  <tbody>\n",
       "    <tr>\n",
       "      <td>count</td>\n",
       "      <td>123036</td>\n",
       "      <td>123036</td>\n",
       "      <td>123036.000000</td>\n",
       "    </tr>\n",
       "    <tr>\n",
       "      <td>unique</td>\n",
       "      <td>123036</td>\n",
       "      <td>364</td>\n",
       "      <td>NaN</td>\n",
       "    </tr>\n",
       "    <tr>\n",
       "      <td>top</td>\n",
       "      <td>1155_84</td>\n",
       "      <td>2018-12-31</td>\n",
       "      <td>NaN</td>\n",
       "    </tr>\n",
       "    <tr>\n",
       "      <td>freq</td>\n",
       "      <td>1</td>\n",
       "      <td>859</td>\n",
       "      <td>NaN</td>\n",
       "    </tr>\n",
       "    <tr>\n",
       "      <td>mean</td>\n",
       "      <td>NaN</td>\n",
       "      <td>NaN</td>\n",
       "      <td>1256.989410</td>\n",
       "    </tr>\n",
       "    <tr>\n",
       "      <td>std</td>\n",
       "      <td>NaN</td>\n",
       "      <td>NaN</td>\n",
       "      <td>143.523967</td>\n",
       "    </tr>\n",
       "    <tr>\n",
       "      <td>min</td>\n",
       "      <td>NaN</td>\n",
       "      <td>NaN</td>\n",
       "      <td>1000.000000</td>\n",
       "    </tr>\n",
       "    <tr>\n",
       "      <td>25%</td>\n",
       "      <td>NaN</td>\n",
       "      <td>NaN</td>\n",
       "      <td>1134.000000</td>\n",
       "    </tr>\n",
       "    <tr>\n",
       "      <td>50%</td>\n",
       "      <td>NaN</td>\n",
       "      <td>NaN</td>\n",
       "      <td>1271.000000</td>\n",
       "    </tr>\n",
       "    <tr>\n",
       "      <td>75%</td>\n",
       "      <td>NaN</td>\n",
       "      <td>NaN</td>\n",
       "      <td>1381.000000</td>\n",
       "    </tr>\n",
       "    <tr>\n",
       "      <td>max</td>\n",
       "      <td>NaN</td>\n",
       "      <td>NaN</td>\n",
       "      <td>1499.000000</td>\n",
       "    </tr>\n",
       "  </tbody>\n",
       "</table>\n",
       "</div>"
      ],
      "text/plain": [
       "             id message_date        user_id\n",
       "count    123036       123036  123036.000000\n",
       "unique   123036          364            NaN\n",
       "top     1155_84   2018-12-31            NaN\n",
       "freq          1          859            NaN\n",
       "mean        NaN          NaN    1256.989410\n",
       "std         NaN          NaN     143.523967\n",
       "min         NaN          NaN    1000.000000\n",
       "25%         NaN          NaN    1134.000000\n",
       "50%         NaN          NaN    1271.000000\n",
       "75%         NaN          NaN    1381.000000\n",
       "max         NaN          NaN    1499.000000"
      ]
     },
     "execution_count": 15,
     "metadata": {},
     "output_type": "execute_result"
    }
   ],
   "source": [
    "# статистические показатели таблицы\n",
    "messages.describe(include='all')  "
   ]
  },
  {
   "cell_type": "code",
   "execution_count": 16,
   "metadata": {},
   "outputs": [
    {
     "data": {
      "text/html": [
       "<div>\n",
       "<style scoped>\n",
       "    .dataframe tbody tr th:only-of-type {\n",
       "        vertical-align: middle;\n",
       "    }\n",
       "\n",
       "    .dataframe tbody tr th {\n",
       "        vertical-align: top;\n",
       "    }\n",
       "\n",
       "    .dataframe thead th {\n",
       "        text-align: right;\n",
       "    }\n",
       "</style>\n",
       "<table border=\"1\" class=\"dataframe\">\n",
       "  <thead>\n",
       "    <tr style=\"text-align: right;\">\n",
       "      <th></th>\n",
       "      <th>user_id</th>\n",
       "      <th>age</th>\n",
       "      <th>churn_date</th>\n",
       "      <th>city</th>\n",
       "      <th>first_name</th>\n",
       "      <th>last_name</th>\n",
       "      <th>reg_date</th>\n",
       "      <th>tariff</th>\n",
       "    </tr>\n",
       "  </thead>\n",
       "  <tbody>\n",
       "    <tr>\n",
       "      <td>count</td>\n",
       "      <td>500.000000</td>\n",
       "      <td>500.00000</td>\n",
       "      <td>38</td>\n",
       "      <td>500</td>\n",
       "      <td>500</td>\n",
       "      <td>500</td>\n",
       "      <td>500</td>\n",
       "      <td>500</td>\n",
       "    </tr>\n",
       "    <tr>\n",
       "      <td>unique</td>\n",
       "      <td>NaN</td>\n",
       "      <td>NaN</td>\n",
       "      <td>33</td>\n",
       "      <td>76</td>\n",
       "      <td>246</td>\n",
       "      <td>419</td>\n",
       "      <td>270</td>\n",
       "      <td>2</td>\n",
       "    </tr>\n",
       "    <tr>\n",
       "      <td>top</td>\n",
       "      <td>NaN</td>\n",
       "      <td>NaN</td>\n",
       "      <td>2018-12-03</td>\n",
       "      <td>Москва</td>\n",
       "      <td>Радим</td>\n",
       "      <td>Андреенко</td>\n",
       "      <td>2018-05-28</td>\n",
       "      <td>smart</td>\n",
       "    </tr>\n",
       "    <tr>\n",
       "      <td>freq</td>\n",
       "      <td>NaN</td>\n",
       "      <td>NaN</td>\n",
       "      <td>2</td>\n",
       "      <td>99</td>\n",
       "      <td>6</td>\n",
       "      <td>5</td>\n",
       "      <td>8</td>\n",
       "      <td>351</td>\n",
       "    </tr>\n",
       "    <tr>\n",
       "      <td>mean</td>\n",
       "      <td>1249.500000</td>\n",
       "      <td>46.58800</td>\n",
       "      <td>NaN</td>\n",
       "      <td>NaN</td>\n",
       "      <td>NaN</td>\n",
       "      <td>NaN</td>\n",
       "      <td>NaN</td>\n",
       "      <td>NaN</td>\n",
       "    </tr>\n",
       "    <tr>\n",
       "      <td>std</td>\n",
       "      <td>144.481833</td>\n",
       "      <td>16.66763</td>\n",
       "      <td>NaN</td>\n",
       "      <td>NaN</td>\n",
       "      <td>NaN</td>\n",
       "      <td>NaN</td>\n",
       "      <td>NaN</td>\n",
       "      <td>NaN</td>\n",
       "    </tr>\n",
       "    <tr>\n",
       "      <td>min</td>\n",
       "      <td>1000.000000</td>\n",
       "      <td>18.00000</td>\n",
       "      <td>NaN</td>\n",
       "      <td>NaN</td>\n",
       "      <td>NaN</td>\n",
       "      <td>NaN</td>\n",
       "      <td>NaN</td>\n",
       "      <td>NaN</td>\n",
       "    </tr>\n",
       "    <tr>\n",
       "      <td>25%</td>\n",
       "      <td>1124.750000</td>\n",
       "      <td>32.00000</td>\n",
       "      <td>NaN</td>\n",
       "      <td>NaN</td>\n",
       "      <td>NaN</td>\n",
       "      <td>NaN</td>\n",
       "      <td>NaN</td>\n",
       "      <td>NaN</td>\n",
       "    </tr>\n",
       "    <tr>\n",
       "      <td>50%</td>\n",
       "      <td>1249.500000</td>\n",
       "      <td>46.00000</td>\n",
       "      <td>NaN</td>\n",
       "      <td>NaN</td>\n",
       "      <td>NaN</td>\n",
       "      <td>NaN</td>\n",
       "      <td>NaN</td>\n",
       "      <td>NaN</td>\n",
       "    </tr>\n",
       "    <tr>\n",
       "      <td>75%</td>\n",
       "      <td>1374.250000</td>\n",
       "      <td>62.00000</td>\n",
       "      <td>NaN</td>\n",
       "      <td>NaN</td>\n",
       "      <td>NaN</td>\n",
       "      <td>NaN</td>\n",
       "      <td>NaN</td>\n",
       "      <td>NaN</td>\n",
       "    </tr>\n",
       "    <tr>\n",
       "      <td>max</td>\n",
       "      <td>1499.000000</td>\n",
       "      <td>75.00000</td>\n",
       "      <td>NaN</td>\n",
       "      <td>NaN</td>\n",
       "      <td>NaN</td>\n",
       "      <td>NaN</td>\n",
       "      <td>NaN</td>\n",
       "      <td>NaN</td>\n",
       "    </tr>\n",
       "  </tbody>\n",
       "</table>\n",
       "</div>"
      ],
      "text/plain": [
       "            user_id        age  churn_date    city first_name  last_name  \\\n",
       "count    500.000000  500.00000          38     500        500        500   \n",
       "unique          NaN        NaN          33      76        246        419   \n",
       "top             NaN        NaN  2018-12-03  Москва      Радим  Андреенко   \n",
       "freq            NaN        NaN           2      99          6          5   \n",
       "mean    1249.500000   46.58800         NaN     NaN        NaN        NaN   \n",
       "std      144.481833   16.66763         NaN     NaN        NaN        NaN   \n",
       "min     1000.000000   18.00000         NaN     NaN        NaN        NaN   \n",
       "25%     1124.750000   32.00000         NaN     NaN        NaN        NaN   \n",
       "50%     1249.500000   46.00000         NaN     NaN        NaN        NaN   \n",
       "75%     1374.250000   62.00000         NaN     NaN        NaN        NaN   \n",
       "max     1499.000000   75.00000         NaN     NaN        NaN        NaN   \n",
       "\n",
       "          reg_date tariff  \n",
       "count          500    500  \n",
       "unique         270      2  \n",
       "top     2018-05-28  smart  \n",
       "freq             8    351  \n",
       "mean           NaN    NaN  \n",
       "std            NaN    NaN  \n",
       "min            NaN    NaN  \n",
       "25%            NaN    NaN  \n",
       "50%            NaN    NaN  \n",
       "75%            NaN    NaN  \n",
       "max            NaN    NaN  "
      ]
     },
     "execution_count": 16,
     "metadata": {},
     "output_type": "execute_result"
    }
   ],
   "source": [
    "# статистические показатели таблицы\n",
    "users.describe(include='all')  "
   ]
  },
  {
   "cell_type": "code",
   "execution_count": 17,
   "metadata": {},
   "outputs": [],
   "source": [
    "# удаление неинформативного столбца\n",
    "internet = internet.drop(columns='Unnamed: 0')"
   ]
  },
  {
   "cell_type": "code",
   "execution_count": 18,
   "metadata": {},
   "outputs": [
    {
     "data": {
      "text/plain": [
       "500"
      ]
     },
     "metadata": {},
     "output_type": "display_data"
    },
    {
     "data": {
      "text/plain": [
       "497"
      ]
     },
     "execution_count": 18,
     "metadata": {},
     "output_type": "execute_result"
    }
   ],
   "source": [
    "# количество уникальных идентификаторов пользователя, пользовавшихся интернетом\n",
    "display(users.user_id.nunique())\n",
    "internet.user_id.nunique()"
   ]
  },
  {
   "cell_type": "code",
   "execution_count": 19,
   "metadata": {},
   "outputs": [
    {
     "data": {
      "text/plain": [
       "500"
      ]
     },
     "metadata": {},
     "output_type": "display_data"
    },
    {
     "data": {
      "text/plain": [
       "492"
      ]
     },
     "execution_count": 19,
     "metadata": {},
     "output_type": "execute_result"
    }
   ],
   "source": [
    "# количество уникальных идентификаторов пользователя, совершивших звонки\n",
    "display(users.user_id.nunique())\n",
    "calls.user_id.nunique()"
   ]
  },
  {
   "cell_type": "code",
   "execution_count": 20,
   "metadata": {},
   "outputs": [
    {
     "data": {
      "text/plain": [
       "500"
      ]
     },
     "metadata": {},
     "output_type": "display_data"
    },
    {
     "data": {
      "text/plain": [
       "426"
      ]
     },
     "execution_count": 20,
     "metadata": {},
     "output_type": "execute_result"
    }
   ],
   "source": [
    "# количество уникальных идентификаторов пользователя, отправивших сообщения\n",
    "display(users.user_id.nunique())\n",
    "messages.user_id.nunique()"
   ]
  },
  {
   "cell_type": "code",
   "execution_count": 21,
   "metadata": {},
   "outputs": [
    {
     "data": {
      "text/plain": [
       "['Архангельск',\n",
       " 'Астрахань',\n",
       " 'Балашиха',\n",
       " 'Барнаул',\n",
       " 'Белгород',\n",
       " 'Брянск',\n",
       " 'Владивосток',\n",
       " 'Владикавказ',\n",
       " 'Владимир',\n",
       " 'Волгоград',\n",
       " 'Волжский',\n",
       " 'Вологда',\n",
       " 'Воронеж',\n",
       " 'Грозный',\n",
       " 'Екатеринбург',\n",
       " 'Иваново',\n",
       " 'Ижевск',\n",
       " 'Иркутск',\n",
       " 'Казань',\n",
       " 'Калининград',\n",
       " 'Калуга',\n",
       " 'Кемерово',\n",
       " 'Киров',\n",
       " 'Кострома',\n",
       " 'Краснодар',\n",
       " 'Красноярск',\n",
       " 'Курган',\n",
       " 'Курск',\n",
       " 'Липецк',\n",
       " 'Магнитогорск',\n",
       " 'Махачкала',\n",
       " 'Москва',\n",
       " 'Мурманск',\n",
       " 'Набережные Челны',\n",
       " 'Нижневартовск',\n",
       " 'Нижний Новгород',\n",
       " 'Нижний Тагил',\n",
       " 'Новокузнецк',\n",
       " 'Новороссийск',\n",
       " 'Новосибирск',\n",
       " 'Омск',\n",
       " 'Оренбург',\n",
       " 'Орёл',\n",
       " 'Пенза',\n",
       " 'Пермь',\n",
       " 'Петрозаводск',\n",
       " 'Подольск',\n",
       " 'Ростов-на-Дону',\n",
       " 'Рязань',\n",
       " 'Самара',\n",
       " 'Санкт-Петербург',\n",
       " 'Саранск',\n",
       " 'Саратов',\n",
       " 'Севастополь',\n",
       " 'Смоленск',\n",
       " 'Сочи',\n",
       " 'Ставрополь',\n",
       " 'Стерлитамак',\n",
       " 'Сургут',\n",
       " 'Тамбов',\n",
       " 'Тверь',\n",
       " 'Тольятти',\n",
       " 'Томск',\n",
       " 'Тула',\n",
       " 'Тюмень',\n",
       " 'Улан-Удэ',\n",
       " 'Ульяновск',\n",
       " 'Уфа',\n",
       " 'Хабаровск',\n",
       " 'Химки',\n",
       " 'Чебоксары',\n",
       " 'Челябинск',\n",
       " 'Череповец',\n",
       " 'Чита',\n",
       " 'Якутск',\n",
       " 'Ярославль']"
      ]
     },
     "execution_count": 21,
     "metadata": {},
     "output_type": "execute_result"
    }
   ],
   "source": [
    "# наличие одних и тех же городов с разным написанием\n",
    "city_unique = users.city.unique()\n",
    "sorted(city_unique)"
   ]
  },
  {
   "cell_type": "markdown",
   "metadata": {},
   "source": [
    "### Вывод"
   ]
  },
  {
   "cell_type": "markdown",
   "metadata": {},
   "source": [
    "Столбец \"Unnamed: 0\" был удален, т.к. в нем нет никаких ценных данных. Столбцы с датой интернет-сессий будут использоваться в данном исследовании, поэтому пустые значения оставлены. Наименования городов уникальны, значения не повторяются. \n",
    "\n",
    "Количество уникальных идентификаторов пользователя не совпадает в 4 таблицах, т.к. не все клиенты пользовались звонками, интернетом и мобильной связью. 3 из 500 абонентов ни разу не пользовались интернетом в 2018 г., 8 человек не звонили за весь период, 74 - не отправляли сообщения. \n",
    "\n",
    "Минимальный возраст - 18 лет, максимальный - 75 лет. В столбце с датой сообщения отсутствует 1 день (364 дня вместо 365), по сравнению со столбцами с датой звонка и интернет-сессией. Звонки с нулевой продолжительностью означают пропущенные звонки. Максимальное время звонка - 38 минут. Объем интернет-трафика также варьируется от 0 до 1724.83 Мб за сессию. В столбцах никаких аномалий не обнаружено, значения правдоподобные."
   ]
  },
  {
   "cell_type": "markdown",
   "metadata": {},
   "source": [
    "### Замена типа данных"
   ]
  },
  {
   "cell_type": "code",
   "execution_count": 22,
   "metadata": {},
   "outputs": [
    {
     "data": {
      "text/plain": [
       "user_id        int64\n",
       "age            int64\n",
       "churn_date    object\n",
       "city          object\n",
       "first_name    object\n",
       "last_name     object\n",
       "reg_date      object\n",
       "tariff        object\n",
       "dtype: object"
      ]
     },
     "metadata": {},
     "output_type": "display_data"
    },
    {
     "data": {
      "text/plain": [
       "id            object\n",
       "call_date     object\n",
       "duration     float64\n",
       "user_id        int64\n",
       "dtype: object"
      ]
     },
     "metadata": {},
     "output_type": "display_data"
    },
    {
     "data": {
      "text/plain": [
       "id              object\n",
       "message_date    object\n",
       "user_id          int64\n",
       "dtype: object"
      ]
     },
     "metadata": {},
     "output_type": "display_data"
    },
    {
     "data": {
      "text/plain": [
       "id               object\n",
       "mb_used         float64\n",
       "session_date     object\n",
       "user_id           int64\n",
       "dtype: object"
      ]
     },
     "metadata": {},
     "output_type": "display_data"
    },
    {
     "data": {
      "text/plain": [
       "messages_included          int64\n",
       "mb_per_month_included      int64\n",
       "minutes_included           int64\n",
       "rub_monthly_fee            int64\n",
       "rub_per_gb                 int64\n",
       "rub_per_message            int64\n",
       "rub_per_minute             int64\n",
       "tariff_name               object\n",
       "gb_per_month_included    float64\n",
       "dtype: object"
      ]
     },
     "metadata": {},
     "output_type": "display_data"
    }
   ],
   "source": [
    "# получение информации о типах данных в таблице\n",
    "display(users.dtypes)\n",
    "display(calls.dtypes)\n",
    "display(messages.dtypes)\n",
    "display(internet.dtypes)\n",
    "display(tariffs.dtypes)"
   ]
  },
  {
   "cell_type": "code",
   "execution_count": 23,
   "metadata": {},
   "outputs": [],
   "source": [
    "# перевод значений столбца из строки в дату\n",
    "calls['call_date'] = pd.to_datetime(calls['call_date'], format='%Y-%m-%d')"
   ]
  },
  {
   "cell_type": "code",
   "execution_count": 24,
   "metadata": {},
   "outputs": [],
   "source": [
    "# перевод значений столбца из строки в дату\n",
    "internet['session_date'] = pd.to_datetime(internet['session_date'], format='%Y-%m-%d')"
   ]
  },
  {
   "cell_type": "code",
   "execution_count": 25,
   "metadata": {},
   "outputs": [],
   "source": [
    "# перевод значений столбца из строки в дату\n",
    "messages['message_date'] = pd.to_datetime(messages['message_date'], format='%Y-%m-%d')"
   ]
  },
  {
   "cell_type": "code",
   "execution_count": 26,
   "metadata": {},
   "outputs": [],
   "source": [
    "# перевод значений столбца из строки в дату\n",
    "users['churn_date'] = pd.to_datetime(users['churn_date'], format='%Y-%m-%d')"
   ]
  },
  {
   "cell_type": "code",
   "execution_count": 27,
   "metadata": {},
   "outputs": [],
   "source": [
    "# перевод значений столбца из строки в дату\n",
    "users['reg_date'] = pd.to_datetime(users['reg_date'], format='%Y-%m-%d')"
   ]
  },
  {
   "cell_type": "code",
   "execution_count": 28,
   "metadata": {},
   "outputs": [],
   "source": [
    "# округление значений столбца в большую сторону и перевод в целые числа\n",
    "calls['duration'] = calls['duration'].apply(np.ceil).astype('int')"
   ]
  },
  {
   "cell_type": "markdown",
   "metadata": {},
   "source": [
    "### Вывод"
   ]
  },
  {
   "cell_type": "markdown",
   "metadata": {},
   "source": [
    "Данные из нескольких столбцов были переведены из строк в дату. Минуты были округлены в большую сторону, как и предусмотрено тарифом."
   ]
  },
  {
   "cell_type": "markdown",
   "metadata": {},
   "source": [
    "## Расчёты и добавление результатов в таблицу"
   ]
  },
  {
   "cell_type": "markdown",
   "metadata": {},
   "source": [
    "*    количество сделанных звонков и израсходованных минут разговора по месяцам;\n",
    "*    количество отправленных сообщений по месяцам;\n",
    "*    объем израсходованного интернет-трафика по месяцам;\n",
    "*    помесячную выручку с каждого пользователя (вычтите бесплатный лимит из суммарного количества звонков, сообщений и интернет-трафика; остаток умножьте на значение из тарифного плана; прибавьте абонентскую плату, соответствующую тарифному плану)."
   ]
  },
  {
   "cell_type": "code",
   "execution_count": 29,
   "metadata": {},
   "outputs": [],
   "source": [
    "# создание столбца с месяцами\n",
    "calls['month'] = pd.DatetimeIndex(calls['call_date']).month"
   ]
  },
  {
   "cell_type": "code",
   "execution_count": 30,
   "metadata": {},
   "outputs": [],
   "source": [
    "# создание столбца с месяцами\n",
    "messages['month'] = pd.DatetimeIndex(messages['message_date']).month"
   ]
  },
  {
   "cell_type": "code",
   "execution_count": 31,
   "metadata": {},
   "outputs": [],
   "source": [
    "# создание столбца с месяцами\n",
    "internet['month'] = pd.DatetimeIndex(internet['session_date']).month"
   ]
  },
  {
   "cell_type": "code",
   "execution_count": 33,
   "metadata": {},
   "outputs": [
    {
     "data": {
      "text/html": [
       "<div>\n",
       "<style scoped>\n",
       "    .dataframe tbody tr th:only-of-type {\n",
       "        vertical-align: middle;\n",
       "    }\n",
       "\n",
       "    .dataframe tbody tr th {\n",
       "        vertical-align: top;\n",
       "    }\n",
       "\n",
       "    .dataframe thead th {\n",
       "        text-align: right;\n",
       "    }\n",
       "</style>\n",
       "<table border=\"1\" class=\"dataframe\">\n",
       "  <thead>\n",
       "    <tr style=\"text-align: right;\">\n",
       "      <th></th>\n",
       "      <th>user_id</th>\n",
       "      <th>month</th>\n",
       "      <th>call_count</th>\n",
       "      <th>call_sum</th>\n",
       "    </tr>\n",
       "  </thead>\n",
       "  <tbody>\n",
       "    <tr>\n",
       "      <td>0</td>\n",
       "      <td>1000</td>\n",
       "      <td>5</td>\n",
       "      <td>22</td>\n",
       "      <td>159</td>\n",
       "    </tr>\n",
       "    <tr>\n",
       "      <td>1</td>\n",
       "      <td>1000</td>\n",
       "      <td>6</td>\n",
       "      <td>43</td>\n",
       "      <td>172</td>\n",
       "    </tr>\n",
       "    <tr>\n",
       "      <td>2</td>\n",
       "      <td>1000</td>\n",
       "      <td>7</td>\n",
       "      <td>47</td>\n",
       "      <td>340</td>\n",
       "    </tr>\n",
       "    <tr>\n",
       "      <td>3</td>\n",
       "      <td>1000</td>\n",
       "      <td>8</td>\n",
       "      <td>52</td>\n",
       "      <td>408</td>\n",
       "    </tr>\n",
       "    <tr>\n",
       "      <td>4</td>\n",
       "      <td>1000</td>\n",
       "      <td>9</td>\n",
       "      <td>58</td>\n",
       "      <td>466</td>\n",
       "    </tr>\n",
       "    <tr>\n",
       "      <td>...</td>\n",
       "      <td>...</td>\n",
       "      <td>...</td>\n",
       "      <td>...</td>\n",
       "      <td>...</td>\n",
       "    </tr>\n",
       "    <tr>\n",
       "      <td>3169</td>\n",
       "      <td>1498</td>\n",
       "      <td>10</td>\n",
       "      <td>41</td>\n",
       "      <td>247</td>\n",
       "    </tr>\n",
       "    <tr>\n",
       "      <td>3170</td>\n",
       "      <td>1499</td>\n",
       "      <td>9</td>\n",
       "      <td>9</td>\n",
       "      <td>70</td>\n",
       "    </tr>\n",
       "    <tr>\n",
       "      <td>3171</td>\n",
       "      <td>1499</td>\n",
       "      <td>10</td>\n",
       "      <td>68</td>\n",
       "      <td>449</td>\n",
       "    </tr>\n",
       "    <tr>\n",
       "      <td>3172</td>\n",
       "      <td>1499</td>\n",
       "      <td>11</td>\n",
       "      <td>74</td>\n",
       "      <td>612</td>\n",
       "    </tr>\n",
       "    <tr>\n",
       "      <td>3173</td>\n",
       "      <td>1499</td>\n",
       "      <td>12</td>\n",
       "      <td>69</td>\n",
       "      <td>492</td>\n",
       "    </tr>\n",
       "  </tbody>\n",
       "</table>\n",
       "<p>3174 rows × 4 columns</p>\n",
       "</div>"
      ],
      "text/plain": [
       "      user_id  month  call_count  call_sum\n",
       "0        1000      5          22       159\n",
       "1        1000      6          43       172\n",
       "2        1000      7          47       340\n",
       "3        1000      8          52       408\n",
       "4        1000      9          58       466\n",
       "...       ...    ...         ...       ...\n",
       "3169     1498     10          41       247\n",
       "3170     1499      9           9        70\n",
       "3171     1499     10          68       449\n",
       "3172     1499     11          74       612\n",
       "3173     1499     12          69       492\n",
       "\n",
       "[3174 rows x 4 columns]"
      ]
     },
     "execution_count": 33,
     "metadata": {},
     "output_type": "execute_result"
    }
   ],
   "source": [
    "# создание сводной таблицы по пользователям и месяцам\n",
    "month_calls = calls.groupby(['user_id', 'month'], as_index=False).agg({'call_date': 'count', 'duration': 'sum'})\n",
    "month_calls.columns = ['user_id', 'month', 'call_count', 'call_sum']\n",
    "month_calls"
   ]
  },
  {
   "cell_type": "code",
   "execution_count": 34,
   "metadata": {},
   "outputs": [
    {
     "data": {
      "text/html": [
       "<div>\n",
       "<style scoped>\n",
       "    .dataframe tbody tr th:only-of-type {\n",
       "        vertical-align: middle;\n",
       "    }\n",
       "\n",
       "    .dataframe tbody tr th {\n",
       "        vertical-align: top;\n",
       "    }\n",
       "\n",
       "    .dataframe thead th {\n",
       "        text-align: right;\n",
       "    }\n",
       "</style>\n",
       "<table border=\"1\" class=\"dataframe\">\n",
       "  <thead>\n",
       "    <tr style=\"text-align: right;\">\n",
       "      <th></th>\n",
       "      <th>user_id</th>\n",
       "      <th>month</th>\n",
       "      <th>message_count</th>\n",
       "    </tr>\n",
       "  </thead>\n",
       "  <tbody>\n",
       "    <tr>\n",
       "      <td>0</td>\n",
       "      <td>1000</td>\n",
       "      <td>5</td>\n",
       "      <td>22</td>\n",
       "    </tr>\n",
       "    <tr>\n",
       "      <td>1</td>\n",
       "      <td>1000</td>\n",
       "      <td>6</td>\n",
       "      <td>60</td>\n",
       "    </tr>\n",
       "    <tr>\n",
       "      <td>2</td>\n",
       "      <td>1000</td>\n",
       "      <td>7</td>\n",
       "      <td>75</td>\n",
       "    </tr>\n",
       "    <tr>\n",
       "      <td>3</td>\n",
       "      <td>1000</td>\n",
       "      <td>8</td>\n",
       "      <td>81</td>\n",
       "    </tr>\n",
       "    <tr>\n",
       "      <td>4</td>\n",
       "      <td>1000</td>\n",
       "      <td>9</td>\n",
       "      <td>57</td>\n",
       "    </tr>\n",
       "    <tr>\n",
       "      <td>...</td>\n",
       "      <td>...</td>\n",
       "      <td>...</td>\n",
       "      <td>...</td>\n",
       "    </tr>\n",
       "    <tr>\n",
       "      <td>2712</td>\n",
       "      <td>1498</td>\n",
       "      <td>10</td>\n",
       "      <td>42</td>\n",
       "    </tr>\n",
       "    <tr>\n",
       "      <td>2713</td>\n",
       "      <td>1499</td>\n",
       "      <td>9</td>\n",
       "      <td>11</td>\n",
       "    </tr>\n",
       "    <tr>\n",
       "      <td>2714</td>\n",
       "      <td>1499</td>\n",
       "      <td>10</td>\n",
       "      <td>48</td>\n",
       "    </tr>\n",
       "    <tr>\n",
       "      <td>2715</td>\n",
       "      <td>1499</td>\n",
       "      <td>11</td>\n",
       "      <td>59</td>\n",
       "    </tr>\n",
       "    <tr>\n",
       "      <td>2716</td>\n",
       "      <td>1499</td>\n",
       "      <td>12</td>\n",
       "      <td>66</td>\n",
       "    </tr>\n",
       "  </tbody>\n",
       "</table>\n",
       "<p>2717 rows × 3 columns</p>\n",
       "</div>"
      ],
      "text/plain": [
       "      user_id  month  message_count\n",
       "0        1000      5             22\n",
       "1        1000      6             60\n",
       "2        1000      7             75\n",
       "3        1000      8             81\n",
       "4        1000      9             57\n",
       "...       ...    ...            ...\n",
       "2712     1498     10             42\n",
       "2713     1499      9             11\n",
       "2714     1499     10             48\n",
       "2715     1499     11             59\n",
       "2716     1499     12             66\n",
       "\n",
       "[2717 rows x 3 columns]"
      ]
     },
     "execution_count": 34,
     "metadata": {},
     "output_type": "execute_result"
    }
   ],
   "source": [
    "# создание сводной таблицы по пользователям и месяцам\n",
    "month_messages = messages.groupby(['user_id', 'month'], as_index=False).agg({'message_date': ['count']})\n",
    "month_messages.columns = ['user_id', 'month', 'message_count']\n",
    "month_messages"
   ]
  },
  {
   "cell_type": "code",
   "execution_count": 35,
   "metadata": {},
   "outputs": [
    {
     "data": {
      "text/html": [
       "<div>\n",
       "<style scoped>\n",
       "    .dataframe tbody tr th:only-of-type {\n",
       "        vertical-align: middle;\n",
       "    }\n",
       "\n",
       "    .dataframe tbody tr th {\n",
       "        vertical-align: top;\n",
       "    }\n",
       "\n",
       "    .dataframe thead th {\n",
       "        text-align: right;\n",
       "    }\n",
       "</style>\n",
       "<table border=\"1\" class=\"dataframe\">\n",
       "  <thead>\n",
       "    <tr style=\"text-align: right;\">\n",
       "      <th></th>\n",
       "      <th>user_id</th>\n",
       "      <th>month</th>\n",
       "      <th>mb_used_sum</th>\n",
       "    </tr>\n",
       "  </thead>\n",
       "  <tbody>\n",
       "    <tr>\n",
       "      <td>0</td>\n",
       "      <td>1000</td>\n",
       "      <td>5</td>\n",
       "      <td>2253.49</td>\n",
       "    </tr>\n",
       "    <tr>\n",
       "      <td>1</td>\n",
       "      <td>1000</td>\n",
       "      <td>6</td>\n",
       "      <td>23233.77</td>\n",
       "    </tr>\n",
       "    <tr>\n",
       "      <td>2</td>\n",
       "      <td>1000</td>\n",
       "      <td>7</td>\n",
       "      <td>14003.64</td>\n",
       "    </tr>\n",
       "    <tr>\n",
       "      <td>3</td>\n",
       "      <td>1000</td>\n",
       "      <td>8</td>\n",
       "      <td>14055.93</td>\n",
       "    </tr>\n",
       "    <tr>\n",
       "      <td>4</td>\n",
       "      <td>1000</td>\n",
       "      <td>9</td>\n",
       "      <td>14568.91</td>\n",
       "    </tr>\n",
       "    <tr>\n",
       "      <td>...</td>\n",
       "      <td>...</td>\n",
       "      <td>...</td>\n",
       "      <td>...</td>\n",
       "    </tr>\n",
       "    <tr>\n",
       "      <td>3198</td>\n",
       "      <td>1498</td>\n",
       "      <td>10</td>\n",
       "      <td>20579.36</td>\n",
       "    </tr>\n",
       "    <tr>\n",
       "      <td>3199</td>\n",
       "      <td>1499</td>\n",
       "      <td>9</td>\n",
       "      <td>1845.75</td>\n",
       "    </tr>\n",
       "    <tr>\n",
       "      <td>3200</td>\n",
       "      <td>1499</td>\n",
       "      <td>10</td>\n",
       "      <td>17788.51</td>\n",
       "    </tr>\n",
       "    <tr>\n",
       "      <td>3201</td>\n",
       "      <td>1499</td>\n",
       "      <td>11</td>\n",
       "      <td>17963.31</td>\n",
       "    </tr>\n",
       "    <tr>\n",
       "      <td>3202</td>\n",
       "      <td>1499</td>\n",
       "      <td>12</td>\n",
       "      <td>13055.58</td>\n",
       "    </tr>\n",
       "  </tbody>\n",
       "</table>\n",
       "<p>3203 rows × 3 columns</p>\n",
       "</div>"
      ],
      "text/plain": [
       "      user_id  month  mb_used_sum\n",
       "0        1000      5      2253.49\n",
       "1        1000      6     23233.77\n",
       "2        1000      7     14003.64\n",
       "3        1000      8     14055.93\n",
       "4        1000      9     14568.91\n",
       "...       ...    ...          ...\n",
       "3198     1498     10     20579.36\n",
       "3199     1499      9      1845.75\n",
       "3200     1499     10     17788.51\n",
       "3201     1499     11     17963.31\n",
       "3202     1499     12     13055.58\n",
       "\n",
       "[3203 rows x 3 columns]"
      ]
     },
     "execution_count": 35,
     "metadata": {},
     "output_type": "execute_result"
    }
   ],
   "source": [
    "# создание сводной таблицы по пользователям и месяцам\n",
    "month_internet = internet.groupby(['user_id', 'month'], as_index=False).agg({'mb_used': 'sum'})\n",
    "month_internet.columns = ['user_id', 'month', 'mb_used_sum']\n",
    "month_internet"
   ]
  },
  {
   "cell_type": "code",
   "execution_count": 36,
   "metadata": {},
   "outputs": [
    {
     "data": {
      "text/html": [
       "<div>\n",
       "<style scoped>\n",
       "    .dataframe tbody tr th:only-of-type {\n",
       "        vertical-align: middle;\n",
       "    }\n",
       "\n",
       "    .dataframe tbody tr th {\n",
       "        vertical-align: top;\n",
       "    }\n",
       "\n",
       "    .dataframe thead th {\n",
       "        text-align: right;\n",
       "    }\n",
       "</style>\n",
       "<table border=\"1\" class=\"dataframe\">\n",
       "  <thead>\n",
       "    <tr style=\"text-align: right;\">\n",
       "      <th></th>\n",
       "      <th>user_id</th>\n",
       "      <th>month</th>\n",
       "      <th>call_count</th>\n",
       "      <th>call_sum</th>\n",
       "      <th>message_count</th>\n",
       "      <th>mb_used_sum</th>\n",
       "      <th>city</th>\n",
       "      <th>tariff</th>\n",
       "    </tr>\n",
       "  </thead>\n",
       "  <tbody>\n",
       "    <tr>\n",
       "      <td>0</td>\n",
       "      <td>1000</td>\n",
       "      <td>5.0</td>\n",
       "      <td>22.0</td>\n",
       "      <td>159.0</td>\n",
       "      <td>22.0</td>\n",
       "      <td>2253.49</td>\n",
       "      <td>Краснодар</td>\n",
       "      <td>ultra</td>\n",
       "    </tr>\n",
       "    <tr>\n",
       "      <td>1</td>\n",
       "      <td>1000</td>\n",
       "      <td>6.0</td>\n",
       "      <td>43.0</td>\n",
       "      <td>172.0</td>\n",
       "      <td>60.0</td>\n",
       "      <td>23233.77</td>\n",
       "      <td>Краснодар</td>\n",
       "      <td>ultra</td>\n",
       "    </tr>\n",
       "    <tr>\n",
       "      <td>2</td>\n",
       "      <td>1000</td>\n",
       "      <td>7.0</td>\n",
       "      <td>47.0</td>\n",
       "      <td>340.0</td>\n",
       "      <td>75.0</td>\n",
       "      <td>14003.64</td>\n",
       "      <td>Краснодар</td>\n",
       "      <td>ultra</td>\n",
       "    </tr>\n",
       "    <tr>\n",
       "      <td>3</td>\n",
       "      <td>1000</td>\n",
       "      <td>8.0</td>\n",
       "      <td>52.0</td>\n",
       "      <td>408.0</td>\n",
       "      <td>81.0</td>\n",
       "      <td>14055.93</td>\n",
       "      <td>Краснодар</td>\n",
       "      <td>ultra</td>\n",
       "    </tr>\n",
       "    <tr>\n",
       "      <td>4</td>\n",
       "      <td>1000</td>\n",
       "      <td>9.0</td>\n",
       "      <td>58.0</td>\n",
       "      <td>466.0</td>\n",
       "      <td>57.0</td>\n",
       "      <td>14568.91</td>\n",
       "      <td>Краснодар</td>\n",
       "      <td>ultra</td>\n",
       "    </tr>\n",
       "  </tbody>\n",
       "</table>\n",
       "</div>"
      ],
      "text/plain": [
       "   user_id  month  call_count  call_sum  message_count  mb_used_sum  \\\n",
       "0     1000    5.0        22.0     159.0           22.0      2253.49   \n",
       "1     1000    6.0        43.0     172.0           60.0     23233.77   \n",
       "2     1000    7.0        47.0     340.0           75.0     14003.64   \n",
       "3     1000    8.0        52.0     408.0           81.0     14055.93   \n",
       "4     1000    9.0        58.0     466.0           57.0     14568.91   \n",
       "\n",
       "        city tariff  \n",
       "0  Краснодар  ultra  \n",
       "1  Краснодар  ultra  \n",
       "2  Краснодар  ultra  \n",
       "3  Краснодар  ultra  \n",
       "4  Краснодар  ultra  "
      ]
     },
     "metadata": {},
     "output_type": "display_data"
    },
    {
     "name": "stdout",
     "output_type": "stream",
     "text": [
      "<class 'pandas.core.frame.DataFrame'>\n",
      "Int64Index: 3216 entries, 0 to 3215\n",
      "Data columns (total 8 columns):\n",
      "user_id          3216 non-null int64\n",
      "month            3214 non-null float64\n",
      "call_count       3174 non-null float64\n",
      "call_sum         3174 non-null float64\n",
      "message_count    2717 non-null float64\n",
      "mb_used_sum      3203 non-null float64\n",
      "city             3216 non-null object\n",
      "tariff           3216 non-null object\n",
      "dtypes: float64(5), int64(1), object(2)\n",
      "memory usage: 226.1+ KB\n"
     ]
    }
   ],
   "source": [
    "# создание таблицы с тарифами и городами по каджому пользователю\n",
    "users_city_and_tariff = users.loc[:,['user_id', 'city', 'tariff']]\n",
    "# объединение таблиц\n",
    "df = month_calls.merge(month_messages, how='outer').merge(month_internet, how='outer') \\\n",
    "                .merge(users_city_and_tariff, how='outer')\n",
    "display(df.head())\n",
    "df.info()"
   ]
  },
  {
   "cell_type": "code",
   "execution_count": 37,
   "metadata": {},
   "outputs": [
    {
     "data": {
      "text/plain": [
       "500"
      ]
     },
     "execution_count": 37,
     "metadata": {},
     "output_type": "execute_result"
    }
   ],
   "source": [
    "# количество уникальных клиентов\n",
    "df.user_id.nunique()"
   ]
  },
  {
   "cell_type": "code",
   "execution_count": 38,
   "metadata": {},
   "outputs": [],
   "source": [
    "# создание столбца с объемом интернет-трафика в гигабайтах\n",
    "df['gb_used'] = df.mb_used_sum / 1024"
   ]
  },
  {
   "cell_type": "code",
   "execution_count": 39,
   "metadata": {},
   "outputs": [
    {
     "data": {
      "text/plain": [
       "user_id            0\n",
       "month              2\n",
       "call_count        42\n",
       "call_sum          42\n",
       "message_count    499\n",
       "mb_used_sum       13\n",
       "city               0\n",
       "tariff             0\n",
       "gb_used           13\n",
       "dtype: int64"
      ]
     },
     "execution_count": 39,
     "metadata": {},
     "output_type": "execute_result"
    }
   ],
   "source": [
    "# количество пропусков в таблице\n",
    "df.isna().sum()"
   ]
  },
  {
   "cell_type": "code",
   "execution_count": 40,
   "metadata": {},
   "outputs": [
    {
     "data": {
      "text/html": [
       "<style  type=\"text/css\" >\n",
       "</style><table id=\"T_9bf4f94a_86c0_11ec_90a9_02420a39acd5\" ><thead>    <tr>        <th class=\"blank level0\" ></th>        <th class=\"col_heading level0 col0\" >доля_пропусков</th>    </tr></thead><tbody>\n",
       "                <tr>\n",
       "                        <th id=\"T_9bf4f94a_86c0_11ec_90a9_02420a39acd5level0_row0\" class=\"row_heading level0 row0\" >message_count</th>\n",
       "                        <td id=\"T_9bf4f94a_86c0_11ec_90a9_02420a39acd5row0_col0\" class=\"data row0 col0\" >15.52%</td>\n",
       "            </tr>\n",
       "            <tr>\n",
       "                        <th id=\"T_9bf4f94a_86c0_11ec_90a9_02420a39acd5level0_row1\" class=\"row_heading level0 row1\" >call_sum</th>\n",
       "                        <td id=\"T_9bf4f94a_86c0_11ec_90a9_02420a39acd5row1_col0\" class=\"data row1 col0\" >1.31%</td>\n",
       "            </tr>\n",
       "            <tr>\n",
       "                        <th id=\"T_9bf4f94a_86c0_11ec_90a9_02420a39acd5level0_row2\" class=\"row_heading level0 row2\" >call_count</th>\n",
       "                        <td id=\"T_9bf4f94a_86c0_11ec_90a9_02420a39acd5row2_col0\" class=\"data row2 col0\" >1.31%</td>\n",
       "            </tr>\n",
       "            <tr>\n",
       "                        <th id=\"T_9bf4f94a_86c0_11ec_90a9_02420a39acd5level0_row3\" class=\"row_heading level0 row3\" >gb_used</th>\n",
       "                        <td id=\"T_9bf4f94a_86c0_11ec_90a9_02420a39acd5row3_col0\" class=\"data row3 col0\" >0.40%</td>\n",
       "            </tr>\n",
       "            <tr>\n",
       "                        <th id=\"T_9bf4f94a_86c0_11ec_90a9_02420a39acd5level0_row4\" class=\"row_heading level0 row4\" >mb_used_sum</th>\n",
       "                        <td id=\"T_9bf4f94a_86c0_11ec_90a9_02420a39acd5row4_col0\" class=\"data row4 col0\" >0.40%</td>\n",
       "            </tr>\n",
       "            <tr>\n",
       "                        <th id=\"T_9bf4f94a_86c0_11ec_90a9_02420a39acd5level0_row5\" class=\"row_heading level0 row5\" >month</th>\n",
       "                        <td id=\"T_9bf4f94a_86c0_11ec_90a9_02420a39acd5row5_col0\" class=\"data row5 col0\" >0.06%</td>\n",
       "            </tr>\n",
       "            <tr>\n",
       "                        <th id=\"T_9bf4f94a_86c0_11ec_90a9_02420a39acd5level0_row6\" class=\"row_heading level0 row6\" >tariff</th>\n",
       "                        <td id=\"T_9bf4f94a_86c0_11ec_90a9_02420a39acd5row6_col0\" class=\"data row6 col0\" >0.00%</td>\n",
       "            </tr>\n",
       "            <tr>\n",
       "                        <th id=\"T_9bf4f94a_86c0_11ec_90a9_02420a39acd5level0_row7\" class=\"row_heading level0 row7\" >city</th>\n",
       "                        <td id=\"T_9bf4f94a_86c0_11ec_90a9_02420a39acd5row7_col0\" class=\"data row7 col0\" >0.00%</td>\n",
       "            </tr>\n",
       "            <tr>\n",
       "                        <th id=\"T_9bf4f94a_86c0_11ec_90a9_02420a39acd5level0_row8\" class=\"row_heading level0 row8\" >user_id</th>\n",
       "                        <td id=\"T_9bf4f94a_86c0_11ec_90a9_02420a39acd5row8_col0\" class=\"data row8 col0\" >0.00%</td>\n",
       "            </tr>\n",
       "    </tbody></table>"
      ],
      "text/plain": [
       "<pandas.io.formats.style.Styler at 0x7f31b5eb0dd0>"
      ]
     },
     "execution_count": 40,
     "metadata": {},
     "output_type": "execute_result"
    }
   ],
   "source": [
    "# доля пропусков в таблице\n",
    "df.isna().mean().sort_values(ascending=False).to_frame().rename(columns={0 : 'доля_пропусков'}) \\\n",
    "    .style.format({'доля_пропусков' : '{:.2%}'.format})"
   ]
  },
  {
   "cell_type": "code",
   "execution_count": 41,
   "metadata": {},
   "outputs": [],
   "source": [
    "# заполнение пропусков на 0\n",
    "df.loc[:,['message_count', 'call_sum', 'call_count', 'gb_used', 'mb_used_sum']] = df \\\n",
    "  .loc[:,['message_count', 'call_sum', 'call_count', 'gb_used', 'mb_used_sum']].fillna(0)"
   ]
  },
  {
   "cell_type": "code",
   "execution_count": 42,
   "metadata": {},
   "outputs": [],
   "source": [
    "# округление значений столбца в большую сторону и перевод в целые числа\n",
    "df['gb_used'] = np.ceil(df['gb_used'].astype('int'))"
   ]
  },
  {
   "cell_type": "code",
   "execution_count": 43,
   "metadata": {},
   "outputs": [
    {
     "data": {
      "text/html": [
       "<style  type=\"text/css\" >\n",
       "</style><table id=\"T_9bf9984c_86c0_11ec_90a9_02420a39acd5\" ><thead>    <tr>        <th class=\"blank level0\" ></th>        <th class=\"col_heading level0 col0\" >доля_пропусков</th>    </tr></thead><tbody>\n",
       "                <tr>\n",
       "                        <th id=\"T_9bf9984c_86c0_11ec_90a9_02420a39acd5level0_row0\" class=\"row_heading level0 row0\" >month</th>\n",
       "                        <td id=\"T_9bf9984c_86c0_11ec_90a9_02420a39acd5row0_col0\" class=\"data row0 col0\" >0.06%</td>\n",
       "            </tr>\n",
       "            <tr>\n",
       "                        <th id=\"T_9bf9984c_86c0_11ec_90a9_02420a39acd5level0_row1\" class=\"row_heading level0 row1\" >gb_used</th>\n",
       "                        <td id=\"T_9bf9984c_86c0_11ec_90a9_02420a39acd5row1_col0\" class=\"data row1 col0\" >0.00%</td>\n",
       "            </tr>\n",
       "            <tr>\n",
       "                        <th id=\"T_9bf9984c_86c0_11ec_90a9_02420a39acd5level0_row2\" class=\"row_heading level0 row2\" >tariff</th>\n",
       "                        <td id=\"T_9bf9984c_86c0_11ec_90a9_02420a39acd5row2_col0\" class=\"data row2 col0\" >0.00%</td>\n",
       "            </tr>\n",
       "            <tr>\n",
       "                        <th id=\"T_9bf9984c_86c0_11ec_90a9_02420a39acd5level0_row3\" class=\"row_heading level0 row3\" >city</th>\n",
       "                        <td id=\"T_9bf9984c_86c0_11ec_90a9_02420a39acd5row3_col0\" class=\"data row3 col0\" >0.00%</td>\n",
       "            </tr>\n",
       "            <tr>\n",
       "                        <th id=\"T_9bf9984c_86c0_11ec_90a9_02420a39acd5level0_row4\" class=\"row_heading level0 row4\" >mb_used_sum</th>\n",
       "                        <td id=\"T_9bf9984c_86c0_11ec_90a9_02420a39acd5row4_col0\" class=\"data row4 col0\" >0.00%</td>\n",
       "            </tr>\n",
       "            <tr>\n",
       "                        <th id=\"T_9bf9984c_86c0_11ec_90a9_02420a39acd5level0_row5\" class=\"row_heading level0 row5\" >message_count</th>\n",
       "                        <td id=\"T_9bf9984c_86c0_11ec_90a9_02420a39acd5row5_col0\" class=\"data row5 col0\" >0.00%</td>\n",
       "            </tr>\n",
       "            <tr>\n",
       "                        <th id=\"T_9bf9984c_86c0_11ec_90a9_02420a39acd5level0_row6\" class=\"row_heading level0 row6\" >call_sum</th>\n",
       "                        <td id=\"T_9bf9984c_86c0_11ec_90a9_02420a39acd5row6_col0\" class=\"data row6 col0\" >0.00%</td>\n",
       "            </tr>\n",
       "            <tr>\n",
       "                        <th id=\"T_9bf9984c_86c0_11ec_90a9_02420a39acd5level0_row7\" class=\"row_heading level0 row7\" >call_count</th>\n",
       "                        <td id=\"T_9bf9984c_86c0_11ec_90a9_02420a39acd5row7_col0\" class=\"data row7 col0\" >0.00%</td>\n",
       "            </tr>\n",
       "            <tr>\n",
       "                        <th id=\"T_9bf9984c_86c0_11ec_90a9_02420a39acd5level0_row8\" class=\"row_heading level0 row8\" >user_id</th>\n",
       "                        <td id=\"T_9bf9984c_86c0_11ec_90a9_02420a39acd5row8_col0\" class=\"data row8 col0\" >0.00%</td>\n",
       "            </tr>\n",
       "    </tbody></table>"
      ],
      "text/plain": [
       "<pandas.io.formats.style.Styler at 0x7f31b5eb5510>"
      ]
     },
     "execution_count": 43,
     "metadata": {},
     "output_type": "execute_result"
    }
   ],
   "source": [
    "# доля пропусков в таблице\n",
    "df.isna().mean().sort_values(ascending=False).to_frame().rename(columns={0 : 'доля_пропусков'}) \\\n",
    "    .style.format({'доля_пропусков' : '{:.2%}'.format})"
   ]
  },
  {
   "cell_type": "code",
   "execution_count": 44,
   "metadata": {},
   "outputs": [
    {
     "data": {
      "text/plain": [
       "count    3216.000000\n",
       "mean     1441.558147\n",
       "std       771.892859\n",
       "min       550.000000\n",
       "25%       655.000000\n",
       "50%      1466.500000\n",
       "75%      1950.000000\n",
       "max      6570.000000\n",
       "Name: revenue, dtype: float64"
      ]
     },
     "execution_count": 44,
     "metadata": {},
     "output_type": "execute_result"
    }
   ],
   "source": [
    "# функция помесячной выручки с каждого пользователя\n",
    "def revenue(row):\n",
    "    tariff = row['tariff']\n",
    "    calls = row['call_count']\n",
    "    messages = row['message_count']\n",
    "    gb_used = row['gb_used']\n",
    "    call_sum = row['call_sum']\n",
    "    \n",
    "# тариф \"Смарт\"  \n",
    "# вычитание бесплатного лимита из суммарного количества звонков, сообщений и интернет-трафика\n",
    "    if tariff == 'smart':\n",
    "        extra_duration = call_sum - tariffs.loc[0, 'minutes_included']\n",
    "        extra_gb = gb_used - tariffs.loc[0, 'gb_per_month_included']\n",
    "        extra_messages = messages - tariffs.loc[0, 'messages_included']\n",
    "\n",
    "# если сверх лимита не были потрачены средства, значения меняются на 0\n",
    "        if extra_duration < 0: \n",
    "            extra_duration = 0\n",
    "        if extra_gb < 0: \n",
    "            extra_gb = 0\n",
    "        if extra_messages < 0: \n",
    "            extra_messages = 0\n",
    "\n",
    "# остаток умножается на значение из тарифного плана и прибавляется к абонентсккой плате тарифного плана\n",
    "        return (tariffs.loc[0, 'rub_per_message'] * extra_messages + \n",
    "                   (tariffs.loc[0, 'rub_per_gb']) * extra_gb + \n",
    "                   tariffs.loc[0, 'rub_per_minute'] * extra_duration + \n",
    "                   tariffs.loc[0, 'rub_monthly_fee']\n",
    "                  ) \n",
    "\n",
    "# тариф \"Ультра\"\n",
    "# вычитание бесплатного лимита из суммарного количества звонков, сообщений и интернет-трафика\n",
    "    else:\n",
    "        extra_duration = call_sum - tariffs.loc[1, 'minutes_included'] \n",
    "        extra_gb = gb_used - tariffs.loc[1, 'gb_per_month_included']\n",
    "        extra_messages = messages - tariffs.loc[1, 'messages_included']\n",
    "\n",
    "# если сверх лимита не были потрачены средства, значения меняются на 0\n",
    "        if extra_duration < 0: \n",
    "            extra_duration = 0\n",
    "        if extra_gb < 0: \n",
    "            extra_gb = 0\n",
    "        if extra_messages < 0: \n",
    "            extra_messages = 0\n",
    " \n",
    "# остаток умножается на значение из тарифного плана и прибавляется к абонентсккой плате тарифного плана\n",
    "        return (tariffs.loc[1, 'rub_per_message'] * extra_messages + \n",
    "                   (tariffs.loc[1, 'rub_per_gb']) * extra_gb + \n",
    "                   tariffs.loc[1, 'rub_per_minute'] * extra_duration + \n",
    "                   tariffs.loc[1, 'rub_monthly_fee']\n",
    "                  )\n",
    "\n",
    "df['revenue'] = df.apply(revenue, axis=1)\n",
    "df.revenue.describe()"
   ]
  },
  {
   "cell_type": "code",
   "execution_count": 45,
   "metadata": {},
   "outputs": [
    {
     "data": {
      "text/html": [
       "<div>\n",
       "<style scoped>\n",
       "    .dataframe tbody tr th:only-of-type {\n",
       "        vertical-align: middle;\n",
       "    }\n",
       "\n",
       "    .dataframe tbody tr th {\n",
       "        vertical-align: top;\n",
       "    }\n",
       "\n",
       "    .dataframe thead th {\n",
       "        text-align: right;\n",
       "    }\n",
       "</style>\n",
       "<table border=\"1\" class=\"dataframe\">\n",
       "  <thead>\n",
       "    <tr style=\"text-align: right;\">\n",
       "      <th></th>\n",
       "      <th>user_id</th>\n",
       "      <th>month</th>\n",
       "      <th>call_count</th>\n",
       "      <th>call_sum</th>\n",
       "      <th>message_count</th>\n",
       "      <th>mb_used_sum</th>\n",
       "      <th>city</th>\n",
       "      <th>tariff</th>\n",
       "      <th>gb_used</th>\n",
       "      <th>revenue</th>\n",
       "    </tr>\n",
       "  </thead>\n",
       "  <tbody>\n",
       "    <tr>\n",
       "      <td>0</td>\n",
       "      <td>1000</td>\n",
       "      <td>5.0</td>\n",
       "      <td>22.0</td>\n",
       "      <td>159.0</td>\n",
       "      <td>22.0</td>\n",
       "      <td>2253.49</td>\n",
       "      <td>Краснодар</td>\n",
       "      <td>ultra</td>\n",
       "      <td>2.0</td>\n",
       "      <td>1950.0</td>\n",
       "    </tr>\n",
       "    <tr>\n",
       "      <td>1</td>\n",
       "      <td>1000</td>\n",
       "      <td>6.0</td>\n",
       "      <td>43.0</td>\n",
       "      <td>172.0</td>\n",
       "      <td>60.0</td>\n",
       "      <td>23233.77</td>\n",
       "      <td>Краснодар</td>\n",
       "      <td>ultra</td>\n",
       "      <td>22.0</td>\n",
       "      <td>1950.0</td>\n",
       "    </tr>\n",
       "    <tr>\n",
       "      <td>2</td>\n",
       "      <td>1000</td>\n",
       "      <td>7.0</td>\n",
       "      <td>47.0</td>\n",
       "      <td>340.0</td>\n",
       "      <td>75.0</td>\n",
       "      <td>14003.64</td>\n",
       "      <td>Краснодар</td>\n",
       "      <td>ultra</td>\n",
       "      <td>13.0</td>\n",
       "      <td>1950.0</td>\n",
       "    </tr>\n",
       "    <tr>\n",
       "      <td>3</td>\n",
       "      <td>1000</td>\n",
       "      <td>8.0</td>\n",
       "      <td>52.0</td>\n",
       "      <td>408.0</td>\n",
       "      <td>81.0</td>\n",
       "      <td>14055.93</td>\n",
       "      <td>Краснодар</td>\n",
       "      <td>ultra</td>\n",
       "      <td>13.0</td>\n",
       "      <td>1950.0</td>\n",
       "    </tr>\n",
       "    <tr>\n",
       "      <td>4</td>\n",
       "      <td>1000</td>\n",
       "      <td>9.0</td>\n",
       "      <td>58.0</td>\n",
       "      <td>466.0</td>\n",
       "      <td>57.0</td>\n",
       "      <td>14568.91</td>\n",
       "      <td>Краснодар</td>\n",
       "      <td>ultra</td>\n",
       "      <td>14.0</td>\n",
       "      <td>1950.0</td>\n",
       "    </tr>\n",
       "    <tr>\n",
       "      <td>5</td>\n",
       "      <td>1000</td>\n",
       "      <td>10.0</td>\n",
       "      <td>57.0</td>\n",
       "      <td>350.0</td>\n",
       "      <td>73.0</td>\n",
       "      <td>14702.49</td>\n",
       "      <td>Краснодар</td>\n",
       "      <td>ultra</td>\n",
       "      <td>14.0</td>\n",
       "      <td>1950.0</td>\n",
       "    </tr>\n",
       "    <tr>\n",
       "      <td>6</td>\n",
       "      <td>1000</td>\n",
       "      <td>11.0</td>\n",
       "      <td>43.0</td>\n",
       "      <td>338.0</td>\n",
       "      <td>58.0</td>\n",
       "      <td>14756.47</td>\n",
       "      <td>Краснодар</td>\n",
       "      <td>ultra</td>\n",
       "      <td>14.0</td>\n",
       "      <td>1950.0</td>\n",
       "    </tr>\n",
       "    <tr>\n",
       "      <td>7</td>\n",
       "      <td>1000</td>\n",
       "      <td>12.0</td>\n",
       "      <td>46.0</td>\n",
       "      <td>333.0</td>\n",
       "      <td>70.0</td>\n",
       "      <td>9817.61</td>\n",
       "      <td>Краснодар</td>\n",
       "      <td>ultra</td>\n",
       "      <td>9.0</td>\n",
       "      <td>1950.0</td>\n",
       "    </tr>\n",
       "    <tr>\n",
       "      <td>8</td>\n",
       "      <td>1001</td>\n",
       "      <td>11.0</td>\n",
       "      <td>59.0</td>\n",
       "      <td>430.0</td>\n",
       "      <td>0.0</td>\n",
       "      <td>18429.34</td>\n",
       "      <td>Москва</td>\n",
       "      <td>smart</td>\n",
       "      <td>17.0</td>\n",
       "      <td>950.0</td>\n",
       "    </tr>\n",
       "    <tr>\n",
       "      <td>9</td>\n",
       "      <td>1001</td>\n",
       "      <td>12.0</td>\n",
       "      <td>63.0</td>\n",
       "      <td>414.0</td>\n",
       "      <td>0.0</td>\n",
       "      <td>14036.66</td>\n",
       "      <td>Москва</td>\n",
       "      <td>smart</td>\n",
       "      <td>13.0</td>\n",
       "      <td>550.0</td>\n",
       "    </tr>\n",
       "  </tbody>\n",
       "</table>\n",
       "</div>"
      ],
      "text/plain": [
       "   user_id  month  call_count  call_sum  message_count  mb_used_sum  \\\n",
       "0     1000    5.0        22.0     159.0           22.0      2253.49   \n",
       "1     1000    6.0        43.0     172.0           60.0     23233.77   \n",
       "2     1000    7.0        47.0     340.0           75.0     14003.64   \n",
       "3     1000    8.0        52.0     408.0           81.0     14055.93   \n",
       "4     1000    9.0        58.0     466.0           57.0     14568.91   \n",
       "5     1000   10.0        57.0     350.0           73.0     14702.49   \n",
       "6     1000   11.0        43.0     338.0           58.0     14756.47   \n",
       "7     1000   12.0        46.0     333.0           70.0      9817.61   \n",
       "8     1001   11.0        59.0     430.0            0.0     18429.34   \n",
       "9     1001   12.0        63.0     414.0            0.0     14036.66   \n",
       "\n",
       "        city tariff  gb_used  revenue  \n",
       "0  Краснодар  ultra      2.0   1950.0  \n",
       "1  Краснодар  ultra     22.0   1950.0  \n",
       "2  Краснодар  ultra     13.0   1950.0  \n",
       "3  Краснодар  ultra     13.0   1950.0  \n",
       "4  Краснодар  ultra     14.0   1950.0  \n",
       "5  Краснодар  ultra     14.0   1950.0  \n",
       "6  Краснодар  ultra     14.0   1950.0  \n",
       "7  Краснодар  ultra      9.0   1950.0  \n",
       "8     Москва  smart     17.0    950.0  \n",
       "9     Москва  smart     13.0    550.0  "
      ]
     },
     "execution_count": 45,
     "metadata": {},
     "output_type": "execute_result"
    }
   ],
   "source": [
    "# проверка добавления столбца\n",
    "df.head(10)"
   ]
  },
  {
   "cell_type": "code",
   "execution_count": 46,
   "metadata": {
    "scrolled": true
   },
   "outputs": [
    {
     "data": {
      "text/html": [
       "<div>\n",
       "<style scoped>\n",
       "    .dataframe tbody tr th:only-of-type {\n",
       "        vertical-align: middle;\n",
       "    }\n",
       "\n",
       "    .dataframe tbody tr th {\n",
       "        vertical-align: top;\n",
       "    }\n",
       "\n",
       "    .dataframe thead th {\n",
       "        text-align: right;\n",
       "    }\n",
       "</style>\n",
       "<table border=\"1\" class=\"dataframe\">\n",
       "  <thead>\n",
       "    <tr style=\"text-align: right;\">\n",
       "      <th></th>\n",
       "      <th>user_id</th>\n",
       "      <th>month</th>\n",
       "      <th>call_count</th>\n",
       "      <th>call_sum</th>\n",
       "      <th>message_count</th>\n",
       "      <th>mb_used_sum</th>\n",
       "      <th>gb_used</th>\n",
       "      <th>revenue</th>\n",
       "    </tr>\n",
       "  </thead>\n",
       "  <tbody>\n",
       "    <tr>\n",
       "      <td>count</td>\n",
       "      <td>3216.000000</td>\n",
       "      <td>3214.000000</td>\n",
       "      <td>3216.000000</td>\n",
       "      <td>3216.000000</td>\n",
       "      <td>3216.000000</td>\n",
       "      <td>3216.000000</td>\n",
       "      <td>3216.000000</td>\n",
       "      <td>3216.000000</td>\n",
       "    </tr>\n",
       "    <tr>\n",
       "      <td>mean</td>\n",
       "      <td>1251.588930</td>\n",
       "      <td>8.317362</td>\n",
       "      <td>62.999689</td>\n",
       "      <td>450.964241</td>\n",
       "      <td>38.257463</td>\n",
       "      <td>17196.911608</td>\n",
       "      <td>16.292910</td>\n",
       "      <td>1441.558147</td>\n",
       "    </tr>\n",
       "    <tr>\n",
       "      <td>std</td>\n",
       "      <td>144.645928</td>\n",
       "      <td>2.905413</td>\n",
       "      <td>33.263185</td>\n",
       "      <td>242.096312</td>\n",
       "      <td>36.149684</td>\n",
       "      <td>7580.754906</td>\n",
       "      <td>7.400266</td>\n",
       "      <td>771.892859</td>\n",
       "    </tr>\n",
       "    <tr>\n",
       "      <td>min</td>\n",
       "      <td>1000.000000</td>\n",
       "      <td>1.000000</td>\n",
       "      <td>0.000000</td>\n",
       "      <td>0.000000</td>\n",
       "      <td>0.000000</td>\n",
       "      <td>0.000000</td>\n",
       "      <td>0.000000</td>\n",
       "      <td>550.000000</td>\n",
       "    </tr>\n",
       "    <tr>\n",
       "      <td>25%</td>\n",
       "      <td>1125.000000</td>\n",
       "      <td>6.000000</td>\n",
       "      <td>40.000000</td>\n",
       "      <td>282.000000</td>\n",
       "      <td>9.000000</td>\n",
       "      <td>12478.765000</td>\n",
       "      <td>12.000000</td>\n",
       "      <td>655.000000</td>\n",
       "    </tr>\n",
       "    <tr>\n",
       "      <td>50%</td>\n",
       "      <td>1253.000000</td>\n",
       "      <td>9.000000</td>\n",
       "      <td>62.000000</td>\n",
       "      <td>443.000000</td>\n",
       "      <td>30.000000</td>\n",
       "      <td>16937.820000</td>\n",
       "      <td>16.000000</td>\n",
       "      <td>1466.500000</td>\n",
       "    </tr>\n",
       "    <tr>\n",
       "      <td>75%</td>\n",
       "      <td>1378.250000</td>\n",
       "      <td>11.000000</td>\n",
       "      <td>82.000000</td>\n",
       "      <td>589.000000</td>\n",
       "      <td>57.000000</td>\n",
       "      <td>21422.375000</td>\n",
       "      <td>20.000000</td>\n",
       "      <td>1950.000000</td>\n",
       "    </tr>\n",
       "    <tr>\n",
       "      <td>max</td>\n",
       "      <td>1499.000000</td>\n",
       "      <td>12.000000</td>\n",
       "      <td>244.000000</td>\n",
       "      <td>1673.000000</td>\n",
       "      <td>224.000000</td>\n",
       "      <td>49745.690000</td>\n",
       "      <td>48.000000</td>\n",
       "      <td>6570.000000</td>\n",
       "    </tr>\n",
       "  </tbody>\n",
       "</table>\n",
       "</div>"
      ],
      "text/plain": [
       "           user_id        month   call_count     call_sum  message_count  \\\n",
       "count  3216.000000  3214.000000  3216.000000  3216.000000    3216.000000   \n",
       "mean   1251.588930     8.317362    62.999689   450.964241      38.257463   \n",
       "std     144.645928     2.905413    33.263185   242.096312      36.149684   \n",
       "min    1000.000000     1.000000     0.000000     0.000000       0.000000   \n",
       "25%    1125.000000     6.000000    40.000000   282.000000       9.000000   \n",
       "50%    1253.000000     9.000000    62.000000   443.000000      30.000000   \n",
       "75%    1378.250000    11.000000    82.000000   589.000000      57.000000   \n",
       "max    1499.000000    12.000000   244.000000  1673.000000     224.000000   \n",
       "\n",
       "        mb_used_sum      gb_used      revenue  \n",
       "count   3216.000000  3216.000000  3216.000000  \n",
       "mean   17196.911608    16.292910  1441.558147  \n",
       "std     7580.754906     7.400266   771.892859  \n",
       "min        0.000000     0.000000   550.000000  \n",
       "25%    12478.765000    12.000000   655.000000  \n",
       "50%    16937.820000    16.000000  1466.500000  \n",
       "75%    21422.375000    20.000000  1950.000000  \n",
       "max    49745.690000    48.000000  6570.000000  "
      ]
     },
     "execution_count": 46,
     "metadata": {},
     "output_type": "execute_result"
    }
   ],
   "source": [
    "# статистические данные таблицы\n",
    "df.describe()"
   ]
  },
  {
   "cell_type": "markdown",
   "metadata": {},
   "source": [
    "### Вывод"
   ]
  },
  {
   "cell_type": "markdown",
   "metadata": {},
   "source": [
    "Создана сводная таблица с релевантными для данного исследования колонками: уникальный идентификатор пользователя, тариф, город, количество звонков и сумма израсходованных минут, количество сообщений, объем интернет-трафика в Мб и Гб, выручка. Данные указаны для каждого пользователя за месяц. Отсутствующие значения были заменены на 0, т.к. абоненты фактически не пользовались услугами.\n",
    "\n",
    "Согласно полученным данным, пользователи совершили от 1 до 244 звонков за месяц, проговорив от 0 до 1673 минут на 1 чел. Сообщений отправили от 0 до 224. Объем интернет-трафика - от 0 до 48 Гб. Выручка с каждого пользователя - от 550 до 6570 руб. за месяц. Результаты вполне могут соответствовать действительности."
   ]
  },
  {
   "cell_type": "markdown",
   "metadata": {},
   "source": [
    "## Исследовательский анализ данных"
   ]
  },
  {
   "cell_type": "code",
   "execution_count": 47,
   "metadata": {},
   "outputs": [],
   "source": [
    "# округление до 2 знака после запятой\n",
    "pd.options.display.float_format = '{:.2f}'.format"
   ]
  },
  {
   "cell_type": "code",
   "execution_count": 48,
   "metadata": {},
   "outputs": [
    {
     "data": {
      "text/html": [
       "<div>\n",
       "<style scoped>\n",
       "    .dataframe tbody tr th:only-of-type {\n",
       "        vertical-align: middle;\n",
       "    }\n",
       "\n",
       "    .dataframe tbody tr th {\n",
       "        vertical-align: top;\n",
       "    }\n",
       "\n",
       "    .dataframe thead th {\n",
       "        text-align: right;\n",
       "    }\n",
       "</style>\n",
       "<table border=\"1\" class=\"dataframe\">\n",
       "  <thead>\n",
       "    <tr style=\"text-align: right;\">\n",
       "      <th></th>\n",
       "      <th>call_sum</th>\n",
       "      <th>message_count</th>\n",
       "      <th>mb_used_sum</th>\n",
       "      <th>gb_used</th>\n",
       "      <th>revenue</th>\n",
       "    </tr>\n",
       "    <tr>\n",
       "      <th>month</th>\n",
       "      <th></th>\n",
       "      <th></th>\n",
       "      <th></th>\n",
       "      <th></th>\n",
       "      <th></th>\n",
       "    </tr>\n",
       "  </thead>\n",
       "  <tbody>\n",
       "    <tr>\n",
       "      <td>1.00</td>\n",
       "      <td>203.85</td>\n",
       "      <td>18.24</td>\n",
       "      <td>8513.72</td>\n",
       "      <td>7.74</td>\n",
       "      <td>680.15</td>\n",
       "    </tr>\n",
       "    <tr>\n",
       "      <td>2.00</td>\n",
       "      <td>298.69</td>\n",
       "      <td>24.09</td>\n",
       "      <td>11597.05</td>\n",
       "      <td>10.84</td>\n",
       "      <td>779.33</td>\n",
       "    </tr>\n",
       "    <tr>\n",
       "      <td>3.00</td>\n",
       "      <td>390.05</td>\n",
       "      <td>31.86</td>\n",
       "      <td>15104.16</td>\n",
       "      <td>14.23</td>\n",
       "      <td>1060.73</td>\n",
       "    </tr>\n",
       "    <tr>\n",
       "      <td>4.00</td>\n",
       "      <td>367.13</td>\n",
       "      <td>30.74</td>\n",
       "      <td>13462.18</td>\n",
       "      <td>12.62</td>\n",
       "      <td>882.73</td>\n",
       "    </tr>\n",
       "    <tr>\n",
       "      <td>5.00</td>\n",
       "      <td>387.36</td>\n",
       "      <td>33.77</td>\n",
       "      <td>15805.18</td>\n",
       "      <td>14.91</td>\n",
       "      <td>1088.29</td>\n",
       "    </tr>\n",
       "    <tr>\n",
       "      <td>6.00</td>\n",
       "      <td>395.64</td>\n",
       "      <td>33.40</td>\n",
       "      <td>15794.65</td>\n",
       "      <td>14.95</td>\n",
       "      <td>1093.04</td>\n",
       "    </tr>\n",
       "    <tr>\n",
       "      <td>7.00</td>\n",
       "      <td>408.35</td>\n",
       "      <td>33.75</td>\n",
       "      <td>15743.15</td>\n",
       "      <td>14.88</td>\n",
       "      <td>1113.50</td>\n",
       "    </tr>\n",
       "    <tr>\n",
       "      <td>8.00</td>\n",
       "      <td>421.47</td>\n",
       "      <td>33.64</td>\n",
       "      <td>16610.72</td>\n",
       "      <td>15.74</td>\n",
       "      <td>1194.64</td>\n",
       "    </tr>\n",
       "    <tr>\n",
       "      <td>9.00</td>\n",
       "      <td>428.61</td>\n",
       "      <td>33.64</td>\n",
       "      <td>16303.58</td>\n",
       "      <td>15.39</td>\n",
       "      <td>1135.33</td>\n",
       "    </tr>\n",
       "    <tr>\n",
       "      <td>10.00</td>\n",
       "      <td>426.14</td>\n",
       "      <td>33.77</td>\n",
       "      <td>16757.12</td>\n",
       "      <td>15.88</td>\n",
       "      <td>1243.09</td>\n",
       "    </tr>\n",
       "    <tr>\n",
       "      <td>11.00</td>\n",
       "      <td>435.27</td>\n",
       "      <td>34.08</td>\n",
       "      <td>16895.70</td>\n",
       "      <td>16.00</td>\n",
       "      <td>1214.57</td>\n",
       "    </tr>\n",
       "    <tr>\n",
       "      <td>12.00</td>\n",
       "      <td>478.56</td>\n",
       "      <td>35.99</td>\n",
       "      <td>18113.66</td>\n",
       "      <td>17.20</td>\n",
       "      <td>1436.10</td>\n",
       "    </tr>\n",
       "  </tbody>\n",
       "</table>\n",
       "</div>"
      ],
      "text/plain": [
       "       call_sum  message_count  mb_used_sum  gb_used  revenue\n",
       "month                                                        \n",
       "1.00     203.85          18.24      8513.72     7.74   680.15\n",
       "2.00     298.69          24.09     11597.05    10.84   779.33\n",
       "3.00     390.05          31.86     15104.16    14.23  1060.73\n",
       "4.00     367.13          30.74     13462.18    12.62   882.73\n",
       "5.00     387.36          33.77     15805.18    14.91  1088.29\n",
       "6.00     395.64          33.40     15794.65    14.95  1093.04\n",
       "7.00     408.35          33.75     15743.15    14.88  1113.50\n",
       "8.00     421.47          33.64     16610.72    15.74  1194.64\n",
       "9.00     428.61          33.64     16303.58    15.39  1135.33\n",
       "10.00    426.14          33.77     16757.12    15.88  1243.09\n",
       "11.00    435.27          34.08     16895.70    16.00  1214.57\n",
       "12.00    478.56          35.99     18113.66    17.20  1436.10"
      ]
     },
     "execution_count": 48,
     "metadata": {},
     "output_type": "execute_result"
    }
   ],
   "source": [
    "# среднее количество минут разговора, сообщений и объема интернет-трафика тарифа \"Смарт\" в месяц\n",
    "df_smart = df[df['tariff'] == 'smart'].groupby('month').agg({'mean'})\n",
    "df_smart.columns = ['user_id', 'call_count', 'call_sum', 'message_count', 'mb_used_sum', 'gb_used', 'revenue']\n",
    "df_smart = df_smart.drop(columns=['user_id', 'call_count'])\n",
    "df_smart"
   ]
  },
  {
   "cell_type": "code",
   "execution_count": 49,
   "metadata": {},
   "outputs": [
    {
     "data": {
      "text/html": [
       "<div>\n",
       "<style scoped>\n",
       "    .dataframe tbody tr th:only-of-type {\n",
       "        vertical-align: middle;\n",
       "    }\n",
       "\n",
       "    .dataframe tbody tr th {\n",
       "        vertical-align: top;\n",
       "    }\n",
       "\n",
       "    .dataframe thead th {\n",
       "        text-align: right;\n",
       "    }\n",
       "</style>\n",
       "<table border=\"1\" class=\"dataframe\">\n",
       "  <thead>\n",
       "    <tr style=\"text-align: right;\">\n",
       "      <th></th>\n",
       "      <th>call_sum</th>\n",
       "      <th>message_count</th>\n",
       "      <th>mb_used_sum</th>\n",
       "      <th>gb_used</th>\n",
       "      <th>revenue</th>\n",
       "    </tr>\n",
       "    <tr>\n",
       "      <th>month</th>\n",
       "      <th></th>\n",
       "      <th></th>\n",
       "      <th></th>\n",
       "      <th></th>\n",
       "      <th></th>\n",
       "    </tr>\n",
       "  </thead>\n",
       "  <tbody>\n",
       "    <tr>\n",
       "      <td>1.00</td>\n",
       "      <td>428.11</td>\n",
       "      <td>33.78</td>\n",
       "      <td>13140.68</td>\n",
       "      <td>12.22</td>\n",
       "      <td>1950.00</td>\n",
       "    </tr>\n",
       "    <tr>\n",
       "      <td>2.00</td>\n",
       "      <td>297.12</td>\n",
       "      <td>21.96</td>\n",
       "      <td>11775.94</td>\n",
       "      <td>11.08</td>\n",
       "      <td>1962.50</td>\n",
       "    </tr>\n",
       "    <tr>\n",
       "      <td>3.00</td>\n",
       "      <td>489.65</td>\n",
       "      <td>32.30</td>\n",
       "      <td>17535.55</td>\n",
       "      <td>16.65</td>\n",
       "      <td>1994.59</td>\n",
       "    </tr>\n",
       "    <tr>\n",
       "      <td>4.00</td>\n",
       "      <td>458.02</td>\n",
       "      <td>31.56</td>\n",
       "      <td>16828.13</td>\n",
       "      <td>15.96</td>\n",
       "      <td>1988.18</td>\n",
       "    </tr>\n",
       "    <tr>\n",
       "      <td>5.00</td>\n",
       "      <td>510.33</td>\n",
       "      <td>37.85</td>\n",
       "      <td>19363.15</td>\n",
       "      <td>18.40</td>\n",
       "      <td>2046.27</td>\n",
       "    </tr>\n",
       "    <tr>\n",
       "      <td>6.00</td>\n",
       "      <td>479.70</td>\n",
       "      <td>41.73</td>\n",
       "      <td>18924.94</td>\n",
       "      <td>17.95</td>\n",
       "      <td>2023.21</td>\n",
       "    </tr>\n",
       "    <tr>\n",
       "      <td>7.00</td>\n",
       "      <td>545.79</td>\n",
       "      <td>49.85</td>\n",
       "      <td>20495.67</td>\n",
       "      <td>19.52</td>\n",
       "      <td>2095.05</td>\n",
       "    </tr>\n",
       "    <tr>\n",
       "      <td>8.00</td>\n",
       "      <td>510.78</td>\n",
       "      <td>48.44</td>\n",
       "      <td>19576.05</td>\n",
       "      <td>18.61</td>\n",
       "      <td>2059.35</td>\n",
       "    </tr>\n",
       "    <tr>\n",
       "      <td>9.00</td>\n",
       "      <td>539.44</td>\n",
       "      <td>52.29</td>\n",
       "      <td>19204.28</td>\n",
       "      <td>18.25</td>\n",
       "      <td>2006.09</td>\n",
       "    </tr>\n",
       "    <tr>\n",
       "      <td>10.00</td>\n",
       "      <td>558.08</td>\n",
       "      <td>58.43</td>\n",
       "      <td>20045.34</td>\n",
       "      <td>19.07</td>\n",
       "      <td>2045.12</td>\n",
       "    </tr>\n",
       "    <tr>\n",
       "      <td>11.00</td>\n",
       "      <td>541.38</td>\n",
       "      <td>55.79</td>\n",
       "      <td>19786.81</td>\n",
       "      <td>18.81</td>\n",
       "      <td>2068.66</td>\n",
       "    </tr>\n",
       "    <tr>\n",
       "      <td>12.00</td>\n",
       "      <td>592.81</td>\n",
       "      <td>60.61</td>\n",
       "      <td>21793.17</td>\n",
       "      <td>20.75</td>\n",
       "      <td>2112.95</td>\n",
       "    </tr>\n",
       "  </tbody>\n",
       "</table>\n",
       "</div>"
      ],
      "text/plain": [
       "       call_sum  message_count  mb_used_sum  gb_used  revenue\n",
       "month                                                        \n",
       "1.00     428.11          33.78     13140.68    12.22  1950.00\n",
       "2.00     297.12          21.96     11775.94    11.08  1962.50\n",
       "3.00     489.65          32.30     17535.55    16.65  1994.59\n",
       "4.00     458.02          31.56     16828.13    15.96  1988.18\n",
       "5.00     510.33          37.85     19363.15    18.40  2046.27\n",
       "6.00     479.70          41.73     18924.94    17.95  2023.21\n",
       "7.00     545.79          49.85     20495.67    19.52  2095.05\n",
       "8.00     510.78          48.44     19576.05    18.61  2059.35\n",
       "9.00     539.44          52.29     19204.28    18.25  2006.09\n",
       "10.00    558.08          58.43     20045.34    19.07  2045.12\n",
       "11.00    541.38          55.79     19786.81    18.81  2068.66\n",
       "12.00    592.81          60.61     21793.17    20.75  2112.95"
      ]
     },
     "execution_count": 49,
     "metadata": {},
     "output_type": "execute_result"
    }
   ],
   "source": [
    "# среднее количество минут разговора, сообщений и объема интернет-трафика тарифа \"Ультра\" в месяц\n",
    "df_ultra = df[df['tariff'] == 'ultra'].groupby('month', as_index=False).agg({'mean'})\n",
    "df_ultra.columns = ['user_id', 'call_count', 'call_sum', 'message_count', 'mb_used_sum', 'gb_used', 'revenue']\n",
    "df_ultra = df_ultra.drop(columns=['user_id', 'call_count'])\n",
    "df_ultra"
   ]
  },
  {
   "cell_type": "code",
   "execution_count": 50,
   "metadata": {},
   "outputs": [
    {
     "data": {
      "text/html": [
       "<div>\n",
       "<style scoped>\n",
       "    .dataframe tbody tr th:only-of-type {\n",
       "        vertical-align: middle;\n",
       "    }\n",
       "\n",
       "    .dataframe tbody tr th {\n",
       "        vertical-align: top;\n",
       "    }\n",
       "\n",
       "    .dataframe thead th {\n",
       "        text-align: right;\n",
       "    }\n",
       "</style>\n",
       "<table border=\"1\" class=\"dataframe\">\n",
       "  <thead>\n",
       "    <tr style=\"text-align: right;\">\n",
       "      <th></th>\n",
       "      <th>count</th>\n",
       "    </tr>\n",
       "    <tr>\n",
       "      <th>month</th>\n",
       "      <th></th>\n",
       "    </tr>\n",
       "  </thead>\n",
       "  <tbody>\n",
       "    <tr>\n",
       "      <td>1.00</td>\n",
       "      <td>34</td>\n",
       "    </tr>\n",
       "    <tr>\n",
       "      <td>2.00</td>\n",
       "      <td>58</td>\n",
       "    </tr>\n",
       "    <tr>\n",
       "      <td>3.00</td>\n",
       "      <td>77</td>\n",
       "    </tr>\n",
       "    <tr>\n",
       "      <td>4.00</td>\n",
       "      <td>112</td>\n",
       "    </tr>\n",
       "    <tr>\n",
       "      <td>5.00</td>\n",
       "      <td>141</td>\n",
       "    </tr>\n",
       "    <tr>\n",
       "      <td>6.00</td>\n",
       "      <td>164</td>\n",
       "    </tr>\n",
       "    <tr>\n",
       "      <td>7.00</td>\n",
       "      <td>201</td>\n",
       "    </tr>\n",
       "    <tr>\n",
       "      <td>8.00</td>\n",
       "      <td>235</td>\n",
       "    </tr>\n",
       "    <tr>\n",
       "      <td>9.00</td>\n",
       "      <td>260</td>\n",
       "    </tr>\n",
       "    <tr>\n",
       "      <td>10.00</td>\n",
       "      <td>294</td>\n",
       "    </tr>\n",
       "    <tr>\n",
       "      <td>11.00</td>\n",
       "      <td>316</td>\n",
       "    </tr>\n",
       "    <tr>\n",
       "      <td>12.00</td>\n",
       "      <td>337</td>\n",
       "    </tr>\n",
       "  </tbody>\n",
       "</table>\n",
       "</div>"
      ],
      "text/plain": [
       "       count\n",
       "month       \n",
       "1.00      34\n",
       "2.00      58\n",
       "3.00      77\n",
       "4.00     112\n",
       "5.00     141\n",
       "6.00     164\n",
       "7.00     201\n",
       "8.00     235\n",
       "9.00     260\n",
       "10.00    294\n",
       "11.00    316\n",
       "12.00    337"
      ]
     },
     "metadata": {},
     "output_type": "display_data"
    },
    {
     "data": {
      "text/html": [
       "<div>\n",
       "<style scoped>\n",
       "    .dataframe tbody tr th:only-of-type {\n",
       "        vertical-align: middle;\n",
       "    }\n",
       "\n",
       "    .dataframe tbody tr th {\n",
       "        vertical-align: top;\n",
       "    }\n",
       "\n",
       "    .dataframe thead th {\n",
       "        text-align: right;\n",
       "    }\n",
       "</style>\n",
       "<table border=\"1\" class=\"dataframe\">\n",
       "  <thead>\n",
       "    <tr style=\"text-align: right;\">\n",
       "      <th></th>\n",
       "      <th>count</th>\n",
       "    </tr>\n",
       "    <tr>\n",
       "      <th>month</th>\n",
       "      <th></th>\n",
       "    </tr>\n",
       "  </thead>\n",
       "  <tbody>\n",
       "    <tr>\n",
       "      <td>1.00</td>\n",
       "      <td>9</td>\n",
       "    </tr>\n",
       "    <tr>\n",
       "      <td>2.00</td>\n",
       "      <td>24</td>\n",
       "    </tr>\n",
       "    <tr>\n",
       "      <td>3.00</td>\n",
       "      <td>37</td>\n",
       "    </tr>\n",
       "    <tr>\n",
       "      <td>4.00</td>\n",
       "      <td>55</td>\n",
       "    </tr>\n",
       "    <tr>\n",
       "      <td>5.00</td>\n",
       "      <td>67</td>\n",
       "    </tr>\n",
       "    <tr>\n",
       "      <td>6.00</td>\n",
       "      <td>84</td>\n",
       "    </tr>\n",
       "    <tr>\n",
       "      <td>7.00</td>\n",
       "      <td>91</td>\n",
       "    </tr>\n",
       "    <tr>\n",
       "      <td>8.00</td>\n",
       "      <td>107</td>\n",
       "    </tr>\n",
       "    <tr>\n",
       "      <td>9.00</td>\n",
       "      <td>115</td>\n",
       "    </tr>\n",
       "    <tr>\n",
       "      <td>10.00</td>\n",
       "      <td>123</td>\n",
       "    </tr>\n",
       "    <tr>\n",
       "      <td>11.00</td>\n",
       "      <td>134</td>\n",
       "    </tr>\n",
       "    <tr>\n",
       "      <td>12.00</td>\n",
       "      <td>139</td>\n",
       "    </tr>\n",
       "  </tbody>\n",
       "</table>\n",
       "</div>"
      ],
      "text/plain": [
       "       count\n",
       "month       \n",
       "1.00       9\n",
       "2.00      24\n",
       "3.00      37\n",
       "4.00      55\n",
       "5.00      67\n",
       "6.00      84\n",
       "7.00      91\n",
       "8.00     107\n",
       "9.00     115\n",
       "10.00    123\n",
       "11.00    134\n",
       "12.00    139"
      ]
     },
     "metadata": {},
     "output_type": "display_data"
    }
   ],
   "source": [
    "# новые клиенты по месяцам\n",
    "df_user_id_smart = df[df['tariff'] == 'smart'].groupby('month').agg({'count'}).user_id\n",
    "df_user_id_ultra = df[df['tariff'] == 'ultra'].groupby('month').agg({'count'}).user_id\n",
    "display(df_user_id_smart, df_user_id_ultra)"
   ]
  },
  {
   "cell_type": "code",
   "execution_count": 51,
   "metadata": {},
   "outputs": [
    {
     "data": {
      "text/plain": [
       "351"
      ]
     },
     "execution_count": 51,
     "metadata": {},
     "output_type": "execute_result"
    }
   ],
   "source": [
    "# количество клиентов с тарифом \"Смарт\"\n",
    "clients_smart = df[df['tariff'] == 'smart'].user_id.nunique()\n",
    "clients_smart"
   ]
  },
  {
   "cell_type": "code",
   "execution_count": 52,
   "metadata": {},
   "outputs": [
    {
     "data": {
      "text/plain": [
       "149"
      ]
     },
     "execution_count": 52,
     "metadata": {},
     "output_type": "execute_result"
    }
   ],
   "source": [
    "# количество клиентов с тарифом \"Ультра\"\n",
    "clients_ultra = df[df['tariff'] == 'ultra'].user_id.nunique()\n",
    "clients_ultra"
   ]
  },
  {
   "cell_type": "code",
   "execution_count": 53,
   "metadata": {},
   "outputs": [
    {
     "data": {
      "text/plain": [
       "0.61"
      ]
     },
     "metadata": {},
     "output_type": "display_data"
    },
    {
     "data": {
      "text/plain": [
       "0.0"
      ]
     },
     "metadata": {},
     "output_type": "display_data"
    }
   ],
   "source": [
    "# доля клиентов, которые использовали минуты сверх тарифного пакета\n",
    "df_call_smart = df[(df['tariff'] == 'smart') & (df['call_sum'] > 500)].groupby('user_id').agg({'mean'})\n",
    "display(round(df_call_smart.shape[0] / clients_smart, 2))\n",
    "\n",
    "df_call_ultra = df[(df['tariff'] == 'ultra') & (df['call_sum'] > 3000)].groupby('user_id').agg({'mean'})\n",
    "display(round(df_call_ultra.shape[0] / clients_ultra, 2))"
   ]
  },
  {
   "cell_type": "code",
   "execution_count": 54,
   "metadata": {},
   "outputs": [
    {
     "data": {
      "text/plain": [
       "0.36"
      ]
     },
     "metadata": {},
     "output_type": "display_data"
    },
    {
     "data": {
      "text/plain": [
       "0.0"
      ]
     },
     "metadata": {},
     "output_type": "display_data"
    }
   ],
   "source": [
    "# доля клиентов, которые отправляли сообщения сверх тарифного пакета\n",
    "df_message_smart = df[(df['tariff'] == 'smart') & (df['message_count'] > 50)].groupby('user_id').agg({'mean'})\n",
    "display(round(df_message_smart.shape[0] / clients_smart, 2))\n",
    "\n",
    "df_message_ultra = df[(df['tariff'] == 'ultra') & (df['message_count'] > 1000)].groupby('user_id').agg({'mean'})\n",
    "display(round(df_message_ultra.shape[0] / clients_ultra, 2))"
   ]
  },
  {
   "cell_type": "code",
   "execution_count": 55,
   "metadata": {},
   "outputs": [
    {
     "data": {
      "text/plain": [
       "0.84"
      ]
     },
     "metadata": {},
     "output_type": "display_data"
    },
    {
     "data": {
      "text/plain": [
       "0.26"
      ]
     },
     "metadata": {},
     "output_type": "display_data"
    }
   ],
   "source": [
    "# доля клиентов, которые использовали интернет сверх тарифного пакета\n",
    "df_gb_smart = df[(df['tariff'] == 'smart') & (df['gb_used'] > 15)].groupby('user_id').agg({'mean'})\n",
    "display(round(df_gb_smart.shape[0] / clients_smart, 2))\n",
    "\n",
    "df_gb_ultra = df[(df['tariff'] == 'ultra') & (df['gb_used'] > 30)].groupby('user_id').agg({'mean'})\n",
    "display(round(df_gb_ultra.shape[0] / clients_ultra, 2))"
   ]
  },
  {
   "cell_type": "code",
   "execution_count": 56,
   "metadata": {},
   "outputs": [
    {
     "data": {
      "text/plain": [
       "call_sum           5221.80\n",
       "message_count        26.04\n",
       "mb_used_sum     7135321.34\n",
       "gb_used               6.90\n",
       "revenue           43502.18\n",
       "dtype: float64"
      ]
     },
     "execution_count": 56,
     "metadata": {},
     "output_type": "execute_result"
    }
   ],
   "source": [
    "# дисперсия по тарифу \"Смарт\"\n",
    "variance_estimate_smart = np.var(df_smart, ddof=1)\n",
    "variance_estimate_smart"
   ]
  },
  {
   "cell_type": "code",
   "execution_count": 57,
   "metadata": {},
   "outputs": [
    {
     "data": {
      "text/plain": [
       "call_sum           5998.51\n",
       "message_count       151.79\n",
       "mb_used_sum     8915742.06\n",
       "gb_used               8.47\n",
       "revenue            2593.88\n",
       "dtype: float64"
      ]
     },
     "execution_count": 57,
     "metadata": {},
     "output_type": "execute_result"
    }
   ],
   "source": [
    "# дисперсия по тарифу \"Ультра\"\n",
    "variance_estimate_ultra = np.var(df_ultra, ddof=1)\n",
    "variance_estimate_ultra"
   ]
  },
  {
   "cell_type": "code",
   "execution_count": 58,
   "metadata": {},
   "outputs": [
    {
     "data": {
      "text/plain": [
       "call_sum          72.26\n",
       "message_count      5.10\n",
       "mb_used_sum     2671.20\n",
       "gb_used            2.63\n",
       "revenue          208.57\n",
       "dtype: float64"
      ]
     },
     "execution_count": 58,
     "metadata": {},
     "output_type": "execute_result"
    }
   ],
   "source": [
    "# стандартное отклонение по тарифу \"Смарт\"\n",
    "standard_deviation_smart = np.sqrt(variance_estimate_smart)\n",
    "standard_deviation_smart"
   ]
  },
  {
   "cell_type": "code",
   "execution_count": 59,
   "metadata": {},
   "outputs": [
    {
     "data": {
      "text/plain": [
       "call_sum          77.45\n",
       "message_count     12.32\n",
       "mb_used_sum     2985.92\n",
       "gb_used            2.91\n",
       "revenue           50.93\n",
       "dtype: float64"
      ]
     },
     "execution_count": 59,
     "metadata": {},
     "output_type": "execute_result"
    }
   ],
   "source": [
    "# стандартное отклонение по тарифу \"Ультра\"\n",
    "standard_deviation_ultra = np.sqrt(variance_estimate_ultra)\n",
    "standard_deviation_ultra"
   ]
  },
  {
   "cell_type": "code",
   "execution_count": 60,
   "metadata": {},
   "outputs": [
    {
     "data": {
      "image/png": "[encoded data removed]",
      "text/plain": [
       "<Figure size 1008x432 with 1 Axes>"
      ]
     },
     "metadata": {
      "needs_background": "light"
     },
     "output_type": "display_data"
    },
    {
     "data": {
      "image/png": "[encoded data removed]",
      "text/plain": [
       "<Figure size 1008x432 with 1 Axes>"
      ]
     },
     "metadata": {
      "needs_background": "light"
     },
     "output_type": "display_data"
    },
    {
     "data": {
      "image/png": "[encoded data removed]",
      "text/plain": [
       "<Figure size 1008x432 with 1 Axes>"
      ]
     },
     "metadata": {
      "needs_background": "light"
     },
     "output_type": "display_data"
    },
    {
     "data": {
      "image/png": "[encoded data removed]",
      "text/plain": [
       "<Figure size 1008x432 with 1 Axes>"
      ]
     },
     "metadata": {
      "needs_background": "light"
     },
     "output_type": "display_data"
    }
   ],
   "source": [
    "# функция гистограмм частоты распределения клиентов по используемым услугам мобильной связи и выручке\n",
    "for param in ['call_sum', 'message_count', 'gb_used','revenue']:\n",
    "    sns.distplot(df.loc[df['tariff'] == \"smart\", param], label='smart / '+param)\n",
    "    sns.distplot(df.loc[df['tariff'] == \"ultra\", param], label='ultra / '+param)\n",
    "    \n",
    "    plt.ylabel('частота')\n",
    "    plt.xlabel(param)\n",
    "    plt.grid()\n",
    "    plt.title(f'{param}')\n",
    "    plt.legend()\n",
    "    plt.show()"
   ]
  },
  {
   "cell_type": "code",
   "execution_count": 61,
   "metadata": {},
   "outputs": [
    {
     "data": {
      "image/png": "[encoded data removed]",
      "text/plain": [
       "<Figure size 1008x432 with 2 Axes>"
      ]
     },
     "metadata": {
      "needs_background": "light"
     },
     "output_type": "display_data"
    }
   ],
   "source": [
    "# qq-plot для оценки соответствия распределения наборов значений стандартному нормальному по количеству минут разговора\n",
    "plt.subplot(2,2,1)\n",
    "st.probplot(df.loc[df['tariff'] == \"smart\"]['call_sum'], dist=\"norm\", plot=plt)\n",
    "plt.subplot(2,2,2)\n",
    "st.probplot(df.loc[df['tariff'] == \"ultra\"]['call_sum'], dist=\"norm\", plot=plt)\n",
    "plt.show()"
   ]
  },
  {
   "cell_type": "code",
   "execution_count": 62,
   "metadata": {},
   "outputs": [
    {
     "data": {
      "image/png": "[encoded data removed]",
      "text/plain": [
       "<Figure size 864x576 with 2 Axes>"
      ]
     },
     "metadata": {
      "needs_background": "light"
     },
     "output_type": "display_data"
    }
   ],
   "source": [
    "# qq-plot для оценки соответствия распределения наборов значений стандартному нормальному по количеству сообщений\n",
    "plt.figure(figsize=(12,8))\n",
    "plt.subplot(2,2,1)\n",
    "st.probplot(df.loc[df['tariff'] == \"smart\"]['message_count'], dist=\"norm\", plot=plt)\n",
    "plt.subplot(2,2,2)\n",
    "st.probplot(df.loc[df['tariff'] == \"ultra\"]['message_count'], dist=\"norm\", plot=plt)\n",
    "plt.show()"
   ]
  },
  {
   "cell_type": "code",
   "execution_count": 63,
   "metadata": {},
   "outputs": [
    {
     "data": {
      "image/png": "[encoded data removed]",
      "text/plain": [
       "<Figure size 864x576 with 2 Axes>"
      ]
     },
     "metadata": {
      "needs_background": "light"
     },
     "output_type": "display_data"
    }
   ],
   "source": [
    "# qq-plot для оценки соответствия распределения наборов значений стандартному нормальному по выручке\n",
    "plt.figure(figsize=(12,8))\n",
    "plt.subplot(2,2,1)\n",
    "st.probplot(df.loc[df['tariff'] == \"smart\"]['revenue'], dist=\"norm\", plot=plt)\n",
    "plt.subplot(2,2,2)\n",
    "st.probplot(df.loc[df['tariff'] == \"ultra\"]['revenue'], dist=\"norm\", plot=plt)\n",
    "plt.show()"
   ]
  },
  {
   "cell_type": "code",
   "execution_count": 64,
   "metadata": {},
   "outputs": [
    {
     "data": {
      "image/png": "[encoded data removed]",
      "text/plain": [
       "<Figure size 864x576 with 2 Axes>"
      ]
     },
     "metadata": {
      "needs_background": "light"
     },
     "output_type": "display_data"
    }
   ],
   "source": [
    "# qq-plot для оценки соответствия распределения наборов значений стандартному нормальному по объему интернет-трафика\n",
    "plt.figure(figsize=(12,8))\n",
    "plt.subplot(2,2,1)\n",
    "st.probplot(df.loc[df['tariff'] == \"smart\"]['gb_used'], dist=\"norm\", plot=plt)\n",
    "plt.subplot(2,2,2)\n",
    "st.probplot(df.loc[df['tariff'] == \"ultra\"]['gb_used'], dist=\"norm\", plot=plt)\n",
    "plt.show()"
   ]
  },
  {
   "cell_type": "code",
   "execution_count": 65,
   "metadata": {},
   "outputs": [
    {
     "data": {
      "image/png": "[encoded data removed]",
      "text/plain": [
       "<Figure size 1008x432 with 1 Axes>"
      ]
     },
     "metadata": {
      "needs_background": "light"
     },
     "output_type": "display_data"
    }
   ],
   "source": [
    "# гистограмма по количеству минут разговора в месяц\n",
    "df_ultra.call_sum.plot(kind='bar', alpha=0.4, color='blue');\n",
    "df_smart.call_sum.plot(kind='bar', alpha=0.4, color='green');\n",
    "plt.legend(['ultra', 'smart']);\n",
    "plt.grid()"
   ]
  },
  {
   "cell_type": "code",
   "execution_count": 66,
   "metadata": {},
   "outputs": [
    {
     "data": {
      "image/png": "[encoded data removed]",
      "text/plain": [
       "<Figure size 1008x432 with 1 Axes>"
      ]
     },
     "metadata": {
      "needs_background": "light"
     },
     "output_type": "display_data"
    }
   ],
   "source": [
    "# гистограмма по количеству сообщений в месяц\n",
    "df_ultra.message_count.plot(kind='bar', alpha=0.4, color='blue');\n",
    "df_smart.message_count.plot(kind='bar', alpha=0.4, color='green');\n",
    "plt.legend(['ultra', 'smart']);\n",
    "plt.grid()"
   ]
  },
  {
   "cell_type": "code",
   "execution_count": 67,
   "metadata": {},
   "outputs": [
    {
     "data": {
      "image/png": "[encoded data removed]",
      "text/plain": [
       "<Figure size 1008x432 with 1 Axes>"
      ]
     },
     "metadata": {
      "needs_background": "light"
     },
     "output_type": "display_data"
    }
   ],
   "source": [
    "# гистограмма по объему интернет-трафика в месяц\n",
    "df_ultra.gb_used.plot(kind='bar', alpha=0.4, color='blue');\n",
    "df_smart.gb_used.plot(kind='bar', alpha=0.4, color='green');\n",
    "plt.legend(['ultra', 'smart']);\n",
    "plt.grid()"
   ]
  },
  {
   "cell_type": "markdown",
   "metadata": {},
   "source": [
    "### Вывод"
   ]
  },
  {
   "cell_type": "markdown",
   "metadata": {},
   "source": [
    "В месяц пользователи совершают в среднем почти 63 звонка, расходуя 451 минуту и 16,3 Гб интернета, отправляя 38,3 сообщений. Выручка в среднем на 1 пользователя составляет 1441,6 руб. в месяц. Медиана - 443 мин., 16 Гб, 30 сообщений, а медиана выручки - 1466,5 руб. Среднее и медиана не сильно отличаются друг от друга.\n",
    "\n",
    "Если сравнивать по месяцам, то в таблице и на графиках видно, что количество минут разговоров и сообщений, а также объем интернет-трафика постепенно возрастают с некоторыми исключениями по обоим тарифам. Так, количество минут у клиентов с тарифом \"Смарт\" (всего - 351) выросло с января по декабрь 2018 г. с 203,85 до 478,56 мин., количество сообщений - с 18,24 до 35,99, интернет-трафик - с 7,74 до 17,2 Гб. Это связано с тем, что каждый месяц к тарифу подключаются все больше новых клиентов. Вместе с тем, в ходе исследования выявлено, что в апреле был наибольший спад в использовании услуг мобильной связи как по количеству минут и сообщений, так и по объему интернет-трафика. \n",
    "\n",
    "У пользователей тарифа \"Ультра\" (149 клиентов) также вырос объем использования услуг с января по декабрь 2018 г. В феврале был самый заметный спад по количеству минут, сообщений и объему интернет-трафика (297,12 мин., 21,96 сообщений и 11,08 Гб соответственно). Значительный спад по количеству использования услуг мобильной связи произошел в феврале. Небольшие спады по количеству минут и объему интернет-трафика выявлены в апреле, июне, августе и ноябре. Больше всего клиенты пользовались услугами мобильной связи в декабре (592,81 минуты, 60,61 сообщений и 20,75 Гб).\n",
    "\n",
    "Кроме того, в данном разделе была посчитана выручка с пользователей, т.к. в дальнейшем необходимо будет по ней проверить гипотезы. Средняя выручка с каждого пользователя с тарифом \"Смарт\" стабильно росла с января с некоторыми падениями в апреле, сентябре и октябре (с 680,15 до 1436,1 руб.). А вот выручка с пользователей, пользующихся тарифом \"Ультра\", выросла всего на 162,95 руб. При этом с мая она оставалась примерно на одном уровне и только в декабре немного выросла. Это связано с тем, что абоненты более дорогого тарифа, как правило, не превышают лимит и платят примерно ту же сумму, которая оговорена в договоре, в отличие от абонентов более дешевого тарифа. Только 26% клиентов от всех клиентов данного тарифа превысили лимит по использованию интернета на тарифе \"Ультра\", при этом по звонкам и сообщениям превышений не было. На тарифе \"Смарт\" по количеству минут, сообщений и объему интернет-трафика превысили 61%, 36% и 84% клиентов указанного тарифа соответственно.\n",
    "\n",
    "Стандартное отклонение по тарифу \"smart\":\n",
    "* количество минут - 72,26\n",
    "* количество сообщений - 5,1\n",
    "* объем интернет-трафика в Гб - 2,63\n",
    "* выручка - 208,57\n",
    "\n",
    "Стандартное отклонение по тарифу \"Ультра\":\n",
    "* количество минут - 77,45\n",
    "* количество сообщений - 12,32\n",
    "* объем интернет-трафика в Гб - 2,91\n",
    "* выручка - 50,93\n",
    "\n",
    "Стандартное отклонение равняется корню из дисперсии, их значения пропорциональны. Стандартное отклонение по количеству минут, сообщений тарифа и объему интернет-трафика \"Смарт\" меньше, чем у \"Ультра\", но по выручке примерно в 4 раза больше.\n",
    "\n",
    "Графики по количеству минут разговора и объему интернет-трафика выглядят ближе к нормальному распределению. А вот график по количеству сообщений имеет сильно выраженную скошенность вправо, т.к. очень много нулевых значений (смс-сообщения не популярны при наличии удобных и бесплатных интернет-мессенджеров). Такая же скошенность у графика с выручкой на пользователя, т.к. есть большая доля клиентов, которые платят только ежемесячную плату и не превышают лимит, особенно, тех, кто подключил тариф \"Ультра\". Графики квантиль-квантиль подтверждают эти выводы."
   ]
  },
  {
   "cell_type": "markdown",
   "metadata": {},
   "source": [
    "## Проверка гипотезы"
   ]
  },
  {
   "cell_type": "markdown",
   "metadata": {},
   "source": [
    "*    средняя выручка пользователей тарифов «Ультра» и «Смарт» различаются;\n",
    "*    средняя выручка пользователей из Москвы отличается от выручки пользователей из других регионов."
   ]
  },
  {
   "cell_type": "markdown",
   "metadata": {},
   "source": [
    "<p>Введем основную и альтернативные гипотезы:</p>\n",
    "\n",
    "$\\begin{equation*}\n",
    " \\begin{cases}\n",
    "   H_0 :\\text{Средняя выручка пользователей тарифов «Ультра» и «Смарт» одинакова}\\\\\n",
    "   H_1 :\\text{Средняя выручка пользователей тарифов «Ультра» и «Смарт» различаются}\n",
    " \\end{cases}\n",
    "\\end{equation*}$"
   ]
  },
  {
   "cell_type": "code",
   "execution_count": 68,
   "metadata": {},
   "outputs": [
    {
     "data": {
      "text/plain": [
       "1172.6910313901346"
      ]
     },
     "execution_count": 68,
     "metadata": {},
     "output_type": "execute_result"
    }
   ],
   "source": [
    "# средняя выручка пользователей тарифа \"Смарт\"\n",
    "df.loc[df['tariff'] == \"smart\"]['revenue'].mean()"
   ]
  },
  {
   "cell_type": "code",
   "execution_count": 69,
   "metadata": {},
   "outputs": [
    {
     "data": {
      "text/plain": [
       "2049.6450304259633"
      ]
     },
     "execution_count": 69,
     "metadata": {},
     "output_type": "execute_result"
    }
   ],
   "source": [
    "# средняя выручка пользователей тарифа \"Ультра\"\n",
    "df.loc[df['tariff'] == \"ultra\"]['revenue'].mean()"
   ]
  },
  {
   "cell_type": "code",
   "execution_count": 70,
   "metadata": {},
   "outputs": [
    {
     "name": "stdout",
     "output_type": "stream",
     "text": [
      "p-value:  4.1118621621373367e-243\n",
      "Отвергаем нулевую гипотезу\n"
     ]
    }
   ],
   "source": [
    "# расчет p-value для сравнения средних двух выборок\n",
    "results = st.mannwhitneyu(df.loc[df['tariff'] == \"smart\"]['revenue'], \n",
    "                          df.loc[df['tariff'] == \"ultra\"]['revenue'], alternative='two-sided')\n",
    "print('p-value: ', results.pvalue)\n",
    "\n",
    "alpha = 0.05\n",
    "\n",
    "if (results.pvalue < alpha):\n",
    "    print(\"Отвергаем нулевую гипотезу\")\n",
    "else:\n",
    "    print(\"Не получилось отвергнуть нулевую гипотезу\")"
   ]
  },
  {
   "cell_type": "code",
   "execution_count": 71,
   "metadata": {},
   "outputs": [
    {
     "name": "stdout",
     "output_type": "stream",
     "text": [
      "p-value:  3.6584553538971e-05\n",
      "Отвергаем нулевую гипотезу\n"
     ]
    }
   ],
   "source": [
    "# расчет p-value для сравнения средних двух выборок по месяцам\n",
    "results = st.mannwhitneyu(df_smart.revenue, df_ultra.revenue, alternative='two-sided')\n",
    "print('p-value: ', results.pvalue)\n",
    "\n",
    "alpha = 0.05\n",
    "\n",
    "if (results.pvalue < alpha):\n",
    "    print(\"Отвергаем нулевую гипотезу\")\n",
    "else:\n",
    "    print(\"Не получилось отвергнуть нулевую гипотезу\")"
   ]
  },
  {
   "cell_type": "markdown",
   "metadata": {},
   "source": [
    "<p>Введем основную и альтернативные гипотезы:</p>\n",
    "\n",
    "$\\begin{equation*}\n",
    " \\begin{cases}\n",
    "   H_0 :\\text{Средняя выручка пользователей из Москвы не отличается от выручки пользователей из других регионов}\\\\\n",
    "   H_1 :\\text{Средняя выручка пользователей из Москвы отличается от выручки пользователей из других регионов}\n",
    " \\end{cases}\n",
    "\\end{equation*}$"
   ]
  },
  {
   "cell_type": "code",
   "execution_count": 72,
   "metadata": {},
   "outputs": [
    {
     "data": {
      "text/html": [
       "<div>\n",
       "<style scoped>\n",
       "    .dataframe tbody tr th:only-of-type {\n",
       "        vertical-align: middle;\n",
       "    }\n",
       "\n",
       "    .dataframe tbody tr th {\n",
       "        vertical-align: top;\n",
       "    }\n",
       "\n",
       "    .dataframe thead th {\n",
       "        text-align: right;\n",
       "    }\n",
       "</style>\n",
       "<table border=\"1\" class=\"dataframe\">\n",
       "  <thead>\n",
       "    <tr style=\"text-align: right;\">\n",
       "      <th></th>\n",
       "      <th>revenue</th>\n",
       "    </tr>\n",
       "    <tr>\n",
       "      <th>month</th>\n",
       "      <th></th>\n",
       "    </tr>\n",
       "  </thead>\n",
       "  <tbody>\n",
       "    <tr>\n",
       "      <td>1.00</td>\n",
       "      <td>1425.00</td>\n",
       "    </tr>\n",
       "    <tr>\n",
       "      <td>2.00</td>\n",
       "      <td>1135.86</td>\n",
       "    </tr>\n",
       "    <tr>\n",
       "      <td>3.00</td>\n",
       "      <td>1544.60</td>\n",
       "    </tr>\n",
       "    <tr>\n",
       "      <td>4.00</td>\n",
       "      <td>1449.86</td>\n",
       "    </tr>\n",
       "    <tr>\n",
       "      <td>5.00</td>\n",
       "      <td>1395.90</td>\n",
       "    </tr>\n",
       "    <tr>\n",
       "      <td>6.00</td>\n",
       "      <td>1434.77</td>\n",
       "    </tr>\n",
       "    <tr>\n",
       "      <td>7.00</td>\n",
       "      <td>1370.00</td>\n",
       "    </tr>\n",
       "    <tr>\n",
       "      <td>8.00</td>\n",
       "      <td>1516.84</td>\n",
       "    </tr>\n",
       "    <tr>\n",
       "      <td>9.00</td>\n",
       "      <td>1470.60</td>\n",
       "    </tr>\n",
       "    <tr>\n",
       "      <td>10.00</td>\n",
       "      <td>1465.07</td>\n",
       "    </tr>\n",
       "    <tr>\n",
       "      <td>11.00</td>\n",
       "      <td>1480.67</td>\n",
       "    </tr>\n",
       "    <tr>\n",
       "      <td>12.00</td>\n",
       "      <td>1558.34</td>\n",
       "    </tr>\n",
       "  </tbody>\n",
       "</table>\n",
       "</div>"
      ],
      "text/plain": [
       "       revenue\n",
       "month         \n",
       "1.00   1425.00\n",
       "2.00   1135.86\n",
       "3.00   1544.60\n",
       "4.00   1449.86\n",
       "5.00   1395.90\n",
       "6.00   1434.77\n",
       "7.00   1370.00\n",
       "8.00   1516.84\n",
       "9.00   1470.60\n",
       "10.00  1465.07\n",
       "11.00  1480.67\n",
       "12.00  1558.34"
      ]
     },
     "execution_count": 72,
     "metadata": {},
     "output_type": "execute_result"
    }
   ],
   "source": [
    "# средняя выручка пользователей из Москвы по месяцам\n",
    "df_ultra_Moscow = df[df['city'] == 'Москва'].groupby('month').agg({'mean'})\n",
    "df_ultra_Moscow.columns = ['user_id', 'call_count', 'call_sum', 'message_count', 'mb_used_sum', 'gb_used', 'revenue']\n",
    "df_ultra_Moscow = df_ultra_Moscow.drop(columns=['user_id', 'call_count', 'call_sum', 'message_count', 'mb_used_sum', 'gb_used'])\n",
    "df_ultra_Moscow"
   ]
  },
  {
   "cell_type": "code",
   "execution_count": 73,
   "metadata": {},
   "outputs": [
    {
     "data": {
      "text/html": [
       "<div>\n",
       "<style scoped>\n",
       "    .dataframe tbody tr th:only-of-type {\n",
       "        vertical-align: middle;\n",
       "    }\n",
       "\n",
       "    .dataframe tbody tr th {\n",
       "        vertical-align: top;\n",
       "    }\n",
       "\n",
       "    .dataframe thead th {\n",
       "        text-align: right;\n",
       "    }\n",
       "</style>\n",
       "<table border=\"1\" class=\"dataframe\">\n",
       "  <thead>\n",
       "    <tr style=\"text-align: right;\">\n",
       "      <th></th>\n",
       "      <th>revenue</th>\n",
       "    </tr>\n",
       "    <tr>\n",
       "      <th>month</th>\n",
       "      <th></th>\n",
       "    </tr>\n",
       "  </thead>\n",
       "  <tbody>\n",
       "    <tr>\n",
       "      <td>1.00</td>\n",
       "      <td>836.43</td>\n",
       "    </tr>\n",
       "    <tr>\n",
       "      <td>2.00</td>\n",
       "      <td>1123.51</td>\n",
       "    </tr>\n",
       "    <tr>\n",
       "      <td>3.00</td>\n",
       "      <td>1325.36</td>\n",
       "    </tr>\n",
       "    <tr>\n",
       "      <td>4.00</td>\n",
       "      <td>1204.13</td>\n",
       "    </tr>\n",
       "    <tr>\n",
       "      <td>5.00</td>\n",
       "      <td>1397.09</td>\n",
       "    </tr>\n",
       "    <tr>\n",
       "      <td>6.00</td>\n",
       "      <td>1401.87</td>\n",
       "    </tr>\n",
       "    <tr>\n",
       "      <td>7.00</td>\n",
       "      <td>1431.12</td>\n",
       "    </tr>\n",
       "    <tr>\n",
       "      <td>8.00</td>\n",
       "      <td>1453.74</td>\n",
       "    </tr>\n",
       "    <tr>\n",
       "      <td>9.00</td>\n",
       "      <td>1387.25</td>\n",
       "    </tr>\n",
       "    <tr>\n",
       "      <td>10.00</td>\n",
       "      <td>1483.17</td>\n",
       "    </tr>\n",
       "    <tr>\n",
       "      <td>11.00</td>\n",
       "      <td>1465.91</td>\n",
       "    </tr>\n",
       "    <tr>\n",
       "      <td>12.00</td>\n",
       "      <td>1652.80</td>\n",
       "    </tr>\n",
       "  </tbody>\n",
       "</table>\n",
       "</div>"
      ],
      "text/plain": [
       "       revenue\n",
       "month         \n",
       "1.00    836.43\n",
       "2.00   1123.51\n",
       "3.00   1325.36\n",
       "4.00   1204.13\n",
       "5.00   1397.09\n",
       "6.00   1401.87\n",
       "7.00   1431.12\n",
       "8.00   1453.74\n",
       "9.00   1387.25\n",
       "10.00  1483.17\n",
       "11.00  1465.91\n",
       "12.00  1652.80"
      ]
     },
     "execution_count": 73,
     "metadata": {},
     "output_type": "execute_result"
    }
   ],
   "source": [
    "# средняя выручка пользователей из регионов по месяцам\n",
    "df_ultra_regions = df[df['city'] != 'Москва'].groupby('month').agg({'mean'})\n",
    "df_ultra_regions.columns = ['user_id', 'call_count', 'call_sum', 'message_count', 'mb_used_sum', 'gb_used', 'revenue']\n",
    "df_ultra_regions = df_ultra_regions.drop(columns=['user_id', 'call_count', 'call_sum', 'message_count', 'mb_used_sum', 'gb_used', ])\n",
    "df_ultra_regions"
   ]
  },
  {
   "cell_type": "code",
   "execution_count": 74,
   "metadata": {},
   "outputs": [
    {
     "data": {
      "text/plain": [
       "1466.2716857610474"
      ]
     },
     "execution_count": 74,
     "metadata": {},
     "output_type": "execute_result"
    }
   ],
   "source": [
    "# средняя выручка пользователей из Москвы\n",
    "df.loc[df['city'] == \"Москва\"]['revenue'].mean()"
   ]
  },
  {
   "cell_type": "code",
   "execution_count": 75,
   "metadata": {},
   "outputs": [
    {
     "data": {
      "text/plain": [
       "1435.761612284069"
      ]
     },
     "execution_count": 75,
     "metadata": {},
     "output_type": "execute_result"
    }
   ],
   "source": [
    "# средняя выручка пользователей из других регионов\n",
    "df.loc[df['city'] != \"Москва\"]['revenue'].mean()"
   ]
  },
  {
   "cell_type": "code",
   "execution_count": 76,
   "metadata": {},
   "outputs": [
    {
     "data": {
      "text/plain": [
       "534392.7391805962"
      ]
     },
     "execution_count": 76,
     "metadata": {},
     "output_type": "execute_result"
    }
   ],
   "source": [
    "# дисперсия по пользователям из Москвы\n",
    "variance_estimate_Moscow = np.var(df.loc[df['city'] == \"Москва\"]['revenue'], ddof=1)\n",
    "variance_estimate_Moscow"
   ]
  },
  {
   "cell_type": "code",
   "execution_count": 77,
   "metadata": {},
   "outputs": [
    {
     "data": {
      "text/plain": [
       "610259.7845473228"
      ]
     },
     "execution_count": 77,
     "metadata": {},
     "output_type": "execute_result"
    }
   ],
   "source": [
    "# дисперсия по пользователям из регионов\n",
    "variance_estimate_regions = np.var(df.loc[df['city'] != \"Москва\"]['revenue'], ddof=1)\n",
    "variance_estimate_regions"
   ]
  },
  {
   "cell_type": "code",
   "execution_count": 78,
   "metadata": {},
   "outputs": [
    {
     "data": {
      "text/plain": [
       "731.0217091034959"
      ]
     },
     "execution_count": 78,
     "metadata": {},
     "output_type": "execute_result"
    }
   ],
   "source": [
    "# стандартное отклонение по пользователям из Москвы\n",
    "standard_deviation_Moscow = np.sqrt(variance_estimate_Moscow)\n",
    "standard_deviation_Moscow"
   ]
  },
  {
   "cell_type": "code",
   "execution_count": 79,
   "metadata": {},
   "outputs": [
    {
     "data": {
      "text/plain": [
       "781.1912599020311"
      ]
     },
     "execution_count": 79,
     "metadata": {},
     "output_type": "execute_result"
    }
   ],
   "source": [
    "# стандартное отклонение по пользователям из регионов\n",
    "standard_deviation_regions = np.sqrt(variance_estimate_regions)\n",
    "standard_deviation_regions"
   ]
  },
  {
   "cell_type": "code",
   "execution_count": 80,
   "metadata": {},
   "outputs": [
    {
     "data": {
      "image/png": "[encoded data removed]",
      "text/plain": [
       "<Figure size 1008x432 with 1 Axes>"
      ]
     },
     "metadata": {
      "needs_background": "light"
     },
     "output_type": "display_data"
    }
   ],
   "source": [
    "# функция гистограмм частоты распределения клиентов по выручке\n",
    "for param in ['revenue']:\n",
    "    sns.distplot(df.loc[df['city'] == \"Москва\", param], label='smart / '+param)\n",
    "    sns.distplot(df.loc[df['city'] != \"Москва\", param], label='ultra / '+param)\n",
    "    \n",
    "    plt.ylabel('частота')\n",
    "    plt.xlabel(param)\n",
    "    plt.grid()\n",
    "    plt.title(f'{param}')\n",
    "    plt.legend()\n",
    "    plt.show()"
   ]
  },
  {
   "cell_type": "code",
   "execution_count": 81,
   "metadata": {},
   "outputs": [
    {
     "data": {
      "image/png": "[encoded data removed]",
      "text/plain": [
       "<Figure size 864x576 with 2 Axes>"
      ]
     },
     "metadata": {
      "needs_background": "light"
     },
     "output_type": "display_data"
    }
   ],
   "source": [
    "# qq-plot для оценки соответствия распределения наборов значений стандартному нормальному по выручке\n",
    "plt.figure(figsize=(12,8))\n",
    "plt.subplot(2,2,1)\n",
    "st.probplot(df.loc[df['city'] == \"Москва\"]['revenue'], dist=\"norm\", plot=plt)\n",
    "plt.subplot(2,2,2)\n",
    "st.probplot(df.loc[df['city'] != \"Москва\"]['revenue'], dist=\"norm\", plot=plt)\n",
    "plt.show()"
   ]
  },
  {
   "cell_type": "code",
   "execution_count": 82,
   "metadata": {},
   "outputs": [
    {
     "name": "stdout",
     "output_type": "stream",
     "text": [
      "p-value:  0.24582149457472913\n",
      "Не получилось отвергнуть нулевую гипотезу\n"
     ]
    }
   ],
   "source": [
    "# расчет p-value для сравнения средних двух выборок\n",
    "results = st.mannwhitneyu(df.loc[df['city'] == \"Москва\"]['revenue'], \n",
    "                          df.loc[df['city'] != \"Москва\"]['revenue'], alternative='two-sided')\n",
    "print('p-value: ', results.pvalue)\n",
    "\n",
    "alpha = 0.05\n",
    "\n",
    "if (results.pvalue < alpha):\n",
    "    print(\"Отвергаем нулевую гипотезу\")\n",
    "else:\n",
    "    print(\"Не получилось отвергнуть нулевую гипотезу\")"
   ]
  },
  {
   "cell_type": "code",
   "execution_count": 83,
   "metadata": {},
   "outputs": [
    {
     "name": "stdout",
     "output_type": "stream",
     "text": [
      "p-value:  0.1748533068932927\n",
      "Не получилось отвергнуть нулевую гипотезу\n"
     ]
    }
   ],
   "source": [
    "# расчет p-value для сравнения средних двух выборок по месяцам\n",
    "results = st.mannwhitneyu(df_ultra_Moscow.revenue, df_ultra_regions.revenue, alternative='two-sided')\n",
    "print('p-value: ', results.pvalue)\n",
    "\n",
    "alpha = 0.05\n",
    "\n",
    "if (results.pvalue < alpha):\n",
    "    print(\"Отвергаем нулевую гипотезу\")\n",
    "else:\n",
    "    print(\"Не получилось отвергнуть нулевую гипотезу\")"
   ]
  },
  {
   "cell_type": "code",
   "execution_count": 84,
   "metadata": {},
   "outputs": [
    {
     "data": {
      "text/plain": [
       "2615101.0"
      ]
     },
     "execution_count": 84,
     "metadata": {},
     "output_type": "execute_result"
    }
   ],
   "source": [
    "# выручка (тариф \"Смарт\")\n",
    "df.query('tariff == \"smart\"').revenue.sum()"
   ]
  },
  {
   "cell_type": "code",
   "execution_count": 85,
   "metadata": {},
   "outputs": [
    {
     "data": {
      "text/plain": [
       "2020950.0"
      ]
     },
     "execution_count": 85,
     "metadata": {},
     "output_type": "execute_result"
    }
   ],
   "source": [
    "# выручка (тариф \"Ультра\")\n",
    "df.query('tariff == \"ultra\"').revenue.sum()"
   ]
  },
  {
   "cell_type": "markdown",
   "metadata": {},
   "source": [
    "### Вывод"
   ]
  },
  {
   "cell_type": "markdown",
   "metadata": {},
   "source": [
    "Как правило, нулевая гипотеза формулируется таким образом, чтобы среднее двух генеральных совокупностей равнялись между собой. Альтернативная гипотеза, соответственно, предполагает отсутствие равенства. \n",
    "\n",
    "В данном исследовании порог уроня значимости (p-value) равняется 0,05, что является общепринятым значением. Нулевая гипотеза отвергается, если p-value меньше 0,05. Иначе данные не позволили бы отвергнуть нулевую гипотезу.\n",
    "\n",
    "В исследовании использовался непараметрический тест Манна-Уитни, т.к. распределение случайных величин по выручке сильно отличается от нормального. В результате, p-value оказался близким к 0, т.е. нулевая гипотеза была отвергнута. И действительно, средняя выручка пользователей тарифов «Смарт» и «Ультра» различаются (1172,69 и 2049,65 руб. соответственно).\n",
    "\n",
    "Стандартное отклонение по пользователям из Москвы и из регионов - 731,02 и 781,19 соответственно. На графике выраженная скошенность вправо (положительная скошенность), т.к. много абонентов, не превысивших лимит. Наличие скошенности также показывают графики квантиль-квантиль. Расчет уровня значимости показал результат в 0,25, что больше 0.05, в связи с чем нулевая гипотеза о том, что средняя выручка пользователей из Москвы не отличается от выручки пользователей из других регионов, не может быть отвергнута. Среднее значение между пользователями из Москвы и других населенных пунктов составляет 1466,27 и 1435,76 руб. соответственно, что является недостаточно большой разницей. По данным, сгруппированным по месяцам, также не удалось отвергнуть нулевую гипотезу. Уровень значимости составил 0,17."
   ]
  },
  {
   "cell_type": "markdown",
   "metadata": {},
   "source": [
    "## Общий вывод"
   ]
  },
  {
   "cell_type": "markdown",
   "metadata": {},
   "source": [
    "В данном исследовании проведен анализ пользователей \"Мегалайна\" в возрасте от 18 до 75 лет из 76 населенных пунктов. Среднестатистический пользователь за 2018 г. совершил до 244 звонков за месяц, проговорид до 1673 минут, отправил до 224 сообщения и потратил до 48 Гб интернет-трафика. Выручка с каждого пользователя составила от 550 до 5670 руб. за месяц. \n",
    "\n",
    "Большинство клиентов пользуются более дешевым тарифом \"Смарт\" (351 чел.), ежемесячная плата которого составляет 550 руб. С января по декабрь 2018 г. количество звонков увеличилось с 203,85 до 478,56 мин., количество сообщений - с 18,24 до 35,99, интернет-трафик - с 7,44 до 17,2 Гб, благодаря тому, что новые клиенты подключались к мобильной связи. Пользователи тарифа \"Ультра\", как правило, чаще пользовали услугами, т.к. их лимит существенно больше, чем у тарифа \"Смарт\". Количество звонков составляло от 297,12 до 592,81 мин., сообщений - от 17,46 до 60,61, объем интернет-трафика - от 10,71 до 20,75 Гб. К этому тарифу также каждый месяц подключались новые пользователи.\n",
    "\n",
    "Если сравнивать по выручке, то на тарифе \"Ультра\" она менялась гораздо меньше (всего на 162,95 руб.), т.к. только 26% клиентов превысили лимит. На тарифе \"Смарт\" 61%, 36% и 84% клиентов превысили по количеству минут, сообщений и объему интернет-трафика, что существенно больше, чем на тарифе \"Ультра\". В результате, выручка по тарифу \"Смарт\" выросла с 680,15 до 1436,1 руб. На тарифе \"Ультра\" значительное большинство пользователей даже не приблизились к лимиту по количеству используемого объема услуг.\n",
    "\n",
    "В данном исследовании мы выяснили путем проверки гипотез, расчета p-value, что средняя выручка пользователей тарифов «Ультра» и «Смарт» различаются. Уровень значимости оказался гораздо меньше 0,05. И действительно, средняя выручка пользателей составляет 1172,69 и 2049,65 руб. соответственно.\n",
    "\n",
    "Далее мы проверили гипотезу, отличается ли средняя выручка пользователей из Москвы от выручки пользователей из других регионов. Расчет уровня значимости показал результат в 0,25, что больше 0,05, а значит нулевую гипотезу мы не можем отвергнуть. Из Москвы и других населенных пунктов средняя выручка составила 1466,27 и 1435,76 руб. соответственно. Отличия незначительны.\n",
    "\n",
    "Какой тариф перспективнее для бизнеса и почему?\n",
    "\n",
    "Для компании \"Мегалайн\" тариф \"Ультра\" приносит больше выручки на 1 чел. благодаря более высокой абонентской плате. С другой стороны, большая доля пользователей \"Смарт\" превышают лимит предоставления услуг мобильной связи и, при этом, их проще привлечь. С января по декабрь число клиентов тарифа \"Смарт\" увеличилось с 34 до 337 чел. В то же самое время клиентов тарифа \"Ультра\" выросло гораздо меньше - с 9 до 139 чел. Доля клиентов тарифа \"Ультра\" примерно в 2,4 раза меньше, чем клиентов тарифа \"Смарт\". Статистика показывает, что число клиентов тарифа \"Смарт\" будет и дальше расти опережающими по сравнению с альтернативным тарифом темпами. Для самих пользователей тариф \"Смарт\", безусловно, выгоднее, даже с учетом превышения лимита. В среднем, они почти в 2 раза меньше платят за мобильную связь, чем абоненты тарифа \"Ультра\".\n",
    "\n",
    "Для компании перспективнее тариф \"Смарт\". Общая выручка со всех клиентов тарифа \"Смарт\" составила 2 615 101 руб. за 2018 г., при этом выручка пользователей тарифа \"Ультра\" - 2 020 950 руб. Также у пользователей с более дешевой абонентской платой растут расходы за услуги мобильной связи сверх тарифного пакета, а это означает потенциальный рост выручки с каждого пользователя. Таким образом, более быстрый рост количества клиентов, увеличение выручки на одного пользователя и, в целом, по всем клиентам позволяют определить тариф \"Смарт\", как более выгодный для компании."
   ]
  },
  {
   "cell_type": "code",
   "execution_count": null,
   "metadata": {},
   "outputs": [],
   "source": []
  }
 ],
 "metadata": {
  "ExecuteTimeLog": [
   {
    "duration": 658,
    "start_time": "2022-01-22T23:09:40.190Z"
   },
   {
    "duration": 279,
    "start_time": "2022-01-22T23:12:25.527Z"
   },
   {
    "duration": 17,
    "start_time": "2022-01-22T23:12:29.293Z"
   },
   {
    "duration": 293,
    "start_time": "2022-01-22T23:13:13.429Z"
   },
   {
    "duration": 306,
    "start_time": "2022-01-22T23:13:32.223Z"
   },
   {
    "duration": 373,
    "start_time": "2022-01-22T23:13:59.732Z"
   },
   {
    "duration": 78,
    "start_time": "2022-01-22T23:14:45.118Z"
   },
   {
    "duration": 133,
    "start_time": "2022-01-22T23:14:47.069Z"
   },
   {
    "duration": 303,
    "start_time": "2022-01-22T23:17:39.480Z"
   },
   {
    "duration": 669,
    "start_time": "2022-01-22T23:17:48.133Z"
   },
   {
    "duration": 247,
    "start_time": "2022-01-22T23:17:48.803Z"
   },
   {
    "duration": 223,
    "start_time": "2022-01-22T23:17:49.052Z"
   },
   {
    "duration": 226,
    "start_time": "2022-01-22T23:17:49.277Z"
   },
   {
    "duration": 56,
    "start_time": "2022-01-22T23:17:49.504Z"
   },
   {
    "duration": 55,
    "start_time": "2022-01-22T23:17:49.561Z"
   },
   {
    "duration": 324,
    "start_time": "2022-01-22T23:18:09.577Z"
   },
   {
    "duration": 630,
    "start_time": "2022-01-22T23:18:15.153Z"
   },
   {
    "duration": 256,
    "start_time": "2022-01-22T23:18:15.785Z"
   },
   {
    "duration": 219,
    "start_time": "2022-01-22T23:18:16.046Z"
   },
   {
    "duration": 160,
    "start_time": "2022-01-22T23:18:16.267Z"
   },
   {
    "duration": 53,
    "start_time": "2022-01-22T23:18:16.429Z"
   },
   {
    "duration": 46,
    "start_time": "2022-01-22T23:18:16.484Z"
   },
   {
    "duration": 337,
    "start_time": "2022-01-22T23:18:16.532Z"
   },
   {
    "duration": 648,
    "start_time": "2022-01-23T08:25:46.714Z"
   },
   {
    "duration": 332,
    "start_time": "2022-01-23T08:25:47.363Z"
   },
   {
    "duration": 236,
    "start_time": "2022-01-23T08:25:47.696Z"
   },
   {
    "duration": 223,
    "start_time": "2022-01-23T08:25:47.934Z"
   },
   {
    "duration": 1054,
    "start_time": "2022-01-23T08:25:48.159Z"
   },
   {
    "duration": 80,
    "start_time": "2022-01-23T08:25:49.215Z"
   },
   {
    "duration": 1167,
    "start_time": "2022-01-23T08:25:49.296Z"
   },
   {
    "duration": 241,
    "start_time": "2022-01-23T08:33:25.683Z"
   },
   {
    "duration": 226,
    "start_time": "2022-01-23T08:33:52.571Z"
   },
   {
    "duration": 221,
    "start_time": "2022-01-23T08:34:06.555Z"
   },
   {
    "duration": 222,
    "start_time": "2022-01-23T08:34:23.156Z"
   },
   {
    "duration": 22,
    "start_time": "2022-01-23T08:34:43.658Z"
   },
   {
    "duration": 26,
    "start_time": "2022-01-23T08:34:54.963Z"
   },
   {
    "duration": 203,
    "start_time": "2022-01-23T08:36:04.334Z"
   },
   {
    "duration": 172,
    "start_time": "2022-01-23T08:36:47.467Z"
   },
   {
    "duration": 166,
    "start_time": "2022-01-23T08:36:59.123Z"
   },
   {
    "duration": 182,
    "start_time": "2022-01-23T08:37:19.948Z"
   },
   {
    "duration": 457,
    "start_time": "2022-01-23T08:37:54.832Z"
   },
   {
    "duration": 229,
    "start_time": "2022-01-23T08:38:14.491Z"
   },
   {
    "duration": 222,
    "start_time": "2022-01-23T08:38:21.396Z"
   },
   {
    "duration": 248,
    "start_time": "2022-01-23T08:38:28.297Z"
   },
   {
    "duration": 275,
    "start_time": "2022-01-23T08:42:23.692Z"
   },
   {
    "duration": 244,
    "start_time": "2022-01-23T08:42:31.389Z"
   },
   {
    "duration": 442,
    "start_time": "2022-01-23T08:43:05.982Z"
   },
   {
    "duration": 481,
    "start_time": "2022-01-23T08:43:16.318Z"
   },
   {
    "duration": 438,
    "start_time": "2022-01-23T08:43:52.415Z"
   },
   {
    "duration": 446,
    "start_time": "2022-01-23T08:43:57.725Z"
   },
   {
    "duration": 468,
    "start_time": "2022-01-23T08:44:08.429Z"
   },
   {
    "duration": 293,
    "start_time": "2022-01-23T08:44:23.842Z"
   },
   {
    "duration": 51,
    "start_time": "2022-01-23T08:45:29.053Z"
   },
   {
    "duration": 59,
    "start_time": "2022-01-23T08:45:36.598Z"
   },
   {
    "duration": 54,
    "start_time": "2022-01-23T08:45:44.337Z"
   },
   {
    "duration": 42,
    "start_time": "2022-01-23T08:46:36.933Z"
   },
   {
    "duration": 45,
    "start_time": "2022-01-23T08:46:43.374Z"
   },
   {
    "duration": 186,
    "start_time": "2022-01-23T08:47:12.989Z"
   },
   {
    "duration": 478,
    "start_time": "2022-01-23T08:47:33.534Z"
   },
   {
    "duration": 337,
    "start_time": "2022-01-23T08:47:43.564Z"
   },
   {
    "duration": 310,
    "start_time": "2022-01-23T08:48:04.254Z"
   },
   {
    "duration": 299,
    "start_time": "2022-01-23T08:55:58.303Z"
   },
   {
    "duration": 318,
    "start_time": "2022-01-23T08:59:46.440Z"
   },
   {
    "duration": 31,
    "start_time": "2022-01-23T09:03:52.193Z"
   },
   {
    "duration": 3,
    "start_time": "2022-01-23T09:09:32.703Z"
   },
   {
    "duration": 2,
    "start_time": "2022-01-23T09:09:46.033Z"
   },
   {
    "duration": 32,
    "start_time": "2022-01-23T09:10:01.832Z"
   },
   {
    "duration": 58,
    "start_time": "2022-01-23T09:11:04.458Z"
   },
   {
    "duration": 232,
    "start_time": "2022-01-23T09:11:41.809Z"
   },
   {
    "duration": 423,
    "start_time": "2022-01-23T09:11:50.217Z"
   },
   {
    "duration": 548,
    "start_time": "2022-01-23T09:12:54.089Z"
   },
   {
    "duration": 79,
    "start_time": "2022-01-23T09:39:40.272Z"
   },
   {
    "duration": 553,
    "start_time": "2022-01-23T09:39:51.185Z"
   },
   {
    "duration": 542,
    "start_time": "2022-01-23T09:40:04.553Z"
   },
   {
    "duration": 55,
    "start_time": "2022-01-23T09:41:00.793Z"
   },
   {
    "duration": 77,
    "start_time": "2022-01-23T09:41:04.929Z"
   },
   {
    "duration": 262,
    "start_time": "2022-01-23T09:41:10.496Z"
   },
   {
    "duration": 5,
    "start_time": "2022-01-23T09:42:36.489Z"
   },
   {
    "duration": 552,
    "start_time": "2022-01-23T09:43:20.060Z"
   },
   {
    "duration": 517,
    "start_time": "2022-01-23T09:44:28.617Z"
   },
   {
    "duration": 462,
    "start_time": "2022-01-23T09:45:40.197Z"
   },
   {
    "duration": 383,
    "start_time": "2022-01-23T09:45:58.576Z"
   },
   {
    "duration": 471,
    "start_time": "2022-01-23T09:46:27.034Z"
   },
   {
    "duration": 47,
    "start_time": "2022-01-23T09:46:51.473Z"
   },
   {
    "duration": 69,
    "start_time": "2022-01-23T09:50:02.690Z"
   },
   {
    "duration": 21,
    "start_time": "2022-01-23T09:51:54.824Z"
   },
   {
    "duration": 40,
    "start_time": "2022-01-23T10:04:21.794Z"
   },
   {
    "duration": 5,
    "start_time": "2022-01-23T10:13:52.788Z"
   },
   {
    "duration": 495,
    "start_time": "2022-01-23T10:14:13.690Z"
   },
   {
    "duration": 46,
    "start_time": "2022-01-23T10:14:19.164Z"
   },
   {
    "duration": 257,
    "start_time": "2022-01-23T10:14:27.794Z"
   },
   {
    "duration": 3,
    "start_time": "2022-01-23T10:14:30.387Z"
   },
   {
    "duration": 219,
    "start_time": "2022-01-23T10:24:15.346Z"
   },
   {
    "duration": 248,
    "start_time": "2022-01-23T10:24:18.434Z"
   },
   {
    "duration": 231,
    "start_time": "2022-01-23T10:24:22.514Z"
   },
   {
    "duration": 50,
    "start_time": "2022-01-23T10:24:27.546Z"
   },
   {
    "duration": 52,
    "start_time": "2022-01-23T10:24:34.668Z"
   },
   {
    "duration": 247,
    "start_time": "2022-01-23T10:25:35.258Z"
   },
   {
    "duration": 36,
    "start_time": "2022-01-23T10:25:42.971Z"
   },
   {
    "duration": 6,
    "start_time": "2022-01-23T10:27:57.650Z"
   },
   {
    "duration": 12,
    "start_time": "2022-01-23T10:28:02.124Z"
   },
   {
    "duration": 33,
    "start_time": "2022-01-23T10:28:46.329Z"
   },
   {
    "duration": 35,
    "start_time": "2022-01-23T10:28:47.162Z"
   },
   {
    "duration": 37,
    "start_time": "2022-01-23T10:28:48.222Z"
   },
   {
    "duration": 28,
    "start_time": "2022-01-23T10:28:49.896Z"
   },
   {
    "duration": 5,
    "start_time": "2022-01-23T10:29:06.403Z"
   },
   {
    "duration": 234,
    "start_time": "2022-01-23T10:40:24.828Z"
   },
   {
    "duration": 10,
    "start_time": "2022-01-23T10:41:44.251Z"
   },
   {
    "duration": 7,
    "start_time": "2022-01-23T10:42:04.733Z"
   },
   {
    "duration": 15,
    "start_time": "2022-01-23T10:42:12.348Z"
   },
   {
    "duration": 14,
    "start_time": "2022-01-23T10:42:26.185Z"
   },
   {
    "duration": 10,
    "start_time": "2022-01-23T10:42:43.408Z"
   },
   {
    "duration": 10,
    "start_time": "2022-01-23T10:43:03.421Z"
   },
   {
    "duration": 9,
    "start_time": "2022-01-23T10:43:11.387Z"
   },
   {
    "duration": 31,
    "start_time": "2022-01-23T10:43:19.740Z"
   },
   {
    "duration": 30,
    "start_time": "2022-01-23T10:43:30.228Z"
   },
   {
    "duration": 10,
    "start_time": "2022-01-23T10:43:37.418Z"
   },
   {
    "duration": 27,
    "start_time": "2022-01-23T10:43:45.405Z"
   },
   {
    "duration": 9,
    "start_time": "2022-01-23T10:43:52.395Z"
   },
   {
    "duration": 5,
    "start_time": "2022-01-23T10:45:45.436Z"
   },
   {
    "duration": 5,
    "start_time": "2022-01-23T10:45:51.604Z"
   },
   {
    "duration": 6,
    "start_time": "2022-01-23T10:45:56.237Z"
   },
   {
    "duration": 24,
    "start_time": "2022-01-23T10:50:53.860Z"
   },
   {
    "duration": 249,
    "start_time": "2022-01-23T10:53:35.795Z"
   },
   {
    "duration": 224,
    "start_time": "2022-01-23T10:53:39.029Z"
   },
   {
    "duration": 5,
    "start_time": "2022-01-23T10:53:45.956Z"
   },
   {
    "duration": 51,
    "start_time": "2022-01-23T10:53:57.399Z"
   },
   {
    "duration": 16,
    "start_time": "2022-01-23T10:55:53.084Z"
   },
   {
    "duration": 10,
    "start_time": "2022-01-23T10:55:58.672Z"
   },
   {
    "duration": 19,
    "start_time": "2022-01-23T10:56:58.492Z"
   },
   {
    "duration": 8,
    "start_time": "2022-01-23T10:57:58.652Z"
   },
   {
    "duration": 10,
    "start_time": "2022-01-23T10:58:43.756Z"
   },
   {
    "duration": 10,
    "start_time": "2022-01-23T10:59:06.966Z"
   },
   {
    "duration": 30,
    "start_time": "2022-01-23T10:59:23.605Z"
   },
   {
    "duration": 26,
    "start_time": "2022-01-23T10:59:54.229Z"
   },
   {
    "duration": 256,
    "start_time": "2022-01-23T11:00:40.478Z"
   },
   {
    "duration": 14,
    "start_time": "2022-01-23T11:00:45.517Z"
   },
   {
    "duration": 14,
    "start_time": "2022-01-23T11:05:15.228Z"
   },
   {
    "duration": 950,
    "start_time": "2022-01-23T11:08:32.398Z"
   },
   {
    "duration": 17,
    "start_time": "2022-01-23T11:09:05.111Z"
   },
   {
    "duration": 18,
    "start_time": "2022-01-23T11:09:16.293Z"
   },
   {
    "duration": 16,
    "start_time": "2022-01-23T11:09:58.438Z"
   },
   {
    "duration": 20,
    "start_time": "2022-01-23T11:10:32.999Z"
   },
   {
    "duration": 603,
    "start_time": "2022-01-23T11:20:09.687Z"
   },
   {
    "duration": 338,
    "start_time": "2022-01-23T11:21:08.542Z"
   },
   {
    "duration": 325,
    "start_time": "2022-01-23T11:21:40.561Z"
   },
   {
    "duration": 297,
    "start_time": "2022-01-23T11:22:08.529Z"
   },
   {
    "duration": 4,
    "start_time": "2022-01-23T11:22:16.383Z"
   },
   {
    "duration": 562,
    "start_time": "2022-01-23T11:22:19.057Z"
   },
   {
    "duration": 9,
    "start_time": "2022-01-23T11:22:40.550Z"
   },
   {
    "duration": 560,
    "start_time": "2022-01-23T11:23:18.423Z"
   },
   {
    "duration": 566,
    "start_time": "2022-01-23T11:23:37.311Z"
   },
   {
    "duration": 481,
    "start_time": "2022-01-23T11:23:48.254Z"
   },
   {
    "duration": 561,
    "start_time": "2022-01-23T11:24:02.800Z"
   },
   {
    "duration": 91,
    "start_time": "2022-01-23T11:24:32.823Z"
   },
   {
    "duration": 71,
    "start_time": "2022-01-23T11:24:42.088Z"
   },
   {
    "duration": 5,
    "start_time": "2022-01-23T11:24:51.470Z"
   },
   {
    "duration": 651,
    "start_time": "2022-01-23T11:25:01.379Z"
   },
   {
    "duration": 262,
    "start_time": "2022-01-23T11:25:02.032Z"
   },
   {
    "duration": 270,
    "start_time": "2022-01-23T11:25:02.296Z"
   },
   {
    "duration": 221,
    "start_time": "2022-01-23T11:25:02.568Z"
   },
   {
    "duration": 44,
    "start_time": "2022-01-23T11:25:02.791Z"
   },
   {
    "duration": 47,
    "start_time": "2022-01-23T11:25:02.836Z"
   },
   {
    "duration": 3,
    "start_time": "2022-01-23T11:25:02.885Z"
   },
   {
    "duration": 633,
    "start_time": "2022-01-23T11:25:02.891Z"
   },
   {
    "duration": 100,
    "start_time": "2022-01-23T11:25:03.527Z"
   },
   {
    "duration": 72,
    "start_time": "2022-01-23T11:25:03.629Z"
   },
   {
    "duration": 250,
    "start_time": "2022-01-23T11:25:03.712Z"
   },
   {
    "duration": 31,
    "start_time": "2022-01-23T11:25:03.963Z"
   },
   {
    "duration": 3,
    "start_time": "2022-01-23T11:25:03.996Z"
   },
   {
    "duration": 13,
    "start_time": "2022-01-23T11:25:04.000Z"
   },
   {
    "duration": 5,
    "start_time": "2022-01-23T11:25:04.014Z"
   },
   {
    "duration": 7,
    "start_time": "2022-01-23T11:25:04.020Z"
   },
   {
    "duration": 37,
    "start_time": "2022-01-23T11:25:04.028Z"
   },
   {
    "duration": 55,
    "start_time": "2022-01-23T11:25:04.066Z"
   },
   {
    "duration": 33,
    "start_time": "2022-01-23T11:25:04.122Z"
   },
   {
    "duration": 31,
    "start_time": "2022-01-23T11:25:04.157Z"
   },
   {
    "duration": 45,
    "start_time": "2022-01-23T11:25:04.189Z"
   },
   {
    "duration": 5,
    "start_time": "2022-01-23T11:25:04.235Z"
   },
   {
    "duration": 4,
    "start_time": "2022-01-23T11:25:04.243Z"
   },
   {
    "duration": 1117,
    "start_time": "2022-01-23T11:25:04.249Z"
   },
   {
    "duration": 406,
    "start_time": "2022-01-23T11:25:04.961Z"
   },
   {
    "duration": 403,
    "start_time": "2022-01-23T11:25:04.965Z"
   },
   {
    "duration": 397,
    "start_time": "2022-01-23T11:25:04.973Z"
   },
   {
    "duration": 394,
    "start_time": "2022-01-23T11:25:04.976Z"
   },
   {
    "duration": 392,
    "start_time": "2022-01-23T11:25:04.979Z"
   },
   {
    "duration": 407,
    "start_time": "2022-01-23T11:25:32.503Z"
   },
   {
    "duration": 22,
    "start_time": "2022-01-23T11:25:38.496Z"
   },
   {
    "duration": 48,
    "start_time": "2022-01-23T11:25:39.839Z"
   },
   {
    "duration": 294,
    "start_time": "2022-01-23T11:27:46.483Z"
   },
   {
    "duration": 388,
    "start_time": "2022-01-23T11:27:57.352Z"
   },
   {
    "duration": 25,
    "start_time": "2022-01-23T11:28:05.282Z"
   },
   {
    "duration": 257,
    "start_time": "2022-01-23T11:28:43.631Z"
   },
   {
    "duration": 244,
    "start_time": "2022-01-23T11:29:11.688Z"
   },
   {
    "duration": 31,
    "start_time": "2022-01-23T11:29:53.689Z"
   },
   {
    "duration": 33,
    "start_time": "2022-01-23T11:30:06.758Z"
   },
   {
    "duration": 32,
    "start_time": "2022-01-23T11:30:43.551Z"
   },
   {
    "duration": 983,
    "start_time": "2022-01-23T11:41:11.064Z"
   },
   {
    "duration": 35,
    "start_time": "2022-01-23T11:41:28.655Z"
   },
   {
    "duration": 31,
    "start_time": "2022-01-23T11:43:21.736Z"
   },
   {
    "duration": 39,
    "start_time": "2022-01-23T11:46:25.400Z"
   },
   {
    "duration": 6,
    "start_time": "2022-01-23T11:47:56.774Z"
   },
   {
    "duration": 21,
    "start_time": "2022-01-23T11:48:00.567Z"
   },
   {
    "duration": 81,
    "start_time": "2022-01-23T11:51:46.495Z"
   },
   {
    "duration": 111,
    "start_time": "2022-01-23T11:51:53.975Z"
   },
   {
    "duration": 79,
    "start_time": "2022-01-23T11:52:10.199Z"
   },
   {
    "duration": 23,
    "start_time": "2022-01-23T11:52:13.896Z"
   },
   {
    "duration": 236,
    "start_time": "2022-01-23T11:58:56.937Z"
   },
   {
    "duration": 227,
    "start_time": "2022-01-23T11:59:04.680Z"
   },
   {
    "duration": 241,
    "start_time": "2022-01-23T12:01:16.207Z"
   },
   {
    "duration": 283,
    "start_time": "2022-01-23T12:01:21.495Z"
   },
   {
    "duration": 4,
    "start_time": "2022-01-23T12:01:33.000Z"
   },
   {
    "duration": 97,
    "start_time": "2022-01-23T12:01:36.471Z"
   },
   {
    "duration": 1048,
    "start_time": "2022-01-23T12:04:01.513Z"
   },
   {
    "duration": 4,
    "start_time": "2022-01-23T12:04:07.479Z"
   },
   {
    "duration": 81,
    "start_time": "2022-01-23T12:04:09.568Z"
   },
   {
    "duration": 85,
    "start_time": "2022-01-23T12:04:21.377Z"
   },
   {
    "duration": 547,
    "start_time": "2022-01-23T12:05:22.377Z"
   },
   {
    "duration": 26,
    "start_time": "2022-01-23T12:05:40.016Z"
   },
   {
    "duration": 284,
    "start_time": "2022-01-23T12:07:04.078Z"
   },
   {
    "duration": 264,
    "start_time": "2022-01-23T12:21:58.237Z"
   },
   {
    "duration": 272,
    "start_time": "2022-01-23T12:22:30.225Z"
   },
   {
    "duration": 478,
    "start_time": "2022-01-23T12:22:33.976Z"
   },
   {
    "duration": 789,
    "start_time": "2022-01-23T12:22:52.719Z"
   },
   {
    "duration": 315,
    "start_time": "2022-01-23T12:22:53.510Z"
   },
   {
    "duration": 261,
    "start_time": "2022-01-23T12:22:53.829Z"
   },
   {
    "duration": 1225,
    "start_time": "2022-01-23T12:22:54.092Z"
   },
   {
    "duration": 80,
    "start_time": "2022-01-23T12:22:55.318Z"
   },
   {
    "duration": 89,
    "start_time": "2022-01-23T12:22:55.400Z"
   },
   {
    "duration": 4,
    "start_time": "2022-01-23T12:22:55.491Z"
   },
   {
    "duration": 611,
    "start_time": "2022-01-23T12:22:55.497Z"
   },
   {
    "duration": 89,
    "start_time": "2022-01-23T12:22:56.112Z"
   },
   {
    "duration": 78,
    "start_time": "2022-01-23T12:22:56.203Z"
   },
   {
    "duration": 263,
    "start_time": "2022-01-23T12:22:56.283Z"
   },
   {
    "duration": 27,
    "start_time": "2022-01-23T12:22:56.548Z"
   },
   {
    "duration": 3,
    "start_time": "2022-01-23T12:22:56.577Z"
   },
   {
    "duration": 6,
    "start_time": "2022-01-23T12:22:56.581Z"
   },
   {
    "duration": 10,
    "start_time": "2022-01-23T12:22:56.589Z"
   },
   {
    "duration": 16,
    "start_time": "2022-01-23T12:22:56.600Z"
   },
   {
    "duration": 55,
    "start_time": "2022-01-23T12:22:56.618Z"
   },
   {
    "duration": 46,
    "start_time": "2022-01-23T12:22:56.675Z"
   },
   {
    "duration": 37,
    "start_time": "2022-01-23T12:22:56.723Z"
   },
   {
    "duration": 32,
    "start_time": "2022-01-23T12:22:56.761Z"
   },
   {
    "duration": 45,
    "start_time": "2022-01-23T12:22:56.795Z"
   },
   {
    "duration": 30,
    "start_time": "2022-01-23T12:22:56.843Z"
   },
   {
    "duration": 299,
    "start_time": "2022-01-23T12:22:56.875Z"
   },
   {
    "duration": 396,
    "start_time": "2022-01-23T12:22:56.779Z"
   },
   {
    "duration": 393,
    "start_time": "2022-01-23T12:22:56.783Z"
   },
   {
    "duration": 385,
    "start_time": "2022-01-23T12:22:56.792Z"
   },
   {
    "duration": 384,
    "start_time": "2022-01-23T12:22:56.794Z"
   },
   {
    "duration": 382,
    "start_time": "2022-01-23T12:22:56.797Z"
   },
   {
    "duration": 380,
    "start_time": "2022-01-23T12:22:56.799Z"
   },
   {
    "duration": 378,
    "start_time": "2022-01-23T12:22:56.802Z"
   },
   {
    "duration": 374,
    "start_time": "2022-01-23T12:22:56.807Z"
   },
   {
    "duration": 374,
    "start_time": "2022-01-23T12:22:56.808Z"
   },
   {
    "duration": 5,
    "start_time": "2022-01-23T12:23:14.249Z"
   },
   {
    "duration": 5,
    "start_time": "2022-01-23T12:23:20.433Z"
   },
   {
    "duration": 24,
    "start_time": "2022-01-23T12:23:20.439Z"
   },
   {
    "duration": 1102,
    "start_time": "2022-01-23T12:23:20.464Z"
   },
   {
    "duration": 424,
    "start_time": "2022-01-23T12:23:21.144Z"
   },
   {
    "duration": 421,
    "start_time": "2022-01-23T12:23:21.148Z"
   },
   {
    "duration": 419,
    "start_time": "2022-01-23T12:23:21.151Z"
   },
   {
    "duration": 412,
    "start_time": "2022-01-23T12:23:21.159Z"
   },
   {
    "duration": 409,
    "start_time": "2022-01-23T12:23:21.163Z"
   },
   {
    "duration": 41,
    "start_time": "2022-01-23T12:23:36.949Z"
   },
   {
    "duration": 40,
    "start_time": "2022-01-23T12:24:05.963Z"
   },
   {
    "duration": 41,
    "start_time": "2022-01-23T12:24:07.747Z"
   },
   {
    "duration": 311,
    "start_time": "2022-01-23T12:26:36.958Z"
   },
   {
    "duration": 74,
    "start_time": "2022-01-23T12:29:26.954Z"
   },
   {
    "duration": 3585,
    "start_time": "2022-01-23T12:56:41.084Z"
   },
   {
    "duration": 3091,
    "start_time": "2022-01-23T12:57:03.102Z"
   },
   {
    "duration": 39,
    "start_time": "2022-01-23T12:57:11.869Z"
   },
   {
    "duration": 3022,
    "start_time": "2022-01-23T12:57:15.548Z"
   },
   {
    "duration": 26,
    "start_time": "2022-01-23T13:04:04.526Z"
   },
   {
    "duration": 233,
    "start_time": "2022-01-23T13:11:04.990Z"
   },
   {
    "duration": 6983,
    "start_time": "2022-01-23T13:11:12.245Z"
   },
   {
    "duration": 6618,
    "start_time": "2022-01-23T13:11:45.798Z"
   },
   {
    "duration": 387,
    "start_time": "2022-01-23T13:12:16.733Z"
   },
   {
    "duration": 406,
    "start_time": "2022-01-23T13:12:42.175Z"
   },
   {
    "duration": 5869,
    "start_time": "2022-01-23T13:13:10.822Z"
   },
   {
    "duration": 289,
    "start_time": "2022-01-23T13:13:36.003Z"
   },
   {
    "duration": 286,
    "start_time": "2022-01-23T13:14:46.376Z"
   },
   {
    "duration": 4,
    "start_time": "2022-01-23T13:20:04.483Z"
   },
   {
    "duration": 4,
    "start_time": "2022-01-23T13:20:45.057Z"
   },
   {
    "duration": 296,
    "start_time": "2022-01-23T13:21:00.768Z"
   },
   {
    "duration": 302,
    "start_time": "2022-01-23T13:21:14.001Z"
   },
   {
    "duration": 5,
    "start_time": "2022-01-23T13:31:55.805Z"
   },
   {
    "duration": 4,
    "start_time": "2022-01-23T13:32:08.408Z"
   },
   {
    "duration": 5,
    "start_time": "2022-01-23T13:32:14.813Z"
   },
   {
    "duration": 4,
    "start_time": "2022-01-23T13:32:20.663Z"
   },
   {
    "duration": 236,
    "start_time": "2022-01-23T13:45:32.624Z"
   },
   {
    "duration": 7,
    "start_time": "2022-01-23T13:45:45.054Z"
   },
   {
    "duration": 11,
    "start_time": "2022-01-23T13:46:55.446Z"
   },
   {
    "duration": 6,
    "start_time": "2022-01-23T13:47:38.598Z"
   },
   {
    "duration": 11,
    "start_time": "2022-01-23T13:47:44.521Z"
   },
   {
    "duration": 22,
    "start_time": "2022-01-23T13:48:26.610Z"
   },
   {
    "duration": 26,
    "start_time": "2022-01-23T13:48:40.017Z"
   },
   {
    "duration": 26,
    "start_time": "2022-01-23T13:49:28.078Z"
   },
   {
    "duration": 971,
    "start_time": "2022-01-23T13:51:09.007Z"
   },
   {
    "duration": 248,
    "start_time": "2022-01-23T13:51:18.350Z"
   },
   {
    "duration": 312,
    "start_time": "2022-01-23T13:51:39.487Z"
   },
   {
    "duration": 20,
    "start_time": "2022-01-23T13:51:44.694Z"
   },
   {
    "duration": 20,
    "start_time": "2022-01-23T13:51:59.864Z"
   },
   {
    "duration": 21,
    "start_time": "2022-01-23T13:52:14.254Z"
   },
   {
    "duration": 627,
    "start_time": "2022-01-23T13:52:23.547Z"
   },
   {
    "duration": 329,
    "start_time": "2022-01-23T13:52:24.178Z"
   },
   {
    "duration": 259,
    "start_time": "2022-01-23T13:52:24.512Z"
   },
   {
    "duration": 179,
    "start_time": "2022-01-23T13:52:24.773Z"
   },
   {
    "duration": 77,
    "start_time": "2022-01-23T13:52:24.954Z"
   },
   {
    "duration": 1107,
    "start_time": "2022-01-23T13:52:25.033Z"
   },
   {
    "duration": 3,
    "start_time": "2022-01-23T13:52:26.141Z"
   },
   {
    "duration": 627,
    "start_time": "2022-01-23T13:52:26.147Z"
   },
   {
    "duration": 99,
    "start_time": "2022-01-23T13:52:26.777Z"
   },
   {
    "duration": 80,
    "start_time": "2022-01-23T13:52:26.877Z"
   },
   {
    "duration": 244,
    "start_time": "2022-01-23T13:52:26.958Z"
   },
   {
    "duration": 30,
    "start_time": "2022-01-23T13:52:27.204Z"
   },
   {
    "duration": 3,
    "start_time": "2022-01-23T13:52:27.235Z"
   },
   {
    "duration": 4,
    "start_time": "2022-01-23T13:52:27.239Z"
   },
   {
    "duration": 3,
    "start_time": "2022-01-23T13:52:27.245Z"
   },
   {
    "duration": 7,
    "start_time": "2022-01-23T13:52:27.250Z"
   },
   {
    "duration": 71,
    "start_time": "2022-01-23T13:52:27.258Z"
   },
   {
    "duration": 34,
    "start_time": "2022-01-23T13:52:27.330Z"
   },
   {
    "duration": 50,
    "start_time": "2022-01-23T13:52:27.365Z"
   },
   {
    "duration": 33,
    "start_time": "2022-01-23T13:52:27.416Z"
   },
   {
    "duration": 29,
    "start_time": "2022-01-23T13:52:27.450Z"
   },
   {
    "duration": 42,
    "start_time": "2022-01-23T13:52:27.480Z"
   },
   {
    "duration": 27,
    "start_time": "2022-01-23T13:52:27.525Z"
   },
   {
    "duration": 4,
    "start_time": "2022-01-23T13:52:27.554Z"
   },
   {
    "duration": 6,
    "start_time": "2022-01-23T13:52:27.559Z"
   },
   {
    "duration": 47,
    "start_time": "2022-01-23T13:52:27.567Z"
   },
   {
    "duration": 65,
    "start_time": "2022-01-23T13:52:27.616Z"
   },
   {
    "duration": 353,
    "start_time": "2022-01-23T13:52:27.684Z"
   },
   {
    "duration": 2,
    "start_time": "2022-01-23T13:52:28.038Z"
   },
   {
    "duration": 29,
    "start_time": "2022-01-23T13:52:28.042Z"
   },
   {
    "duration": 24,
    "start_time": "2022-01-23T13:52:28.073Z"
   },
   {
    "duration": 5,
    "start_time": "2022-01-23T13:52:28.098Z"
   },
   {
    "duration": 4,
    "start_time": "2022-01-23T13:52:28.105Z"
   },
   {
    "duration": 4,
    "start_time": "2022-01-23T13:52:28.112Z"
   },
   {
    "duration": 18,
    "start_time": "2022-01-23T13:53:25.627Z"
   },
   {
    "duration": 721,
    "start_time": "2022-01-23T13:54:02.443Z"
   },
   {
    "duration": 26,
    "start_time": "2022-01-23T13:54:17.507Z"
   },
   {
    "duration": 78,
    "start_time": "2022-01-23T13:55:24.732Z"
   },
   {
    "duration": 17,
    "start_time": "2022-01-23T13:55:31.594Z"
   },
   {
    "duration": 24,
    "start_time": "2022-01-23T13:55:41.292Z"
   },
   {
    "duration": 18,
    "start_time": "2022-01-23T13:55:59.947Z"
   },
   {
    "duration": 750,
    "start_time": "2022-01-23T13:56:15.451Z"
   },
   {
    "duration": 5716,
    "start_time": "2022-01-23T13:56:23.427Z"
   },
   {
    "duration": 7007,
    "start_time": "2022-01-23T13:56:43.276Z"
   },
   {
    "duration": 5610,
    "start_time": "2022-01-23T13:56:52.447Z"
   },
   {
    "duration": 686,
    "start_time": "2022-01-23T13:57:04.595Z"
   },
   {
    "duration": 86,
    "start_time": "2022-01-23T13:57:21.236Z"
   },
   {
    "duration": 74,
    "start_time": "2022-01-23T13:57:26.180Z"
   },
   {
    "duration": 628,
    "start_time": "2022-01-23T13:57:40.236Z"
   },
   {
    "duration": 19,
    "start_time": "2022-01-23T13:57:44.641Z"
   },
   {
    "duration": 25,
    "start_time": "2022-01-23T13:57:54.918Z"
   },
   {
    "duration": 31,
    "start_time": "2022-01-23T13:58:02.091Z"
   },
   {
    "duration": 26,
    "start_time": "2022-01-23T13:58:06.722Z"
   },
   {
    "duration": 626,
    "start_time": "2022-01-23T13:58:13.990Z"
   },
   {
    "duration": 26,
    "start_time": "2022-01-23T13:58:26.340Z"
   },
   {
    "duration": 912,
    "start_time": "2022-01-23T14:00:14.391Z"
   },
   {
    "duration": 27,
    "start_time": "2022-01-23T14:00:24.603Z"
   },
   {
    "duration": 25,
    "start_time": "2022-01-23T14:00:41.894Z"
   },
   {
    "duration": 909,
    "start_time": "2022-01-23T14:00:46.740Z"
   },
   {
    "duration": 24,
    "start_time": "2022-01-23T14:00:51.148Z"
   },
   {
    "duration": 258,
    "start_time": "2022-01-23T14:01:14.285Z"
   },
   {
    "duration": 258,
    "start_time": "2022-01-23T14:01:20.802Z"
   },
   {
    "duration": 25,
    "start_time": "2022-01-23T14:01:52.877Z"
   },
   {
    "duration": 25,
    "start_time": "2022-01-23T14:01:59.709Z"
   },
   {
    "duration": 25,
    "start_time": "2022-01-23T14:02:13.402Z"
   },
   {
    "duration": 24,
    "start_time": "2022-01-23T14:02:56.765Z"
   },
   {
    "duration": 25,
    "start_time": "2022-01-23T14:03:35.829Z"
   },
   {
    "duration": 5,
    "start_time": "2022-01-23T14:06:16.616Z"
   },
   {
    "duration": 5,
    "start_time": "2022-01-23T14:07:06.884Z"
   },
   {
    "duration": 4,
    "start_time": "2022-01-23T14:07:39.360Z"
   },
   {
    "duration": 526,
    "start_time": "2022-01-23T14:11:51.261Z"
   },
   {
    "duration": 560,
    "start_time": "2022-01-23T14:11:58.617Z"
   },
   {
    "duration": 759,
    "start_time": "2022-01-23T14:13:14.308Z"
   },
   {
    "duration": 517,
    "start_time": "2022-01-23T14:13:54.917Z"
   },
   {
    "duration": 5,
    "start_time": "2022-01-23T14:15:22.093Z"
   },
   {
    "duration": 654,
    "start_time": "2022-01-23T14:15:29.623Z"
   },
   {
    "duration": 610,
    "start_time": "2022-01-23T14:15:46.217Z"
   },
   {
    "duration": 690,
    "start_time": "2022-01-23T14:15:54.069Z"
   },
   {
    "duration": 2224,
    "start_time": "2022-01-23T14:16:15.469Z"
   },
   {
    "duration": 626,
    "start_time": "2022-01-23T14:16:32.043Z"
   },
   {
    "duration": 22,
    "start_time": "2022-01-23T14:17:42.053Z"
   },
   {
    "duration": 604,
    "start_time": "2022-01-23T14:17:47.356Z"
   },
   {
    "duration": 2126,
    "start_time": "2022-01-23T14:17:58.236Z"
   },
   {
    "duration": 731,
    "start_time": "2022-01-23T14:18:04.158Z"
   },
   {
    "duration": 643,
    "start_time": "2022-01-23T14:18:08.994Z"
   },
   {
    "duration": 329,
    "start_time": "2022-01-23T14:18:41.874Z"
   },
   {
    "duration": 721,
    "start_time": "2022-01-23T14:18:53.160Z"
   },
   {
    "duration": 767,
    "start_time": "2022-01-23T14:20:46.005Z"
   },
   {
    "duration": 239,
    "start_time": "2022-01-23T14:21:08.104Z"
   },
   {
    "duration": 1655,
    "start_time": "2022-01-23T14:21:19.717Z"
   },
   {
    "duration": 348,
    "start_time": "2022-01-23T14:21:29.843Z"
   },
   {
    "duration": 259,
    "start_time": "2022-01-23T14:22:23.861Z"
   },
   {
    "duration": 249,
    "start_time": "2022-01-23T14:22:29.497Z"
   },
   {
    "duration": 357,
    "start_time": "2022-01-23T14:23:53.565Z"
   },
   {
    "duration": 229,
    "start_time": "2022-01-23T14:24:02.849Z"
   },
   {
    "duration": 678,
    "start_time": "2022-01-23T14:24:10.790Z"
   },
   {
    "duration": 754,
    "start_time": "2022-01-23T14:24:35.646Z"
   },
   {
    "duration": 5840,
    "start_time": "2022-01-23T14:24:45.071Z"
   },
   {
    "duration": 6863,
    "start_time": "2022-01-23T14:24:56.469Z"
   },
   {
    "duration": 5789,
    "start_time": "2022-01-23T14:26:13.871Z"
   },
   {
    "duration": 24,
    "start_time": "2022-01-23T14:26:32.549Z"
   },
   {
    "duration": 5810,
    "start_time": "2022-01-23T14:26:52.669Z"
   },
   {
    "duration": 756,
    "start_time": "2022-01-23T14:27:04.587Z"
   },
   {
    "duration": 733,
    "start_time": "2022-01-23T14:27:08.326Z"
   },
   {
    "duration": 1342,
    "start_time": "2022-01-23T14:31:47.948Z"
   },
   {
    "duration": 257,
    "start_time": "2022-01-23T14:32:04.557Z"
   },
   {
    "duration": 267,
    "start_time": "2022-01-23T14:32:14.603Z"
   },
   {
    "duration": 281,
    "start_time": "2022-01-23T14:32:24.756Z"
   },
   {
    "duration": 273,
    "start_time": "2022-01-23T14:32:31.028Z"
   },
   {
    "duration": 462,
    "start_time": "2022-01-23T14:33:13.187Z"
   },
   {
    "duration": 269,
    "start_time": "2022-01-23T14:33:30.124Z"
   },
   {
    "duration": 399,
    "start_time": "2022-01-23T14:34:58.555Z"
   },
   {
    "duration": 298,
    "start_time": "2022-01-23T14:35:02.941Z"
   },
   {
    "duration": 293,
    "start_time": "2022-01-23T14:40:14.189Z"
   },
   {
    "duration": 273,
    "start_time": "2022-01-23T14:40:20.301Z"
   },
   {
    "duration": 305,
    "start_time": "2022-01-23T14:40:29.831Z"
   },
   {
    "duration": 223,
    "start_time": "2022-01-23T14:41:25.653Z"
   },
   {
    "duration": 224,
    "start_time": "2022-01-23T14:41:41.084Z"
   },
   {
    "duration": 304,
    "start_time": "2022-01-23T14:41:50.432Z"
   },
   {
    "duration": 299,
    "start_time": "2022-01-23T14:42:39.925Z"
   },
   {
    "duration": 310,
    "start_time": "2022-01-23T14:43:30.364Z"
   },
   {
    "duration": 267,
    "start_time": "2022-01-23T14:43:36.068Z"
   },
   {
    "duration": 266,
    "start_time": "2022-01-23T14:43:49.019Z"
   },
   {
    "duration": 236,
    "start_time": "2022-01-23T14:45:24.525Z"
   },
   {
    "duration": 278,
    "start_time": "2022-01-23T14:45:28.909Z"
   },
   {
    "duration": 391,
    "start_time": "2022-01-23T14:45:35.263Z"
   },
   {
    "duration": 263,
    "start_time": "2022-01-23T14:45:47.940Z"
   },
   {
    "duration": 269,
    "start_time": "2022-01-23T14:45:56.789Z"
   },
   {
    "duration": 264,
    "start_time": "2022-01-23T14:46:09.317Z"
   },
   {
    "duration": 294,
    "start_time": "2022-01-23T14:46:45.836Z"
   },
   {
    "duration": 293,
    "start_time": "2022-01-23T14:46:55.805Z"
   },
   {
    "duration": 289,
    "start_time": "2022-01-23T14:47:01.684Z"
   },
   {
    "duration": 291,
    "start_time": "2022-01-23T14:47:15.565Z"
   },
   {
    "duration": 320,
    "start_time": "2022-01-23T14:47:23.973Z"
   },
   {
    "duration": 344,
    "start_time": "2022-01-23T14:47:34.974Z"
   },
   {
    "duration": 299,
    "start_time": "2022-01-23T14:47:40.253Z"
   },
   {
    "duration": 361,
    "start_time": "2022-01-23T14:47:46.101Z"
   },
   {
    "duration": 585,
    "start_time": "2022-01-23T14:50:43.069Z"
   },
   {
    "duration": 491,
    "start_time": "2022-01-23T14:51:08.069Z"
   },
   {
    "duration": 462,
    "start_time": "2022-01-23T14:51:28.502Z"
   },
   {
    "duration": 492,
    "start_time": "2022-01-23T14:51:38.806Z"
   },
   {
    "duration": 457,
    "start_time": "2022-01-23T14:52:29.304Z"
   },
   {
    "duration": 715,
    "start_time": "2022-01-23T14:52:51.400Z"
   },
   {
    "duration": 365,
    "start_time": "2022-01-23T14:53:14.175Z"
   },
   {
    "duration": 289,
    "start_time": "2022-01-23T14:56:32.134Z"
   },
   {
    "duration": 284,
    "start_time": "2022-01-23T14:56:38.533Z"
   },
   {
    "duration": 278,
    "start_time": "2022-01-23T14:56:51.543Z"
   },
   {
    "duration": 284,
    "start_time": "2022-01-23T15:06:12.595Z"
   },
   {
    "duration": 283,
    "start_time": "2022-01-23T15:06:19.753Z"
   },
   {
    "duration": 269,
    "start_time": "2022-01-23T15:06:38.445Z"
   },
   {
    "duration": 268,
    "start_time": "2022-01-23T15:07:57.135Z"
   },
   {
    "duration": 349,
    "start_time": "2022-01-24T15:33:31.615Z"
   },
   {
    "duration": 1088,
    "start_time": "2022-01-24T15:34:37.168Z"
   },
   {
    "duration": 341,
    "start_time": "2022-01-24T15:34:38.257Z"
   },
   {
    "duration": 486,
    "start_time": "2022-01-24T15:34:38.600Z"
   },
   {
    "duration": 1289,
    "start_time": "2022-01-24T15:34:39.088Z"
   },
   {
    "duration": 916,
    "start_time": "2022-01-24T15:34:40.378Z"
   },
   {
    "duration": 420,
    "start_time": "2022-01-24T15:34:41.296Z"
   },
   {
    "duration": 3,
    "start_time": "2022-01-24T15:34:41.718Z"
   },
   {
    "duration": 532,
    "start_time": "2022-01-24T15:34:41.723Z"
   },
   {
    "duration": 91,
    "start_time": "2022-01-24T15:34:42.257Z"
   },
   {
    "duration": 82,
    "start_time": "2022-01-24T15:34:42.350Z"
   },
   {
    "duration": 222,
    "start_time": "2022-01-24T15:34:42.434Z"
   },
   {
    "duration": 41,
    "start_time": "2022-01-24T15:34:42.657Z"
   },
   {
    "duration": 3,
    "start_time": "2022-01-24T15:34:42.700Z"
   },
   {
    "duration": 4,
    "start_time": "2022-01-24T15:34:42.704Z"
   },
   {
    "duration": 4,
    "start_time": "2022-01-24T15:34:42.709Z"
   },
   {
    "duration": 7,
    "start_time": "2022-01-24T15:34:42.714Z"
   },
   {
    "duration": 62,
    "start_time": "2022-01-24T15:34:42.722Z"
   },
   {
    "duration": 36,
    "start_time": "2022-01-24T15:34:42.786Z"
   },
   {
    "duration": 32,
    "start_time": "2022-01-24T15:34:42.824Z"
   },
   {
    "duration": 46,
    "start_time": "2022-01-24T15:34:42.858Z"
   },
   {
    "duration": 27,
    "start_time": "2022-01-24T15:34:42.906Z"
   },
   {
    "duration": 54,
    "start_time": "2022-01-24T15:34:42.935Z"
   },
   {
    "duration": 26,
    "start_time": "2022-01-24T15:34:42.991Z"
   },
   {
    "duration": 5,
    "start_time": "2022-01-24T15:34:43.019Z"
   },
   {
    "duration": 6,
    "start_time": "2022-01-24T15:34:43.025Z"
   },
   {
    "duration": 53,
    "start_time": "2022-01-24T15:34:43.033Z"
   },
   {
    "duration": 61,
    "start_time": "2022-01-24T15:34:43.088Z"
   },
   {
    "duration": 352,
    "start_time": "2022-01-24T15:34:43.151Z"
   },
   {
    "duration": 2,
    "start_time": "2022-01-24T15:34:43.505Z"
   },
   {
    "duration": 49,
    "start_time": "2022-01-24T15:34:43.508Z"
   },
   {
    "duration": 27,
    "start_time": "2022-01-24T15:34:43.559Z"
   },
   {
    "duration": 2,
    "start_time": "2022-01-24T15:34:43.588Z"
   },
   {
    "duration": 24,
    "start_time": "2022-01-24T15:34:43.592Z"
   },
   {
    "duration": 23,
    "start_time": "2022-01-24T15:34:43.617Z"
   },
   {
    "duration": 318,
    "start_time": "2022-01-24T15:34:43.642Z"
   },
   {
    "duration": 268,
    "start_time": "2022-01-24T15:34:43.962Z"
   },
   {
    "duration": 310,
    "start_time": "2022-01-24T15:34:44.232Z"
   },
   {
    "duration": 322,
    "start_time": "2022-01-24T15:34:44.544Z"
   },
   {
    "duration": 4,
    "start_time": "2022-01-24T15:34:44.868Z"
   },
   {
    "duration": 397,
    "start_time": "2022-01-24T15:40:22.534Z"
   },
   {
    "duration": 260,
    "start_time": "2022-01-24T15:40:27.793Z"
   },
   {
    "duration": 281,
    "start_time": "2022-01-24T15:40:42.750Z"
   },
   {
    "duration": 534,
    "start_time": "2022-01-24T15:43:53.925Z"
   },
   {
    "duration": 579,
    "start_time": "2022-01-24T15:44:04.806Z"
   },
   {
    "duration": 487,
    "start_time": "2022-01-24T15:44:10.657Z"
   },
   {
    "duration": 490,
    "start_time": "2022-01-24T15:44:24.279Z"
   },
   {
    "duration": 459,
    "start_time": "2022-01-24T15:44:36.150Z"
   },
   {
    "duration": 299,
    "start_time": "2022-01-24T15:45:48.999Z"
   },
   {
    "duration": 325,
    "start_time": "2022-01-24T15:45:53.775Z"
   },
   {
    "duration": 338,
    "start_time": "2022-01-24T15:46:01.584Z"
   },
   {
    "duration": 476,
    "start_time": "2022-01-24T15:47:10.884Z"
   },
   {
    "duration": 434,
    "start_time": "2022-01-24T15:47:51.297Z"
   },
   {
    "duration": 496,
    "start_time": "2022-01-24T15:48:25.707Z"
   },
   {
    "duration": 367,
    "start_time": "2022-01-24T15:48:38.256Z"
   },
   {
    "duration": 398,
    "start_time": "2022-01-24T15:55:22.807Z"
   },
   {
    "duration": 358,
    "start_time": "2022-01-24T15:56:41.705Z"
   },
   {
    "duration": 260,
    "start_time": "2022-01-24T16:09:36.297Z"
   },
   {
    "duration": 259,
    "start_time": "2022-01-24T16:09:55.531Z"
   },
   {
    "duration": 4,
    "start_time": "2022-01-24T16:10:08.388Z"
   },
   {
    "duration": 11,
    "start_time": "2022-01-24T16:13:51.752Z"
   },
   {
    "duration": 10,
    "start_time": "2022-01-24T16:13:58.817Z"
   },
   {
    "duration": 10,
    "start_time": "2022-01-24T16:14:12.186Z"
   },
   {
    "duration": 7,
    "start_time": "2022-01-24T16:14:26.883Z"
   },
   {
    "duration": 9,
    "start_time": "2022-01-24T16:18:08.313Z"
   },
   {
    "duration": 250,
    "start_time": "2022-01-24T16:18:46.072Z"
   },
   {
    "duration": 5,
    "start_time": "2022-01-24T16:18:54.767Z"
   },
   {
    "duration": 7,
    "start_time": "2022-01-24T16:23:12.040Z"
   },
   {
    "duration": 24,
    "start_time": "2022-01-24T16:23:15.521Z"
   },
   {
    "duration": 16,
    "start_time": "2022-01-24T16:23:23.793Z"
   },
   {
    "duration": 9,
    "start_time": "2022-01-24T16:24:51.289Z"
   },
   {
    "duration": 7,
    "start_time": "2022-01-24T16:25:01.456Z"
   },
   {
    "duration": 7,
    "start_time": "2022-01-24T16:25:08.856Z"
   },
   {
    "duration": 1141,
    "start_time": "2022-01-24T16:25:34.858Z"
   },
   {
    "duration": 334,
    "start_time": "2022-01-24T16:25:36.001Z"
   },
   {
    "duration": 328,
    "start_time": "2022-01-24T16:25:36.337Z"
   },
   {
    "duration": 241,
    "start_time": "2022-01-24T16:25:36.666Z"
   },
   {
    "duration": 78,
    "start_time": "2022-01-24T16:25:36.909Z"
   },
   {
    "duration": 113,
    "start_time": "2022-01-24T16:25:36.988Z"
   },
   {
    "duration": 3,
    "start_time": "2022-01-24T16:25:37.102Z"
   },
   {
    "duration": 599,
    "start_time": "2022-01-24T16:25:37.108Z"
   },
   {
    "duration": 95,
    "start_time": "2022-01-24T16:25:37.709Z"
   },
   {
    "duration": 75,
    "start_time": "2022-01-24T16:25:37.806Z"
   },
   {
    "duration": 255,
    "start_time": "2022-01-24T16:25:37.882Z"
   },
   {
    "duration": 35,
    "start_time": "2022-01-24T16:25:38.139Z"
   },
   {
    "duration": 3,
    "start_time": "2022-01-24T16:25:38.176Z"
   },
   {
    "duration": 4,
    "start_time": "2022-01-24T16:25:38.182Z"
   },
   {
    "duration": 3,
    "start_time": "2022-01-24T16:25:38.188Z"
   },
   {
    "duration": 6,
    "start_time": "2022-01-24T16:25:38.193Z"
   },
   {
    "duration": 44,
    "start_time": "2022-01-24T16:25:38.200Z"
   },
   {
    "duration": 63,
    "start_time": "2022-01-24T16:25:38.246Z"
   },
   {
    "duration": 31,
    "start_time": "2022-01-24T16:25:38.310Z"
   },
   {
    "duration": 49,
    "start_time": "2022-01-24T16:25:38.343Z"
   },
   {
    "duration": 27,
    "start_time": "2022-01-24T16:25:38.393Z"
   },
   {
    "duration": 7,
    "start_time": "2022-01-24T16:25:38.421Z"
   },
   {
    "duration": 4,
    "start_time": "2022-01-24T16:25:38.431Z"
   },
   {
    "duration": 46,
    "start_time": "2022-01-24T16:25:38.437Z"
   },
   {
    "duration": 65,
    "start_time": "2022-01-24T16:25:38.485Z"
   },
   {
    "duration": 4,
    "start_time": "2022-01-24T16:25:38.552Z"
   },
   {
    "duration": 34,
    "start_time": "2022-01-24T16:25:38.557Z"
   },
   {
    "duration": 97,
    "start_time": "2022-01-24T16:25:38.593Z"
   },
   {
    "duration": 1235,
    "start_time": "2022-01-24T16:25:37.457Z"
   },
   {
    "duration": 1235,
    "start_time": "2022-01-24T16:25:37.459Z"
   },
   {
    "duration": 1233,
    "start_time": "2022-01-24T16:25:37.462Z"
   },
   {
    "duration": 1232,
    "start_time": "2022-01-24T16:25:37.464Z"
   },
   {
    "duration": 1229,
    "start_time": "2022-01-24T16:25:37.468Z"
   },
   {
    "duration": 1224,
    "start_time": "2022-01-24T16:25:37.474Z"
   },
   {
    "duration": 1222,
    "start_time": "2022-01-24T16:25:37.477Z"
   },
   {
    "duration": 1221,
    "start_time": "2022-01-24T16:25:37.479Z"
   },
   {
    "duration": 1213,
    "start_time": "2022-01-24T16:25:37.488Z"
   },
   {
    "duration": 1213,
    "start_time": "2022-01-24T16:25:37.490Z"
   },
   {
    "duration": 1209,
    "start_time": "2022-01-24T16:25:37.495Z"
   },
   {
    "duration": 1209,
    "start_time": "2022-01-24T16:25:37.496Z"
   },
   {
    "duration": 1207,
    "start_time": "2022-01-24T16:25:37.499Z"
   },
   {
    "duration": 1202,
    "start_time": "2022-01-24T16:25:37.505Z"
   },
   {
    "duration": 1201,
    "start_time": "2022-01-24T16:25:37.507Z"
   },
   {
    "duration": 4,
    "start_time": "2022-01-24T16:29:05.914Z"
   },
   {
    "duration": 15,
    "start_time": "2022-01-24T16:29:42.905Z"
   },
   {
    "duration": 1210,
    "start_time": "2022-01-24T16:33:50.089Z"
   },
   {
    "duration": 405,
    "start_time": "2022-01-24T16:33:51.300Z"
   },
   {
    "duration": 314,
    "start_time": "2022-01-24T16:33:51.707Z"
   },
   {
    "duration": 2088,
    "start_time": "2022-01-24T16:33:52.023Z"
   },
   {
    "duration": 53,
    "start_time": "2022-01-24T16:33:54.113Z"
   },
   {
    "duration": 71,
    "start_time": "2022-01-24T16:33:54.168Z"
   },
   {
    "duration": 3,
    "start_time": "2022-01-24T16:33:54.240Z"
   },
   {
    "duration": 585,
    "start_time": "2022-01-24T16:33:54.246Z"
   },
   {
    "duration": 101,
    "start_time": "2022-01-24T16:33:54.833Z"
   },
   {
    "duration": 79,
    "start_time": "2022-01-24T16:33:54.935Z"
   },
   {
    "duration": 231,
    "start_time": "2022-01-24T16:33:55.017Z"
   },
   {
    "duration": 40,
    "start_time": "2022-01-24T16:33:55.249Z"
   },
   {
    "duration": 2,
    "start_time": "2022-01-24T16:33:55.291Z"
   },
   {
    "duration": 4,
    "start_time": "2022-01-24T16:33:55.294Z"
   },
   {
    "duration": 3,
    "start_time": "2022-01-24T16:33:55.300Z"
   },
   {
    "duration": 7,
    "start_time": "2022-01-24T16:33:55.304Z"
   },
   {
    "duration": 36,
    "start_time": "2022-01-24T16:33:55.312Z"
   },
   {
    "duration": 53,
    "start_time": "2022-01-24T16:33:55.349Z"
   },
   {
    "duration": 36,
    "start_time": "2022-01-24T16:33:55.403Z"
   },
   {
    "duration": 50,
    "start_time": "2022-01-24T16:33:55.440Z"
   },
   {
    "duration": 28,
    "start_time": "2022-01-24T16:33:55.492Z"
   },
   {
    "duration": 8,
    "start_time": "2022-01-24T16:33:55.522Z"
   },
   {
    "duration": 4,
    "start_time": "2022-01-24T16:33:55.533Z"
   },
   {
    "duration": 50,
    "start_time": "2022-01-24T16:33:55.539Z"
   },
   {
    "duration": 60,
    "start_time": "2022-01-24T16:33:55.590Z"
   },
   {
    "duration": 6,
    "start_time": "2022-01-24T16:33:55.651Z"
   },
   {
    "duration": 15,
    "start_time": "2022-01-24T16:33:55.671Z"
   },
   {
    "duration": 326,
    "start_time": "2022-01-24T16:33:55.688Z"
   },
   {
    "duration": 2,
    "start_time": "2022-01-24T16:33:56.016Z"
   },
   {
    "duration": 1134,
    "start_time": "2022-01-24T16:33:56.020Z"
   },
   {
    "duration": 1219,
    "start_time": "2022-01-24T16:33:55.938Z"
   },
   {
    "duration": 1216,
    "start_time": "2022-01-24T16:33:55.942Z"
   },
   {
    "duration": 1216,
    "start_time": "2022-01-24T16:33:55.944Z"
   },
   {
    "duration": 1210,
    "start_time": "2022-01-24T16:33:55.951Z"
   },
   {
    "duration": 1208,
    "start_time": "2022-01-24T16:33:55.954Z"
   },
   {
    "duration": 1207,
    "start_time": "2022-01-24T16:33:55.957Z"
   },
   {
    "duration": 1205,
    "start_time": "2022-01-24T16:33:55.960Z"
   },
   {
    "duration": 1202,
    "start_time": "2022-01-24T16:33:55.965Z"
   },
   {
    "duration": 1198,
    "start_time": "2022-01-24T16:33:55.970Z"
   },
   {
    "duration": 1197,
    "start_time": "2022-01-24T16:33:55.972Z"
   },
   {
    "duration": 1196,
    "start_time": "2022-01-24T16:33:55.975Z"
   },
   {
    "duration": 1194,
    "start_time": "2022-01-24T16:33:55.978Z"
   },
   {
    "duration": 812,
    "start_time": "2022-01-24T16:36:05.673Z"
   },
   {
    "duration": 9,
    "start_time": "2022-01-24T16:36:17.047Z"
   },
   {
    "duration": 11,
    "start_time": "2022-01-24T16:36:34.232Z"
   },
   {
    "duration": 281,
    "start_time": "2022-01-24T16:38:52.528Z"
   },
   {
    "duration": 1024,
    "start_time": "2022-01-24T16:39:35.073Z"
   },
   {
    "duration": 29,
    "start_time": "2022-01-24T16:40:17.857Z"
   },
   {
    "duration": 83,
    "start_time": "2022-01-24T16:40:37.144Z"
   },
   {
    "duration": 24,
    "start_time": "2022-01-24T16:40:51.416Z"
   },
   {
    "duration": 278,
    "start_time": "2022-01-24T16:57:55.290Z"
   },
   {
    "duration": 609,
    "start_time": "2022-01-24T16:59:26.267Z"
   },
   {
    "duration": 295,
    "start_time": "2022-01-24T16:59:36.083Z"
   },
   {
    "duration": 1103,
    "start_time": "2022-01-24T17:02:50.318Z"
   },
   {
    "duration": 327,
    "start_time": "2022-01-24T17:02:51.423Z"
   },
   {
    "duration": 341,
    "start_time": "2022-01-24T17:02:51.752Z"
   },
   {
    "duration": 1240,
    "start_time": "2022-01-24T17:02:52.095Z"
   },
   {
    "duration": 67,
    "start_time": "2022-01-24T17:02:53.337Z"
   },
   {
    "duration": 14,
    "start_time": "2022-01-24T17:02:53.406Z"
   },
   {
    "duration": 73,
    "start_time": "2022-01-24T17:02:53.422Z"
   },
   {
    "duration": 5,
    "start_time": "2022-01-24T17:02:53.498Z"
   },
   {
    "duration": 621,
    "start_time": "2022-01-24T17:02:53.504Z"
   },
   {
    "duration": 105,
    "start_time": "2022-01-24T17:02:54.126Z"
   },
   {
    "duration": 84,
    "start_time": "2022-01-24T17:02:54.232Z"
   },
   {
    "duration": 246,
    "start_time": "2022-01-24T17:02:54.317Z"
   },
   {
    "duration": 34,
    "start_time": "2022-01-24T17:02:54.565Z"
   },
   {
    "duration": 3,
    "start_time": "2022-01-24T17:02:54.600Z"
   },
   {
    "duration": 3,
    "start_time": "2022-01-24T17:02:54.605Z"
   },
   {
    "duration": 4,
    "start_time": "2022-01-24T17:02:54.610Z"
   },
   {
    "duration": 7,
    "start_time": "2022-01-24T17:02:54.615Z"
   },
   {
    "duration": 67,
    "start_time": "2022-01-24T17:02:54.623Z"
   },
   {
    "duration": 31,
    "start_time": "2022-01-24T17:02:54.692Z"
   },
   {
    "duration": 32,
    "start_time": "2022-01-24T17:02:54.724Z"
   },
   {
    "duration": 37,
    "start_time": "2022-01-24T17:02:54.772Z"
   },
   {
    "duration": 31,
    "start_time": "2022-01-24T17:02:54.811Z"
   },
   {
    "duration": 31,
    "start_time": "2022-01-24T17:02:54.846Z"
   },
   {
    "duration": 8,
    "start_time": "2022-01-24T17:02:54.879Z"
   },
   {
    "duration": 21,
    "start_time": "2022-01-24T17:02:54.889Z"
   },
   {
    "duration": 86,
    "start_time": "2022-01-24T17:02:54.912Z"
   },
   {
    "duration": 3,
    "start_time": "2022-01-24T17:02:55.000Z"
   },
   {
    "duration": 12,
    "start_time": "2022-01-24T17:02:55.004Z"
   },
   {
    "duration": 299,
    "start_time": "2022-01-24T17:02:55.018Z"
   },
   {
    "duration": 2,
    "start_time": "2022-01-24T17:02:55.319Z"
   },
   {
    "duration": 26,
    "start_time": "2022-01-24T17:02:55.323Z"
   },
   {
    "duration": 47,
    "start_time": "2022-01-24T17:02:55.351Z"
   },
   {
    "duration": 2,
    "start_time": "2022-01-24T17:02:55.400Z"
   },
   {
    "duration": 6,
    "start_time": "2022-01-24T17:02:55.403Z"
   },
   {
    "duration": 5,
    "start_time": "2022-01-24T17:02:55.410Z"
   },
   {
    "duration": 334,
    "start_time": "2022-01-24T17:02:55.416Z"
   },
   {
    "duration": 423,
    "start_time": "2022-01-24T17:02:55.751Z"
   },
   {
    "duration": 316,
    "start_time": "2022-01-24T17:02:56.176Z"
   },
   {
    "duration": 373,
    "start_time": "2022-01-24T17:02:56.494Z"
   },
   {
    "duration": 374,
    "start_time": "2022-01-24T17:02:56.869Z"
   },
   {
    "duration": 376,
    "start_time": "2022-01-24T17:02:57.245Z"
   },
   {
    "duration": 2,
    "start_time": "2022-01-24T17:02:57.622Z"
   },
   {
    "duration": 342,
    "start_time": "2022-01-24T17:02:57.626Z"
   },
   {
    "duration": 317,
    "start_time": "2022-01-24T17:03:35.714Z"
   },
   {
    "duration": 390,
    "start_time": "2022-01-24T17:03:45.266Z"
   },
   {
    "duration": 265,
    "start_time": "2022-01-24T17:05:06.995Z"
   },
   {
    "duration": 3,
    "start_time": "2022-01-24T17:05:32.307Z"
   },
   {
    "duration": 4,
    "start_time": "2022-01-24T17:05:34.595Z"
   },
   {
    "duration": 5,
    "start_time": "2022-01-24T17:07:21.132Z"
   },
   {
    "duration": 5,
    "start_time": "2022-01-24T17:09:14.492Z"
   },
   {
    "duration": 1161,
    "start_time": "2022-01-24T17:14:39.743Z"
   },
   {
    "duration": 48,
    "start_time": "2022-01-24T17:14:55.470Z"
   },
   {
    "duration": 37,
    "start_time": "2022-01-24T17:15:56.213Z"
   },
   {
    "duration": 2348,
    "start_time": "2022-01-24T17:19:17.686Z"
   },
   {
    "duration": 61,
    "start_time": "2022-01-24T17:20:58.376Z"
   },
   {
    "duration": 1091,
    "start_time": "2022-01-24T17:22:09.882Z"
   },
   {
    "duration": 313,
    "start_time": "2022-01-24T17:22:10.975Z"
   },
   {
    "duration": 339,
    "start_time": "2022-01-24T17:22:11.289Z"
   },
   {
    "duration": 228,
    "start_time": "2022-01-24T17:22:11.630Z"
   },
   {
    "duration": 87,
    "start_time": "2022-01-24T17:22:11.860Z"
   },
   {
    "duration": 11,
    "start_time": "2022-01-24T17:22:11.949Z"
   },
   {
    "duration": 67,
    "start_time": "2022-01-24T17:22:11.961Z"
   },
   {
    "duration": 3,
    "start_time": "2022-01-24T17:22:12.031Z"
   },
   {
    "duration": 571,
    "start_time": "2022-01-24T17:22:12.036Z"
   },
   {
    "duration": 98,
    "start_time": "2022-01-24T17:22:12.608Z"
   },
   {
    "duration": 73,
    "start_time": "2022-01-24T17:22:12.707Z"
   },
   {
    "duration": 235,
    "start_time": "2022-01-24T17:22:12.782Z"
   },
   {
    "duration": 27,
    "start_time": "2022-01-24T17:22:13.018Z"
   },
   {
    "duration": 2,
    "start_time": "2022-01-24T17:22:13.047Z"
   },
   {
    "duration": 4,
    "start_time": "2022-01-24T17:22:13.051Z"
   },
   {
    "duration": 17,
    "start_time": "2022-01-24T17:22:13.056Z"
   },
   {
    "duration": 6,
    "start_time": "2022-01-24T17:22:13.075Z"
   },
   {
    "duration": 47,
    "start_time": "2022-01-24T17:22:13.083Z"
   },
   {
    "duration": 53,
    "start_time": "2022-01-24T17:22:13.131Z"
   },
   {
    "duration": 31,
    "start_time": "2022-01-24T17:22:13.186Z"
   },
   {
    "duration": 31,
    "start_time": "2022-01-24T17:22:13.219Z"
   },
   {
    "duration": 43,
    "start_time": "2022-01-24T17:22:13.252Z"
   },
   {
    "duration": 7,
    "start_time": "2022-01-24T17:22:13.299Z"
   },
   {
    "duration": 5,
    "start_time": "2022-01-24T17:22:13.308Z"
   },
   {
    "duration": 23,
    "start_time": "2022-01-24T17:22:13.314Z"
   },
   {
    "duration": 2359,
    "start_time": "2022-01-24T17:22:13.339Z"
   },
   {
    "duration": 97,
    "start_time": "2022-01-24T17:22:15.700Z"
   },
   {
    "duration": 3,
    "start_time": "2022-01-24T17:22:15.798Z"
   },
   {
    "duration": 13,
    "start_time": "2022-01-24T17:22:15.803Z"
   },
   {
    "duration": 310,
    "start_time": "2022-01-24T17:22:15.818Z"
   },
   {
    "duration": 2,
    "start_time": "2022-01-24T17:22:16.130Z"
   },
   {
    "duration": 25,
    "start_time": "2022-01-24T17:22:16.133Z"
   },
   {
    "duration": 35,
    "start_time": "2022-01-24T17:22:16.159Z"
   },
   {
    "duration": 2,
    "start_time": "2022-01-24T17:22:16.196Z"
   },
   {
    "duration": 6,
    "start_time": "2022-01-24T17:22:16.199Z"
   },
   {
    "duration": 5,
    "start_time": "2022-01-24T17:22:16.206Z"
   },
   {
    "duration": 311,
    "start_time": "2022-01-24T17:22:16.212Z"
   },
   {
    "duration": 367,
    "start_time": "2022-01-24T17:22:16.525Z"
   },
   {
    "duration": 290,
    "start_time": "2022-01-24T17:22:16.894Z"
   },
   {
    "duration": 366,
    "start_time": "2022-01-24T17:22:17.186Z"
   },
   {
    "duration": 360,
    "start_time": "2022-01-24T17:22:17.553Z"
   },
   {
    "duration": 335,
    "start_time": "2022-01-24T17:22:17.915Z"
   },
   {
    "duration": 2,
    "start_time": "2022-01-24T17:22:18.251Z"
   },
   {
    "duration": 18,
    "start_time": "2022-01-24T17:22:18.255Z"
   },
   {
    "duration": 79,
    "start_time": "2022-01-24T17:24:15.667Z"
   },
   {
    "duration": 78,
    "start_time": "2022-01-24T17:24:29.499Z"
   },
   {
    "duration": 330,
    "start_time": "2022-01-24T17:24:33.861Z"
   },
   {
    "duration": 272,
    "start_time": "2022-01-24T17:24:42.923Z"
   },
   {
    "duration": 251,
    "start_time": "2022-01-24T17:24:46.740Z"
   },
   {
    "duration": 1016,
    "start_time": "2022-01-24T17:26:14.827Z"
   },
   {
    "duration": 1031,
    "start_time": "2022-01-24T17:26:51.293Z"
   },
   {
    "duration": 292,
    "start_time": "2022-01-24T17:27:09.701Z"
   },
   {
    "duration": 25,
    "start_time": "2022-01-24T17:29:00.997Z"
   },
   {
    "duration": 23,
    "start_time": "2022-01-24T17:29:14.882Z"
   },
   {
    "duration": 27,
    "start_time": "2022-01-24T17:29:58.702Z"
   },
   {
    "duration": 304,
    "start_time": "2022-01-24T17:30:25.170Z"
   },
   {
    "duration": 25,
    "start_time": "2022-01-24T17:30:37.027Z"
   },
   {
    "duration": 28,
    "start_time": "2022-01-24T17:31:00.915Z"
   },
   {
    "duration": 24,
    "start_time": "2022-01-24T17:31:09.827Z"
   },
   {
    "duration": 25,
    "start_time": "2022-01-24T17:31:55.034Z"
   },
   {
    "duration": 24,
    "start_time": "2022-01-24T17:32:06.401Z"
   },
   {
    "duration": 5,
    "start_time": "2022-01-24T17:32:48.650Z"
   },
   {
    "duration": 5,
    "start_time": "2022-01-24T17:40:39.626Z"
   },
   {
    "duration": 244,
    "start_time": "2022-01-24T17:41:21.906Z"
   },
   {
    "duration": 1123,
    "start_time": "2022-01-24T17:42:52.481Z"
   },
   {
    "duration": 286,
    "start_time": "2022-01-24T17:43:29.825Z"
   },
   {
    "duration": 23,
    "start_time": "2022-01-24T17:43:40.608Z"
   },
   {
    "duration": 25,
    "start_time": "2022-01-24T17:44:46.842Z"
   },
   {
    "duration": 48,
    "start_time": "2022-01-24T17:50:41.819Z"
   },
   {
    "duration": 47,
    "start_time": "2022-01-24T17:50:48.084Z"
   },
   {
    "duration": 6285,
    "start_time": "2022-01-24T17:51:58.300Z"
   },
   {
    "duration": 1016,
    "start_time": "2022-01-24T17:52:05.781Z"
   },
   {
    "duration": 7,
    "start_time": "2022-01-24T17:52:36.691Z"
   },
   {
    "duration": 997,
    "start_time": "2022-01-24T17:52:38.643Z"
   },
   {
    "duration": 1144,
    "start_time": "2022-01-24T17:52:43.662Z"
   },
   {
    "duration": 361,
    "start_time": "2022-01-24T17:52:44.807Z"
   },
   {
    "duration": 448,
    "start_time": "2022-01-24T17:52:45.174Z"
   },
   {
    "duration": 223,
    "start_time": "2022-01-24T17:52:45.624Z"
   },
   {
    "duration": 72,
    "start_time": "2022-01-24T17:52:45.848Z"
   },
   {
    "duration": 11,
    "start_time": "2022-01-24T17:52:45.922Z"
   },
   {
    "duration": 81,
    "start_time": "2022-01-24T17:52:45.935Z"
   },
   {
    "duration": 4,
    "start_time": "2022-01-24T17:52:46.019Z"
   },
   {
    "duration": 617,
    "start_time": "2022-01-24T17:52:46.026Z"
   },
   {
    "duration": 115,
    "start_time": "2022-01-24T17:52:46.645Z"
   },
   {
    "duration": 81,
    "start_time": "2022-01-24T17:52:46.761Z"
   },
   {
    "duration": 240,
    "start_time": "2022-01-24T17:52:46.844Z"
   },
   {
    "duration": 29,
    "start_time": "2022-01-24T17:52:47.086Z"
   },
   {
    "duration": 3,
    "start_time": "2022-01-24T17:52:47.116Z"
   },
   {
    "duration": 4,
    "start_time": "2022-01-24T17:52:47.120Z"
   },
   {
    "duration": 3,
    "start_time": "2022-01-24T17:52:47.126Z"
   },
   {
    "duration": 6,
    "start_time": "2022-01-24T17:52:47.131Z"
   },
   {
    "duration": 80,
    "start_time": "2022-01-24T17:52:47.139Z"
   },
   {
    "duration": 35,
    "start_time": "2022-01-24T17:52:47.221Z"
   },
   {
    "duration": 50,
    "start_time": "2022-01-24T17:52:47.257Z"
   },
   {
    "duration": 32,
    "start_time": "2022-01-24T17:52:47.309Z"
   },
   {
    "duration": 45,
    "start_time": "2022-01-24T17:52:47.344Z"
   },
   {
    "duration": 7,
    "start_time": "2022-01-24T17:52:47.391Z"
   },
   {
    "duration": 6,
    "start_time": "2022-01-24T17:52:47.400Z"
   },
   {
    "duration": 25,
    "start_time": "2022-01-24T17:52:47.407Z"
   },
   {
    "duration": 103,
    "start_time": "2022-01-24T17:52:47.433Z"
   },
   {
    "duration": 3,
    "start_time": "2022-01-24T17:52:47.537Z"
   },
   {
    "duration": 16,
    "start_time": "2022-01-24T17:52:47.542Z"
   },
   {
    "duration": 300,
    "start_time": "2022-01-24T17:52:47.559Z"
   },
   {
    "duration": 2,
    "start_time": "2022-01-24T17:52:47.861Z"
   },
   {
    "duration": 32,
    "start_time": "2022-01-24T17:52:47.872Z"
   },
   {
    "duration": 23,
    "start_time": "2022-01-24T17:52:47.905Z"
   },
   {
    "duration": 3,
    "start_time": "2022-01-24T17:52:47.929Z"
   },
   {
    "duration": 7,
    "start_time": "2022-01-24T17:52:47.934Z"
   },
   {
    "duration": 30,
    "start_time": "2022-01-24T17:52:47.942Z"
   },
   {
    "duration": 325,
    "start_time": "2022-01-24T17:52:47.975Z"
   },
   {
    "duration": 373,
    "start_time": "2022-01-24T17:52:48.302Z"
   },
   {
    "duration": 299,
    "start_time": "2022-01-24T17:52:48.677Z"
   },
   {
    "duration": 373,
    "start_time": "2022-01-24T17:52:48.978Z"
   },
   {
    "duration": 483,
    "start_time": "2022-01-24T17:52:49.353Z"
   },
   {
    "duration": 357,
    "start_time": "2022-01-24T17:52:49.837Z"
   },
   {
    "duration": 2,
    "start_time": "2022-01-24T17:52:50.196Z"
   },
   {
    "duration": 8,
    "start_time": "2022-01-24T17:52:50.200Z"
   },
   {
    "duration": 389,
    "start_time": "2022-01-24T17:52:50.210Z"
   },
   {
    "duration": -22,
    "start_time": "2022-01-24T17:52:50.623Z"
   },
   {
    "duration": -31,
    "start_time": "2022-01-24T17:52:50.633Z"
   },
   {
    "duration": 24,
    "start_time": "2022-01-24T17:53:09.957Z"
   },
   {
    "duration": 24,
    "start_time": "2022-01-24T17:53:16.124Z"
   },
   {
    "duration": 5,
    "start_time": "2022-01-24T17:53:39.844Z"
   },
   {
    "duration": 131,
    "start_time": "2022-01-24T18:15:50.130Z"
   },
   {
    "duration": 87,
    "start_time": "2022-01-24T18:17:06.652Z"
   },
   {
    "duration": 79,
    "start_time": "2022-01-24T18:17:12.548Z"
   },
   {
    "duration": 83,
    "start_time": "2022-01-24T18:23:18.268Z"
   },
   {
    "duration": 5,
    "start_time": "2022-01-24T18:34:45.907Z"
   },
   {
    "duration": 5,
    "start_time": "2022-01-24T18:58:47.506Z"
   },
   {
    "duration": 6,
    "start_time": "2022-01-24T18:59:03.499Z"
   },
   {
    "duration": 90,
    "start_time": "2022-01-24T19:00:09.305Z"
   },
   {
    "duration": 12,
    "start_time": "2022-01-24T19:02:17.603Z"
   },
   {
    "duration": 12,
    "start_time": "2022-01-24T19:04:04.278Z"
   },
   {
    "duration": 13,
    "start_time": "2022-01-24T19:04:15.161Z"
   },
   {
    "duration": 10,
    "start_time": "2022-01-24T19:14:31.006Z"
   },
   {
    "duration": 5,
    "start_time": "2022-01-24T19:14:57.508Z"
   },
   {
    "duration": 2063,
    "start_time": "2022-01-24T19:15:01.019Z"
   },
   {
    "duration": 6,
    "start_time": "2022-01-24T19:24:29.853Z"
   },
   {
    "duration": 5,
    "start_time": "2022-01-24T19:24:34.243Z"
   },
   {
    "duration": 11,
    "start_time": "2022-01-24T19:24:43.522Z"
   },
   {
    "duration": 8,
    "start_time": "2022-01-24T19:26:19.410Z"
   },
   {
    "duration": 7,
    "start_time": "2022-01-24T19:26:46.258Z"
   },
   {
    "duration": 8,
    "start_time": "2022-01-24T19:27:05.241Z"
   },
   {
    "duration": 3270,
    "start_time": "2022-01-24T19:27:10.138Z"
   },
   {
    "duration": 8,
    "start_time": "2022-01-24T19:27:32.864Z"
   },
   {
    "duration": 347,
    "start_time": "2022-01-24T19:32:21.757Z"
   },
   {
    "duration": 1568,
    "start_time": "2022-01-24T19:33:22.845Z"
   },
   {
    "duration": 1085,
    "start_time": "2022-01-24T19:33:24.415Z"
   },
   {
    "duration": 4107,
    "start_time": "2022-01-24T19:33:25.502Z"
   },
   {
    "duration": 3278,
    "start_time": "2022-01-24T19:33:29.612Z"
   },
   {
    "duration": 2613,
    "start_time": "2022-01-24T19:33:32.891Z"
   },
   {
    "duration": 4418,
    "start_time": "2022-01-24T19:33:35.505Z"
   },
   {
    "duration": 5446,
    "start_time": "2022-01-24T19:33:39.925Z"
   },
   {
    "duration": 6081,
    "start_time": "2022-01-24T19:33:45.374Z"
   },
   {
    "duration": 6706,
    "start_time": "2022-01-24T19:33:51.457Z"
   },
   {
    "duration": 3605,
    "start_time": "2022-01-24T19:33:58.165Z"
   },
   {
    "duration": 3196,
    "start_time": "2022-01-24T19:34:01.772Z"
   },
   {
    "duration": 1227,
    "start_time": "2022-01-24T19:34:04.970Z"
   },
   {
    "duration": 1234,
    "start_time": "2022-01-24T19:34:06.199Z"
   },
   {
    "duration": 1933,
    "start_time": "2022-01-24T19:34:07.434Z"
   },
   {
    "duration": 5813,
    "start_time": "2022-01-24T19:34:09.369Z"
   },
   {
    "duration": 8309,
    "start_time": "2022-01-24T19:34:15.184Z"
   },
   {
    "duration": 5169,
    "start_time": "2022-01-24T19:34:23.495Z"
   },
   {
    "duration": 5625,
    "start_time": "2022-01-24T19:34:28.666Z"
   },
   {
    "duration": 6488,
    "start_time": "2022-01-24T19:34:34.292Z"
   },
   {
    "duration": 6408,
    "start_time": "2022-01-24T19:34:40.782Z"
   },
   {
    "duration": 7222,
    "start_time": "2022-01-24T19:34:47.192Z"
   },
   {
    "duration": 7042,
    "start_time": "2022-01-24T19:34:54.416Z"
   },
   {
    "duration": 4471,
    "start_time": "2022-01-24T19:35:01.461Z"
   },
   {
    "duration": 4055,
    "start_time": "2022-01-24T19:35:05.935Z"
   },
   {
    "duration": 1004,
    "start_time": "2022-01-24T19:35:09.992Z"
   },
   {
    "duration": 273,
    "start_time": "2022-01-24T19:35:10.998Z"
   },
   {
    "duration": 1050,
    "start_time": "2022-01-24T19:35:11.273Z"
   },
   {
    "duration": 750,
    "start_time": "2022-01-24T19:35:12.325Z"
   },
   {
    "duration": 810,
    "start_time": "2022-01-24T19:35:13.076Z"
   },
   {
    "duration": 704,
    "start_time": "2022-01-24T19:35:13.888Z"
   },
   {
    "duration": 2647,
    "start_time": "2022-01-24T19:35:14.594Z"
   },
   {
    "duration": 1224,
    "start_time": "2022-01-24T19:35:17.243Z"
   },
   {
    "duration": 1188,
    "start_time": "2022-01-24T19:35:18.469Z"
   },
   {
    "duration": 1481,
    "start_time": "2022-01-24T19:35:19.659Z"
   },
   {
    "duration": 921,
    "start_time": "2022-01-24T19:35:21.142Z"
   },
   {
    "duration": 1275,
    "start_time": "2022-01-24T19:35:22.065Z"
   },
   {
    "duration": 1290,
    "start_time": "2022-01-24T19:35:23.342Z"
   },
   {
    "duration": 678,
    "start_time": "2022-01-24T19:35:24.634Z"
   },
   {
    "duration": 1533,
    "start_time": "2022-01-24T19:35:25.314Z"
   },
   {
    "duration": 1276,
    "start_time": "2022-01-24T19:35:26.848Z"
   },
   {
    "duration": 1447,
    "start_time": "2022-01-24T19:35:28.126Z"
   },
   {
    "duration": 1232,
    "start_time": "2022-01-24T19:35:29.575Z"
   },
   {
    "duration": 1399,
    "start_time": "2022-01-24T19:35:30.809Z"
   },
   {
    "duration": 640,
    "start_time": "2022-01-24T19:35:32.210Z"
   },
   {
    "duration": 440,
    "start_time": "2022-01-24T19:35:32.852Z"
   },
   {
    "duration": 890,
    "start_time": "2022-01-24T19:35:33.294Z"
   },
   {
    "duration": 13657,
    "start_time": "2022-01-24T19:35:34.185Z"
   },
   {
    "duration": 2456,
    "start_time": "2022-01-24T19:35:47.844Z"
   },
   {
    "duration": 2730,
    "start_time": "2022-01-24T19:35:50.301Z"
   },
   {
    "duration": 6,
    "start_time": "2022-01-24T19:42:38.464Z"
   },
   {
    "duration": 10,
    "start_time": "2022-01-24T19:42:45.866Z"
   },
   {
    "duration": 5,
    "start_time": "2022-01-24T19:43:28.553Z"
   },
   {
    "duration": 9,
    "start_time": "2022-01-24T19:43:33.364Z"
   },
   {
    "duration": 10,
    "start_time": "2022-01-24T19:43:53.151Z"
   },
   {
    "duration": 6,
    "start_time": "2022-01-24T19:44:00.631Z"
   },
   {
    "duration": 8,
    "start_time": "2022-01-24T20:08:56.452Z"
   },
   {
    "duration": 6,
    "start_time": "2022-01-24T20:09:38.649Z"
   },
   {
    "duration": 6,
    "start_time": "2022-01-24T20:10:14.892Z"
   },
   {
    "duration": 5,
    "start_time": "2022-01-24T20:10:38.633Z"
   },
   {
    "duration": 310,
    "start_time": "2022-01-24T20:41:32.607Z"
   },
   {
    "duration": 5967,
    "start_time": "2022-01-24T20:41:55.576Z"
   },
   {
    "duration": 314,
    "start_time": "2022-01-24T20:42:01.545Z"
   },
   {
    "duration": 869,
    "start_time": "2022-01-24T20:42:01.861Z"
   },
   {
    "duration": 604,
    "start_time": "2022-01-24T20:42:02.732Z"
   },
   {
    "duration": 921,
    "start_time": "2022-01-24T20:42:03.337Z"
   },
   {
    "duration": 554,
    "start_time": "2022-01-24T20:42:04.260Z"
   },
   {
    "duration": 728,
    "start_time": "2022-01-24T20:42:04.816Z"
   },
   {
    "duration": 773,
    "start_time": "2022-01-24T20:42:05.546Z"
   },
   {
    "duration": 6422,
    "start_time": "2022-01-24T20:42:39.499Z"
   },
   {
    "duration": 347,
    "start_time": "2022-01-24T20:42:45.923Z"
   },
   {
    "duration": 1214,
    "start_time": "2022-01-24T20:42:46.272Z"
   },
   {
    "duration": 579,
    "start_time": "2022-01-24T20:42:47.488Z"
   },
   {
    "duration": 1840,
    "start_time": "2022-01-24T20:42:48.072Z"
   },
   {
    "duration": 8497,
    "start_time": "2022-01-24T20:42:49.914Z"
   },
   {
    "duration": 1396,
    "start_time": "2022-01-24T20:42:58.413Z"
   },
   {
    "duration": 923,
    "start_time": "2022-01-24T20:42:59.812Z"
   },
   {
    "duration": 1812,
    "start_time": "2022-01-24T20:43:00.737Z"
   },
   {
    "duration": 141,
    "start_time": "2022-01-24T20:43:02.550Z"
   },
   {
    "duration": 1867,
    "start_time": "2022-01-24T20:43:02.693Z"
   },
   {
    "duration": 1093,
    "start_time": "2022-01-24T20:43:04.561Z"
   },
   {
    "duration": 1022,
    "start_time": "2022-01-24T20:43:05.656Z"
   },
   {
    "duration": 857,
    "start_time": "2022-01-24T20:43:06.681Z"
   },
   {
    "duration": 1531,
    "start_time": "2022-01-24T20:43:07.539Z"
   },
   {
    "duration": 1317,
    "start_time": "2022-01-24T20:43:09.072Z"
   },
   {
    "duration": 494,
    "start_time": "2022-01-24T20:43:10.391Z"
   },
   {
    "duration": 1455,
    "start_time": "2022-01-24T20:43:10.887Z"
   },
   {
    "duration": 1020,
    "start_time": "2022-01-24T20:43:12.343Z"
   },
   {
    "duration": 885,
    "start_time": "2022-01-24T20:43:13.365Z"
   },
   {
    "duration": 848,
    "start_time": "2022-01-24T20:43:14.252Z"
   },
   {
    "duration": 503,
    "start_time": "2022-01-24T20:43:15.102Z"
   },
   {
    "duration": 631,
    "start_time": "2022-01-24T20:43:15.608Z"
   },
   {
    "duration": 822,
    "start_time": "2022-01-24T20:43:16.241Z"
   },
   {
    "duration": 354,
    "start_time": "2022-01-24T20:43:17.065Z"
   },
   {
    "duration": 1001,
    "start_time": "2022-01-24T20:43:17.420Z"
   },
   {
    "duration": 1017,
    "start_time": "2022-01-24T20:43:18.422Z"
   },
   {
    "duration": 685,
    "start_time": "2022-01-24T20:43:19.440Z"
   },
   {
    "duration": 966,
    "start_time": "2022-01-24T20:43:20.127Z"
   },
   {
    "duration": 4268,
    "start_time": "2022-01-24T20:43:21.094Z"
   },
   {
    "duration": 9443,
    "start_time": "2022-01-24T20:43:25.364Z"
   },
   {
    "duration": 1657,
    "start_time": "2022-01-24T20:43:34.809Z"
   },
   {
    "duration": 830,
    "start_time": "2022-01-24T20:43:36.467Z"
   },
   {
    "duration": 1665,
    "start_time": "2022-01-24T20:43:37.298Z"
   },
   {
    "duration": 2326,
    "start_time": "2022-01-24T20:43:38.964Z"
   },
   {
    "duration": 829,
    "start_time": "2022-01-24T20:43:41.292Z"
   },
   {
    "duration": 2029,
    "start_time": "2022-01-24T20:43:42.124Z"
   },
   {
    "duration": 982,
    "start_time": "2022-01-24T20:43:44.155Z"
   },
   {
    "duration": 2261,
    "start_time": "2022-01-24T20:43:45.139Z"
   },
   {
    "duration": 1028,
    "start_time": "2022-01-24T20:43:47.402Z"
   },
   {
    "duration": 2543,
    "start_time": "2022-01-24T20:43:48.432Z"
   },
   {
    "duration": 1437,
    "start_time": "2022-01-24T20:43:50.977Z"
   },
   {
    "duration": 760,
    "start_time": "2022-01-24T20:43:52.415Z"
   },
   {
    "duration": 2513,
    "start_time": "2022-01-24T20:43:53.178Z"
   },
   {
    "duration": 665,
    "start_time": "2022-01-24T20:43:55.693Z"
   },
   {
    "duration": 408,
    "start_time": "2022-01-24T20:43:56.360Z"
   },
   {
    "duration": 1180,
    "start_time": "2022-01-24T20:43:56.772Z"
   },
   {
    "duration": 4126,
    "start_time": "2022-01-24T20:43:57.954Z"
   },
   {
    "duration": 799,
    "start_time": "2022-01-24T20:44:02.082Z"
   },
   {
    "duration": 1533,
    "start_time": "2022-01-24T20:44:02.883Z"
   },
   {
    "duration": 2090,
    "start_time": "2022-01-24T20:44:04.417Z"
   },
   {
    "duration": 874,
    "start_time": "2022-01-24T20:44:06.508Z"
   },
   {
    "duration": 834,
    "start_time": "2022-01-24T20:49:06.152Z"
   },
   {
    "duration": 281,
    "start_time": "2022-01-24T20:49:25.186Z"
   },
   {
    "duration": 298,
    "start_time": "2022-01-24T20:51:35.464Z"
   },
   {
    "duration": 377,
    "start_time": "2022-01-25T12:58:09.711Z"
   },
   {
    "duration": 1637,
    "start_time": "2022-01-25T12:58:17.611Z"
   },
   {
    "duration": 385,
    "start_time": "2022-01-25T12:58:19.252Z"
   },
   {
    "duration": 346,
    "start_time": "2022-01-25T12:58:19.641Z"
   },
   {
    "duration": 485,
    "start_time": "2022-01-25T12:58:19.989Z"
   },
   {
    "duration": 62,
    "start_time": "2022-01-25T12:58:20.477Z"
   },
   {
    "duration": 18,
    "start_time": "2022-01-25T12:58:20.542Z"
   },
   {
    "duration": 68,
    "start_time": "2022-01-25T12:58:20.563Z"
   },
   {
    "duration": 5,
    "start_time": "2022-01-25T12:58:20.634Z"
   },
   {
    "duration": 1003,
    "start_time": "2022-01-25T12:58:20.644Z"
   },
   {
    "duration": 230,
    "start_time": "2022-01-25T12:58:21.652Z"
   },
   {
    "duration": 966,
    "start_time": "2022-01-25T12:58:21.886Z"
   },
   {
    "duration": 185,
    "start_time": "2022-01-25T12:58:22.855Z"
   },
   {
    "duration": 452,
    "start_time": "2022-01-25T12:58:23.048Z"
   },
   {
    "duration": 61,
    "start_time": "2022-01-25T12:58:23.502Z"
   },
   {
    "duration": 11,
    "start_time": "2022-01-25T12:58:23.566Z"
   },
   {
    "duration": 12,
    "start_time": "2022-01-25T12:58:23.580Z"
   },
   {
    "duration": 40,
    "start_time": "2022-01-25T12:58:23.594Z"
   },
   {
    "duration": 15,
    "start_time": "2022-01-25T12:58:23.636Z"
   },
   {
    "duration": 31,
    "start_time": "2022-01-25T12:58:23.654Z"
   },
   {
    "duration": 68,
    "start_time": "2022-01-25T12:58:23.688Z"
   },
   {
    "duration": 16,
    "start_time": "2022-01-25T12:58:23.760Z"
   },
   {
    "duration": 8,
    "start_time": "2022-01-25T12:58:23.779Z"
   },
   {
    "duration": 17,
    "start_time": "2022-01-25T12:58:23.790Z"
   },
   {
    "duration": 106,
    "start_time": "2022-01-25T12:58:23.810Z"
   },
   {
    "duration": 60,
    "start_time": "2022-01-25T12:58:23.919Z"
   },
   {
    "duration": 66,
    "start_time": "2022-01-25T12:58:23.983Z"
   },
   {
    "duration": 49,
    "start_time": "2022-01-25T12:58:24.055Z"
   },
   {
    "duration": 62,
    "start_time": "2022-01-25T12:58:24.107Z"
   },
   {
    "duration": 7,
    "start_time": "2022-01-25T12:58:24.171Z"
   },
   {
    "duration": 10,
    "start_time": "2022-01-25T12:58:24.181Z"
   },
   {
    "duration": 61,
    "start_time": "2022-01-25T12:58:24.194Z"
   },
   {
    "duration": 133,
    "start_time": "2022-01-25T12:58:24.257Z"
   },
   {
    "duration": 6,
    "start_time": "2022-01-25T12:58:24.393Z"
   },
   {
    "duration": 6,
    "start_time": "2022-01-25T12:58:24.401Z"
   },
   {
    "duration": 26,
    "start_time": "2022-01-25T12:58:24.434Z"
   },
   {
    "duration": 649,
    "start_time": "2022-01-25T12:58:24.463Z"
   },
   {
    "duration": 4,
    "start_time": "2022-01-25T12:58:25.114Z"
   },
   {
    "duration": 42,
    "start_time": "2022-01-25T12:58:25.133Z"
   },
   {
    "duration": 64,
    "start_time": "2022-01-25T12:58:25.177Z"
   },
   {
    "duration": 3,
    "start_time": "2022-01-25T12:58:25.244Z"
   },
   {
    "duration": 10,
    "start_time": "2022-01-25T12:58:25.250Z"
   },
   {
    "duration": 7,
    "start_time": "2022-01-25T12:58:25.264Z"
   },
   {
    "duration": 742,
    "start_time": "2022-01-25T12:58:25.274Z"
   },
   {
    "duration": 725,
    "start_time": "2022-01-25T12:58:26.020Z"
   },
   {
    "duration": 545,
    "start_time": "2022-01-25T12:58:26.748Z"
   },
   {
    "duration": 647,
    "start_time": "2022-01-25T12:58:27.297Z"
   },
   {
    "duration": 646,
    "start_time": "2022-01-25T12:58:27.947Z"
   },
   {
    "duration": 647,
    "start_time": "2022-01-25T12:58:28.596Z"
   },
   {
    "duration": 3,
    "start_time": "2022-01-25T12:58:29.245Z"
   },
   {
    "duration": 11,
    "start_time": "2022-01-25T12:58:29.251Z"
   },
   {
    "duration": 69,
    "start_time": "2022-01-25T12:58:29.265Z"
   },
   {
    "duration": 41,
    "start_time": "2022-01-25T12:58:29.337Z"
   },
   {
    "duration": 9,
    "start_time": "2022-01-25T12:58:29.381Z"
   },
   {
    "duration": 443,
    "start_time": "2022-01-25T12:59:53.452Z"
   },
   {
    "duration": 9,
    "start_time": "2022-01-25T12:59:57.417Z"
   },
   {
    "duration": 8,
    "start_time": "2022-01-25T13:08:06.324Z"
   },
   {
    "duration": 110,
    "start_time": "2022-01-25T13:08:16.241Z"
   },
   {
    "duration": 32,
    "start_time": "2022-01-25T13:08:21.073Z"
   },
   {
    "duration": 3,
    "start_time": "2022-01-25T13:08:28.635Z"
   },
   {
    "duration": 310,
    "start_time": "2022-01-25T13:09:16.932Z"
   },
   {
    "duration": 7842,
    "start_time": "2022-01-25T13:10:05.096Z"
   },
   {
    "duration": 7857,
    "start_time": "2022-01-25T13:10:19.203Z"
   },
   {
    "duration": 12395,
    "start_time": "2022-01-25T13:11:08.947Z"
   },
   {
    "duration": 8511,
    "start_time": "2022-01-25T13:12:28.027Z"
   },
   {
    "duration": 1636,
    "start_time": "2022-01-25T13:12:45.137Z"
   },
   {
    "duration": 356,
    "start_time": "2022-01-25T13:12:46.776Z"
   },
   {
    "duration": 343,
    "start_time": "2022-01-25T13:12:47.137Z"
   },
   {
    "duration": 214,
    "start_time": "2022-01-25T13:12:47.484Z"
   },
   {
    "duration": 50,
    "start_time": "2022-01-25T13:12:47.701Z"
   },
   {
    "duration": 18,
    "start_time": "2022-01-25T13:12:47.753Z"
   },
   {
    "duration": 59,
    "start_time": "2022-01-25T13:12:47.773Z"
   },
   {
    "duration": 4,
    "start_time": "2022-01-25T13:12:47.835Z"
   },
   {
    "duration": 983,
    "start_time": "2022-01-25T13:12:47.844Z"
   },
   {
    "duration": 213,
    "start_time": "2022-01-25T13:12:48.830Z"
   },
   {
    "duration": 946,
    "start_time": "2022-01-25T13:12:49.046Z"
   },
   {
    "duration": 183,
    "start_time": "2022-01-25T13:12:49.995Z"
   },
   {
    "duration": 576,
    "start_time": "2022-01-25T13:12:50.181Z"
   },
   {
    "duration": 50,
    "start_time": "2022-01-25T13:12:50.760Z"
   },
   {
    "duration": 29,
    "start_time": "2022-01-25T13:12:50.813Z"
   },
   {
    "duration": 17,
    "start_time": "2022-01-25T13:12:50.845Z"
   },
   {
    "duration": 12,
    "start_time": "2022-01-25T13:12:50.864Z"
   },
   {
    "duration": 13,
    "start_time": "2022-01-25T13:12:50.879Z"
   },
   {
    "duration": 30,
    "start_time": "2022-01-25T13:12:50.934Z"
   },
   {
    "duration": 78,
    "start_time": "2022-01-25T13:12:50.967Z"
   },
   {
    "duration": 4,
    "start_time": "2022-01-25T13:12:51.048Z"
   },
   {
    "duration": 6,
    "start_time": "2022-01-25T13:12:51.055Z"
   },
   {
    "duration": 12,
    "start_time": "2022-01-25T13:12:51.066Z"
   },
   {
    "duration": 109,
    "start_time": "2022-01-25T13:12:51.080Z"
   },
   {
    "duration": 63,
    "start_time": "2022-01-25T13:12:51.191Z"
   },
   {
    "duration": 48,
    "start_time": "2022-01-25T13:12:51.256Z"
   },
   {
    "duration": 73,
    "start_time": "2022-01-25T13:12:51.310Z"
   },
   {
    "duration": 73,
    "start_time": "2022-01-25T13:12:51.386Z"
   },
   {
    "duration": 7,
    "start_time": "2022-01-25T13:12:51.462Z"
   },
   {
    "duration": 9,
    "start_time": "2022-01-25T13:12:51.471Z"
   },
   {
    "duration": 64,
    "start_time": "2022-01-25T13:12:51.483Z"
   },
   {
    "duration": 133,
    "start_time": "2022-01-25T13:12:51.550Z"
   },
   {
    "duration": 7,
    "start_time": "2022-01-25T13:12:51.686Z"
   },
   {
    "duration": 10,
    "start_time": "2022-01-25T13:12:51.696Z"
   },
   {
    "duration": 49,
    "start_time": "2022-01-25T13:12:51.709Z"
   },
   {
    "duration": 8777,
    "start_time": "2022-01-25T13:12:51.761Z"
   },
   {
    "duration": -16,
    "start_time": "2022-01-25T13:13:00.558Z"
   },
   {
    "duration": -17,
    "start_time": "2022-01-25T13:13:00.561Z"
   },
   {
    "duration": -18,
    "start_time": "2022-01-25T13:13:00.564Z"
   },
   {
    "duration": -24,
    "start_time": "2022-01-25T13:13:00.572Z"
   },
   {
    "duration": -28,
    "start_time": "2022-01-25T13:13:00.577Z"
   },
   {
    "duration": -32,
    "start_time": "2022-01-25T13:13:00.582Z"
   },
   {
    "duration": -38,
    "start_time": "2022-01-25T13:13:00.589Z"
   },
   {
    "duration": -39,
    "start_time": "2022-01-25T13:13:00.592Z"
   },
   {
    "duration": -41,
    "start_time": "2022-01-25T13:13:00.596Z"
   },
   {
    "duration": -47,
    "start_time": "2022-01-25T13:13:00.604Z"
   },
   {
    "duration": -48,
    "start_time": "2022-01-25T13:13:00.607Z"
   },
   {
    "duration": -50,
    "start_time": "2022-01-25T13:13:00.611Z"
   },
   {
    "duration": -52,
    "start_time": "2022-01-25T13:13:00.615Z"
   },
   {
    "duration": -56,
    "start_time": "2022-01-25T13:13:00.621Z"
   },
   {
    "duration": -58,
    "start_time": "2022-01-25T13:13:00.625Z"
   },
   {
    "duration": -59,
    "start_time": "2022-01-25T13:13:00.628Z"
   },
   {
    "duration": -58,
    "start_time": "2022-01-25T13:13:00.630Z"
   },
   {
    "duration": -62,
    "start_time": "2022-01-25T13:13:00.636Z"
   },
   {
    "duration": -63,
    "start_time": "2022-01-25T13:13:00.639Z"
   },
   {
    "duration": 549,
    "start_time": "2022-01-25T13:13:48.171Z"
   },
   {
    "duration": 10,
    "start_time": "2022-01-25T13:13:48.723Z"
   },
   {
    "duration": 42,
    "start_time": "2022-01-25T13:13:48.735Z"
   },
   {
    "duration": 68,
    "start_time": "2022-01-25T13:13:48.780Z"
   },
   {
    "duration": 3,
    "start_time": "2022-01-25T13:13:48.851Z"
   },
   {
    "duration": 10,
    "start_time": "2022-01-25T13:13:48.856Z"
   },
   {
    "duration": 9,
    "start_time": "2022-01-25T13:13:48.869Z"
   },
   {
    "duration": 569,
    "start_time": "2022-01-25T13:13:48.884Z"
   },
   {
    "duration": 684,
    "start_time": "2022-01-25T13:13:49.456Z"
   },
   {
    "duration": 625,
    "start_time": "2022-01-25T13:13:50.143Z"
   },
   {
    "duration": 652,
    "start_time": "2022-01-25T13:13:50.771Z"
   },
   {
    "duration": 635,
    "start_time": "2022-01-25T13:13:51.425Z"
   },
   {
    "duration": 646,
    "start_time": "2022-01-25T13:13:52.062Z"
   },
   {
    "duration": 4,
    "start_time": "2022-01-25T13:13:52.711Z"
   },
   {
    "duration": 22,
    "start_time": "2022-01-25T13:13:52.717Z"
   },
   {
    "duration": 39,
    "start_time": "2022-01-25T13:13:52.742Z"
   },
   {
    "duration": 74,
    "start_time": "2022-01-25T13:13:52.784Z"
   },
   {
    "duration": 7,
    "start_time": "2022-01-25T13:13:52.861Z"
   },
   {
    "duration": 28,
    "start_time": "2022-01-25T13:21:25.901Z"
   },
   {
    "duration": 15,
    "start_time": "2022-01-25T13:21:35.857Z"
   },
   {
    "duration": 24,
    "start_time": "2022-01-25T13:24:51.955Z"
   },
   {
    "duration": 6,
    "start_time": "2022-01-25T13:28:31.223Z"
   },
   {
    "duration": 42,
    "start_time": "2022-01-25T13:30:49.397Z"
   },
   {
    "duration": 980,
    "start_time": "2022-01-25T14:07:18.498Z"
   },
   {
    "duration": 102,
    "start_time": "2022-01-25T14:08:03.486Z"
   },
   {
    "duration": 95,
    "start_time": "2022-01-25T14:09:58.556Z"
   },
   {
    "duration": 41,
    "start_time": "2022-01-25T14:10:02.385Z"
   },
   {
    "duration": 48,
    "start_time": "2022-01-25T14:10:11.026Z"
   },
   {
    "duration": 40,
    "start_time": "2022-01-25T14:10:17.890Z"
   },
   {
    "duration": 39,
    "start_time": "2022-01-25T14:10:19.908Z"
   },
   {
    "duration": 1457,
    "start_time": "2022-01-25T14:10:27.743Z"
   },
   {
    "duration": 351,
    "start_time": "2022-01-25T14:10:29.203Z"
   },
   {
    "duration": 336,
    "start_time": "2022-01-25T14:10:29.558Z"
   },
   {
    "duration": 902,
    "start_time": "2022-01-25T14:10:29.897Z"
   },
   {
    "duration": 115,
    "start_time": "2022-01-25T14:10:30.801Z"
   },
   {
    "duration": 19,
    "start_time": "2022-01-25T14:10:30.919Z"
   },
   {
    "duration": 106,
    "start_time": "2022-01-25T14:10:30.940Z"
   },
   {
    "duration": 7,
    "start_time": "2022-01-25T14:10:31.050Z"
   },
   {
    "duration": 945,
    "start_time": "2022-01-25T14:10:31.060Z"
   },
   {
    "duration": 141,
    "start_time": "2022-01-25T14:10:32.007Z"
   },
   {
    "duration": 570,
    "start_time": "2022-01-25T14:10:32.150Z"
   },
   {
    "duration": 110,
    "start_time": "2022-01-25T14:10:32.723Z"
   },
   {
    "duration": 389,
    "start_time": "2022-01-25T14:10:32.836Z"
   },
   {
    "duration": 41,
    "start_time": "2022-01-25T14:10:33.232Z"
   },
   {
    "duration": 10,
    "start_time": "2022-01-25T14:10:33.275Z"
   },
   {
    "duration": 8,
    "start_time": "2022-01-25T14:10:33.288Z"
   },
   {
    "duration": 40,
    "start_time": "2022-01-25T14:10:33.298Z"
   },
   {
    "duration": 14,
    "start_time": "2022-01-25T14:10:33.340Z"
   },
   {
    "duration": 19,
    "start_time": "2022-01-25T14:10:33.356Z"
   },
   {
    "duration": 65,
    "start_time": "2022-01-25T14:10:33.377Z"
   },
   {
    "duration": 4,
    "start_time": "2022-01-25T14:10:33.444Z"
   },
   {
    "duration": 14,
    "start_time": "2022-01-25T14:10:33.451Z"
   },
   {
    "duration": 7,
    "start_time": "2022-01-25T14:10:33.471Z"
   },
   {
    "duration": 107,
    "start_time": "2022-01-25T14:10:33.482Z"
   },
   {
    "duration": 62,
    "start_time": "2022-01-25T14:10:33.592Z"
   },
   {
    "duration": 53,
    "start_time": "2022-01-25T14:10:33.657Z"
   },
   {
    "duration": 65,
    "start_time": "2022-01-25T14:10:33.713Z"
   },
   {
    "duration": 60,
    "start_time": "2022-01-25T14:10:33.780Z"
   },
   {
    "duration": 6,
    "start_time": "2022-01-25T14:10:33.843Z"
   },
   {
    "duration": 10,
    "start_time": "2022-01-25T14:10:33.852Z"
   },
   {
    "duration": 35,
    "start_time": "2022-01-25T14:10:33.864Z"
   },
   {
    "duration": 137,
    "start_time": "2022-01-25T14:10:33.901Z"
   },
   {
    "duration": 5,
    "start_time": "2022-01-25T14:10:34.040Z"
   },
   {
    "duration": 7,
    "start_time": "2022-01-25T14:10:34.047Z"
   },
   {
    "duration": 10,
    "start_time": "2022-01-25T14:10:34.056Z"
   },
   {
    "duration": 511,
    "start_time": "2022-01-25T14:10:34.068Z"
   },
   {
    "duration": 28,
    "start_time": "2022-01-25T14:10:34.582Z"
   },
   {
    "duration": 66,
    "start_time": "2022-01-25T14:10:34.612Z"
   },
   {
    "duration": 66,
    "start_time": "2022-01-25T14:10:34.681Z"
   },
   {
    "duration": 41,
    "start_time": "2022-01-25T14:10:34.750Z"
   },
   {
    "duration": 4,
    "start_time": "2022-01-25T14:10:34.793Z"
   },
   {
    "duration": 34,
    "start_time": "2022-01-25T14:10:34.799Z"
   },
   {
    "duration": 6,
    "start_time": "2022-01-25T14:10:34.836Z"
   },
   {
    "duration": 541,
    "start_time": "2022-01-25T14:10:34.845Z"
   },
   {
    "duration": 648,
    "start_time": "2022-01-25T14:10:35.389Z"
   },
   {
    "duration": 512,
    "start_time": "2022-01-25T14:10:36.041Z"
   },
   {
    "duration": 641,
    "start_time": "2022-01-25T14:10:36.556Z"
   },
   {
    "duration": 599,
    "start_time": "2022-01-25T14:10:37.200Z"
   },
   {
    "duration": 598,
    "start_time": "2022-01-25T14:10:37.801Z"
   },
   {
    "duration": 3,
    "start_time": "2022-01-25T14:10:38.402Z"
   },
   {
    "duration": 27,
    "start_time": "2022-01-25T14:10:38.408Z"
   },
   {
    "duration": 38,
    "start_time": "2022-01-25T14:10:38.437Z"
   },
   {
    "duration": 63,
    "start_time": "2022-01-25T14:10:38.478Z"
   },
   {
    "duration": 7,
    "start_time": "2022-01-25T14:10:38.543Z"
   },
   {
    "duration": 40,
    "start_time": "2022-01-25T14:10:53.156Z"
   },
   {
    "duration": 43,
    "start_time": "2022-01-25T14:11:02.975Z"
   },
   {
    "duration": 41,
    "start_time": "2022-01-25T14:11:09.181Z"
   },
   {
    "duration": 39,
    "start_time": "2022-01-25T14:11:11.973Z"
   },
   {
    "duration": 42,
    "start_time": "2022-01-25T14:11:50.837Z"
   },
   {
    "duration": 1486,
    "start_time": "2022-01-25T14:16:28.580Z"
   },
   {
    "duration": 539,
    "start_time": "2022-01-25T14:16:30.069Z"
   },
   {
    "duration": 451,
    "start_time": "2022-01-25T14:16:30.612Z"
   },
   {
    "duration": 317,
    "start_time": "2022-01-25T14:16:31.068Z"
   },
   {
    "duration": 68,
    "start_time": "2022-01-25T14:16:31.389Z"
   },
   {
    "duration": 19,
    "start_time": "2022-01-25T14:16:31.459Z"
   },
   {
    "duration": 77,
    "start_time": "2022-01-25T14:16:31.482Z"
   },
   {
    "duration": 5,
    "start_time": "2022-01-25T14:16:31.563Z"
   },
   {
    "duration": 945,
    "start_time": "2022-01-25T14:16:31.571Z"
   },
   {
    "duration": 143,
    "start_time": "2022-01-25T14:16:32.519Z"
   },
   {
    "duration": 644,
    "start_time": "2022-01-25T14:16:32.664Z"
   },
   {
    "duration": 118,
    "start_time": "2022-01-25T14:16:33.310Z"
   },
   {
    "duration": 399,
    "start_time": "2022-01-25T14:16:33.430Z"
   },
   {
    "duration": 47,
    "start_time": "2022-01-25T14:16:33.832Z"
   },
   {
    "duration": 9,
    "start_time": "2022-01-25T14:16:33.882Z"
   },
   {
    "duration": 50,
    "start_time": "2022-01-25T14:16:33.893Z"
   },
   {
    "duration": 11,
    "start_time": "2022-01-25T14:16:33.946Z"
   },
   {
    "duration": 15,
    "start_time": "2022-01-25T14:16:33.959Z"
   },
   {
    "duration": 19,
    "start_time": "2022-01-25T14:16:33.976Z"
   },
   {
    "duration": 38,
    "start_time": "2022-01-25T14:16:34.039Z"
   },
   {
    "duration": 3,
    "start_time": "2022-01-25T14:16:34.079Z"
   },
   {
    "duration": 14,
    "start_time": "2022-01-25T14:16:34.085Z"
   },
   {
    "duration": 38,
    "start_time": "2022-01-25T14:16:34.105Z"
   },
   {
    "duration": 78,
    "start_time": "2022-01-25T14:16:34.148Z"
   },
   {
    "duration": 59,
    "start_time": "2022-01-25T14:16:34.228Z"
   },
   {
    "duration": 63,
    "start_time": "2022-01-25T14:16:34.289Z"
   },
   {
    "duration": 45,
    "start_time": "2022-01-25T14:16:34.356Z"
   },
   {
    "duration": 69,
    "start_time": "2022-01-25T14:16:34.403Z"
   },
   {
    "duration": 8,
    "start_time": "2022-01-25T14:16:34.475Z"
   },
   {
    "duration": 10,
    "start_time": "2022-01-25T14:16:34.485Z"
   },
   {
    "duration": 62,
    "start_time": "2022-01-25T14:16:34.498Z"
   },
   {
    "duration": 137,
    "start_time": "2022-01-25T14:16:34.562Z"
   },
   {
    "duration": 6,
    "start_time": "2022-01-25T14:16:34.703Z"
   },
   {
    "duration": 24,
    "start_time": "2022-01-25T14:16:34.712Z"
   },
   {
    "duration": 17,
    "start_time": "2022-01-25T14:16:34.740Z"
   },
   {
    "duration": 888,
    "start_time": "2022-01-25T14:16:34.759Z"
   },
   {
    "duration": 52,
    "start_time": "2022-01-25T14:16:35.651Z"
   },
   {
    "duration": 73,
    "start_time": "2022-01-25T14:16:35.706Z"
   },
   {
    "duration": 4,
    "start_time": "2022-01-25T14:16:35.781Z"
   },
   {
    "duration": 75,
    "start_time": "2022-01-25T14:16:35.788Z"
   },
   {
    "duration": 70,
    "start_time": "2022-01-25T14:16:35.867Z"
   },
   {
    "duration": 8,
    "start_time": "2022-01-25T14:16:35.940Z"
   },
   {
    "duration": 8,
    "start_time": "2022-01-25T14:16:35.950Z"
   },
   {
    "duration": 578,
    "start_time": "2022-01-25T14:16:35.960Z"
   },
   {
    "duration": 674,
    "start_time": "2022-01-25T14:16:36.541Z"
   },
   {
    "duration": 581,
    "start_time": "2022-01-25T14:16:37.217Z"
   },
   {
    "duration": 708,
    "start_time": "2022-01-25T14:16:37.800Z"
   },
   {
    "duration": 655,
    "start_time": "2022-01-25T14:16:38.511Z"
   },
   {
    "duration": 710,
    "start_time": "2022-01-25T14:16:39.169Z"
   },
   {
    "duration": 3,
    "start_time": "2022-01-25T14:16:39.882Z"
   },
   {
    "duration": 9,
    "start_time": "2022-01-25T14:16:39.888Z"
   },
   {
    "duration": 84,
    "start_time": "2022-01-25T14:16:39.899Z"
   },
   {
    "duration": 58,
    "start_time": "2022-01-25T14:16:39.985Z"
   },
   {
    "duration": 8,
    "start_time": "2022-01-25T14:16:40.046Z"
   },
   {
    "duration": 1577,
    "start_time": "2022-01-25T14:19:17.944Z"
   },
   {
    "duration": 367,
    "start_time": "2022-01-25T14:19:19.524Z"
   },
   {
    "duration": 594,
    "start_time": "2022-01-25T14:19:19.894Z"
   },
   {
    "duration": 250,
    "start_time": "2022-01-25T14:19:20.491Z"
   },
   {
    "duration": 56,
    "start_time": "2022-01-25T14:19:20.744Z"
   },
   {
    "duration": 17,
    "start_time": "2022-01-25T14:19:20.802Z"
   },
   {
    "duration": 61,
    "start_time": "2022-01-25T14:19:20.821Z"
   },
   {
    "duration": 5,
    "start_time": "2022-01-25T14:19:20.885Z"
   },
   {
    "duration": 871,
    "start_time": "2022-01-25T14:19:20.893Z"
   },
   {
    "duration": 153,
    "start_time": "2022-01-25T14:19:21.766Z"
   },
   {
    "duration": 599,
    "start_time": "2022-01-25T14:19:21.922Z"
   },
   {
    "duration": 113,
    "start_time": "2022-01-25T14:19:22.524Z"
   },
   {
    "duration": 393,
    "start_time": "2022-01-25T14:19:22.639Z"
   },
   {
    "duration": 45,
    "start_time": "2022-01-25T14:19:23.034Z"
   },
   {
    "duration": 10,
    "start_time": "2022-01-25T14:19:23.082Z"
   },
   {
    "duration": 39,
    "start_time": "2022-01-25T14:19:23.095Z"
   },
   {
    "duration": 9,
    "start_time": "2022-01-25T14:19:23.136Z"
   },
   {
    "duration": 13,
    "start_time": "2022-01-25T14:19:23.148Z"
   },
   {
    "duration": 18,
    "start_time": "2022-01-25T14:19:23.163Z"
   },
   {
    "duration": 75,
    "start_time": "2022-01-25T14:19:23.184Z"
   },
   {
    "duration": 3,
    "start_time": "2022-01-25T14:19:23.261Z"
   },
   {
    "duration": 6,
    "start_time": "2022-01-25T14:19:23.267Z"
   },
   {
    "duration": 6,
    "start_time": "2022-01-25T14:19:23.279Z"
   },
   {
    "duration": 108,
    "start_time": "2022-01-25T14:19:23.288Z"
   },
   {
    "duration": 54,
    "start_time": "2022-01-25T14:19:23.398Z"
   },
   {
    "duration": 47,
    "start_time": "2022-01-25T14:19:23.455Z"
   },
   {
    "duration": 81,
    "start_time": "2022-01-25T14:19:23.504Z"
   },
   {
    "duration": 71,
    "start_time": "2022-01-25T14:19:23.588Z"
   },
   {
    "duration": 8,
    "start_time": "2022-01-25T14:19:23.663Z"
   },
   {
    "duration": 17,
    "start_time": "2022-01-25T14:19:23.673Z"
   },
   {
    "duration": 50,
    "start_time": "2022-01-25T14:19:23.693Z"
   },
   {
    "duration": 127,
    "start_time": "2022-01-25T14:19:23.746Z"
   },
   {
    "duration": 5,
    "start_time": "2022-01-25T14:19:23.876Z"
   },
   {
    "duration": 8,
    "start_time": "2022-01-25T14:19:23.883Z"
   },
   {
    "duration": 8,
    "start_time": "2022-01-25T14:19:23.894Z"
   },
   {
    "duration": 535,
    "start_time": "2022-01-25T14:19:23.904Z"
   },
   {
    "duration": 27,
    "start_time": "2022-01-25T14:19:24.442Z"
   },
   {
    "duration": 74,
    "start_time": "2022-01-25T14:19:24.472Z"
   },
   {
    "duration": 6,
    "start_time": "2022-01-25T14:19:24.549Z"
   },
   {
    "duration": 49,
    "start_time": "2022-01-25T14:19:24.558Z"
   },
   {
    "duration": 57,
    "start_time": "2022-01-25T14:19:24.609Z"
   },
   {
    "duration": 5,
    "start_time": "2022-01-25T14:19:24.668Z"
   },
   {
    "duration": 10,
    "start_time": "2022-01-25T14:19:24.675Z"
   },
   {
    "duration": 599,
    "start_time": "2022-01-25T14:19:24.687Z"
   },
   {
    "duration": 774,
    "start_time": "2022-01-25T14:19:25.288Z"
   },
   {
    "duration": 540,
    "start_time": "2022-01-25T14:19:26.064Z"
   },
   {
    "duration": 642,
    "start_time": "2022-01-25T14:19:26.606Z"
   },
   {
    "duration": 609,
    "start_time": "2022-01-25T14:19:27.251Z"
   },
   {
    "duration": 608,
    "start_time": "2022-01-25T14:19:27.862Z"
   },
   {
    "duration": 3,
    "start_time": "2022-01-25T14:19:28.472Z"
   },
   {
    "duration": 12,
    "start_time": "2022-01-25T14:19:28.478Z"
   },
   {
    "duration": 64,
    "start_time": "2022-01-25T14:19:28.492Z"
   },
   {
    "duration": 40,
    "start_time": "2022-01-25T14:19:28.559Z"
   },
   {
    "duration": 7,
    "start_time": "2022-01-25T14:19:28.601Z"
   },
   {
    "duration": 59,
    "start_time": "2022-01-25T14:42:53.516Z"
   },
   {
    "duration": 43,
    "start_time": "2022-01-25T14:43:05.324Z"
   },
   {
    "duration": 34,
    "start_time": "2022-01-25T14:44:00.140Z"
   },
   {
    "duration": 49,
    "start_time": "2022-01-25T14:44:04.484Z"
   },
   {
    "duration": 37,
    "start_time": "2022-01-25T14:44:38.345Z"
   },
   {
    "duration": 81,
    "start_time": "2022-01-25T14:45:32.021Z"
   },
   {
    "duration": 67,
    "start_time": "2022-01-25T14:45:47.958Z"
   },
   {
    "duration": 540,
    "start_time": "2022-01-25T14:46:04.909Z"
   },
   {
    "duration": 71,
    "start_time": "2022-01-25T14:46:13.084Z"
   },
   {
    "duration": 85,
    "start_time": "2022-01-25T14:46:20.766Z"
   },
   {
    "duration": 8,
    "start_time": "2022-01-25T14:57:45.296Z"
   },
   {
    "duration": 5,
    "start_time": "2022-01-25T14:57:56.685Z"
   },
   {
    "duration": 8,
    "start_time": "2022-01-25T14:58:50.125Z"
   },
   {
    "duration": 7,
    "start_time": "2022-01-25T14:59:02.677Z"
   },
   {
    "duration": 6,
    "start_time": "2022-01-25T14:59:06.172Z"
   },
   {
    "duration": 5,
    "start_time": "2022-01-25T14:59:09.389Z"
   },
   {
    "duration": 35,
    "start_time": "2022-01-25T15:00:13.390Z"
   },
   {
    "duration": 8,
    "start_time": "2022-01-25T15:01:02.346Z"
   },
   {
    "duration": 6,
    "start_time": "2022-01-25T15:01:07.708Z"
   },
   {
    "duration": 12,
    "start_time": "2022-01-25T15:01:23.406Z"
   },
   {
    "duration": 9,
    "start_time": "2022-01-25T15:01:46.270Z"
   },
   {
    "duration": 9,
    "start_time": "2022-01-25T15:01:59.876Z"
   },
   {
    "duration": 319,
    "start_time": "2022-01-25T15:28:26.849Z"
   },
   {
    "duration": 54,
    "start_time": "2022-01-25T15:29:35.679Z"
   },
   {
    "duration": 1177,
    "start_time": "2022-01-25T20:45:38.723Z"
   },
   {
    "duration": 304,
    "start_time": "2022-01-25T20:45:39.902Z"
   },
   {
    "duration": 258,
    "start_time": "2022-01-25T20:45:40.209Z"
   },
   {
    "duration": 200,
    "start_time": "2022-01-25T20:45:40.469Z"
   },
   {
    "duration": 74,
    "start_time": "2022-01-25T20:45:40.671Z"
   },
   {
    "duration": 14,
    "start_time": "2022-01-25T20:45:40.746Z"
   },
   {
    "duration": 104,
    "start_time": "2022-01-25T20:45:40.761Z"
   },
   {
    "duration": 4,
    "start_time": "2022-01-25T20:45:40.867Z"
   },
   {
    "duration": 710,
    "start_time": "2022-01-25T20:45:40.873Z"
   },
   {
    "duration": 114,
    "start_time": "2022-01-25T20:45:41.585Z"
   },
   {
    "duration": 502,
    "start_time": "2022-01-25T20:45:41.701Z"
   },
   {
    "duration": 81,
    "start_time": "2022-01-25T20:45:42.205Z"
   },
   {
    "duration": 257,
    "start_time": "2022-01-25T20:45:42.288Z"
   },
   {
    "duration": 35,
    "start_time": "2022-01-25T20:45:42.547Z"
   },
   {
    "duration": 6,
    "start_time": "2022-01-25T20:45:42.584Z"
   },
   {
    "duration": 24,
    "start_time": "2022-01-25T20:45:42.592Z"
   },
   {
    "duration": 32,
    "start_time": "2022-01-25T20:45:42.618Z"
   },
   {
    "duration": 31,
    "start_time": "2022-01-25T20:45:42.652Z"
   },
   {
    "duration": 33,
    "start_time": "2022-01-25T20:45:42.685Z"
   },
   {
    "duration": 34,
    "start_time": "2022-01-25T20:45:42.720Z"
   },
   {
    "duration": 44,
    "start_time": "2022-01-25T20:45:42.756Z"
   },
   {
    "duration": 48,
    "start_time": "2022-01-25T20:45:42.802Z"
   },
   {
    "duration": 34,
    "start_time": "2022-01-25T20:45:42.854Z"
   },
   {
    "duration": 75,
    "start_time": "2022-01-25T20:45:42.890Z"
   },
   {
    "duration": 34,
    "start_time": "2022-01-25T20:45:42.967Z"
   },
   {
    "duration": 43,
    "start_time": "2022-01-25T20:45:43.003Z"
   },
   {
    "duration": 36,
    "start_time": "2022-01-25T20:45:43.048Z"
   },
   {
    "duration": 28,
    "start_time": "2022-01-25T20:45:43.086Z"
   },
   {
    "duration": 5,
    "start_time": "2022-01-25T20:45:43.116Z"
   },
   {
    "duration": 8,
    "start_time": "2022-01-25T20:45:43.123Z"
   },
   {
    "duration": 46,
    "start_time": "2022-01-25T20:45:43.132Z"
   },
   {
    "duration": 86,
    "start_time": "2022-01-25T20:45:43.180Z"
   },
   {
    "duration": 4,
    "start_time": "2022-01-25T20:45:43.268Z"
   },
   {
    "duration": 8,
    "start_time": "2022-01-25T20:45:43.273Z"
   },
   {
    "duration": 5,
    "start_time": "2022-01-25T20:45:43.283Z"
   },
   {
    "duration": 287,
    "start_time": "2022-01-25T20:45:43.290Z"
   },
   {
    "duration": 17,
    "start_time": "2022-01-25T20:45:43.579Z"
   },
   {
    "duration": 27,
    "start_time": "2022-01-25T20:45:43.598Z"
   },
   {
    "duration": 3,
    "start_time": "2022-01-25T20:45:43.626Z"
   },
   {
    "duration": 52,
    "start_time": "2022-01-25T20:45:43.630Z"
   },
   {
    "duration": 23,
    "start_time": "2022-01-25T20:45:43.683Z"
   },
   {
    "duration": 58,
    "start_time": "2022-01-25T20:45:43.708Z"
   },
   {
    "duration": 5,
    "start_time": "2022-01-25T20:45:43.768Z"
   },
   {
    "duration": 5,
    "start_time": "2022-01-25T20:45:43.775Z"
   },
   {
    "duration": 29,
    "start_time": "2022-01-25T20:45:43.781Z"
   },
   {
    "duration": 4,
    "start_time": "2022-01-25T20:45:43.811Z"
   },
   {
    "duration": 10,
    "start_time": "2022-01-25T20:45:43.817Z"
   },
   {
    "duration": 344,
    "start_time": "2022-01-25T20:45:43.828Z"
   },
   {
    "duration": 376,
    "start_time": "2022-01-25T20:45:44.173Z"
   },
   {
    "duration": 300,
    "start_time": "2022-01-25T20:45:44.550Z"
   },
   {
    "duration": 381,
    "start_time": "2022-01-25T20:45:44.851Z"
   },
   {
    "duration": 399,
    "start_time": "2022-01-25T20:45:45.234Z"
   },
   {
    "duration": 376,
    "start_time": "2022-01-25T20:45:45.635Z"
   },
   {
    "duration": 3,
    "start_time": "2022-01-25T20:45:46.013Z"
   },
   {
    "duration": 8,
    "start_time": "2022-01-25T20:45:46.018Z"
   },
   {
    "duration": 46,
    "start_time": "2022-01-25T20:45:46.028Z"
   },
   {
    "duration": 23,
    "start_time": "2022-01-25T20:45:46.075Z"
   },
   {
    "duration": 5,
    "start_time": "2022-01-25T20:45:46.100Z"
   },
   {
    "duration": 20,
    "start_time": "2022-01-25T20:47:16.237Z"
   },
   {
    "duration": 4,
    "start_time": "2022-01-25T20:47:35.763Z"
   },
   {
    "duration": 4,
    "start_time": "2022-01-25T20:47:57.088Z"
   },
   {
    "duration": 289,
    "start_time": "2022-01-25T20:48:35.547Z"
   },
   {
    "duration": 6,
    "start_time": "2022-01-25T20:48:44.563Z"
   },
   {
    "duration": 21,
    "start_time": "2022-01-25T20:48:45.954Z"
   },
   {
    "duration": 21,
    "start_time": "2022-01-25T20:49:04.709Z"
   },
   {
    "duration": 37,
    "start_time": "2022-01-25T20:50:44.687Z"
   },
   {
    "duration": 258,
    "start_time": "2022-01-25T20:50:50.884Z"
   },
   {
    "duration": 7,
    "start_time": "2022-01-25T20:50:55.178Z"
   },
   {
    "duration": 39,
    "start_time": "2022-01-25T20:50:56.259Z"
   },
   {
    "duration": 19,
    "start_time": "2022-01-25T20:51:17.500Z"
   },
   {
    "duration": 26,
    "start_time": "2022-01-25T20:51:22.107Z"
   },
   {
    "duration": 47,
    "start_time": "2022-01-25T20:51:45.001Z"
   },
   {
    "duration": 37,
    "start_time": "2022-01-25T20:51:59.244Z"
   },
   {
    "duration": 42,
    "start_time": "2022-01-25T20:53:30.692Z"
   },
   {
    "duration": 40,
    "start_time": "2022-01-25T20:55:14.028Z"
   },
   {
    "duration": 38,
    "start_time": "2022-01-25T20:55:21.660Z"
   },
   {
    "duration": 36,
    "start_time": "2022-01-25T20:55:49.284Z"
   },
   {
    "duration": 36,
    "start_time": "2022-01-25T20:55:58.193Z"
   },
   {
    "duration": 5,
    "start_time": "2022-01-25T21:01:32.828Z"
   },
   {
    "duration": 6,
    "start_time": "2022-01-25T21:02:34.668Z"
   },
   {
    "duration": 5,
    "start_time": "2022-01-25T21:02:53.061Z"
   },
   {
    "duration": 6,
    "start_time": "2022-01-25T21:07:38.019Z"
   },
   {
    "duration": 7,
    "start_time": "2022-01-25T21:07:39.259Z"
   },
   {
    "duration": 5,
    "start_time": "2022-01-25T21:08:21.777Z"
   },
   {
    "duration": 5,
    "start_time": "2022-01-25T21:08:34.863Z"
   },
   {
    "duration": 199,
    "start_time": "2022-01-25T21:38:58.366Z"
   },
   {
    "duration": 188,
    "start_time": "2022-01-25T21:39:16.350Z"
   },
   {
    "duration": 202,
    "start_time": "2022-01-25T21:39:26.414Z"
   },
   {
    "duration": 205,
    "start_time": "2022-01-25T21:39:35.487Z"
   },
   {
    "duration": 222,
    "start_time": "2022-01-25T21:40:00.126Z"
   },
   {
    "duration": 202,
    "start_time": "2022-01-25T21:40:21.311Z"
   },
   {
    "duration": 202,
    "start_time": "2022-01-25T21:41:48.142Z"
   },
   {
    "duration": 198,
    "start_time": "2022-01-25T21:42:08.270Z"
   },
   {
    "duration": 232,
    "start_time": "2022-01-25T21:47:24.877Z"
   },
   {
    "duration": 4796,
    "start_time": "2022-01-25T21:47:43.070Z"
   },
   {
    "duration": 5918,
    "start_time": "2022-01-25T21:48:28.295Z"
   },
   {
    "duration": 1813,
    "start_time": "2022-01-25T21:49:02.375Z"
   },
   {
    "duration": 2159,
    "start_time": "2022-01-25T21:50:24.111Z"
   },
   {
    "duration": 2039,
    "start_time": "2022-01-25T21:52:04.687Z"
   },
   {
    "duration": 206,
    "start_time": "2022-01-25T21:53:31.382Z"
   },
   {
    "duration": 2558,
    "start_time": "2022-01-25T21:53:53.142Z"
   },
   {
    "duration": 1743,
    "start_time": "2022-01-25T21:58:12.174Z"
   },
   {
    "duration": 1801,
    "start_time": "2022-01-25T21:58:19.021Z"
   },
   {
    "duration": 1736,
    "start_time": "2022-01-25T21:59:36.764Z"
   },
   {
    "duration": 1584,
    "start_time": "2022-01-25T21:59:49.388Z"
   },
   {
    "duration": 1587,
    "start_time": "2022-01-25T22:00:12.126Z"
   },
   {
    "duration": 1483,
    "start_time": "2022-01-25T22:03:32.854Z"
   },
   {
    "duration": 1375,
    "start_time": "2022-01-25T22:04:09.612Z"
   },
   {
    "duration": 1446,
    "start_time": "2022-01-25T22:04:29.372Z"
   },
   {
    "duration": 70,
    "start_time": "2022-01-25T22:08:23.790Z"
   },
   {
    "duration": 344,
    "start_time": "2022-01-25T22:08:27.192Z"
   },
   {
    "duration": 315,
    "start_time": "2022-01-25T22:08:38.580Z"
   },
   {
    "duration": 1594,
    "start_time": "2022-01-25T22:10:05.430Z"
   },
   {
    "duration": 1840,
    "start_time": "2022-01-25T22:10:13.804Z"
   },
   {
    "duration": 1717,
    "start_time": "2022-01-25T22:11:10.589Z"
   },
   {
    "duration": 1356,
    "start_time": "2022-01-25T22:13:51.758Z"
   },
   {
    "duration": 1901,
    "start_time": "2022-01-25T22:14:35.536Z"
   },
   {
    "duration": 1289,
    "start_time": "2022-01-25T22:15:12.110Z"
   },
   {
    "duration": 1889,
    "start_time": "2022-01-25T22:15:23.346Z"
   },
   {
    "duration": 62,
    "start_time": "2022-01-25T22:17:59.197Z"
   },
   {
    "duration": 66,
    "start_time": "2022-01-25T22:18:12.918Z"
   },
   {
    "duration": 541,
    "start_time": "2022-01-25T22:18:29.541Z"
   },
   {
    "duration": 410,
    "start_time": "2022-01-25T22:18:39.854Z"
   },
   {
    "duration": 325,
    "start_time": "2022-01-25T22:18:50.517Z"
   },
   {
    "duration": 74,
    "start_time": "2022-01-25T22:19:36.742Z"
   },
   {
    "duration": 413,
    "start_time": "2022-01-25T22:19:45.342Z"
   },
   {
    "duration": 436,
    "start_time": "2022-01-25T22:20:03.246Z"
   },
   {
    "duration": 4702,
    "start_time": "2022-01-25T22:21:34.222Z"
   },
   {
    "duration": 5197,
    "start_time": "2022-01-25T22:21:41.446Z"
   },
   {
    "duration": 314,
    "start_time": "2022-01-25T22:21:48.446Z"
   },
   {
    "duration": 306,
    "start_time": "2022-01-25T22:21:55.654Z"
   },
   {
    "duration": 306,
    "start_time": "2022-01-25T22:22:02.414Z"
   },
   {
    "duration": 328,
    "start_time": "2022-01-25T22:22:13.254Z"
   },
   {
    "duration": 339,
    "start_time": "2022-01-25T22:24:46.286Z"
   },
   {
    "duration": 474,
    "start_time": "2022-01-25T22:25:20.128Z"
   },
   {
    "duration": 354,
    "start_time": "2022-01-25T22:25:31.286Z"
   },
   {
    "duration": 346,
    "start_time": "2022-01-25T22:26:03.495Z"
   },
   {
    "duration": 353,
    "start_time": "2022-01-25T22:26:50.718Z"
   },
   {
    "duration": 323,
    "start_time": "2022-01-25T22:27:00.117Z"
   },
   {
    "duration": 357,
    "start_time": "2022-01-25T22:27:03.008Z"
   },
   {
    "duration": 64,
    "start_time": "2022-01-25T22:27:16.168Z"
   },
   {
    "duration": 352,
    "start_time": "2022-01-25T22:27:19.966Z"
   },
   {
    "duration": 203,
    "start_time": "2022-01-25T22:27:45.080Z"
   },
   {
    "duration": 1518,
    "start_time": "2022-01-25T22:27:58.182Z"
   },
   {
    "duration": 417,
    "start_time": "2022-01-25T22:28:16.703Z"
   },
   {
    "duration": 1555,
    "start_time": "2022-01-25T22:28:54.128Z"
   },
   {
    "duration": 1671,
    "start_time": "2022-01-25T22:29:09.235Z"
   },
   {
    "duration": 1479,
    "start_time": "2022-01-25T22:29:17.031Z"
   },
   {
    "duration": 306,
    "start_time": "2022-01-25T22:34:15.263Z"
   },
   {
    "duration": 90,
    "start_time": "2022-01-25T22:34:45.870Z"
   },
   {
    "duration": 78,
    "start_time": "2022-01-25T22:34:53.622Z"
   },
   {
    "duration": 65,
    "start_time": "2022-01-25T22:34:58.775Z"
   },
   {
    "duration": 66,
    "start_time": "2022-01-25T22:35:16.206Z"
   },
   {
    "duration": 74,
    "start_time": "2022-01-25T22:35:25.310Z"
   },
   {
    "duration": 384,
    "start_time": "2022-01-25T22:35:31.655Z"
   },
   {
    "duration": 362,
    "start_time": "2022-01-25T22:39:14.575Z"
   },
   {
    "duration": 7,
    "start_time": "2022-01-25T22:39:19.170Z"
   },
   {
    "duration": 6,
    "start_time": "2022-01-25T22:39:27.664Z"
   },
   {
    "duration": 224,
    "start_time": "2022-01-25T22:39:48.263Z"
   },
   {
    "duration": 333,
    "start_time": "2022-01-25T22:40:16.600Z"
   },
   {
    "duration": 75,
    "start_time": "2022-01-25T22:41:59.524Z"
   },
   {
    "duration": 665,
    "start_time": "2022-01-25T22:42:13.199Z"
   },
   {
    "duration": 319,
    "start_time": "2022-01-25T22:42:44.560Z"
   },
   {
    "duration": 323,
    "start_time": "2022-01-25T22:43:05.124Z"
   },
   {
    "duration": 398,
    "start_time": "2022-01-25T22:44:29.522Z"
   },
   {
    "duration": 345,
    "start_time": "2022-01-25T22:44:39.343Z"
   },
   {
    "duration": 331,
    "start_time": "2022-01-25T22:44:52.145Z"
   },
   {
    "duration": 384,
    "start_time": "2022-01-25T22:46:09.184Z"
   },
   {
    "duration": 419,
    "start_time": "2022-01-25T22:46:18.010Z"
   },
   {
    "duration": 590,
    "start_time": "2022-01-25T22:48:41.488Z"
   },
   {
    "duration": 1179,
    "start_time": "2022-01-25T22:48:49.586Z"
   },
   {
    "duration": 327,
    "start_time": "2022-01-25T22:49:02.097Z"
   },
   {
    "duration": 334,
    "start_time": "2022-01-25T22:49:33.120Z"
   },
   {
    "duration": 329,
    "start_time": "2022-01-25T22:50:50.207Z"
   },
   {
    "duration": 205,
    "start_time": "2022-01-25T22:57:24.056Z"
   },
   {
    "duration": 213,
    "start_time": "2022-01-25T22:57:31.058Z"
   },
   {
    "duration": 205,
    "start_time": "2022-01-25T22:58:12.914Z"
   },
   {
    "duration": 200,
    "start_time": "2022-01-25T22:58:56.523Z"
   },
   {
    "duration": 194,
    "start_time": "2022-01-25T22:59:03.418Z"
   },
   {
    "duration": 6,
    "start_time": "2022-01-25T22:59:22.369Z"
   },
   {
    "duration": 6,
    "start_time": "2022-01-25T23:01:01.042Z"
   },
   {
    "duration": 5,
    "start_time": "2022-01-25T23:01:12.012Z"
   },
   {
    "duration": 69,
    "start_time": "2022-01-25T23:16:55.046Z"
   },
   {
    "duration": 77,
    "start_time": "2022-01-25T23:17:06.975Z"
   },
   {
    "duration": 1514,
    "start_time": "2022-01-25T23:17:11.827Z"
   },
   {
    "duration": 1426,
    "start_time": "2022-01-25T23:17:17.889Z"
   },
   {
    "duration": 653,
    "start_time": "2022-01-25T23:17:19.317Z"
   },
   {
    "duration": 272,
    "start_time": "2022-01-25T23:17:19.972Z"
   },
   {
    "duration": 182,
    "start_time": "2022-01-25T23:17:20.246Z"
   },
   {
    "duration": 86,
    "start_time": "2022-01-25T23:17:20.430Z"
   },
   {
    "duration": 14,
    "start_time": "2022-01-25T23:17:20.517Z"
   },
   {
    "duration": 100,
    "start_time": "2022-01-25T23:17:20.533Z"
   },
   {
    "duration": 3,
    "start_time": "2022-01-25T23:17:20.636Z"
   },
   {
    "duration": 834,
    "start_time": "2022-01-25T23:17:20.641Z"
   },
   {
    "duration": 113,
    "start_time": "2022-01-25T23:17:21.477Z"
   },
   {
    "duration": 536,
    "start_time": "2022-01-25T23:17:21.593Z"
   },
   {
    "duration": 82,
    "start_time": "2022-01-25T23:17:22.131Z"
   },
   {
    "duration": 288,
    "start_time": "2022-01-25T23:17:22.215Z"
   },
   {
    "duration": 33,
    "start_time": "2022-01-25T23:17:22.505Z"
   },
   {
    "duration": 22,
    "start_time": "2022-01-25T23:17:22.539Z"
   },
   {
    "duration": 6,
    "start_time": "2022-01-25T23:17:22.562Z"
   },
   {
    "duration": 5,
    "start_time": "2022-01-25T23:17:22.570Z"
   },
   {
    "duration": 10,
    "start_time": "2022-01-25T23:17:22.576Z"
   },
   {
    "duration": 13,
    "start_time": "2022-01-25T23:17:22.588Z"
   },
   {
    "duration": 61,
    "start_time": "2022-01-25T23:17:22.603Z"
   },
   {
    "duration": 2,
    "start_time": "2022-01-25T23:17:22.666Z"
   },
   {
    "duration": 7,
    "start_time": "2022-01-25T23:17:22.670Z"
   },
   {
    "duration": 6,
    "start_time": "2022-01-25T23:17:22.681Z"
   },
   {
    "duration": 77,
    "start_time": "2022-01-25T23:17:22.690Z"
   },
   {
    "duration": 42,
    "start_time": "2022-01-25T23:17:22.769Z"
   },
   {
    "duration": 57,
    "start_time": "2022-01-25T23:17:22.813Z"
   },
   {
    "duration": 38,
    "start_time": "2022-01-25T23:17:22.872Z"
   },
   {
    "duration": 50,
    "start_time": "2022-01-25T23:17:22.912Z"
   },
   {
    "duration": 5,
    "start_time": "2022-01-25T23:17:22.964Z"
   },
   {
    "duration": 18,
    "start_time": "2022-01-25T23:17:22.971Z"
   },
   {
    "duration": 29,
    "start_time": "2022-01-25T23:17:22.991Z"
   },
   {
    "duration": 79,
    "start_time": "2022-01-25T23:17:23.022Z"
   },
   {
    "duration": 5,
    "start_time": "2022-01-25T23:17:23.103Z"
   },
   {
    "duration": 5,
    "start_time": "2022-01-25T23:17:23.110Z"
   },
   {
    "duration": 6,
    "start_time": "2022-01-25T23:17:23.116Z"
   },
   {
    "duration": 305,
    "start_time": "2022-01-25T23:17:23.124Z"
   },
   {
    "duration": 30,
    "start_time": "2022-01-25T23:17:23.431Z"
   },
   {
    "duration": 29,
    "start_time": "2022-01-25T23:17:23.463Z"
   },
   {
    "duration": 3,
    "start_time": "2022-01-25T23:17:23.494Z"
   },
   {
    "duration": 26,
    "start_time": "2022-01-25T23:17:23.499Z"
   },
   {
    "duration": 51,
    "start_time": "2022-01-25T23:17:23.527Z"
   },
   {
    "duration": 44,
    "start_time": "2022-01-25T23:17:23.580Z"
   },
   {
    "duration": 7,
    "start_time": "2022-01-25T23:17:23.626Z"
   },
   {
    "duration": 8,
    "start_time": "2022-01-25T23:17:23.661Z"
   },
   {
    "duration": 43,
    "start_time": "2022-01-25T23:17:23.670Z"
   },
   {
    "duration": 64,
    "start_time": "2022-01-25T23:17:23.715Z"
   },
   {
    "duration": 40,
    "start_time": "2022-01-25T23:17:23.781Z"
   },
   {
    "duration": 5,
    "start_time": "2022-01-25T23:17:23.823Z"
   },
   {
    "duration": 35,
    "start_time": "2022-01-25T23:17:23.830Z"
   },
   {
    "duration": 7,
    "start_time": "2022-01-25T23:17:23.867Z"
   },
   {
    "duration": 6,
    "start_time": "2022-01-25T23:17:23.877Z"
   },
   {
    "duration": 1512,
    "start_time": "2022-01-25T23:17:23.885Z"
   },
   {
    "duration": 319,
    "start_time": "2022-01-25T23:17:25.399Z"
   },
   {
    "duration": 349,
    "start_time": "2022-01-25T23:17:25.720Z"
   },
   {
    "duration": 346,
    "start_time": "2022-01-25T23:17:26.070Z"
   },
   {
    "duration": 345,
    "start_time": "2022-01-25T23:17:26.418Z"
   },
   {
    "duration": 329,
    "start_time": "2022-01-25T23:17:26.765Z"
   },
   {
    "duration": 314,
    "start_time": "2022-01-25T23:17:27.096Z"
   },
   {
    "duration": 334,
    "start_time": "2022-01-25T23:17:27.412Z"
   },
   {
    "duration": 2,
    "start_time": "2022-01-25T23:17:27.748Z"
   },
   {
    "duration": 5,
    "start_time": "2022-01-25T23:17:27.760Z"
   },
   {
    "duration": 29,
    "start_time": "2022-01-25T23:17:27.767Z"
   },
   {
    "duration": 26,
    "start_time": "2022-01-25T23:17:27.797Z"
   },
   {
    "duration": 5,
    "start_time": "2022-01-25T23:17:27.825Z"
   },
   {
    "duration": 33,
    "start_time": "2022-01-25T23:17:27.831Z"
   },
   {
    "duration": 6,
    "start_time": "2022-01-25T23:18:32.458Z"
   },
   {
    "duration": 7,
    "start_time": "2022-01-25T23:19:02.152Z"
   },
   {
    "duration": 8,
    "start_time": "2022-01-25T23:19:19.832Z"
   },
   {
    "duration": 328,
    "start_time": "2022-01-26T19:21:07.056Z"
   },
   {
    "duration": 1458,
    "start_time": "2022-01-26T19:21:12.890Z"
   },
   {
    "duration": 362,
    "start_time": "2022-01-26T19:21:14.351Z"
   },
   {
    "duration": 329,
    "start_time": "2022-01-26T19:21:14.717Z"
   },
   {
    "duration": 219,
    "start_time": "2022-01-26T19:21:15.050Z"
   },
   {
    "duration": 59,
    "start_time": "2022-01-26T19:21:15.272Z"
   },
   {
    "duration": 20,
    "start_time": "2022-01-26T19:21:15.334Z"
   },
   {
    "duration": 64,
    "start_time": "2022-01-26T19:21:15.356Z"
   },
   {
    "duration": 5,
    "start_time": "2022-01-26T19:21:15.423Z"
   },
   {
    "duration": 882,
    "start_time": "2022-01-26T19:21:15.431Z"
   },
   {
    "duration": 139,
    "start_time": "2022-01-26T19:21:16.316Z"
   },
   {
    "duration": 581,
    "start_time": "2022-01-26T19:21:16.458Z"
   },
   {
    "duration": 109,
    "start_time": "2022-01-26T19:21:17.049Z"
   },
   {
    "duration": 389,
    "start_time": "2022-01-26T19:21:17.161Z"
   },
   {
    "duration": 41,
    "start_time": "2022-01-26T19:21:17.553Z"
   },
   {
    "duration": 8,
    "start_time": "2022-01-26T19:21:17.597Z"
   },
   {
    "duration": 41,
    "start_time": "2022-01-26T19:21:17.609Z"
   },
   {
    "duration": 10,
    "start_time": "2022-01-26T19:21:17.652Z"
   },
   {
    "duration": 18,
    "start_time": "2022-01-26T19:21:17.665Z"
   },
   {
    "duration": 77,
    "start_time": "2022-01-26T19:21:17.686Z"
   },
   {
    "duration": 55,
    "start_time": "2022-01-26T19:21:17.766Z"
   },
   {
    "duration": 3,
    "start_time": "2022-01-26T19:21:17.824Z"
   },
   {
    "duration": 19,
    "start_time": "2022-01-26T19:21:17.830Z"
   },
   {
    "duration": 8,
    "start_time": "2022-01-26T19:21:17.859Z"
   },
   {
    "duration": 115,
    "start_time": "2022-01-26T19:21:17.872Z"
   },
   {
    "duration": 82,
    "start_time": "2022-01-26T19:21:17.990Z"
   },
   {
    "duration": 87,
    "start_time": "2022-01-26T19:21:18.075Z"
   },
   {
    "duration": 66,
    "start_time": "2022-01-26T19:21:18.165Z"
   },
   {
    "duration": 56,
    "start_time": "2022-01-26T19:21:18.234Z"
   },
   {
    "duration": 9,
    "start_time": "2022-01-26T19:21:18.292Z"
   },
   {
    "duration": 10,
    "start_time": "2022-01-26T19:21:18.304Z"
   },
   {
    "duration": 33,
    "start_time": "2022-01-26T19:21:18.349Z"
   },
   {
    "duration": 142,
    "start_time": "2022-01-26T19:21:18.384Z"
   },
   {
    "duration": 6,
    "start_time": "2022-01-26T19:21:18.530Z"
   },
   {
    "duration": 5,
    "start_time": "2022-01-26T19:21:18.549Z"
   },
   {
    "duration": 9,
    "start_time": "2022-01-26T19:21:18.556Z"
   },
   {
    "duration": 647,
    "start_time": "2022-01-26T19:21:18.567Z"
   },
   {
    "duration": 41,
    "start_time": "2022-01-26T19:21:19.216Z"
   },
   {
    "duration": 45,
    "start_time": "2022-01-26T19:21:19.259Z"
   },
   {
    "duration": 4,
    "start_time": "2022-01-26T19:21:19.306Z"
   },
   {
    "duration": 68,
    "start_time": "2022-01-26T19:21:19.312Z"
   },
   {
    "duration": 39,
    "start_time": "2022-01-26T19:21:19.382Z"
   },
   {
    "duration": 88,
    "start_time": "2022-01-26T19:21:19.424Z"
   },
   {
    "duration": 36,
    "start_time": "2022-01-26T19:21:19.514Z"
   },
   {
    "duration": 8,
    "start_time": "2022-01-26T19:21:19.553Z"
   },
   {
    "duration": 87,
    "start_time": "2022-01-26T19:21:19.563Z"
   },
   {
    "duration": 62,
    "start_time": "2022-01-26T19:21:19.652Z"
   },
   {
    "duration": 87,
    "start_time": "2022-01-26T19:21:19.716Z"
   },
   {
    "duration": 7,
    "start_time": "2022-01-26T19:21:19.805Z"
   },
   {
    "duration": 9,
    "start_time": "2022-01-26T19:21:19.814Z"
   },
   {
    "duration": 6,
    "start_time": "2022-01-26T19:21:19.849Z"
   },
   {
    "duration": 9,
    "start_time": "2022-01-26T19:21:19.858Z"
   },
   {
    "duration": 2544,
    "start_time": "2022-01-26T19:21:19.869Z"
   },
   {
    "duration": 566,
    "start_time": "2022-01-26T19:21:22.417Z"
   },
   {
    "duration": 584,
    "start_time": "2022-01-26T19:21:22.985Z"
   },
   {
    "duration": 584,
    "start_time": "2022-01-26T19:21:23.572Z"
   },
   {
    "duration": 570,
    "start_time": "2022-01-26T19:21:24.158Z"
   },
   {
    "duration": 551,
    "start_time": "2022-01-26T19:21:24.731Z"
   },
   {
    "duration": 539,
    "start_time": "2022-01-26T19:21:25.285Z"
   },
   {
    "duration": 563,
    "start_time": "2022-01-26T19:21:25.827Z"
   },
   {
    "duration": 4,
    "start_time": "2022-01-26T19:21:26.392Z"
   },
   {
    "duration": 9,
    "start_time": "2022-01-26T19:21:26.399Z"
   },
   {
    "duration": 45,
    "start_time": "2022-01-26T19:21:26.411Z"
   },
   {
    "duration": 12,
    "start_time": "2022-01-26T19:21:26.459Z"
   },
   {
    "duration": 50,
    "start_time": "2022-01-26T19:21:26.474Z"
   },
   {
    "duration": 50,
    "start_time": "2022-01-26T19:21:26.548Z"
   },
   {
    "duration": 8,
    "start_time": "2022-01-26T19:21:26.601Z"
   },
   {
    "duration": 39,
    "start_time": "2022-01-26T19:21:26.612Z"
   },
   {
    "duration": 14,
    "start_time": "2022-01-26T19:22:22.513Z"
   },
   {
    "duration": 13,
    "start_time": "2022-01-26T19:25:16.928Z"
   },
   {
    "duration": 13,
    "start_time": "2022-01-26T19:25:22.179Z"
   },
   {
    "duration": 9,
    "start_time": "2022-01-26T19:59:40.452Z"
   },
   {
    "duration": 8,
    "start_time": "2022-01-26T19:59:47.954Z"
   },
   {
    "duration": 13,
    "start_time": "2022-01-26T20:20:59.299Z"
   },
   {
    "duration": 12,
    "start_time": "2022-01-26T20:21:03.619Z"
   },
   {
    "duration": 12,
    "start_time": "2022-01-26T20:21:07.987Z"
   },
   {
    "duration": 9,
    "start_time": "2022-01-26T20:21:46.009Z"
   },
   {
    "duration": 8,
    "start_time": "2022-01-26T20:21:53.370Z"
   },
   {
    "duration": 9,
    "start_time": "2022-01-26T20:22:02.899Z"
   },
   {
    "duration": 7,
    "start_time": "2022-01-26T20:23:11.590Z"
   },
   {
    "duration": 9,
    "start_time": "2022-01-26T20:23:22.644Z"
   },
   {
    "duration": 11,
    "start_time": "2022-01-26T21:13:25.484Z"
   },
   {
    "duration": 11,
    "start_time": "2022-01-26T21:13:45.635Z"
   },
   {
    "duration": 12,
    "start_time": "2022-01-26T21:13:53.429Z"
   },
   {
    "duration": 7,
    "start_time": "2022-01-26T21:16:50.951Z"
   },
   {
    "duration": 11,
    "start_time": "2022-01-26T21:43:02.545Z"
   },
   {
    "duration": 8,
    "start_time": "2022-01-26T21:43:15.584Z"
   },
   {
    "duration": 14,
    "start_time": "2022-01-26T21:44:11.363Z"
   },
   {
    "duration": 15,
    "start_time": "2022-01-26T21:45:58.342Z"
   },
   {
    "duration": 12,
    "start_time": "2022-01-26T22:43:28.642Z"
   },
   {
    "duration": 8,
    "start_time": "2022-01-26T22:43:41.037Z"
   },
   {
    "duration": 11,
    "start_time": "2022-01-26T22:45:46.523Z"
   },
   {
    "duration": 13,
    "start_time": "2022-01-26T22:46:34.946Z"
   },
   {
    "duration": 9,
    "start_time": "2022-01-26T22:46:51.689Z"
   },
   {
    "duration": 9,
    "start_time": "2022-01-26T22:47:00.002Z"
   },
   {
    "duration": 83,
    "start_time": "2022-01-26T22:49:07.573Z"
   },
   {
    "duration": 535,
    "start_time": "2022-01-26T22:49:26.309Z"
   },
   {
    "duration": 541,
    "start_time": "2022-01-26T22:49:33.869Z"
   },
   {
    "duration": 629,
    "start_time": "2022-01-26T22:49:55.147Z"
   },
   {
    "duration": 89,
    "start_time": "2022-01-26T22:51:23.818Z"
   },
   {
    "duration": 565,
    "start_time": "2022-01-26T22:51:54.868Z"
   },
   {
    "duration": 696,
    "start_time": "2022-01-26T22:52:17.540Z"
   },
   {
    "duration": 740,
    "start_time": "2022-01-26T22:52:27.690Z"
   },
   {
    "duration": 603,
    "start_time": "2022-01-26T22:52:37.138Z"
   },
   {
    "duration": 660,
    "start_time": "2022-01-26T22:53:51.828Z"
   },
   {
    "duration": 662,
    "start_time": "2022-01-26T22:53:57.467Z"
   },
   {
    "duration": 9,
    "start_time": "2022-01-26T22:58:45.701Z"
   },
   {
    "duration": 7,
    "start_time": "2022-01-26T22:59:02.879Z"
   },
   {
    "duration": 9,
    "start_time": "2022-01-26T22:59:48.540Z"
   },
   {
    "duration": 10,
    "start_time": "2022-01-26T22:59:59.132Z"
   },
   {
    "duration": 6,
    "start_time": "2022-01-26T23:00:11.041Z"
   },
   {
    "duration": 706,
    "start_time": "2022-01-26T23:00:29.974Z"
   },
   {
    "duration": 5,
    "start_time": "2022-01-26T23:00:37.661Z"
   },
   {
    "duration": 1512,
    "start_time": "2022-01-27T09:04:47.008Z"
   },
   {
    "duration": 385,
    "start_time": "2022-01-27T09:04:48.523Z"
   },
   {
    "duration": 363,
    "start_time": "2022-01-27T09:04:48.912Z"
   },
   {
    "duration": 215,
    "start_time": "2022-01-27T09:04:49.278Z"
   },
   {
    "duration": 69,
    "start_time": "2022-01-27T09:04:49.495Z"
   },
   {
    "duration": 19,
    "start_time": "2022-01-27T09:04:49.567Z"
   },
   {
    "duration": 68,
    "start_time": "2022-01-27T09:04:49.589Z"
   },
   {
    "duration": 5,
    "start_time": "2022-01-27T09:04:49.661Z"
   },
   {
    "duration": 854,
    "start_time": "2022-01-27T09:04:49.669Z"
   },
   {
    "duration": 136,
    "start_time": "2022-01-27T09:04:50.526Z"
   },
   {
    "duration": 568,
    "start_time": "2022-01-27T09:04:50.665Z"
   },
   {
    "duration": 116,
    "start_time": "2022-01-27T09:04:51.236Z"
   },
   {
    "duration": 412,
    "start_time": "2022-01-27T09:04:51.356Z"
   },
   {
    "duration": 44,
    "start_time": "2022-01-27T09:04:51.771Z"
   },
   {
    "duration": 34,
    "start_time": "2022-01-27T09:04:51.818Z"
   },
   {
    "duration": 9,
    "start_time": "2022-01-27T09:04:51.854Z"
   },
   {
    "duration": 8,
    "start_time": "2022-01-27T09:04:51.866Z"
   },
   {
    "duration": 16,
    "start_time": "2022-01-27T09:04:51.877Z"
   },
   {
    "duration": 64,
    "start_time": "2022-01-27T09:04:51.895Z"
   },
   {
    "duration": 57,
    "start_time": "2022-01-27T09:04:51.963Z"
   },
   {
    "duration": 26,
    "start_time": "2022-01-27T09:04:52.024Z"
   },
   {
    "duration": 8,
    "start_time": "2022-01-27T09:04:52.054Z"
   },
   {
    "duration": 11,
    "start_time": "2022-01-27T09:04:52.073Z"
   },
   {
    "duration": 144,
    "start_time": "2022-01-27T09:04:52.090Z"
   },
   {
    "duration": 73,
    "start_time": "2022-01-27T09:04:52.238Z"
   },
   {
    "duration": 102,
    "start_time": "2022-01-27T09:04:52.314Z"
   },
   {
    "duration": 83,
    "start_time": "2022-01-27T09:04:52.420Z"
   },
   {
    "duration": 106,
    "start_time": "2022-01-27T09:04:52.506Z"
   },
   {
    "duration": 11,
    "start_time": "2022-01-27T09:04:52.615Z"
   },
   {
    "duration": 154,
    "start_time": "2022-01-27T09:04:52.630Z"
   },
   {
    "duration": 168,
    "start_time": "2022-01-27T09:04:52.788Z"
   },
   {
    "duration": 234,
    "start_time": "2022-01-27T09:04:52.967Z"
   },
   {
    "duration": 7,
    "start_time": "2022-01-27T09:04:53.204Z"
   },
   {
    "duration": 11,
    "start_time": "2022-01-27T09:04:53.215Z"
   },
   {
    "duration": 24,
    "start_time": "2022-01-27T09:04:53.229Z"
   },
   {
    "duration": 728,
    "start_time": "2022-01-27T09:04:53.257Z"
   },
   {
    "duration": 17,
    "start_time": "2022-01-27T09:04:53.988Z"
   },
   {
    "duration": 67,
    "start_time": "2022-01-27T09:04:54.008Z"
   },
   {
    "duration": 4,
    "start_time": "2022-01-27T09:04:54.078Z"
   },
   {
    "duration": 52,
    "start_time": "2022-01-27T09:04:54.084Z"
   },
   {
    "duration": 39,
    "start_time": "2022-01-27T09:04:54.148Z"
   },
   {
    "duration": 87,
    "start_time": "2022-01-27T09:04:54.190Z"
   },
   {
    "duration": 8,
    "start_time": "2022-01-27T09:04:54.279Z"
   },
   {
    "duration": 32,
    "start_time": "2022-01-27T09:04:54.289Z"
   },
   {
    "duration": 75,
    "start_time": "2022-01-27T09:04:54.324Z"
   },
   {
    "duration": 71,
    "start_time": "2022-01-27T09:04:54.401Z"
   },
   {
    "duration": 79,
    "start_time": "2022-01-27T09:04:54.475Z"
   },
   {
    "duration": 8,
    "start_time": "2022-01-27T09:04:54.556Z"
   },
   {
    "duration": 16,
    "start_time": "2022-01-27T09:04:54.567Z"
   },
   {
    "duration": 11,
    "start_time": "2022-01-27T09:04:54.586Z"
   },
   {
    "duration": 23,
    "start_time": "2022-01-27T09:04:54.600Z"
   },
   {
    "duration": 2681,
    "start_time": "2022-01-27T09:04:54.625Z"
   },
   {
    "duration": 589,
    "start_time": "2022-01-27T09:04:57.309Z"
   },
   {
    "duration": 617,
    "start_time": "2022-01-27T09:04:57.901Z"
   },
   {
    "duration": 603,
    "start_time": "2022-01-27T09:04:58.521Z"
   },
   {
    "duration": 588,
    "start_time": "2022-01-27T09:04:59.126Z"
   },
   {
    "duration": 560,
    "start_time": "2022-01-27T09:04:59.717Z"
   },
   {
    "duration": 554,
    "start_time": "2022-01-27T09:05:00.280Z"
   },
   {
    "duration": 576,
    "start_time": "2022-01-27T09:05:00.836Z"
   },
   {
    "duration": 4,
    "start_time": "2022-01-27T09:05:01.415Z"
   },
   {
    "duration": 32,
    "start_time": "2022-01-27T09:05:01.421Z"
   },
   {
    "duration": 32,
    "start_time": "2022-01-27T09:05:01.456Z"
   },
   {
    "duration": 21,
    "start_time": "2022-01-27T09:05:01.490Z"
   },
   {
    "duration": 45,
    "start_time": "2022-01-27T09:05:01.513Z"
   },
   {
    "duration": 41,
    "start_time": "2022-01-27T09:05:01.561Z"
   },
   {
    "duration": 7,
    "start_time": "2022-01-27T09:05:01.604Z"
   },
   {
    "duration": 38,
    "start_time": "2022-01-27T09:05:01.614Z"
   },
   {
    "duration": 12,
    "start_time": "2022-01-27T09:05:01.660Z"
   },
   {
    "duration": 31,
    "start_time": "2022-01-27T09:05:01.675Z"
   },
   {
    "duration": 20,
    "start_time": "2022-01-27T09:05:01.709Z"
   },
   {
    "duration": 15,
    "start_time": "2022-01-27T09:05:01.731Z"
   },
   {
    "duration": 651,
    "start_time": "2022-01-27T09:05:01.749Z"
   },
   {
    "duration": 667,
    "start_time": "2022-01-27T09:05:02.403Z"
   },
   {
    "duration": 11,
    "start_time": "2022-01-27T09:05:03.073Z"
   },
   {
    "duration": 8,
    "start_time": "2022-01-27T09:05:03.086Z"
   },
   {
    "duration": 8,
    "start_time": "2022-01-27T09:05:03.096Z"
   },
   {
    "duration": 234,
    "start_time": "2022-01-27T14:02:48.988Z"
   },
   {
    "duration": 1242,
    "start_time": "2022-01-27T14:02:54.595Z"
   },
   {
    "duration": 343,
    "start_time": "2022-01-27T14:02:55.839Z"
   },
   {
    "duration": 257,
    "start_time": "2022-01-27T14:02:56.185Z"
   },
   {
    "duration": 191,
    "start_time": "2022-01-27T14:02:56.444Z"
   },
   {
    "duration": 49,
    "start_time": "2022-01-27T14:02:56.637Z"
   },
   {
    "duration": 15,
    "start_time": "2022-01-27T14:02:56.688Z"
   },
   {
    "duration": 79,
    "start_time": "2022-01-27T14:02:56.705Z"
   },
   {
    "duration": 5,
    "start_time": "2022-01-27T14:02:56.787Z"
   },
   {
    "duration": 990,
    "start_time": "2022-01-27T14:02:56.795Z"
   },
   {
    "duration": 122,
    "start_time": "2022-01-27T14:02:57.787Z"
   },
   {
    "duration": 528,
    "start_time": "2022-01-27T14:02:57.911Z"
   },
   {
    "duration": 88,
    "start_time": "2022-01-27T14:02:58.441Z"
   },
   {
    "duration": 282,
    "start_time": "2022-01-27T14:02:58.531Z"
   },
   {
    "duration": 30,
    "start_time": "2022-01-27T14:02:58.815Z"
   },
   {
    "duration": 6,
    "start_time": "2022-01-27T14:02:58.847Z"
   },
   {
    "duration": 22,
    "start_time": "2022-01-27T14:02:58.855Z"
   },
   {
    "duration": 29,
    "start_time": "2022-01-27T14:02:58.879Z"
   },
   {
    "duration": 21,
    "start_time": "2022-01-27T14:02:58.910Z"
   },
   {
    "duration": 19,
    "start_time": "2022-01-27T14:02:58.933Z"
   },
   {
    "duration": 27,
    "start_time": "2022-01-27T14:02:58.954Z"
   },
   {
    "duration": 24,
    "start_time": "2022-01-27T14:02:58.984Z"
   },
   {
    "duration": 7,
    "start_time": "2022-01-27T14:02:59.010Z"
   },
   {
    "duration": 10,
    "start_time": "2022-01-27T14:02:59.022Z"
   },
   {
    "duration": 78,
    "start_time": "2022-01-27T14:02:59.036Z"
   },
   {
    "duration": 45,
    "start_time": "2022-01-27T14:02:59.116Z"
   },
   {
    "duration": 56,
    "start_time": "2022-01-27T14:02:59.163Z"
   },
   {
    "duration": 34,
    "start_time": "2022-01-27T14:02:59.221Z"
   },
   {
    "duration": 36,
    "start_time": "2022-01-27T14:02:59.257Z"
   },
   {
    "duration": 15,
    "start_time": "2022-01-27T14:02:59.295Z"
   },
   {
    "duration": 10,
    "start_time": "2022-01-27T14:02:59.312Z"
   },
   {
    "duration": 33,
    "start_time": "2022-01-27T14:02:59.324Z"
   },
   {
    "duration": 97,
    "start_time": "2022-01-27T14:02:59.359Z"
   },
   {
    "duration": 6,
    "start_time": "2022-01-27T14:02:59.458Z"
   },
   {
    "duration": 15,
    "start_time": "2022-01-27T14:02:59.466Z"
   },
   {
    "duration": 17,
    "start_time": "2022-01-27T14:02:59.483Z"
   },
   {
    "duration": 333,
    "start_time": "2022-01-27T14:02:59.502Z"
   },
   {
    "duration": 11,
    "start_time": "2022-01-27T14:02:59.838Z"
   },
   {
    "duration": 41,
    "start_time": "2022-01-27T14:02:59.851Z"
   },
   {
    "duration": 14,
    "start_time": "2022-01-27T14:02:59.894Z"
   },
   {
    "duration": 30,
    "start_time": "2022-01-27T14:02:59.910Z"
   },
   {
    "duration": 28,
    "start_time": "2022-01-27T14:02:59.942Z"
   },
   {
    "duration": 80,
    "start_time": "2022-01-27T14:02:59.972Z"
   },
   {
    "duration": 7,
    "start_time": "2022-01-27T14:03:00.054Z"
   },
   {
    "duration": 17,
    "start_time": "2022-01-27T14:03:00.062Z"
   },
   {
    "duration": 57,
    "start_time": "2022-01-27T14:03:00.081Z"
   },
   {
    "duration": 42,
    "start_time": "2022-01-27T14:03:00.139Z"
   },
   {
    "duration": 65,
    "start_time": "2022-01-27T14:03:00.182Z"
   },
   {
    "duration": 5,
    "start_time": "2022-01-27T14:03:00.249Z"
   },
   {
    "duration": 28,
    "start_time": "2022-01-27T14:03:00.256Z"
   },
   {
    "duration": 14,
    "start_time": "2022-01-27T14:03:00.286Z"
   },
   {
    "duration": 14,
    "start_time": "2022-01-27T14:03:00.308Z"
   },
   {
    "duration": 1712,
    "start_time": "2022-01-27T14:03:00.324Z"
   },
   {
    "duration": 402,
    "start_time": "2022-01-27T14:03:02.038Z"
   },
   {
    "duration": 405,
    "start_time": "2022-01-27T14:03:02.442Z"
   },
   {
    "duration": 387,
    "start_time": "2022-01-27T14:03:02.849Z"
   },
   {
    "duration": 375,
    "start_time": "2022-01-27T14:03:03.238Z"
   },
   {
    "duration": 359,
    "start_time": "2022-01-27T14:03:03.616Z"
   },
   {
    "duration": 355,
    "start_time": "2022-01-27T14:03:03.977Z"
   },
   {
    "duration": 376,
    "start_time": "2022-01-27T14:03:04.334Z"
   },
   {
    "duration": 3,
    "start_time": "2022-01-27T14:03:04.711Z"
   },
   {
    "duration": 15,
    "start_time": "2022-01-27T14:03:04.716Z"
   },
   {
    "duration": 20,
    "start_time": "2022-01-27T14:03:04.732Z"
   },
   {
    "duration": 24,
    "start_time": "2022-01-27T14:03:04.754Z"
   },
   {
    "duration": 63,
    "start_time": "2022-01-27T14:03:04.780Z"
   },
   {
    "duration": 30,
    "start_time": "2022-01-27T14:03:04.845Z"
   },
   {
    "duration": 8,
    "start_time": "2022-01-27T14:03:04.877Z"
   },
   {
    "duration": 24,
    "start_time": "2022-01-27T14:03:04.887Z"
   },
   {
    "duration": 17,
    "start_time": "2022-01-27T14:03:04.918Z"
   },
   {
    "duration": 22,
    "start_time": "2022-01-27T14:03:04.937Z"
   },
   {
    "duration": 14,
    "start_time": "2022-01-27T14:03:04.962Z"
   },
   {
    "duration": 116,
    "start_time": "2022-01-27T14:03:04.978Z"
   },
   {
    "duration": 423,
    "start_time": "2022-01-27T14:03:05.096Z"
   },
   {
    "duration": 389,
    "start_time": "2022-01-27T14:03:05.521Z"
   },
   {
    "duration": 10,
    "start_time": "2022-01-27T14:03:05.912Z"
   },
   {
    "duration": 239,
    "start_time": "2022-01-27T14:03:05.924Z"
   },
   {
    "duration": 33,
    "start_time": "2022-01-27T14:03:06.165Z"
   },
   {
    "duration": 29,
    "start_time": "2022-01-27T14:06:48.299Z"
   },
   {
    "duration": 7,
    "start_time": "2022-01-27T15:15:54.907Z"
   },
   {
    "duration": 1234,
    "start_time": "2022-01-27T15:31:57.047Z"
   },
   {
    "duration": 325,
    "start_time": "2022-01-27T15:31:58.283Z"
   },
   {
    "duration": 331,
    "start_time": "2022-01-27T15:31:58.611Z"
   },
   {
    "duration": 203,
    "start_time": "2022-01-27T15:31:58.944Z"
   },
   {
    "duration": 52,
    "start_time": "2022-01-27T15:31:59.149Z"
   },
   {
    "duration": 12,
    "start_time": "2022-01-27T15:31:59.203Z"
   },
   {
    "duration": 60,
    "start_time": "2022-01-27T15:31:59.218Z"
   },
   {
    "duration": 5,
    "start_time": "2022-01-27T15:31:59.281Z"
   },
   {
    "duration": 707,
    "start_time": "2022-01-27T15:31:59.289Z"
   },
   {
    "duration": 140,
    "start_time": "2022-01-27T15:31:59.998Z"
   },
   {
    "duration": 555,
    "start_time": "2022-01-27T15:32:00.140Z"
   },
   {
    "duration": 85,
    "start_time": "2022-01-27T15:32:00.697Z"
   },
   {
    "duration": 305,
    "start_time": "2022-01-27T15:32:00.784Z"
   },
   {
    "duration": 35,
    "start_time": "2022-01-27T15:32:01.091Z"
   },
   {
    "duration": 14,
    "start_time": "2022-01-27T15:32:01.128Z"
   },
   {
    "duration": 15,
    "start_time": "2022-01-27T15:32:01.144Z"
   },
   {
    "duration": 21,
    "start_time": "2022-01-27T15:32:01.161Z"
   },
   {
    "duration": 31,
    "start_time": "2022-01-27T15:32:01.184Z"
   },
   {
    "duration": 15,
    "start_time": "2022-01-27T15:32:01.218Z"
   },
   {
    "duration": 35,
    "start_time": "2022-01-27T15:32:01.235Z"
   },
   {
    "duration": 6,
    "start_time": "2022-01-27T15:32:01.272Z"
   },
   {
    "duration": 24,
    "start_time": "2022-01-27T15:32:01.280Z"
   },
   {
    "duration": 17,
    "start_time": "2022-01-27T15:32:01.309Z"
   },
   {
    "duration": 57,
    "start_time": "2022-01-27T15:32:01.329Z"
   },
   {
    "duration": 39,
    "start_time": "2022-01-27T15:32:01.388Z"
   },
   {
    "duration": 39,
    "start_time": "2022-01-27T15:32:01.429Z"
   },
   {
    "duration": 54,
    "start_time": "2022-01-27T15:32:01.470Z"
   },
   {
    "duration": 32,
    "start_time": "2022-01-27T15:32:01.527Z"
   },
   {
    "duration": 7,
    "start_time": "2022-01-27T15:32:01.561Z"
   },
   {
    "duration": 37,
    "start_time": "2022-01-27T15:32:01.570Z"
   },
   {
    "duration": 37,
    "start_time": "2022-01-27T15:32:01.609Z"
   },
   {
    "duration": 87,
    "start_time": "2022-01-27T15:32:01.648Z"
   },
   {
    "duration": 5,
    "start_time": "2022-01-27T15:32:01.737Z"
   },
   {
    "duration": 44,
    "start_time": "2022-01-27T15:32:01.744Z"
   },
   {
    "duration": 40,
    "start_time": "2022-01-27T15:32:01.791Z"
   },
   {
    "duration": 351,
    "start_time": "2022-01-27T15:32:01.833Z"
   },
   {
    "duration": 22,
    "start_time": "2022-01-27T15:32:02.186Z"
   },
   {
    "duration": 37,
    "start_time": "2022-01-27T15:32:02.210Z"
   },
   {
    "duration": 3,
    "start_time": "2022-01-27T15:32:02.249Z"
   },
   {
    "duration": 39,
    "start_time": "2022-01-27T15:32:02.254Z"
   },
   {
    "duration": 37,
    "start_time": "2022-01-27T15:32:02.295Z"
   },
   {
    "duration": 47,
    "start_time": "2022-01-27T15:32:02.334Z"
   },
   {
    "duration": 29,
    "start_time": "2022-01-27T15:32:02.383Z"
   },
   {
    "duration": 11,
    "start_time": "2022-01-27T15:32:02.414Z"
   },
   {
    "duration": 48,
    "start_time": "2022-01-27T15:32:02.427Z"
   },
   {
    "duration": 64,
    "start_time": "2022-01-27T15:32:02.477Z"
   },
   {
    "duration": 64,
    "start_time": "2022-01-27T15:32:02.543Z"
   },
   {
    "duration": 5,
    "start_time": "2022-01-27T15:32:02.609Z"
   },
   {
    "duration": 17,
    "start_time": "2022-01-27T15:32:02.616Z"
   },
   {
    "duration": 12,
    "start_time": "2022-01-27T15:32:02.634Z"
   },
   {
    "duration": 14,
    "start_time": "2022-01-27T15:32:02.648Z"
   },
   {
    "duration": 1709,
    "start_time": "2022-01-27T15:32:02.664Z"
   },
   {
    "duration": 378,
    "start_time": "2022-01-27T15:32:04.375Z"
   },
   {
    "duration": 401,
    "start_time": "2022-01-27T15:32:04.756Z"
   },
   {
    "duration": 393,
    "start_time": "2022-01-27T15:32:05.159Z"
   },
   {
    "duration": 400,
    "start_time": "2022-01-27T15:32:05.554Z"
   },
   {
    "duration": 397,
    "start_time": "2022-01-27T15:32:05.956Z"
   },
   {
    "duration": 380,
    "start_time": "2022-01-27T15:32:06.355Z"
   },
   {
    "duration": 397,
    "start_time": "2022-01-27T15:32:06.737Z"
   },
   {
    "duration": 2,
    "start_time": "2022-01-27T15:32:07.136Z"
   },
   {
    "duration": 10,
    "start_time": "2022-01-27T15:32:07.140Z"
   },
   {
    "duration": 7,
    "start_time": "2022-01-27T15:32:07.152Z"
   },
   {
    "duration": 15,
    "start_time": "2022-01-27T15:32:07.161Z"
   },
   {
    "duration": 30,
    "start_time": "2022-01-27T15:32:07.177Z"
   },
   {
    "duration": 26,
    "start_time": "2022-01-27T15:32:07.210Z"
   },
   {
    "duration": 26,
    "start_time": "2022-01-27T15:32:07.238Z"
   },
   {
    "duration": 6,
    "start_time": "2022-01-27T15:32:07.265Z"
   },
   {
    "duration": 36,
    "start_time": "2022-01-27T15:32:07.277Z"
   },
   {
    "duration": 8,
    "start_time": "2022-01-27T15:32:07.315Z"
   },
   {
    "duration": 8,
    "start_time": "2022-01-27T15:32:07.326Z"
   },
   {
    "duration": 7,
    "start_time": "2022-01-27T15:32:07.336Z"
   },
   {
    "duration": 8,
    "start_time": "2022-01-27T15:32:07.344Z"
   },
   {
    "duration": 455,
    "start_time": "2022-01-27T15:32:07.354Z"
   },
   {
    "duration": 396,
    "start_time": "2022-01-27T15:32:07.811Z"
   },
   {
    "duration": 10,
    "start_time": "2022-01-27T15:32:08.210Z"
   },
   {
    "duration": 15,
    "start_time": "2022-01-27T15:32:08.222Z"
   },
   {
    "duration": 1717,
    "start_time": "2022-02-05T09:36:15.701Z"
   },
   {
    "duration": 345,
    "start_time": "2022-02-05T09:36:17.419Z"
   },
   {
    "duration": 382,
    "start_time": "2022-02-05T09:36:17.766Z"
   },
   {
    "duration": 1327,
    "start_time": "2022-02-05T09:36:18.149Z"
   },
   {
    "duration": 89,
    "start_time": "2022-02-05T09:36:19.478Z"
   },
   {
    "duration": 11,
    "start_time": "2022-02-05T09:36:19.568Z"
   },
   {
    "duration": 110,
    "start_time": "2022-02-05T09:36:19.581Z"
   },
   {
    "duration": 3,
    "start_time": "2022-02-05T09:36:19.693Z"
   },
   {
    "duration": 572,
    "start_time": "2022-02-05T09:36:19.699Z"
   },
   {
    "duration": 94,
    "start_time": "2022-02-05T09:36:20.273Z"
   },
   {
    "duration": 391,
    "start_time": "2022-02-05T09:36:20.369Z"
   },
   {
    "duration": 79,
    "start_time": "2022-02-05T09:36:20.762Z"
   },
   {
    "duration": 222,
    "start_time": "2022-02-05T09:36:20.843Z"
   },
   {
    "duration": 25,
    "start_time": "2022-02-05T09:36:21.066Z"
   },
   {
    "duration": 5,
    "start_time": "2022-02-05T09:36:21.093Z"
   },
   {
    "duration": 7,
    "start_time": "2022-02-05T09:36:21.099Z"
   },
   {
    "duration": 15,
    "start_time": "2022-02-05T09:36:21.127Z"
   },
   {
    "duration": 9,
    "start_time": "2022-02-05T09:36:21.143Z"
   },
   {
    "duration": 10,
    "start_time": "2022-02-05T09:36:21.154Z"
   },
   {
    "duration": 20,
    "start_time": "2022-02-05T09:36:21.165Z"
   },
   {
    "duration": 2,
    "start_time": "2022-02-05T09:36:21.187Z"
   },
   {
    "duration": 4,
    "start_time": "2022-02-05T09:36:21.191Z"
   },
   {
    "duration": 6,
    "start_time": "2022-02-05T09:36:21.197Z"
   },
   {
    "duration": 68,
    "start_time": "2022-02-05T09:36:21.205Z"
   },
   {
    "duration": 29,
    "start_time": "2022-02-05T09:36:21.275Z"
   },
   {
    "duration": 53,
    "start_time": "2022-02-05T09:36:21.305Z"
   },
   {
    "duration": 29,
    "start_time": "2022-02-05T09:36:21.362Z"
   },
   {
    "duration": 42,
    "start_time": "2022-02-05T09:36:21.393Z"
   },
   {
    "duration": 5,
    "start_time": "2022-02-05T09:36:21.437Z"
   },
   {
    "duration": 7,
    "start_time": "2022-02-05T09:36:21.443Z"
   },
   {
    "duration": 24,
    "start_time": "2022-02-05T09:36:21.451Z"
   },
   {
    "duration": 81,
    "start_time": "2022-02-05T09:36:21.476Z"
   },
   {
    "duration": 3,
    "start_time": "2022-02-05T09:36:21.559Z"
   },
   {
    "duration": 5,
    "start_time": "2022-02-05T09:36:21.564Z"
   },
   {
    "duration": 6,
    "start_time": "2022-02-05T09:36:21.571Z"
   },
   {
    "duration": 291,
    "start_time": "2022-02-05T09:36:21.578Z"
   },
   {
    "duration": 9,
    "start_time": "2022-02-05T09:36:21.871Z"
   },
   {
    "duration": 26,
    "start_time": "2022-02-05T09:36:21.882Z"
   },
   {
    "duration": 2,
    "start_time": "2022-02-05T09:36:21.909Z"
   },
   {
    "duration": 38,
    "start_time": "2022-02-05T09:36:21.912Z"
   },
   {
    "duration": 22,
    "start_time": "2022-02-05T09:36:21.952Z"
   },
   {
    "duration": 60,
    "start_time": "2022-02-05T09:36:21.975Z"
   },
   {
    "duration": 8,
    "start_time": "2022-02-05T09:36:22.036Z"
   },
   {
    "duration": 7,
    "start_time": "2022-02-05T09:36:22.045Z"
   },
   {
    "duration": 32,
    "start_time": "2022-02-05T09:36:22.053Z"
   },
   {
    "duration": 58,
    "start_time": "2022-02-05T09:36:22.086Z"
   },
   {
    "duration": 33,
    "start_time": "2022-02-05T09:36:22.145Z"
   },
   {
    "duration": 4,
    "start_time": "2022-02-05T09:36:22.180Z"
   },
   {
    "duration": 6,
    "start_time": "2022-02-05T09:36:22.186Z"
   },
   {
    "duration": 5,
    "start_time": "2022-02-05T09:36:22.193Z"
   },
   {
    "duration": 36,
    "start_time": "2022-02-05T09:36:22.200Z"
   },
   {
    "duration": 1386,
    "start_time": "2022-02-05T09:36:22.237Z"
   },
   {
    "duration": 311,
    "start_time": "2022-02-05T09:36:23.627Z"
   },
   {
    "duration": 328,
    "start_time": "2022-02-05T09:36:23.939Z"
   },
   {
    "duration": 329,
    "start_time": "2022-02-05T09:36:24.268Z"
   },
   {
    "duration": 318,
    "start_time": "2022-02-05T09:36:24.599Z"
   },
   {
    "duration": 302,
    "start_time": "2022-02-05T09:36:24.919Z"
   },
   {
    "duration": 289,
    "start_time": "2022-02-05T09:36:25.227Z"
   },
   {
    "duration": 323,
    "start_time": "2022-02-05T09:36:25.518Z"
   },
   {
    "duration": 2,
    "start_time": "2022-02-05T09:36:25.843Z"
   },
   {
    "duration": 7,
    "start_time": "2022-02-05T09:36:25.847Z"
   },
   {
    "duration": 5,
    "start_time": "2022-02-05T09:36:25.856Z"
   },
   {
    "duration": 7,
    "start_time": "2022-02-05T09:36:25.863Z"
   },
   {
    "duration": 4,
    "start_time": "2022-02-05T09:36:25.872Z"
   },
   {
    "duration": 24,
    "start_time": "2022-02-05T09:36:25.877Z"
   },
   {
    "duration": 48,
    "start_time": "2022-02-05T09:36:25.902Z"
   },
   {
    "duration": 4,
    "start_time": "2022-02-05T09:36:25.951Z"
   },
   {
    "duration": 5,
    "start_time": "2022-02-05T09:36:25.957Z"
   },
   {
    "duration": 6,
    "start_time": "2022-02-05T09:36:25.963Z"
   },
   {
    "duration": 9,
    "start_time": "2022-02-05T09:36:25.970Z"
   },
   {
    "duration": 10,
    "start_time": "2022-02-05T09:36:25.980Z"
   },
   {
    "duration": 4,
    "start_time": "2022-02-05T09:36:25.991Z"
   },
   {
    "duration": 347,
    "start_time": "2022-02-05T09:36:25.996Z"
   },
   {
    "duration": 322,
    "start_time": "2022-02-05T09:36:26.345Z"
   },
   {
    "duration": 7,
    "start_time": "2022-02-05T09:36:26.669Z"
   },
   {
    "duration": 6,
    "start_time": "2022-02-05T09:36:26.677Z"
   },
   {
    "duration": 88,
    "start_time": "2022-02-05T11:49:55.408Z"
   },
   {
    "duration": 586,
    "start_time": "2022-02-05T12:23:08.390Z"
   },
   {
    "duration": 5,
    "start_time": "2022-02-05T12:23:13.220Z"
   },
   {
    "duration": 295,
    "start_time": "2022-02-05T12:23:13.227Z"
   },
   {
    "duration": 392,
    "start_time": "2022-02-05T12:23:13.524Z"
   },
   {
    "duration": 2263,
    "start_time": "2022-02-05T12:23:13.918Z"
   },
   {
    "duration": 85,
    "start_time": "2022-02-05T12:23:16.183Z"
   },
   {
    "duration": 8,
    "start_time": "2022-02-05T12:23:16.270Z"
   },
   {
    "duration": 94,
    "start_time": "2022-02-05T12:23:16.280Z"
   },
   {
    "duration": 6,
    "start_time": "2022-02-05T12:23:16.380Z"
   },
   {
    "duration": 572,
    "start_time": "2022-02-05T12:23:16.855Z"
   },
   {
    "duration": 187,
    "start_time": "2022-02-05T12:23:20.999Z"
   },
   {
    "duration": 457,
    "start_time": "2022-02-05T12:23:24.801Z"
   },
   {
    "duration": 84,
    "start_time": "2022-02-05T12:23:25.490Z"
   },
   {
    "duration": 276,
    "start_time": "2022-02-05T12:23:28.133Z"
   },
   {
    "duration": 26,
    "start_time": "2022-02-05T12:23:28.581Z"
   },
   {
    "duration": 5,
    "start_time": "2022-02-05T12:23:29.885Z"
   },
   {
    "duration": 6,
    "start_time": "2022-02-05T12:23:30.273Z"
   },
   {
    "duration": 8,
    "start_time": "2022-02-05T12:23:30.625Z"
   },
   {
    "duration": 10,
    "start_time": "2022-02-05T12:23:31.438Z"
   },
   {
    "duration": 12,
    "start_time": "2022-02-05T12:23:32.185Z"
   },
   {
    "duration": 25,
    "start_time": "2022-02-05T12:23:34.256Z"
   },
   {
    "duration": 2,
    "start_time": "2022-02-05T12:23:36.003Z"
   },
   {
    "duration": 2,
    "start_time": "2022-02-05T12:23:36.287Z"
   },
   {
    "duration": 4,
    "start_time": "2022-02-05T12:23:38.477Z"
   },
   {
    "duration": 61,
    "start_time": "2022-02-05T12:23:38.903Z"
   },
   {
    "duration": 40,
    "start_time": "2022-02-05T12:23:39.501Z"
   },
   {
    "duration": 44,
    "start_time": "2022-02-05T12:23:39.720Z"
   },
   {
    "duration": 33,
    "start_time": "2022-02-05T12:23:39.939Z"
   },
   {
    "duration": 29,
    "start_time": "2022-02-05T12:23:40.178Z"
   },
   {
    "duration": 399,
    "start_time": "2022-02-05T12:23:41.018Z"
   },
   {
    "duration": 5,
    "start_time": "2022-02-05T12:23:46.084Z"
   },
   {
    "duration": 27,
    "start_time": "2022-02-05T12:23:50.114Z"
   },
   {
    "duration": 67,
    "start_time": "2022-02-05T12:23:51.164Z"
   },
   {
    "duration": 6,
    "start_time": "2022-02-05T12:24:30.110Z"
   },
   {
    "duration": 281,
    "start_time": "2022-02-05T12:24:30.117Z"
   },
   {
    "duration": 701,
    "start_time": "2022-02-05T12:24:30.400Z"
   },
   {
    "duration": 1220,
    "start_time": "2022-02-05T12:24:31.103Z"
   },
   {
    "duration": 62,
    "start_time": "2022-02-05T12:24:32.325Z"
   },
   {
    "duration": 8,
    "start_time": "2022-02-05T12:24:32.389Z"
   },
   {
    "duration": 80,
    "start_time": "2022-02-05T12:24:32.399Z"
   },
   {
    "duration": 3,
    "start_time": "2022-02-05T12:24:32.482Z"
   },
   {
    "duration": 618,
    "start_time": "2022-02-05T12:24:32.486Z"
   },
   {
    "duration": 107,
    "start_time": "2022-02-05T12:24:33.106Z"
   },
   {
    "duration": 492,
    "start_time": "2022-02-05T12:24:33.215Z"
   },
   {
    "duration": 102,
    "start_time": "2022-02-05T12:24:33.708Z"
   },
   {
    "duration": 308,
    "start_time": "2022-02-05T12:24:33.812Z"
   },
   {
    "duration": 32,
    "start_time": "2022-02-05T12:24:34.122Z"
   },
   {
    "duration": 7,
    "start_time": "2022-02-05T12:24:34.156Z"
   },
   {
    "duration": 9,
    "start_time": "2022-02-05T12:24:34.165Z"
   },
   {
    "duration": 8,
    "start_time": "2022-02-05T12:24:34.175Z"
   },
   {
    "duration": 11,
    "start_time": "2022-02-05T12:24:34.184Z"
   },
   {
    "duration": 46,
    "start_time": "2022-02-05T12:24:34.197Z"
   },
   {
    "duration": 26,
    "start_time": "2022-02-05T12:24:34.244Z"
   },
   {
    "duration": 2,
    "start_time": "2022-02-05T12:24:34.272Z"
   },
   {
    "duration": 7,
    "start_time": "2022-02-05T12:24:34.275Z"
   },
   {
    "duration": 8,
    "start_time": "2022-02-05T12:24:34.285Z"
   },
   {
    "duration": 78,
    "start_time": "2022-02-05T12:24:34.294Z"
   },
   {
    "duration": 34,
    "start_time": "2022-02-05T12:24:34.374Z"
   },
   {
    "duration": 49,
    "start_time": "2022-02-05T12:24:34.409Z"
   },
   {
    "duration": 33,
    "start_time": "2022-02-05T12:24:34.459Z"
   },
   {
    "duration": 50,
    "start_time": "2022-02-05T12:24:34.494Z"
   },
   {
    "duration": 6,
    "start_time": "2022-02-05T12:24:34.546Z"
   },
   {
    "duration": 4,
    "start_time": "2022-02-05T12:24:34.554Z"
   },
   {
    "duration": 21,
    "start_time": "2022-02-05T12:24:34.559Z"
   },
   {
    "duration": 129,
    "start_time": "2022-02-05T12:24:34.582Z"
   },
   {
    "duration": 1054,
    "start_time": "2022-02-05T12:24:59.297Z"
   },
   {
    "duration": 5,
    "start_time": "2022-02-05T12:25:03.787Z"
   },
   {
    "duration": 343,
    "start_time": "2022-02-05T12:25:03.794Z"
   },
   {
    "duration": 271,
    "start_time": "2022-02-05T12:25:04.140Z"
   },
   {
    "duration": 187,
    "start_time": "2022-02-05T12:25:04.413Z"
   },
   {
    "duration": 122,
    "start_time": "2022-02-05T12:25:04.602Z"
   },
   {
    "duration": 7,
    "start_time": "2022-02-05T12:25:04.727Z"
   },
   {
    "duration": 73,
    "start_time": "2022-02-05T12:25:04.735Z"
   },
   {
    "duration": 4,
    "start_time": "2022-02-05T12:25:04.810Z"
   },
   {
    "duration": 596,
    "start_time": "2022-02-05T12:25:04.817Z"
   },
   {
    "duration": 94,
    "start_time": "2022-02-05T12:25:05.415Z"
   },
   {
    "duration": 440,
    "start_time": "2022-02-05T12:25:05.511Z"
   },
   {
    "duration": 84,
    "start_time": "2022-02-05T12:25:05.953Z"
   },
   {
    "duration": 276,
    "start_time": "2022-02-05T12:25:06.039Z"
   },
   {
    "duration": 32,
    "start_time": "2022-02-05T12:25:06.317Z"
   },
   {
    "duration": 5,
    "start_time": "2022-02-05T12:25:06.350Z"
   },
   {
    "duration": 5,
    "start_time": "2022-02-05T12:25:06.357Z"
   },
   {
    "duration": 5,
    "start_time": "2022-02-05T12:25:06.363Z"
   },
   {
    "duration": 12,
    "start_time": "2022-02-05T12:25:06.369Z"
   },
   {
    "duration": 12,
    "start_time": "2022-02-05T12:25:06.383Z"
   },
   {
    "duration": 24,
    "start_time": "2022-02-05T12:25:06.427Z"
   },
   {
    "duration": 2,
    "start_time": "2022-02-05T12:25:06.452Z"
   },
   {
    "duration": 4,
    "start_time": "2022-02-05T12:25:06.456Z"
   },
   {
    "duration": 7,
    "start_time": "2022-02-05T12:25:06.461Z"
   },
   {
    "duration": 72,
    "start_time": "2022-02-05T12:25:06.470Z"
   },
   {
    "duration": 36,
    "start_time": "2022-02-05T12:25:06.544Z"
   },
   {
    "duration": 57,
    "start_time": "2022-02-05T12:25:06.582Z"
   },
   {
    "duration": 36,
    "start_time": "2022-02-05T12:25:06.642Z"
   },
   {
    "duration": 31,
    "start_time": "2022-02-05T12:25:06.680Z"
   },
   {
    "duration": 21,
    "start_time": "2022-02-05T12:25:06.712Z"
   },
   {
    "duration": 6,
    "start_time": "2022-02-05T12:25:06.735Z"
   },
   {
    "duration": 21,
    "start_time": "2022-02-05T12:25:06.743Z"
   },
   {
    "duration": 1058,
    "start_time": "2022-02-05T12:25:07.641Z"
   },
   {
    "duration": 64,
    "start_time": "2022-02-05T12:25:13.427Z"
   },
   {
    "duration": 256,
    "start_time": "2022-02-05T12:25:25.177Z"
   },
   {
    "duration": 487,
    "start_time": "2022-02-05T12:26:10.478Z"
   },
   {
    "duration": 530,
    "start_time": "2022-02-05T12:27:01.976Z"
   },
   {
    "duration": 6,
    "start_time": "2022-02-05T12:36:31.513Z"
   },
   {
    "duration": 300,
    "start_time": "2022-02-05T12:36:31.521Z"
   },
   {
    "duration": 270,
    "start_time": "2022-02-05T12:36:31.824Z"
   },
   {
    "duration": 1221,
    "start_time": "2022-02-05T12:36:32.096Z"
   },
   {
    "duration": 61,
    "start_time": "2022-02-05T12:36:33.319Z"
   },
   {
    "duration": 8,
    "start_time": "2022-02-05T12:36:33.381Z"
   },
   {
    "duration": 74,
    "start_time": "2022-02-05T12:36:33.390Z"
   },
   {
    "duration": 3,
    "start_time": "2022-02-05T12:36:33.466Z"
   },
   {
    "duration": 494,
    "start_time": "2022-02-05T12:36:33.471Z"
   },
   {
    "duration": 469,
    "start_time": "2022-02-05T12:37:51.163Z"
   },
   {
    "duration": 562,
    "start_time": "2022-02-05T12:37:57.781Z"
   },
   {
    "duration": 494,
    "start_time": "2022-02-05T12:38:10.158Z"
   },
   {
    "duration": 565,
    "start_time": "2022-02-05T12:38:22.637Z"
   },
   {
    "duration": 5,
    "start_time": "2022-02-05T12:55:51.352Z"
   },
   {
    "duration": 5,
    "start_time": "2022-02-05T12:55:54.504Z"
   },
   {
    "duration": 491,
    "start_time": "2022-02-05T12:59:52.221Z"
   },
   {
    "duration": 7,
    "start_time": "2022-02-05T13:01:31.401Z"
   },
   {
    "duration": 9,
    "start_time": "2022-02-05T13:02:48.332Z"
   },
   {
    "duration": 6,
    "start_time": "2022-02-05T13:03:05.621Z"
   },
   {
    "duration": 670,
    "start_time": "2022-02-05T13:03:14.886Z"
   },
   {
    "duration": 271,
    "start_time": "2022-02-05T13:03:36.916Z"
   },
   {
    "duration": 356,
    "start_time": "2022-02-05T13:03:40.421Z"
   },
   {
    "duration": 8,
    "start_time": "2022-02-05T13:03:45.312Z"
   },
   {
    "duration": 265,
    "start_time": "2022-02-05T13:03:58.798Z"
   },
   {
    "duration": 6,
    "start_time": "2022-02-05T13:04:04.396Z"
   },
   {
    "duration": 131,
    "start_time": "2022-02-05T13:04:59.945Z"
   },
   {
    "duration": 132,
    "start_time": "2022-02-05T13:05:01.626Z"
   },
   {
    "duration": 95,
    "start_time": "2022-02-05T13:05:02.891Z"
   },
   {
    "duration": 422,
    "start_time": "2022-02-05T13:05:03.054Z"
   },
   {
    "duration": 85,
    "start_time": "2022-02-05T13:05:03.478Z"
   },
   {
    "duration": 293,
    "start_time": "2022-02-05T13:05:03.565Z"
   },
   {
    "duration": 24,
    "start_time": "2022-02-05T13:05:03.859Z"
   },
   {
    "duration": 7,
    "start_time": "2022-02-05T13:05:03.955Z"
   },
   {
    "duration": 8,
    "start_time": "2022-02-05T13:05:04.468Z"
   },
   {
    "duration": 7,
    "start_time": "2022-02-05T13:05:04.693Z"
   },
   {
    "duration": 10,
    "start_time": "2022-02-05T13:05:05.661Z"
   },
   {
    "duration": 12,
    "start_time": "2022-02-05T13:05:06.086Z"
   },
   {
    "duration": 24,
    "start_time": "2022-02-05T13:05:06.883Z"
   },
   {
    "duration": 3,
    "start_time": "2022-02-05T13:05:07.232Z"
   },
   {
    "duration": 2,
    "start_time": "2022-02-05T13:05:07.486Z"
   },
   {
    "duration": 4,
    "start_time": "2022-02-05T13:05:08.992Z"
   },
   {
    "duration": 32,
    "start_time": "2022-02-05T13:05:09.253Z"
   },
   {
    "duration": 21,
    "start_time": "2022-02-05T13:05:09.654Z"
   },
   {
    "duration": 23,
    "start_time": "2022-02-05T13:05:09.850Z"
   },
   {
    "duration": 19,
    "start_time": "2022-02-05T13:05:10.013Z"
   },
   {
    "duration": 27,
    "start_time": "2022-02-05T13:05:10.163Z"
   },
   {
    "duration": 5,
    "start_time": "2022-02-05T13:05:10.704Z"
   },
   {
    "duration": 5,
    "start_time": "2022-02-05T13:05:11.383Z"
   },
   {
    "duration": 25,
    "start_time": "2022-02-05T13:05:13.047Z"
   },
   {
    "duration": 87,
    "start_time": "2022-02-05T13:05:14.177Z"
   },
   {
    "duration": 5,
    "start_time": "2022-02-05T13:05:39.018Z"
   },
   {
    "duration": 348,
    "start_time": "2022-02-05T13:05:39.025Z"
   },
   {
    "duration": 283,
    "start_time": "2022-02-05T13:05:39.375Z"
   },
   {
    "duration": 266,
    "start_time": "2022-02-05T13:05:39.660Z"
   },
   {
    "duration": 86,
    "start_time": "2022-02-05T13:05:39.928Z"
   },
   {
    "duration": 8,
    "start_time": "2022-02-05T13:05:40.015Z"
   },
   {
    "duration": 93,
    "start_time": "2022-02-05T13:05:40.024Z"
   },
   {
    "duration": 3,
    "start_time": "2022-02-05T13:05:40.120Z"
   },
   {
    "duration": 615,
    "start_time": "2022-02-05T13:05:40.124Z"
   },
   {
    "duration": 179,
    "start_time": "2022-02-05T13:05:40.741Z"
   },
   {
    "duration": 106,
    "start_time": "2022-02-05T13:05:40.922Z"
   },
   {
    "duration": 732,
    "start_time": "2022-02-05T13:05:41.031Z"
   },
   {
    "duration": 150,
    "start_time": "2022-02-05T13:05:41.765Z"
   },
   {
    "duration": 398,
    "start_time": "2022-02-05T13:05:41.917Z"
   },
   {
    "duration": 40,
    "start_time": "2022-02-05T13:05:42.316Z"
   },
   {
    "duration": 5,
    "start_time": "2022-02-05T13:05:42.358Z"
   },
   {
    "duration": 7,
    "start_time": "2022-02-05T13:05:42.364Z"
   },
   {
    "duration": 6,
    "start_time": "2022-02-05T13:05:42.372Z"
   },
   {
    "duration": 12,
    "start_time": "2022-02-05T13:05:42.379Z"
   },
   {
    "duration": 41,
    "start_time": "2022-02-05T13:05:42.392Z"
   },
   {
    "duration": 39,
    "start_time": "2022-02-05T13:05:42.435Z"
   },
   {
    "duration": 2,
    "start_time": "2022-02-05T13:05:42.476Z"
   },
   {
    "duration": 2,
    "start_time": "2022-02-05T13:05:42.482Z"
   },
   {
    "duration": 8,
    "start_time": "2022-02-05T13:05:42.486Z"
   },
   {
    "duration": 71,
    "start_time": "2022-02-05T13:05:42.495Z"
   },
   {
    "duration": 27,
    "start_time": "2022-02-05T13:05:42.567Z"
   },
   {
    "duration": 42,
    "start_time": "2022-02-05T13:05:42.596Z"
   },
   {
    "duration": 31,
    "start_time": "2022-02-05T13:05:42.640Z"
   },
   {
    "duration": 29,
    "start_time": "2022-02-05T13:05:42.673Z"
   },
   {
    "duration": 5,
    "start_time": "2022-02-05T13:05:42.704Z"
   },
   {
    "duration": 19,
    "start_time": "2022-02-05T13:05:42.710Z"
   },
   {
    "duration": 40,
    "start_time": "2022-02-05T13:05:42.731Z"
   },
   {
    "duration": 100,
    "start_time": "2022-02-05T13:05:42.773Z"
   },
   {
    "duration": 4,
    "start_time": "2022-02-05T13:05:42.874Z"
   },
   {
    "duration": 14,
    "start_time": "2022-02-05T13:05:42.880Z"
   },
   {
    "duration": 10,
    "start_time": "2022-02-05T13:05:42.895Z"
   },
   {
    "duration": 366,
    "start_time": "2022-02-05T13:05:42.906Z"
   },
   {
    "duration": 8,
    "start_time": "2022-02-05T13:05:43.274Z"
   },
   {
    "duration": 26,
    "start_time": "2022-02-05T13:05:43.284Z"
   },
   {
    "duration": 23,
    "start_time": "2022-02-05T13:05:43.311Z"
   },
   {
    "duration": 25,
    "start_time": "2022-02-05T13:05:43.335Z"
   },
   {
    "duration": 27,
    "start_time": "2022-02-05T13:05:43.362Z"
   },
   {
    "duration": 73,
    "start_time": "2022-02-05T13:05:43.390Z"
   },
   {
    "duration": 6,
    "start_time": "2022-02-05T13:05:43.465Z"
   },
   {
    "duration": 6,
    "start_time": "2022-02-05T13:05:43.472Z"
   },
   {
    "duration": 50,
    "start_time": "2022-02-05T13:05:43.479Z"
   },
   {
    "duration": 43,
    "start_time": "2022-02-05T13:05:43.530Z"
   },
   {
    "duration": 66,
    "start_time": "2022-02-05T13:05:43.575Z"
   },
   {
    "duration": 5,
    "start_time": "2022-02-05T13:05:43.644Z"
   },
   {
    "duration": 19,
    "start_time": "2022-02-05T13:05:43.651Z"
   },
   {
    "duration": 21,
    "start_time": "2022-02-05T13:05:43.672Z"
   },
   {
    "duration": 8,
    "start_time": "2022-02-05T13:05:43.695Z"
   },
   {
    "duration": 1790,
    "start_time": "2022-02-05T13:05:43.704Z"
   },
   {
    "duration": 331,
    "start_time": "2022-02-05T13:05:45.496Z"
   },
   {
    "duration": 355,
    "start_time": "2022-02-05T13:05:45.830Z"
   },
   {
    "duration": 346,
    "start_time": "2022-02-05T13:05:46.187Z"
   },
   {
    "duration": 338,
    "start_time": "2022-02-05T13:05:46.535Z"
   },
   {
    "duration": 332,
    "start_time": "2022-02-05T13:05:46.874Z"
   },
   {
    "duration": 315,
    "start_time": "2022-02-05T13:05:47.208Z"
   },
   {
    "duration": 327,
    "start_time": "2022-02-05T13:05:47.524Z"
   },
   {
    "duration": 3,
    "start_time": "2022-02-05T13:05:47.853Z"
   },
   {
    "duration": 19,
    "start_time": "2022-02-05T13:05:47.858Z"
   },
   {
    "duration": 12,
    "start_time": "2022-02-05T13:05:47.879Z"
   },
   {
    "duration": 29,
    "start_time": "2022-02-05T13:05:47.893Z"
   },
   {
    "duration": 21,
    "start_time": "2022-02-05T13:05:47.924Z"
   },
   {
    "duration": 36,
    "start_time": "2022-02-05T13:05:47.947Z"
   },
   {
    "duration": 23,
    "start_time": "2022-02-05T13:05:47.985Z"
   },
   {
    "duration": 12,
    "start_time": "2022-02-05T13:05:48.013Z"
   },
   {
    "duration": 26,
    "start_time": "2022-02-05T13:05:48.026Z"
   },
   {
    "duration": 21,
    "start_time": "2022-02-05T13:05:48.054Z"
   },
   {
    "duration": 9,
    "start_time": "2022-02-05T13:05:48.077Z"
   },
   {
    "duration": 18,
    "start_time": "2022-02-05T13:05:48.088Z"
   },
   {
    "duration": 9,
    "start_time": "2022-02-05T13:05:48.108Z"
   },
   {
    "duration": 496,
    "start_time": "2022-02-05T13:05:48.119Z"
   },
   {
    "duration": 348,
    "start_time": "2022-02-05T13:05:48.617Z"
   },
   {
    "duration": 7,
    "start_time": "2022-02-05T13:05:48.967Z"
   },
   {
    "duration": 7,
    "start_time": "2022-02-05T13:05:48.976Z"
   },
   {
    "duration": 477,
    "start_time": "2022-02-05T13:06:34.224Z"
   },
   {
    "duration": 157,
    "start_time": "2022-02-05T13:06:34.702Z"
   },
   {
    "duration": 453,
    "start_time": "2022-02-05T13:07:15.324Z"
   },
   {
    "duration": 57,
    "start_time": "2022-02-05T13:07:20.806Z"
   },
   {
    "duration": 80,
    "start_time": "2022-02-05T13:07:21.456Z"
   },
   {
    "duration": 14,
    "start_time": "2022-02-05T13:38:36.895Z"
   },
   {
    "duration": 4,
    "start_time": "2022-02-05T14:18:40.079Z"
   },
   {
    "duration": 358,
    "start_time": "2022-02-05T14:18:40.443Z"
   },
   {
    "duration": 266,
    "start_time": "2022-02-05T14:18:40.803Z"
   },
   {
    "duration": 1828,
    "start_time": "2022-02-05T14:18:41.071Z"
   },
   {
    "duration": 76,
    "start_time": "2022-02-05T14:18:42.901Z"
   },
   {
    "duration": 9,
    "start_time": "2022-02-05T14:18:42.979Z"
   },
   {
    "duration": 79,
    "start_time": "2022-02-05T14:18:50.191Z"
   },
   {
    "duration": 4,
    "start_time": "2022-02-05T14:18:51.006Z"
   },
   {
    "duration": 74,
    "start_time": "2022-02-05T14:19:22.294Z"
   },
   {
    "duration": 76,
    "start_time": "2022-02-05T14:19:43.140Z"
   },
   {
    "duration": 5,
    "start_time": "2022-02-05T14:21:11.484Z"
   },
   {
    "duration": 375,
    "start_time": "2022-02-05T14:21:11.491Z"
   },
   {
    "duration": 259,
    "start_time": "2022-02-05T14:21:11.867Z"
   },
   {
    "duration": 1258,
    "start_time": "2022-02-05T14:21:12.128Z"
   },
   {
    "duration": 61,
    "start_time": "2022-02-05T14:21:13.387Z"
   },
   {
    "duration": 8,
    "start_time": "2022-02-05T14:21:13.449Z"
   },
   {
    "duration": 79,
    "start_time": "2022-02-05T14:21:13.458Z"
   },
   {
    "duration": 104,
    "start_time": "2022-02-05T14:21:13.540Z"
   },
   {
    "duration": 267,
    "start_time": "2022-02-05T14:21:13.646Z"
   },
   {
    "duration": -544,
    "start_time": "2022-02-05T14:21:14.458Z"
   },
   {
    "duration": -547,
    "start_time": "2022-02-05T14:21:14.462Z"
   },
   {
    "duration": 28,
    "start_time": "2022-02-05T14:21:23.590Z"
   },
   {
    "duration": 339,
    "start_time": "2022-02-05T14:21:53.867Z"
   },
   {
    "duration": 27,
    "start_time": "2022-02-05T14:21:56.444Z"
   },
   {
    "duration": 4,
    "start_time": "2022-02-05T14:21:57.883Z"
   },
   {
    "duration": 1271,
    "start_time": "2022-02-05T14:21:58.365Z"
   },
   {
    "duration": 253,
    "start_time": "2022-02-05T14:22:31.953Z"
   },
   {
    "duration": 248,
    "start_time": "2022-02-05T14:22:48.642Z"
   },
   {
    "duration": 6,
    "start_time": "2022-02-05T14:23:34.522Z"
   },
   {
    "duration": 349,
    "start_time": "2022-02-05T14:23:34.529Z"
   },
   {
    "duration": 244,
    "start_time": "2022-02-05T14:23:34.880Z"
   },
   {
    "duration": 1267,
    "start_time": "2022-02-05T14:23:35.126Z"
   },
   {
    "duration": 66,
    "start_time": "2022-02-05T14:23:36.395Z"
   },
   {
    "duration": 8,
    "start_time": "2022-02-05T14:23:36.462Z"
   },
   {
    "duration": 78,
    "start_time": "2022-02-05T14:23:36.471Z"
   },
   {
    "duration": 88,
    "start_time": "2022-02-05T14:23:36.551Z"
   },
   {
    "duration": 264,
    "start_time": "2022-02-05T14:23:39.852Z"
   },
   {
    "duration": 36,
    "start_time": "2022-02-05T14:23:40.269Z"
   },
   {
    "duration": 55,
    "start_time": "2022-02-05T14:23:53.209Z"
   },
   {
    "duration": 873,
    "start_time": "2022-02-05T14:24:00.196Z"
   },
   {
    "duration": 302,
    "start_time": "2022-02-05T14:24:13.450Z"
   },
   {
    "duration": 282,
    "start_time": "2022-02-05T14:24:14.341Z"
   },
   {
    "duration": 657,
    "start_time": "2022-02-05T14:24:14.722Z"
   },
   {
    "duration": 53,
    "start_time": "2022-02-05T14:24:15.381Z"
   },
   {
    "duration": 9,
    "start_time": "2022-02-05T14:24:15.549Z"
   },
   {
    "duration": 82,
    "start_time": "2022-02-05T14:24:17.215Z"
   },
   {
    "duration": 94,
    "start_time": "2022-02-05T14:24:20.948Z"
   },
   {
    "duration": 42,
    "start_time": "2022-02-05T14:24:22.914Z"
   },
   {
    "duration": 42,
    "start_time": "2022-02-05T14:24:24.042Z"
   },
   {
    "duration": 5,
    "start_time": "2022-02-05T14:25:38.189Z"
   },
   {
    "duration": 303,
    "start_time": "2022-02-05T14:25:38.195Z"
   },
   {
    "duration": 596,
    "start_time": "2022-02-05T14:25:38.500Z"
   },
   {
    "duration": 1820,
    "start_time": "2022-02-05T14:25:39.098Z"
   },
   {
    "duration": 63,
    "start_time": "2022-02-05T14:25:40.920Z"
   },
   {
    "duration": 7,
    "start_time": "2022-02-05T14:25:40.984Z"
   },
   {
    "duration": 80,
    "start_time": "2022-02-05T14:25:40.993Z"
   },
   {
    "duration": 284,
    "start_time": "2022-02-05T14:25:41.074Z"
   },
   {
    "duration": 97,
    "start_time": "2022-02-05T14:25:49.043Z"
   },
   {
    "duration": 40,
    "start_time": "2022-02-05T14:25:50.051Z"
   },
   {
    "duration": 23,
    "start_time": "2022-02-05T14:25:50.863Z"
   },
   {
    "duration": 27,
    "start_time": "2022-02-05T14:25:51.516Z"
   },
   {
    "duration": 4,
    "start_time": "2022-02-05T14:25:52.194Z"
   },
   {
    "duration": 275,
    "start_time": "2022-02-05T14:25:54.186Z"
   },
   {
    "duration": 1161,
    "start_time": "2022-02-05T14:26:28.207Z"
   },
   {
    "duration": 260,
    "start_time": "2022-02-05T14:26:51.628Z"
   },
   {
    "duration": 388,
    "start_time": "2022-02-05T14:27:05.442Z"
   },
   {
    "duration": 260,
    "start_time": "2022-02-05T14:27:17.613Z"
   },
   {
    "duration": 13,
    "start_time": "2022-02-05T14:27:41.440Z"
   },
   {
    "duration": 6546,
    "start_time": "2022-02-05T14:27:52.026Z"
   },
   {
    "duration": -541,
    "start_time": "2022-02-05T14:27:59.115Z"
   },
   {
    "duration": 5,
    "start_time": "2022-02-05T14:28:03.998Z"
   },
   {
    "duration": 310,
    "start_time": "2022-02-05T14:28:04.005Z"
   },
   {
    "duration": 266,
    "start_time": "2022-02-05T14:28:04.317Z"
   },
   {
    "duration": 229,
    "start_time": "2022-02-05T14:28:04.585Z"
   },
   {
    "duration": 64,
    "start_time": "2022-02-05T14:28:04.815Z"
   },
   {
    "duration": 7,
    "start_time": "2022-02-05T14:28:04.881Z"
   },
   {
    "duration": 103,
    "start_time": "2022-02-05T14:28:04.889Z"
   },
   {
    "duration": 97,
    "start_time": "2022-02-05T14:28:04.995Z"
   },
   {
    "duration": 49,
    "start_time": "2022-02-05T14:28:05.094Z"
   },
   {
    "duration": 24,
    "start_time": "2022-02-05T14:28:05.144Z"
   },
   {
    "duration": 22,
    "start_time": "2022-02-05T14:28:05.170Z"
   },
   {
    "duration": 3,
    "start_time": "2022-02-05T14:28:05.194Z"
   },
   {
    "duration": 135,
    "start_time": "2022-02-05T14:28:05.198Z"
   },
   {
    "duration": 13,
    "start_time": "2022-02-05T14:28:05.334Z"
   },
   {
    "duration": 187,
    "start_time": "2022-02-05T14:28:05.349Z"
   },
   {
    "duration": 123,
    "start_time": "2022-02-05T14:28:05.538Z"
   },
   {
    "duration": 105,
    "start_time": "2022-02-05T14:28:05.662Z"
   },
   {
    "duration": 36,
    "start_time": "2022-02-05T14:28:05.768Z"
   },
   {
    "duration": 138,
    "start_time": "2022-02-05T14:28:05.805Z"
   },
   {
    "duration": 646,
    "start_time": "2022-02-05T14:28:05.945Z"
   },
   {
    "duration": -550,
    "start_time": "2022-02-05T14:28:07.145Z"
   },
   {
    "duration": -564,
    "start_time": "2022-02-05T14:28:07.160Z"
   },
   {
    "duration": -575,
    "start_time": "2022-02-05T14:28:07.172Z"
   },
   {
    "duration": -583,
    "start_time": "2022-02-05T14:28:07.181Z"
   },
   {
    "duration": -598,
    "start_time": "2022-02-05T14:28:07.196Z"
   },
   {
    "duration": -609,
    "start_time": "2022-02-05T14:28:07.208Z"
   },
   {
    "duration": -616,
    "start_time": "2022-02-05T14:28:07.216Z"
   },
   {
    "duration": -629,
    "start_time": "2022-02-05T14:28:07.230Z"
   },
   {
    "duration": -641,
    "start_time": "2022-02-05T14:28:07.242Z"
   },
   {
    "duration": -644,
    "start_time": "2022-02-05T14:28:07.246Z"
   },
   {
    "duration": -647,
    "start_time": "2022-02-05T14:28:07.250Z"
   },
   {
    "duration": -655,
    "start_time": "2022-02-05T14:28:07.259Z"
   },
   {
    "duration": -661,
    "start_time": "2022-02-05T14:28:07.266Z"
   },
   {
    "duration": -671,
    "start_time": "2022-02-05T14:28:07.277Z"
   },
   {
    "duration": -677,
    "start_time": "2022-02-05T14:28:07.284Z"
   },
   {
    "duration": -686,
    "start_time": "2022-02-05T14:28:07.293Z"
   },
   {
    "duration": -692,
    "start_time": "2022-02-05T14:28:07.300Z"
   },
   {
    "duration": -699,
    "start_time": "2022-02-05T14:28:07.308Z"
   },
   {
    "duration": -704,
    "start_time": "2022-02-05T14:28:07.314Z"
   },
   {
    "duration": -711,
    "start_time": "2022-02-05T14:28:07.322Z"
   },
   {
    "duration": -717,
    "start_time": "2022-02-05T14:28:07.329Z"
   },
   {
    "duration": -724,
    "start_time": "2022-02-05T14:28:07.337Z"
   },
   {
    "duration": -726,
    "start_time": "2022-02-05T14:28:07.340Z"
   },
   {
    "duration": -729,
    "start_time": "2022-02-05T14:28:07.344Z"
   },
   {
    "duration": -740,
    "start_time": "2022-02-05T14:28:07.356Z"
   },
   {
    "duration": -748,
    "start_time": "2022-02-05T14:28:07.365Z"
   },
   {
    "duration": -759,
    "start_time": "2022-02-05T14:28:07.377Z"
   },
   {
    "duration": -762,
    "start_time": "2022-02-05T14:28:07.381Z"
   },
   {
    "duration": -763,
    "start_time": "2022-02-05T14:28:07.383Z"
   },
   {
    "duration": -772,
    "start_time": "2022-02-05T14:28:07.393Z"
   },
   {
    "duration": -779,
    "start_time": "2022-02-05T14:28:07.401Z"
   },
   {
    "duration": -790,
    "start_time": "2022-02-05T14:28:07.413Z"
   },
   {
    "duration": -792,
    "start_time": "2022-02-05T14:28:07.416Z"
   },
   {
    "duration": -794,
    "start_time": "2022-02-05T14:28:07.419Z"
   },
   {
    "duration": -796,
    "start_time": "2022-02-05T14:28:07.422Z"
   },
   {
    "duration": -809,
    "start_time": "2022-02-05T14:28:07.436Z"
   },
   {
    "duration": -822,
    "start_time": "2022-02-05T14:28:07.450Z"
   },
   {
    "duration": -834,
    "start_time": "2022-02-05T14:28:07.463Z"
   },
   {
    "duration": -841,
    "start_time": "2022-02-05T14:28:07.471Z"
   },
   {
    "duration": -852,
    "start_time": "2022-02-05T14:28:07.483Z"
   },
   {
    "duration": -858,
    "start_time": "2022-02-05T14:28:07.490Z"
   },
   {
    "duration": -861,
    "start_time": "2022-02-05T14:28:07.494Z"
   },
   {
    "duration": -863,
    "start_time": "2022-02-05T14:28:07.497Z"
   },
   {
    "duration": -869,
    "start_time": "2022-02-05T14:28:07.504Z"
   },
   {
    "duration": -876,
    "start_time": "2022-02-05T14:28:07.512Z"
   },
   {
    "duration": -883,
    "start_time": "2022-02-05T14:28:07.520Z"
   },
   {
    "duration": -889,
    "start_time": "2022-02-05T14:28:07.528Z"
   },
   {
    "duration": -895,
    "start_time": "2022-02-05T14:28:07.535Z"
   },
   {
    "duration": -899,
    "start_time": "2022-02-05T14:28:07.541Z"
   },
   {
    "duration": -906,
    "start_time": "2022-02-05T14:28:07.549Z"
   },
   {
    "duration": -910,
    "start_time": "2022-02-05T14:28:07.556Z"
   },
   {
    "duration": -917,
    "start_time": "2022-02-05T14:28:07.564Z"
   },
   {
    "duration": -922,
    "start_time": "2022-02-05T14:28:07.570Z"
   },
   {
    "duration": -929,
    "start_time": "2022-02-05T14:28:07.578Z"
   },
   {
    "duration": -933,
    "start_time": "2022-02-05T14:28:07.584Z"
   },
   {
    "duration": -940,
    "start_time": "2022-02-05T14:28:07.592Z"
   },
   {
    "duration": -947,
    "start_time": "2022-02-05T14:28:07.600Z"
   },
   {
    "duration": -949,
    "start_time": "2022-02-05T14:28:07.603Z"
   },
   {
    "duration": -953,
    "start_time": "2022-02-05T14:28:07.609Z"
   },
   {
    "duration": -958,
    "start_time": "2022-02-05T14:28:07.615Z"
   },
   {
    "duration": -959,
    "start_time": "2022-02-05T14:28:07.617Z"
   },
   {
    "duration": -962,
    "start_time": "2022-02-05T14:28:07.621Z"
   },
   {
    "duration": 5,
    "start_time": "2022-02-05T14:29:23.417Z"
   },
   {
    "duration": 298,
    "start_time": "2022-02-05T14:29:23.423Z"
   },
   {
    "duration": 284,
    "start_time": "2022-02-05T14:29:23.729Z"
   },
   {
    "duration": 200,
    "start_time": "2022-02-05T14:29:24.014Z"
   },
   {
    "duration": 1096,
    "start_time": "2022-02-05T14:29:24.215Z"
   },
   {
    "duration": 8,
    "start_time": "2022-02-05T14:29:25.313Z"
   },
   {
    "duration": 92,
    "start_time": "2022-02-05T14:29:25.322Z"
   },
   {
    "duration": 101,
    "start_time": "2022-02-05T14:29:25.417Z"
   },
   {
    "duration": 45,
    "start_time": "2022-02-05T14:29:25.519Z"
   },
   {
    "duration": 24,
    "start_time": "2022-02-05T14:29:25.566Z"
   },
   {
    "duration": 46,
    "start_time": "2022-02-05T14:29:25.592Z"
   },
   {
    "duration": 3,
    "start_time": "2022-02-05T14:29:25.641Z"
   },
   {
    "duration": 3,
    "start_time": "2022-02-05T14:29:29.056Z"
   },
   {
    "duration": 99,
    "start_time": "2022-02-05T14:29:29.945Z"
   },
   {
    "duration": 13,
    "start_time": "2022-02-05T14:29:33.110Z"
   },
   {
    "duration": 83,
    "start_time": "2022-02-05T14:29:57.314Z"
   },
   {
    "duration": 5,
    "start_time": "2022-02-05T14:30:29.284Z"
   },
   {
    "duration": 292,
    "start_time": "2022-02-05T14:30:29.291Z"
   },
   {
    "duration": 287,
    "start_time": "2022-02-05T14:30:29.585Z"
   },
   {
    "duration": 229,
    "start_time": "2022-02-05T14:30:29.873Z"
   },
   {
    "duration": 60,
    "start_time": "2022-02-05T14:30:30.103Z"
   },
   {
    "duration": 7,
    "start_time": "2022-02-05T14:30:30.165Z"
   },
   {
    "duration": 1104,
    "start_time": "2022-02-05T14:30:30.174Z"
   },
   {
    "duration": 99,
    "start_time": "2022-02-05T14:30:31.280Z"
   },
   {
    "duration": 3,
    "start_time": "2022-02-05T14:30:31.381Z"
   },
   {
    "duration": 4,
    "start_time": "2022-02-05T14:31:42.919Z"
   },
   {
    "duration": 302,
    "start_time": "2022-02-05T14:31:44.350Z"
   },
   {
    "duration": 455,
    "start_time": "2022-02-05T14:31:44.655Z"
   },
   {
    "duration": 1218,
    "start_time": "2022-02-05T14:31:45.169Z"
   },
   {
    "duration": 59,
    "start_time": "2022-02-05T14:31:46.389Z"
   },
   {
    "duration": 7,
    "start_time": "2022-02-05T14:31:46.450Z"
   },
   {
    "duration": 71,
    "start_time": "2022-02-05T14:31:46.579Z"
   },
   {
    "duration": 104,
    "start_time": "2022-02-05T14:31:46.766Z"
   },
   {
    "duration": 6,
    "start_time": "2022-02-05T14:31:46.935Z"
   },
   {
    "duration": 501,
    "start_time": "2022-02-05T14:31:47.086Z"
   },
   {
    "duration": 110,
    "start_time": "2022-02-05T14:31:48.514Z"
   },
   {
    "duration": 297,
    "start_time": "2022-02-05T14:31:48.695Z"
   },
   {
    "duration": 47,
    "start_time": "2022-02-05T14:31:48.994Z"
   },
   {
    "duration": 210,
    "start_time": "2022-02-05T14:31:49.156Z"
   },
   {
    "duration": 17,
    "start_time": "2022-02-05T14:31:49.368Z"
   },
   {
    "duration": 7,
    "start_time": "2022-02-05T14:31:55.060Z"
   },
   {
    "duration": 6,
    "start_time": "2022-02-05T14:31:55.250Z"
   },
   {
    "duration": 6,
    "start_time": "2022-02-05T14:31:55.400Z"
   },
   {
    "duration": 11,
    "start_time": "2022-02-05T14:31:56.608Z"
   },
   {
    "duration": 14,
    "start_time": "2022-02-05T14:31:56.776Z"
   },
   {
    "duration": 13,
    "start_time": "2022-02-05T14:31:57.215Z"
   },
   {
    "duration": 2,
    "start_time": "2022-02-05T14:31:57.521Z"
   },
   {
    "duration": 2,
    "start_time": "2022-02-05T14:31:57.755Z"
   },
   {
    "duration": 5,
    "start_time": "2022-02-05T14:31:59.269Z"
   },
   {
    "duration": 11,
    "start_time": "2022-02-05T14:31:59.410Z"
   },
   {
    "duration": 17,
    "start_time": "2022-02-05T14:31:59.548Z"
   },
   {
    "duration": 12,
    "start_time": "2022-02-05T14:32:00.058Z"
   },
   {
    "duration": 6,
    "start_time": "2022-02-05T14:32:00.087Z"
   },
   {
    "duration": 6,
    "start_time": "2022-02-05T14:32:00.119Z"
   },
   {
    "duration": 5,
    "start_time": "2022-02-05T14:32:00.190Z"
   },
   {
    "duration": 4,
    "start_time": "2022-02-05T14:32:00.252Z"
   },
   {
    "duration": 20,
    "start_time": "2022-02-05T14:32:00.414Z"
   },
   {
    "duration": 78,
    "start_time": "2022-02-05T14:32:00.480Z"
   },
   {
    "duration": 4,
    "start_time": "2022-02-05T14:32:00.559Z"
   },
   {
    "duration": 19,
    "start_time": "2022-02-05T14:32:00.573Z"
   },
   {
    "duration": 6,
    "start_time": "2022-02-05T14:32:00.606Z"
   },
   {
    "duration": 63,
    "start_time": "2022-02-05T14:32:00.687Z"
   },
   {
    "duration": 10,
    "start_time": "2022-02-05T14:32:00.752Z"
   },
   {
    "duration": 24,
    "start_time": "2022-02-05T14:32:00.774Z"
   },
   {
    "duration": 2,
    "start_time": "2022-02-05T14:32:00.969Z"
   },
   {
    "duration": 29,
    "start_time": "2022-02-05T14:32:01.005Z"
   },
   {
    "duration": 22,
    "start_time": "2022-02-05T14:32:01.075Z"
   },
   {
    "duration": 41,
    "start_time": "2022-02-05T14:32:01.105Z"
   },
   {
    "duration": 4,
    "start_time": "2022-02-05T14:32:01.148Z"
   },
   {
    "duration": 5,
    "start_time": "2022-02-05T14:32:01.171Z"
   },
   {
    "duration": 35,
    "start_time": "2022-02-05T14:32:01.285Z"
   },
   {
    "duration": 37,
    "start_time": "2022-02-05T14:32:01.866Z"
   },
   {
    "duration": 35,
    "start_time": "2022-02-05T14:32:01.905Z"
   },
   {
    "duration": 5,
    "start_time": "2022-02-05T14:32:01.943Z"
   },
   {
    "duration": 5,
    "start_time": "2022-02-05T14:32:01.970Z"
   },
   {
    "duration": 4,
    "start_time": "2022-02-05T14:32:02.001Z"
   },
   {
    "duration": 6,
    "start_time": "2022-02-05T14:32:02.041Z"
   },
   {
    "duration": 1122,
    "start_time": "2022-02-05T14:32:02.071Z"
   },
   {
    "duration": 5,
    "start_time": "2022-02-05T14:33:02.576Z"
   },
   {
    "duration": 322,
    "start_time": "2022-02-05T14:33:02.582Z"
   },
   {
    "duration": 460,
    "start_time": "2022-02-05T14:33:02.906Z"
   },
   {
    "duration": 1282,
    "start_time": "2022-02-05T14:33:03.368Z"
   },
   {
    "duration": 95,
    "start_time": "2022-02-05T14:33:04.651Z"
   },
   {
    "duration": 9,
    "start_time": "2022-02-05T14:33:04.747Z"
   },
   {
    "duration": 74,
    "start_time": "2022-02-05T14:33:04.758Z"
   },
   {
    "duration": 8,
    "start_time": "2022-02-05T14:33:04.836Z"
   },
   {
    "duration": 506,
    "start_time": "2022-02-05T14:33:04.846Z"
   },
   {
    "duration": 96,
    "start_time": "2022-02-05T14:33:05.354Z"
   },
   {
    "duration": 390,
    "start_time": "2022-02-05T14:33:05.451Z"
   },
   {
    "duration": 67,
    "start_time": "2022-02-05T14:33:05.843Z"
   },
   {
    "duration": 234,
    "start_time": "2022-02-05T14:33:05.912Z"
   },
   {
    "duration": 23,
    "start_time": "2022-02-05T14:33:06.148Z"
   },
   {
    "duration": 7,
    "start_time": "2022-02-05T14:33:06.173Z"
   },
   {
    "duration": 7,
    "start_time": "2022-02-05T14:33:06.182Z"
   },
   {
    "duration": 42,
    "start_time": "2022-02-05T14:33:06.191Z"
   },
   {
    "duration": 11,
    "start_time": "2022-02-05T14:33:06.235Z"
   },
   {
    "duration": 12,
    "start_time": "2022-02-05T14:33:06.247Z"
   },
   {
    "duration": 20,
    "start_time": "2022-02-05T14:33:06.260Z"
   },
   {
    "duration": 2,
    "start_time": "2022-02-05T14:33:06.282Z"
   },
   {
    "duration": 5,
    "start_time": "2022-02-05T14:33:06.285Z"
   },
   {
    "duration": 10,
    "start_time": "2022-02-05T14:33:06.294Z"
   },
   {
    "duration": 57,
    "start_time": "2022-02-05T14:33:06.307Z"
   },
   {
    "duration": 30,
    "start_time": "2022-02-05T14:33:06.366Z"
   },
   {
    "duration": 50,
    "start_time": "2022-02-05T14:33:06.398Z"
   },
   {
    "duration": 28,
    "start_time": "2022-02-05T14:33:06.450Z"
   },
   {
    "duration": 25,
    "start_time": "2022-02-05T14:33:06.480Z"
   },
   {
    "duration": 21,
    "start_time": "2022-02-05T14:33:06.507Z"
   },
   {
    "duration": 6,
    "start_time": "2022-02-05T14:33:06.536Z"
   },
   {
    "duration": 24,
    "start_time": "2022-02-05T14:33:06.543Z"
   },
   {
    "duration": 72,
    "start_time": "2022-02-05T14:33:06.569Z"
   },
   {
    "duration": 4,
    "start_time": "2022-02-05T14:33:06.643Z"
   },
   {
    "duration": 6,
    "start_time": "2022-02-05T14:33:06.649Z"
   },
   {
    "duration": 5,
    "start_time": "2022-02-05T14:33:06.657Z"
   },
   {
    "duration": 292,
    "start_time": "2022-02-05T14:33:06.664Z"
   },
   {
    "duration": 12,
    "start_time": "2022-02-05T14:33:06.958Z"
   },
   {
    "duration": 26,
    "start_time": "2022-02-05T14:33:06.971Z"
   },
   {
    "duration": 3,
    "start_time": "2022-02-05T14:33:06.999Z"
   },
   {
    "duration": 43,
    "start_time": "2022-02-05T14:33:07.003Z"
   },
   {
    "duration": 21,
    "start_time": "2022-02-05T14:33:07.048Z"
   },
   {
    "duration": 36,
    "start_time": "2022-02-05T14:33:07.070Z"
   },
   {
    "duration": 7,
    "start_time": "2022-02-05T14:33:07.127Z"
   },
   {
    "duration": 11,
    "start_time": "2022-02-05T14:33:07.136Z"
   },
   {
    "duration": 34,
    "start_time": "2022-02-05T14:33:07.148Z"
   },
   {
    "duration": 57,
    "start_time": "2022-02-05T14:33:07.184Z"
   },
   {
    "duration": 33,
    "start_time": "2022-02-05T14:33:07.243Z"
   },
   {
    "duration": 4,
    "start_time": "2022-02-05T14:33:07.278Z"
   },
   {
    "duration": 6,
    "start_time": "2022-02-05T14:33:07.284Z"
   },
   {
    "duration": 5,
    "start_time": "2022-02-05T14:33:07.291Z"
   },
   {
    "duration": 37,
    "start_time": "2022-02-05T14:33:07.298Z"
   },
   {
    "duration": 1394,
    "start_time": "2022-02-05T14:33:07.337Z"
   },
   {
    "duration": 309,
    "start_time": "2022-02-05T14:33:08.734Z"
   },
   {
    "duration": 322,
    "start_time": "2022-02-05T14:33:09.044Z"
   },
   {
    "duration": 315,
    "start_time": "2022-02-05T14:33:09.368Z"
   },
   {
    "duration": 321,
    "start_time": "2022-02-05T14:33:09.685Z"
   },
   {
    "duration": 301,
    "start_time": "2022-02-05T14:33:10.008Z"
   },
   {
    "duration": 294,
    "start_time": "2022-02-05T14:33:10.311Z"
   },
   {
    "duration": 308,
    "start_time": "2022-02-05T14:33:10.606Z"
   },
   {
    "duration": 12,
    "start_time": "2022-02-05T14:33:10.915Z"
   },
   {
    "duration": 11,
    "start_time": "2022-02-05T14:33:10.929Z"
   },
   {
    "duration": 6,
    "start_time": "2022-02-05T14:33:10.943Z"
   },
   {
    "duration": 8,
    "start_time": "2022-02-05T14:33:10.951Z"
   },
   {
    "duration": 4,
    "start_time": "2022-02-05T14:33:10.960Z"
   },
   {
    "duration": 23,
    "start_time": "2022-02-05T14:33:10.966Z"
   },
   {
    "duration": 54,
    "start_time": "2022-02-05T14:33:10.990Z"
   },
   {
    "duration": 4,
    "start_time": "2022-02-05T14:33:11.046Z"
   },
   {
    "duration": 5,
    "start_time": "2022-02-05T14:33:11.055Z"
   },
   {
    "duration": 5,
    "start_time": "2022-02-05T14:33:11.061Z"
   },
   {
    "duration": 5,
    "start_time": "2022-02-05T14:33:11.068Z"
   },
   {
    "duration": 6,
    "start_time": "2022-02-05T14:33:11.075Z"
   },
   {
    "duration": 5,
    "start_time": "2022-02-05T14:33:11.082Z"
   },
   {
    "duration": 447,
    "start_time": "2022-02-05T14:33:11.088Z"
   },
   {
    "duration": 318,
    "start_time": "2022-02-05T14:33:11.537Z"
   },
   {
    "duration": 7,
    "start_time": "2022-02-05T14:33:11.857Z"
   },
   {
    "duration": 6,
    "start_time": "2022-02-05T14:33:11.865Z"
   },
   {
    "duration": 11,
    "start_time": "2022-02-05T14:33:43.322Z"
   },
   {
    "duration": 7,
    "start_time": "2022-02-05T14:34:03.405Z"
   },
   {
    "duration": 5,
    "start_time": "2022-02-05T14:34:03.677Z"
   },
   {
    "duration": 5,
    "start_time": "2022-02-05T14:34:44.986Z"
   },
   {
    "duration": 276,
    "start_time": "2022-02-05T14:34:45.344Z"
   },
   {
    "duration": 271,
    "start_time": "2022-02-05T14:34:45.628Z"
   },
   {
    "duration": 222,
    "start_time": "2022-02-05T14:34:45.901Z"
   },
   {
    "duration": 1076,
    "start_time": "2022-02-05T14:34:46.313Z"
   },
   {
    "duration": 8,
    "start_time": "2022-02-05T14:34:47.391Z"
   },
   {
    "duration": 88,
    "start_time": "2022-02-05T14:34:47.400Z"
   },
   {
    "duration": 3,
    "start_time": "2022-02-05T14:34:47.489Z"
   },
   {
    "duration": 522,
    "start_time": "2022-02-05T14:34:47.745Z"
   },
   {
    "duration": 87,
    "start_time": "2022-02-05T14:34:52.325Z"
   },
   {
    "duration": 415,
    "start_time": "2022-02-05T14:34:53.096Z"
   },
   {
    "duration": 80,
    "start_time": "2022-02-05T14:34:53.513Z"
   },
   {
    "duration": 222,
    "start_time": "2022-02-05T14:34:54.201Z"
   },
   {
    "duration": 23,
    "start_time": "2022-02-05T14:34:54.586Z"
   },
   {
    "duration": 6,
    "start_time": "2022-02-05T14:34:55.840Z"
   },
   {
    "duration": 6,
    "start_time": "2022-02-05T14:34:56.356Z"
   },
   {
    "duration": 6,
    "start_time": "2022-02-05T14:34:58.162Z"
   },
   {
    "duration": 10,
    "start_time": "2022-02-05T14:34:59.107Z"
   },
   {
    "duration": 12,
    "start_time": "2022-02-05T14:34:59.704Z"
   },
   {
    "duration": 27,
    "start_time": "2022-02-05T14:35:00.228Z"
   },
   {
    "duration": 2,
    "start_time": "2022-02-05T14:35:00.740Z"
   },
   {
    "duration": 3,
    "start_time": "2022-02-05T14:35:01.121Z"
   },
   {
    "duration": 5,
    "start_time": "2022-02-05T14:35:09.253Z"
   },
   {
    "duration": 47,
    "start_time": "2022-02-05T14:35:09.521Z"
   },
   {
    "duration": 37,
    "start_time": "2022-02-05T14:35:09.697Z"
   },
   {
    "duration": 38,
    "start_time": "2022-02-05T14:35:09.908Z"
   },
   {
    "duration": 29,
    "start_time": "2022-02-05T14:35:10.071Z"
   },
   {
    "duration": 27,
    "start_time": "2022-02-05T14:35:10.261Z"
   },
   {
    "duration": 5,
    "start_time": "2022-02-05T14:35:10.647Z"
   },
   {
    "duration": 5,
    "start_time": "2022-02-05T14:35:11.013Z"
   },
   {
    "duration": 22,
    "start_time": "2022-02-05T14:35:11.876Z"
   },
   {
    "duration": 65,
    "start_time": "2022-02-05T14:35:12.221Z"
   },
   {
    "duration": 4,
    "start_time": "2022-02-05T14:35:12.589Z"
   },
   {
    "duration": 4,
    "start_time": "2022-02-05T14:35:12.765Z"
   },
   {
    "duration": 4,
    "start_time": "2022-02-05T14:35:12.953Z"
   },
   {
    "duration": 268,
    "start_time": "2022-02-05T14:35:13.340Z"
   },
   {
    "duration": 9,
    "start_time": "2022-02-05T14:35:13.690Z"
   },
   {
    "duration": 23,
    "start_time": "2022-02-05T14:35:13.867Z"
   },
   {
    "duration": 3,
    "start_time": "2022-02-05T14:35:14.984Z"
   },
   {
    "duration": 24,
    "start_time": "2022-02-05T14:35:16.740Z"
   },
   {
    "duration": 22,
    "start_time": "2022-02-05T14:35:17.086Z"
   },
   {
    "duration": 38,
    "start_time": "2022-02-05T14:35:17.258Z"
   },
   {
    "duration": 6,
    "start_time": "2022-02-05T14:35:17.455Z"
   },
   {
    "duration": 5,
    "start_time": "2022-02-05T14:35:17.662Z"
   },
   {
    "duration": 32,
    "start_time": "2022-02-05T14:35:17.848Z"
   },
   {
    "duration": 36,
    "start_time": "2022-02-05T14:35:18.213Z"
   },
   {
    "duration": 38,
    "start_time": "2022-02-05T14:35:18.403Z"
   },
   {
    "duration": 5,
    "start_time": "2022-02-05T14:35:18.584Z"
   },
   {
    "duration": 5,
    "start_time": "2022-02-05T14:35:18.768Z"
   },
   {
    "duration": 5,
    "start_time": "2022-02-05T14:35:21.183Z"
   },
   {
    "duration": 5,
    "start_time": "2022-02-05T14:35:21.352Z"
   },
   {
    "duration": 1437,
    "start_time": "2022-02-05T14:35:21.551Z"
   },
   {
    "duration": 312,
    "start_time": "2022-02-05T14:35:22.990Z"
   },
   {
    "duration": 336,
    "start_time": "2022-02-05T14:35:23.305Z"
   },
   {
    "duration": 516,
    "start_time": "2022-02-05T14:35:23.643Z"
   },
   {
    "duration": 389,
    "start_time": "2022-02-05T14:35:24.161Z"
   },
   {
    "duration": 306,
    "start_time": "2022-02-05T14:35:24.552Z"
   },
   {
    "duration": 288,
    "start_time": "2022-02-05T14:35:24.860Z"
   },
   {
    "duration": 302,
    "start_time": "2022-02-05T14:35:25.890Z"
   },
   {
    "duration": 2,
    "start_time": "2022-02-05T14:35:27.413Z"
   },
   {
    "duration": 5,
    "start_time": "2022-02-05T14:40:17.041Z"
   },
   {
    "duration": 841,
    "start_time": "2022-02-05T14:40:17.047Z"
   },
   {
    "duration": 306,
    "start_time": "2022-02-05T14:40:17.890Z"
   },
   {
    "duration": 1292,
    "start_time": "2022-02-05T14:40:18.198Z"
   },
   {
    "duration": 72,
    "start_time": "2022-02-05T14:40:19.491Z"
   },
   {
    "duration": 8,
    "start_time": "2022-02-05T14:40:19.565Z"
   },
   {
    "duration": 78,
    "start_time": "2022-02-05T14:40:19.574Z"
   },
   {
    "duration": 121,
    "start_time": "2022-02-05T14:40:19.654Z"
   },
   {
    "duration": 4,
    "start_time": "2022-02-05T14:40:19.778Z"
   },
   {
    "duration": 68,
    "start_time": "2022-02-05T14:40:19.785Z"
   },
   {
    "duration": 1464,
    "start_time": "2022-02-05T14:40:19.855Z"
   },
   {
    "duration": 565,
    "start_time": "2022-02-05T14:40:21.320Z"
   },
   {
    "duration": 725,
    "start_time": "2022-02-05T14:40:21.887Z"
   },
   {
    "duration": 236,
    "start_time": "2022-02-05T14:40:22.614Z"
   },
   {
    "duration": 857,
    "start_time": "2022-02-05T14:40:22.852Z"
   },
   {
    "duration": 103,
    "start_time": "2022-02-05T14:40:23.711Z"
   },
   {
    "duration": 15,
    "start_time": "2022-02-05T14:40:23.815Z"
   },
   {
    "duration": 5,
    "start_time": "2022-02-05T14:40:23.832Z"
   },
   {
    "duration": 11,
    "start_time": "2022-02-05T14:40:23.838Z"
   },
   {
    "duration": 31,
    "start_time": "2022-02-05T14:40:23.850Z"
   },
   {
    "duration": 76,
    "start_time": "2022-02-05T14:40:23.883Z"
   },
   {
    "duration": 45,
    "start_time": "2022-02-05T14:40:23.960Z"
   },
   {
    "duration": 2,
    "start_time": "2022-02-05T14:40:24.006Z"
   },
   {
    "duration": 5,
    "start_time": "2022-02-05T14:40:24.010Z"
   },
   {
    "duration": 24,
    "start_time": "2022-02-05T14:40:24.016Z"
   },
   {
    "duration": 35745,
    "start_time": "2022-02-05T14:40:24.042Z"
   },
   {
    "duration": -531,
    "start_time": "2022-02-05T14:41:00.320Z"
   },
   {
    "duration": -535,
    "start_time": "2022-02-05T14:41:00.325Z"
   },
   {
    "duration": -538,
    "start_time": "2022-02-05T14:41:00.329Z"
   },
   {
    "duration": -540,
    "start_time": "2022-02-05T14:41:00.332Z"
   },
   {
    "duration": -543,
    "start_time": "2022-02-05T14:41:00.336Z"
   },
   {
    "duration": -545,
    "start_time": "2022-02-05T14:41:00.339Z"
   },
   {
    "duration": -548,
    "start_time": "2022-02-05T14:41:00.343Z"
   },
   {
    "duration": 5,
    "start_time": "2022-02-05T14:41:12.648Z"
   },
   {
    "duration": 339,
    "start_time": "2022-02-05T14:41:12.654Z"
   },
   {
    "duration": 1960,
    "start_time": "2022-02-05T14:41:12.994Z"
   },
   {
    "duration": 217,
    "start_time": "2022-02-05T14:41:14.956Z"
   },
   {
    "duration": 1091,
    "start_time": "2022-02-05T14:41:15.175Z"
   },
   {
    "duration": 8,
    "start_time": "2022-02-05T14:41:16.267Z"
   },
   {
    "duration": 84,
    "start_time": "2022-02-05T14:41:16.276Z"
   },
   {
    "duration": 105,
    "start_time": "2022-02-05T14:41:16.361Z"
   },
   {
    "duration": 4,
    "start_time": "2022-02-05T14:41:16.469Z"
   },
   {
    "duration": 54,
    "start_time": "2022-02-05T14:41:16.475Z"
   },
   {
    "duration": 1435,
    "start_time": "2022-02-05T14:41:16.531Z"
   },
   {
    "duration": 549,
    "start_time": "2022-02-05T14:41:17.967Z"
   },
   {
    "duration": 721,
    "start_time": "2022-02-05T14:41:18.518Z"
   },
   {
    "duration": 234,
    "start_time": "2022-02-05T14:41:19.241Z"
   },
   {
    "duration": 915,
    "start_time": "2022-02-05T14:41:19.477Z"
   },
   {
    "duration": 117,
    "start_time": "2022-02-05T14:41:20.394Z"
   },
   {
    "duration": 15,
    "start_time": "2022-02-05T14:41:20.513Z"
   },
   {
    "duration": 7,
    "start_time": "2022-02-05T14:41:20.531Z"
   },
   {
    "duration": 10,
    "start_time": "2022-02-05T14:41:20.540Z"
   },
   {
    "duration": 33,
    "start_time": "2022-02-05T14:41:20.551Z"
   },
   {
    "duration": 68,
    "start_time": "2022-02-05T14:41:20.586Z"
   },
   {
    "duration": 44,
    "start_time": "2022-02-05T14:41:20.655Z"
   },
   {
    "duration": 2,
    "start_time": "2022-02-05T14:41:20.701Z"
   },
   {
    "duration": 6,
    "start_time": "2022-02-05T14:41:20.704Z"
   },
   {
    "duration": 17,
    "start_time": "2022-02-05T14:41:20.711Z"
   },
   {
    "duration": 6638,
    "start_time": "2022-02-05T14:41:20.729Z"
   },
   {
    "duration": -525,
    "start_time": "2022-02-05T14:41:27.895Z"
   },
   {
    "duration": -528,
    "start_time": "2022-02-05T14:41:27.899Z"
   },
   {
    "duration": -531,
    "start_time": "2022-02-05T14:41:27.903Z"
   },
   {
    "duration": -533,
    "start_time": "2022-02-05T14:41:27.906Z"
   },
   {
    "duration": -536,
    "start_time": "2022-02-05T14:41:27.909Z"
   },
   {
    "duration": -538,
    "start_time": "2022-02-05T14:41:27.912Z"
   },
   {
    "duration": -541,
    "start_time": "2022-02-05T14:41:27.916Z"
   },
   {
    "duration": -544,
    "start_time": "2022-02-05T14:41:27.919Z"
   },
   {
    "duration": -546,
    "start_time": "2022-02-05T14:41:27.922Z"
   },
   {
    "duration": -549,
    "start_time": "2022-02-05T14:41:27.926Z"
   },
   {
    "duration": -556,
    "start_time": "2022-02-05T14:41:27.934Z"
   },
   {
    "duration": -560,
    "start_time": "2022-02-05T14:41:27.938Z"
   },
   {
    "duration": -562,
    "start_time": "2022-02-05T14:41:27.941Z"
   },
   {
    "duration": -564,
    "start_time": "2022-02-05T14:41:27.944Z"
   },
   {
    "duration": -567,
    "start_time": "2022-02-05T14:41:27.948Z"
   },
   {
    "duration": -570,
    "start_time": "2022-02-05T14:41:27.951Z"
   },
   {
    "duration": -572,
    "start_time": "2022-02-05T14:41:27.954Z"
   },
   {
    "duration": -576,
    "start_time": "2022-02-05T14:41:27.959Z"
   },
   {
    "duration": -578,
    "start_time": "2022-02-05T14:41:27.962Z"
   },
   {
    "duration": -581,
    "start_time": "2022-02-05T14:41:27.966Z"
   },
   {
    "duration": -583,
    "start_time": "2022-02-05T14:41:27.969Z"
   },
   {
    "duration": -585,
    "start_time": "2022-02-05T14:41:27.972Z"
   },
   {
    "duration": -589,
    "start_time": "2022-02-05T14:41:27.976Z"
   },
   {
    "duration": -591,
    "start_time": "2022-02-05T14:41:27.979Z"
   },
   {
    "duration": -593,
    "start_time": "2022-02-05T14:41:27.982Z"
   },
   {
    "duration": -596,
    "start_time": "2022-02-05T14:41:27.986Z"
   },
   {
    "duration": -598,
    "start_time": "2022-02-05T14:41:27.989Z"
   },
   {
    "duration": -600,
    "start_time": "2022-02-05T14:41:27.992Z"
   },
   {
    "duration": -603,
    "start_time": "2022-02-05T14:41:27.996Z"
   },
   {
    "duration": -604,
    "start_time": "2022-02-05T14:41:27.999Z"
   },
   {
    "duration": -606,
    "start_time": "2022-02-05T14:41:28.002Z"
   },
   {
    "duration": -610,
    "start_time": "2022-02-05T14:41:28.006Z"
   },
   {
    "duration": -619,
    "start_time": "2022-02-05T14:41:28.016Z"
   },
   {
    "duration": -621,
    "start_time": "2022-02-05T14:41:28.019Z"
   },
   {
    "duration": -623,
    "start_time": "2022-02-05T14:41:28.022Z"
   },
   {
    "duration": -626,
    "start_time": "2022-02-05T14:41:28.026Z"
   },
   {
    "duration": -628,
    "start_time": "2022-02-05T14:41:28.029Z"
   },
   {
    "duration": -631,
    "start_time": "2022-02-05T14:41:28.033Z"
   },
   {
    "duration": -633,
    "start_time": "2022-02-05T14:41:28.036Z"
   },
   {
    "duration": -638,
    "start_time": "2022-02-05T14:41:28.041Z"
   },
   {
    "duration": -640,
    "start_time": "2022-02-05T14:41:28.044Z"
   },
   {
    "duration": -642,
    "start_time": "2022-02-05T14:41:28.047Z"
   },
   {
    "duration": -645,
    "start_time": "2022-02-05T14:41:28.051Z"
   },
   {
    "duration": -647,
    "start_time": "2022-02-05T14:41:28.054Z"
   },
   {
    "duration": -631,
    "start_time": "2022-02-05T14:41:28.057Z"
   },
   {
    "duration": -633,
    "start_time": "2022-02-05T14:41:28.060Z"
   },
   {
    "duration": -636,
    "start_time": "2022-02-05T14:41:28.064Z"
   },
   {
    "duration": -640,
    "start_time": "2022-02-05T14:41:28.068Z"
   },
   {
    "duration": -632,
    "start_time": "2022-02-05T14:41:28.071Z"
   },
   {
    "duration": -635,
    "start_time": "2022-02-05T14:41:28.075Z"
   },
   {
    "duration": -637,
    "start_time": "2022-02-05T14:41:28.078Z"
   },
   {
    "duration": -640,
    "start_time": "2022-02-05T14:41:28.082Z"
   },
   {
    "duration": 54,
    "start_time": "2022-02-05T14:42:06.988Z"
   },
   {
    "duration": 41,
    "start_time": "2022-02-05T14:42:07.457Z"
   },
   {
    "duration": 17,
    "start_time": "2022-02-05T14:42:07.763Z"
   },
   {
    "duration": 24,
    "start_time": "2022-02-05T14:42:08.125Z"
   },
   {
    "duration": 5,
    "start_time": "2022-02-05T14:43:29.347Z"
   },
   {
    "duration": 273,
    "start_time": "2022-02-05T14:43:29.354Z"
   },
   {
    "duration": 297,
    "start_time": "2022-02-05T14:43:29.629Z"
   },
   {
    "duration": 241,
    "start_time": "2022-02-05T14:43:29.928Z"
   },
   {
    "duration": 1068,
    "start_time": "2022-02-05T14:43:30.171Z"
   },
   {
    "duration": 8,
    "start_time": "2022-02-05T14:43:31.241Z"
   },
   {
    "duration": 73,
    "start_time": "2022-02-05T14:43:31.250Z"
   },
   {
    "duration": 12,
    "start_time": "2022-02-05T14:43:31.326Z"
   },
   {
    "duration": 511,
    "start_time": "2022-02-05T14:43:31.340Z"
   },
   {
    "duration": 95,
    "start_time": "2022-02-05T14:43:31.853Z"
   },
   {
    "duration": 412,
    "start_time": "2022-02-05T14:43:31.949Z"
   },
   {
    "duration": 69,
    "start_time": "2022-02-05T14:43:32.363Z"
   },
   {
    "duration": 218,
    "start_time": "2022-02-05T14:43:32.434Z"
   },
   {
    "duration": 21,
    "start_time": "2022-02-05T14:43:32.653Z"
   },
   {
    "duration": 6,
    "start_time": "2022-02-05T14:43:32.676Z"
   },
   {
    "duration": 5,
    "start_time": "2022-02-05T14:43:32.683Z"
   },
   {
    "duration": 5,
    "start_time": "2022-02-05T14:43:32.689Z"
   },
   {
    "duration": 36,
    "start_time": "2022-02-05T14:43:32.695Z"
   },
   {
    "duration": 15,
    "start_time": "2022-02-05T14:43:32.732Z"
   },
   {
    "duration": 21,
    "start_time": "2022-02-05T14:43:32.748Z"
   },
   {
    "duration": 2,
    "start_time": "2022-02-05T14:43:32.770Z"
   },
   {
    "duration": 5,
    "start_time": "2022-02-05T14:43:32.773Z"
   },
   {
    "duration": 5,
    "start_time": "2022-02-05T14:43:32.781Z"
   },
   {
    "duration": 60,
    "start_time": "2022-02-05T14:43:32.788Z"
   },
   {
    "duration": 30,
    "start_time": "2022-02-05T14:43:32.850Z"
   },
   {
    "duration": 33,
    "start_time": "2022-02-05T14:43:32.881Z"
   },
   {
    "duration": 44,
    "start_time": "2022-02-05T14:43:32.915Z"
   },
   {
    "duration": 25,
    "start_time": "2022-02-05T14:43:32.961Z"
   },
   {
    "duration": 5,
    "start_time": "2022-02-05T14:43:32.988Z"
   },
   {
    "duration": 5,
    "start_time": "2022-02-05T14:43:32.994Z"
   },
   {
    "duration": 43,
    "start_time": "2022-02-05T14:43:33.001Z"
   },
   {
    "duration": 63,
    "start_time": "2022-02-05T14:43:33.046Z"
   },
   {
    "duration": 22,
    "start_time": "2022-02-05T14:43:33.110Z"
   },
   {
    "duration": 5,
    "start_time": "2022-02-05T14:43:33.134Z"
   },
   {
    "duration": 8,
    "start_time": "2022-02-05T14:43:33.143Z"
   },
   {
    "duration": 273,
    "start_time": "2022-02-05T14:43:33.152Z"
   },
   {
    "duration": 12,
    "start_time": "2022-02-05T14:43:33.427Z"
   },
   {
    "duration": 30,
    "start_time": "2022-02-05T14:43:33.440Z"
   },
   {
    "duration": 2,
    "start_time": "2022-02-05T14:43:33.472Z"
   },
   {
    "duration": 21,
    "start_time": "2022-02-05T14:43:33.476Z"
   },
   {
    "duration": 47,
    "start_time": "2022-02-05T14:43:33.499Z"
   },
   {
    "duration": 35,
    "start_time": "2022-02-05T14:43:33.548Z"
   },
   {
    "duration": 4,
    "start_time": "2022-02-05T14:43:33.584Z"
   },
   {
    "duration": 5,
    "start_time": "2022-02-05T14:43:33.590Z"
   },
   {
    "duration": 49,
    "start_time": "2022-02-05T14:43:33.596Z"
   },
   {
    "duration": 34,
    "start_time": "2022-02-05T14:43:33.646Z"
   },
   {
    "duration": 51,
    "start_time": "2022-02-05T14:43:33.682Z"
   },
   {
    "duration": 9,
    "start_time": "2022-02-05T14:43:33.735Z"
   },
   {
    "duration": 6,
    "start_time": "2022-02-05T14:43:33.745Z"
   },
   {
    "duration": 7,
    "start_time": "2022-02-05T14:43:33.752Z"
   },
   {
    "duration": 6,
    "start_time": "2022-02-05T14:43:33.760Z"
   },
   {
    "duration": 1449,
    "start_time": "2022-02-05T14:43:33.767Z"
   },
   {
    "duration": 304,
    "start_time": "2022-02-05T14:43:35.217Z"
   },
   {
    "duration": 329,
    "start_time": "2022-02-05T14:43:35.522Z"
   },
   {
    "duration": 326,
    "start_time": "2022-02-05T14:43:35.853Z"
   },
   {
    "duration": 325,
    "start_time": "2022-02-05T14:43:36.181Z"
   },
   {
    "duration": 308,
    "start_time": "2022-02-05T14:43:36.508Z"
   },
   {
    "duration": 288,
    "start_time": "2022-02-05T14:43:36.817Z"
   },
   {
    "duration": 304,
    "start_time": "2022-02-05T14:43:37.107Z"
   },
   {
    "duration": 2,
    "start_time": "2022-02-05T14:43:37.413Z"
   },
   {
    "duration": 17,
    "start_time": "2022-02-05T14:43:37.427Z"
   },
   {
    "duration": 6,
    "start_time": "2022-02-05T14:43:37.446Z"
   },
   {
    "duration": 7,
    "start_time": "2022-02-05T14:43:37.453Z"
   },
   {
    "duration": 5,
    "start_time": "2022-02-05T14:43:37.461Z"
   },
   {
    "duration": 21,
    "start_time": "2022-02-05T14:43:37.467Z"
   },
   {
    "duration": 50,
    "start_time": "2022-02-05T14:43:37.490Z"
   },
   {
    "duration": 5,
    "start_time": "2022-02-05T14:43:37.542Z"
   },
   {
    "duration": 5,
    "start_time": "2022-02-05T14:43:37.551Z"
   },
   {
    "duration": 5,
    "start_time": "2022-02-05T14:43:37.558Z"
   },
   {
    "duration": 5,
    "start_time": "2022-02-05T14:43:37.564Z"
   },
   {
    "duration": 4,
    "start_time": "2022-02-05T14:43:37.571Z"
   },
   {
    "duration": 4,
    "start_time": "2022-02-05T14:43:37.577Z"
   },
   {
    "duration": 451,
    "start_time": "2022-02-05T14:43:37.583Z"
   },
   {
    "duration": 309,
    "start_time": "2022-02-05T14:43:38.036Z"
   },
   {
    "duration": 7,
    "start_time": "2022-02-05T14:43:38.347Z"
   },
   {
    "duration": 5,
    "start_time": "2022-02-05T14:43:38.356Z"
   },
   {
    "duration": 1102,
    "start_time": "2022-02-05T15:41:11.360Z"
   },
   {
    "duration": 372,
    "start_time": "2022-02-05T15:41:12.463Z"
   },
   {
    "duration": 250,
    "start_time": "2022-02-05T15:41:12.840Z"
   },
   {
    "duration": 2094,
    "start_time": "2022-02-05T15:41:13.092Z"
   },
   {
    "duration": 75,
    "start_time": "2022-02-05T15:41:15.188Z"
   },
   {
    "duration": 12,
    "start_time": "2022-02-05T15:41:15.265Z"
   },
   {
    "duration": 84,
    "start_time": "2022-02-05T15:41:15.279Z"
   },
   {
    "duration": 4,
    "start_time": "2022-02-05T15:41:15.366Z"
   },
   {
    "duration": 744,
    "start_time": "2022-02-05T15:41:15.372Z"
   },
   {
    "duration": 97,
    "start_time": "2022-02-05T15:41:16.118Z"
   },
   {
    "duration": 435,
    "start_time": "2022-02-05T15:41:16.216Z"
   },
   {
    "duration": 75,
    "start_time": "2022-02-05T15:41:16.653Z"
   },
   {
    "duration": 230,
    "start_time": "2022-02-05T15:41:16.729Z"
   },
   {
    "duration": 34,
    "start_time": "2022-02-05T15:41:16.960Z"
   },
   {
    "duration": 5,
    "start_time": "2022-02-05T15:41:16.996Z"
   },
   {
    "duration": 7,
    "start_time": "2022-02-05T15:41:17.003Z"
   },
   {
    "duration": 6,
    "start_time": "2022-02-05T15:41:17.011Z"
   },
   {
    "duration": 10,
    "start_time": "2022-02-05T15:41:17.019Z"
   },
   {
    "duration": 51,
    "start_time": "2022-02-05T15:41:17.031Z"
   },
   {
    "duration": 21,
    "start_time": "2022-02-05T15:41:17.083Z"
   },
   {
    "duration": 2,
    "start_time": "2022-02-05T15:41:17.106Z"
   },
   {
    "duration": 2,
    "start_time": "2022-02-05T15:41:17.111Z"
   },
   {
    "duration": 5,
    "start_time": "2022-02-05T15:41:17.115Z"
   },
   {
    "duration": 73,
    "start_time": "2022-02-05T15:41:17.122Z"
   },
   {
    "duration": 32,
    "start_time": "2022-02-05T15:41:17.197Z"
   },
   {
    "duration": 45,
    "start_time": "2022-02-05T15:41:17.230Z"
   },
   {
    "duration": 29,
    "start_time": "2022-02-05T15:41:17.276Z"
   },
   {
    "duration": 25,
    "start_time": "2022-02-05T15:41:17.307Z"
   },
   {
    "duration": 4,
    "start_time": "2022-02-05T15:41:17.334Z"
   },
   {
    "duration": 32,
    "start_time": "2022-02-05T15:41:17.340Z"
   },
   {
    "duration": 21,
    "start_time": "2022-02-05T15:41:17.374Z"
   },
   {
    "duration": 81,
    "start_time": "2022-02-05T15:41:17.396Z"
   },
   {
    "duration": 3,
    "start_time": "2022-02-05T15:41:17.479Z"
   },
   {
    "duration": 4,
    "start_time": "2022-02-05T15:41:17.483Z"
   },
   {
    "duration": 4,
    "start_time": "2022-02-05T15:41:17.489Z"
   },
   {
    "duration": 280,
    "start_time": "2022-02-05T15:41:17.495Z"
   },
   {
    "duration": 10,
    "start_time": "2022-02-05T15:41:17.777Z"
   },
   {
    "duration": 26,
    "start_time": "2022-02-05T15:41:17.789Z"
   },
   {
    "duration": 2,
    "start_time": "2022-02-05T15:41:17.817Z"
   },
   {
    "duration": 51,
    "start_time": "2022-02-05T15:41:17.821Z"
   },
   {
    "duration": 22,
    "start_time": "2022-02-05T15:41:17.874Z"
   },
   {
    "duration": 36,
    "start_time": "2022-02-05T15:41:17.897Z"
   },
   {
    "duration": 5,
    "start_time": "2022-02-05T15:41:17.934Z"
   },
   {
    "duration": 33,
    "start_time": "2022-02-05T15:41:17.940Z"
   },
   {
    "duration": 31,
    "start_time": "2022-02-05T15:41:17.974Z"
   },
   {
    "duration": 32,
    "start_time": "2022-02-05T15:41:18.007Z"
   },
   {
    "duration": 62,
    "start_time": "2022-02-05T15:41:18.040Z"
   },
   {
    "duration": 4,
    "start_time": "2022-02-05T15:41:18.104Z"
   },
   {
    "duration": 6,
    "start_time": "2022-02-05T15:41:18.110Z"
   },
   {
    "duration": 6,
    "start_time": "2022-02-05T15:41:18.118Z"
   },
   {
    "duration": 5,
    "start_time": "2022-02-05T15:41:18.126Z"
   },
   {
    "duration": 2317,
    "start_time": "2022-02-05T15:41:18.132Z"
   },
   {
    "duration": 468,
    "start_time": "2022-02-05T15:41:20.451Z"
   },
   {
    "duration": 514,
    "start_time": "2022-02-05T15:41:20.921Z"
   },
   {
    "duration": 508,
    "start_time": "2022-02-05T15:41:21.437Z"
   },
   {
    "duration": 513,
    "start_time": "2022-02-05T15:41:21.947Z"
   },
   {
    "duration": 295,
    "start_time": "2022-02-05T15:41:22.462Z"
   },
   {
    "duration": 295,
    "start_time": "2022-02-05T15:41:22.758Z"
   },
   {
    "duration": 303,
    "start_time": "2022-02-05T15:41:23.054Z"
   },
   {
    "duration": 2,
    "start_time": "2022-02-05T15:41:23.359Z"
   },
   {
    "duration": 12,
    "start_time": "2022-02-05T15:41:23.363Z"
   },
   {
    "duration": 4,
    "start_time": "2022-02-05T15:41:23.377Z"
   },
   {
    "duration": 8,
    "start_time": "2022-02-05T15:41:23.383Z"
   },
   {
    "duration": 5,
    "start_time": "2022-02-05T15:41:23.393Z"
   },
   {
    "duration": 22,
    "start_time": "2022-02-05T15:41:23.400Z"
   },
   {
    "duration": 58,
    "start_time": "2022-02-05T15:41:23.424Z"
   },
   {
    "duration": 5,
    "start_time": "2022-02-05T15:41:23.487Z"
   },
   {
    "duration": 6,
    "start_time": "2022-02-05T15:41:23.493Z"
   },
   {
    "duration": 5,
    "start_time": "2022-02-05T15:41:23.501Z"
   },
   {
    "duration": 8,
    "start_time": "2022-02-05T15:41:23.507Z"
   },
   {
    "duration": 10,
    "start_time": "2022-02-05T15:41:23.516Z"
   },
   {
    "duration": 9,
    "start_time": "2022-02-05T15:41:23.528Z"
   },
   {
    "duration": 390,
    "start_time": "2022-02-05T15:41:23.538Z"
   },
   {
    "duration": 324,
    "start_time": "2022-02-05T15:41:23.929Z"
   },
   {
    "duration": 20,
    "start_time": "2022-02-05T15:41:24.254Z"
   },
   {
    "duration": 6,
    "start_time": "2022-02-05T15:41:24.275Z"
   },
   {
    "duration": 80,
    "start_time": "2022-02-05T15:41:38.726Z"
   },
   {
    "duration": 555,
    "start_time": "2022-02-05T15:41:43.817Z"
   },
   {
    "duration": 490,
    "start_time": "2022-02-05T15:41:57.636Z"
   },
   {
    "duration": 1112,
    "start_time": "2022-02-05T15:55:15.060Z"
   },
   {
    "duration": 321,
    "start_time": "2022-02-05T15:55:16.174Z"
   },
   {
    "duration": 347,
    "start_time": "2022-02-05T15:55:16.500Z"
   },
   {
    "duration": 208,
    "start_time": "2022-02-05T15:55:16.849Z"
   },
   {
    "duration": 63,
    "start_time": "2022-02-05T15:55:17.059Z"
   },
   {
    "duration": 13,
    "start_time": "2022-02-05T15:55:17.124Z"
   },
   {
    "duration": 1633,
    "start_time": "2022-02-05T15:55:17.140Z"
   },
   {
    "duration": 3,
    "start_time": "2022-02-05T15:55:18.776Z"
   },
   {
    "duration": 3,
    "start_time": "2022-02-05T15:55:18.782Z"
   },
   {
    "duration": 394,
    "start_time": "2022-02-05T15:55:18.787Z"
   },
   {
    "duration": -387,
    "start_time": "2022-02-05T15:55:19.573Z"
   },
   {
    "duration": -404,
    "start_time": "2022-02-05T15:55:19.591Z"
   },
   {
    "duration": -419,
    "start_time": "2022-02-05T15:55:19.607Z"
   },
   {
    "duration": -430,
    "start_time": "2022-02-05T15:55:19.620Z"
   },
   {
    "duration": -436,
    "start_time": "2022-02-05T15:55:19.627Z"
   },
   {
    "duration": -440,
    "start_time": "2022-02-05T15:55:19.632Z"
   },
   {
    "duration": -444,
    "start_time": "2022-02-05T15:55:19.638Z"
   },
   {
    "duration": -447,
    "start_time": "2022-02-05T15:55:19.642Z"
   },
   {
    "duration": -450,
    "start_time": "2022-02-05T15:55:19.646Z"
   },
   {
    "duration": -453,
    "start_time": "2022-02-05T15:55:19.651Z"
   },
   {
    "duration": -458,
    "start_time": "2022-02-05T15:55:19.657Z"
   },
   {
    "duration": -461,
    "start_time": "2022-02-05T15:55:19.661Z"
   },
   {
    "duration": -464,
    "start_time": "2022-02-05T15:55:19.665Z"
   },
   {
    "duration": -468,
    "start_time": "2022-02-05T15:55:19.671Z"
   },
   {
    "duration": -471,
    "start_time": "2022-02-05T15:55:19.675Z"
   },
   {
    "duration": -473,
    "start_time": "2022-02-05T15:55:19.678Z"
   },
   {
    "duration": -476,
    "start_time": "2022-02-05T15:55:19.682Z"
   },
   {
    "duration": -481,
    "start_time": "2022-02-05T15:55:19.688Z"
   },
   {
    "duration": -483,
    "start_time": "2022-02-05T15:55:19.692Z"
   },
   {
    "duration": -485,
    "start_time": "2022-02-05T15:55:19.695Z"
   },
   {
    "duration": -487,
    "start_time": "2022-02-05T15:55:19.698Z"
   },
   {
    "duration": -492,
    "start_time": "2022-02-05T15:55:19.704Z"
   },
   {
    "duration": -495,
    "start_time": "2022-02-05T15:55:19.708Z"
   },
   {
    "duration": -497,
    "start_time": "2022-02-05T15:55:19.711Z"
   },
   {
    "duration": -498,
    "start_time": "2022-02-05T15:55:19.714Z"
   },
   {
    "duration": -524,
    "start_time": "2022-02-05T15:55:19.741Z"
   },
   {
    "duration": -527,
    "start_time": "2022-02-05T15:55:19.746Z"
   },
   {
    "duration": -530,
    "start_time": "2022-02-05T15:55:19.750Z"
   },
   {
    "duration": -535,
    "start_time": "2022-02-05T15:55:19.756Z"
   },
   {
    "duration": -538,
    "start_time": "2022-02-05T15:55:19.760Z"
   },
   {
    "duration": -541,
    "start_time": "2022-02-05T15:55:19.764Z"
   },
   {
    "duration": -545,
    "start_time": "2022-02-05T15:55:19.769Z"
   },
   {
    "duration": -549,
    "start_time": "2022-02-05T15:55:19.774Z"
   },
   {
    "duration": -506,
    "start_time": "2022-02-05T15:55:19.777Z"
   },
   {
    "duration": -509,
    "start_time": "2022-02-05T15:55:19.781Z"
   },
   {
    "duration": -514,
    "start_time": "2022-02-05T15:55:19.787Z"
   },
   {
    "duration": -517,
    "start_time": "2022-02-05T15:55:19.791Z"
   },
   {
    "duration": -520,
    "start_time": "2022-02-05T15:55:19.795Z"
   },
   {
    "duration": -523,
    "start_time": "2022-02-05T15:55:19.799Z"
   },
   {
    "duration": -527,
    "start_time": "2022-02-05T15:55:19.804Z"
   },
   {
    "duration": -530,
    "start_time": "2022-02-05T15:55:19.808Z"
   },
   {
    "duration": -533,
    "start_time": "2022-02-05T15:55:19.811Z"
   },
   {
    "duration": -536,
    "start_time": "2022-02-05T15:55:19.815Z"
   },
   {
    "duration": -540,
    "start_time": "2022-02-05T15:55:19.820Z"
   },
   {
    "duration": -543,
    "start_time": "2022-02-05T15:55:19.824Z"
   },
   {
    "duration": -545,
    "start_time": "2022-02-05T15:55:19.827Z"
   },
   {
    "duration": -548,
    "start_time": "2022-02-05T15:55:19.831Z"
   },
   {
    "duration": -551,
    "start_time": "2022-02-05T15:55:19.835Z"
   },
   {
    "duration": -555,
    "start_time": "2022-02-05T15:55:19.840Z"
   },
   {
    "duration": -558,
    "start_time": "2022-02-05T15:55:19.844Z"
   },
   {
    "duration": -560,
    "start_time": "2022-02-05T15:55:19.847Z"
   },
   {
    "duration": -564,
    "start_time": "2022-02-05T15:55:19.852Z"
   },
   {
    "duration": -568,
    "start_time": "2022-02-05T15:55:19.857Z"
   },
   {
    "duration": -570,
    "start_time": "2022-02-05T15:55:19.860Z"
   },
   {
    "duration": -573,
    "start_time": "2022-02-05T15:55:19.864Z"
   },
   {
    "duration": -576,
    "start_time": "2022-02-05T15:55:19.868Z"
   },
   {
    "duration": -580,
    "start_time": "2022-02-05T15:55:19.873Z"
   },
   {
    "duration": -583,
    "start_time": "2022-02-05T15:55:19.877Z"
   },
   {
    "duration": -587,
    "start_time": "2022-02-05T15:55:19.881Z"
   },
   {
    "duration": -590,
    "start_time": "2022-02-05T15:55:19.885Z"
   },
   {
    "duration": -594,
    "start_time": "2022-02-05T15:55:19.890Z"
   },
   {
    "duration": -597,
    "start_time": "2022-02-05T15:55:19.894Z"
   },
   {
    "duration": -599,
    "start_time": "2022-02-05T15:55:19.897Z"
   },
   {
    "duration": -603,
    "start_time": "2022-02-05T15:55:19.901Z"
   },
   {
    "duration": -608,
    "start_time": "2022-02-05T15:55:19.907Z"
   },
   {
    "duration": -611,
    "start_time": "2022-02-05T15:55:19.911Z"
   },
   {
    "duration": 35,
    "start_time": "2022-02-05T16:05:56.088Z"
   },
   {
    "duration": 26,
    "start_time": "2022-02-05T16:10:30.937Z"
   },
   {
    "duration": 248,
    "start_time": "2022-02-05T16:10:40.421Z"
   },
   {
    "duration": 276,
    "start_time": "2022-02-05T16:11:05.737Z"
   },
   {
    "duration": 264,
    "start_time": "2022-02-05T16:11:10.531Z"
   },
   {
    "duration": 247,
    "start_time": "2022-02-05T16:11:13.371Z"
   },
   {
    "duration": 229,
    "start_time": "2022-02-05T16:11:42.277Z"
   },
   {
    "duration": 233,
    "start_time": "2022-02-05T16:11:46.738Z"
   },
   {
    "duration": 105,
    "start_time": "2022-02-05T16:12:15.629Z"
   },
   {
    "duration": 28,
    "start_time": "2022-02-05T16:13:18.429Z"
   },
   {
    "duration": 26,
    "start_time": "2022-02-05T16:13:58.459Z"
   },
   {
    "duration": 5,
    "start_time": "2022-02-05T16:14:56.013Z"
   },
   {
    "duration": 17,
    "start_time": "2022-02-05T16:15:45.411Z"
   },
   {
    "duration": 5,
    "start_time": "2022-02-05T16:15:52.911Z"
   },
   {
    "duration": 8,
    "start_time": "2022-02-05T16:18:26.097Z"
   },
   {
    "duration": 49,
    "start_time": "2022-02-05T16:19:20.093Z"
   },
   {
    "duration": 6,
    "start_time": "2022-02-05T16:19:45.049Z"
   },
   {
    "duration": 140,
    "start_time": "2022-02-05T16:20:59.285Z"
   },
   {
    "duration": 87,
    "start_time": "2022-02-05T16:22:05.364Z"
   },
   {
    "duration": 8,
    "start_time": "2022-02-05T16:22:48.069Z"
   },
   {
    "duration": 7,
    "start_time": "2022-02-05T16:23:16.420Z"
   },
   {
    "duration": 7,
    "start_time": "2022-02-05T16:23:30.516Z"
   },
   {
    "duration": 7,
    "start_time": "2022-02-05T16:23:31.802Z"
   },
   {
    "duration": 6,
    "start_time": "2022-02-05T16:25:03.879Z"
   },
   {
    "duration": 130,
    "start_time": "2022-02-05T16:38:43.998Z"
   },
   {
    "duration": 12,
    "start_time": "2022-02-05T16:38:54.909Z"
   },
   {
    "duration": 14,
    "start_time": "2022-02-05T16:39:13.188Z"
   },
   {
    "duration": 27,
    "start_time": "2022-02-05T16:47:49.684Z"
   },
   {
    "duration": 22,
    "start_time": "2022-02-05T16:47:50.539Z"
   },
   {
    "duration": 19,
    "start_time": "2022-02-05T16:47:51.245Z"
   },
   {
    "duration": 290,
    "start_time": "2022-02-05T16:47:51.915Z"
   },
   {
    "duration": 258,
    "start_time": "2022-02-05T16:47:54.660Z"
   },
   {
    "duration": 5,
    "start_time": "2022-02-05T16:48:13.051Z"
   },
   {
    "duration": 5,
    "start_time": "2022-02-05T16:48:14.195Z"
   },
   {
    "duration": 5,
    "start_time": "2022-02-05T16:48:42.004Z"
   },
   {
    "duration": 21,
    "start_time": "2022-02-05T16:50:55.236Z"
   },
   {
    "duration": 14,
    "start_time": "2022-02-05T16:51:30.837Z"
   },
   {
    "duration": 17,
    "start_time": "2022-02-05T16:51:57.468Z"
   },
   {
    "duration": 267,
    "start_time": "2022-02-05T16:52:43.581Z"
   },
   {
    "duration": 3,
    "start_time": "2022-02-05T16:52:59.348Z"
   },
   {
    "duration": 7,
    "start_time": "2022-02-05T17:00:23.895Z"
   },
   {
    "duration": 24,
    "start_time": "2022-02-05T17:00:52.751Z"
   },
   {
    "duration": 22,
    "start_time": "2022-02-05T17:01:36.015Z"
   },
   {
    "duration": 1038,
    "start_time": "2022-02-05T17:02:48.869Z"
   },
   {
    "duration": 20,
    "start_time": "2022-02-05T17:03:06.112Z"
   },
   {
    "duration": 1049,
    "start_time": "2022-02-05T17:04:12.931Z"
   },
   {
    "duration": 25,
    "start_time": "2022-02-05T17:04:20.348Z"
   },
   {
    "duration": 271,
    "start_time": "2022-02-05T17:04:47.790Z"
   },
   {
    "duration": 8,
    "start_time": "2022-02-05T17:04:53.024Z"
   },
   {
    "duration": 8,
    "start_time": "2022-02-05T17:05:11.815Z"
   },
   {
    "duration": 6,
    "start_time": "2022-02-05T17:05:19.295Z"
   },
   {
    "duration": 22,
    "start_time": "2022-02-05T17:06:00.527Z"
   },
   {
    "duration": 20,
    "start_time": "2022-02-05T17:06:17.208Z"
   },
   {
    "duration": 98,
    "start_time": "2022-02-05T17:07:20.182Z"
   },
   {
    "duration": 19,
    "start_time": "2022-02-05T17:07:24.024Z"
   },
   {
    "duration": 13,
    "start_time": "2022-02-05T17:36:36.033Z"
   },
   {
    "duration": 21,
    "start_time": "2022-02-05T17:36:39.759Z"
   },
   {
    "duration": 17,
    "start_time": "2022-02-05T17:36:48.994Z"
   },
   {
    "duration": 17,
    "start_time": "2022-02-05T17:36:53.753Z"
   },
   {
    "duration": 85,
    "start_time": "2022-02-05T17:36:59.708Z"
   },
   {
    "duration": 21,
    "start_time": "2022-02-05T17:37:01.814Z"
   },
   {
    "duration": 25,
    "start_time": "2022-02-05T17:37:16.982Z"
   },
   {
    "duration": 27,
    "start_time": "2022-02-05T17:37:26.679Z"
   },
   {
    "duration": 4,
    "start_time": "2022-02-05T17:38:40.458Z"
   },
   {
    "duration": 4,
    "start_time": "2022-02-05T17:39:07.151Z"
   },
   {
    "duration": 272,
    "start_time": "2022-02-05T17:39:14.495Z"
   },
   {
    "duration": 269,
    "start_time": "2022-02-05T17:41:13.055Z"
   },
   {
    "duration": 282,
    "start_time": "2022-02-05T17:41:20.113Z"
   },
   {
    "duration": 264,
    "start_time": "2022-02-05T17:41:53.554Z"
   },
   {
    "duration": 270,
    "start_time": "2022-02-05T17:42:04.153Z"
   },
   {
    "duration": 13,
    "start_time": "2022-02-05T17:42:26.338Z"
   },
   {
    "duration": 7653,
    "start_time": "2022-02-05T17:44:33.186Z"
   },
   {
    "duration": 7467,
    "start_time": "2022-02-05T17:45:20.016Z"
   },
   {
    "duration": 7,
    "start_time": "2022-02-05T17:47:42.289Z"
   },
   {
    "duration": 516,
    "start_time": "2022-02-05T17:48:18.272Z"
   },
   {
    "duration": 80,
    "start_time": "2022-02-05T17:51:21.952Z"
   },
   {
    "duration": 8,
    "start_time": "2022-02-05T17:51:38.019Z"
   },
   {
    "duration": 95,
    "start_time": "2022-02-05T17:51:56.435Z"
   },
   {
    "duration": 106,
    "start_time": "2022-02-05T17:52:20.874Z"
   },
   {
    "duration": 90,
    "start_time": "2022-02-05T17:52:29.049Z"
   },
   {
    "duration": 83,
    "start_time": "2022-02-05T17:52:32.591Z"
   },
   {
    "duration": 7,
    "start_time": "2022-02-05T17:52:57.003Z"
   },
   {
    "duration": 7,
    "start_time": "2022-02-05T17:53:05.760Z"
   },
   {
    "duration": 6,
    "start_time": "2022-02-05T17:53:21.889Z"
   },
   {
    "duration": 4,
    "start_time": "2022-02-05T17:53:45.162Z"
   },
   {
    "duration": 4,
    "start_time": "2022-02-05T17:54:02.857Z"
   },
   {
    "duration": 9,
    "start_time": "2022-02-05T17:54:35.544Z"
   },
   {
    "duration": 7794,
    "start_time": "2022-02-05T17:54:46.731Z"
   },
   {
    "duration": 7558,
    "start_time": "2022-02-05T17:55:04.195Z"
   },
   {
    "duration": 281,
    "start_time": "2022-02-05T17:56:58.765Z"
   },
   {
    "duration": 23,
    "start_time": "2022-02-05T18:03:05.890Z"
   },
   {
    "duration": 27,
    "start_time": "2022-02-05T18:03:45.292Z"
   },
   {
    "duration": 4,
    "start_time": "2022-02-05T18:03:54.050Z"
   },
   {
    "duration": 4,
    "start_time": "2022-02-05T18:03:56.535Z"
   },
   {
    "duration": 6,
    "start_time": "2022-02-05T18:03:57.705Z"
   },
   {
    "duration": 8,
    "start_time": "2022-02-05T18:04:05.266Z"
   },
   {
    "duration": 7,
    "start_time": "2022-02-05T18:04:07.930Z"
   },
   {
    "duration": 4,
    "start_time": "2022-02-05T18:04:09.297Z"
   },
   {
    "duration": 8,
    "start_time": "2022-02-05T18:04:10.372Z"
   },
   {
    "duration": 281,
    "start_time": "2022-02-05T18:04:13.514Z"
   },
   {
    "duration": 29,
    "start_time": "2022-02-05T18:06:10.315Z"
   },
   {
    "duration": 13,
    "start_time": "2022-02-05T18:06:30.769Z"
   },
   {
    "duration": 23,
    "start_time": "2022-02-05T18:06:32.298Z"
   },
   {
    "duration": 10,
    "start_time": "2022-02-05T18:11:02.335Z"
   },
   {
    "duration": 8,
    "start_time": "2022-02-05T18:11:09.546Z"
   },
   {
    "duration": 1134,
    "start_time": "2022-02-05T18:11:23.141Z"
   },
   {
    "duration": 3,
    "start_time": "2022-02-05T18:11:24.276Z"
   },
   {
    "duration": 316,
    "start_time": "2022-02-05T18:11:24.280Z"
   },
   {
    "duration": 440,
    "start_time": "2022-02-05T18:11:24.598Z"
   },
   {
    "duration": 1410,
    "start_time": "2022-02-05T18:11:25.040Z"
   },
   {
    "duration": 67,
    "start_time": "2022-02-05T18:11:26.452Z"
   },
   {
    "duration": 12,
    "start_time": "2022-02-05T18:11:26.521Z"
   },
   {
    "duration": 82,
    "start_time": "2022-02-05T18:11:26.536Z"
   },
   {
    "duration": 5,
    "start_time": "2022-02-05T18:11:26.620Z"
   },
   {
    "duration": 157,
    "start_time": "2022-02-05T18:11:26.627Z"
   },
   {
    "duration": 2,
    "start_time": "2022-02-05T18:11:26.785Z"
   },
   {
    "duration": 4,
    "start_time": "2022-02-05T18:11:26.789Z"
   },
   {
    "duration": 282,
    "start_time": "2022-02-05T18:11:26.794Z"
   },
   {
    "duration": 146,
    "start_time": "2022-02-05T18:11:27.078Z"
   },
   {
    "duration": 114,
    "start_time": "2022-02-05T18:11:27.226Z"
   },
   {
    "duration": 39,
    "start_time": "2022-02-05T18:11:27.341Z"
   },
   {
    "duration": 8,
    "start_time": "2022-02-05T18:11:27.381Z"
   },
   {
    "duration": 5,
    "start_time": "2022-02-05T18:11:27.390Z"
   },
   {
    "duration": 5,
    "start_time": "2022-02-05T18:11:27.397Z"
   },
   {
    "duration": 5,
    "start_time": "2022-02-05T18:11:27.403Z"
   },
   {
    "duration": 4,
    "start_time": "2022-02-05T18:11:27.409Z"
   },
   {
    "duration": 60,
    "start_time": "2022-02-05T18:11:27.414Z"
   },
   {
    "duration": 25,
    "start_time": "2022-02-05T18:11:27.477Z"
   },
   {
    "duration": 20,
    "start_time": "2022-02-05T18:11:27.505Z"
   },
   {
    "duration": 17,
    "start_time": "2022-02-05T18:11:27.526Z"
   },
   {
    "duration": 29,
    "start_time": "2022-02-05T18:11:27.544Z"
   },
   {
    "duration": 6,
    "start_time": "2022-02-05T18:11:27.574Z"
   },
   {
    "duration": 6,
    "start_time": "2022-02-05T18:11:27.581Z"
   },
   {
    "duration": 21,
    "start_time": "2022-02-05T18:11:27.588Z"
   },
   {
    "duration": 13,
    "start_time": "2022-02-05T18:11:27.610Z"
   },
   {
    "duration": 15,
    "start_time": "2022-02-05T18:11:27.624Z"
   },
   {
    "duration": 31,
    "start_time": "2022-02-05T18:11:27.640Z"
   },
   {
    "duration": 28,
    "start_time": "2022-02-05T18:11:27.672Z"
   },
   {
    "duration": 18,
    "start_time": "2022-02-05T18:11:27.701Z"
   },
   {
    "duration": 19,
    "start_time": "2022-02-05T18:11:27.720Z"
   },
   {
    "duration": 55,
    "start_time": "2022-02-05T18:11:27.740Z"
   },
   {
    "duration": 3,
    "start_time": "2022-02-05T18:11:27.797Z"
   },
   {
    "duration": 4,
    "start_time": "2022-02-05T18:11:27.801Z"
   },
   {
    "duration": 7,
    "start_time": "2022-02-05T18:11:27.807Z"
   },
   {
    "duration": 453,
    "start_time": "2022-02-05T18:11:27.815Z"
   },
   {
    "duration": 8,
    "start_time": "2022-02-05T18:11:28.270Z"
   },
   {
    "duration": 4,
    "start_time": "2022-02-05T18:11:28.279Z"
   },
   {
    "duration": 9,
    "start_time": "2022-02-05T18:11:28.284Z"
   },
   {
    "duration": 304,
    "start_time": "2022-02-05T18:11:28.294Z"
   },
   {
    "duration": 14,
    "start_time": "2022-02-05T18:11:28.600Z"
   },
   {
    "duration": 28,
    "start_time": "2022-02-05T18:11:28.616Z"
   },
   {
    "duration": 26,
    "start_time": "2022-02-05T18:11:28.646Z"
   },
   {
    "duration": 357,
    "start_time": "2022-02-05T18:11:28.673Z"
   },
   {
    "duration": -384,
    "start_time": "2022-02-05T18:11:29.416Z"
   },
   {
    "duration": -390,
    "start_time": "2022-02-05T18:11:29.423Z"
   },
   {
    "duration": -395,
    "start_time": "2022-02-05T18:11:29.429Z"
   },
   {
    "duration": -400,
    "start_time": "2022-02-05T18:11:29.435Z"
   },
   {
    "duration": -404,
    "start_time": "2022-02-05T18:11:29.440Z"
   },
   {
    "duration": -408,
    "start_time": "2022-02-05T18:11:29.445Z"
   },
   {
    "duration": -413,
    "start_time": "2022-02-05T18:11:29.451Z"
   },
   {
    "duration": -417,
    "start_time": "2022-02-05T18:11:29.456Z"
   },
   {
    "duration": -421,
    "start_time": "2022-02-05T18:11:29.461Z"
   },
   {
    "duration": -426,
    "start_time": "2022-02-05T18:11:29.467Z"
   },
   {
    "duration": -429,
    "start_time": "2022-02-05T18:11:29.471Z"
   },
   {
    "duration": -433,
    "start_time": "2022-02-05T18:11:29.476Z"
   },
   {
    "duration": -438,
    "start_time": "2022-02-05T18:11:29.482Z"
   },
   {
    "duration": -443,
    "start_time": "2022-02-05T18:11:29.488Z"
   },
   {
    "duration": -446,
    "start_time": "2022-02-05T18:11:29.492Z"
   },
   {
    "duration": -450,
    "start_time": "2022-02-05T18:11:29.498Z"
   },
   {
    "duration": -455,
    "start_time": "2022-02-05T18:11:29.504Z"
   },
   {
    "duration": -460,
    "start_time": "2022-02-05T18:11:29.510Z"
   },
   {
    "duration": -465,
    "start_time": "2022-02-05T18:11:29.516Z"
   },
   {
    "duration": -469,
    "start_time": "2022-02-05T18:11:29.521Z"
   },
   {
    "duration": -472,
    "start_time": "2022-02-05T18:11:29.525Z"
   },
   {
    "duration": -477,
    "start_time": "2022-02-05T18:11:29.531Z"
   },
   {
    "duration": -482,
    "start_time": "2022-02-05T18:11:29.537Z"
   },
   {
    "duration": -485,
    "start_time": "2022-02-05T18:11:29.541Z"
   },
   {
    "duration": -490,
    "start_time": "2022-02-05T18:11:29.547Z"
   },
   {
    "duration": -494,
    "start_time": "2022-02-05T18:11:29.552Z"
   },
   {
    "duration": -498,
    "start_time": "2022-02-05T18:11:29.557Z"
   },
   {
    "duration": -503,
    "start_time": "2022-02-05T18:11:29.562Z"
   },
   {
    "duration": -509,
    "start_time": "2022-02-05T18:11:29.569Z"
   },
   {
    "duration": -513,
    "start_time": "2022-02-05T18:11:29.574Z"
   },
   {
    "duration": -517,
    "start_time": "2022-02-05T18:11:29.579Z"
   },
   {
    "duration": -522,
    "start_time": "2022-02-05T18:11:29.585Z"
   },
   {
    "duration": -533,
    "start_time": "2022-02-05T18:11:29.597Z"
   },
   {
    "duration": -538,
    "start_time": "2022-02-05T18:11:29.603Z"
   },
   {
    "duration": -542,
    "start_time": "2022-02-05T18:11:29.608Z"
   },
   {
    "duration": -547,
    "start_time": "2022-02-05T18:11:29.614Z"
   },
   {
    "duration": 541,
    "start_time": "2022-02-05T18:13:45.221Z"
   },
   {
    "duration": 29,
    "start_time": "2022-02-05T18:13:54.788Z"
   },
   {
    "duration": 25,
    "start_time": "2022-02-05T18:14:13.474Z"
   },
   {
    "duration": 23,
    "start_time": "2022-02-05T18:14:19.872Z"
   },
   {
    "duration": 23,
    "start_time": "2022-02-05T18:14:30.284Z"
   },
   {
    "duration": 23,
    "start_time": "2022-02-05T18:14:35.038Z"
   },
   {
    "duration": 292,
    "start_time": "2022-02-05T18:14:48.533Z"
   },
   {
    "duration": 40,
    "start_time": "2022-02-05T18:14:52.148Z"
   },
   {
    "duration": 5,
    "start_time": "2022-02-05T18:15:11.899Z"
   },
   {
    "duration": 6,
    "start_time": "2022-02-05T18:15:12.812Z"
   },
   {
    "duration": 35,
    "start_time": "2022-02-05T18:15:13.851Z"
   },
   {
    "duration": 293,
    "start_time": "2022-02-05T18:15:39.580Z"
   },
   {
    "duration": 33,
    "start_time": "2022-02-05T18:15:44.067Z"
   },
   {
    "duration": 33,
    "start_time": "2022-02-05T18:15:55.060Z"
   },
   {
    "duration": 5,
    "start_time": "2022-02-05T18:16:00.339Z"
   },
   {
    "duration": 5,
    "start_time": "2022-02-05T18:16:01.660Z"
   },
   {
    "duration": 6,
    "start_time": "2022-02-05T18:16:03.156Z"
   },
   {
    "duration": 5,
    "start_time": "2022-02-05T18:16:04.184Z"
   },
   {
    "duration": 1399,
    "start_time": "2022-02-05T18:16:15.933Z"
   },
   {
    "duration": 292,
    "start_time": "2022-02-05T18:16:47.123Z"
   },
   {
    "duration": 325,
    "start_time": "2022-02-05T18:16:55.683Z"
   },
   {
    "duration": 330,
    "start_time": "2022-02-05T18:17:04.427Z"
   },
   {
    "duration": 315,
    "start_time": "2022-02-05T18:17:14.443Z"
   },
   {
    "duration": 307,
    "start_time": "2022-02-05T18:17:16.077Z"
   },
   {
    "duration": 295,
    "start_time": "2022-02-05T18:17:18.098Z"
   },
   {
    "duration": 371,
    "start_time": "2022-02-05T18:17:20.467Z"
   },
   {
    "duration": 6,
    "start_time": "2022-02-05T18:43:14.125Z"
   },
   {
    "duration": 8,
    "start_time": "2022-02-05T18:43:15.340Z"
   },
   {
    "duration": 5,
    "start_time": "2022-02-05T18:43:20.812Z"
   },
   {
    "duration": 31,
    "start_time": "2022-02-05T18:43:37.981Z"
   },
   {
    "duration": 21,
    "start_time": "2022-02-05T18:43:42.461Z"
   },
   {
    "duration": 6,
    "start_time": "2022-02-05T18:44:06.093Z"
   },
   {
    "duration": 6,
    "start_time": "2022-02-05T18:44:07.124Z"
   },
   {
    "duration": 7,
    "start_time": "2022-02-05T18:44:07.907Z"
   },
   {
    "duration": 7,
    "start_time": "2022-02-05T18:44:09.480Z"
   },
   {
    "duration": 4,
    "start_time": "2022-02-05T18:44:10.276Z"
   },
   {
    "duration": 4,
    "start_time": "2022-02-05T18:44:11.716Z"
   },
   {
    "duration": 322,
    "start_time": "2022-02-05T18:44:22.395Z"
   },
   {
    "duration": 328,
    "start_time": "2022-02-05T18:44:31.269Z"
   },
   {
    "duration": 8,
    "start_time": "2022-02-05T18:44:38.972Z"
   },
   {
    "duration": 5,
    "start_time": "2022-02-05T18:44:44.397Z"
   },
   {
    "duration": 6,
    "start_time": "2022-02-05T18:46:24.733Z"
   },
   {
    "duration": 1135,
    "start_time": "2022-02-05T18:49:48.844Z"
   },
   {
    "duration": 2,
    "start_time": "2022-02-05T18:49:49.981Z"
   },
   {
    "duration": 319,
    "start_time": "2022-02-05T18:49:49.985Z"
   },
   {
    "duration": 389,
    "start_time": "2022-02-05T18:49:50.306Z"
   },
   {
    "duration": 224,
    "start_time": "2022-02-05T18:49:50.696Z"
   },
   {
    "duration": 1275,
    "start_time": "2022-02-05T18:49:50.922Z"
   },
   {
    "duration": 12,
    "start_time": "2022-02-05T18:49:52.199Z"
   },
   {
    "duration": 67,
    "start_time": "2022-02-05T18:49:52.213Z"
   },
   {
    "duration": 5,
    "start_time": "2022-02-05T18:49:52.281Z"
   },
   {
    "duration": 167,
    "start_time": "2022-02-05T18:49:52.287Z"
   },
   {
    "duration": 2,
    "start_time": "2022-02-05T18:49:52.455Z"
   },
   {
    "duration": 2,
    "start_time": "2022-02-05T18:49:52.472Z"
   },
   {
    "duration": 282,
    "start_time": "2022-02-05T18:49:52.475Z"
   },
   {
    "duration": 167,
    "start_time": "2022-02-05T18:49:52.759Z"
   },
   {
    "duration": 133,
    "start_time": "2022-02-05T18:49:52.928Z"
   },
   {
    "duration": 34,
    "start_time": "2022-02-05T18:49:53.063Z"
   },
   {
    "duration": 8,
    "start_time": "2022-02-05T18:49:53.099Z"
   },
   {
    "duration": 6,
    "start_time": "2022-02-05T18:49:53.109Z"
   },
   {
    "duration": 6,
    "start_time": "2022-02-05T18:49:53.116Z"
   },
   {
    "duration": 50,
    "start_time": "2022-02-05T18:49:53.123Z"
   },
   {
    "duration": 4,
    "start_time": "2022-02-05T18:49:53.175Z"
   },
   {
    "duration": 13,
    "start_time": "2022-02-05T18:49:53.181Z"
   },
   {
    "duration": 26,
    "start_time": "2022-02-05T18:49:53.198Z"
   },
   {
    "duration": 56,
    "start_time": "2022-02-05T18:49:53.227Z"
   },
   {
    "duration": 16,
    "start_time": "2022-02-05T18:49:53.285Z"
   },
   {
    "duration": 4,
    "start_time": "2022-02-05T18:49:53.303Z"
   },
   {
    "duration": 6,
    "start_time": "2022-02-05T18:49:53.309Z"
   },
   {
    "duration": 6,
    "start_time": "2022-02-05T18:49:53.316Z"
   },
   {
    "duration": 21,
    "start_time": "2022-02-05T18:49:53.323Z"
   },
   {
    "duration": 38,
    "start_time": "2022-02-05T18:49:53.345Z"
   },
   {
    "duration": 16,
    "start_time": "2022-02-05T18:49:53.385Z"
   },
   {
    "duration": 2,
    "start_time": "2022-02-05T18:49:53.402Z"
   },
   {
    "duration": 28,
    "start_time": "2022-02-05T18:49:53.406Z"
   },
   {
    "duration": 51,
    "start_time": "2022-02-05T18:49:53.436Z"
   },
   {
    "duration": 18,
    "start_time": "2022-02-05T18:49:53.488Z"
   },
   {
    "duration": 27,
    "start_time": "2022-02-05T18:49:53.508Z"
   },
   {
    "duration": 4,
    "start_time": "2022-02-05T18:49:53.536Z"
   },
   {
    "duration": 31,
    "start_time": "2022-02-05T18:49:53.541Z"
   },
   {
    "duration": 6,
    "start_time": "2022-02-05T18:49:53.573Z"
   },
   {
    "duration": 481,
    "start_time": "2022-02-05T18:49:53.581Z"
   },
   {
    "duration": 8,
    "start_time": "2022-02-05T18:49:54.063Z"
   },
   {
    "duration": 4,
    "start_time": "2022-02-05T18:49:54.072Z"
   },
   {
    "duration": 12,
    "start_time": "2022-02-05T18:49:54.077Z"
   },
   {
    "duration": 322,
    "start_time": "2022-02-05T18:49:54.090Z"
   },
   {
    "duration": 13,
    "start_time": "2022-02-05T18:49:54.413Z"
   },
   {
    "duration": 45,
    "start_time": "2022-02-05T18:49:54.427Z"
   },
   {
    "duration": 3,
    "start_time": "2022-02-05T18:49:54.473Z"
   },
   {
    "duration": 23,
    "start_time": "2022-02-05T18:49:54.477Z"
   },
   {
    "duration": 22,
    "start_time": "2022-02-05T18:49:54.501Z"
   },
   {
    "duration": 66,
    "start_time": "2022-02-05T18:49:54.524Z"
   },
   {
    "duration": 4,
    "start_time": "2022-02-05T18:49:54.592Z"
   },
   {
    "duration": 6,
    "start_time": "2022-02-05T18:49:54.598Z"
   },
   {
    "duration": 30,
    "start_time": "2022-02-05T18:49:54.606Z"
   },
   {
    "duration": 57,
    "start_time": "2022-02-05T18:49:54.638Z"
   },
   {
    "duration": 31,
    "start_time": "2022-02-05T18:49:54.696Z"
   },
   {
    "duration": 5,
    "start_time": "2022-02-05T18:49:54.728Z"
   },
   {
    "duration": 37,
    "start_time": "2022-02-05T18:49:54.735Z"
   },
   {
    "duration": 6,
    "start_time": "2022-02-05T18:49:54.774Z"
   },
   {
    "duration": 6,
    "start_time": "2022-02-05T18:49:54.782Z"
   },
   {
    "duration": 1429,
    "start_time": "2022-02-05T18:49:54.790Z"
   },
   {
    "duration": 305,
    "start_time": "2022-02-05T18:49:56.221Z"
   },
   {
    "duration": 350,
    "start_time": "2022-02-05T18:49:56.528Z"
   },
   {
    "duration": 341,
    "start_time": "2022-02-05T18:49:56.880Z"
   },
   {
    "duration": 319,
    "start_time": "2022-02-05T18:49:57.223Z"
   },
   {
    "duration": 302,
    "start_time": "2022-02-05T18:49:57.544Z"
   },
   {
    "duration": 292,
    "start_time": "2022-02-05T18:49:57.848Z"
   },
   {
    "duration": 383,
    "start_time": "2022-02-05T18:49:58.142Z"
   },
   {
    "duration": 6,
    "start_time": "2022-02-05T18:49:58.529Z"
   },
   {
    "duration": 5,
    "start_time": "2022-02-05T18:49:58.537Z"
   },
   {
    "duration": 29,
    "start_time": "2022-02-05T18:49:58.543Z"
   },
   {
    "duration": 5,
    "start_time": "2022-02-05T18:49:58.574Z"
   },
   {
    "duration": 22,
    "start_time": "2022-02-05T18:49:58.580Z"
   },
   {
    "duration": 21,
    "start_time": "2022-02-05T18:49:58.603Z"
   },
   {
    "duration": 5,
    "start_time": "2022-02-05T18:49:58.625Z"
   },
   {
    "duration": 45,
    "start_time": "2022-02-05T18:49:58.631Z"
   },
   {
    "duration": 5,
    "start_time": "2022-02-05T18:49:58.678Z"
   },
   {
    "duration": 8,
    "start_time": "2022-02-05T18:49:58.684Z"
   },
   {
    "duration": 4,
    "start_time": "2022-02-05T18:49:58.694Z"
   },
   {
    "duration": 7,
    "start_time": "2022-02-05T18:49:58.700Z"
   },
   {
    "duration": 365,
    "start_time": "2022-02-05T18:49:58.709Z"
   },
   {
    "duration": 338,
    "start_time": "2022-02-05T18:49:59.076Z"
   },
   {
    "duration": 8,
    "start_time": "2022-02-05T18:49:59.415Z"
   },
   {
    "duration": 5,
    "start_time": "2022-02-05T18:49:59.424Z"
   },
   {
    "duration": 1064,
    "start_time": "2022-02-05T18:51:47.716Z"
   },
   {
    "duration": 3,
    "start_time": "2022-02-05T18:51:48.782Z"
   },
   {
    "duration": 325,
    "start_time": "2022-02-05T18:51:48.788Z"
   },
   {
    "duration": 272,
    "start_time": "2022-02-05T18:51:49.114Z"
   },
   {
    "duration": 224,
    "start_time": "2022-02-05T18:51:49.388Z"
   },
   {
    "duration": 63,
    "start_time": "2022-02-05T18:51:49.614Z"
   },
   {
    "duration": 11,
    "start_time": "2022-02-05T18:51:49.679Z"
   },
   {
    "duration": 73,
    "start_time": "2022-02-05T18:51:49.692Z"
   },
   {
    "duration": 5,
    "start_time": "2022-02-05T18:51:49.767Z"
   },
   {
    "duration": 169,
    "start_time": "2022-02-05T18:51:49.774Z"
   },
   {
    "duration": 2,
    "start_time": "2022-02-05T18:51:49.945Z"
   },
   {
    "duration": 23,
    "start_time": "2022-02-05T18:51:49.949Z"
   },
   {
    "duration": 371,
    "start_time": "2022-02-05T18:51:49.973Z"
   },
   {
    "duration": 144,
    "start_time": "2022-02-05T18:51:50.345Z"
   },
   {
    "duration": 119,
    "start_time": "2022-02-05T18:51:50.491Z"
   },
   {
    "duration": 27,
    "start_time": "2022-02-05T18:51:50.612Z"
   },
   {
    "duration": 31,
    "start_time": "2022-02-05T18:51:50.641Z"
   },
   {
    "duration": 6,
    "start_time": "2022-02-05T18:51:50.673Z"
   },
   {
    "duration": 16,
    "start_time": "2022-02-05T18:51:50.680Z"
   },
   {
    "duration": 5,
    "start_time": "2022-02-05T18:51:50.697Z"
   },
   {
    "duration": 4,
    "start_time": "2022-02-05T18:51:50.704Z"
   },
   {
    "duration": 11,
    "start_time": "2022-02-05T18:51:50.710Z"
   },
   {
    "duration": 66,
    "start_time": "2022-02-05T18:51:50.722Z"
   },
   {
    "duration": 21,
    "start_time": "2022-02-05T18:51:50.789Z"
   },
   {
    "duration": 17,
    "start_time": "2022-02-05T18:51:50.811Z"
   },
   {
    "duration": 4,
    "start_time": "2022-02-05T18:51:50.829Z"
   },
   {
    "duration": 3,
    "start_time": "2022-02-05T18:51:50.838Z"
   },
   {
    "duration": 27,
    "start_time": "2022-02-05T18:51:50.844Z"
   },
   {
    "duration": 20,
    "start_time": "2022-02-05T18:51:50.873Z"
   },
   {
    "duration": 13,
    "start_time": "2022-02-05T18:51:50.895Z"
   },
   {
    "duration": 17,
    "start_time": "2022-02-05T18:51:50.910Z"
   },
   {
    "duration": 2,
    "start_time": "2022-02-05T18:51:50.929Z"
   },
   {
    "duration": 61,
    "start_time": "2022-02-05T18:51:50.933Z"
   },
   {
    "duration": 20,
    "start_time": "2022-02-05T18:51:50.996Z"
   },
   {
    "duration": 20,
    "start_time": "2022-02-05T18:51:51.018Z"
   },
   {
    "duration": 30,
    "start_time": "2022-02-05T18:51:51.071Z"
   },
   {
    "duration": 4,
    "start_time": "2022-02-05T18:51:51.103Z"
   },
   {
    "duration": 4,
    "start_time": "2022-02-05T18:51:51.109Z"
   },
   {
    "duration": 7,
    "start_time": "2022-02-05T18:51:51.115Z"
   },
   {
    "duration": 524,
    "start_time": "2022-02-05T18:51:51.124Z"
   },
   {
    "duration": 8,
    "start_time": "2022-02-05T18:51:51.650Z"
   },
   {
    "duration": 10,
    "start_time": "2022-02-05T18:51:51.660Z"
   },
   {
    "duration": 19,
    "start_time": "2022-02-05T18:51:51.672Z"
   },
   {
    "duration": 294,
    "start_time": "2022-02-05T18:51:51.693Z"
   },
   {
    "duration": 12,
    "start_time": "2022-02-05T18:51:51.989Z"
   },
   {
    "duration": 36,
    "start_time": "2022-02-05T18:51:52.003Z"
   },
   {
    "duration": 3,
    "start_time": "2022-02-05T18:51:52.040Z"
   },
   {
    "duration": 44,
    "start_time": "2022-02-05T18:51:52.044Z"
   },
   {
    "duration": 20,
    "start_time": "2022-02-05T18:51:52.089Z"
   },
   {
    "duration": 38,
    "start_time": "2022-02-05T18:51:52.111Z"
   },
   {
    "duration": 23,
    "start_time": "2022-02-05T18:51:52.151Z"
   },
   {
    "duration": 18,
    "start_time": "2022-02-05T18:51:52.176Z"
   },
   {
    "duration": 36,
    "start_time": "2022-02-05T18:51:52.195Z"
   },
   {
    "duration": 39,
    "start_time": "2022-02-05T18:51:52.233Z"
   },
   {
    "duration": 30,
    "start_time": "2022-02-05T18:51:52.274Z"
   },
   {
    "duration": 4,
    "start_time": "2022-02-05T18:51:52.305Z"
   },
   {
    "duration": 29,
    "start_time": "2022-02-05T18:51:52.311Z"
   },
   {
    "duration": 20,
    "start_time": "2022-02-05T18:51:52.342Z"
   },
   {
    "duration": 19,
    "start_time": "2022-02-05T18:51:52.363Z"
   },
   {
    "duration": 1395,
    "start_time": "2022-02-05T18:51:52.383Z"
   },
   {
    "duration": 304,
    "start_time": "2022-02-05T18:51:53.780Z"
   },
   {
    "duration": 331,
    "start_time": "2022-02-05T18:51:54.086Z"
   },
   {
    "duration": 336,
    "start_time": "2022-02-05T18:51:54.418Z"
   },
   {
    "duration": 331,
    "start_time": "2022-02-05T18:51:54.756Z"
   },
   {
    "duration": 302,
    "start_time": "2022-02-05T18:51:55.088Z"
   },
   {
    "duration": 297,
    "start_time": "2022-02-05T18:51:55.391Z"
   },
   {
    "duration": 400,
    "start_time": "2022-02-05T18:51:55.690Z"
   },
   {
    "duration": 5,
    "start_time": "2022-02-05T18:51:56.092Z"
   },
   {
    "duration": 5,
    "start_time": "2022-02-05T18:51:56.099Z"
   },
   {
    "duration": 8,
    "start_time": "2022-02-05T18:51:56.105Z"
   },
   {
    "duration": 5,
    "start_time": "2022-02-05T18:51:56.115Z"
   },
   {
    "duration": 64,
    "start_time": "2022-02-05T18:51:56.121Z"
   },
   {
    "duration": 21,
    "start_time": "2022-02-05T18:51:56.187Z"
   },
   {
    "duration": 6,
    "start_time": "2022-02-05T18:51:56.210Z"
   },
   {
    "duration": 6,
    "start_time": "2022-02-05T18:51:56.218Z"
   },
   {
    "duration": 4,
    "start_time": "2022-02-05T18:51:56.226Z"
   },
   {
    "duration": 6,
    "start_time": "2022-02-05T18:51:56.272Z"
   },
   {
    "duration": 5,
    "start_time": "2022-02-05T18:51:56.279Z"
   },
   {
    "duration": 4,
    "start_time": "2022-02-05T18:51:56.285Z"
   },
   {
    "duration": 376,
    "start_time": "2022-02-05T18:51:56.290Z"
   },
   {
    "duration": 336,
    "start_time": "2022-02-05T18:51:56.673Z"
   },
   {
    "duration": 7,
    "start_time": "2022-02-05T18:51:57.011Z"
   },
   {
    "duration": 5,
    "start_time": "2022-02-05T18:51:57.020Z"
   },
   {
    "duration": 1229,
    "start_time": "2022-02-05T19:13:39.247Z"
   },
   {
    "duration": 2,
    "start_time": "2022-02-05T19:13:40.477Z"
   },
   {
    "duration": 698,
    "start_time": "2022-02-05T19:13:40.481Z"
   },
   {
    "duration": 265,
    "start_time": "2022-02-05T19:13:41.181Z"
   },
   {
    "duration": 236,
    "start_time": "2022-02-05T19:13:41.448Z"
   },
   {
    "duration": 59,
    "start_time": "2022-02-05T19:13:41.686Z"
   },
   {
    "duration": 11,
    "start_time": "2022-02-05T19:13:41.747Z"
   },
   {
    "duration": 123,
    "start_time": "2022-02-05T19:13:41.760Z"
   },
   {
    "duration": 6,
    "start_time": "2022-02-05T19:13:41.886Z"
   },
   {
    "duration": 183,
    "start_time": "2022-02-05T19:13:41.894Z"
   },
   {
    "duration": 3,
    "start_time": "2022-02-05T19:13:42.079Z"
   },
   {
    "duration": 3,
    "start_time": "2022-02-05T19:13:42.084Z"
   },
   {
    "duration": 278,
    "start_time": "2022-02-05T19:13:42.089Z"
   },
   {
    "duration": 140,
    "start_time": "2022-02-05T19:13:42.369Z"
   },
   {
    "duration": 125,
    "start_time": "2022-02-05T19:13:42.511Z"
   },
   {
    "duration": 44,
    "start_time": "2022-02-05T19:13:42.638Z"
   },
   {
    "duration": 8,
    "start_time": "2022-02-05T19:13:42.684Z"
   },
   {
    "duration": 7,
    "start_time": "2022-02-05T19:13:42.694Z"
   },
   {
    "duration": 7,
    "start_time": "2022-02-05T19:13:42.703Z"
   },
   {
    "duration": 5,
    "start_time": "2022-02-05T19:13:42.712Z"
   },
   {
    "duration": 4,
    "start_time": "2022-02-05T19:13:42.719Z"
   },
   {
    "duration": 12,
    "start_time": "2022-02-05T19:13:42.772Z"
   },
   {
    "duration": 26,
    "start_time": "2022-02-05T19:13:42.785Z"
   },
   {
    "duration": 20,
    "start_time": "2022-02-05T19:13:42.813Z"
   },
   {
    "duration": 50,
    "start_time": "2022-02-05T19:13:42.835Z"
   },
   {
    "duration": 4,
    "start_time": "2022-02-05T19:13:42.887Z"
   },
   {
    "duration": 4,
    "start_time": "2022-02-05T19:13:42.896Z"
   },
   {
    "duration": 6,
    "start_time": "2022-02-05T19:13:42.902Z"
   },
   {
    "duration": 22,
    "start_time": "2022-02-05T19:13:42.909Z"
   },
   {
    "duration": 42,
    "start_time": "2022-02-05T19:13:42.932Z"
   },
   {
    "duration": 15,
    "start_time": "2022-02-05T19:13:42.976Z"
   },
   {
    "duration": 2,
    "start_time": "2022-02-05T19:13:42.993Z"
   },
   {
    "duration": 28,
    "start_time": "2022-02-05T19:13:42.996Z"
   },
   {
    "duration": 57,
    "start_time": "2022-02-05T19:13:43.026Z"
   },
   {
    "duration": 20,
    "start_time": "2022-02-05T19:13:43.084Z"
   },
   {
    "duration": 26,
    "start_time": "2022-02-05T19:13:43.106Z"
   },
   {
    "duration": 3,
    "start_time": "2022-02-05T19:13:43.134Z"
   },
   {
    "duration": 35,
    "start_time": "2022-02-05T19:13:43.139Z"
   },
   {
    "duration": 7,
    "start_time": "2022-02-05T19:13:43.175Z"
   },
   {
    "duration": 418,
    "start_time": "2022-02-05T19:13:43.184Z"
   },
   {
    "duration": 9,
    "start_time": "2022-02-05T19:13:43.604Z"
   },
   {
    "duration": 5,
    "start_time": "2022-02-05T19:13:43.614Z"
   },
   {
    "duration": 9,
    "start_time": "2022-02-05T19:13:43.620Z"
   },
   {
    "duration": 318,
    "start_time": "2022-02-05T19:13:43.631Z"
   },
   {
    "duration": 22,
    "start_time": "2022-02-05T19:13:43.950Z"
   },
   {
    "duration": 29,
    "start_time": "2022-02-05T19:13:43.973Z"
   },
   {
    "duration": 2,
    "start_time": "2022-02-05T19:13:44.003Z"
   },
   {
    "duration": 23,
    "start_time": "2022-02-05T19:13:44.007Z"
   },
   {
    "duration": 55,
    "start_time": "2022-02-05T19:13:44.032Z"
   },
   {
    "duration": 40,
    "start_time": "2022-02-05T19:13:44.088Z"
   },
   {
    "duration": 5,
    "start_time": "2022-02-05T19:13:44.129Z"
   },
   {
    "duration": 6,
    "start_time": "2022-02-05T19:13:44.135Z"
   },
   {
    "duration": 58,
    "start_time": "2022-02-05T19:13:44.142Z"
   },
   {
    "duration": 30,
    "start_time": "2022-02-05T19:13:44.202Z"
   },
   {
    "duration": 57,
    "start_time": "2022-02-05T19:13:44.233Z"
   },
   {
    "duration": 5,
    "start_time": "2022-02-05T19:13:44.291Z"
   },
   {
    "duration": 7,
    "start_time": "2022-02-05T19:13:44.297Z"
   },
   {
    "duration": 6,
    "start_time": "2022-02-05T19:13:44.306Z"
   },
   {
    "duration": 5,
    "start_time": "2022-02-05T19:13:44.313Z"
   },
   {
    "duration": 1504,
    "start_time": "2022-02-05T19:13:44.319Z"
   },
   {
    "duration": 315,
    "start_time": "2022-02-05T19:13:45.825Z"
   },
   {
    "duration": 542,
    "start_time": "2022-02-05T19:13:46.141Z"
   },
   {
    "duration": 348,
    "start_time": "2022-02-05T19:13:46.684Z"
   },
   {
    "duration": 329,
    "start_time": "2022-02-05T19:13:47.033Z"
   },
   {
    "duration": 308,
    "start_time": "2022-02-05T19:13:47.364Z"
   },
   {
    "duration": 316,
    "start_time": "2022-02-05T19:13:47.673Z"
   },
   {
    "duration": 404,
    "start_time": "2022-02-05T19:13:47.991Z"
   },
   {
    "duration": 6,
    "start_time": "2022-02-05T19:13:48.397Z"
   },
   {
    "duration": 6,
    "start_time": "2022-02-05T19:13:48.404Z"
   },
   {
    "duration": 7,
    "start_time": "2022-02-05T19:13:48.411Z"
   },
   {
    "duration": 4,
    "start_time": "2022-02-05T19:13:48.420Z"
   },
   {
    "duration": 60,
    "start_time": "2022-02-05T19:13:48.426Z"
   },
   {
    "duration": 22,
    "start_time": "2022-02-05T19:13:48.488Z"
   },
   {
    "duration": 5,
    "start_time": "2022-02-05T19:13:48.512Z"
   },
   {
    "duration": 9,
    "start_time": "2022-02-05T19:13:48.519Z"
   },
   {
    "duration": 42,
    "start_time": "2022-02-05T19:13:48.530Z"
   },
   {
    "duration": 6,
    "start_time": "2022-02-05T19:13:48.574Z"
   },
   {
    "duration": 4,
    "start_time": "2022-02-05T19:13:48.581Z"
   },
   {
    "duration": 7,
    "start_time": "2022-02-05T19:13:48.586Z"
   },
   {
    "duration": 366,
    "start_time": "2022-02-05T19:13:48.594Z"
   },
   {
    "duration": 335,
    "start_time": "2022-02-05T19:13:48.973Z"
   },
   {
    "duration": 7,
    "start_time": "2022-02-05T19:13:49.310Z"
   },
   {
    "duration": 5,
    "start_time": "2022-02-05T19:13:49.319Z"
   },
   {
    "duration": 84,
    "start_time": "2022-02-05T19:13:49.325Z"
   },
   {
    "duration": 5,
    "start_time": "2022-02-05T19:20:10.171Z"
   },
   {
    "duration": 5,
    "start_time": "2022-02-05T19:20:15.665Z"
   },
   {
    "duration": 5,
    "start_time": "2022-02-05T19:46:34.337Z"
   },
   {
    "duration": 4,
    "start_time": "2022-02-05T19:46:44.913Z"
   },
   {
    "duration": 8,
    "start_time": "2022-02-05T19:48:11.953Z"
   },
   {
    "duration": 6,
    "start_time": "2022-02-05T19:48:19.309Z"
   },
   {
    "duration": 1136,
    "start_time": "2022-02-05T20:17:10.246Z"
   },
   {
    "duration": 4,
    "start_time": "2022-02-05T20:17:11.384Z"
   },
   {
    "duration": 421,
    "start_time": "2022-02-05T20:17:11.389Z"
   },
   {
    "duration": 996,
    "start_time": "2022-02-05T20:17:11.812Z"
   },
   {
    "duration": 203,
    "start_time": "2022-02-05T20:17:12.810Z"
   },
   {
    "duration": 91,
    "start_time": "2022-02-05T20:17:13.015Z"
   },
   {
    "duration": 11,
    "start_time": "2022-02-05T20:17:13.108Z"
   },
   {
    "duration": 106,
    "start_time": "2022-02-05T20:17:13.121Z"
   },
   {
    "duration": 5,
    "start_time": "2022-02-05T20:17:13.230Z"
   },
   {
    "duration": 197,
    "start_time": "2022-02-05T20:17:13.238Z"
   },
   {
    "duration": 3,
    "start_time": "2022-02-05T20:17:13.437Z"
   },
   {
    "duration": 5,
    "start_time": "2022-02-05T20:17:13.441Z"
   },
   {
    "duration": 250,
    "start_time": "2022-02-05T20:17:13.448Z"
   },
   {
    "duration": 150,
    "start_time": "2022-02-05T20:17:13.700Z"
   },
   {
    "duration": 122,
    "start_time": "2022-02-05T20:17:13.852Z"
   },
   {
    "duration": 25,
    "start_time": "2022-02-05T20:17:13.976Z"
   },
   {
    "duration": 9,
    "start_time": "2022-02-05T20:17:14.003Z"
   },
   {
    "duration": 7,
    "start_time": "2022-02-05T20:17:14.014Z"
   },
   {
    "duration": 7,
    "start_time": "2022-02-05T20:17:14.023Z"
   },
   {
    "duration": 5,
    "start_time": "2022-02-05T20:17:14.072Z"
   },
   {
    "duration": 4,
    "start_time": "2022-02-05T20:17:14.079Z"
   },
   {
    "duration": 11,
    "start_time": "2022-02-05T20:17:14.085Z"
   },
   {
    "duration": 75,
    "start_time": "2022-02-05T20:17:14.097Z"
   },
   {
    "duration": 21,
    "start_time": "2022-02-05T20:17:14.173Z"
   },
   {
    "duration": 17,
    "start_time": "2022-02-05T20:17:14.195Z"
   },
   {
    "duration": 4,
    "start_time": "2022-02-05T20:17:14.213Z"
   },
   {
    "duration": 4,
    "start_time": "2022-02-05T20:17:14.222Z"
   },
   {
    "duration": 45,
    "start_time": "2022-02-05T20:17:14.228Z"
   },
   {
    "duration": 22,
    "start_time": "2022-02-05T20:17:14.275Z"
   },
   {
    "duration": 14,
    "start_time": "2022-02-05T20:17:14.298Z"
   },
   {
    "duration": 16,
    "start_time": "2022-02-05T20:17:14.313Z"
   },
   {
    "duration": 2,
    "start_time": "2022-02-05T20:17:14.330Z"
   },
   {
    "duration": 59,
    "start_time": "2022-02-05T20:17:14.333Z"
   },
   {
    "duration": 21,
    "start_time": "2022-02-05T20:17:14.394Z"
   },
   {
    "duration": 55,
    "start_time": "2022-02-05T20:17:14.417Z"
   },
   {
    "duration": 31,
    "start_time": "2022-02-05T20:17:14.474Z"
   },
   {
    "duration": 5,
    "start_time": "2022-02-05T20:17:14.507Z"
   },
   {
    "duration": 5,
    "start_time": "2022-02-05T20:17:14.514Z"
   },
   {
    "duration": 7,
    "start_time": "2022-02-05T20:17:14.521Z"
   },
   {
    "duration": 476,
    "start_time": "2022-02-05T20:17:14.530Z"
   },
   {
    "duration": 9,
    "start_time": "2022-02-05T20:17:15.008Z"
   },
   {
    "duration": 5,
    "start_time": "2022-02-05T20:17:15.018Z"
   },
   {
    "duration": 9,
    "start_time": "2022-02-05T20:17:15.025Z"
   },
   {
    "duration": 317,
    "start_time": "2022-02-05T20:17:15.036Z"
   },
   {
    "duration": 17,
    "start_time": "2022-02-05T20:17:15.355Z"
   },
   {
    "duration": 26,
    "start_time": "2022-02-05T20:17:15.374Z"
   },
   {
    "duration": 3,
    "start_time": "2022-02-05T20:17:15.401Z"
   },
   {
    "duration": 22,
    "start_time": "2022-02-05T20:17:15.405Z"
   },
   {
    "duration": 55,
    "start_time": "2022-02-05T20:17:15.428Z"
   },
   {
    "duration": 39,
    "start_time": "2022-02-05T20:17:15.484Z"
   },
   {
    "duration": 5,
    "start_time": "2022-02-05T20:17:15.524Z"
   },
   {
    "duration": 5,
    "start_time": "2022-02-05T20:17:15.531Z"
   },
   {
    "duration": 61,
    "start_time": "2022-02-05T20:17:15.538Z"
   },
   {
    "duration": 32,
    "start_time": "2022-02-05T20:17:15.601Z"
   },
   {
    "duration": 56,
    "start_time": "2022-02-05T20:17:15.634Z"
   },
   {
    "duration": 4,
    "start_time": "2022-02-05T20:17:15.692Z"
   },
   {
    "duration": 5,
    "start_time": "2022-02-05T20:17:15.697Z"
   },
   {
    "duration": 5,
    "start_time": "2022-02-05T20:17:15.704Z"
   },
   {
    "duration": 5,
    "start_time": "2022-02-05T20:17:15.711Z"
   },
   {
    "duration": 1503,
    "start_time": "2022-02-05T20:17:15.717Z"
   },
   {
    "duration": 315,
    "start_time": "2022-02-05T20:17:17.222Z"
   },
   {
    "duration": 341,
    "start_time": "2022-02-05T20:17:17.539Z"
   },
   {
    "duration": 335,
    "start_time": "2022-02-05T20:17:17.882Z"
   },
   {
    "duration": 320,
    "start_time": "2022-02-05T20:17:18.219Z"
   },
   {
    "duration": 302,
    "start_time": "2022-02-05T20:17:18.540Z"
   },
   {
    "duration": 306,
    "start_time": "2022-02-05T20:17:18.844Z"
   },
   {
    "duration": 397,
    "start_time": "2022-02-05T20:17:19.152Z"
   },
   {
    "duration": 7,
    "start_time": "2022-02-05T20:17:19.551Z"
   },
   {
    "duration": 16,
    "start_time": "2022-02-05T20:17:19.560Z"
   },
   {
    "duration": 9,
    "start_time": "2022-02-05T20:17:19.579Z"
   },
   {
    "duration": 4,
    "start_time": "2022-02-05T20:17:19.590Z"
   },
   {
    "duration": 25,
    "start_time": "2022-02-05T20:17:19.596Z"
   },
   {
    "duration": 68,
    "start_time": "2022-02-05T20:17:19.623Z"
   },
   {
    "duration": 6,
    "start_time": "2022-02-05T20:17:19.693Z"
   },
   {
    "duration": 6,
    "start_time": "2022-02-05T20:17:19.701Z"
   },
   {
    "duration": 6,
    "start_time": "2022-02-05T20:17:19.709Z"
   },
   {
    "duration": 55,
    "start_time": "2022-02-05T20:17:19.717Z"
   },
   {
    "duration": 3,
    "start_time": "2022-02-05T20:17:19.774Z"
   },
   {
    "duration": 5,
    "start_time": "2022-02-05T20:17:19.779Z"
   },
   {
    "duration": 353,
    "start_time": "2022-02-05T20:17:19.785Z"
   },
   {
    "duration": 348,
    "start_time": "2022-02-05T20:17:20.145Z"
   },
   {
    "duration": 10,
    "start_time": "2022-02-05T20:17:20.495Z"
   },
   {
    "duration": 5,
    "start_time": "2022-02-05T20:17:20.507Z"
   },
   {
    "duration": 9,
    "start_time": "2022-02-05T20:17:20.514Z"
   },
   {
    "duration": 7,
    "start_time": "2022-02-05T20:17:20.524Z"
   }
  ],
  "kernelspec": {
   "display_name": "Python 3",
   "language": "python",
   "name": "python3"
  },
  "language_info": {
   "codemirror_mode": {
    "name": "ipython",
    "version": 3
   },
   "file_extension": ".py",
   "mimetype": "text/x-python",
   "name": "python",
   "nbconvert_exporter": "python",
   "pygments_lexer": "ipython3",
   "version": "3.8.8"
  },
  "toc": {
   "base_numbering": 1,
   "nav_menu": {},
   "number_sections": true,
   "sideBar": true,
   "skip_h1_title": true,
   "title_cell": "Table of Contents",
   "title_sidebar": "Contents",
   "toc_cell": false,
   "toc_position": {},
   "toc_section_display": true,
   "toc_window_display": false
  }
 },
 "nbformat": 4,
 "nbformat_minor": 2
}
